{
 "cells": [
  {
   "cell_type": "code",
   "execution_count": 1,
   "metadata": {
    "code_folding": []
   },
   "outputs": [],
   "source": [
    "from SeismicReduction import *"
   ]
  },
  {
   "cell_type": "markdown",
   "metadata": {},
   "source": [
    "### 1. Load data"
   ]
  },
  {
   "cell_type": "code",
   "execution_count": null,
   "metadata": {},
   "outputs": [
    {
     "name": "stdout",
     "output_type": "stream",
     "text": [
      "SegyPY0.57:  readSegy : Trying to read ../data/3d_nearstack.sgy\n",
      "SegyPY0.57:  getSegyHeader : succesfully read ../data/3d_nearstack.sgy\n",
      "SegyPY0.57:  filesize=31438840\n",
      "SegyPY0.57:  bps=    4\n",
      "SegyPY0.57:  nd=7858810\n",
      "SegyPY0.57:  readSegyData : Reading segy data\n",
      "SegyPY0.57:  readSegyData : SEG-Y revision = 0\n",
      "SegyPY0.57:  readSegyData : DataSampleFormat=1(IBM Float)\n",
      "SegyPY0.57:   ns=250\n",
      "SegyPY0.57:  readSegyData : Finished reading segy data\n",
      "SegyPY0.57:  readSegy : Trying to read ../data/3d_farstack.sgy\n",
      "SegyPY0.57:  getSegyHeader : succesfully read ../data/3d_farstack.sgy\n",
      "SegyPY0.57:  filesize=31438840\n",
      "SegyPY0.57:  bps=    4\n",
      "SegyPY0.57:  nd=7858810\n",
      "SegyPY0.57:  readSegyData : Reading segy data\n",
      "SegyPY0.57:  readSegyData : SEG-Y revision = 0\n",
      "SegyPY0.57:  readSegyData : DataSampleFormat=1(IBM Float)\n"
     ]
    }
   ],
   "source": [
    "## Client loader\n",
    "set_seed(42)\n",
    "dataholder = DataHolder(\"Glitne\", [1300, 1502, 2], [1500, 2002, 2])\n",
    "dataholder.add_near('../data/3d_nearstack.sgy');\n",
    "dataholder.add_far('../data/3d_farstack.sgy');\n",
    "dataholder.add_horizon('../data/Top_Heimdal_subset.txt')"
   ]
  },
  {
   "cell_type": "markdown",
   "metadata": {},
   "source": [
    "### 2. Create processor and create or 'process' a model input"
   ]
  },
  {
   "cell_type": "code",
   "execution_count": null,
   "metadata": {},
   "outputs": [],
   "source": [
    "### Processor\n",
    "processor = Processor(dataholder)\n",
    "input1 = processor(flatten=[False, 12, 52], crop=[True, 120, 200], normalise=True)"
   ]
  },
  {
   "cell_type": "markdown",
   "metadata": {},
   "source": [
    "### 3. Run on the selection of models with .reduce() and .to_2d()"
   ]
  },
  {
   "cell_type": "code",
   "execution_count": null,
   "metadata": {},
   "outputs": [],
   "source": [
    "## PCA\n",
    "pca = PcaModel(input1)\n",
    "pca.reduce(2)\n",
    "pca.to_2d(umap_neighbours=5, umap_dist=0.01, verbose=False)"
   ]
  },
  {
   "cell_type": "code",
   "execution_count": null,
   "metadata": {},
   "outputs": [],
   "source": [
    "## UMAP\n",
    "umap = UmapModel(input1)\n",
    "umap.reduce(umap_neighbours=50, umap_dist=0.01)"
   ]
  },
  {
   "cell_type": "code",
   "execution_count": null,
   "metadata": {},
   "outputs": [],
   "source": [
    "## vae\n",
    "vae = VaeModel(input1)\n",
    "vae.reduce(epochs=3, hidden_size=2, lr=0.01, plot_loss=True)\n",
    "vae.to_2d(20, 0.1)"
   ]
  },
  {
   "cell_type": "code",
   "execution_count": null,
   "metadata": {},
   "outputs": [],
   "source": [
    "## bvae\n",
    "bvae = BVaeModel(input1)\n",
    "bvae.reduce(epochs=3, hidden_size=2, lr=0.01, beta=3, plot_loss=True)\n",
    "bvae.to_2d(30, 0.01)"
   ]
  },
  {
   "cell_type": "code",
   "execution_count": null,
   "metadata": {
    "scrolled": false
   },
   "outputs": [],
   "source": [
    "plot_agent(pca)\n",
    "plot_agent(umap)\n",
    "plot_agent(vae)\n",
    "plot_agent(bvae)"
   ]
  },
  {
   "cell_type": "code",
   "execution_count": null,
   "metadata": {},
   "outputs": [],
   "source": []
  },
  {
   "cell_type": "markdown",
   "metadata": {},
   "source": [
    "#### Load a previously trained model into a VaeModel object\n",
    "\n",
    "#### - Data input dimension must match that at which the model was trained on!"
   ]
  },
  {
   "cell_type": "code",
   "execution_count": null,
   "metadata": {},
   "outputs": [],
   "source": [
    "loadedModel = VaeModel(input1) # initialise model object\n",
    "loadedModel.load_nn('../saved_nn/vae1') # load the VAE nn"
   ]
  },
  {
   "cell_type": "markdown",
   "metadata": {},
   "source": [
    "#### Run data through the loaded VAE NN with .reduce() as normal (no training will occur)"
   ]
  },
  {
   "cell_type": "code",
   "execution_count": null,
   "metadata": {},
   "outputs": [],
   "source": [
    "loadedModel.reduce() "
   ]
  },
  {
   "cell_type": "markdown",
   "metadata": {},
   "source": [
    "#### Run .to_2d() to convert data to 2 dimensions"
   ]
  },
  {
   "cell_type": "code",
   "execution_count": null,
   "metadata": {},
   "outputs": [],
   "source": [
    "loadedModel.to_2d()"
   ]
  },
  {
   "cell_type": "code",
   "execution_count": null,
   "metadata": {},
   "outputs": [],
   "source": [
    "plot_agent(loadedModel)"
   ]
  },
  {
   "cell_type": "code",
   "execution_count": null,
   "metadata": {},
   "outputs": [],
   "source": []
  }
 ],
 "metadata": {
  "kernelspec": {
   "display_name": "Python 3",
   "language": "python",
   "name": "python3"
  },
  "language_info": {
   "codemirror_mode": {
    "name": "ipython",
    "version": 3
   },
   "file_extension": ".py",
   "mimetype": "text/x-python",
   "name": "python",
   "nbconvert_exporter": "python",
   "pygments_lexer": "ipython3",
   "version": "3.6.5"
  }
 },
 "nbformat": 4,
 "nbformat_minor": 2
}
