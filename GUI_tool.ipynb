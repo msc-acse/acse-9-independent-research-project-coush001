{
 "cells": [
  {
   "cell_type": "code",
   "execution_count": 1,
   "metadata": {
    "code_folding": [
     442,
     465,
     477,
     492,
     539,
     547
    ],
    "scrolled": false
   },
   "outputs": [
    {
     "data": {
      "text/html": [
       "<script>\n",
       "code_show=true; \n",
       "function code_toggle() {\n",
       "    if (code_show){\n",
       "        $('div.cell.code_cell.rendered.selected div.input').hide();\n",
       "    } else {\n",
       "        $('div.cell.code_cell.rendered.selected div.input').show();\n",
       "    }\n",
       "    code_show = !code_show\n",
       "} \n",
       "$( document ).ready(code_toggle);\n",
       "</script>\n",
       "To show/hide the GUI code, click <a href=\"javascript:code_toggle()\">here</a>."
      ],
      "text/plain": [
       "<IPython.core.display.HTML object>"
      ]
     },
     "metadata": {},
     "output_type": "display_data"
    },
    {
     "data": {
      "application/vnd.jupyter.widget-view+json": {
       "model_id": "df56884829bb4e9c905e448cb5d12c67",
       "version_major": 2,
       "version_minor": 0
      },
      "text/plain": [
       "VBox(children=(HTML(value='<h1><b>SeismicReduction GUI : </b></h1> <br>            <h1>Unsupervised Machine Le…"
      ]
     },
     "metadata": {},
     "output_type": "display_data"
    }
   ],
   "source": [
    "from IPython.display import HTML\n",
    "from IPython.display import display\n",
    "\n",
    "tag = HTML('''<script>\n",
    "code_show=true; \n",
    "function code_toggle() {\n",
    "    if (code_show){\n",
    "        $('div.cell.code_cell.rendered.selected div.input').hide();\n",
    "    } else {\n",
    "        $('div.cell.code_cell.rendered.selected div.input').show();\n",
    "    }\n",
    "    code_show = !code_show\n",
    "} \n",
    "$( document ).ready(code_toggle);\n",
    "</script>\n",
    "To show/hide the GUI code, click <a href=\"javascript:code_toggle()\">here</a>.''')\n",
    "display(tag)\n",
    "\n",
    "############### GUI CODE BELOW ##################\n",
    "from SeismicReduction import *\n",
    "import ipywidgets as widgets\n",
    "import pickle\n",
    "import matplotlib\n",
    "from IPython.display import clear_output\n",
    "from ipywidgets import interact, VBox, HBox\n",
    "set_seed(42)\n",
    "\n",
    "# Layout template widget\n",
    "lint = inline_start = widgets.IntText(\n",
    "    value=1300,\n",
    "    description='Start:',\n",
    "    width=0.05,\n",
    "    layout=widgets.Layout(height='auto', width='auto')\n",
    ")\n",
    "\n",
    "# title\n",
    "title_text = widgets.HTML(\n",
    "    value=\"<h1><b>SeismicReduction GUI : </b></h1> <br> \\\n",
    "           <h1>Unsupervised Machine Learning on Seismic Data</h>\",\n",
    ")\n",
    "\n",
    "# Explanation text widgets\n",
    "explain_load = widgets.HTML(\n",
    "    value=\"1. Data Loading - <b>Run First</b> <br>\" \\\n",
    "        \">Files names can be absolute or relative to the directory this notebook is run from.<br>\" \\\n",
    "        \">Only necessary to re-run data loading if using a new data set.\",\n",
    ")\n",
    "\n",
    "explain_processing = widgets.HTML(\n",
    "    value=\"2. Processing - <b>Run Second</b> <br>\" \\\n",
    "        \"> A new data input will be processed with every run.<br>\" \\\n",
    "        \"> <b>Note:</b> If flattening is set to false, the seismic data will instead be cropped.<br>\" \\\n",
    "        \"The window will use <i>above_add<i> to <i>below_add<i> as the top and bottom data index's\"\n",
    ")\n",
    "\n",
    "explain_model = widgets.HTML(\n",
    "    value=\"3. Model analysis <br>\" \\\n",
    "        \"> Models will be run on the last input processed in previous step.<br>\" \\\n",
    "        \"> Multiple models can be run on this input, no need to regenerate inputs.<br>\" \\\n",
    "        \"> 2D Umap projections can be run and rerun on a trained model, no need to re-run models.<br>\" \n",
    ")\n",
    "\n",
    "explain_visualisation = widgets.HTML(\n",
    "    value=\"4. Visualisation <br>\" \\\n",
    "        \"> Visualisation is run on the last model analysis.<br>\" \\\n",
    "        \"> The plot attribute automatically updates when the toggle value below is updated.<br>\" \\\n",
    ")\n",
    "\n",
    "# Data loading widgets\n",
    "data_files_title = widgets.HTML(\n",
    "    value=\"<b>File Pathnames:</b>\",\n",
    ")\n",
    "\n",
    "near_text = widgets.Text(description='Near SEGY:', value='./data/3d_nearstack.sgy', layout=lint.layout)\n",
    "far_text = widgets.Text(description='Far SEGY:', value='./data/3d_farstack.sgy', layout=lint.layout)\n",
    "horizon_text = widgets.Text(description='Horizon .txt:', value='./data/Top_Heimdal_subset.txt', layout=lint.layout)\n",
    "\n",
    "inline_range_title = widgets.HTML(\n",
    "    value=\"<b>In-line range:<b>\",\n",
    ")\n",
    "\n",
    "xline_range_title = widgets.HTML(\n",
    "    value=\"<b>X-line range:<b>\",\n",
    ")\n",
    "\n",
    "inline_start = widgets.IntText(\n",
    "    value=1300,\n",
    "    description='Start:',\n",
    "    width=0.05,\n",
    "    layout=lint.layout\n",
    ")\n",
    "\n",
    "inline_stop = widgets.IntText(\n",
    "    value=1502,\n",
    "    description='Stop:',\n",
    "    layout=lint.layout\n",
    ")\n",
    "\n",
    "inline_step = widgets.IntText(\n",
    "    value=2,\n",
    "    description='Step:',\n",
    "    layout=lint.layout\n",
    ")\n",
    "\n",
    "xline_start = widgets.IntText(\n",
    "    value=1500,\n",
    "    description='Start:',\n",
    "    layout=lint.layout\n",
    "    \n",
    ")\n",
    "\n",
    "\n",
    "xline_stop = widgets.IntText(\n",
    "    value=2002,\n",
    "    description='Stop:',\n",
    "    layout=lint.layout\n",
    ")\n",
    "\n",
    "xline_step = widgets.IntText(\n",
    "    value=2,\n",
    "    description='Step:',\n",
    "    layout=lint.layout\n",
    ")\n",
    "\n",
    "load_button = widgets.Button(\n",
    "    description='Load Data', \n",
    "    layout=lint.layout)\n",
    "\n",
    "# Data processing:\n",
    "flattening_title = widgets.HTML(\n",
    "    value=\"<b>Horizon Flattening:<b>\",\n",
    "    layout=lint.layout\n",
    ")\n",
    "\n",
    "norm_title = widgets.HTML(\n",
    "    value=\"<b>Normalisation:<b>\",\n",
    "    layout=lint.layout\n",
    ")\n",
    "\n",
    "flat_option = widgets.Dropdown(\n",
    "    options=[True, False],\n",
    "    value=True,\n",
    "    description='True/False:',\n",
    "    disabled=False,\n",
    "    layout=lint.layout\n",
    ")\n",
    "\n",
    "above_add = widgets.IntText(\n",
    "    value=12,\n",
    "    description='Above Add:', \n",
    "    layout=lint.layout)\n",
    "\n",
    "below_add = widgets.IntText(\n",
    "    value=52,\n",
    "    description='Below Add:', \n",
    "    layout=lint.layout)\n",
    "\n",
    "norm_option = widgets.Dropdown(\n",
    "    options=[True, False],\n",
    "    value=True,\n",
    "    description='True/False:',\n",
    "    disabled=False,\n",
    ")\n",
    "\n",
    "process_button = widgets.Button(\n",
    "    description='Process Input', \n",
    "    layout=lint.layout)\n",
    "\n",
    "# to_2d update function\n",
    "twod_title = widgets.HTML(\n",
    "    value=\"<b>2-D embedding (UMAP) parameters:<b>\",\n",
    ")\n",
    "\n",
    "twod_neighbours = widgets.IntText(\n",
    "    value=50,\n",
    "    description='Neighbours:', \n",
    "    layout=lint.layout\n",
    ")\n",
    "\n",
    "twod_dist = widgets.BoundedFloatText(\n",
    "    value=1e-2,\n",
    "    min=1e-5,\n",
    "    max=1,\n",
    "    step=5e-3,\n",
    "    description='Min Dist:', \n",
    "    layout=lint.layout\n",
    ")\n",
    "\n",
    "twod_button = widgets.Button(\n",
    "    description='Update 2D embedding', \n",
    "    layout=lint.layout\n",
    ")\n",
    "\n",
    "# PCA\n",
    "pca_title = widgets.HTML(\n",
    "    value=\"<b>PCA:<b>\",\n",
    ")\n",
    "\n",
    "pca_components = widgets.IntText(\n",
    "    value=2,\n",
    "    description='Components:', \n",
    "    layout=lint.layout)\n",
    "\n",
    "pca_button = widgets.Button(\n",
    "    description='Run Pca', \n",
    "    layout=lint.layout)\n",
    "\n",
    "# UMAP\n",
    "umap_title = widgets.HTML(\n",
    "    value=\"<b>UMAP:<b>\",\n",
    ")\n",
    "\n",
    "umap_neighbours = widgets.IntText(\n",
    "    value=50,\n",
    "    description='Neighbours:', \n",
    "    layout=lint.layout)\n",
    "\n",
    "umap_dist = widgets.BoundedFloatText(\n",
    "    value=1e-2,\n",
    "    min=0.0001,\n",
    "    max=1,\n",
    "    step=0.0001,\n",
    "    description='Min Dist:', \n",
    "    layout=lint.layout)\n",
    "\n",
    "umap_button = widgets.Button(\n",
    "    description='Initialise Umap',\n",
    "    layout=lint.layout)\n",
    "\n",
    "# VAE\n",
    "vae_title = widgets.HTML(\n",
    "    value=\"<b>VAE parameters:<b>\",\n",
    ")\n",
    "\n",
    "epoch_num = widgets.IntText(\n",
    "    value=10,\n",
    "    min=3,\n",
    "    description='Epochs:', \n",
    "    layout=lint.layout)\n",
    "\n",
    "latent_dim = widgets.IntText(\n",
    "    value=4,\n",
    "    description='Latent size:', \n",
    "    layout=lint.layout)\n",
    "\n",
    "learn_rate = widgets.BoundedFloatText(\n",
    "    value=1e-2,\n",
    "    min=0.0001,\n",
    "    max=1,\n",
    "    step=0.005,\n",
    "    description='Learn Rate:', \n",
    "    layout=lint.layout)\n",
    "\n",
    "vae_button = widgets.Button(\n",
    "    description='Run Vae', \n",
    "    layout=lint.layout)\n",
    "\n",
    "# BVAE\n",
    "bvae_title = widgets.HTML(\n",
    "    value=\"<b>beta-VAE parameters:<b>\",\n",
    ")\n",
    "\n",
    "bvae_beta_value = widgets.IntText(\n",
    "    value=5,\n",
    "    step=0.5,\n",
    "    description='beta value:', \n",
    "    layout=lint.layout)\n",
    "\n",
    "bvae_button = widgets.Button(\n",
    "    description='Run beta-Vae', \n",
    "    layout=lint.layout)\n",
    "\n",
    "# Plotting:\n",
    "plot_title = widgets.HTML(\n",
    "    value=\"<b>Plot parameters:<b>\",\n",
    ")\n",
    "\n",
    "# drop down widget\n",
    "attr_dropdown = widgets.Dropdown(\n",
    "    options=['horizon', 'FF'],\n",
    "    description='Plot Attribute:',\n",
    ")\n",
    "\n",
    "# Declare output widget\n",
    "PLOToutput = widgets.Output(layout={'border': '4px solid black'})\n",
    "\n",
    "GENERALoutput = widgets.Output(layout={'border': '4px solid red'})\n",
    "\n",
    "clear_button = widgets.Button(description='Clear Output')\n",
    "\n",
    "## LOGIC\n",
    "\n",
    "# Data load:\n",
    "@load_button.on_click\n",
    "def load_on_click(b):\n",
    "    ### Client loader\n",
    "    with GENERALoutput:\n",
    "        clear_output()\n",
    "        print('Loading SEGY: \\n')\n",
    "\n",
    "        dataholder = DataHolder(\"Data\", [inline_start.value, inline_stop.value, inline_step.value],\n",
    "                                [xline_start.value, xline_stop.value, xline_step.value])\n",
    "        dataholder.add_near(near_text.value);\n",
    "        dataholder.add_far(far_text.value);\n",
    "        dataholder.add_horizon(horizon_text.value)\n",
    "        dataholder.add_well('well_1', 36, 276 // 2)\n",
    "\n",
    "        # save to binary file\n",
    "        if not os.path.exists('./pickled/'):\n",
    "            os.mkdir('./pickled/')\n",
    "        \n",
    "        with open(\"./pickled/data.pickle\", \"wb\") as file_:\n",
    "            pickle.dump(dataholder, file_, -1)\n",
    "        file_.close()\n",
    "        print('\\nData Loaded successfully!\\n')\n",
    "\n",
    "\n",
    "# Data process:\n",
    "@process_button.on_click\n",
    "def process_on_click(b):\n",
    "    # load data\n",
    "    file_pi2 = open('./pickled/data.pickle', 'rb')\n",
    "    dataholder = pickle.load(file_pi2)\n",
    "    file_pi2.close()\n",
    "\n",
    "    # processing\n",
    "    with GENERALoutput:\n",
    "        clear_output()\n",
    "        processor = Processor(dataholder)\n",
    "        if flat_option.value == True: # FLATTEN\n",
    "            input1 = processor(flatten=[True, above_add.value, below_add.value], normalise=norm_option.value)\n",
    "        elif flat_option.value == False: # CROP\n",
    "            input1 = processor(crop=[True, above_add.value, below_add.value], normalise=norm_option.value)\n",
    "\n",
    "        # save to binary file\n",
    "        with open(\"./pickled/input.pickle\", \"wb\") as file_:\n",
    "            pickle.dump(input1, file_, -1)\n",
    "        file_.close()\n",
    "        print('Data Input processed successfully')\n",
    "\n",
    "# Run Pca\n",
    "@pca_button.on_click\n",
    "def run_on_click(b):\n",
    "    # load input\n",
    "    file_pi2 = open('./pickled/input.pickle', 'rb')\n",
    "    input1 = pickle.load(file_pi2)\n",
    "    file_pi2.close()\n",
    "\n",
    "    with PLOToutput:\n",
    "        clear_output()\n",
    "\n",
    "    # RUN\n",
    "    with GENERALoutput:\n",
    "        clear_output()\n",
    "        pca = PcaModel(input1)\n",
    "        pca.reduce(pca_components.value)\n",
    "        pca.to_2d(umap_neighbours=twod_neighbours.value, umap_dist=twod_dist.value)\n",
    "\n",
    "    # First plot\n",
    "    makeplot(pca, attr_dropdown.value)\n",
    "\n",
    "    # save to binary file\n",
    "    with open(\"./pickled/model.pickle\", \"wb\") as file_:\n",
    "        pickle.dump(pca, file_, -1)\n",
    "    file_.close()\n",
    "\n",
    "# Run Umap\n",
    "@umap_button.on_click\n",
    "def run_on_click(b):\n",
    "    # load input\n",
    "    file_pi2 = open('./pickled/input.pickle', 'rb')\n",
    "    input1 = pickle.load(file_pi2)\n",
    "    file_pi2.close()\n",
    "\n",
    "    with PLOToutput:\n",
    "        clear_output()\n",
    "\n",
    "    # UMAP RUN\n",
    "    with GENERALoutput:\n",
    "        clear_output()\n",
    "        umap = UmapModel(input1)\n",
    "        umap.reduce()\n",
    "\n",
    "    # First plot\n",
    "    with GENERALoutput:\n",
    "        print('\\nPlease use the update button to run plain UMAP on input\\n')\n",
    "\n",
    "    # save to binary file\n",
    "    with open(\"./pickled/model.pickle\", \"wb\") as file_:\n",
    "        pickle.dump(umap, file_, -1)\n",
    "    file_.close()\n",
    "\n",
    "\n",
    "# Run VAE\n",
    "@vae_button.on_click\n",
    "def run_on_click(b):\n",
    "    # load input\n",
    "    file_pi2 = open('./pickled/input.pickle', 'rb')\n",
    "    input1 = pickle.load(file_pi2)\n",
    "    file_pi2.close()\n",
    "\n",
    "    with PLOToutput:\n",
    "        clear_output()\n",
    "\n",
    "    with GENERALoutput:\n",
    "        % matplotlib inline\n",
    "        # VAE RUN\n",
    "        vae = VaeModel(input1)\n",
    "        vae.reduce(epochs=epoch_num.value, hidden_size=latent_dim.value, lr=learn_rate.value)\n",
    "        vae.to_2d(umap_neighbours=twod_neighbours.value, umap_dist=twod_dist.value)\n",
    "\n",
    "\n",
    "\n",
    "        # save to binary file\n",
    "        with open(\"./pickled/model.pickle\", \"wb\") as file_:\n",
    "            pickle.dump(vae, file_, -1)\n",
    "        file_.close()\n",
    "    \n",
    "    % matplotlib notebook\n",
    "    makeplot(vae, attr_dropdown.value)\n",
    "    \n",
    "# Run bVAE\n",
    "@bvae_button.on_click\n",
    "def run_on_click(b):\n",
    "    # load input\n",
    "    file_pi2 = open('./pickled/input.pickle', 'rb')\n",
    "    input1 = pickle.load(file_pi2)\n",
    "    file_pi2.close()\n",
    "\n",
    "    with PLOToutput:\n",
    "        clear_output()\n",
    "\n",
    "    with GENERALoutput:\n",
    "        % matplotlib inline\n",
    "        # VAE RUN\n",
    "        bvae = BVaeModel(input1)\n",
    "        bvae.reduce(epochs=epoch_num.value, hidden_size=latent_dim.value, lr=learn_rate.value,\n",
    "                     beta=bvae_beta_value.value)\n",
    "        bvae.to_2d(umap_neighbours=twod_neighbours.value, umap_dist=twod_dist.value)\n",
    "\n",
    "        # save to binary file\n",
    "        with open(\"./pickled/model.pickle\", \"wb\") as file_:\n",
    "            pickle.dump(bvae, file_, -1)\n",
    "        file_.close()\n",
    "    \n",
    "    % matplotlib notebook\n",
    "    makeplot(bvae, attr_dropdown.value)\n",
    "    \n",
    "\n",
    "# update 2d UMAP\n",
    "@twod_button.on_click\n",
    "def run_on_click(b):\n",
    "    # load input\n",
    "    file_pi2 = open('./pickled/model.pickle', 'rb')\n",
    "    model = pickle.load(file_pi2)\n",
    "    file_pi2.close()\n",
    "\n",
    "    with PLOToutput:\n",
    "        clear_output()\n",
    "\n",
    "    # RUN\n",
    "    with GENERALoutput:\n",
    "        clear_output()\n",
    "        model.to_2d(umap_neighbours=twod_neighbours.value, umap_dist=twod_dist.value, verbose=True)\n",
    "\n",
    "    # First plot\n",
    "    makeplot(model, attr_dropdown.value)\n",
    "\n",
    "    # save to binary file\n",
    "    with open(\"./pickled/model.pickle\", \"wb\") as file_:\n",
    "        pickle.dump(model, file_, -1)\n",
    "    file_.close()\n",
    "\n",
    "@attr_dropdown.observe\n",
    "def on_change(change):\n",
    "    # load embedding\n",
    "    file2 = open('./pickled/model.pickle', 'rb')\n",
    "    model = pickle.load(file2)\n",
    "    file2.close()\n",
    "\n",
    "    #  if dropdown change\n",
    "    if change['type'] == 'change' and change['name'] == 'value':\n",
    "        #         print (change['new'])\n",
    "        makeplot(model, change['new'])\n",
    "\n",
    "\n",
    "def makeplot(model, attr):\n",
    "    % matplotlib notebook\n",
    "    with PLOToutput:\n",
    "        clear_output()\n",
    "\n",
    "        fig, ax = plt.subplots(1, 1, figsize=(10, 10))\n",
    "        ax.set(xlabel='Latent Variable 1', ylabel='Latent Variable 2',\n",
    "               title='Model used: {}, Trace Attribute: {}'.format(model.name, attr),\n",
    "               aspect='equal')\n",
    "        s = ax.scatter(model.two_dimensions[:, 0], model.two_dimensions[:, 1], s=0.5, c=model.attributes[attr])\n",
    "        c = plt.colorbar(s, shrink=0.7, orientation='vertical')\n",
    "        c.set_label(label=attr, rotation=90, labelpad=10)\n",
    "\n",
    "\n",
    "@clear_button.on_click\n",
    "def clear_it(arg):\n",
    "    with GENERALoutput:\n",
    "        clear_output()\n",
    "    with PLOToutput:\n",
    "        clear_output()\n",
    "\n",
    "## GUI LAYOUT\n",
    "%matplotlib notebook\n",
    "\n",
    "# Load tab\n",
    "tab1 = VBox(children=[explain_load,\n",
    "                      HBox(children=[VBox(children=[data_files_title, near_text, far_text, horizon_text]),\n",
    "                                     VBox(children=[inline_range_title, inline_start, inline_stop, inline_step]),\n",
    "                                     VBox(children=[xline_range_title, xline_start, xline_stop, xline_step]),\n",
    "                                     ], layout=widgets.Layout(height='150px')),\n",
    "                      load_button\n",
    "                      ])\n",
    "\n",
    "# processing tab\n",
    "tab2 = VBox(children=[explain_processing,\n",
    "                      HBox(children=[VBox(children=[flattening_title, flat_option, above_add, below_add, ]),\n",
    "                                     VBox(children=[norm_title, norm_option], layout=widgets.Layout(height='150px'))\n",
    "                                     ]),\n",
    "                      process_button\n",
    "                      ])\n",
    "\n",
    "# model tab\n",
    "accordion = widgets.Accordion(children=[HBox(children=[\n",
    "                                            VBox(children=[pca_title, pca_components, pca_button]), \n",
    "                                            VBox(children=[twod_title, twod_neighbours, twod_dist, twod_button])]),\n",
    "                                        HBox(children=[\n",
    "                                            VBox(children=[umap_title, umap_button]),\n",
    "                                            VBox(children=[twod_title, twod_neighbours, twod_dist, twod_button])]),\n",
    "                                        HBox(children=[\n",
    "                                            VBox(children=[vae_title, epoch_num, learn_rate, latent_dim, vae_button]),\n",
    "                                            VBox(children=[twod_title, twod_neighbours, twod_dist, twod_button])]),\n",
    "                                        HBox(children=[\n",
    "                                            VBox(children=[bvae_title, epoch_num, learn_rate, latent_dim, bvae_beta_value, bvae_button]),\n",
    "                                            VBox(children=[twod_title, twod_neighbours, twod_dist, twod_button])]),\n",
    "                                       ]\n",
    "                             )\n",
    "accordion.set_title(0, 'PCA - Principal Component Analysis')\n",
    "accordion.set_title(1, 'UMAP - Universal Manifold Aproximation Projection')\n",
    "accordion.set_title(2, 'VAE - Variational Auto-Encoder')\n",
    "accordion.set_title(3, 'β-VAE - β-Varational Auto-Encoder')\n",
    "\n",
    "tab3 = VBox(children=[explain_model,\n",
    "                      HBox(children=[VBox(children=[]),\n",
    "                                     VBox(children=[]),\n",
    "                                     ]),\n",
    "                      accordion\n",
    "                      ])\n",
    "\n",
    "# visualisation\n",
    "tab4 = VBox(children=[explain_visualisation,\n",
    "                      HBox(children=[VBox(children=[plot_title, attr_dropdown]),\n",
    "                                     VBox(children=[]),\n",
    "                                     ])\n",
    "                      ])\n",
    "\n",
    "tab = widgets.Tab(children=[tab1, tab2, tab3, tab4])\n",
    "tab.set_title(0, '1. Data Loading')\n",
    "tab.set_title(1, '2. Data Processing')\n",
    "tab.set_title(2, '3. Model Selection')\n",
    "tab.set_title(3, '4. Visualisation')\n",
    "\n",
    "VBox(children=[title_text, tab, clear_button, PLOToutput, GENERALoutput])\n"
   ]
  },
  {
   "cell_type": "code",
   "execution_count": null,
   "metadata": {},
   "outputs": [],
   "source": []
  }
 ],
 "metadata": {
  "kernelspec": {
   "display_name": "Python 3",
   "language": "python",
   "name": "python3"
  },
  "language_info": {
   "codemirror_mode": {
    "name": "ipython",
    "version": 3
   },
   "file_extension": ".py",
   "mimetype": "text/x-python",
   "name": "python",
   "nbconvert_exporter": "python",
   "pygments_lexer": "ipython3",
   "version": "3.6.5"
  },
  "widgets": {
   "application/vnd.jupyter.widget-state+json": {
    "state": {
     "00052a87a6164a17b6b070cf3c8dc528": {
      "model_module": "@jupyter-widgets/base",
      "model_module_version": "1.0.0",
      "model_name": "LayoutModel",
      "state": {}
     },
     "00097e2671e24017afd1acc60a6ca4f9": {
      "model_module": "@jupyter-widgets/controls",
      "model_module_version": "1.2.0",
      "model_name": "ButtonStyleModel",
      "state": {}
     },
     "003bee8eb6d34ab4950a0bef8f9d9659": {
      "model_module": "@jupyter-widgets/base",
      "model_module_version": "1.0.0",
      "model_name": "LayoutModel",
      "state": {}
     },
     "0041c35a08ae4826ae8ccb7dfc15f128": {
      "model_module": "@jupyter-widgets/base",
      "model_module_version": "1.0.0",
      "model_name": "LayoutModel",
      "state": {}
     },
     "0057f059ba804c75ae2567b1782f379f": {
      "model_module": "@jupyter-widgets/controls",
      "model_module_version": "1.2.0",
      "model_name": "TextModel",
      "state": {
       "description": "Far SEGY:",
       "layout": "IPY_MODEL_36a84c82634a4817a427a35d51dfa73a",
       "style": "IPY_MODEL_a431bf5f7f5f44a9aabd42c99326fe5c",
       "value": "./data/3d_farstack.sgy"
      }
     },
     "006205bbb8c24ab0ae16b36fe1cac11c": {
      "model_module": "@jupyter-widgets/controls",
      "model_module_version": "1.2.0",
      "model_name": "DescriptionStyleModel",
      "state": {
       "description_width": ""
      }
     },
     "00b2dbedba4a408cac4060823bab6c84": {
      "model_module": "@jupyter-widgets/base",
      "model_module_version": "1.0.0",
      "model_name": "LayoutModel",
      "state": {}
     },
     "00f5659234d94ee7a93e106476fb6b47": {
      "model_module": "@jupyter-widgets/controls",
      "model_module_version": "1.2.0",
      "model_name": "HTMLModel",
      "state": {
       "layout": "IPY_MODEL_405717012a1846cd8f0f9ce4fbaa85ca",
       "style": "IPY_MODEL_b28f5a7c9d0940bdbb9aea7e775fa452",
       "value": "<b>UMAP:<b>"
      }
     },
     "00fd976537de42c8937e292780381396": {
      "model_module": "@jupyter-widgets/base",
      "model_module_version": "1.0.0",
      "model_name": "LayoutModel",
      "state": {}
     },
     "01056700f5974e11b5ee063e54b97c77": {
      "model_module": "@jupyter-widgets/base",
      "model_module_version": "1.0.0",
      "model_name": "LayoutModel",
      "state": {}
     },
     "0130dfa254574aaeb8444395fd608758": {
      "model_module": "@jupyter-widgets/base",
      "model_module_version": "1.0.0",
      "model_name": "LayoutModel",
      "state": {}
     },
     "019b1b955468435da2d88222ffb071df": {
      "model_module": "@jupyter-widgets/controls",
      "model_module_version": "1.2.0",
      "model_name": "IntTextModel",
      "state": {
       "description": "Above Add:",
       "layout": "IPY_MODEL_1272281c9f44408183badaaaf906a00c",
       "step": 1,
       "style": "IPY_MODEL_bf26bcef65864a43adbeef7db199fc2f",
       "value": 12
      }
     },
     "01a725ecf5f84933a831570d2b815b63": {
      "model_module": "@jupyter-widgets/controls",
      "model_module_version": "1.2.0",
      "model_name": "DescriptionStyleModel",
      "state": {
       "description_width": ""
      }
     },
     "01ac5756fde94b72980abaef7c29abdb": {
      "model_module": "@jupyter-widgets/controls",
      "model_module_version": "1.2.0",
      "model_name": "ButtonStyleModel",
      "state": {}
     },
     "01c742f360d54dfea49f1eb441a26c4f": {
      "model_module": "@jupyter-widgets/controls",
      "model_module_version": "1.2.0",
      "model_name": "IntTextModel",
      "state": {
       "description": "Above Add:",
       "layout": "IPY_MODEL_7b23f54659e0485ab25c25ac0cd5e3eb",
       "step": 1,
       "style": "IPY_MODEL_6bc526aa2a7440a18863893c5c3c4b6b",
       "value": 12
      }
     },
     "01ce26989252469a8229a07235821461": {
      "model_module": "@jupyter-widgets/controls",
      "model_module_version": "1.2.0",
      "model_name": "IntTextModel",
      "state": {
       "description": "Start:",
       "layout": "IPY_MODEL_92ecdc5f70c6485e99da3f276b60f1f7",
       "step": 1,
       "style": "IPY_MODEL_fb257cede36c4893a44446aa4a3d761f",
       "value": 1500
      }
     },
     "01d6e8eea24142bdb43562587380a7a4": {
      "model_module": "@jupyter-widgets/base",
      "model_module_version": "1.0.0",
      "model_name": "LayoutModel",
      "state": {}
     },
     "01e258ab272b4aa4bf51ded14722cd64": {
      "model_module": "@jupyter-widgets/controls",
      "model_module_version": "1.2.0",
      "model_name": "DescriptionStyleModel",
      "state": {
       "description_width": ""
      }
     },
     "01e43f54973e433e9eb926e65f16e6b8": {
      "model_module": "@jupyter-widgets/controls",
      "model_module_version": "1.2.0",
      "model_name": "VBoxModel",
      "state": {
       "children": [
        "IPY_MODEL_dd327d94a65445ef9594151d915437e2",
        "IPY_MODEL_179162d1a69e471b9f9a063a5414c6b5"
       ],
       "layout": "IPY_MODEL_a1f4e085f753480088c386f9e2bc17bd"
      }
     },
     "01eb620eba324232986cbdaa85ca8af0": {
      "model_module": "@jupyter-widgets/controls",
      "model_module_version": "1.2.0",
      "model_name": "DescriptionStyleModel",
      "state": {
       "description_width": ""
      }
     },
     "01fa86420e3045e0a03a34be6d16baa2": {
      "model_module": "@jupyter-widgets/controls",
      "model_module_version": "1.2.0",
      "model_name": "DescriptionStyleModel",
      "state": {
       "description_width": ""
      }
     },
     "024f737592504bbfbb866e263a981bd8": {
      "model_module": "@jupyter-widgets/base",
      "model_module_version": "1.0.0",
      "model_name": "LayoutModel",
      "state": {}
     },
     "026ad09b978f441ba02fab10a378f5e3": {
      "model_module": "@jupyter-widgets/controls",
      "model_module_version": "1.2.0",
      "model_name": "DescriptionStyleModel",
      "state": {
       "description_width": ""
      }
     },
     "027226a49a124c5bb8cf62c1a99ff813": {
      "model_module": "@jupyter-widgets/controls",
      "model_module_version": "1.2.0",
      "model_name": "VBoxModel",
      "state": {
       "children": [
        "IPY_MODEL_6177b46ebfa3420eb7132c2efa1b6fae",
        "IPY_MODEL_5df4a35eb34c461eb915276d4435f6c9",
        "IPY_MODEL_f779abde51734bcf8594abf705511c90"
       ],
       "layout": "IPY_MODEL_7824fcfa350f4bf0955948f336217fb0"
      }
     },
     "027dab4415f94bc18997764afd937806": {
      "model_module": "@jupyter-widgets/controls",
      "model_module_version": "1.2.0",
      "model_name": "HTMLModel",
      "state": {
       "layout": "IPY_MODEL_0c230616f5014727b9425425114156d7",
       "style": "IPY_MODEL_b54a67b947714de7ac897de3b4d22eeb",
       "value": "<b>Normalisation:<b>"
      }
     },
     "02b515584cbc44fcb1cc0275082bcba9": {
      "model_module": "@jupyter-widgets/base",
      "model_module_version": "1.0.0",
      "model_name": "LayoutModel",
      "state": {}
     },
     "02b714c5396648b98b710d0f3a894ed3": {
      "model_module": "@jupyter-widgets/controls",
      "model_module_version": "1.2.0",
      "model_name": "DescriptionStyleModel",
      "state": {
       "description_width": ""
      }
     },
     "02f52c4dacb2418ca18ac59ef868c859": {
      "model_module": "@jupyter-widgets/controls",
      "model_module_version": "1.2.0",
      "model_name": "DescriptionStyleModel",
      "state": {
       "description_width": ""
      }
     },
     "02f98b82cc15424980bdb5a76d4459a9": {
      "model_module": "@jupyter-widgets/controls",
      "model_module_version": "1.2.0",
      "model_name": "HTMLModel",
      "state": {
       "layout": "IPY_MODEL_294519a8a3964913bc57b13e8413aa88",
       "style": "IPY_MODEL_701311a73a4941b99403ef01c0a67adf",
       "value": "<b>In-line range:<b>"
      }
     },
     "02fcdf3aaa624493bf2a8abd2889c490": {
      "model_module": "@jupyter-widgets/controls",
      "model_module_version": "1.2.0",
      "model_name": "DescriptionStyleModel",
      "state": {
       "description_width": ""
      }
     },
     "0314c5fd11994c5ca72d1b46d6816776": {
      "model_module": "@jupyter-widgets/controls",
      "model_module_version": "1.2.0",
      "model_name": "DescriptionStyleModel",
      "state": {
       "description_width": ""
      }
     },
     "032d6de275aa4a80b356e9e268cd34ce": {
      "model_module": "@jupyter-widgets/base",
      "model_module_version": "1.0.0",
      "model_name": "LayoutModel",
      "state": {}
     },
     "033af7b635b24469b3a221b1ba9dee83": {
      "model_module": "@jupyter-widgets/base",
      "model_module_version": "1.0.0",
      "model_name": "LayoutModel",
      "state": {}
     },
     "03741b45eab14c8caf84d75799a901ed": {
      "model_module": "@jupyter-widgets/output",
      "model_module_version": "1.0.0",
      "model_name": "OutputModel",
      "state": {
       "layout": "IPY_MODEL_9e24810bbf684d459d893972a61ad689"
      }
     },
     "038961b83dff4ac5a7ccd5177aa04a8b": {
      "model_module": "@jupyter-widgets/base",
      "model_module_version": "1.0.0",
      "model_name": "LayoutModel",
      "state": {
       "border": "4px solid black"
      }
     },
     "03980dcdb7c14a1b90b62fb230d1837c": {
      "model_module": "@jupyter-widgets/base",
      "model_module_version": "1.0.0",
      "model_name": "LayoutModel",
      "state": {}
     },
     "03ab223ce44241489bdd7b9934f43e4c": {
      "model_module": "@jupyter-widgets/controls",
      "model_module_version": "1.2.0",
      "model_name": "BoundedFloatTextModel",
      "state": {
       "description": "Min Dist:",
       "layout": "IPY_MODEL_5c87574b6277429d95719ca4d15d77e0",
       "max": 1,
       "min": 0.0001,
       "step": 0.0001,
       "style": "IPY_MODEL_1f2c9bee244741d79c064f158a0dde1f",
       "value": 0.01
      }
     },
     "03b24490f8da462c985e420046bd026f": {
      "model_module": "@jupyter-widgets/controls",
      "model_module_version": "1.2.0",
      "model_name": "HBoxModel",
      "state": {
       "children": [
        "IPY_MODEL_d6098b7cc84b4608b581fa92e091e8d5",
        "IPY_MODEL_ff82206aa4f8439db3b6438c5ec8b574"
       ],
       "layout": "IPY_MODEL_a768f44a2449484497e321919b125d1e"
      }
     },
     "03d9857931b744e38583588827d6ce07": {
      "model_module": "@jupyter-widgets/base",
      "model_module_version": "1.0.0",
      "model_name": "LayoutModel",
      "state": {}
     },
     "03dd7e50fe34416fa27c33ad16ce86a7": {
      "model_module": "@jupyter-widgets/base",
      "model_module_version": "1.0.0",
      "model_name": "LayoutModel",
      "state": {}
     },
     "03e95fc01e6d4d5ba82d296ee3e6f57e": {
      "model_module": "@jupyter-widgets/controls",
      "model_module_version": "1.2.0",
      "model_name": "DescriptionStyleModel",
      "state": {
       "description_width": ""
      }
     },
     "04224922baa345d299b6f0e98d028cc5": {
      "model_module": "@jupyter-widgets/controls",
      "model_module_version": "1.2.0",
      "model_name": "DescriptionStyleModel",
      "state": {
       "description_width": ""
      }
     },
     "042e8a2899104bd1ac9ac2782a031889": {
      "model_module": "@jupyter-widgets/controls",
      "model_module_version": "1.2.0",
      "model_name": "ButtonModel",
      "state": {
       "description": "Run Vae",
       "layout": "IPY_MODEL_4735f13aebb841be9bad50b809161935",
       "style": "IPY_MODEL_9bd8228d23af4cb2a3bf3ca255b700dc"
      }
     },
     "0439f5fbf34340ee918fd3321a06149b": {
      "model_module": "@jupyter-widgets/controls",
      "model_module_version": "1.2.0",
      "model_name": "DescriptionStyleModel",
      "state": {
       "description_width": ""
      }
     },
     "04489ef4799c4db99e5195c9913409b8": {
      "model_module": "@jupyter-widgets/controls",
      "model_module_version": "1.2.0",
      "model_name": "HBoxModel",
      "state": {
       "children": [
        "IPY_MODEL_89223601212c401aadb51c99c40661ad",
        "IPY_MODEL_c028de2e8ce64d78befdba23a4ec8dfc"
       ],
       "layout": "IPY_MODEL_055ff1496eca4ed48eb9adf6db0a48fc"
      }
     },
     "045c324bd1294dfd84a899b51fb16bfb": {
      "model_module": "@jupyter-widgets/base",
      "model_module_version": "1.0.0",
      "model_name": "LayoutModel",
      "state": {}
     },
     "0463831fd4d64618acab9068a49bc800": {
      "model_module": "@jupyter-widgets/base",
      "model_module_version": "1.0.0",
      "model_name": "LayoutModel",
      "state": {}
     },
     "046c8da293ae44dfafe08c190707385b": {
      "model_module": "@jupyter-widgets/controls",
      "model_module_version": "1.2.0",
      "model_name": "IntTextModel",
      "state": {
       "description": "Neighbours:",
       "layout": "IPY_MODEL_3ab8725677b646d18f3f1bc46bf7e6e5",
       "step": 1,
       "style": "IPY_MODEL_d4fa0696b3434aebbd8de8bf00fa10f4",
       "value": 50
      }
     },
     "048d4b2f73a24246ad770b89a5b9a818": {
      "model_module": "@jupyter-widgets/controls",
      "model_module_version": "1.2.0",
      "model_name": "DescriptionStyleModel",
      "state": {
       "description_width": ""
      }
     },
     "049d3fd8bf4c4db99c54221c9586cbb8": {
      "model_module": "@jupyter-widgets/controls",
      "model_module_version": "1.2.0",
      "model_name": "HTMLModel",
      "state": {
       "layout": "IPY_MODEL_e05a8d2e2d134a53be221577110d2e70",
       "style": "IPY_MODEL_e1a51655bbaa400dab7297498908e299",
       "value": "<b>Normalisation:<b>"
      }
     },
     "04d6457b026a4180b9c17f0f0fd1afb9": {
      "model_module": "@jupyter-widgets/base",
      "model_module_version": "1.0.0",
      "model_name": "LayoutModel",
      "state": {}
     },
     "04dcf12e56304391a61cd4dfc2c90a03": {
      "model_module": "@jupyter-widgets/controls",
      "model_module_version": "1.2.0",
      "model_name": "DescriptionStyleModel",
      "state": {
       "description_width": ""
      }
     },
     "04f4355524a2479a83866806f6f3a033": {
      "model_module": "@jupyter-widgets/base",
      "model_module_version": "1.0.0",
      "model_name": "LayoutModel",
      "state": {}
     },
     "05455b45d7ed47e294d067722682a88f": {
      "model_module": "@jupyter-widgets/controls",
      "model_module_version": "1.2.0",
      "model_name": "DescriptionStyleModel",
      "state": {
       "description_width": ""
      }
     },
     "054a2dde803e409c976b785267080155": {
      "model_module": "@jupyter-widgets/controls",
      "model_module_version": "1.2.0",
      "model_name": "DescriptionStyleModel",
      "state": {
       "description_width": ""
      }
     },
     "055ff1496eca4ed48eb9adf6db0a48fc": {
      "model_module": "@jupyter-widgets/base",
      "model_module_version": "1.0.0",
      "model_name": "LayoutModel",
      "state": {}
     },
     "0568f4e0fda3471690b7f346b6ef2abd": {
      "model_module": "@jupyter-widgets/controls",
      "model_module_version": "1.2.0",
      "model_name": "VBoxModel",
      "state": {
       "layout": "IPY_MODEL_32632d3792bb4bc697d8f43e292037e4"
      }
     },
     "057670418cb74b37979cde849b3a1a0c": {
      "model_module": "@jupyter-widgets/base",
      "model_module_version": "1.0.0",
      "model_name": "LayoutModel",
      "state": {}
     },
     "059a8de7aecd47a2bec89d2b51904462": {
      "model_module": "@jupyter-widgets/controls",
      "model_module_version": "1.2.0",
      "model_name": "TabModel",
      "state": {
       "_titles": {
        "0": "1. Data Loading",
        "1": "2. Data Processing",
        "2": "3. Model Selection",
        "3": "4. Visualisation"
       },
       "children": [
        "IPY_MODEL_60eb9ccd5980411db78fc9dc6e4ed75d",
        "IPY_MODEL_84c4f14a9cdd4c819e3985e7bd8bf2f1",
        "IPY_MODEL_9a091664af0f431190a3cf79d1d374ab",
        "IPY_MODEL_4c0cdb8638c1451ba0b2635731d7d507"
       ],
       "layout": "IPY_MODEL_03980dcdb7c14a1b90b62fb230d1837c"
      }
     },
     "05d192a147074aba8c6c27ed3bbbe9ad": {
      "model_module": "@jupyter-widgets/controls",
      "model_module_version": "1.2.0",
      "model_name": "VBoxModel",
      "state": {
       "layout": "IPY_MODEL_0041c35a08ae4826ae8ccb7dfc15f128"
      }
     },
     "05e33313d30c4816bbf437be14cccd10": {
      "model_module": "@jupyter-widgets/controls",
      "model_module_version": "1.2.0",
      "model_name": "DescriptionStyleModel",
      "state": {
       "description_width": ""
      }
     },
     "0646d7ff59c144bcbad2d5eb90013fe3": {
      "model_module": "@jupyter-widgets/controls",
      "model_module_version": "1.2.0",
      "model_name": "DescriptionStyleModel",
      "state": {
       "description_width": ""
      }
     },
     "06b083e00add40f081dd07d2585f6f08": {
      "model_module": "@jupyter-widgets/controls",
      "model_module_version": "1.2.0",
      "model_name": "IntTextModel",
      "state": {
       "description": "Stop:",
       "layout": "IPY_MODEL_5df0158f0d4042ffaa3c590cc4b640df",
       "step": 1,
       "style": "IPY_MODEL_c935f63fee6b4dc894573e4cf8ff999b",
       "value": 2002
      }
     },
     "070aa521a1ee453a835edb45e80c2887": {
      "model_module": "@jupyter-widgets/base",
      "model_module_version": "1.0.0",
      "model_name": "LayoutModel",
      "state": {
       "border": "4px solid red"
      }
     },
     "070f3133405041d093abab4ed9e0ce12": {
      "model_module": "@jupyter-widgets/controls",
      "model_module_version": "1.2.0",
      "model_name": "IntTextModel",
      "state": {
       "description": "Start:",
       "layout": "IPY_MODEL_f0bf6bdad3ca4f038e05ce16a0bef445",
       "step": 1,
       "style": "IPY_MODEL_96d74f490980433a8edd3ae4c4ce49fe",
       "value": 1500
      }
     },
     "0760efd25b914258bf087e876f8d3a6b": {
      "model_module": "@jupyter-widgets/controls",
      "model_module_version": "1.2.0",
      "model_name": "VBoxModel",
      "state": {
       "children": [
        "IPY_MODEL_ec01021531bc48128455e9b87a5229a3",
        "IPY_MODEL_5cd9a4581d6e4f3290713021637ca0ce"
       ],
       "layout": "IPY_MODEL_9269ec9014c245e9b1081b25fe65cb7a"
      }
     },
     "0775aa8a817a49dead96f13c4e2ad24b": {
      "model_module": "@jupyter-widgets/base",
      "model_module_version": "1.0.0",
      "model_name": "LayoutModel",
      "state": {}
     },
     "07764885655f4bbb80f01fc0aa09c568": {
      "model_module": "@jupyter-widgets/controls",
      "model_module_version": "1.2.0",
      "model_name": "IntTextModel",
      "state": {
       "description": "Start:",
       "layout": "IPY_MODEL_fb555ed6b449499ca5c29897062a79d8",
       "step": 1,
       "style": "IPY_MODEL_6a0e99ac08f243439cbb96989b17a6de",
       "value": 1300
      }
     },
     "079f35c24b0f47f58f21642752a0cf87": {
      "model_module": "@jupyter-widgets/base",
      "model_module_version": "1.0.0",
      "model_name": "LayoutModel",
      "state": {}
     },
     "07a35b3ad5904ee8a736960f8b7c970a": {
      "model_module": "@jupyter-widgets/controls",
      "model_module_version": "1.2.0",
      "model_name": "ButtonStyleModel",
      "state": {}
     },
     "07ea3f73f0314fd99dce5a1f6e849a2d": {
      "model_module": "@jupyter-widgets/base",
      "model_module_version": "1.0.0",
      "model_name": "LayoutModel",
      "state": {}
     },
     "07f6a4ab015543428f83b4b798a224df": {
      "model_module": "@jupyter-widgets/base",
      "model_module_version": "1.0.0",
      "model_name": "LayoutModel",
      "state": {}
     },
     "0829644a6332416bb0d5ba43553e4b7b": {
      "model_module": "@jupyter-widgets/base",
      "model_module_version": "1.0.0",
      "model_name": "LayoutModel",
      "state": {}
     },
     "08320b894f68460082007f5e14279394": {
      "model_module": "@jupyter-widgets/base",
      "model_module_version": "1.0.0",
      "model_name": "LayoutModel",
      "state": {
       "border": "4px solid black"
      }
     },
     "0842c2c14b584badbb1639d1cd5e0832": {
      "model_module": "@jupyter-widgets/base",
      "model_module_version": "1.0.0",
      "model_name": "LayoutModel",
      "state": {}
     },
     "08430520a8d445f2b194792b3e2dfba9": {
      "model_module": "@jupyter-widgets/controls",
      "model_module_version": "1.2.0",
      "model_name": "ButtonStyleModel",
      "state": {}
     },
     "084aaf636e274d2a9ca3e2700ffa25d3": {
      "model_module": "@jupyter-widgets/controls",
      "model_module_version": "1.2.0",
      "model_name": "DescriptionStyleModel",
      "state": {
       "description_width": ""
      }
     },
     "084eebaad75b4d45ab242922946b4383": {
      "model_module": "@jupyter-widgets/base",
      "model_module_version": "1.0.0",
      "model_name": "LayoutModel",
      "state": {}
     },
     "0852caaa326f45289ade1463212e6829": {
      "model_module": "@jupyter-widgets/controls",
      "model_module_version": "1.2.0",
      "model_name": "DescriptionStyleModel",
      "state": {
       "description_width": ""
      }
     },
     "085aeb8238a44a22b969f0e4ae0990de": {
      "model_module": "@jupyter-widgets/base",
      "model_module_version": "1.0.0",
      "model_name": "LayoutModel",
      "state": {}
     },
     "08672fda452443ae9031068dc2a3ceb2": {
      "model_module": "@jupyter-widgets/controls",
      "model_module_version": "1.2.0",
      "model_name": "IntTextModel",
      "state": {
       "description": "Latent size:",
       "layout": "IPY_MODEL_9404bafd7f334359880f511b36770e06",
       "step": 1,
       "style": "IPY_MODEL_8fa591ebc4a54d3e9697d57a6216dd0a",
       "value": 8
      }
     },
     "089c211180e3482f908dcdc845232ed5": {
      "model_module": "@jupyter-widgets/controls",
      "model_module_version": "1.2.0",
      "model_name": "HTMLModel",
      "state": {
       "layout": "IPY_MODEL_dfcfc3d16f5849cfa9ffb9a404490efa",
       "style": "IPY_MODEL_81197d845930438e839152bfb6607fad",
       "value": "<b>VAE parameters:<b>"
      }
     },
     "08c7a4e245814779b0f22ba593c95dca": {
      "model_module": "@jupyter-widgets/controls",
      "model_module_version": "1.2.0",
      "model_name": "IntTextModel",
      "state": {
       "description": "Stop:",
       "layout": "IPY_MODEL_6bdc5f946a1d4733b079cbe46e10dc03",
       "step": 1,
       "style": "IPY_MODEL_bb7c378625654ef0899cd61a53257542",
       "value": 1502
      }
     },
     "08e01b37aa5c4e37aaaee9e8e6e7bdee": {
      "model_module": "@jupyter-widgets/controls",
      "model_module_version": "1.2.0",
      "model_name": "DropdownModel",
      "state": {
       "_options_labels": [
        "horizon",
        "FF"
       ],
       "description": "Plot Attribute:",
       "index": 0,
       "layout": "IPY_MODEL_f59fcb7006d4445d9264e3cdbfa9b07e",
       "style": "IPY_MODEL_61643c40a2464860b018107dd7f0ccdb"
      }
     },
     "08e9a7fe24834ad388d780d1285714e3": {
      "model_module": "@jupyter-widgets/controls",
      "model_module_version": "1.2.0",
      "model_name": "HTMLModel",
      "state": {
       "layout": "IPY_MODEL_c5e343bec708447db45a55eaaf3caea8",
       "style": "IPY_MODEL_cbce87d85aaf4e2a9c7711077747ddba",
       "value": "<b>File Pathnames:<b>"
      }
     },
     "08e9fbd546004c27aefe8d3b96e5828d": {
      "model_module": "@jupyter-widgets/controls",
      "model_module_version": "1.2.0",
      "model_name": "HTMLModel",
      "state": {
       "layout": "IPY_MODEL_dbb4c45d79a04ca59ee0a4bc3f56889e",
       "style": "IPY_MODEL_d44a78d3e34a4da8bd13583c2b4d23ad",
       "value": "<b>VAE parameters:<b>"
      }
     },
     "092111832f8b4489ba55f905328a81c1": {
      "model_module": "@jupyter-widgets/controls",
      "model_module_version": "1.2.0",
      "model_name": "IntTextModel",
      "state": {
       "description": "Neighbours:",
       "layout": "IPY_MODEL_c91e6a1621924ba597c1d3b219a68611",
       "step": 1,
       "style": "IPY_MODEL_48c3b382baeb417c8f29cba569a53287",
       "value": 50
      }
     },
     "09240272891c442d834f6a24b8228d46": {
      "model_module": "@jupyter-widgets/base",
      "model_module_version": "1.0.0",
      "model_name": "LayoutModel",
      "state": {}
     },
     "098242439d9849b19a49b07469815137": {
      "model_module": "@jupyter-widgets/controls",
      "model_module_version": "1.2.0",
      "model_name": "DescriptionStyleModel",
      "state": {
       "description_width": ""
      }
     },
     "09ddaab60d5a4177986f9f72d71a2a9f": {
      "model_module": "@jupyter-widgets/controls",
      "model_module_version": "1.2.0",
      "model_name": "VBoxModel",
      "state": {
       "children": [
        "IPY_MODEL_e60f30230e5c4fb8b26b68f4e36798e7",
        "IPY_MODEL_8a5f0783cbdd477092ef3c5c80d948c0",
        "IPY_MODEL_7c62400e2f3a4c98b9205ecc79ddd901"
       ],
       "layout": "IPY_MODEL_0130dfa254574aaeb8444395fd608758"
      }
     },
     "0a53c14f71f840a29256dc903ce3811b": {
      "model_module": "@jupyter-widgets/base",
      "model_module_version": "1.0.0",
      "model_name": "LayoutModel",
      "state": {}
     },
     "0a5b92ecf97743acb84e56291925e41e": {
      "model_module": "@jupyter-widgets/base",
      "model_module_version": "1.0.0",
      "model_name": "LayoutModel",
      "state": {}
     },
     "0a7a941027834156bf0bfa0ebc4ba97f": {
      "model_module": "@jupyter-widgets/base",
      "model_module_version": "1.0.0",
      "model_name": "LayoutModel",
      "state": {}
     },
     "0a8c9ab2ee6d4cb590c2efea2ad042ab": {
      "model_module": "@jupyter-widgets/base",
      "model_module_version": "1.0.0",
      "model_name": "LayoutModel",
      "state": {}
     },
     "0aa9d6cbd7df412cb7c6fc44ff55c337": {
      "model_module": "@jupyter-widgets/controls",
      "model_module_version": "1.2.0",
      "model_name": "AccordionModel",
      "state": {
       "_titles": {
        "0": "UMAP",
        "1": "VAE",
        "2": "β-VAE"
       },
       "children": [
        "IPY_MODEL_c2376b2fcbf743ac8fd7cb67702642f4",
        "IPY_MODEL_a8a8084e2ac5434280c3f939d60eacaf",
        "IPY_MODEL_5ee1c839186a4b94bfb796f885c74455"
       ],
       "layout": "IPY_MODEL_18a3b34d8e7b44dfa3a9fc1121b7e4de"
      }
     },
     "0ab56953eaf844ec8efa9c7258afe3e0": {
      "model_module": "@jupyter-widgets/base",
      "model_module_version": "1.0.0",
      "model_name": "LayoutModel",
      "state": {}
     },
     "0abd8731b2e04bca88c49046849b5beb": {
      "model_module": "@jupyter-widgets/controls",
      "model_module_version": "1.2.0",
      "model_name": "DropdownModel",
      "state": {
       "_options_labels": [
        "True",
        "False"
       ],
       "description": "True/False:",
       "index": 0,
       "layout": "IPY_MODEL_8e3a450718ce47e3b50b8a8babe7f384",
       "style": "IPY_MODEL_9ab2fd8021754c0f97c37d189ffaf0fc"
      }
     },
     "0ac2aaa7b6d94853923f54447d181667": {
      "model_module": "@jupyter-widgets/controls",
      "model_module_version": "1.2.0",
      "model_name": "ButtonStyleModel",
      "state": {}
     },
     "0aefaa144ba14985ace4005eb13c3e61": {
      "model_module": "@jupyter-widgets/controls",
      "model_module_version": "1.2.0",
      "model_name": "DescriptionStyleModel",
      "state": {
       "description_width": ""
      }
     },
     "0afa2c9266534880bce93edf9605de5d": {
      "model_module": "@jupyter-widgets/controls",
      "model_module_version": "1.2.0",
      "model_name": "DescriptionStyleModel",
      "state": {
       "description_width": ""
      }
     },
     "0b09a5aab26d4345b816fe93d3f890e5": {
      "model_module": "@jupyter-widgets/base",
      "model_module_version": "1.0.0",
      "model_name": "LayoutModel",
      "state": {}
     },
     "0b1c5488fe6d44058d696c33da7fb64e": {
      "model_module": "@jupyter-widgets/controls",
      "model_module_version": "1.2.0",
      "model_name": "DescriptionStyleModel",
      "state": {
       "description_width": ""
      }
     },
     "0b342a00322b4ea788daec73b66f7be0": {
      "model_module": "@jupyter-widgets/controls",
      "model_module_version": "1.2.0",
      "model_name": "DescriptionStyleModel",
      "state": {
       "description_width": ""
      }
     },
     "0b3a1650aa3f420f8c2b742ae2e93ec7": {
      "model_module": "@jupyter-widgets/controls",
      "model_module_version": "1.2.0",
      "model_name": "HTMLModel",
      "state": {
       "layout": "IPY_MODEL_8dde23b010fa4006bc21fd6319f718fb",
       "style": "IPY_MODEL_0b1c5488fe6d44058d696c33da7fb64e",
       "value": "<b>In-line range:<b>"
      }
     },
     "0b82fe04667b48ff9e3ee66ce2a66767": {
      "model_module": "@jupyter-widgets/controls",
      "model_module_version": "1.2.0",
      "model_name": "IntTextModel",
      "state": {
       "description": "Stop:",
       "layout": "IPY_MODEL_e8512690a2c94b178f5c793fa72ae8ff",
       "step": 1,
       "style": "IPY_MODEL_a8436e4a17ad4a21ad2977b4cae9a37e",
       "value": 1502
      }
     },
     "0bb6c8c31d3e44dfb2d93112fe683d1b": {
      "model_module": "@jupyter-widgets/controls",
      "model_module_version": "1.2.0",
      "model_name": "IntTextModel",
      "state": {
       "description": "Latent size:",
       "layout": "IPY_MODEL_45b7472169624732a96239172b6f976c",
       "step": 1,
       "style": "IPY_MODEL_4fad8a186ce34600b6b4630bdbb4bece",
       "value": 8
      }
     },
     "0bb989d2b1b14516811dd96a5727e37d": {
      "model_module": "@jupyter-widgets/base",
      "model_module_version": "1.0.0",
      "model_name": "LayoutModel",
      "state": {}
     },
     "0bc50864bf394363b3ba02af63adfa10": {
      "model_module": "@jupyter-widgets/base",
      "model_module_version": "1.0.0",
      "model_name": "LayoutModel",
      "state": {}
     },
     "0be6693aa9e240c38533a080689d576c": {
      "model_module": "@jupyter-widgets/controls",
      "model_module_version": "1.2.0",
      "model_name": "DescriptionStyleModel",
      "state": {
       "description_width": ""
      }
     },
     "0c17c0c962e649bc961bde9735e059d4": {
      "model_module": "@jupyter-widgets/controls",
      "model_module_version": "1.2.0",
      "model_name": "VBoxModel",
      "state": {
       "children": [
        "IPY_MODEL_ed3279d34d6c4cbfa1a66fff9dfbf903",
        "IPY_MODEL_cb3a5f3d013f45e2b1f47a8609f5f82a",
        "IPY_MODEL_f23800f0b7e4482dab82f039102f7a8d"
       ],
       "layout": "IPY_MODEL_db4e00bb971d4f179738cb97c5feda7f"
      }
     },
     "0c230616f5014727b9425425114156d7": {
      "model_module": "@jupyter-widgets/base",
      "model_module_version": "1.0.0",
      "model_name": "LayoutModel",
      "state": {}
     },
     "0c384d3baa8947849c141d0ca5053028": {
      "model_module": "@jupyter-widgets/base",
      "model_module_version": "1.0.0",
      "model_name": "LayoutModel",
      "state": {}
     },
     "0c3e3e733a8b44c1950b13ac4829cf09": {
      "model_module": "@jupyter-widgets/controls",
      "model_module_version": "1.2.0",
      "model_name": "HTMLModel",
      "state": {
       "layout": "IPY_MODEL_457efca3e61b41a8856066ed9ed8ed72",
       "style": "IPY_MODEL_960834a4cf494b0f906375c09007a895",
       "value": "<b>Horizon Flattening:<b>"
      }
     },
     "0c490425693846738c1e33d05712b4c4": {
      "model_module": "@jupyter-widgets/controls",
      "model_module_version": "1.2.0",
      "model_name": "IntTextModel",
      "state": {
       "description": "Start:",
       "layout": "IPY_MODEL_5db6139f540b4c22b67126c3190ce2d7",
       "step": 1,
       "style": "IPY_MODEL_16f2426a1bc843c7a51add2975856418",
       "value": 1500
      }
     },
     "0c695e0667774847a725c99ca8cbbb81": {
      "model_module": "@jupyter-widgets/controls",
      "model_module_version": "1.2.0",
      "model_name": "DescriptionStyleModel",
      "state": {
       "description_width": ""
      }
     },
     "0c9dbc93ac984418b0abba6efc6220c8": {
      "model_module": "@jupyter-widgets/controls",
      "model_module_version": "1.2.0",
      "model_name": "VBoxModel",
      "state": {
       "children": [
        "IPY_MODEL_2f15cc79e6314bee9677b2a69c4dffbc",
        "IPY_MODEL_a274690d9aed431689862a1ca172f5ee",
        "IPY_MODEL_4595465feb7d4581a057b1cde61c3fe7",
        "IPY_MODEL_fa863eb31acf4ec3958aa58b5e9c200f"
       ],
       "layout": "IPY_MODEL_6d251055b10042fab61dd3c00e3d0daa"
      }
     },
     "0c9efacd9bc7464490ce4fffc37b2b56": {
      "model_module": "@jupyter-widgets/base",
      "model_module_version": "1.0.0",
      "model_name": "LayoutModel",
      "state": {}
     },
     "0ca2488f734c499f86f892df92327c01": {
      "model_module": "@jupyter-widgets/controls",
      "model_module_version": "1.2.0",
      "model_name": "HTMLModel",
      "state": {
       "layout": "IPY_MODEL_9f2eded4aa5e4841b3d03146bf668052",
       "style": "IPY_MODEL_c6697bffc7704a4d912d3170bafeefff",
       "value": "<b>Plot parameters:<b>"
      }
     },
     "0caf7000b629421e97b5df53a9df6bde": {
      "model_module": "@jupyter-widgets/base",
      "model_module_version": "1.0.0",
      "model_name": "LayoutModel",
      "state": {}
     },
     "0cafd48724374aeb931843cde08f9582": {
      "model_module": "@jupyter-widgets/controls",
      "model_module_version": "1.2.0",
      "model_name": "VBoxModel",
      "state": {
       "children": [
        "IPY_MODEL_7ef13506d50f422e993b7fe757975b1d",
        "IPY_MODEL_b31d6235c80a407289c649f1b6a696bb",
        "IPY_MODEL_c1d7a2dc982b4c67a63fca6ec103bd4b",
        "IPY_MODEL_254c45ae39e4476e8b38742a0c51fb7f"
       ],
       "layout": "IPY_MODEL_bd2590085eef40e393f0d1ea2d55ca1e"
      }
     },
     "0cfb62e7a28846d497e67ecc769b459b": {
      "model_module": "@jupyter-widgets/controls",
      "model_module_version": "1.2.0",
      "model_name": "DescriptionStyleModel",
      "state": {
       "description_width": ""
      }
     },
     "0d0e927c8c244258a0debfbe6a296858": {
      "model_module": "@jupyter-widgets/controls",
      "model_module_version": "1.2.0",
      "model_name": "DescriptionStyleModel",
      "state": {
       "description_width": ""
      }
     },
     "0d30c70abc2f463c9d03b87666c2da52": {
      "model_module": "@jupyter-widgets/base",
      "model_module_version": "1.0.0",
      "model_name": "LayoutModel",
      "state": {}
     },
     "0d3c7ede3bb7471eb5b3d196344c2825": {
      "model_module": "@jupyter-widgets/base",
      "model_module_version": "1.0.0",
      "model_name": "LayoutModel",
      "state": {}
     },
     "0d54e4b81d414c15bf882a1c1e0365fb": {
      "model_module": "@jupyter-widgets/controls",
      "model_module_version": "1.2.0",
      "model_name": "DescriptionStyleModel",
      "state": {
       "description_width": ""
      }
     },
     "0d5f2f730363487585754f8e0826c1cd": {
      "model_module": "@jupyter-widgets/base",
      "model_module_version": "1.0.0",
      "model_name": "LayoutModel",
      "state": {}
     },
     "0d7d61fd4a124641ad4c30cf2f89f921": {
      "model_module": "@jupyter-widgets/controls",
      "model_module_version": "1.2.0",
      "model_name": "DescriptionStyleModel",
      "state": {
       "description_width": ""
      }
     },
     "0d86cfd5c0f048798bb8791050eca738": {
      "model_module": "@jupyter-widgets/base",
      "model_module_version": "1.0.0",
      "model_name": "LayoutModel",
      "state": {}
     },
     "0da3ba554cbf4c56a652b126ebff6c01": {
      "model_module": "@jupyter-widgets/base",
      "model_module_version": "1.0.0",
      "model_name": "LayoutModel",
      "state": {}
     },
     "0def32f970404af5b064bdfc81557e55": {
      "model_module": "@jupyter-widgets/base",
      "model_module_version": "1.0.0",
      "model_name": "LayoutModel",
      "state": {}
     },
     "0e1323791c8b4c4ba7b9d310c1251130": {
      "model_module": "@jupyter-widgets/controls",
      "model_module_version": "1.2.0",
      "model_name": "HBoxModel",
      "state": {
       "children": [
        "IPY_MODEL_26e5531ca7014d75ac8e2ce397816c73",
        "IPY_MODEL_93c913df3b7445b6b54b158365cd460c"
       ],
       "layout": "IPY_MODEL_c6192a3d715e49b4a95645c7c69da728"
      }
     },
     "0e2ed5ece98b4e3ba5ad9397e6860adf": {
      "model_module": "@jupyter-widgets/base",
      "model_module_version": "1.0.0",
      "model_name": "LayoutModel",
      "state": {}
     },
     "0e382bbcb63c4dea9b132fc3cc0666eb": {
      "model_module": "@jupyter-widgets/controls",
      "model_module_version": "1.2.0",
      "model_name": "VBoxModel",
      "state": {
       "children": [
        "IPY_MODEL_6d3b5265d9a44493938a6630d97d3b14",
        "IPY_MODEL_c54e61c9150c463ba2c2b397725925b6",
        "IPY_MODEL_de589c463d884eb18d6b529b92296e6a",
        "IPY_MODEL_fa7baec70bbf4067b3879db09b0f58f0"
       ],
       "layout": "IPY_MODEL_7310d0c8022947c99d386b43fbe31a59"
      }
     },
     "0e6d6eb6a77f4a41ad140c09a0cd02c3": {
      "model_module": "@jupyter-widgets/base",
      "model_module_version": "1.0.0",
      "model_name": "LayoutModel",
      "state": {}
     },
     "0e875fead921452587b21008e093cf60": {
      "model_module": "@jupyter-widgets/controls",
      "model_module_version": "1.2.0",
      "model_name": "ButtonModel",
      "state": {
       "description": "Run Vae",
       "layout": "IPY_MODEL_5cc4bf880c2a4079a759c80727644c7c",
       "style": "IPY_MODEL_53af44fa380341d493cdea764b10bfae"
      }
     },
     "0e9bc854f8664122b51335ce91d9b75c": {
      "model_module": "@jupyter-widgets/base",
      "model_module_version": "1.0.0",
      "model_name": "LayoutModel",
      "state": {}
     },
     "0eb59d3b287943618a99ca6fcd62587e": {
      "model_module": "@jupyter-widgets/controls",
      "model_module_version": "1.2.0",
      "model_name": "ButtonModel",
      "state": {
       "description": "Load Data",
       "layout": "IPY_MODEL_9e3337a6a45545ad85823509ca989203",
       "style": "IPY_MODEL_b858159a2f9e4464b05f0248eff77634"
      }
     },
     "0ebe7f9a67374ccd87c332cc2e7d8e79": {
      "model_module": "@jupyter-widgets/controls",
      "model_module_version": "1.2.0",
      "model_name": "HBoxModel",
      "state": {
       "children": [
        "IPY_MODEL_992b75dc22144fb8a30df6639f07bbd7",
        "IPY_MODEL_854d136715a64c30a695d516cfff3a73"
       ],
       "layout": "IPY_MODEL_28ee56c476b44cb8ab5a05d8b1ab57ae"
      }
     },
     "0ed232c9e00a44b8accfdc962721c26a": {
      "model_module": "@jupyter-widgets/controls",
      "model_module_version": "1.2.0",
      "model_name": "HTMLModel",
      "state": {
       "layout": "IPY_MODEL_2eded608b5ca430a9a08a6544bb66d7d",
       "style": "IPY_MODEL_7403aad46a8349f08e98f2527996fa4f",
       "value": "<b>Plot parameters:<b>"
      }
     },
     "0f4161edfb13457bb249512c7c414fce": {
      "model_module": "@jupyter-widgets/base",
      "model_module_version": "1.0.0",
      "model_name": "LayoutModel",
      "state": {}
     },
     "0f62881404a24ad587e35ae2291276ce": {
      "model_module": "@jupyter-widgets/base",
      "model_module_version": "1.0.0",
      "model_name": "LayoutModel",
      "state": {}
     },
     "0f74b8720f5c479e8c22b3c1f6742538": {
      "model_module": "@jupyter-widgets/controls",
      "model_module_version": "1.2.0",
      "model_name": "VBoxModel",
      "state": {
       "children": [
        "IPY_MODEL_f603a4556e93488dbcec34ef4ce1aaba",
        "IPY_MODEL_e331ed499e974794a19e62482357e40e"
       ],
       "layout": "IPY_MODEL_d8473b1b39884c9581e8f6b1b21a7781"
      }
     },
     "0fe82dbb26cb4d679109ddd5c4cb0e46": {
      "model_module": "@jupyter-widgets/controls",
      "model_module_version": "1.2.0",
      "model_name": "DescriptionStyleModel",
      "state": {
       "description_width": ""
      }
     },
     "0feed2f23f45447da210c91910fe45e6": {
      "model_module": "@jupyter-widgets/controls",
      "model_module_version": "1.2.0",
      "model_name": "AccordionModel",
      "state": {
       "_titles": {
        "0": "UMAP",
        "1": "VAE",
        "2": "β-VAE"
       },
       "children": [
        "IPY_MODEL_cb52942ba0e44c3d980ca163c254e5ce",
        "IPY_MODEL_323bbab419764a1288be1dde240ed069",
        "IPY_MODEL_3f43ef424c8f476e8f272e18fb7eba20"
       ],
       "layout": "IPY_MODEL_5ccf481087144a7eae59f8ff5ade0a96"
      }
     },
     "102d68cf6d064e2f90a553cc1069f6d5": {
      "model_module": "@jupyter-widgets/base",
      "model_module_version": "1.0.0",
      "model_name": "LayoutModel",
      "state": {}
     },
     "106773011b514c4d8f916889185a4028": {
      "model_module": "@jupyter-widgets/controls",
      "model_module_version": "1.2.0",
      "model_name": "IntTextModel",
      "state": {
       "description": "Neighbours:",
       "layout": "IPY_MODEL_75d927be5a314781b2f9adfff1dd49d8",
       "step": 1,
       "style": "IPY_MODEL_c559b1cbc6a74d818915f769441e12be",
       "value": 50
      }
     },
     "107f99fa4a544e52bae3ab63519969e5": {
      "model_module": "@jupyter-widgets/controls",
      "model_module_version": "1.2.0",
      "model_name": "VBoxModel",
      "state": {
       "children": [
        "IPY_MODEL_a9f0c2d4e64a42bba0380e3c76b8049e",
        "IPY_MODEL_f5954f7ad2f34a4691839208238b7530",
        "IPY_MODEL_39136d35e60f4d0089c05242828a8519",
        "IPY_MODEL_579a219d9c9c4459b775530b247f8393"
       ],
       "layout": "IPY_MODEL_3e2b87adfe4740549154e012d5774690"
      }
     },
     "10b0486a04a148d2883d86b42f0baae8": {
      "model_module": "@jupyter-widgets/base",
      "model_module_version": "1.0.0",
      "model_name": "LayoutModel",
      "state": {}
     },
     "10e6c7cb47204a7da9d36a84f60570c5": {
      "model_module": "@jupyter-widgets/controls",
      "model_module_version": "1.2.0",
      "model_name": "DescriptionStyleModel",
      "state": {
       "description_width": ""
      }
     },
     "10e95bb181bb45c8a74e47bd4da066a0": {
      "model_module": "@jupyter-widgets/base",
      "model_module_version": "1.0.0",
      "model_name": "LayoutModel",
      "state": {}
     },
     "110c208888ff45cdb847138e070ab2fa": {
      "model_module": "@jupyter-widgets/base",
      "model_module_version": "1.0.0",
      "model_name": "LayoutModel",
      "state": {}
     },
     "11119126ca15476694b46ef679c1637b": {
      "model_module": "@jupyter-widgets/base",
      "model_module_version": "1.0.0",
      "model_name": "LayoutModel",
      "state": {
       "border": "4px solid black"
      }
     },
     "1142ebfa29734e71a17d062574b7932d": {
      "model_module": "@jupyter-widgets/controls",
      "model_module_version": "1.2.0",
      "model_name": "DescriptionStyleModel",
      "state": {
       "description_width": ""
      }
     },
     "116681538958451a9f67ff20685796c5": {
      "model_module": "@jupyter-widgets/base",
      "model_module_version": "1.0.0",
      "model_name": "LayoutModel",
      "state": {}
     },
     "118a81033f214f64a639b4d13d9acbe1": {
      "model_module": "@jupyter-widgets/controls",
      "model_module_version": "1.2.0",
      "model_name": "VBoxModel",
      "state": {
       "children": [
        "IPY_MODEL_4a3ead1ee8b546d3ad86c22a49e58a15",
        "IPY_MODEL_91095a90785a4f64b0d03586f2e5eaac"
       ],
       "layout": "IPY_MODEL_8d393ed6decc4d328bb9b7406904e1e6"
      }
     },
     "118d0197208f4ac6841cfd0dd1cc39eb": {
      "model_module": "@jupyter-widgets/base",
      "model_module_version": "1.0.0",
      "model_name": "LayoutModel",
      "state": {}
     },
     "119b553e07464b21a735edbd9c0d56f3": {
      "model_module": "@jupyter-widgets/controls",
      "model_module_version": "1.2.0",
      "model_name": "IntTextModel",
      "state": {
       "description": "Step:",
       "layout": "IPY_MODEL_b3565b1c20b04699afcd0953dfd7c7b4",
       "step": 1,
       "style": "IPY_MODEL_8db30d48a7084025885ff618aa01ed7e",
       "value": 2
      }
     },
     "11bc4824355245a89413859f95ebfaac": {
      "model_module": "@jupyter-widgets/controls",
      "model_module_version": "1.2.0",
      "model_name": "DescriptionStyleModel",
      "state": {
       "description_width": ""
      }
     },
     "12235dfd8e1046b7be960e131a652afa": {
      "model_module": "@jupyter-widgets/base",
      "model_module_version": "1.0.0",
      "model_name": "LayoutModel",
      "state": {}
     },
     "122629602260493f841a05b7cae23246": {
      "model_module": "@jupyter-widgets/base",
      "model_module_version": "1.0.0",
      "model_name": "LayoutModel",
      "state": {}
     },
     "12662e24ed134f779fc07543ac41772a": {
      "model_module": "@jupyter-widgets/controls",
      "model_module_version": "1.2.0",
      "model_name": "ButtonModel",
      "state": {
       "description": "Load Data",
       "layout": "IPY_MODEL_b1f39bc610c842bbb136517452825ee5",
       "style": "IPY_MODEL_9c342aabe11f4667ac9ad0eef7277fe5"
      }
     },
     "1272281c9f44408183badaaaf906a00c": {
      "model_module": "@jupyter-widgets/base",
      "model_module_version": "1.0.0",
      "model_name": "LayoutModel",
      "state": {}
     },
     "127b8fce9ec1444d8d5e6248a3a75fe5": {
      "model_module": "@jupyter-widgets/output",
      "model_module_version": "1.0.0",
      "model_name": "OutputModel",
      "state": {
       "layout": "IPY_MODEL_d6de8343e4974ff99b8e8cd4216adef1"
      }
     },
     "12b512f232f14d75a8392e78e9603495": {
      "model_module": "@jupyter-widgets/controls",
      "model_module_version": "1.2.0",
      "model_name": "HTMLModel",
      "state": {
       "layout": "IPY_MODEL_26888a1f15c746ff8383e1efc9965ccd",
       "style": "IPY_MODEL_a38e747e78b14aa28f29e5d5a88dcf84",
       "value": "<b>UMAP:<b>"
      }
     },
     "12bc1664e4444ff7bb542c6aec54e770": {
      "model_module": "@jupyter-widgets/base",
      "model_module_version": "1.0.0",
      "model_name": "LayoutModel",
      "state": {}
     },
     "12bd3f0437f34ac2a8d7705a5f4e728f": {
      "model_module": "@jupyter-widgets/controls",
      "model_module_version": "1.2.0",
      "model_name": "DescriptionStyleModel",
      "state": {
       "description_width": ""
      }
     },
     "12c356ac7c2a47aab5c6a2cf6f79822f": {
      "model_module": "@jupyter-widgets/controls",
      "model_module_version": "1.2.0",
      "model_name": "IntTextModel",
      "state": {
       "description": "Start:",
       "layout": "IPY_MODEL_3ce0b670287f4e608b444d51c3a0d63b",
       "step": 1,
       "style": "IPY_MODEL_4373888766a94610a30dc9c9df27baea",
       "value": 1500
      }
     },
     "12cea918009349d6a03ba401b584282c": {
      "model_module": "@jupyter-widgets/base",
      "model_module_version": "1.0.0",
      "model_name": "LayoutModel",
      "state": {}
     },
     "12d57005d0dd4f15a9cbf568692f762b": {
      "model_module": "@jupyter-widgets/base",
      "model_module_version": "1.0.0",
      "model_name": "LayoutModel",
      "state": {}
     },
     "13092ddcc13e42be9d1a0ed38a6c3c2d": {
      "model_module": "@jupyter-widgets/base",
      "model_module_version": "1.0.0",
      "model_name": "LayoutModel",
      "state": {}
     },
     "1316bf5d0c124cb282731beb19b4c1b6": {
      "model_module": "@jupyter-widgets/controls",
      "model_module_version": "1.2.0",
      "model_name": "VBoxModel",
      "state": {
       "children": [
        "IPY_MODEL_1636b8fdaa4b468ead1b6f75f0ceaeed",
        "IPY_MODEL_8ff474cdfaf0459b9b2a5c935b92c8b8"
       ],
       "layout": "IPY_MODEL_1923b0f391164ad4ba5c4e656e8121da"
      }
     },
     "1320002d58ac4b889120bef8f4adca5b": {
      "model_module": "@jupyter-widgets/controls",
      "model_module_version": "1.2.0",
      "model_name": "IntTextModel",
      "state": {
       "description": "Below Add:",
       "layout": "IPY_MODEL_4f76b1f903a341b1a3b3ce535c94a623",
       "step": 1,
       "style": "IPY_MODEL_5f15e047f6144bd78c5af42492940174",
       "value": 52
      }
     },
     "135337a6cb3b4cd98fd8a1495d0b8f9e": {
      "model_module": "@jupyter-widgets/base",
      "model_module_version": "1.0.0",
      "model_name": "LayoutModel",
      "state": {}
     },
     "13ba88f1bf73430b89dfbf22e373094c": {
      "model_module": "@jupyter-widgets/controls",
      "model_module_version": "1.2.0",
      "model_name": "HTMLModel",
      "state": {
       "layout": "IPY_MODEL_4fe1c0acfffd46d2a24b47a9f92e80ac",
       "style": "IPY_MODEL_7007ee86c7d044b6be0e046684f1d537",
       "value": "<b>X-line range:<b>"
      }
     },
     "13e32b7bbb674e79970d49dccd7fa924": {
      "model_module": "@jupyter-widgets/controls",
      "model_module_version": "1.2.0",
      "model_name": "DescriptionStyleModel",
      "state": {
       "description_width": ""
      }
     },
     "13ef94befcf342098b411771aef7f8e1": {
      "model_module": "@jupyter-widgets/controls",
      "model_module_version": "1.2.0",
      "model_name": "HBoxModel",
      "state": {
       "children": [
        "IPY_MODEL_5c1aeece86bb4308bb65442ad38b71bd",
        "IPY_MODEL_c43ea83f616b4c78a795d16d5b52a0ad"
       ],
       "layout": "IPY_MODEL_b9bc3252bbd040c6b9101564a79ff87c"
      }
     },
     "13f7d8d1f58743109bdf7e3e723db6b3": {
      "model_module": "@jupyter-widgets/controls",
      "model_module_version": "1.2.0",
      "model_name": "DescriptionStyleModel",
      "state": {
       "description_width": ""
      }
     },
     "13ff64062309416c96c4724caa1e0307": {
      "model_module": "@jupyter-widgets/controls",
      "model_module_version": "1.2.0",
      "model_name": "IntTextModel",
      "state": {
       "description": "Stop:",
       "layout": "IPY_MODEL_084eebaad75b4d45ab242922946b4383",
       "step": 1,
       "style": "IPY_MODEL_ac3a2a6f07a546d0bab4975a7effcaa3",
       "value": 1502
      }
     },
     "14141a60afe7426fb6c8454ae2732b53": {
      "model_module": "@jupyter-widgets/controls",
      "model_module_version": "1.2.0",
      "model_name": "DescriptionStyleModel",
      "state": {
       "description_width": ""
      }
     },
     "144394732eed4daab6cd5a83c267594c": {
      "model_module": "@jupyter-widgets/base",
      "model_module_version": "1.0.0",
      "model_name": "LayoutModel",
      "state": {}
     },
     "1471bd3bd2b94a399a0bac7e63f74287": {
      "model_module": "@jupyter-widgets/controls",
      "model_module_version": "1.2.0",
      "model_name": "HTMLModel",
      "state": {
       "layout": "IPY_MODEL_a0d747387881467cb3f33f3401f82396",
       "style": "IPY_MODEL_788cf309b71a4329b43d8effc1c68bd6",
       "value": "<b>X-line range:<b>"
      }
     },
     "147b29a1b8e7426ea8322ac98c3a2875": {
      "model_module": "@jupyter-widgets/controls",
      "model_module_version": "1.2.0",
      "model_name": "VBoxModel",
      "state": {
       "children": [
        "IPY_MODEL_a17cc80ddc8245739aadbaa0ae9419a9",
        "IPY_MODEL_cecf944a27114d8680c4bc1db5ce0ed2",
        "IPY_MODEL_30f66020bc594ee0a90683655ce6fc43",
        "IPY_MODEL_90cd97865b2347db9525b27ff764a20b"
       ],
       "layout": "IPY_MODEL_3822fa9c1cdc4e068ee05232c05f10f8"
      }
     },
     "147da007ef704ef8a3e2103aa2770b62": {
      "model_module": "@jupyter-widgets/base",
      "model_module_version": "1.0.0",
      "model_name": "LayoutModel",
      "state": {}
     },
     "14bbface970645899966d8da7235ea14": {
      "model_module": "@jupyter-widgets/base",
      "model_module_version": "1.0.0",
      "model_name": "LayoutModel",
      "state": {
       "border": "4px solid red"
      }
     },
     "14e8f22105f140ddb19b44076a9d731d": {
      "model_module": "@jupyter-widgets/base",
      "model_module_version": "1.0.0",
      "model_name": "LayoutModel",
      "state": {}
     },
     "15034dec559b4f629f722eb96ce41ac8": {
      "model_module": "@jupyter-widgets/controls",
      "model_module_version": "1.2.0",
      "model_name": "IntTextModel",
      "state": {
       "description": "Latent size:",
       "layout": "IPY_MODEL_26a5f52370174576a43b611bbff13eb8",
       "step": 1,
       "style": "IPY_MODEL_50704786c5f04b50946333ff452bae61",
       "value": 8
      }
     },
     "1513140378e240b790346938ca043874": {
      "model_module": "@jupyter-widgets/base",
      "model_module_version": "1.0.0",
      "model_name": "LayoutModel",
      "state": {}
     },
     "1517283065674d03ae0ad0e5bc458c0f": {
      "model_module": "@jupyter-widgets/base",
      "model_module_version": "1.0.0",
      "model_name": "LayoutModel",
      "state": {}
     },
     "1542a57d407a4b2b9d1e79d76e415247": {
      "model_module": "@jupyter-widgets/base",
      "model_module_version": "1.0.0",
      "model_name": "LayoutModel",
      "state": {}
     },
     "1558e9d501274a3ca7ac962e01f2b1e3": {
      "model_module": "@jupyter-widgets/base",
      "model_module_version": "1.0.0",
      "model_name": "LayoutModel",
      "state": {}
     },
     "15666c8283954e6ca680220944c0f841": {
      "model_module": "@jupyter-widgets/controls",
      "model_module_version": "1.2.0",
      "model_name": "DescriptionStyleModel",
      "state": {
       "description_width": ""
      }
     },
     "15684ae7239443c3815008e5873456a8": {
      "model_module": "@jupyter-widgets/controls",
      "model_module_version": "1.2.0",
      "model_name": "DescriptionStyleModel",
      "state": {
       "description_width": ""
      }
     },
     "157e606851f0420fbf2936ea21254103": {
      "model_module": "@jupyter-widgets/base",
      "model_module_version": "1.0.0",
      "model_name": "LayoutModel",
      "state": {}
     },
     "1593e01b354d4e80a6dc8c7050d7cac5": {
      "model_module": "@jupyter-widgets/controls",
      "model_module_version": "1.2.0",
      "model_name": "IntTextModel",
      "state": {
       "description": "Step:",
       "layout": "IPY_MODEL_f32f7947945748c7837424c0943ae7f0",
       "step": 1,
       "style": "IPY_MODEL_24d456578ca94c399080c3e96f863265",
       "value": 2
      }
     },
     "15bcd7b83ec947d79ddad919ec96a433": {
      "model_module": "@jupyter-widgets/controls",
      "model_module_version": "1.2.0",
      "model_name": "DropdownModel",
      "state": {
       "_options_labels": [
        "horizon",
        "FF"
       ],
       "description": "Plot Attribute:",
       "index": 0,
       "layout": "IPY_MODEL_33e1c49dde2940c9b4f8d8b43584ca3c",
       "style": "IPY_MODEL_f74db902131444eda82374bdb3704cab"
      }
     },
     "15cf5144423f4875af5a9194a281b7c1": {
      "model_module": "@jupyter-widgets/base",
      "model_module_version": "1.0.0",
      "model_name": "LayoutModel",
      "state": {}
     },
     "1605bc8103c04932a088b79afa90aa48": {
      "model_module": "@jupyter-widgets/controls",
      "model_module_version": "1.2.0",
      "model_name": "TextModel",
      "state": {
       "description": "Far SEGY:",
       "layout": "IPY_MODEL_4188a2c357c3441f8d65de4b1d9ec599",
       "style": "IPY_MODEL_8ff34b330c9b402a94c0f24279a68411",
       "value": "./data/3d_farstack.sgy"
      }
     },
     "161257b00f3e4d1abac941c4aed2b41c": {
      "model_module": "@jupyter-widgets/base",
      "model_module_version": "1.0.0",
      "model_name": "LayoutModel",
      "state": {}
     },
     "1636b8fdaa4b468ead1b6f75f0ceaeed": {
      "model_module": "@jupyter-widgets/controls",
      "model_module_version": "1.2.0",
      "model_name": "HBoxModel",
      "state": {
       "children": [
        "IPY_MODEL_1f2cf6db8dbf49a7a777c4c594cbbb52",
        "IPY_MODEL_44c9631d8a704831864596727ae1d9cc"
       ],
       "layout": "IPY_MODEL_dfeee0d42bfa4964a9e8d150180895e2"
      }
     },
     "16aa9694b2b8467089410723920adeb2": {
      "model_module": "@jupyter-widgets/controls",
      "model_module_version": "1.2.0",
      "model_name": "DescriptionStyleModel",
      "state": {
       "description_width": ""
      }
     },
     "16f2426a1bc843c7a51add2975856418": {
      "model_module": "@jupyter-widgets/controls",
      "model_module_version": "1.2.0",
      "model_name": "DescriptionStyleModel",
      "state": {
       "description_width": ""
      }
     },
     "171a4be6f00c45b88f3171ad460ae276": {
      "model_module": "@jupyter-widgets/controls",
      "model_module_version": "1.2.0",
      "model_name": "IntTextModel",
      "state": {
       "description": "Neighbours:",
       "layout": "IPY_MODEL_87a632ab4ebc4ab7b3d08175879f4c1e",
       "step": 1,
       "style": "IPY_MODEL_ccbcfb5f4eac480a8ab5c78f8c16740a",
       "value": 50
      }
     },
     "1739e17ed0a94b018fd34f1f5e94c7df": {
      "model_module": "@jupyter-widgets/controls",
      "model_module_version": "1.2.0",
      "model_name": "VBoxModel",
      "state": {
       "children": [
        "IPY_MODEL_4f11d53c73894c82829087b202719b6c",
        "IPY_MODEL_301567a75b1c4667aeb6a4860c0ae494",
        "IPY_MODEL_d35e516c7f47417d95cb66f4a2c9d046",
        "IPY_MODEL_68e116078d984f95ba68690092746b62",
        "IPY_MODEL_3150e0315096489b9214a983420fa492"
       ],
       "layout": "IPY_MODEL_3aa775ad4f4a4325a013a5aacbcf3511"
      }
     },
     "173dcf7d35c94ea48aeb4552e5bc09aa": {
      "model_module": "@jupyter-widgets/controls",
      "model_module_version": "1.2.0",
      "model_name": "ButtonModel",
      "state": {
       "description": "Load Data",
       "layout": "IPY_MODEL_30459a403cae42dcaeab1ca20393dd83",
       "style": "IPY_MODEL_5eb429f42d0d498787ff50b88a2e49c6"
      }
     },
     "175b0b5478fb48088e13ccdc5352286b": {
      "model_module": "@jupyter-widgets/base",
      "model_module_version": "1.0.0",
      "model_name": "LayoutModel",
      "state": {}
     },
     "177043161f2845e6acfa439351bd7fd9": {
      "model_module": "@jupyter-widgets/base",
      "model_module_version": "1.0.0",
      "model_name": "LayoutModel",
      "state": {}
     },
     "1781f0b4e9734f5c978c3873d6d1b7e7": {
      "model_module": "@jupyter-widgets/controls",
      "model_module_version": "1.2.0",
      "model_name": "HTMLModel",
      "state": {
       "layout": "IPY_MODEL_ea8388f69b7049a99f15a309457d147d",
       "style": "IPY_MODEL_b8cb9fdc97df4a8fbf0b72e4a0ff8e61",
       "value": "<b>In-line range:<b>"
      }
     },
     "179162d1a69e471b9f9a063a5414c6b5": {
      "model_module": "@jupyter-widgets/controls",
      "model_module_version": "1.2.0",
      "model_name": "DropdownModel",
      "state": {
       "_options_labels": [
        "True",
        "False"
       ],
       "description": "True/False:",
       "index": 0,
       "layout": "IPY_MODEL_946d21592a5f4b189b1aa26dd0a9ab63",
       "style": "IPY_MODEL_e2f26236483f471594ad398fa7bae3f5"
      }
     },
     "1793588c65234dea8a44279b6c2fec4a": {
      "model_module": "@jupyter-widgets/controls",
      "model_module_version": "1.2.0",
      "model_name": "DescriptionStyleModel",
      "state": {
       "description_width": ""
      }
     },
     "17aeab53052f4cebb8bf305cdf7f628f": {
      "model_module": "@jupyter-widgets/base",
      "model_module_version": "1.0.0",
      "model_name": "LayoutModel",
      "state": {}
     },
     "17b8408cf44f4960b00dced26beaed28": {
      "model_module": "@jupyter-widgets/controls",
      "model_module_version": "1.2.0",
      "model_name": "ButtonModel",
      "state": {
       "description": "Process Input",
       "layout": "IPY_MODEL_25bce9f6836f497a91db3789be43978e",
       "style": "IPY_MODEL_c99c9dbc222146a2a2843fb00e63bed8"
      }
     },
     "17ea8d57a1114e7fa4943d19b856f1a5": {
      "model_module": "@jupyter-widgets/controls",
      "model_module_version": "1.2.0",
      "model_name": "DescriptionStyleModel",
      "state": {
       "description_width": ""
      }
     },
     "17ee31bfec214bb88d89e00d21c2a4c3": {
      "model_module": "@jupyter-widgets/controls",
      "model_module_version": "1.2.0",
      "model_name": "DescriptionStyleModel",
      "state": {
       "description_width": ""
      }
     },
     "1820bcc468314cdebdbdcc252c7f6df5": {
      "model_module": "@jupyter-widgets/controls",
      "model_module_version": "1.2.0",
      "model_name": "VBoxModel",
      "state": {
       "children": [
        "IPY_MODEL_1471bd3bd2b94a399a0bac7e63f74287",
        "IPY_MODEL_3f586846ae94448cbe726184c9bffcf6",
        "IPY_MODEL_bf853ffd2d65439c8f0ee860650c1ad8",
        "IPY_MODEL_6407be3b848d4fc0b02839385ad0563b"
       ],
       "layout": "IPY_MODEL_4359843fc16444afbccee44784fcf297"
      }
     },
     "183625f6cbd049bc826a99c789c556fb": {
      "model_module": "@jupyter-widgets/controls",
      "model_module_version": "1.2.0",
      "model_name": "HTMLModel",
      "state": {
       "layout": "IPY_MODEL_c621dfe554314cbba0f101480336f500",
       "style": "IPY_MODEL_27f5dcf05eaa4ce29123a43ee37c8dc1",
       "value": "<b>X-line range:<b>"
      }
     },
     "1861ab4110a44c9eb6c86e41151e171a": {
      "model_module": "@jupyter-widgets/controls",
      "model_module_version": "1.2.0",
      "model_name": "IntTextModel",
      "state": {
       "description": "Start:",
       "layout": "IPY_MODEL_dde86ce418cc42d391453f686255ff70",
       "step": 1,
       "style": "IPY_MODEL_13f7d8d1f58743109bdf7e3e723db6b3",
       "value": 1300
      }
     },
     "1874543d8e254b5ea37a5dfc4ea06627": {
      "model_module": "@jupyter-widgets/base",
      "model_module_version": "1.0.0",
      "model_name": "LayoutModel",
      "state": {}
     },
     "18a3b34d8e7b44dfa3a9fc1121b7e4de": {
      "model_module": "@jupyter-widgets/base",
      "model_module_version": "1.0.0",
      "model_name": "LayoutModel",
      "state": {}
     },
     "18e8649b858747729333c021177f881e": {
      "model_module": "@jupyter-widgets/controls",
      "model_module_version": "1.2.0",
      "model_name": "IntTextModel",
      "state": {
       "description": "Stop:",
       "layout": "IPY_MODEL_347da44558b74cd29c59afeec53224c5",
       "step": 1,
       "style": "IPY_MODEL_3933236ef12b4a69b1668635351e00a6",
       "value": 1502
      }
     },
     "18f20d1363ff4f19a0ae0507b6648ce3": {
      "model_module": "@jupyter-widgets/controls",
      "model_module_version": "1.2.0",
      "model_name": "VBoxModel",
      "state": {
       "children": [
        "IPY_MODEL_76d840f09d234612b4654e9cbb7b64b7",
        "IPY_MODEL_9907b8d3237f4c3a809fccfe86a6ff74",
        "IPY_MODEL_38f6d9337fc24d30896db77c552cea7d",
        "IPY_MODEL_f7d76211981a4f2c848be5cc16b696e0"
       ],
       "layout": "IPY_MODEL_5d01ef7a4e54437380199834a9833c15"
      }
     },
     "1923b0f391164ad4ba5c4e656e8121da": {
      "model_module": "@jupyter-widgets/base",
      "model_module_version": "1.0.0",
      "model_name": "LayoutModel",
      "state": {}
     },
     "192ac67282da473898d0da690687a148": {
      "model_module": "@jupyter-widgets/controls",
      "model_module_version": "1.2.0",
      "model_name": "DescriptionStyleModel",
      "state": {
       "description_width": ""
      }
     },
     "193d993bacfb4d43ad1a8061104f68d1": {
      "model_module": "@jupyter-widgets/base",
      "model_module_version": "1.0.0",
      "model_name": "LayoutModel",
      "state": {}
     },
     "193e56d87b3e438ab5e2ed36f7d7b9fc": {
      "model_module": "@jupyter-widgets/base",
      "model_module_version": "1.0.0",
      "model_name": "LayoutModel",
      "state": {}
     },
     "1951434ee614461e9a5bfce1a7949c56": {
      "model_module": "@jupyter-widgets/controls",
      "model_module_version": "1.2.0",
      "model_name": "IntTextModel",
      "state": {
       "description": "Epochs:",
       "layout": "IPY_MODEL_805d3694b33347ef8c14efbe8193baa7",
       "step": 1,
       "style": "IPY_MODEL_9dfc5da19c4b4db58852ed2496aa9401",
       "value": 3
      }
     },
     "197051899ff14d1185a393e6cf075889": {
      "model_module": "@jupyter-widgets/base",
      "model_module_version": "1.0.0",
      "model_name": "LayoutModel",
      "state": {}
     },
     "197eba92b4e74c99a7c7be4b4ced05b1": {
      "model_module": "@jupyter-widgets/base",
      "model_module_version": "1.0.0",
      "model_name": "LayoutModel",
      "state": {}
     },
     "19992259b33f440d85e5a948b040f2cc": {
      "model_module": "@jupyter-widgets/base",
      "model_module_version": "1.0.0",
      "model_name": "LayoutModel",
      "state": {}
     },
     "19c02dcae9104cecb37bc6065147eaea": {
      "model_module": "@jupyter-widgets/base",
      "model_module_version": "1.0.0",
      "model_name": "LayoutModel",
      "state": {
       "border": "4px solid red"
      }
     },
     "19d4bdc969e54cf88130973267a3ef89": {
      "model_module": "@jupyter-widgets/controls",
      "model_module_version": "1.2.0",
      "model_name": "DescriptionStyleModel",
      "state": {
       "description_width": ""
      }
     },
     "1a2d45c7216749198b71a3a1babd4066": {
      "model_module": "@jupyter-widgets/controls",
      "model_module_version": "1.2.0",
      "model_name": "DescriptionStyleModel",
      "state": {
       "description_width": ""
      }
     },
     "1a44cfad0426415ba62ffa016c3aac2c": {
      "model_module": "@jupyter-widgets/base",
      "model_module_version": "1.0.0",
      "model_name": "LayoutModel",
      "state": {}
     },
     "1a7068f791fa4c8a9e5fbc8f8a356d7e": {
      "model_module": "@jupyter-widgets/controls",
      "model_module_version": "1.2.0",
      "model_name": "IntTextModel",
      "state": {
       "description": "Neighbours:",
       "layout": "IPY_MODEL_eec94c3dbd7e4369abc8141b4bd1a259",
       "step": 1,
       "style": "IPY_MODEL_c9acb4ba7f6b4e42bef84a2367c1ccd1",
       "value": 50
      }
     },
     "1a7db5fc664c41028c1ba68c0bae797e": {
      "model_module": "@jupyter-widgets/controls",
      "model_module_version": "1.2.0",
      "model_name": "DescriptionStyleModel",
      "state": {
       "description_width": ""
      }
     },
     "1a8e647d3c4d4bb39e280e131e12654e": {
      "model_module": "@jupyter-widgets/base",
      "model_module_version": "1.0.0",
      "model_name": "LayoutModel",
      "state": {}
     },
     "1a9bda6fb7e848adae5dfddc1464a8f5": {
      "model_module": "@jupyter-widgets/base",
      "model_module_version": "1.0.0",
      "model_name": "LayoutModel",
      "state": {}
     },
     "1adce55180434603a944528d08fb8138": {
      "model_module": "@jupyter-widgets/base",
      "model_module_version": "1.0.0",
      "model_name": "LayoutModel",
      "state": {}
     },
     "1aed1625257242a28fdb3ef8acf147eb": {
      "model_module": "@jupyter-widgets/controls",
      "model_module_version": "1.2.0",
      "model_name": "IntTextModel",
      "state": {
       "description": "Step:",
       "layout": "IPY_MODEL_4d7239903ed043628fb5da667ee71aca",
       "step": 1,
       "style": "IPY_MODEL_2295b5b2682041efad670e3275d53a24",
       "value": 2
      }
     },
     "1af263507f3340beb5f61b4648123dd3": {
      "model_module": "@jupyter-widgets/base",
      "model_module_version": "1.0.0",
      "model_name": "LayoutModel",
      "state": {}
     },
     "1afdf9b335ac4f5894e2d1e26591b6be": {
      "model_module": "@jupyter-widgets/base",
      "model_module_version": "1.0.0",
      "model_name": "LayoutModel",
      "state": {}
     },
     "1b066079b4f5475ab5caa0c1b48baba9": {
      "model_module": "@jupyter-widgets/controls",
      "model_module_version": "1.2.0",
      "model_name": "HTMLModel",
      "state": {
       "layout": "IPY_MODEL_c74f4aa354a24a2cade0e37a2f770209",
       "style": "IPY_MODEL_2f93722f199c46c19bf4474e14498f8c",
       "value": "<b>VAE parameters:<b>"
      }
     },
     "1b470d5d094c48a7bc4e925f8722bf56": {
      "model_module": "@jupyter-widgets/controls",
      "model_module_version": "1.2.0",
      "model_name": "VBoxModel",
      "state": {
       "children": [
        "IPY_MODEL_634048c2154b4c27b2cb59ed64dcdb3c",
        "IPY_MODEL_0aa9d6cbd7df412cb7c6fc44ff55c337"
       ],
       "layout": "IPY_MODEL_e7ce51e5011149be89267c2113cec1e2"
      }
     },
     "1b51b1274a9e4682bcea8b0fcbe437af": {
      "model_module": "@jupyter-widgets/base",
      "model_module_version": "1.0.0",
      "model_name": "LayoutModel",
      "state": {}
     },
     "1b76a02d32984e679f94c639d0f5e1e6": {
      "model_module": "@jupyter-widgets/base",
      "model_module_version": "1.0.0",
      "model_name": "LayoutModel",
      "state": {}
     },
     "1b961eaba1a440e2a5a7689a681213bf": {
      "model_module": "@jupyter-widgets/controls",
      "model_module_version": "1.2.0",
      "model_name": "IntTextModel",
      "state": {
       "description": "Neighbours:",
       "layout": "IPY_MODEL_8a38dc416d0d4062b61cd6ae71b2a135",
       "step": 1,
       "style": "IPY_MODEL_4fa2683a5d5e4b7e84580bb30d33e9b1",
       "value": 50
      }
     },
     "1b9b3d250f354f138f4ec1a7db1fa425": {
      "model_module": "@jupyter-widgets/controls",
      "model_module_version": "1.2.0",
      "model_name": "VBoxModel",
      "state": {
       "children": [
        "IPY_MODEL_dc43000183db48998b51c7721cb0eed9",
        "IPY_MODEL_fec74fa149694529a48aabe2b2245d67"
       ],
       "layout": "IPY_MODEL_c77dc2502ea3499cb40b83e93efdcfd4"
      }
     },
     "1bd9a87d1c3f4df5a44244ce03572e1e": {
      "model_module": "@jupyter-widgets/controls",
      "model_module_version": "1.2.0",
      "model_name": "DescriptionStyleModel",
      "state": {
       "description_width": ""
      }
     },
     "1bdffe3c0dc242aab74553bc2cfd0aa8": {
      "model_module": "@jupyter-widgets/controls",
      "model_module_version": "1.2.0",
      "model_name": "DescriptionStyleModel",
      "state": {
       "description_width": ""
      }
     },
     "1c0f2e1b20a545d7aa2f27da512ac84e": {
      "model_module": "@jupyter-widgets/base",
      "model_module_version": "1.0.0",
      "model_name": "LayoutModel",
      "state": {}
     },
     "1c197a344cb1465e976a98e8a4c84bec": {
      "model_module": "@jupyter-widgets/controls",
      "model_module_version": "1.2.0",
      "model_name": "VBoxModel",
      "state": {
       "children": [
        "IPY_MODEL_22376533e8cd47a6baeff2739fb612d4"
       ],
       "layout": "IPY_MODEL_b12081e509e24731ac07ac44d7ae7922"
      }
     },
     "1c1efe60608244c08a9e0d346e6e6e65": {
      "model_module": "@jupyter-widgets/controls",
      "model_module_version": "1.2.0",
      "model_name": "VBoxModel",
      "state": {
       "layout": "IPY_MODEL_7fc1428c82674ff68084a3d02c8005db"
      }
     },
     "1c7f075ad9c84422b5d5610806cf9a44": {
      "model_module": "@jupyter-widgets/controls",
      "model_module_version": "1.2.0",
      "model_name": "VBoxModel",
      "state": {
       "children": [
        "IPY_MODEL_f9384bc18b9b41288a676e169842fa1d"
       ],
       "layout": "IPY_MODEL_28c10a3c97fb46f9856bc853067d0829"
      }
     },
     "1c984751028e4dd98e93e389355e5d49": {
      "model_module": "@jupyter-widgets/base",
      "model_module_version": "1.0.0",
      "model_name": "LayoutModel",
      "state": {}
     },
     "1cb03391dd2e4070a40851c0f93b7ec1": {
      "model_module": "@jupyter-widgets/controls",
      "model_module_version": "1.2.0",
      "model_name": "ButtonModel",
      "state": {
       "description": "Clear Output",
       "layout": "IPY_MODEL_3ff2b0335a7c44c9b74d8c8a15b8a97f",
       "style": "IPY_MODEL_e66cd76f71994c0cb0a02403b1bf6203"
      }
     },
     "1cb84daa0e074b958d25abeb034955f8": {
      "model_module": "@jupyter-widgets/base",
      "model_module_version": "1.0.0",
      "model_name": "LayoutModel",
      "state": {}
     },
     "1cbf21ff4bd543e084f3d7ae0b61fb9e": {
      "model_module": "@jupyter-widgets/controls",
      "model_module_version": "1.2.0",
      "model_name": "VBoxModel",
      "state": {
       "layout": "IPY_MODEL_0d30c70abc2f463c9d03b87666c2da52"
      }
     },
     "1cc42fdefcbb4953bb6a1c535d46ede4": {
      "model_module": "@jupyter-widgets/base",
      "model_module_version": "1.0.0",
      "model_name": "LayoutModel",
      "state": {}
     },
     "1cebf677e22e4763b64dab1567149108": {
      "model_module": "@jupyter-widgets/controls",
      "model_module_version": "1.2.0",
      "model_name": "HTMLModel",
      "state": {
       "layout": "IPY_MODEL_59d12572f10b43119406168ec614f678",
       "style": "IPY_MODEL_985d075e127a40ad8125afb1acec220e",
       "value": "<b>VAE parameters:<b>"
      }
     },
     "1cee04633f6f4a429c8c4e0c776fadfd": {
      "model_module": "@jupyter-widgets/base",
      "model_module_version": "1.0.0",
      "model_name": "LayoutModel",
      "state": {}
     },
     "1cf76e12a24d49ec8e58a7f7a9ee5dc1": {
      "model_module": "@jupyter-widgets/controls",
      "model_module_version": "1.2.0",
      "model_name": "IntTextModel",
      "state": {
       "description": "Neighbours:",
       "layout": "IPY_MODEL_8643e632921840a5b3664e4f2e8accb7",
       "step": 1,
       "style": "IPY_MODEL_7b1ad53721eb439a8eaecbf7fe8167cd",
       "value": 50
      }
     },
     "1d3c1783c42a4462ab297dbfef04ba42": {
      "model_module": "@jupyter-widgets/controls",
      "model_module_version": "1.2.0",
      "model_name": "VBoxModel",
      "state": {
       "layout": "IPY_MODEL_a9eec4071d0446129d6decd41a238c69"
      }
     },
     "1d3ea970412441f4b7a8a81bff075241": {
      "model_module": "@jupyter-widgets/base",
      "model_module_version": "1.0.0",
      "model_name": "LayoutModel",
      "state": {}
     },
     "1d456abd308748959dbb18241285fceb": {
      "model_module": "@jupyter-widgets/controls",
      "model_module_version": "1.2.0",
      "model_name": "VBoxModel",
      "state": {
       "children": [
        "IPY_MODEL_e8beeaf3df804f1380282b5d45a1a5eb",
        "IPY_MODEL_12c356ac7c2a47aab5c6a2cf6f79822f",
        "IPY_MODEL_06b083e00add40f081dd07d2585f6f08",
        "IPY_MODEL_1aed1625257242a28fdb3ef8acf147eb"
       ],
       "layout": "IPY_MODEL_1af263507f3340beb5f61b4648123dd3"
      }
     },
     "1d54c96c23384f6a9e5c3eb0cd953dc2": {
      "model_module": "@jupyter-widgets/controls",
      "model_module_version": "1.2.0",
      "model_name": "DescriptionStyleModel",
      "state": {
       "description_width": ""
      }
     },
     "1d5a0bc48a844d1eb62f47984e2d4deb": {
      "model_module": "@jupyter-widgets/controls",
      "model_module_version": "1.2.0",
      "model_name": "DescriptionStyleModel",
      "state": {
       "description_width": ""
      }
     },
     "1d84f8461fc444499548e29b0d80620a": {
      "model_module": "@jupyter-widgets/controls",
      "model_module_version": "1.2.0",
      "model_name": "DescriptionStyleModel",
      "state": {
       "description_width": ""
      }
     },
     "1d9eb817b2d94a92828ade0e5e8d005c": {
      "model_module": "@jupyter-widgets/controls",
      "model_module_version": "1.2.0",
      "model_name": "AccordionModel",
      "state": {
       "_titles": {
        "0": "UMAP",
        "1": "VAE",
        "2": "β-VAE"
       },
       "children": [
        "IPY_MODEL_7903ac3ba29e4667a42ae42ba94d9ea6",
        "IPY_MODEL_89ca56d3a5c74f00aebb227acb0a115a",
        "IPY_MODEL_f96b02b17633458daad6568c58c6e9dc"
       ],
       "layout": "IPY_MODEL_4aa706ab942240369766547a72076984"
      }
     },
     "1dbcb7d06aba422097b8d0f152e8aae9": {
      "model_module": "@jupyter-widgets/base",
      "model_module_version": "1.0.0",
      "model_name": "LayoutModel",
      "state": {}
     },
     "1dce645d9edd43a1af8b402b6b495e57": {
      "model_module": "@jupyter-widgets/controls",
      "model_module_version": "1.2.0",
      "model_name": "ButtonModel",
      "state": {
       "description": "Clear Output",
       "layout": "IPY_MODEL_157e606851f0420fbf2936ea21254103",
       "style": "IPY_MODEL_1fb9b5ec81ce4296b3a60dee4132fa80"
      }
     },
     "1dcece370706438ab5341c7df26cbc1d": {
      "model_module": "@jupyter-widgets/controls",
      "model_module_version": "1.2.0",
      "model_name": "IntTextModel",
      "state": {
       "description": "Stop:",
       "layout": "IPY_MODEL_7342baeab4eb46218f2a30bd81f51fe1",
       "step": 1,
       "style": "IPY_MODEL_6b34f24fff6e4be2b274edf176e42648",
       "value": 2002
      }
     },
     "1de0891237ac48a8bb37e16f3d90eab7": {
      "model_module": "@jupyter-widgets/base",
      "model_module_version": "1.0.0",
      "model_name": "LayoutModel",
      "state": {}
     },
     "1e0cdbc60d954e449606904e64406321": {
      "model_module": "@jupyter-widgets/controls",
      "model_module_version": "1.2.0",
      "model_name": "DescriptionStyleModel",
      "state": {
       "description_width": ""
      }
     },
     "1e3c3d785eed4c2faf91299ca25972ac": {
      "model_module": "@jupyter-widgets/controls",
      "model_module_version": "1.2.0",
      "model_name": "ButtonStyleModel",
      "state": {}
     },
     "1e7b6c49d64742f38b1536a710e6a2da": {
      "model_module": "@jupyter-widgets/base",
      "model_module_version": "1.0.0",
      "model_name": "LayoutModel",
      "state": {}
     },
     "1e7be8493db6491c86fe7e5a2bcff9d3": {
      "model_module": "@jupyter-widgets/controls",
      "model_module_version": "1.2.0",
      "model_name": "VBoxModel",
      "state": {
       "children": [
        "IPY_MODEL_03b24490f8da462c985e420046bd026f"
       ],
       "layout": "IPY_MODEL_d0638f187e074094b705e796ecc77f90"
      }
     },
     "1e960c88158c4fb8923c40170855fb7b": {
      "model_module": "@jupyter-widgets/controls",
      "model_module_version": "1.2.0",
      "model_name": "BoundedFloatTextModel",
      "state": {
       "description": "Min Dist:",
       "layout": "IPY_MODEL_950be4d39a8444e19fa2e2e227712c71",
       "max": 1,
       "min": 0.001,
       "step": 0.0001,
       "style": "IPY_MODEL_5924ab73a418441ba618bf1378f5ea18",
       "value": 0.01
      }
     },
     "1e9b6268edb34118bc44696af07093a7": {
      "model_module": "@jupyter-widgets/controls",
      "model_module_version": "1.2.0",
      "model_name": "ButtonStyleModel",
      "state": {}
     },
     "1eb37f33ac44434b99221f1d40af7741": {
      "model_module": "@jupyter-widgets/controls",
      "model_module_version": "1.2.0",
      "model_name": "IntTextModel",
      "state": {
       "description": "Stop:",
       "layout": "IPY_MODEL_09240272891c442d834f6a24b8228d46",
       "step": 1,
       "style": "IPY_MODEL_3d2da029a47643959d51a76fe32eae03",
       "value": 2002
      }
     },
     "1ee05d067e504749911485c4681c2d03": {
      "model_module": "@jupyter-widgets/controls",
      "model_module_version": "1.2.0",
      "model_name": "DescriptionStyleModel",
      "state": {
       "description_width": ""
      }
     },
     "1f286b86b5684c03a1e215e3e4c1b78a": {
      "model_module": "@jupyter-widgets/controls",
      "model_module_version": "1.2.0",
      "model_name": "ButtonStyleModel",
      "state": {}
     },
     "1f2c9bee244741d79c064f158a0dde1f": {
      "model_module": "@jupyter-widgets/controls",
      "model_module_version": "1.2.0",
      "model_name": "DescriptionStyleModel",
      "state": {
       "description_width": ""
      }
     },
     "1f2cf6db8dbf49a7a777c4c594cbbb52": {
      "model_module": "@jupyter-widgets/controls",
      "model_module_version": "1.2.0",
      "model_name": "VBoxModel",
      "state": {
       "layout": "IPY_MODEL_0463831fd4d64618acab9068a49bc800"
      }
     },
     "1fa1fd2a749c4b2ab6cb58f69125c160": {
      "model_module": "@jupyter-widgets/controls",
      "model_module_version": "1.2.0",
      "model_name": "VBoxModel",
      "state": {
       "layout": "IPY_MODEL_bb6b429f142c483fb189e4e8af40605c"
      }
     },
     "1fb9b5ec81ce4296b3a60dee4132fa80": {
      "model_module": "@jupyter-widgets/controls",
      "model_module_version": "1.2.0",
      "model_name": "ButtonStyleModel",
      "state": {}
     },
     "1fe4c619552645ea8a95758860d9bb7d": {
      "model_module": "@jupyter-widgets/controls",
      "model_module_version": "1.2.0",
      "model_name": "VBoxModel",
      "state": {
       "children": [
        "IPY_MODEL_619ecab9afed4bdc83c8cab39e7d363a",
        "IPY_MODEL_e831ded4b889436885d3d2f037382c41",
        "IPY_MODEL_3f436efcb83c41e7955e35c359b7c568",
        "IPY_MODEL_6618638f378d461aa7c43ce01ffdc553"
       ],
       "layout": "IPY_MODEL_ec107bf83ab54acebf49af2760c1e532"
      }
     },
     "200f78a1f0584befa684bb249723d69f": {
      "model_module": "@jupyter-widgets/controls",
      "model_module_version": "1.2.0",
      "model_name": "DescriptionStyleModel",
      "state": {
       "description_width": ""
      }
     },
     "202935b5b23a413d82a27985e5c1725b": {
      "model_module": "@jupyter-widgets/controls",
      "model_module_version": "1.2.0",
      "model_name": "BoundedFloatTextModel",
      "state": {
       "description": "Learn Rate:",
       "layout": "IPY_MODEL_24d016415f6248a39e4a88ec443f2df8",
       "max": 1,
       "min": 0.0001,
       "step": 0.005,
       "style": "IPY_MODEL_8bc9f029075547b5b024244c3c66849c",
       "value": 0.01
      }
     },
     "204fb12a671e4374b289e99b9053dac0": {
      "model_module": "@jupyter-widgets/controls",
      "model_module_version": "1.2.0",
      "model_name": "VBoxModel",
      "state": {
       "children": [
        "IPY_MODEL_61543b64357e41058a4a09b6cf297615",
        "IPY_MODEL_d0ed062af4974bc2832d6364c04d75f7",
        "IPY_MODEL_13ff64062309416c96c4724caa1e0307",
        "IPY_MODEL_279466a2a26e4146b05e953ba0b3366c"
       ],
       "layout": "IPY_MODEL_1de0891237ac48a8bb37e16f3d90eab7"
      }
     },
     "20585fd652894ea383e453abb063095e": {
      "model_module": "@jupyter-widgets/controls",
      "model_module_version": "1.2.0",
      "model_name": "TabModel",
      "state": {
       "_titles": {
        "0": "1. Data Loading",
        "1": "2. Data Processing",
        "2": "3. Model Selection",
        "3": "4. Visualisation"
       },
       "children": [
        "IPY_MODEL_f2cc191f3e204c3e97a7cc7edcb22c09",
        "IPY_MODEL_2abcba6c8d6f481fa49796e5ff9f222e",
        "IPY_MODEL_e18e37ae1dfe4fa187c306a781935200",
        "IPY_MODEL_f55ed2bc148349babb04bca895cf9d5a"
       ],
       "layout": "IPY_MODEL_5a6af8c284174de6b5aa04eadcdefb66"
      }
     },
     "206518f92b714421839186bdc63c4808": {
      "model_module": "@jupyter-widgets/base",
      "model_module_version": "1.0.0",
      "model_name": "LayoutModel",
      "state": {}
     },
     "206ffb3035d44df3959a18cee6be999b": {
      "model_module": "@jupyter-widgets/base",
      "model_module_version": "1.0.0",
      "model_name": "LayoutModel",
      "state": {}
     },
     "207de8eaada24d33a6b231145579733a": {
      "model_module": "@jupyter-widgets/controls",
      "model_module_version": "1.2.0",
      "model_name": "DescriptionStyleModel",
      "state": {
       "description_width": ""
      }
     },
     "207ef8e7752443119956446760b6dcd4": {
      "model_module": "@jupyter-widgets/base",
      "model_module_version": "1.0.0",
      "model_name": "LayoutModel",
      "state": {}
     },
     "20f98e9e84f048e3b18c750f887980f1": {
      "model_module": "@jupyter-widgets/base",
      "model_module_version": "1.0.0",
      "model_name": "LayoutModel",
      "state": {}
     },
     "214b77b7ed7247f0a3d9a93bb146d525": {
      "model_module": "@jupyter-widgets/base",
      "model_module_version": "1.0.0",
      "model_name": "LayoutModel",
      "state": {}
     },
     "215464b1cdb748578fe7c189de235042": {
      "model_module": "@jupyter-widgets/base",
      "model_module_version": "1.0.0",
      "model_name": "LayoutModel",
      "state": {}
     },
     "2170dfe233444991a2e22b2f4d21c496": {
      "model_module": "@jupyter-widgets/controls",
      "model_module_version": "1.2.0",
      "model_name": "TextModel",
      "state": {
       "description": "Far SEGY:",
       "layout": "IPY_MODEL_a8a780336b7142278116b39509084f5e",
       "style": "IPY_MODEL_922d96516e06463ab346eee737e62cdf",
       "value": "./data/3d_farstack.sgy"
      }
     },
     "2189b1a500ca43e4baa1ae7a22b8bc9e": {
      "model_module": "@jupyter-widgets/base",
      "model_module_version": "1.0.0",
      "model_name": "LayoutModel",
      "state": {}
     },
     "21f4b2c7f8bc4e3b8061499c3eb9a7f4": {
      "model_module": "@jupyter-widgets/base",
      "model_module_version": "1.0.0",
      "model_name": "LayoutModel",
      "state": {}
     },
     "2203bab9a2244290af03d9dbeea599ed": {
      "model_module": "@jupyter-widgets/base",
      "model_module_version": "1.0.0",
      "model_name": "LayoutModel",
      "state": {}
     },
     "22376533e8cd47a6baeff2739fb612d4": {
      "model_module": "@jupyter-widgets/controls",
      "model_module_version": "1.2.0",
      "model_name": "HBoxModel",
      "state": {
       "children": [
        "IPY_MODEL_c3b7d453f9164449a37e442b849eb671",
        "IPY_MODEL_f98fdbfb4d0247368b228528667ce195"
       ],
       "layout": "IPY_MODEL_7b24e7bc43f449059ed72dcdf7e21f2b"
      }
     },
     "223c228ae56d40a594497783ce4bb3ae": {
      "model_module": "@jupyter-widgets/controls",
      "model_module_version": "1.2.0",
      "model_name": "IntTextModel",
      "state": {
       "description": "Epochs:",
       "layout": "IPY_MODEL_d182d803f4ab4d36b9c549bd7ada5354",
       "step": 1,
       "style": "IPY_MODEL_0aefaa144ba14985ace4005eb13c3e61",
       "value": 3
      }
     },
     "22771b4a75fa48efb1d7eb8207de6ecc": {
      "model_module": "@jupyter-widgets/base",
      "model_module_version": "1.0.0",
      "model_name": "LayoutModel",
      "state": {}
     },
     "2295b5b2682041efad670e3275d53a24": {
      "model_module": "@jupyter-widgets/controls",
      "model_module_version": "1.2.0",
      "model_name": "DescriptionStyleModel",
      "state": {
       "description_width": ""
      }
     },
     "22abdd17bf3b4d3a9a0433b5a5bc10bc": {
      "model_module": "@jupyter-widgets/base",
      "model_module_version": "1.0.0",
      "model_name": "LayoutModel",
      "state": {}
     },
     "22ba7fe74e284028b3ebd47ddef56f2c": {
      "model_module": "@jupyter-widgets/controls",
      "model_module_version": "1.2.0",
      "model_name": "DescriptionStyleModel",
      "state": {
       "description_width": ""
      }
     },
     "22c3cc0abc23422584e074000c53c387": {
      "model_module": "@jupyter-widgets/base",
      "model_module_version": "1.0.0",
      "model_name": "LayoutModel",
      "state": {}
     },
     "22d8e16f0a0c4281b02ed0e4c12ff953": {
      "model_module": "@jupyter-widgets/controls",
      "model_module_version": "1.2.0",
      "model_name": "HTMLModel",
      "state": {
       "layout": "IPY_MODEL_ca6ddf57d7a54e2da5e94f2fe788755c",
       "style": "IPY_MODEL_397a3efe8d6f4e80a35e50cc15af6282",
       "value": "<b>File Pathnames:<b>"
      }
     },
     "22ecbcc746514b6ca29f8bc0be8b9ee5": {
      "model_module": "@jupyter-widgets/controls",
      "model_module_version": "1.2.0",
      "model_name": "HTMLModel",
      "state": {
       "layout": "IPY_MODEL_8a3c14c09b8b448c867579bbe46b357f",
       "style": "IPY_MODEL_59c0e48657964312b53dbc18bc68b410",
       "value": "<b>Normalisation:<b>"
      }
     },
     "22fc78eef9844a3c9af590c7c78be1b6": {
      "model_module": "@jupyter-widgets/base",
      "model_module_version": "1.0.0",
      "model_name": "LayoutModel",
      "state": {}
     },
     "230c83ee5e564cda9cd915d7205a95c3": {
      "model_module": "@jupyter-widgets/controls",
      "model_module_version": "1.2.0",
      "model_name": "HBoxModel",
      "state": {
       "children": [
        "IPY_MODEL_8aa57a2c43fb474faef177cdee46db64",
        "IPY_MODEL_ec5d8004026047349c17238746aaccb5",
        "IPY_MODEL_b89c73fd2efb41ffa7fabbf6ec85db25"
       ],
       "layout": "IPY_MODEL_1874543d8e254b5ea37a5dfc4ea06627"
      }
     },
     "232fdfcc50d9464fa6feeac8e20d81bb": {
      "model_module": "@jupyter-widgets/base",
      "model_module_version": "1.0.0",
      "model_name": "LayoutModel",
      "state": {}
     },
     "2358ac5d463f4aaeb23334a077880565": {
      "model_module": "@jupyter-widgets/base",
      "model_module_version": "1.0.0",
      "model_name": "LayoutModel",
      "state": {}
     },
     "236a2b978973404a9e8cd3f2a30ec244": {
      "model_module": "@jupyter-widgets/base",
      "model_module_version": "1.0.0",
      "model_name": "LayoutModel",
      "state": {}
     },
     "23989f4459a54789bcf8c75fb1eb3bbf": {
      "model_module": "@jupyter-widgets/controls",
      "model_module_version": "1.2.0",
      "model_name": "DescriptionStyleModel",
      "state": {
       "description_width": ""
      }
     },
     "23a62a1457c74f1eb9d5b013bf09a79a": {
      "model_module": "@jupyter-widgets/controls",
      "model_module_version": "1.2.0",
      "model_name": "IntTextModel",
      "state": {
       "description": "Stop:",
       "layout": "IPY_MODEL_b271eae820504915b8bec7c1a34f94a7",
       "step": 1,
       "style": "IPY_MODEL_3c6a3d91367c44dbb2db4afba353adc4",
       "value": 2002
      }
     },
     "24160c65184244e6bb66f284b0eab6e2": {
      "model_module": "@jupyter-widgets/base",
      "model_module_version": "1.0.0",
      "model_name": "LayoutModel",
      "state": {}
     },
     "241c2939848241cd8831dac48c57507e": {
      "model_module": "@jupyter-widgets/controls",
      "model_module_version": "1.2.0",
      "model_name": "HTMLModel",
      "state": {
       "layout": "IPY_MODEL_177043161f2845e6acfa439351bd7fd9",
       "style": "IPY_MODEL_5744511860f741aa8bf7ed051643138d",
       "value": "<b>VAE->UMAP 2-D parameters:<b>"
      }
     },
     "2423471762d54f4da81372a7acb1c9a5": {
      "model_module": "@jupyter-widgets/base",
      "model_module_version": "1.0.0",
      "model_name": "LayoutModel",
      "state": {}
     },
     "245c334f350049fb876eeda78e600d94": {
      "model_module": "@jupyter-widgets/base",
      "model_module_version": "1.0.0",
      "model_name": "LayoutModel",
      "state": {}
     },
     "246ff03d7c1a4cfe935514205ccf4efa": {
      "model_module": "@jupyter-widgets/controls",
      "model_module_version": "1.2.0",
      "model_name": "VBoxModel",
      "state": {
       "children": [
        "IPY_MODEL_c67d8bfde63b44da9f313fe860bdc6eb",
        "IPY_MODEL_e267761250664d2fae118b6a7b7030c8"
       ],
       "layout": "IPY_MODEL_35d49bb614d449289e08ec1068e8c4e2"
      }
     },
     "2488e92215a546f181e09095ff150c3f": {
      "model_module": "@jupyter-widgets/base",
      "model_module_version": "1.0.0",
      "model_name": "LayoutModel",
      "state": {}
     },
     "2497b97875c645bbb986dc3bc39acccc": {
      "model_module": "@jupyter-widgets/base",
      "model_module_version": "1.0.0",
      "model_name": "LayoutModel",
      "state": {}
     },
     "24983c0f2d2d47c39a0ed5c8c3345f29": {
      "model_module": "@jupyter-widgets/controls",
      "model_module_version": "1.2.0",
      "model_name": "DescriptionStyleModel",
      "state": {
       "description_width": ""
      }
     },
     "24d016415f6248a39e4a88ec443f2df8": {
      "model_module": "@jupyter-widgets/base",
      "model_module_version": "1.0.0",
      "model_name": "LayoutModel",
      "state": {}
     },
     "24d456578ca94c399080c3e96f863265": {
      "model_module": "@jupyter-widgets/controls",
      "model_module_version": "1.2.0",
      "model_name": "DescriptionStyleModel",
      "state": {
       "description_width": ""
      }
     },
     "24e294f2178247b9b744d8af9c5f1735": {
      "model_module": "@jupyter-widgets/base",
      "model_module_version": "1.0.0",
      "model_name": "LayoutModel",
      "state": {}
     },
     "253686339be444fdb13ce4406c9a49ef": {
      "model_module": "@jupyter-widgets/controls",
      "model_module_version": "1.2.0",
      "model_name": "DescriptionStyleModel",
      "state": {
       "description_width": ""
      }
     },
     "254c45ae39e4476e8b38742a0c51fb7f": {
      "model_module": "@jupyter-widgets/controls",
      "model_module_version": "1.2.0",
      "model_name": "TextModel",
      "state": {
       "description": "Horizon .txt:",
       "layout": "IPY_MODEL_3be2eeb9cf444a88b98c0411368295f3",
       "style": "IPY_MODEL_0c695e0667774847a725c99ca8cbbb81",
       "value": "./data/Top_Heimdal_subset.txt"
      }
     },
     "2579afd246b94ab685a7ccd568754ef5": {
      "model_module": "@jupyter-widgets/controls",
      "model_module_version": "1.2.0",
      "model_name": "DescriptionStyleModel",
      "state": {
       "description_width": ""
      }
     },
     "25863ce6c7d74b46b5f2131bf6b66150": {
      "model_module": "@jupyter-widgets/controls",
      "model_module_version": "1.2.0",
      "model_name": "HTMLModel",
      "state": {
       "layout": "IPY_MODEL_8a0f6165e2e346f39800e1b6598167e1",
       "style": "IPY_MODEL_7d64cf9cd9b84e35a8c7495541dbf374",
       "value": "<b>X-line range:<b>"
      }
     },
     "25a4d32189df4af8acaa575142e9ff88": {
      "model_module": "@jupyter-widgets/controls",
      "model_module_version": "1.2.0",
      "model_name": "VBoxModel",
      "state": {
       "children": [
        "IPY_MODEL_eb9ea29f6f16426ebaa2ffdad115f0e0",
        "IPY_MODEL_3d75addc644040158c84eb865b528e55"
       ],
       "layout": "IPY_MODEL_a64e3f451c4f43a9b68d86f420c11810"
      }
     },
     "25bce9f6836f497a91db3789be43978e": {
      "model_module": "@jupyter-widgets/base",
      "model_module_version": "1.0.0",
      "model_name": "LayoutModel",
      "state": {}
     },
     "25dd23c1e80e44efa9354c9dbabe077c": {
      "model_module": "@jupyter-widgets/controls",
      "model_module_version": "1.2.0",
      "model_name": "VBoxModel",
      "state": {
       "layout": "IPY_MODEL_0a53c14f71f840a29256dc903ce3811b"
      }
     },
     "25ddbcb3ea644ef6a77e992d6bc31daf": {
      "model_module": "@jupyter-widgets/controls",
      "model_module_version": "1.2.0",
      "model_name": "ButtonStyleModel",
      "state": {}
     },
     "25eb53f5b94a4481a65eaeb46501d58e": {
      "model_module": "@jupyter-widgets/controls",
      "model_module_version": "1.2.0",
      "model_name": "IntTextModel",
      "state": {
       "description": "Latent size:",
       "layout": "IPY_MODEL_402cb21aaf804cb4869bc865ca6ad42d",
       "step": 1,
       "style": "IPY_MODEL_ccdef6e385ea455184d623df31e2d50f",
       "value": 8
      }
     },
     "25f4203ecc6e4dc58a423272a6793e26": {
      "model_module": "@jupyter-widgets/controls",
      "model_module_version": "1.2.0",
      "model_name": "VBoxModel",
      "state": {
       "children": [
        "IPY_MODEL_9f4f46fe99b44270acc34d46bafa92d3",
        "IPY_MODEL_39b6fddadab944d8b2a35f4a51b60a7c"
       ],
       "layout": "IPY_MODEL_545890ccb8b84c4d945ff11ee326ba58"
      }
     },
     "266b8261e7124069abc74a5adde878c6": {
      "model_module": "@jupyter-widgets/base",
      "model_module_version": "1.0.0",
      "model_name": "LayoutModel",
      "state": {}
     },
     "26888a1f15c746ff8383e1efc9965ccd": {
      "model_module": "@jupyter-widgets/base",
      "model_module_version": "1.0.0",
      "model_name": "LayoutModel",
      "state": {}
     },
     "268f9a7fcc384266981d05c5699edab9": {
      "model_module": "@jupyter-widgets/base",
      "model_module_version": "1.0.0",
      "model_name": "LayoutModel",
      "state": {}
     },
     "269158f5353748b3894463aa8b081132": {
      "model_module": "@jupyter-widgets/controls",
      "model_module_version": "1.2.0",
      "model_name": "DescriptionStyleModel",
      "state": {
       "description_width": ""
      }
     },
     "26a5f52370174576a43b611bbff13eb8": {
      "model_module": "@jupyter-widgets/base",
      "model_module_version": "1.0.0",
      "model_name": "LayoutModel",
      "state": {}
     },
     "26e5531ca7014d75ac8e2ce397816c73": {
      "model_module": "@jupyter-widgets/controls",
      "model_module_version": "1.2.0",
      "model_name": "VBoxModel",
      "state": {
       "layout": "IPY_MODEL_aacc9445656a4e91990a57b3200b1da2"
      }
     },
     "26ff69d798da4f1fb9f366581abfad08": {
      "model_module": "@jupyter-widgets/controls",
      "model_module_version": "1.2.0",
      "model_name": "BoundedFloatTextModel",
      "state": {
       "description": "Min Dist:",
       "layout": "IPY_MODEL_197eba92b4e74c99a7c7be4b4ced05b1",
       "max": 1,
       "min": 0.001,
       "step": 0.0001,
       "style": "IPY_MODEL_5e74723b367b448d928c037887706afd",
       "value": 0.01
      }
     },
     "272ce6ab62b8478a856076adafd8353c": {
      "model_module": "@jupyter-widgets/controls",
      "model_module_version": "1.2.0",
      "model_name": "IntTextModel",
      "state": {
       "description": "Start:",
       "layout": "IPY_MODEL_c5edbbe0b42d48b8ad36044a2a480985",
       "step": 1,
       "style": "IPY_MODEL_47f7820a3a114314b50577c26283e982",
       "value": 1500
      }
     },
     "276f66af88d741d7a5b6b5e7c9b76dfa": {
      "model_module": "@jupyter-widgets/base",
      "model_module_version": "1.0.0",
      "model_name": "LayoutModel",
      "state": {}
     },
     "2793cf85f02f4cdf82db327a93299465": {
      "model_module": "@jupyter-widgets/base",
      "model_module_version": "1.0.0",
      "model_name": "LayoutModel",
      "state": {}
     },
     "279466a2a26e4146b05e953ba0b3366c": {
      "model_module": "@jupyter-widgets/controls",
      "model_module_version": "1.2.0",
      "model_name": "IntTextModel",
      "state": {
       "description": "Step:",
       "layout": "IPY_MODEL_1517283065674d03ae0ad0e5bc458c0f",
       "step": 1,
       "style": "IPY_MODEL_253686339be444fdb13ce4406c9a49ef",
       "value": 2
      }
     },
     "27b0750ee8d2488e93f6f3250fb81237": {
      "model_module": "@jupyter-widgets/controls",
      "model_module_version": "1.2.0",
      "model_name": "DescriptionStyleModel",
      "state": {
       "description_width": ""
      }
     },
     "27bfa23e79b441b7be3a99de5fe263f8": {
      "model_module": "@jupyter-widgets/controls",
      "model_module_version": "1.2.0",
      "model_name": "DescriptionStyleModel",
      "state": {
       "description_width": ""
      }
     },
     "27f5dcf05eaa4ce29123a43ee37c8dc1": {
      "model_module": "@jupyter-widgets/controls",
      "model_module_version": "1.2.0",
      "model_name": "DescriptionStyleModel",
      "state": {
       "description_width": ""
      }
     },
     "2811c680c39f4ee1b85d4083aaa6a194": {
      "model_module": "@jupyter-widgets/controls",
      "model_module_version": "1.2.0",
      "model_name": "DropdownModel",
      "state": {
       "_options_labels": [
        "horizon",
        "FF"
       ],
       "description": "Plot Attribute:",
       "index": 0,
       "layout": "IPY_MODEL_4b97b12d43614ac9a021996c3ea7123a",
       "style": "IPY_MODEL_6ef13a7b06304cfbaf48454e4516155c"
      }
     },
     "282a9f3999454ce08b9dd79c27b97545": {
      "model_module": "@jupyter-widgets/controls",
      "model_module_version": "1.2.0",
      "model_name": "IntTextModel",
      "state": {
       "description": "Start:",
       "layout": "IPY_MODEL_78ef03d594aa4e7abf43efe9beedd409",
       "step": 1,
       "style": "IPY_MODEL_edf0c2dc459d4253aaf17017cd304516",
       "value": 1300
      }
     },
     "2844434302164068a1f65681a18c8bd2": {
      "model_module": "@jupyter-widgets/base",
      "model_module_version": "1.0.0",
      "model_name": "LayoutModel",
      "state": {}
     },
     "284b54bb808046ae923af9e345fbc304": {
      "model_module": "@jupyter-widgets/base",
      "model_module_version": "1.0.0",
      "model_name": "LayoutModel",
      "state": {}
     },
     "2857544aa3c540e1ad5228d78bbeeefe": {
      "model_module": "@jupyter-widgets/base",
      "model_module_version": "1.0.0",
      "model_name": "LayoutModel",
      "state": {}
     },
     "28686fa07dd747249d94eb5d24f5567c": {
      "model_module": "@jupyter-widgets/controls",
      "model_module_version": "1.2.0",
      "model_name": "DescriptionStyleModel",
      "state": {
       "description_width": ""
      }
     },
     "288c25aedd754d439645809515268947": {
      "model_module": "@jupyter-widgets/controls",
      "model_module_version": "1.2.0",
      "model_name": "VBoxModel",
      "state": {
       "children": [
        "IPY_MODEL_8b19377d14da4b51b21c0522b8061d5a",
        "IPY_MODEL_8c0c6649621e400d972af264e1f08a03",
        "IPY_MODEL_b32dcb7fcf1a419daea4fa781aeb0a67",
        "IPY_MODEL_37b725d357fd4840a78677555826135e"
       ],
       "layout": "IPY_MODEL_1afdf9b335ac4f5894e2d1e26591b6be"
      }
     },
     "2890cea575b84a088426880bb2c7d6d5": {
      "model_module": "@jupyter-widgets/controls",
      "model_module_version": "1.2.0",
      "model_name": "VBoxModel",
      "state": {
       "children": [
        "IPY_MODEL_ec6860a47c834d7a91ef3d32f66f0305",
        "IPY_MODEL_fc7b38608a364ec68780209695c69e6f",
        "IPY_MODEL_c61f9859cb5945da9144330d7c791d82",
        "IPY_MODEL_9e9b4c3e0aee42b58329726344985bbb",
        "IPY_MODEL_0e875fead921452587b21008e093cf60"
       ],
       "layout": "IPY_MODEL_193d993bacfb4d43ad1a8061104f68d1"
      }
     },
     "28c10a3c97fb46f9856bc853067d0829": {
      "model_module": "@jupyter-widgets/base",
      "model_module_version": "1.0.0",
      "model_name": "LayoutModel",
      "state": {}
     },
     "28c9bc49db9147a897b955b1c4ddff43": {
      "model_module": "@jupyter-widgets/base",
      "model_module_version": "1.0.0",
      "model_name": "LayoutModel",
      "state": {}
     },
     "28d363ca05ce426b8d7ad6ed8d20181e": {
      "model_module": "@jupyter-widgets/base",
      "model_module_version": "1.0.0",
      "model_name": "LayoutModel",
      "state": {}
     },
     "28ee56c476b44cb8ab5a05d8b1ab57ae": {
      "model_module": "@jupyter-widgets/base",
      "model_module_version": "1.0.0",
      "model_name": "LayoutModel",
      "state": {}
     },
     "28f190ff7dfe43c59860e9c85645cdec": {
      "model_module": "@jupyter-widgets/base",
      "model_module_version": "1.0.0",
      "model_name": "LayoutModel",
      "state": {}
     },
     "28f1ec218f6641caaba8075130d78c79": {
      "model_module": "@jupyter-widgets/controls",
      "model_module_version": "1.2.0",
      "model_name": "DropdownModel",
      "state": {
       "_options_labels": [
        "True",
        "False"
       ],
       "description": "True/False:",
       "index": 0,
       "layout": "IPY_MODEL_be998247b9eb40bdb5454251efb0481e",
       "style": "IPY_MODEL_eef635e6299d435e9bbaa3dee619e46d"
      }
     },
     "28fa0e976b4c45968f53f1e392548da4": {
      "model_module": "@jupyter-widgets/base",
      "model_module_version": "1.0.0",
      "model_name": "LayoutModel",
      "state": {}
     },
     "29040ded1d754c6bb495e64cf45afee9": {
      "model_module": "@jupyter-widgets/base",
      "model_module_version": "1.0.0",
      "model_name": "LayoutModel",
      "state": {}
     },
     "29380b54407a4a648f9278e3e727f685": {
      "model_module": "@jupyter-widgets/controls",
      "model_module_version": "1.2.0",
      "model_name": "DescriptionStyleModel",
      "state": {
       "description_width": ""
      }
     },
     "293aa489829145b29f312b96e7520d00": {
      "model_module": "@jupyter-widgets/base",
      "model_module_version": "1.0.0",
      "model_name": "LayoutModel",
      "state": {}
     },
     "294519a8a3964913bc57b13e8413aa88": {
      "model_module": "@jupyter-widgets/base",
      "model_module_version": "1.0.0",
      "model_name": "LayoutModel",
      "state": {}
     },
     "294d321ac993405698ba12d109aaf861": {
      "model_module": "@jupyter-widgets/controls",
      "model_module_version": "1.2.0",
      "model_name": "IntTextModel",
      "state": {
       "description": "Start:",
       "layout": "IPY_MODEL_cb2bc665950044eb9a803aad1045f98d",
       "step": 1,
       "style": "IPY_MODEL_f4bdbe1945854c3ab1069258253e5482",
       "value": 1300
      }
     },
     "296ac9d2fa1b40889ae0f6ccff93b37d": {
      "model_module": "@jupyter-widgets/controls",
      "model_module_version": "1.2.0",
      "model_name": "DescriptionStyleModel",
      "state": {
       "description_width": ""
      }
     },
     "2971619e26b243fb90636ed213f6751b": {
      "model_module": "@jupyter-widgets/controls",
      "model_module_version": "1.2.0",
      "model_name": "IntTextModel",
      "state": {
       "description": "Neighbours:",
       "layout": "IPY_MODEL_cda4290684704b60be92f557329ad498",
       "step": 1,
       "style": "IPY_MODEL_f7ce2e5d9232429aa7397b10ca9422f1",
       "value": 50
      }
     },
     "2975b9ab4bd54d489694faca6dc26bb7": {
      "model_module": "@jupyter-widgets/controls",
      "model_module_version": "1.2.0",
      "model_name": "HTMLModel",
      "state": {
       "layout": "IPY_MODEL_d2a504cae856431e80aad4ee016efcbd",
       "style": "IPY_MODEL_084aaf636e274d2a9ca3e2700ffa25d3",
       "value": "<b>VAE->UMAP 2-D parameters:<b>"
      }
     },
     "298e26ca406d45c991e3d6d26113ff72": {
      "model_module": "@jupyter-widgets/base",
      "model_module_version": "1.0.0",
      "model_name": "LayoutModel",
      "state": {}
     },
     "299cf59b5cee422bb54b4c7a9d5caa26": {
      "model_module": "@jupyter-widgets/base",
      "model_module_version": "1.0.0",
      "model_name": "LayoutModel",
      "state": {}
     },
     "29ac45c50403406b81d22826311bee19": {
      "model_module": "@jupyter-widgets/base",
      "model_module_version": "1.0.0",
      "model_name": "LayoutModel",
      "state": {}
     },
     "29aff6918b88414c86b72aa5750087bf": {
      "model_module": "@jupyter-widgets/base",
      "model_module_version": "1.0.0",
      "model_name": "LayoutModel",
      "state": {}
     },
     "2a3efd3cf3924b6fb5976de5acdef68c": {
      "model_module": "@jupyter-widgets/base",
      "model_module_version": "1.0.0",
      "model_name": "LayoutModel",
      "state": {}
     },
     "2a4989a6eb6c4331a400691928277bb4": {
      "model_module": "@jupyter-widgets/controls",
      "model_module_version": "1.2.0",
      "model_name": "DescriptionStyleModel",
      "state": {
       "description_width": ""
      }
     },
     "2a663899f96043a38a9efc5d7765bcf4": {
      "model_module": "@jupyter-widgets/controls",
      "model_module_version": "1.2.0",
      "model_name": "VBoxModel",
      "state": {
       "children": [
        "IPY_MODEL_99fe34e92b61420a87af478dad141ee9",
        "IPY_MODEL_a709d3dbfb844c308f2baa65bcf8769c",
        "IPY_MODEL_019b1b955468435da2d88222ffb071df",
        "IPY_MODEL_67c701ae6cfa48b9908e5a0207ebc93f"
       ],
       "layout": "IPY_MODEL_5263e28876f94dcaa939387a217e3dca"
      }
     },
     "2ab5873ea3584b3abea8d24e929f6b8e": {
      "model_module": "@jupyter-widgets/base",
      "model_module_version": "1.0.0",
      "model_name": "LayoutModel",
      "state": {
       "border": "4px solid black"
      }
     },
     "2abcba6c8d6f481fa49796e5ff9f222e": {
      "model_module": "@jupyter-widgets/controls",
      "model_module_version": "1.2.0",
      "model_name": "VBoxModel",
      "state": {
       "children": [
        "IPY_MODEL_b42e10e58d4244fd9df70094663ee699",
        "IPY_MODEL_91fcfabfaaee43af8df3a59581a50351"
       ],
       "layout": "IPY_MODEL_f284aa00d7ee40758701ada5d2aa3cc5"
      }
     },
     "2b3bb1b344f143c2bf6e96c01b3f419a": {
      "model_module": "@jupyter-widgets/base",
      "model_module_version": "1.0.0",
      "model_name": "LayoutModel",
      "state": {}
     },
     "2b41d5daea0a4e72bd913c315128a159": {
      "model_module": "@jupyter-widgets/base",
      "model_module_version": "1.0.0",
      "model_name": "LayoutModel",
      "state": {}
     },
     "2b45658683324584bcc65d113164115d": {
      "model_module": "@jupyter-widgets/controls",
      "model_module_version": "1.2.0",
      "model_name": "HTMLModel",
      "state": {
       "layout": "IPY_MODEL_b6dd018d183e4cbe8cfcb62c770c8637",
       "style": "IPY_MODEL_15666c8283954e6ca680220944c0f841",
       "value": "<b>VAE parameters:<b>"
      }
     },
     "2b5d21d432e04ab2a61e6e0eb9e2ab41": {
      "model_module": "@jupyter-widgets/base",
      "model_module_version": "1.0.0",
      "model_name": "LayoutModel",
      "state": {}
     },
     "2c0ee12df9dc4ec7a630dd14816e9f7f": {
      "model_module": "@jupyter-widgets/base",
      "model_module_version": "1.0.0",
      "model_name": "LayoutModel",
      "state": {}
     },
     "2c37d886206c49f5a93b60917a92b7eb": {
      "model_module": "@jupyter-widgets/base",
      "model_module_version": "1.0.0",
      "model_name": "LayoutModel",
      "state": {}
     },
     "2c3878c2beb14843aad7cf77b4fe111d": {
      "model_module": "@jupyter-widgets/base",
      "model_module_version": "1.0.0",
      "model_name": "LayoutModel",
      "state": {}
     },
     "2c3ad4a9e65d48b9a8fd5c17685b3db7": {
      "model_module": "@jupyter-widgets/controls",
      "model_module_version": "1.2.0",
      "model_name": "DescriptionStyleModel",
      "state": {
       "description_width": ""
      }
     },
     "2c484aa60f6b4a38b2dc372424a7fd4e": {
      "model_module": "@jupyter-widgets/base",
      "model_module_version": "1.0.0",
      "model_name": "LayoutModel",
      "state": {}
     },
     "2c6313736fd74c5fa96a93da5db760da": {
      "model_module": "@jupyter-widgets/controls",
      "model_module_version": "1.2.0",
      "model_name": "VBoxModel",
      "state": {
       "children": [
        "IPY_MODEL_089c211180e3482f908dcdc845232ed5",
        "IPY_MODEL_1951434ee614461e9a5bfce1a7949c56",
        "IPY_MODEL_33530a4a10364fe5bc4b62df4b40568c",
        "IPY_MODEL_375e26b69eda479080b44da7a5987f39",
        "IPY_MODEL_74a13f8493144bcfa31e57d644528bfe"
       ],
       "layout": "IPY_MODEL_af1d89ec38d346d2830d6b6edd177770"
      }
     },
     "2c8b0aa968b14369aac188c450988101": {
      "model_module": "@jupyter-widgets/base",
      "model_module_version": "1.0.0",
      "model_name": "LayoutModel",
      "state": {}
     },
     "2ccaf04fe7ec43f89c2701e10891b631": {
      "model_module": "@jupyter-widgets/base",
      "model_module_version": "1.0.0",
      "model_name": "LayoutModel",
      "state": {}
     },
     "2d20ce06b1b14b67bb49872602496be3": {
      "model_module": "@jupyter-widgets/base",
      "model_module_version": "1.0.0",
      "model_name": "LayoutModel",
      "state": {}
     },
     "2d53897fc2d6455b80c06899199c9dee": {
      "model_module": "@jupyter-widgets/base",
      "model_module_version": "1.0.0",
      "model_name": "LayoutModel",
      "state": {}
     },
     "2dcb7f70266b4261942325eb23c38fc5": {
      "model_module": "@jupyter-widgets/controls",
      "model_module_version": "1.2.0",
      "model_name": "DescriptionStyleModel",
      "state": {
       "description_width": ""
      }
     },
     "2dd7c7d3d6c242fcbfa2679446b9cd0a": {
      "model_module": "@jupyter-widgets/controls",
      "model_module_version": "1.2.0",
      "model_name": "ButtonModel",
      "state": {
       "description": "Clear Output",
       "layout": "IPY_MODEL_e43eee9e0a5f4fea8eef469040acab2b",
       "style": "IPY_MODEL_c2ec2d58c86b45ddbc04dad2bf7d57c5"
      }
     },
     "2e314c890ded4a5680dc7b6cdcf6cd76": {
      "model_module": "@jupyter-widgets/controls",
      "model_module_version": "1.2.0",
      "model_name": "VBoxModel",
      "state": {
       "children": [
        "IPY_MODEL_04489ef4799c4db99e5195c9913409b8",
        "IPY_MODEL_0feed2f23f45447da210c91910fe45e6"
       ],
       "layout": "IPY_MODEL_f498899fb9c34ef79a56dd0018ea5e5d"
      }
     },
     "2e6211e5edab41eaaee1efbd83431edf": {
      "model_module": "@jupyter-widgets/controls",
      "model_module_version": "1.2.0",
      "model_name": "IntTextModel",
      "state": {
       "description": "Above Add:",
       "layout": "IPY_MODEL_5cca018067554a6bb87cd138b0ce0fcd",
       "step": 1,
       "style": "IPY_MODEL_11bc4824355245a89413859f95ebfaac",
       "value": 12
      }
     },
     "2e89c6138d6843c582e690e182f65f9a": {
      "model_module": "@jupyter-widgets/base",
      "model_module_version": "1.0.0",
      "model_name": "LayoutModel",
      "state": {}
     },
     "2e9851dbaeaf40439dd2b8d6024f7bf9": {
      "model_module": "@jupyter-widgets/base",
      "model_module_version": "1.0.0",
      "model_name": "LayoutModel",
      "state": {}
     },
     "2ebee916867b4139b7ad6f543eee0df7": {
      "model_module": "@jupyter-widgets/controls",
      "model_module_version": "1.2.0",
      "model_name": "DescriptionStyleModel",
      "state": {
       "description_width": ""
      }
     },
     "2ed274c741604cf1ae933b4a71138615": {
      "model_module": "@jupyter-widgets/controls",
      "model_module_version": "1.2.0",
      "model_name": "ButtonModel",
      "state": {
       "description": "Clear Output",
       "layout": "IPY_MODEL_bba01eb9394f40e896513a4778b482c7",
       "style": "IPY_MODEL_7c6c94b482c24174912b16a475c4395e"
      }
     },
     "2edecf2f77cc4794b169119fa0971b89": {
      "model_module": "@jupyter-widgets/base",
      "model_module_version": "1.0.0",
      "model_name": "LayoutModel",
      "state": {}
     },
     "2eded608b5ca430a9a08a6544bb66d7d": {
      "model_module": "@jupyter-widgets/base",
      "model_module_version": "1.0.0",
      "model_name": "LayoutModel",
      "state": {}
     },
     "2f10b27abfa34cc39556bdf5fbbdd5dd": {
      "model_module": "@jupyter-widgets/controls",
      "model_module_version": "1.2.0",
      "model_name": "ButtonStyleModel",
      "state": {}
     },
     "2f15cc79e6314bee9677b2a69c4dffbc": {
      "model_module": "@jupyter-widgets/controls",
      "model_module_version": "1.2.0",
      "model_name": "HTMLModel",
      "state": {
       "layout": "IPY_MODEL_53cf34ab4a2a4dc6b59e161aa0c32d54",
       "style": "IPY_MODEL_e8e58fae53774c859eed5ae62b6b126a",
       "value": "<b>Horizon Flattening:<b>"
      }
     },
     "2f6405d99c594d019486e09dd86c59eb": {
      "model_module": "@jupyter-widgets/controls",
      "model_module_version": "1.2.0",
      "model_name": "IntTextModel",
      "state": {
       "description": "Epochs:",
       "layout": "IPY_MODEL_e4d2bac065be420d8928acb295e401d1",
       "step": 1,
       "style": "IPY_MODEL_ee9421994b7047f684696fc34aeab1fa",
       "value": 3
      }
     },
     "2f93722f199c46c19bf4474e14498f8c": {
      "model_module": "@jupyter-widgets/controls",
      "model_module_version": "1.2.0",
      "model_name": "DescriptionStyleModel",
      "state": {
       "description_width": ""
      }
     },
     "2fb03c19ac01400ca08d0eef2aabe5b9": {
      "model_module": "@jupyter-widgets/controls",
      "model_module_version": "1.2.0",
      "model_name": "TextModel",
      "state": {
       "description": "Far SEGY:",
       "layout": "IPY_MODEL_60d0c4f7a65c44aca2e82f1189498129",
       "style": "IPY_MODEL_aec22d9de05148b9afbff6cece4b72a0",
       "value": "./data/3d_farstack.sgy"
      }
     },
     "2fe17b0910a047f3a2703198ba0de58e": {
      "model_module": "@jupyter-widgets/base",
      "model_module_version": "1.0.0",
      "model_name": "LayoutModel",
      "state": {}
     },
     "2ff63578b5bf4cf680657cb8a014793e": {
      "model_module": "@jupyter-widgets/base",
      "model_module_version": "1.0.0",
      "model_name": "LayoutModel",
      "state": {}
     },
     "301567a75b1c4667aeb6a4860c0ae494": {
      "model_module": "@jupyter-widgets/controls",
      "model_module_version": "1.2.0",
      "model_name": "IntTextModel",
      "state": {
       "description": "Epochs:",
       "layout": "IPY_MODEL_38b8f82e5c6b4d0abdfe2e48b1d6e200",
       "step": 1,
       "style": "IPY_MODEL_f472fe596c054bd3a3850aa003383f69",
       "value": 3
      }
     },
     "301e78525159499794ad2f62c8456ea1": {
      "model_module": "@jupyter-widgets/controls",
      "model_module_version": "1.2.0",
      "model_name": "HTMLModel",
      "state": {
       "layout": "IPY_MODEL_c2e4b0d6fa6a4a918a9b74240acd0a98",
       "style": "IPY_MODEL_568573dacc8344c5b76d55623727c661",
       "value": "<b>In-line range:<b>"
      }
     },
     "30254cb3b3744787b79591c76cd06695": {
      "model_module": "@jupyter-widgets/controls",
      "model_module_version": "1.2.0",
      "model_name": "IntTextModel",
      "state": {
       "description": "Start:",
       "layout": "IPY_MODEL_76cd9de342094d26a8c6ee0b25b7b859",
       "step": 1,
       "style": "IPY_MODEL_2dcb7f70266b4261942325eb23c38fc5",
       "value": 1500
      }
     },
     "30459a403cae42dcaeab1ca20393dd83": {
      "model_module": "@jupyter-widgets/base",
      "model_module_version": "1.0.0",
      "model_name": "LayoutModel",
      "state": {}
     },
     "3057a865895b4a58bad8bd30aadc5d51": {
      "model_module": "@jupyter-widgets/controls",
      "model_module_version": "1.2.0",
      "model_name": "VBoxModel",
      "state": {
       "children": [
        "IPY_MODEL_31b9813f1a9140f29a29f1751fee861f",
        "IPY_MODEL_6e158d24c77f4cd599e5ac069e23e362"
       ],
       "layout": "IPY_MODEL_b415bd4b4e524e6091b6e799ca84ae53"
      }
     },
     "30855d3bf181422e8415ee8aaddd6271": {
      "model_module": "@jupyter-widgets/controls",
      "model_module_version": "1.2.0",
      "model_name": "DescriptionStyleModel",
      "state": {
       "description_width": ""
      }
     },
     "30986451847f4f4bb99b7d0b5f64af9c": {
      "model_module": "@jupyter-widgets/controls",
      "model_module_version": "1.2.0",
      "model_name": "DescriptionStyleModel",
      "state": {
       "description_width": ""
      }
     },
     "3099c55dc6124b2494a57f6e0ba29cea": {
      "model_module": "@jupyter-widgets/controls",
      "model_module_version": "1.2.0",
      "model_name": "BoundedFloatTextModel",
      "state": {
       "description": "Min Dist:",
       "layout": "IPY_MODEL_7377af6ab1da4004a600d9d861cfddb3",
       "max": 1,
       "min": 0.0001,
       "step": 0.0001,
       "style": "IPY_MODEL_a9d4a333f9cb47d8b665dbd5cdcb4bb9",
       "value": 0.01
      }
     },
     "30e62cec63864f198976a7c7792643f2": {
      "model_module": "@jupyter-widgets/base",
      "model_module_version": "1.0.0",
      "model_name": "LayoutModel",
      "state": {}
     },
     "30f66020bc594ee0a90683655ce6fc43": {
      "model_module": "@jupyter-widgets/output",
      "model_module_version": "1.0.0",
      "model_name": "OutputModel",
      "state": {
       "layout": "IPY_MODEL_6ac70e9ad7b64928902e1f68feb1c9b8"
      }
     },
     "312d573e57244487be284771fa06de64": {
      "model_module": "@jupyter-widgets/base",
      "model_module_version": "1.0.0",
      "model_name": "LayoutModel",
      "state": {}
     },
     "3150e0315096489b9214a983420fa492": {
      "model_module": "@jupyter-widgets/controls",
      "model_module_version": "1.2.0",
      "model_name": "ButtonModel",
      "state": {
       "description": "Run Vae",
       "layout": "IPY_MODEL_0f62881404a24ad587e35ae2291276ce",
       "style": "IPY_MODEL_00097e2671e24017afd1acc60a6ca4f9"
      }
     },
     "31748d8b6e07411dafce939b7728ee94": {
      "model_module": "@jupyter-widgets/controls",
      "model_module_version": "1.2.0",
      "model_name": "ButtonStyleModel",
      "state": {}
     },
     "31771f49131e4ad993bdc82d2cb7dd94": {
      "model_module": "@jupyter-widgets/base",
      "model_module_version": "1.0.0",
      "model_name": "LayoutModel",
      "state": {}
     },
     "31977288829a4baf8abd4d9fb12d4aab": {
      "model_module": "@jupyter-widgets/controls",
      "model_module_version": "1.2.0",
      "model_name": "BoundedFloatTextModel",
      "state": {
       "description": "Learn Rate:",
       "layout": "IPY_MODEL_e0453065eb5e4290b03d74b955428d6f",
       "max": 1,
       "min": 0.0001,
       "step": 0.005,
       "style": "IPY_MODEL_e898092d35f74825a35590e9f005500c",
       "value": 0.01
      }
     },
     "319e2882c4964593b3604ac2221f4a1b": {
      "model_module": "@jupyter-widgets/base",
      "model_module_version": "1.0.0",
      "model_name": "LayoutModel",
      "state": {}
     },
     "31b9813f1a9140f29a29f1751fee861f": {
      "model_module": "@jupyter-widgets/controls",
      "model_module_version": "1.2.0",
      "model_name": "HTMLModel",
      "state": {
       "layout": "IPY_MODEL_be34bdd3dffe49aeb52dd7b90cd0f016",
       "style": "IPY_MODEL_bfc3ecc3a27740d8a643ba3188ad21f7",
       "value": "<b>Normalisation:<b>"
      }
     },
     "31d82ed96c124d449db8f426bad1d098": {
      "model_module": "@jupyter-widgets/controls",
      "model_module_version": "1.2.0",
      "model_name": "DescriptionStyleModel",
      "state": {
       "description_width": ""
      }
     },
     "31debdf6886f4df09ce1cf992213281e": {
      "model_module": "@jupyter-widgets/base",
      "model_module_version": "1.0.0",
      "model_name": "LayoutModel",
      "state": {}
     },
     "31f8cacc03d542a3b94ccaf62d77b4d9": {
      "model_module": "@jupyter-widgets/controls",
      "model_module_version": "1.2.0",
      "model_name": "HTMLModel",
      "state": {
       "layout": "IPY_MODEL_508fe9425c51411e94a52ce1407b08b7",
       "style": "IPY_MODEL_622613f116eb477ea0ae8fa6abdd70e9",
       "value": "<b>Normalisation:<b>"
      }
     },
     "320505e4ee5f408da595ae3bfd16923a": {
      "model_module": "@jupyter-widgets/controls",
      "model_module_version": "1.2.0",
      "model_name": "DescriptionStyleModel",
      "state": {
       "description_width": ""
      }
     },
     "323bbab419764a1288be1dde240ed069": {
      "model_module": "@jupyter-widgets/controls",
      "model_module_version": "1.2.0",
      "model_name": "HBoxModel",
      "state": {
       "children": [
        "IPY_MODEL_c7ecbc0fd30d42a8b92a1d27028d8e7e",
        "IPY_MODEL_c2440c6d7ef2492b9ea2e905ad142e70"
       ],
       "layout": "IPY_MODEL_a17c26f0024b487b96f0d4d42818d202"
      }
     },
     "32632d3792bb4bc697d8f43e292037e4": {
      "model_module": "@jupyter-widgets/base",
      "model_module_version": "1.0.0",
      "model_name": "LayoutModel",
      "state": {}
     },
     "327666b6fa294facbd286c534660a155": {
      "model_module": "@jupyter-widgets/controls",
      "model_module_version": "1.2.0",
      "model_name": "IntTextModel",
      "state": {
       "description": "Start:",
       "layout": "IPY_MODEL_77eba014cafc4ecebf249f88820f0511",
       "step": 1,
       "style": "IPY_MODEL_545bf2dde96a40c39b8c4722f92fd786",
       "value": 1500
      }
     },
     "32798481dc8e41c899faf884bd812862": {
      "model_module": "@jupyter-widgets/controls",
      "model_module_version": "1.2.0",
      "model_name": "VBoxModel",
      "state": {
       "children": [
        "IPY_MODEL_c5301412713b420e9b2e905ce06fb699",
        "IPY_MODEL_6b3089c8ae214ff1996244744fe7675c"
       ],
       "layout": "IPY_MODEL_aca5ac4d8e7c42038a4aa44923e9dc51"
      }
     },
     "32a58eb611454bff846ba2a2829c9893": {
      "model_module": "@jupyter-widgets/controls",
      "model_module_version": "1.2.0",
      "model_name": "IntTextModel",
      "state": {
       "description": "Start:",
       "layout": "IPY_MODEL_5d9906a113b0453e8c4d38510d4cfb60",
       "step": 1,
       "style": "IPY_MODEL_b142488b115449c08e1282adff2927fc",
       "value": 1500
      }
     },
     "32e90ad5ad644c4b936490ffb90dec70": {
      "model_module": "@jupyter-widgets/controls",
      "model_module_version": "1.2.0",
      "model_name": "DescriptionStyleModel",
      "state": {
       "description_width": ""
      }
     },
     "3307cbdbba7042b4b4bc9baa12a9beb1": {
      "model_module": "@jupyter-widgets/controls",
      "model_module_version": "1.2.0",
      "model_name": "DescriptionStyleModel",
      "state": {
       "description_width": ""
      }
     },
     "330e290aeeff4109bdd0d114e919dae8": {
      "model_module": "@jupyter-widgets/base",
      "model_module_version": "1.0.0",
      "model_name": "LayoutModel",
      "state": {}
     },
     "332ab6b2d8454a17affa1de6daeaec8e": {
      "model_module": "@jupyter-widgets/controls",
      "model_module_version": "1.2.0",
      "model_name": "DescriptionStyleModel",
      "state": {
       "description_width": ""
      }
     },
     "33530a4a10364fe5bc4b62df4b40568c": {
      "model_module": "@jupyter-widgets/controls",
      "model_module_version": "1.2.0",
      "model_name": "BoundedFloatTextModel",
      "state": {
       "description": "Learn Rate:",
       "layout": "IPY_MODEL_c29e8b98cbd94f93b08855c6138cd1e5",
       "max": 1,
       "min": 0.0001,
       "step": 0.005,
       "style": "IPY_MODEL_732377602e1e42af8757f228e894acc5",
       "value": 0.01
      }
     },
     "3379c7579b7b4d30a359ad4a06af798c": {
      "model_module": "@jupyter-widgets/base",
      "model_module_version": "1.0.0",
      "model_name": "LayoutModel",
      "state": {}
     },
     "33a91bd6cc984f26afd3a1f6082a8fe9": {
      "model_module": "@jupyter-widgets/controls",
      "model_module_version": "1.2.0",
      "model_name": "DescriptionStyleModel",
      "state": {
       "description_width": ""
      }
     },
     "33caba93c6ac42ed98bcf87fda56c8ad": {
      "model_module": "@jupyter-widgets/controls",
      "model_module_version": "1.2.0",
      "model_name": "IntTextModel",
      "state": {
       "description": "Epochs:",
       "layout": "IPY_MODEL_36a8594e2fca4857a59ad00be7c5f1d1",
       "step": 1,
       "style": "IPY_MODEL_1a7db5fc664c41028c1ba68c0bae797e",
       "value": 3
      }
     },
     "33e1c49dde2940c9b4f8d8b43584ca3c": {
      "model_module": "@jupyter-widgets/base",
      "model_module_version": "1.0.0",
      "model_name": "LayoutModel",
      "state": {}
     },
     "3402db70ece84bb7827a2b6ddb2ca0e8": {
      "model_module": "@jupyter-widgets/controls",
      "model_module_version": "1.2.0",
      "model_name": "ButtonStyleModel",
      "state": {}
     },
     "340e7a9eec464346aac9f58923d4f1d7": {
      "model_module": "@jupyter-widgets/base",
      "model_module_version": "1.0.0",
      "model_name": "LayoutModel",
      "state": {}
     },
     "3429d216549b489292a32bb2ba3a380c": {
      "model_module": "@jupyter-widgets/controls",
      "model_module_version": "1.2.0",
      "model_name": "HBoxModel",
      "state": {
       "children": [
        "IPY_MODEL_fe4a841edb4746fdacfc242b2ef48281",
        "IPY_MODEL_80a82024b9944c139e13b824af26ddbe",
        "IPY_MODEL_e4f8cc87bf154929a686c1c10ae04514"
       ],
       "layout": "IPY_MODEL_d39704be21bc4e55bb0ebb1eb096a8f9"
      }
     },
     "3438bbb1a02c471c8b3b5398e0cb2073": {
      "model_module": "@jupyter-widgets/controls",
      "model_module_version": "1.2.0",
      "model_name": "DescriptionStyleModel",
      "state": {
       "description_width": ""
      }
     },
     "34656aba52204d2284c37fa6ef3370cd": {
      "model_module": "@jupyter-widgets/base",
      "model_module_version": "1.0.0",
      "model_name": "LayoutModel",
      "state": {}
     },
     "3470df9f75c14a5bbb1b804315163027": {
      "model_module": "@jupyter-widgets/controls",
      "model_module_version": "1.2.0",
      "model_name": "VBoxModel",
      "state": {
       "children": [
        "IPY_MODEL_22ecbcc746514b6ca29f8bc0be8b9ee5",
        "IPY_MODEL_451a141c864a4996b55e3b642509d1d8"
       ],
       "layout": "IPY_MODEL_e75fe473defd4d459a975e800596eb66"
      }
     },
     "347da44558b74cd29c59afeec53224c5": {
      "model_module": "@jupyter-widgets/base",
      "model_module_version": "1.0.0",
      "model_name": "LayoutModel",
      "state": {}
     },
     "347e2ee428cb4170b85ec6a0d4659a06": {
      "model_module": "@jupyter-widgets/base",
      "model_module_version": "1.0.0",
      "model_name": "LayoutModel",
      "state": {}
     },
     "349f09d92d9c4e4d8c522bde294fd606": {
      "model_module": "@jupyter-widgets/controls",
      "model_module_version": "1.2.0",
      "model_name": "DescriptionStyleModel",
      "state": {
       "description_width": ""
      }
     },
     "34b6aa43dd2d4a1d9282047259fe44c1": {
      "model_module": "@jupyter-widgets/controls",
      "model_module_version": "1.2.0",
      "model_name": "DescriptionStyleModel",
      "state": {
       "description_width": ""
      }
     },
     "34bbd8ac37fd4d5984d41794adce6bcc": {
      "model_module": "@jupyter-widgets/controls",
      "model_module_version": "1.2.0",
      "model_name": "DescriptionStyleModel",
      "state": {
       "description_width": ""
      }
     },
     "34d0912120a246d694d325d4d84445b4": {
      "model_module": "@jupyter-widgets/controls",
      "model_module_version": "1.2.0",
      "model_name": "DescriptionStyleModel",
      "state": {
       "description_width": ""
      }
     },
     "350f8408119e466b93af169399f897f3": {
      "model_module": "@jupyter-widgets/base",
      "model_module_version": "1.0.0",
      "model_name": "LayoutModel",
      "state": {}
     },
     "351dab7ee6fe4efc8e5df0d4fe12f2a1": {
      "model_module": "@jupyter-widgets/controls",
      "model_module_version": "1.2.0",
      "model_name": "DescriptionStyleModel",
      "state": {
       "description_width": ""
      }
     },
     "352601bb5a834e9eb0797723ed585446": {
      "model_module": "@jupyter-widgets/controls",
      "model_module_version": "1.2.0",
      "model_name": "DescriptionStyleModel",
      "state": {
       "description_width": ""
      }
     },
     "357419a3807d45139fd14716e8201b92": {
      "model_module": "@jupyter-widgets/base",
      "model_module_version": "1.0.0",
      "model_name": "LayoutModel",
      "state": {}
     },
     "357ae9efcb2a4f08b0c02e5f79cab339": {
      "model_module": "@jupyter-widgets/controls",
      "model_module_version": "1.2.0",
      "model_name": "TextModel",
      "state": {
       "description": "Horizon .txt:",
       "layout": "IPY_MODEL_ce018f68a67f49bb9fe347f4b47dc323",
       "style": "IPY_MODEL_026ad09b978f441ba02fab10a378f5e3",
       "value": "./data/Top_Heimdal_subset.txt"
      }
     },
     "358d697701dd4f33b626657ffd4324ae": {
      "model_module": "@jupyter-widgets/controls",
      "model_module_version": "1.2.0",
      "model_name": "VBoxModel",
      "state": {
       "children": [
        "IPY_MODEL_67458a106a1e42f9a5864627a7172e71",
        "IPY_MODEL_dd85fa054d1e457886be988c97a214ee"
       ],
       "layout": "IPY_MODEL_65176fcaf31241d3a45f7b170255f8a5"
      }
     },
     "359736eb8d7f402cbac6eab6a35f0df5": {
      "model_module": "@jupyter-widgets/controls",
      "model_module_version": "1.2.0",
      "model_name": "DescriptionStyleModel",
      "state": {
       "description_width": ""
      }
     },
     "35b2cd13db1f4548b6b3e8b32834a47f": {
      "model_module": "@jupyter-widgets/base",
      "model_module_version": "1.0.0",
      "model_name": "LayoutModel",
      "state": {}
     },
     "35bc2906ed9a463f8c96418b4d901e38": {
      "model_module": "@jupyter-widgets/controls",
      "model_module_version": "1.2.0",
      "model_name": "VBoxModel",
      "state": {
       "layout": "IPY_MODEL_4ffbbdb2ab2c4d399338804cf4ad51fa"
      }
     },
     "35d49bb614d449289e08ec1068e8c4e2": {
      "model_module": "@jupyter-widgets/base",
      "model_module_version": "1.0.0",
      "model_name": "LayoutModel",
      "state": {}
     },
     "35f1f2dc89e7476f86bce72dff2192b3": {
      "model_module": "@jupyter-widgets/controls",
      "model_module_version": "1.2.0",
      "model_name": "ButtonStyleModel",
      "state": {}
     },
     "362f936248a54f8287734b98327bcc9c": {
      "model_module": "@jupyter-widgets/controls",
      "model_module_version": "1.2.0",
      "model_name": "DescriptionStyleModel",
      "state": {
       "description_width": ""
      }
     },
     "363655b03a68492aa48e3da2f781e614": {
      "model_module": "@jupyter-widgets/controls",
      "model_module_version": "1.2.0",
      "model_name": "ButtonModel",
      "state": {
       "description": "Run Vae",
       "layout": "IPY_MODEL_a750140a2b8b4df29f6d4939e397a270",
       "style": "IPY_MODEL_7c2a3169eec0427f8d6794c37c108d2c"
      }
     },
     "363c058cab644a35886c4fd425d72085": {
      "model_module": "@jupyter-widgets/base",
      "model_module_version": "1.0.0",
      "model_name": "LayoutModel",
      "state": {}
     },
     "364adf51985242a6aaff870d5d82e205": {
      "model_module": "@jupyter-widgets/controls",
      "model_module_version": "1.2.0",
      "model_name": "HTMLModel",
      "state": {
       "layout": "IPY_MODEL_7eeabf7fbd244572b3e6b7b7393324ea",
       "style": "IPY_MODEL_ca65998e220e401093571133b5421405",
       "value": "<b>UMAP:<b>"
      }
     },
     "367533db136741d78f7fce92f3fa773c": {
      "model_module": "@jupyter-widgets/controls",
      "model_module_version": "1.2.0",
      "model_name": "DescriptionStyleModel",
      "state": {
       "description_width": ""
      }
     },
     "36865362e3164d80829defd3e81d0760": {
      "model_module": "@jupyter-widgets/base",
      "model_module_version": "1.0.0",
      "model_name": "LayoutModel",
      "state": {}
     },
     "369172ea151f4a29aac07b7c937aa697": {
      "model_module": "@jupyter-widgets/base",
      "model_module_version": "1.0.0",
      "model_name": "LayoutModel",
      "state": {}
     },
     "36a84c82634a4817a427a35d51dfa73a": {
      "model_module": "@jupyter-widgets/base",
      "model_module_version": "1.0.0",
      "model_name": "LayoutModel",
      "state": {}
     },
     "36a85786f1884a81b3cd411e0baf0720": {
      "model_module": "@jupyter-widgets/base",
      "model_module_version": "1.0.0",
      "model_name": "LayoutModel",
      "state": {}
     },
     "36a8594e2fca4857a59ad00be7c5f1d1": {
      "model_module": "@jupyter-widgets/base",
      "model_module_version": "1.0.0",
      "model_name": "LayoutModel",
      "state": {}
     },
     "36c9943fbcac444db2deacc1096883c0": {
      "model_module": "@jupyter-widgets/base",
      "model_module_version": "1.0.0",
      "model_name": "LayoutModel",
      "state": {}
     },
     "371449bf4f344a64a6f28fc7a9e292ef": {
      "model_module": "@jupyter-widgets/controls",
      "model_module_version": "1.2.0",
      "model_name": "HTMLModel",
      "state": {
       "layout": "IPY_MODEL_5bbccdd40cd241d580f832f5f576ec59",
       "style": "IPY_MODEL_f8b660f87cb148879546de10f9bd979f",
       "value": "<b>VAE->UMAP 2-D parameters:<b>"
      }
     },
     "37310fd0591c45b08d1504a2b2021787": {
      "model_module": "@jupyter-widgets/controls",
      "model_module_version": "1.2.0",
      "model_name": "HBoxModel",
      "state": {
       "children": [
        "IPY_MODEL_b223cb7f93564f918efcc0624dac6823",
        "IPY_MODEL_d0019239a5434b46818f5eb7979c09b2"
       ],
       "layout": "IPY_MODEL_dcf8e1e3dce34455a04871e495c05718"
      }
     },
     "3741673b2c66489eb137b0e4066ea33f": {
      "model_module": "@jupyter-widgets/controls",
      "model_module_version": "1.2.0",
      "model_name": "DescriptionStyleModel",
      "state": {
       "description_width": ""
      }
     },
     "375e26b69eda479080b44da7a5987f39": {
      "model_module": "@jupyter-widgets/controls",
      "model_module_version": "1.2.0",
      "model_name": "IntTextModel",
      "state": {
       "description": "Latent size:",
       "layout": "IPY_MODEL_fa805b82b33f4e80b1f3a8f1f374a405",
       "step": 1,
       "style": "IPY_MODEL_7eb05a9ccd8a4e398c89505d8e4cd59f",
       "value": 8
      }
     },
     "3770ffb8af9e44feafcb976c2578c341": {
      "model_module": "@jupyter-widgets/controls",
      "model_module_version": "1.2.0",
      "model_name": "DescriptionStyleModel",
      "state": {
       "description_width": ""
      }
     },
     "37b725d357fd4840a78677555826135e": {
      "model_module": "@jupyter-widgets/controls",
      "model_module_version": "1.2.0",
      "model_name": "IntTextModel",
      "state": {
       "description": "Below Add:",
       "layout": "IPY_MODEL_76eabb41d50c4289b2fa3afadf2b4dab",
       "step": 1,
       "style": "IPY_MODEL_838e9bc8475346b7be6e7b62c52aff40",
       "value": 52
      }
     },
     "37bfbb51bc214873b2cd482424adbef5": {
      "model_module": "@jupyter-widgets/controls",
      "model_module_version": "1.2.0",
      "model_name": "VBoxModel",
      "state": {
       "layout": "IPY_MODEL_a6b3814d62744bb89a131a000f1059fb"
      }
     },
     "37f60d58f98543399177ab9b9bec1c96": {
      "model_module": "@jupyter-widgets/controls",
      "model_module_version": "1.2.0",
      "model_name": "ButtonModel",
      "state": {
       "description": "Process Input",
       "layout": "IPY_MODEL_3c85ba2b0ffd446b85fc84a598e57861",
       "style": "IPY_MODEL_f5400f3a7dd144fb92d700638121b973"
      }
     },
     "37fd0e6b09c5415594f5d8d78b5947ad": {
      "model_module": "@jupyter-widgets/base",
      "model_module_version": "1.0.0",
      "model_name": "LayoutModel",
      "state": {}
     },
     "3822fa9c1cdc4e068ee05232c05f10f8": {
      "model_module": "@jupyter-widgets/base",
      "model_module_version": "1.0.0",
      "model_name": "LayoutModel",
      "state": {}
     },
     "388f829dcea146f38eadacbadf8f6f2e": {
      "model_module": "@jupyter-widgets/controls",
      "model_module_version": "1.2.0",
      "model_name": "DescriptionStyleModel",
      "state": {
       "description_width": ""
      }
     },
     "389811be97b5450781cbcb272cc9636a": {
      "model_module": "@jupyter-widgets/controls",
      "model_module_version": "1.2.0",
      "model_name": "DescriptionStyleModel",
      "state": {
       "description_width": ""
      }
     },
     "38b28a1ccba040789f178a0016ade713": {
      "model_module": "@jupyter-widgets/controls",
      "model_module_version": "1.2.0",
      "model_name": "DescriptionStyleModel",
      "state": {
       "description_width": ""
      }
     },
     "38b8f82e5c6b4d0abdfe2e48b1d6e200": {
      "model_module": "@jupyter-widgets/base",
      "model_module_version": "1.0.0",
      "model_name": "LayoutModel",
      "state": {}
     },
     "38eb272fcae145128984438678ecc389": {
      "model_module": "@jupyter-widgets/base",
      "model_module_version": "1.0.0",
      "model_name": "LayoutModel",
      "state": {}
     },
     "38f6d9337fc24d30896db77c552cea7d": {
      "model_module": "@jupyter-widgets/controls",
      "model_module_version": "1.2.0",
      "model_name": "IntTextModel",
      "state": {
       "description": "Stop:",
       "layout": "IPY_MODEL_2b5d21d432e04ab2a61e6e0eb9e2ab41",
       "step": 1,
       "style": "IPY_MODEL_12bd3f0437f34ac2a8d7705a5f4e728f",
       "value": 2002
      }
     },
     "38f7dbdf6fb341e1bf54e6b4f34a3f07": {
      "model_module": "@jupyter-widgets/controls",
      "model_module_version": "1.2.0",
      "model_name": "BoundedFloatTextModel",
      "state": {
       "description": "Min Dist:",
       "layout": "IPY_MODEL_9ab7a7c8604443449fe897090ca03b1b",
       "max": 1,
       "min": 0.001,
       "step": 0.0001,
       "style": "IPY_MODEL_93695ed4a0a84718abf574b9eb14d955",
       "value": 0.01
      }
     },
     "390e1877c3f645fe817d9c694b617971": {
      "model_module": "@jupyter-widgets/base",
      "model_module_version": "1.0.0",
      "model_name": "LayoutModel",
      "state": {}
     },
     "39136d35e60f4d0089c05242828a8519": {
      "model_module": "@jupyter-widgets/controls",
      "model_module_version": "1.2.0",
      "model_name": "IntTextModel",
      "state": {
       "description": "Above Add:",
       "layout": "IPY_MODEL_cf547725a6314d6a8546b10da546c948",
       "step": 1,
       "style": "IPY_MODEL_3da1130456c5453a81716cf6f6279a03",
       "value": 12
      }
     },
     "3920c626dc134223a9a00f2b48872e80": {
      "model_module": "@jupyter-widgets/controls",
      "model_module_version": "1.2.0",
      "model_name": "ButtonModel",
      "state": {
       "description": "Process Input",
       "layout": "IPY_MODEL_b1d3d148f4aa432ba97a4bd0f17e8331",
       "style": "IPY_MODEL_441829f9ec1d4be4af054dead6e33f95"
      }
     },
     "3933236ef12b4a69b1668635351e00a6": {
      "model_module": "@jupyter-widgets/controls",
      "model_module_version": "1.2.0",
      "model_name": "DescriptionStyleModel",
      "state": {
       "description_width": ""
      }
     },
     "395dd62541e744b6ae0bf36037418267": {
      "model_module": "@jupyter-widgets/controls",
      "model_module_version": "1.2.0",
      "model_name": "IntTextModel",
      "state": {
       "description": "Start:",
       "layout": "IPY_MODEL_e69541654eec46e39493fad0d79df44a",
       "step": 1,
       "style": "IPY_MODEL_e2bb44cd59d54072982d5f0e8a0226b9",
       "value": 1500
      }
     },
     "397a3efe8d6f4e80a35e50cc15af6282": {
      "model_module": "@jupyter-widgets/controls",
      "model_module_version": "1.2.0",
      "model_name": "DescriptionStyleModel",
      "state": {
       "description_width": ""
      }
     },
     "399ebf7dc8724e40ab95189d5173d38a": {
      "model_module": "@jupyter-widgets/base",
      "model_module_version": "1.0.0",
      "model_name": "LayoutModel",
      "state": {}
     },
     "399f7fe8907c41bb91106e1ed6fa4ba0": {
      "model_module": "@jupyter-widgets/base",
      "model_module_version": "1.0.0",
      "model_name": "LayoutModel",
      "state": {}
     },
     "39a9edc8fcdc429cbaa109199767833a": {
      "model_module": "@jupyter-widgets/base",
      "model_module_version": "1.0.0",
      "model_name": "LayoutModel",
      "state": {}
     },
     "39b6fddadab944d8b2a35f4a51b60a7c": {
      "model_module": "@jupyter-widgets/controls",
      "model_module_version": "1.2.0",
      "model_name": "DropdownModel",
      "state": {
       "_options_labels": [
        "True",
        "False"
       ],
       "description": "True/False:",
       "index": 0,
       "layout": "IPY_MODEL_17aeab53052f4cebb8bf305cdf7f628f",
       "style": "IPY_MODEL_7fc8f12ad99842419d3bca559f948add"
      }
     },
     "3a05db0426184f778f5cfa89bd173962": {
      "model_module": "@jupyter-widgets/controls",
      "model_module_version": "1.2.0",
      "model_name": "DescriptionStyleModel",
      "state": {
       "description_width": ""
      }
     },
     "3a2274e7e2454bdbbef75d147933055c": {
      "model_module": "@jupyter-widgets/controls",
      "model_module_version": "1.2.0",
      "model_name": "DescriptionStyleModel",
      "state": {
       "description_width": ""
      }
     },
     "3a4d500fb74e4f4ab21647e9837705f3": {
      "model_module": "@jupyter-widgets/controls",
      "model_module_version": "1.2.0",
      "model_name": "DescriptionStyleModel",
      "state": {
       "description_width": ""
      }
     },
     "3a59d6b8641d4e90a972fea118c7a2fc": {
      "model_module": "@jupyter-widgets/controls",
      "model_module_version": "1.2.0",
      "model_name": "ButtonStyleModel",
      "state": {}
     },
     "3a8e5626f9784238bfdbea658e2e7600": {
      "model_module": "@jupyter-widgets/base",
      "model_module_version": "1.0.0",
      "model_name": "LayoutModel",
      "state": {}
     },
     "3aa775ad4f4a4325a013a5aacbcf3511": {
      "model_module": "@jupyter-widgets/base",
      "model_module_version": "1.0.0",
      "model_name": "LayoutModel",
      "state": {}
     },
     "3ab8725677b646d18f3f1bc46bf7e6e5": {
      "model_module": "@jupyter-widgets/base",
      "model_module_version": "1.0.0",
      "model_name": "LayoutModel",
      "state": {}
     },
     "3aeb6fc61430417c86157ac3f9b44139": {
      "model_module": "@jupyter-widgets/base",
      "model_module_version": "1.0.0",
      "model_name": "LayoutModel",
      "state": {}
     },
     "3b20784dd3e5475c9e65b99138ee5352": {
      "model_module": "@jupyter-widgets/controls",
      "model_module_version": "1.2.0",
      "model_name": "HBoxModel",
      "state": {
       "children": [
        "IPY_MODEL_ff5a6254a1b6473b974be1d9aa2bc45f",
        "IPY_MODEL_879c1dbf2cad4190b58f5b17fa7c5444"
       ],
       "layout": "IPY_MODEL_5841ea717b914d4eaa8d9eb1c49f7589"
      }
     },
     "3b3df8c937dd4141ba5b3a77e109ee14": {
      "model_module": "@jupyter-widgets/base",
      "model_module_version": "1.0.0",
      "model_name": "LayoutModel",
      "state": {}
     },
     "3b712d80bcd04b9c9929f76bc8ba0e37": {
      "model_module": "@jupyter-widgets/controls",
      "model_module_version": "1.2.0",
      "model_name": "DescriptionStyleModel",
      "state": {
       "description_width": ""
      }
     },
     "3bb53c476fed43bebfbf6a179549d7b5": {
      "model_module": "@jupyter-widgets/controls",
      "model_module_version": "1.2.0",
      "model_name": "DescriptionStyleModel",
      "state": {
       "description_width": ""
      }
     },
     "3bc5087b9e924ebe939604a9c151f34a": {
      "model_module": "@jupyter-widgets/controls",
      "model_module_version": "1.2.0",
      "model_name": "DescriptionStyleModel",
      "state": {
       "description_width": ""
      }
     },
     "3bd43b6dc9134ebdbbbcc641d862888c": {
      "model_module": "@jupyter-widgets/base",
      "model_module_version": "1.0.0",
      "model_name": "LayoutModel",
      "state": {}
     },
     "3bd57fdc52744c1f8290d5dbe9fb0a3a": {
      "model_module": "@jupyter-widgets/controls",
      "model_module_version": "1.2.0",
      "model_name": "VBoxModel",
      "state": {
       "children": [
        "IPY_MODEL_58c61729282542a38ec6ffae0d134306",
        "IPY_MODEL_2ed274c741604cf1ae933b4a71138615",
        "IPY_MODEL_4bece9bd0c8a4982b33dba3bf0426ce8",
        "IPY_MODEL_76e6a5fa84ec42f8a8b17c3238e2cdcb"
       ],
       "layout": "IPY_MODEL_9d5dec084e23407e89bd71d3554c6c4f"
      }
     },
     "3bdc97d85d1c499ab81743bf1affa6dd": {
      "model_module": "@jupyter-widgets/controls",
      "model_module_version": "1.2.0",
      "model_name": "DescriptionStyleModel",
      "state": {
       "description_width": ""
      }
     },
     "3be2eeb9cf444a88b98c0411368295f3": {
      "model_module": "@jupyter-widgets/base",
      "model_module_version": "1.0.0",
      "model_name": "LayoutModel",
      "state": {}
     },
     "3c118457333747b1906d4b0e2ea0f99d": {
      "model_module": "@jupyter-widgets/base",
      "model_module_version": "1.0.0",
      "model_name": "LayoutModel",
      "state": {}
     },
     "3c1311469f694f6fbaeb50e484252881": {
      "model_module": "@jupyter-widgets/base",
      "model_module_version": "1.0.0",
      "model_name": "LayoutModel",
      "state": {
       "border": "4px solid red"
      }
     },
     "3c4f04ddbdcf4aa6ac057ffd2c945fd0": {
      "model_module": "@jupyter-widgets/base",
      "model_module_version": "1.0.0",
      "model_name": "LayoutModel",
      "state": {}
     },
     "3c606d56df8f404b910c45a20bec5b5f": {
      "model_module": "@jupyter-widgets/controls",
      "model_module_version": "1.2.0",
      "model_name": "HBoxModel",
      "state": {
       "children": [
        "IPY_MODEL_59c7b5d4718c46488cca487466667da4",
        "IPY_MODEL_f28ba8d0b3494daf81079b7e8e3281f8",
        "IPY_MODEL_1d456abd308748959dbb18241285fceb"
       ],
       "layout": "IPY_MODEL_ac76d07581d6433291cd7fcd4fae3b29"
      }
     },
     "3c6793de4364411c92324cde8fb51619": {
      "model_module": "@jupyter-widgets/controls",
      "model_module_version": "1.2.0",
      "model_name": "TabModel",
      "state": {
       "_titles": {
        "0": "1. Data Loading",
        "1": "2. Data Processing",
        "2": "3. Model Selection",
        "3": "4. Visualisation"
       },
       "children": [
        "IPY_MODEL_67dba3ed7dab4a249bdb789da0c35b4e",
        "IPY_MODEL_5c49fbea4a254d83ae0b11f451f26749",
        "IPY_MODEL_1b470d5d094c48a7bc4e925f8722bf56",
        "IPY_MODEL_1c197a344cb1465e976a98e8a4c84bec"
       ],
       "layout": "IPY_MODEL_14e8f22105f140ddb19b44076a9d731d"
      }
     },
     "3c6a3d91367c44dbb2db4afba353adc4": {
      "model_module": "@jupyter-widgets/controls",
      "model_module_version": "1.2.0",
      "model_name": "DescriptionStyleModel",
      "state": {
       "description_width": ""
      }
     },
     "3c801e4ee36e4284a22da50d6b0428f2": {
      "model_module": "@jupyter-widgets/controls",
      "model_module_version": "1.2.0",
      "model_name": "DescriptionStyleModel",
      "state": {
       "description_width": ""
      }
     },
     "3c85ba2b0ffd446b85fc84a598e57861": {
      "model_module": "@jupyter-widgets/base",
      "model_module_version": "1.0.0",
      "model_name": "LayoutModel",
      "state": {}
     },
     "3cc5e38e8a144fb8a2ed6faed2d2af33": {
      "model_module": "@jupyter-widgets/controls",
      "model_module_version": "1.2.0",
      "model_name": "DescriptionStyleModel",
      "state": {
       "description_width": ""
      }
     },
     "3cd976215b9c44f68cced610dc4de1e4": {
      "model_module": "@jupyter-widgets/base",
      "model_module_version": "1.0.0",
      "model_name": "LayoutModel",
      "state": {
       "border": "4px solid red"
      }
     },
     "3ce0b670287f4e608b444d51c3a0d63b": {
      "model_module": "@jupyter-widgets/base",
      "model_module_version": "1.0.0",
      "model_name": "LayoutModel",
      "state": {}
     },
     "3d01e626f32041b1be5c1905edf6325e": {
      "model_module": "@jupyter-widgets/controls",
      "model_module_version": "1.2.0",
      "model_name": "AccordionModel",
      "state": {
       "_titles": {
        "0": "UMAP",
        "1": "VAE",
        "2": "β-VAE"
       },
       "children": [
        "IPY_MODEL_7f3550c9749b4d459310891c1bf9f09f",
        "IPY_MODEL_fa3938b2650f4fde8035cd122dd4e42e",
        "IPY_MODEL_5208fc348f9146d5bf22e07fe3051296"
       ],
       "layout": "IPY_MODEL_9c467aa640b84ed18da1d5846cdd26e4"
      }
     },
     "3d2da029a47643959d51a76fe32eae03": {
      "model_module": "@jupyter-widgets/controls",
      "model_module_version": "1.2.0",
      "model_name": "DescriptionStyleModel",
      "state": {
       "description_width": ""
      }
     },
     "3d3a281d850b4288abc42e01b8dd74e1": {
      "model_module": "@jupyter-widgets/controls",
      "model_module_version": "1.2.0",
      "model_name": "VBoxModel",
      "state": {
       "children": [
        "IPY_MODEL_489a17c30d7a439686ad93108db15c7e",
        "IPY_MODEL_72cca3fd2404463c9cb11d83358b734d",
        "IPY_MODEL_202935b5b23a413d82a27985e5c1725b",
        "IPY_MODEL_8b3d5b122d52485da23e64509979c52f",
        "IPY_MODEL_363655b03a68492aa48e3da2f781e614"
       ],
       "layout": "IPY_MODEL_4edfc6303f96430d8637e6d77c74dcc8"
      }
     },
     "3d3ecc00fe3341aebdeb3084b001574d": {
      "model_module": "@jupyter-widgets/controls",
      "model_module_version": "1.2.0",
      "model_name": "DescriptionStyleModel",
      "state": {
       "description_width": ""
      }
     },
     "3d44f03066aa442d8ea1fc474985a113": {
      "model_module": "@jupyter-widgets/base",
      "model_module_version": "1.0.0",
      "model_name": "LayoutModel",
      "state": {}
     },
     "3d75addc644040158c84eb865b528e55": {
      "model_module": "@jupyter-widgets/controls",
      "model_module_version": "1.2.0",
      "model_name": "ButtonModel",
      "state": {
       "description": "Load Data",
       "layout": "IPY_MODEL_fffef89306354c77be5f3168a3aa605f",
       "style": "IPY_MODEL_ef6f246edf314a4fbb1e62a6296b073c"
      }
     },
     "3da1130456c5453a81716cf6f6279a03": {
      "model_module": "@jupyter-widgets/controls",
      "model_module_version": "1.2.0",
      "model_name": "DescriptionStyleModel",
      "state": {
       "description_width": ""
      }
     },
     "3db1dbb6a9824bf29e9a620d1b2837ad": {
      "model_module": "@jupyter-widgets/base",
      "model_module_version": "1.0.0",
      "model_name": "LayoutModel",
      "state": {}
     },
     "3de48f01521e49f1b0f663ca19f4aed7": {
      "model_module": "@jupyter-widgets/base",
      "model_module_version": "1.0.0",
      "model_name": "LayoutModel",
      "state": {}
     },
     "3de6cfc01a1c4ae8a42813b870b1c765": {
      "model_module": "@jupyter-widgets/controls",
      "model_module_version": "1.2.0",
      "model_name": "VBoxModel",
      "state": {
       "layout": "IPY_MODEL_298e26ca406d45c991e3d6d26113ff72"
      }
     },
     "3e03bb87324241bfb16afda1eecd7bd7": {
      "model_module": "@jupyter-widgets/controls",
      "model_module_version": "1.2.0",
      "model_name": "HTMLModel",
      "state": {
       "layout": "IPY_MODEL_8c1f502ba1c94b3083876f5ccea2ddaa",
       "style": "IPY_MODEL_9e92f0a3d1dd435cb64abf179a6c5dd9",
       "value": "<b>X-line range:<b>"
      }
     },
     "3e2b87adfe4740549154e012d5774690": {
      "model_module": "@jupyter-widgets/base",
      "model_module_version": "1.0.0",
      "model_name": "LayoutModel",
      "state": {}
     },
     "3e8c9a4a7f4947619c78045a3508cde2": {
      "model_module": "@jupyter-widgets/controls",
      "model_module_version": "1.2.0",
      "model_name": "IntTextModel",
      "state": {
       "description": "Step:",
       "layout": "IPY_MODEL_a518be27aabd4e3faa190886d2d5eda5",
       "step": 1,
       "style": "IPY_MODEL_c3cc1bffc1e0438690e073c8cd63ab80",
       "value": 2
      }
     },
     "3e91ded4c9594c72b8ed6230409b4d1b": {
      "model_module": "@jupyter-widgets/controls",
      "model_module_version": "1.2.0",
      "model_name": "IntTextModel",
      "state": {
       "description": "Step:",
       "layout": "IPY_MODEL_ab54f830714c4b8297c1a2d2216f1123",
       "step": 1,
       "style": "IPY_MODEL_03e95fc01e6d4d5ba82d296ee3e6f57e",
       "value": 2
      }
     },
     "3e9d82646b1f41348d72ecc139011198": {
      "model_module": "@jupyter-widgets/controls",
      "model_module_version": "1.2.0",
      "model_name": "HBoxModel",
      "state": {
       "children": [
        "IPY_MODEL_2c6313736fd74c5fa96a93da5db760da",
        "IPY_MODEL_09ddaab60d5a4177986f9f72d71a2a9f"
       ],
       "layout": "IPY_MODEL_cad76c7032394066a43d6850daa06b0d"
      }
     },
     "3ecce042f3bb4729b23fd3fe6a0fa3d1": {
      "model_module": "@jupyter-widgets/controls",
      "model_module_version": "1.2.0",
      "model_name": "DropdownModel",
      "state": {
       "_options_labels": [
        "True",
        "False"
       ],
       "description": "True/False:",
       "index": 0,
       "layout": "IPY_MODEL_dbfae8ccd81544f7b6be116696721cb8",
       "style": "IPY_MODEL_ddeec3804bb247b99f21b7cd2f7df03b"
      }
     },
     "3f1b733810f048dc8d7beb2f292d848a": {
      "model_module": "@jupyter-widgets/controls",
      "model_module_version": "1.2.0",
      "model_name": "HBoxModel",
      "state": {
       "children": [
        "IPY_MODEL_97889bffc106450199d4e75bac1c29da",
        "IPY_MODEL_f7b7fea893704816a78340b03906f570"
       ],
       "layout": "IPY_MODEL_8e9f044ad6f64a37b39fa2a079925b96"
      }
     },
     "3f3229b036cd46028603452f1c4d3b28": {
      "model_module": "@jupyter-widgets/controls",
      "model_module_version": "1.2.0",
      "model_name": "ButtonModel",
      "state": {
       "description": "Clear Output",
       "layout": "IPY_MODEL_fb04488c9a894a54b7f603642d113fb6",
       "style": "IPY_MODEL_b5b2acdb12784ace8accb66953dc74b2"
      }
     },
     "3f436efcb83c41e7955e35c359b7c568": {
      "model_module": "@jupyter-widgets/controls",
      "model_module_version": "1.2.0",
      "model_name": "IntTextModel",
      "state": {
       "description": "Stop:",
       "layout": "IPY_MODEL_445016ccb1344bcaad5b1dcf7385e61b",
       "step": 1,
       "style": "IPY_MODEL_3bdc97d85d1c499ab81743bf1affa6dd",
       "value": 1502
      }
     },
     "3f43ef424c8f476e8f272e18fb7eba20": {
      "model_module": "@jupyter-widgets/controls",
      "model_module_version": "1.2.0",
      "model_name": "VBoxModel",
      "state": {
       "layout": "IPY_MODEL_8c40f937fd364c719456c82501185f62"
      }
     },
     "3f586846ae94448cbe726184c9bffcf6": {
      "model_module": "@jupyter-widgets/controls",
      "model_module_version": "1.2.0",
      "model_name": "IntTextModel",
      "state": {
       "description": "Start:",
       "layout": "IPY_MODEL_ef8805dd27594994bb67a626a6bec032",
       "step": 1,
       "style": "IPY_MODEL_4d9379d80c4847b989fdb4b82b7ec0d7",
       "value": 1500
      }
     },
     "3fd66462a017405488d595bc3d02b4ee": {
      "model_module": "@jupyter-widgets/controls",
      "model_module_version": "1.2.0",
      "model_name": "VBoxModel",
      "state": {
       "children": [
        "IPY_MODEL_13ba88f1bf73430b89dfbf22e373094c",
        "IPY_MODEL_272ce6ab62b8478a856076adafd8353c",
        "IPY_MODEL_f143e8cf27794ca8be6319c931e05ab6",
        "IPY_MODEL_cad0fa9cc7c84347853ba9abda0364c9"
       ],
       "layout": "IPY_MODEL_7661909629fc4908bcded53c3dffb644"
      }
     },
     "3ff2b0335a7c44c9b74d8c8a15b8a97f": {
      "model_module": "@jupyter-widgets/base",
      "model_module_version": "1.0.0",
      "model_name": "LayoutModel",
      "state": {}
     },
     "402cb21aaf804cb4869bc865ca6ad42d": {
      "model_module": "@jupyter-widgets/base",
      "model_module_version": "1.0.0",
      "model_name": "LayoutModel",
      "state": {}
     },
     "4034801a9a954562bf6cf73dc840e251": {
      "model_module": "@jupyter-widgets/controls",
      "model_module_version": "1.2.0",
      "model_name": "VBoxModel",
      "state": {
       "children": [
        "IPY_MODEL_02f98b82cc15424980bdb5a76d4459a9",
        "IPY_MODEL_294d321ac993405698ba12d109aaf861",
        "IPY_MODEL_8895036587634c5195738d665e1be940",
        "IPY_MODEL_1593e01b354d4e80a6dc8c7050d7cac5"
       ],
       "layout": "IPY_MODEL_363c058cab644a35886c4fd425d72085"
      }
     },
     "4041b887b732422582ea525ccc299971": {
      "model_module": "@jupyter-widgets/controls",
      "model_module_version": "1.2.0",
      "model_name": "DescriptionStyleModel",
      "state": {
       "description_width": ""
      }
     },
     "4052c857cb0445e593fc044fee5e72d8": {
      "model_module": "@jupyter-widgets/base",
      "model_module_version": "1.0.0",
      "model_name": "LayoutModel",
      "state": {}
     },
     "405717012a1846cd8f0f9ce4fbaa85ca": {
      "model_module": "@jupyter-widgets/base",
      "model_module_version": "1.0.0",
      "model_name": "LayoutModel",
      "state": {}
     },
     "40797098a4ae40908ab7d5ed2e8cfffb": {
      "model_module": "@jupyter-widgets/controls",
      "model_module_version": "1.2.0",
      "model_name": "ButtonModel",
      "state": {
       "description": "Process Input",
       "layout": "IPY_MODEL_d7ea050dd3f944a0862b3e7ba1a88d3a",
       "style": "IPY_MODEL_83e3c76dfa424c85b139596e09b0b268"
      }
     },
     "407e9e09edd648ef97742e12bd221a1c": {
      "model_module": "@jupyter-widgets/base",
      "model_module_version": "1.0.0",
      "model_name": "LayoutModel",
      "state": {}
     },
     "40805de9a36f477ca7930819a62e5237": {
      "model_module": "@jupyter-widgets/controls",
      "model_module_version": "1.2.0",
      "model_name": "ButtonModel",
      "state": {
       "description": "Load Data",
       "layout": "IPY_MODEL_085aeb8238a44a22b969f0e4ae0990de",
       "style": "IPY_MODEL_75672e24840a47469e165451b182a973"
      }
     },
     "409a797226b449278b6ac67291dbcd57": {
      "model_module": "@jupyter-widgets/base",
      "model_module_version": "1.0.0",
      "model_name": "LayoutModel",
      "state": {}
     },
     "40b9eb78c0d64e0099fbc04625de905c": {
      "model_module": "@jupyter-widgets/base",
      "model_module_version": "1.0.0",
      "model_name": "LayoutModel",
      "state": {}
     },
     "40f935283fbd48d1ba0f6987b5e31957": {
      "model_module": "@jupyter-widgets/controls",
      "model_module_version": "1.2.0",
      "model_name": "ButtonStyleModel",
      "state": {}
     },
     "410e91c6351942239b97500aa62e77fc": {
      "model_module": "@jupyter-widgets/base",
      "model_module_version": "1.0.0",
      "model_name": "LayoutModel",
      "state": {}
     },
     "4130c0e055e0462cb491dd0592e1379a": {
      "model_module": "@jupyter-widgets/controls",
      "model_module_version": "1.2.0",
      "model_name": "DropdownModel",
      "state": {
       "_options_labels": [
        "horizon",
        "FF"
       ],
       "description": "Plot Attribute:",
       "index": 0,
       "layout": "IPY_MODEL_122629602260493f841a05b7cae23246",
       "style": "IPY_MODEL_ac465e6b0c6644cdaf047d2b6e0adcad"
      }
     },
     "417235aa239f4a13be94697707256677": {
      "model_module": "@jupyter-widgets/controls",
      "model_module_version": "1.2.0",
      "model_name": "IntTextModel",
      "state": {
       "description": "Neighbours:",
       "layout": "IPY_MODEL_51c5b8cb3c284ddea8a9fbea18f8ef76",
       "step": 1,
       "style": "IPY_MODEL_054a2dde803e409c976b785267080155",
       "value": 50
      }
     },
     "417acfecc2334e69a12f7bf854ae1e09": {
      "model_module": "@jupyter-widgets/base",
      "model_module_version": "1.0.0",
      "model_name": "LayoutModel",
      "state": {}
     },
     "4188a2c357c3441f8d65de4b1d9ec599": {
      "model_module": "@jupyter-widgets/base",
      "model_module_version": "1.0.0",
      "model_name": "LayoutModel",
      "state": {}
     },
     "418f74f790624471b718f188a5a78266": {
      "model_module": "@jupyter-widgets/base",
      "model_module_version": "1.0.0",
      "model_name": "LayoutModel",
      "state": {}
     },
     "4209100f0b1441ada4968bc4843dc056": {
      "model_module": "@jupyter-widgets/base",
      "model_module_version": "1.0.0",
      "model_name": "LayoutModel",
      "state": {}
     },
     "423b86d6970c4a5a9b3a3448236083cd": {
      "model_module": "@jupyter-widgets/base",
      "model_module_version": "1.0.0",
      "model_name": "LayoutModel",
      "state": {}
     },
     "424a503505ae45cfb1d71d609e8150a7": {
      "model_module": "@jupyter-widgets/controls",
      "model_module_version": "1.2.0",
      "model_name": "TextModel",
      "state": {
       "description": "Far SEGY:",
       "layout": "IPY_MODEL_78d04f9b5b1244a9be3f34e6fcc24576",
       "style": "IPY_MODEL_3307cbdbba7042b4b4bc9baa12a9beb1",
       "value": "./data/3d_farstack.sgy"
      }
     },
     "42628e2ded8f4e8a812584d6231ae16c": {
      "model_module": "@jupyter-widgets/base",
      "model_module_version": "1.0.0",
      "model_name": "LayoutModel",
      "state": {}
     },
     "426862d12dac47029612676ffa8ad618": {
      "model_module": "@jupyter-widgets/controls",
      "model_module_version": "1.2.0",
      "model_name": "DescriptionStyleModel",
      "state": {
       "description_width": ""
      }
     },
     "426a98c8bece4bd78cc1996c0cc3074b": {
      "model_module": "@jupyter-widgets/base",
      "model_module_version": "1.0.0",
      "model_name": "LayoutModel",
      "state": {}
     },
     "42832b042f2044ea899ddb60a8e18a7c": {
      "model_module": "@jupyter-widgets/base",
      "model_module_version": "1.0.0",
      "model_name": "LayoutModel",
      "state": {}
     },
     "42885c7c7b3e4836bd8ab3b67303f997": {
      "model_module": "@jupyter-widgets/controls",
      "model_module_version": "1.2.0",
      "model_name": "VBoxModel",
      "state": {
       "children": [
        "IPY_MODEL_5c5c4145596d4ce2a6e0b08b9a0a5ab0",
        "IPY_MODEL_08e01b37aa5c4e37aaaee9e8e6e7bdee"
       ],
       "layout": "IPY_MODEL_ec292f84a52147eb81afd7e7e39ffa06"
      }
     },
     "42aa305fe2e74d11bced1e05e9679e77": {
      "model_module": "@jupyter-widgets/controls",
      "model_module_version": "1.2.0",
      "model_name": "AccordionModel",
      "state": {
       "_titles": {
        "0": "UMAP",
        "1": "VAE",
        "2": "β-VAE"
       },
       "children": [
        "IPY_MODEL_53b82a52c0604355949261ab817f3503",
        "IPY_MODEL_3e9d82646b1f41348d72ecc139011198",
        "IPY_MODEL_25dd23c1e80e44efa9354c9dbabe077c"
       ],
       "layout": "IPY_MODEL_c8dc0d43da1b47e5a666fea35735c391"
      }
     },
     "42eb60ebdce843bba9be02f518107481": {
      "model_module": "@jupyter-widgets/controls",
      "model_module_version": "1.2.0",
      "model_name": "DescriptionStyleModel",
      "state": {
       "description_width": ""
      }
     },
     "430e9f654d4e4d8aac70b19cf9cd41e6": {
      "model_module": "@jupyter-widgets/controls",
      "model_module_version": "1.2.0",
      "model_name": "DescriptionStyleModel",
      "state": {
       "description_width": ""
      }
     },
     "431210ed6ebb4fe58af80eb8dbaaad4e": {
      "model_module": "@jupyter-widgets/controls",
      "model_module_version": "1.2.0",
      "model_name": "VBoxModel",
      "state": {
       "children": [
        "IPY_MODEL_3f1b733810f048dc8d7beb2f292d848a",
        "IPY_MODEL_9f3d002f618d4aeea0ebbad645072e74"
       ],
       "layout": "IPY_MODEL_3c118457333747b1906d4b0e2ea0f99d"
      }
     },
     "432f523854e64befa36374a319e8b0e7": {
      "model_module": "@jupyter-widgets/base",
      "model_module_version": "1.0.0",
      "model_name": "LayoutModel",
      "state": {}
     },
     "433998defc4a4af3b226cb2e74ae6d58": {
      "model_module": "@jupyter-widgets/controls",
      "model_module_version": "1.2.0",
      "model_name": "ButtonModel",
      "state": {
       "description": "Run Umap",
       "layout": "IPY_MODEL_77278bc2528f40e095282cfb19316c2f",
       "style": "IPY_MODEL_fc7d8cc43c8e4c6d9d7d9ec502fce8c7"
      }
     },
     "434605455e8e42a8a56d451fd6ab27ea": {
      "model_module": "@jupyter-widgets/controls",
      "model_module_version": "1.2.0",
      "model_name": "HBoxModel",
      "state": {
       "children": [
        "IPY_MODEL_8251606279eb42c9b791b6661229ecf4",
        "IPY_MODEL_8fd960afdf4e424f9a93fa3f0544aa53"
       ],
       "layout": "IPY_MODEL_7be1a0b354754626b366bb2edc2907c5"
      }
     },
     "4359843fc16444afbccee44784fcf297": {
      "model_module": "@jupyter-widgets/base",
      "model_module_version": "1.0.0",
      "model_name": "LayoutModel",
      "state": {}
     },
     "435ba42f7ec547d59da0718b96b6aded": {
      "model_module": "@jupyter-widgets/controls",
      "model_module_version": "1.2.0",
      "model_name": "IntTextModel",
      "state": {
       "description": "Step:",
       "layout": "IPY_MODEL_73615dac281441c0ba1b308162d1de15",
       "step": 1,
       "style": "IPY_MODEL_9b81332e48b44563b6bcc30a87c43cd6",
       "value": 2
      }
     },
     "4373888766a94610a30dc9c9df27baea": {
      "model_module": "@jupyter-widgets/controls",
      "model_module_version": "1.2.0",
      "model_name": "DescriptionStyleModel",
      "state": {
       "description_width": ""
      }
     },
     "43b206688eac4670ac9df95699df6e12": {
      "model_module": "@jupyter-widgets/controls",
      "model_module_version": "1.2.0",
      "model_name": "HTMLModel",
      "state": {
       "layout": "IPY_MODEL_69f35e0e24864254b6205b8e4eb7a413",
       "style": "IPY_MODEL_87c4f0c74a294308bfb870793f818345",
       "value": "<b>Horizon Flattening:<b>"
      }
     },
     "43b60fba8ceb423f90553ccfe78c93b5": {
      "model_module": "@jupyter-widgets/base",
      "model_module_version": "1.0.0",
      "model_name": "LayoutModel",
      "state": {}
     },
     "43bf6f5975754f2e9b1262cc33209d54": {
      "model_module": "@jupyter-widgets/base",
      "model_module_version": "1.0.0",
      "model_name": "LayoutModel",
      "state": {}
     },
     "43c8315d145d424085c4df396b7d5041": {
      "model_module": "@jupyter-widgets/controls",
      "model_module_version": "1.2.0",
      "model_name": "DescriptionStyleModel",
      "state": {
       "description_width": ""
      }
     },
     "43efc8a348094d09982d2a42aa45760a": {
      "model_module": "@jupyter-widgets/controls",
      "model_module_version": "1.2.0",
      "model_name": "IntTextModel",
      "state": {
       "description": "Neighbours:",
       "layout": "IPY_MODEL_72e681626101407e99c419643156acc4",
       "step": 1,
       "style": "IPY_MODEL_f2211192c0084557a9a28ac884811494",
       "value": 50
      }
     },
     "44004260d7404b4baf1a217f5a2f52de": {
      "model_module": "@jupyter-widgets/controls",
      "model_module_version": "1.2.0",
      "model_name": "HBoxModel",
      "state": {
       "children": [
        "IPY_MODEL_efe640e2444e45ecb24100a5a8ce5a3e",
        "IPY_MODEL_f7dd58df2e334e869010d5b80797259a",
        "IPY_MODEL_f32930de8e1847fd8991ec0a7e2654b5"
       ],
       "layout": "IPY_MODEL_7d12bc5209f0418b9a233deb1f758ffe"
      }
     },
     "44056aa0db5649149612939a0a4974e6": {
      "model_module": "@jupyter-widgets/base",
      "model_module_version": "1.0.0",
      "model_name": "LayoutModel",
      "state": {
       "border": "4px solid black"
      }
     },
     "44148dab2d94482c8fa5eb4a5a92d305": {
      "model_module": "@jupyter-widgets/controls",
      "model_module_version": "1.2.0",
      "model_name": "VBoxModel",
      "state": {
       "layout": "IPY_MODEL_e8a9b401008d46b8835fecb9ef5a9a51"
      }
     },
     "441829f9ec1d4be4af054dead6e33f95": {
      "model_module": "@jupyter-widgets/controls",
      "model_module_version": "1.2.0",
      "model_name": "ButtonStyleModel",
      "state": {}
     },
     "44482c08c4ec4d23959feadd110b6ba4": {
      "model_module": "@jupyter-widgets/base",
      "model_module_version": "1.0.0",
      "model_name": "LayoutModel",
      "state": {}
     },
     "445016ccb1344bcaad5b1dcf7385e61b": {
      "model_module": "@jupyter-widgets/base",
      "model_module_version": "1.0.0",
      "model_name": "LayoutModel",
      "state": {}
     },
     "446f5dc4a43749a4bf0a4ce7b643951c": {
      "model_module": "@jupyter-widgets/base",
      "model_module_version": "1.0.0",
      "model_name": "LayoutModel",
      "state": {}
     },
     "44b13c43f8d84ff58819be1fa7c60a2d": {
      "model_module": "@jupyter-widgets/base",
      "model_module_version": "1.0.0",
      "model_name": "LayoutModel",
      "state": {}
     },
     "44c9631d8a704831864596727ae1d9cc": {
      "model_module": "@jupyter-widgets/controls",
      "model_module_version": "1.2.0",
      "model_name": "VBoxModel",
      "state": {
       "layout": "IPY_MODEL_9a31db6a4c10423d94cb96a1b6df0243"
      }
     },
     "44e69a971f8240b8b62aaa66a0c87d66": {
      "model_module": "@jupyter-widgets/controls",
      "model_module_version": "1.2.0",
      "model_name": "HTMLModel",
      "state": {
       "layout": "IPY_MODEL_f379ece931b7422aa0f6a56e82f2d24b",
       "style": "IPY_MODEL_d3d3fb12aaa54a7d94f3f3c7f3d923ac",
       "value": "<b>Plot parameters:<b>"
      }
     },
     "44ff686d390d44b0ac37cdc6e25d2d75": {
      "model_module": "@jupyter-widgets/base",
      "model_module_version": "1.0.0",
      "model_name": "LayoutModel",
      "state": {}
     },
     "451a141c864a4996b55e3b642509d1d8": {
      "model_module": "@jupyter-widgets/controls",
      "model_module_version": "1.2.0",
      "model_name": "DropdownModel",
      "state": {
       "_options_labels": [
        "True",
        "False"
       ],
       "description": "True/False:",
       "index": 0,
       "layout": "IPY_MODEL_9e9d88395f8b4c53ba77fe3dea7a6134",
       "style": "IPY_MODEL_f406652e435a4ffb959b41d409cd7e17"
      }
     },
     "451dc0165af147ef97220051124c8994": {
      "model_module": "@jupyter-widgets/controls",
      "model_module_version": "1.2.0",
      "model_name": "HBoxModel",
      "state": {
       "children": [
        "IPY_MODEL_481047123a2342b3a2f811a2ece98974",
        "IPY_MODEL_a45f7057bcb649fe8d2e70a6cfb268fc"
       ],
       "layout": "IPY_MODEL_0829644a6332416bb0d5ba43553e4b7b"
      }
     },
     "45293a9134c74ac885f6e61ca36fb283": {
      "model_module": "@jupyter-widgets/controls",
      "model_module_version": "1.2.0",
      "model_name": "DescriptionStyleModel",
      "state": {
       "description_width": ""
      }
     },
     "454e0be27f014a58b4f809c5edc8a26e": {
      "model_module": "@jupyter-widgets/base",
      "model_module_version": "1.0.0",
      "model_name": "LayoutModel",
      "state": {}
     },
     "45585199c68a459b9bde7ce04a1eda06": {
      "model_module": "@jupyter-widgets/controls",
      "model_module_version": "1.2.0",
      "model_name": "HTMLModel",
      "state": {
       "layout": "IPY_MODEL_8f7d4797f7c44368b2fd3ca887bbc75b",
       "style": "IPY_MODEL_66e53d105ca940eaa13184541f1b6087",
       "value": "<b>UMAP:<b>"
      }
     },
     "455ac8129b5b47ffa7f2841378670c01": {
      "model_module": "@jupyter-widgets/controls",
      "model_module_version": "1.2.0",
      "model_name": "DescriptionStyleModel",
      "state": {
       "description_width": ""
      }
     },
     "457efca3e61b41a8856066ed9ed8ed72": {
      "model_module": "@jupyter-widgets/base",
      "model_module_version": "1.0.0",
      "model_name": "LayoutModel",
      "state": {}
     },
     "45878872e65a46d29232f4029069757c": {
      "model_module": "@jupyter-widgets/base",
      "model_module_version": "1.0.0",
      "model_name": "LayoutModel",
      "state": {}
     },
     "4594e41adead4c109b81ac5472aafcb3": {
      "model_module": "@jupyter-widgets/controls",
      "model_module_version": "1.2.0",
      "model_name": "VBoxModel",
      "state": {
       "children": [
        "IPY_MODEL_e8b1ba2aafb04fbdbd86798d6a13fb5e"
       ],
       "layout": "IPY_MODEL_f0316cf9ac774b1fa6351c87c3cead9b"
      }
     },
     "4595465feb7d4581a057b1cde61c3fe7": {
      "model_module": "@jupyter-widgets/controls",
      "model_module_version": "1.2.0",
      "model_name": "IntTextModel",
      "state": {
       "description": "Above Add:",
       "layout": "IPY_MODEL_82a5b9445808451abbc01969620e8037",
       "step": 1,
       "style": "IPY_MODEL_a23bb6066437415d8207951ea35e6660",
       "value": 12
      }
     },
     "45a6faf33a7646959df08399122a6e38": {
      "model_module": "@jupyter-widgets/controls",
      "model_module_version": "1.2.0",
      "model_name": "DescriptionStyleModel",
      "state": {
       "description_width": ""
      }
     },
     "45b7472169624732a96239172b6f976c": {
      "model_module": "@jupyter-widgets/base",
      "model_module_version": "1.0.0",
      "model_name": "LayoutModel",
      "state": {}
     },
     "45d761d4785a4b89941b64715ab33da4": {
      "model_module": "@jupyter-widgets/controls",
      "model_module_version": "1.2.0",
      "model_name": "IntTextModel",
      "state": {
       "description": "Latent size:",
       "layout": "IPY_MODEL_207ef8e7752443119956446760b6dcd4",
       "step": 1,
       "style": "IPY_MODEL_f2ce43afe7a541d5a316f0a10f42a9eb",
       "value": 8
      }
     },
     "45dae3c6ec0a4a36b532e17b56b68f66": {
      "model_module": "@jupyter-widgets/controls",
      "model_module_version": "1.2.0",
      "model_name": "ButtonStyleModel",
      "state": {}
     },
     "45f53eded0d34f8ea4181743d028cef7": {
      "model_module": "@jupyter-widgets/controls",
      "model_module_version": "1.2.0",
      "model_name": "VBoxModel",
      "state": {
       "children": [
        "IPY_MODEL_e2d238e535e74c9992c70ed77e02782c",
        "IPY_MODEL_4130c0e055e0462cb491dd0592e1379a"
       ],
       "layout": "IPY_MODEL_4c3a3f61c58f4c839a04e3cb60d6e8ab"
      }
     },
     "464264c0aa9a440a81793f34864f1bae": {
      "model_module": "@jupyter-widgets/base",
      "model_module_version": "1.0.0",
      "model_name": "LayoutModel",
      "state": {}
     },
     "464827112d7d4a6db65426a924bff355": {
      "model_module": "@jupyter-widgets/controls",
      "model_module_version": "1.2.0",
      "model_name": "HTMLModel",
      "state": {
       "layout": "IPY_MODEL_a13938c608bb40ce8cc28a6e112d13c8",
       "style": "IPY_MODEL_28686fa07dd747249d94eb5d24f5567c",
       "value": "<b>File Pathnames:<b>"
      }
     },
     "46541ecf441644f989cd62291f4a7b41": {
      "model_module": "@jupyter-widgets/base",
      "model_module_version": "1.0.0",
      "model_name": "LayoutModel",
      "state": {}
     },
     "466fe75d13734e16a5adf439362b1a7e": {
      "model_module": "@jupyter-widgets/controls",
      "model_module_version": "1.2.0",
      "model_name": "DescriptionStyleModel",
      "state": {
       "description_width": ""
      }
     },
     "4685d8d6b6f149a9a3916ca93c749bf0": {
      "model_module": "@jupyter-widgets/controls",
      "model_module_version": "1.2.0",
      "model_name": "DescriptionStyleModel",
      "state": {
       "description_width": ""
      }
     },
     "468c7d7e15334262b60d39e410d5ded8": {
      "model_module": "@jupyter-widgets/controls",
      "model_module_version": "1.2.0",
      "model_name": "DescriptionStyleModel",
      "state": {
       "description_width": ""
      }
     },
     "4695c06cf6c1478484edddb0e1229fa0": {
      "model_module": "@jupyter-widgets/controls",
      "model_module_version": "1.2.0",
      "model_name": "BoundedFloatTextModel",
      "state": {
       "description": "Min Dist:",
       "layout": "IPY_MODEL_735aa30065ea4999b61e7778179c1189",
       "max": 1,
       "min": 0.001,
       "step": 0.0001,
       "style": "IPY_MODEL_30986451847f4f4bb99b7d0b5f64af9c",
       "value": 0.01
      }
     },
     "469c1c79bbef42af97e8ac3c94048fcb": {
      "model_module": "@jupyter-widgets/base",
      "model_module_version": "1.0.0",
      "model_name": "LayoutModel",
      "state": {}
     },
     "46b19b03ff6f4bd89c06d8a4edf9a66f": {
      "model_module": "@jupyter-widgets/base",
      "model_module_version": "1.0.0",
      "model_name": "LayoutModel",
      "state": {}
     },
     "4735f13aebb841be9bad50b809161935": {
      "model_module": "@jupyter-widgets/base",
      "model_module_version": "1.0.0",
      "model_name": "LayoutModel",
      "state": {}
     },
     "4737854417e44c7cbebb5813195380bb": {
      "model_module": "@jupyter-widgets/controls",
      "model_module_version": "1.2.0",
      "model_name": "TextModel",
      "state": {
       "description": "Far SEGY:",
       "layout": "IPY_MODEL_ade9a375fcb44c4790276fded88d4514",
       "style": "IPY_MODEL_e8ce548fc259421e85996879520591e6",
       "value": "./data/3d_farstack.sgy"
      }
     },
     "473c6d8b5ba643e0bdf52edf678e5237": {
      "model_module": "@jupyter-widgets/controls",
      "model_module_version": "1.2.0",
      "model_name": "DescriptionStyleModel",
      "state": {
       "description_width": ""
      }
     },
     "474fda0d10c54df2b3bef4cfa30becff": {
      "model_module": "@jupyter-widgets/base",
      "model_module_version": "1.0.0",
      "model_name": "LayoutModel",
      "state": {}
     },
     "478cb974f8a548019b184a28fa47cddb": {
      "model_module": "@jupyter-widgets/controls",
      "model_module_version": "1.2.0",
      "model_name": "DescriptionStyleModel",
      "state": {
       "description_width": ""
      }
     },
     "47a07f3aea404abb8593d72971bf3227": {
      "model_module": "@jupyter-widgets/base",
      "model_module_version": "1.0.0",
      "model_name": "LayoutModel",
      "state": {}
     },
     "47f7820a3a114314b50577c26283e982": {
      "model_module": "@jupyter-widgets/controls",
      "model_module_version": "1.2.0",
      "model_name": "DescriptionStyleModel",
      "state": {
       "description_width": ""
      }
     },
     "480cb122c16b4a4783b65cd21e86211b": {
      "model_module": "@jupyter-widgets/controls",
      "model_module_version": "1.2.0",
      "model_name": "BoundedFloatTextModel",
      "state": {
       "description": "Min Dist:",
       "layout": "IPY_MODEL_b57687a658c74eafb4c54d54af444ce9",
       "max": 1,
       "min": 0.001,
       "step": 0.0001,
       "style": "IPY_MODEL_e6d6cd76b9ff427fb572963905360a88",
       "value": 0.01
      }
     },
     "481047123a2342b3a2f811a2ece98974": {
      "model_module": "@jupyter-widgets/controls",
      "model_module_version": "1.2.0",
      "model_name": "VBoxModel",
      "state": {
       "layout": "IPY_MODEL_1cb84daa0e074b958d25abeb034955f8"
      }
     },
     "4859616b4f304412bec7db902fde7851": {
      "model_module": "@jupyter-widgets/controls",
      "model_module_version": "1.2.0",
      "model_name": "VBoxModel",
      "state": {
       "children": [
        "IPY_MODEL_8168edc3b1c64b8f90ce3993f9ead1c0",
        "IPY_MODEL_37f60d58f98543399177ab9b9bec1c96"
       ],
       "layout": "IPY_MODEL_cc9f8cd3a0784ec5bb5010cc04cddb4f"
      }
     },
     "487ec3356eec4f3c93f628aa09307eb7": {
      "model_module": "@jupyter-widgets/controls",
      "model_module_version": "1.2.0",
      "model_name": "HTMLModel",
      "state": {
       "layout": "IPY_MODEL_07f6a4ab015543428f83b4b798a224df",
       "style": "IPY_MODEL_45293a9134c74ac885f6e61ca36fb283",
       "value": "<b>X-line range:<b>"
      }
     },
     "488747671bc048efa780165578838653": {
      "model_module": "@jupyter-widgets/base",
      "model_module_version": "1.0.0",
      "model_name": "LayoutModel",
      "state": {}
     },
     "488ab4d7e7784b7ebf61f6f8cf6ab8c6": {
      "model_module": "@jupyter-widgets/controls",
      "model_module_version": "1.2.0",
      "model_name": "BoundedFloatTextModel",
      "state": {
       "description": "Min Dist:",
       "layout": "IPY_MODEL_1a9bda6fb7e848adae5dfddc1464a8f5",
       "max": 1,
       "min": 0.0001,
       "step": 0.0001,
       "style": "IPY_MODEL_856cd6a815154a28b044cd93e5df991b",
       "value": 0.01
      }
     },
     "489a17c30d7a439686ad93108db15c7e": {
      "model_module": "@jupyter-widgets/controls",
      "model_module_version": "1.2.0",
      "model_name": "HTMLModel",
      "state": {
       "layout": "IPY_MODEL_fa6a2b8fe69d439ebec5a6fe962111d7",
       "style": "IPY_MODEL_7cbc2a024dec40e7afd3a83329f56171",
       "value": "<b>VAE parameters:<b>"
      }
     },
     "48b502a3978c415993b9cea9a63be564": {
      "model_module": "@jupyter-widgets/base",
      "model_module_version": "1.0.0",
      "model_name": "LayoutModel",
      "state": {}
     },
     "48c3b382baeb417c8f29cba569a53287": {
      "model_module": "@jupyter-widgets/controls",
      "model_module_version": "1.2.0",
      "model_name": "DescriptionStyleModel",
      "state": {
       "description_width": ""
      }
     },
     "4903480572e445fd9dd7ce45c862beed": {
      "model_module": "@jupyter-widgets/base",
      "model_module_version": "1.0.0",
      "model_name": "LayoutModel",
      "state": {}
     },
     "49151c7de881425587a7f84c8bf8ef46": {
      "model_module": "@jupyter-widgets/base",
      "model_module_version": "1.0.0",
      "model_name": "LayoutModel",
      "state": {}
     },
     "4932e3d07f5a4bd4893b4e2395cf22f9": {
      "model_module": "@jupyter-widgets/base",
      "model_module_version": "1.0.0",
      "model_name": "LayoutModel",
      "state": {}
     },
     "498dee4daf3a486c82776c3816f3c9e2": {
      "model_module": "@jupyter-widgets/controls",
      "model_module_version": "1.2.0",
      "model_name": "VBoxModel",
      "state": {
       "children": [
        "IPY_MODEL_7257f45e47964dadb1738dcda6b607c6",
        "IPY_MODEL_28f1ec218f6641caaba8075130d78c79",
        "IPY_MODEL_b2cf9b788eb942af9d841ebebb796e9c",
        "IPY_MODEL_7b61a5ae6f094a01854a672ea1d5a698"
       ],
       "layout": "IPY_MODEL_36c9943fbcac444db2deacc1096883c0"
      }
     },
     "4998449aec714fcb8df46d7855c8ae4a": {
      "model_module": "@jupyter-widgets/base",
      "model_module_version": "1.0.0",
      "model_name": "LayoutModel",
      "state": {}
     },
     "4a16ca2b9ee345b0a1d1f83aa11e6e26": {
      "model_module": "@jupyter-widgets/base",
      "model_module_version": "1.0.0",
      "model_name": "LayoutModel",
      "state": {}
     },
     "4a3ead1ee8b546d3ad86c22a49e58a15": {
      "model_module": "@jupyter-widgets/controls",
      "model_module_version": "1.2.0",
      "model_name": "HTMLModel",
      "state": {
       "layout": "IPY_MODEL_f1a7854d0366416aae9b972177a333e1",
       "style": "IPY_MODEL_f1dcc38279434ab2ac3226d09df11a06",
       "value": "<b>Normalisation:<b>"
      }
     },
     "4a423c59bd4643c38f7d96ca844df7ff": {
      "model_module": "@jupyter-widgets/base",
      "model_module_version": "1.0.0",
      "model_name": "LayoutModel",
      "state": {}
     },
     "4a6ccac021a9419480c8357b84201151": {
      "model_module": "@jupyter-widgets/controls",
      "model_module_version": "1.2.0",
      "model_name": "VBoxModel",
      "state": {
       "children": [
        "IPY_MODEL_0ed232c9e00a44b8accfdc962721c26a",
        "IPY_MODEL_63c6f6eab8604bc6a44fabfdc44fd59e"
       ],
       "layout": "IPY_MODEL_1c984751028e4dd98e93e389355e5d49"
      }
     },
     "4a75897ed6e44444a3eba7350a71f0d8": {
      "model_module": "@jupyter-widgets/controls",
      "model_module_version": "1.2.0",
      "model_name": "DropdownModel",
      "state": {
       "_options_labels": [
        "True",
        "False"
       ],
       "description": "True/False:",
       "index": 0,
       "layout": "IPY_MODEL_7d905e55ba2647d398113b57d62940ff",
       "style": "IPY_MODEL_0fe82dbb26cb4d679109ddd5c4cb0e46"
      }
     },
     "4a7946429e204474878b0843a7c55dc7": {
      "model_module": "@jupyter-widgets/base",
      "model_module_version": "1.0.0",
      "model_name": "LayoutModel",
      "state": {}
     },
     "4a87c8da9d8d47af9f824cc454745f1a": {
      "model_module": "@jupyter-widgets/controls",
      "model_module_version": "1.2.0",
      "model_name": "VBoxModel",
      "state": {
       "children": [
        "IPY_MODEL_e2ab393631b0458cac0946979b158632",
        "IPY_MODEL_72e9a669dccc4c068478feb0c74381a0",
        "IPY_MODEL_6379564cda974b349f10172fc0637ca5",
        "IPY_MODEL_747a586690f54af18e161da2f993fcad"
       ],
       "layout": "IPY_MODEL_319e2882c4964593b3604ac2221f4a1b"
      }
     },
     "4a8caddda4c84e97985b2c9bd020baf2": {
      "model_module": "@jupyter-widgets/controls",
      "model_module_version": "1.2.0",
      "model_name": "HBoxModel",
      "state": {
       "children": [
        "IPY_MODEL_bb06026ce86f49e6a7a65f71ab94b4c0",
        "IPY_MODEL_bb54ffc5c2bc43dc9db0f1686ca6e4d2"
       ],
       "layout": "IPY_MODEL_70c5f14066204ec1a88c674ce46ea937"
      }
     },
     "4aa706ab942240369766547a72076984": {
      "model_module": "@jupyter-widgets/base",
      "model_module_version": "1.0.0",
      "model_name": "LayoutModel",
      "state": {}
     },
     "4aac858612e54435948c6fb632fe8bd0": {
      "model_module": "@jupyter-widgets/controls",
      "model_module_version": "1.2.0",
      "model_name": "VBoxModel",
      "state": {
       "children": [
        "IPY_MODEL_b038cfc5ceab402b99fda7656dbba063",
        "IPY_MODEL_2811c680c39f4ee1b85d4083aaa6a194"
       ],
       "layout": "IPY_MODEL_5fb06322b8e542a18c55c17247a5d830"
      }
     },
     "4ab9dfa419e4415f8481a37cd36c75ee": {
      "model_module": "@jupyter-widgets/controls",
      "model_module_version": "1.2.0",
      "model_name": "IntTextModel",
      "state": {
       "description": "Below Add:",
       "layout": "IPY_MODEL_12bc1664e4444ff7bb542c6aec54e770",
       "step": 1,
       "style": "IPY_MODEL_6e5ef195bb8a475ab2aaa0df14aaa1a3",
       "value": 52
      }
     },
     "4ac73ae1cba84c00bce1ee79dcde29bd": {
      "model_module": "@jupyter-widgets/output",
      "model_module_version": "1.0.0",
      "model_name": "OutputModel",
      "state": {
       "layout": "IPY_MODEL_3c1311469f694f6fbaeb50e484252881"
      }
     },
     "4acc00943c914d74813e4aba9e0844ef": {
      "model_module": "@jupyter-widgets/controls",
      "model_module_version": "1.2.0",
      "model_name": "IntTextModel",
      "state": {
       "description": "Start:",
       "layout": "IPY_MODEL_ed1e8142877c4552b4d7e3fd412c41b5",
       "step": 1,
       "style": "IPY_MODEL_0d54e4b81d414c15bf882a1c1e0365fb",
       "value": 1300
      }
     },
     "4ae30d4cac6a4445805237a613728a13": {
      "model_module": "@jupyter-widgets/base",
      "model_module_version": "1.0.0",
      "model_name": "LayoutModel",
      "state": {}
     },
     "4ae554d3838e4bc0b960644a85da92f6": {
      "model_module": "@jupyter-widgets/base",
      "model_module_version": "1.0.0",
      "model_name": "LayoutModel",
      "state": {}
     },
     "4aeeeffe47074c80b76d40a154d107c4": {
      "model_module": "@jupyter-widgets/controls",
      "model_module_version": "1.2.0",
      "model_name": "IntTextModel",
      "state": {
       "description": "Below Add:",
       "layout": "IPY_MODEL_b78e6af37ee64800a2dae61eea4b0469",
       "step": 1,
       "style": "IPY_MODEL_fdaf817526a446ab80b9a8e9179e4a39",
       "value": 52
      }
     },
     "4b289585e6cf4bcaa8ced28f49b4411a": {
      "model_module": "@jupyter-widgets/base",
      "model_module_version": "1.0.0",
      "model_name": "LayoutModel",
      "state": {}
     },
     "4b7a396db93c42c5969d1963235259b8": {
      "model_module": "@jupyter-widgets/controls",
      "model_module_version": "1.2.0",
      "model_name": "HTMLModel",
      "state": {
       "layout": "IPY_MODEL_21f4b2c7f8bc4e3b8061499c3eb9a7f4",
       "style": "IPY_MODEL_c973a2b17b084295a1fc0d14ccce43e2",
       "value": "<b>File Pathnames:<b>"
      }
     },
     "4b97b12d43614ac9a021996c3ea7123a": {
      "model_module": "@jupyter-widgets/base",
      "model_module_version": "1.0.0",
      "model_name": "LayoutModel",
      "state": {}
     },
     "4bb31c9dd2db48689e414c4f5f16061d": {
      "model_module": "@jupyter-widgets/base",
      "model_module_version": "1.0.0",
      "model_name": "LayoutModel",
      "state": {}
     },
     "4bb596c3ae6f49668f2b5ac38f29cd92": {
      "model_module": "@jupyter-widgets/base",
      "model_module_version": "1.0.0",
      "model_name": "LayoutModel",
      "state": {}
     },
     "4bc050f97c1b41f099aa0d2434d7b079": {
      "model_module": "@jupyter-widgets/base",
      "model_module_version": "1.0.0",
      "model_name": "LayoutModel",
      "state": {}
     },
     "4bcea0840ece4aad9eb80124e4d0514f": {
      "model_module": "@jupyter-widgets/controls",
      "model_module_version": "1.2.0",
      "model_name": "ButtonModel",
      "state": {
       "description": "Run Umap",
       "layout": "IPY_MODEL_5e7e53f4aed2436aa0265d3a48d45f78",
       "style": "IPY_MODEL_520ae65513f24607a0280eaf70f432be"
      }
     },
     "4bd179c7fdd049c18585a699fd3b29c0": {
      "model_module": "@jupyter-widgets/controls",
      "model_module_version": "1.2.0",
      "model_name": "HTMLModel",
      "state": {
       "layout": "IPY_MODEL_3aeb6fc61430417c86157ac3f9b44139",
       "style": "IPY_MODEL_5972b04c25c348898f6f0be286de5cc8",
       "value": "<b>Normalisation:<b>"
      }
     },
     "4bece9bd0c8a4982b33dba3bf0426ce8": {
      "model_module": "@jupyter-widgets/output",
      "model_module_version": "1.0.0",
      "model_name": "OutputModel",
      "state": {
       "layout": "IPY_MODEL_11119126ca15476694b46ef679c1637b"
      }
     },
     "4bf4973b3cab48b299755f93ea25b520": {
      "model_module": "@jupyter-widgets/controls",
      "model_module_version": "1.2.0",
      "model_name": "VBoxModel",
      "state": {
       "children": [
        "IPY_MODEL_f2032e54afe6447bbef2c363ecef6adf",
        "IPY_MODEL_6dbd8d4a120a4b2aa7cad4633259ba72",
        "IPY_MODEL_697e1a2c119c47f48fd65eb4bad0805f",
        "IPY_MODEL_435ba42f7ec547d59da0718b96b6aded"
       ],
       "layout": "IPY_MODEL_709a9e348c214963a4148ef50264c0d7"
      }
     },
     "4c0cdb8638c1451ba0b2635731d7d507": {
      "model_module": "@jupyter-widgets/controls",
      "model_module_version": "1.2.0",
      "model_name": "VBoxModel",
      "state": {
       "children": [
        "IPY_MODEL_4eab734cb7b34fa1b8571545cf662e2e"
       ],
       "layout": "IPY_MODEL_48b502a3978c415993b9cea9a63be564"
      }
     },
     "4c135bdf4647475899cdea7548305845": {
      "model_module": "@jupyter-widgets/base",
      "model_module_version": "1.0.0",
      "model_name": "LayoutModel",
      "state": {}
     },
     "4c3a3f61c58f4c839a04e3cb60d6e8ab": {
      "model_module": "@jupyter-widgets/base",
      "model_module_version": "1.0.0",
      "model_name": "LayoutModel",
      "state": {}
     },
     "4c49f2c5c8c4469f853e327b387cb2af": {
      "model_module": "@jupyter-widgets/controls",
      "model_module_version": "1.2.0",
      "model_name": "VBoxModel",
      "state": {
       "layout": "IPY_MODEL_a74ffdf3f60244d288069ea34d417145"
      }
     },
     "4c61fd12b9ab4d81a8dd98bc4413563e": {
      "model_module": "@jupyter-widgets/base",
      "model_module_version": "1.0.0",
      "model_name": "LayoutModel",
      "state": {}
     },
     "4c8e462082e940a59ebc2e3d73a93992": {
      "model_module": "@jupyter-widgets/controls",
      "model_module_version": "1.2.0",
      "model_name": "VBoxModel",
      "state": {
       "children": [
        "IPY_MODEL_a98d11ccb49b473bab62b6fe2a89ff02"
       ],
       "layout": "IPY_MODEL_5cc4f944770548adbfd84a4e77854f91"
      }
     },
     "4c91a0f0dd3e457bb5c96c7af47650f6": {
      "model_module": "@jupyter-widgets/controls",
      "model_module_version": "1.2.0",
      "model_name": "TextModel",
      "state": {
       "description": "Near SEGY:",
       "layout": "IPY_MODEL_116681538958451a9f67ff20685796c5",
       "style": "IPY_MODEL_54b6f4e747604c7aafb82fa402af910b",
       "value": "./data/3d_nearstack.sgy"
      }
     },
     "4ca54e76784d4dd882fdd652b7d61a7b": {
      "model_module": "@jupyter-widgets/base",
      "model_module_version": "1.0.0",
      "model_name": "LayoutModel",
      "state": {}
     },
     "4ca8a0b12c344bfdb345b4e5ec2bb768": {
      "model_module": "@jupyter-widgets/controls",
      "model_module_version": "1.2.0",
      "model_name": "DropdownModel",
      "state": {
       "_options_labels": [
        "True",
        "False"
       ],
       "description": "True/False:",
       "index": 0,
       "layout": "IPY_MODEL_5a255a1e6b554635ab383c9062d0750c",
       "style": "IPY_MODEL_3d3ecc00fe3341aebdeb3084b001574d"
      }
     },
     "4cb0c3408bbb4cf297e1f78289cfb646": {
      "model_module": "@jupyter-widgets/base",
      "model_module_version": "1.0.0",
      "model_name": "LayoutModel",
      "state": {}
     },
     "4cc98a48a8ed4d0da3bcce088636004d": {
      "model_module": "@jupyter-widgets/controls",
      "model_module_version": "1.2.0",
      "model_name": "BoundedFloatTextModel",
      "state": {
       "description": "Min Dist:",
       "layout": "IPY_MODEL_b8187d4ec1ae49488be03bdff386fe8f",
       "max": 1,
       "min": 0.0001,
       "step": 0.0001,
       "style": "IPY_MODEL_b3bafc55ee2741a999a581f4cf8a5a1a",
       "value": 0.01
      }
     },
     "4cda0826403946a08d6a52d441fcfdeb": {
      "model_module": "@jupyter-widgets/controls",
      "model_module_version": "1.2.0",
      "model_name": "DescriptionStyleModel",
      "state": {
       "description_width": ""
      }
     },
     "4cf51f746716433c82ebaf2d639547ba": {
      "model_module": "@jupyter-widgets/controls",
      "model_module_version": "1.2.0",
      "model_name": "DropdownModel",
      "state": {
       "_options_labels": [
        "horizon",
        "FF"
       ],
       "description": "Plot Attribute:",
       "index": 0,
       "layout": "IPY_MODEL_426a98c8bece4bd78cc1996c0cc3074b",
       "style": "IPY_MODEL_23989f4459a54789bcf8c75fb1eb3bbf"
      }
     },
     "4d4da8c5f28344af95bd9ee9d55d9a25": {
      "model_module": "@jupyter-widgets/base",
      "model_module_version": "1.0.0",
      "model_name": "LayoutModel",
      "state": {}
     },
     "4d560b625ef343e398655b24d9ffcecb": {
      "model_module": "@jupyter-widgets/controls",
      "model_module_version": "1.2.0",
      "model_name": "DescriptionStyleModel",
      "state": {
       "description_width": ""
      }
     },
     "4d6d7fabf33f425d86ef9f79bba33c3c": {
      "model_module": "@jupyter-widgets/controls",
      "model_module_version": "1.2.0",
      "model_name": "DropdownModel",
      "state": {
       "_options_labels": [
        "True",
        "False"
       ],
       "description": "True/False:",
       "index": 0,
       "layout": "IPY_MODEL_f7b97e186f0f423ebbf099c7583bc873",
       "style": "IPY_MODEL_7670befb7c9b4c1486c7569c98994255"
      }
     },
     "4d7239903ed043628fb5da667ee71aca": {
      "model_module": "@jupyter-widgets/base",
      "model_module_version": "1.0.0",
      "model_name": "LayoutModel",
      "state": {}
     },
     "4d91fbe8c41b4b74974529d1ca524cd0": {
      "model_module": "@jupyter-widgets/base",
      "model_module_version": "1.0.0",
      "model_name": "LayoutModel",
      "state": {}
     },
     "4d9379d80c4847b989fdb4b82b7ec0d7": {
      "model_module": "@jupyter-widgets/controls",
      "model_module_version": "1.2.0",
      "model_name": "DescriptionStyleModel",
      "state": {
       "description_width": ""
      }
     },
     "4da8d20e3c414a2f8e7ac33c0e426a86": {
      "model_module": "@jupyter-widgets/base",
      "model_module_version": "1.0.0",
      "model_name": "LayoutModel",
      "state": {}
     },
     "4db16cadb0f344419e8b70ae554a09f1": {
      "model_module": "@jupyter-widgets/base",
      "model_module_version": "1.0.0",
      "model_name": "LayoutModel",
      "state": {}
     },
     "4db6762c2b9147d094daa9b695c926aa": {
      "model_module": "@jupyter-widgets/base",
      "model_module_version": "1.0.0",
      "model_name": "LayoutModel",
      "state": {}
     },
     "4dcc296691a949b4aebc77aa9dd0aefa": {
      "model_module": "@jupyter-widgets/controls",
      "model_module_version": "1.2.0",
      "model_name": "BoundedFloatTextModel",
      "state": {
       "description": "Learn Rate:",
       "layout": "IPY_MODEL_986c936c379443b097a600464064a3fa",
       "max": 1,
       "min": 0.0001,
       "step": 0.005,
       "style": "IPY_MODEL_ecd1c6d5cc3140fbbb8f17664f66a588",
       "value": 0.01
      }
     },
     "4ddfda9b7f254ec7bafb4b230bc10e34": {
      "model_module": "@jupyter-widgets/controls",
      "model_module_version": "1.2.0",
      "model_name": "ButtonModel",
      "state": {
       "description": "Run Vae",
       "layout": "IPY_MODEL_8f674b9d9b504d5193ac8d1e571eeac5",
       "style": "IPY_MODEL_0ac2aaa7b6d94853923f54447d181667"
      }
     },
     "4de801033eb749d79cd5703b0ab03b34": {
      "model_module": "@jupyter-widgets/controls",
      "model_module_version": "1.2.0",
      "model_name": "VBoxModel",
      "state": {
       "children": [
        "IPY_MODEL_d9b9b56b53ec4a7297c03867f04c2f7e"
       ],
       "layout": "IPY_MODEL_d945ab2fc156438088988b04b51f774b"
      }
     },
     "4dfe7d96aa6d4047adbb154072450b71": {
      "model_module": "@jupyter-widgets/controls",
      "model_module_version": "1.2.0",
      "model_name": "HBoxModel",
      "state": {
       "children": [
        "IPY_MODEL_3d3a281d850b4288abc42e01b8dd74e1",
        "IPY_MODEL_fae46ee7ec7c4df3800b0604e71658a3"
       ],
       "layout": "IPY_MODEL_5bca009fbbb54ec0b277fd215af6f778"
      }
     },
     "4e397eae826046f38171a4f324176198": {
      "model_module": "@jupyter-widgets/controls",
      "model_module_version": "1.2.0",
      "model_name": "DescriptionStyleModel",
      "state": {
       "description_width": ""
      }
     },
     "4e5e7a9c2815415894fb5668fdbb39a4": {
      "model_module": "@jupyter-widgets/base",
      "model_module_version": "1.0.0",
      "model_name": "LayoutModel",
      "state": {}
     },
     "4e61f3f305b449bb862e5e29be943e54": {
      "model_module": "@jupyter-widgets/base",
      "model_module_version": "1.0.0",
      "model_name": "LayoutModel",
      "state": {
       "border": "4px solid black"
      }
     },
     "4e85ddcb440043ca94fc579ecebed76e": {
      "model_module": "@jupyter-widgets/controls",
      "model_module_version": "1.2.0",
      "model_name": "IntTextModel",
      "state": {
       "description": "Latent size:",
       "layout": "IPY_MODEL_7f4107053da646019f9cacd3498161ea",
       "step": 1,
       "style": "IPY_MODEL_a6e65d138f694a92a1bd736d782f0e1f",
       "value": 8
      }
     },
     "4eab734cb7b34fa1b8571545cf662e2e": {
      "model_module": "@jupyter-widgets/controls",
      "model_module_version": "1.2.0",
      "model_name": "HBoxModel",
      "state": {
       "children": [
        "IPY_MODEL_45f53eded0d34f8ea4181743d028cef7",
        "IPY_MODEL_e803299fa2e049648afa1518aa7b690b"
       ],
       "layout": "IPY_MODEL_cdb3a878fff64979ac6c2253de3ac248"
      }
     },
     "4ebfa353bff646b1b1b64cd42ff0112d": {
      "model_module": "@jupyter-widgets/controls",
      "model_module_version": "1.2.0",
      "model_name": "DescriptionStyleModel",
      "state": {
       "description_width": ""
      }
     },
     "4edfc6303f96430d8637e6d77c74dcc8": {
      "model_module": "@jupyter-widgets/base",
      "model_module_version": "1.0.0",
      "model_name": "LayoutModel",
      "state": {}
     },
     "4f10793156164dc08984fac02a8666f8": {
      "model_module": "@jupyter-widgets/controls",
      "model_module_version": "1.2.0",
      "model_name": "IntTextModel",
      "state": {
       "description": "Above Add:",
       "layout": "IPY_MODEL_be7e84067ec240fe95d4b9a31112734a",
       "step": 1,
       "style": "IPY_MODEL_e60d10028aa648d69ad447e69d26c575",
       "value": 12
      }
     },
     "4f11d53c73894c82829087b202719b6c": {
      "model_module": "@jupyter-widgets/controls",
      "model_module_version": "1.2.0",
      "model_name": "HTMLModel",
      "state": {
       "layout": "IPY_MODEL_01056700f5974e11b5ee063e54b97c77",
       "style": "IPY_MODEL_9d9a1c9d30094d70b6333a0cbcfad196",
       "value": "<b>VAE parameters:<b>"
      }
     },
     "4f1ad4dc5e794d39aaa4ee6bb906ff27": {
      "model_module": "@jupyter-widgets/controls",
      "model_module_version": "1.2.0",
      "model_name": "DescriptionStyleModel",
      "state": {
       "description_width": ""
      }
     },
     "4f76b1f903a341b1a3b3ce535c94a623": {
      "model_module": "@jupyter-widgets/base",
      "model_module_version": "1.0.0",
      "model_name": "LayoutModel",
      "state": {}
     },
     "4f86b4263b3e435dbe3912fcc8848c9c": {
      "model_module": "@jupyter-widgets/base",
      "model_module_version": "1.0.0",
      "model_name": "LayoutModel",
      "state": {}
     },
     "4fa2683a5d5e4b7e84580bb30d33e9b1": {
      "model_module": "@jupyter-widgets/controls",
      "model_module_version": "1.2.0",
      "model_name": "DescriptionStyleModel",
      "state": {
       "description_width": ""
      }
     },
     "4fad8a186ce34600b6b4630bdbb4bece": {
      "model_module": "@jupyter-widgets/controls",
      "model_module_version": "1.2.0",
      "model_name": "DescriptionStyleModel",
      "state": {
       "description_width": ""
      }
     },
     "4fd4df16e2684f068bb7d7772e3e53ae": {
      "model_module": "@jupyter-widgets/controls",
      "model_module_version": "1.2.0",
      "model_name": "DescriptionStyleModel",
      "state": {
       "description_width": ""
      }
     },
     "4fe1c0acfffd46d2a24b47a9f92e80ac": {
      "model_module": "@jupyter-widgets/base",
      "model_module_version": "1.0.0",
      "model_name": "LayoutModel",
      "state": {}
     },
     "4ffbbdb2ab2c4d399338804cf4ad51fa": {
      "model_module": "@jupyter-widgets/base",
      "model_module_version": "1.0.0",
      "model_name": "LayoutModel",
      "state": {}
     },
     "50704786c5f04b50946333ff452bae61": {
      "model_module": "@jupyter-widgets/controls",
      "model_module_version": "1.2.0",
      "model_name": "DescriptionStyleModel",
      "state": {
       "description_width": ""
      }
     },
     "5079e6e8976f476fa07101542ca8e026": {
      "model_module": "@jupyter-widgets/controls",
      "model_module_version": "1.2.0",
      "model_name": "DescriptionStyleModel",
      "state": {
       "description_width": ""
      }
     },
     "508fe9425c51411e94a52ce1407b08b7": {
      "model_module": "@jupyter-widgets/base",
      "model_module_version": "1.0.0",
      "model_name": "LayoutModel",
      "state": {}
     },
     "50a826034be74c49b7ba176495697d83": {
      "model_module": "@jupyter-widgets/controls",
      "model_module_version": "1.2.0",
      "model_name": "DescriptionStyleModel",
      "state": {
       "description_width": ""
      }
     },
     "50ccd3ef96cc4f658dac765c981cf56f": {
      "model_module": "@jupyter-widgets/output",
      "model_module_version": "1.0.0",
      "model_name": "OutputModel",
      "state": {
       "layout": "IPY_MODEL_8c94a04dd37940e69f685f6d7c58b550"
      }
     },
     "511262e8491240cd8e76b275ac05094f": {
      "model_module": "@jupyter-widgets/controls",
      "model_module_version": "1.2.0",
      "model_name": "DescriptionStyleModel",
      "state": {
       "description_width": ""
      }
     },
     "5122898a86a94c908ea8f3a66e37ea33": {
      "model_module": "@jupyter-widgets/controls",
      "model_module_version": "1.2.0",
      "model_name": "DescriptionStyleModel",
      "state": {
       "description_width": ""
      }
     },
     "518fccb166e74051bbca5563b3e0493e": {
      "model_module": "@jupyter-widgets/controls",
      "model_module_version": "1.2.0",
      "model_name": "VBoxModel",
      "state": {
       "children": [
        "IPY_MODEL_1cebf677e22e4763b64dab1567149108",
        "IPY_MODEL_b528232e803a49c986b22bdc382bc567",
        "IPY_MODEL_b032a3e1b35243aa8765d14552c2a1a5",
        "IPY_MODEL_0bb6c8c31d3e44dfb2d93112fe683d1b",
        "IPY_MODEL_7235e39aeddb4c34bd8d6f93d788c8f3"
       ],
       "layout": "IPY_MODEL_9f556e25f706406e8d6578a1aa9e0fc6"
      }
     },
     "51c4c485b7d34f9992ba38a813eb28fd": {
      "model_module": "@jupyter-widgets/controls",
      "model_module_version": "1.2.0",
      "model_name": "VBoxModel",
      "state": {
       "layout": "IPY_MODEL_4bc050f97c1b41f099aa0d2434d7b079"
      }
     },
     "51c5b8cb3c284ddea8a9fbea18f8ef76": {
      "model_module": "@jupyter-widgets/base",
      "model_module_version": "1.0.0",
      "model_name": "LayoutModel",
      "state": {}
     },
     "5208fc348f9146d5bf22e07fe3051296": {
      "model_module": "@jupyter-widgets/controls",
      "model_module_version": "1.2.0",
      "model_name": "VBoxModel",
      "state": {
       "layout": "IPY_MODEL_546044f2f7344f3bab0bd37949ee0c95"
      }
     },
     "520ae65513f24607a0280eaf70f432be": {
      "model_module": "@jupyter-widgets/controls",
      "model_module_version": "1.2.0",
      "model_name": "ButtonStyleModel",
      "state": {}
     },
     "520b29b853bb4814b2ff076986533906": {
      "model_module": "@jupyter-widgets/controls",
      "model_module_version": "1.2.0",
      "model_name": "DescriptionStyleModel",
      "state": {
       "description_width": ""
      }
     },
     "521b2cfd57c742f8ab68577ac9befd93": {
      "model_module": "@jupyter-widgets/base",
      "model_module_version": "1.0.0",
      "model_name": "LayoutModel",
      "state": {}
     },
     "5221968e3e714f6da4e160c33e3bf677": {
      "model_module": "@jupyter-widgets/controls",
      "model_module_version": "1.2.0",
      "model_name": "DescriptionStyleModel",
      "state": {
       "description_width": ""
      }
     },
     "525883bd098241beb91ff5c50133cd26": {
      "model_module": "@jupyter-widgets/base",
      "model_module_version": "1.0.0",
      "model_name": "LayoutModel",
      "state": {}
     },
     "5263e28876f94dcaa939387a217e3dca": {
      "model_module": "@jupyter-widgets/base",
      "model_module_version": "1.0.0",
      "model_name": "LayoutModel",
      "state": {}
     },
     "52675ce5f1ce44e58b4babe9bd2c433c": {
      "model_module": "@jupyter-widgets/controls",
      "model_module_version": "1.2.0",
      "model_name": "ButtonModel",
      "state": {
       "description": "Run Vae",
       "layout": "IPY_MODEL_369172ea151f4a29aac07b7c937aa697",
       "style": "IPY_MODEL_3402db70ece84bb7827a2b6ddb2ca0e8"
      }
     },
     "527e919b5ff74f22abf26a6d7489ae4e": {
      "model_module": "@jupyter-widgets/controls",
      "model_module_version": "1.2.0",
      "model_name": "DropdownModel",
      "state": {
       "_options_labels": [
        "horizon",
        "FF"
       ],
       "description": "Plot Attribute:",
       "index": 0,
       "layout": "IPY_MODEL_e445c40979f6463cafe9c06265cd70ea",
       "style": "IPY_MODEL_bd4e2f1bff7b4ae69492afd80b520854"
      }
     },
     "52a1238dd52d470d867d48864f6aabb2": {
      "model_module": "@jupyter-widgets/controls",
      "model_module_version": "1.2.0",
      "model_name": "IntTextModel",
      "state": {
       "description": "Start:",
       "layout": "IPY_MODEL_8ff614ed99234758aa6f8f8b9df84296",
       "step": 1,
       "style": "IPY_MODEL_8543fc611c384b73a1d45f0a63dbdeb5",
       "value": 1300
      }
     },
     "52d100754d924f43ba354ead32d2b0a8": {
      "model_module": "@jupyter-widgets/controls",
      "model_module_version": "1.2.0",
      "model_name": "VBoxModel",
      "state": {
       "children": [
        "IPY_MODEL_a3103e0b1b5b4ff9b50fbfdf3ce1239f",
        "IPY_MODEL_c1df61757c054a8e8e16524252313cd8"
       ],
       "layout": "IPY_MODEL_347e2ee428cb4170b85ec6a0d4659a06"
      }
     },
     "52fa6dc5303e480f98cf63dd25a6bd98": {
      "model_module": "@jupyter-widgets/base",
      "model_module_version": "1.0.0",
      "model_name": "LayoutModel",
      "state": {}
     },
     "53394438b49e48ce9aaa96e0e88732ee": {
      "model_module": "@jupyter-widgets/controls",
      "model_module_version": "1.2.0",
      "model_name": "HBoxModel",
      "state": {
       "children": [
        "IPY_MODEL_83824d5680f3450bae77121bc1aa8692",
        "IPY_MODEL_8d726e8678434fa0a1d68d1a81ad3c0f",
        "IPY_MODEL_bcc024a9d1b641ed9b2d5ab89b3921e8"
       ],
       "layout": "IPY_MODEL_12235dfd8e1046b7be960e131a652afa"
      }
     },
     "534d17544fe24a049e7173a5c1e66821": {
      "model_module": "@jupyter-widgets/controls",
      "model_module_version": "1.2.0",
      "model_name": "ButtonModel",
      "state": {
       "description": "Process Input",
       "layout": "IPY_MODEL_fa520ac5fb334df8a81a0a9c2640db9e",
       "style": "IPY_MODEL_64b927e19bae4eeab55b752d2f1f66d7"
      }
     },
     "53af44fa380341d493cdea764b10bfae": {
      "model_module": "@jupyter-widgets/controls",
      "model_module_version": "1.2.0",
      "model_name": "ButtonStyleModel",
      "state": {}
     },
     "53b82a52c0604355949261ab817f3503": {
      "model_module": "@jupyter-widgets/controls",
      "model_module_version": "1.2.0",
      "model_name": "VBoxModel",
      "state": {
       "children": [
        "IPY_MODEL_1a7068f791fa4c8a9e5fbc8f8a356d7e",
        "IPY_MODEL_e67a30c761b24e6e9c11c19693c09f90",
        "IPY_MODEL_f494d579af9a4babade7f0aac3c15989"
       ],
       "layout": "IPY_MODEL_8a07903eef8b4652a342989bff1401fa"
      }
     },
     "53b9ef3f205b4b539fc4ba1d5261a706": {
      "model_module": "@jupyter-widgets/base",
      "model_module_version": "1.0.0",
      "model_name": "LayoutModel",
      "state": {}
     },
     "53ce6aa471e142b79b04423726f53517": {
      "model_module": "@jupyter-widgets/controls",
      "model_module_version": "1.2.0",
      "model_name": "DescriptionStyleModel",
      "state": {
       "description_width": ""
      }
     },
     "53cf34ab4a2a4dc6b59e161aa0c32d54": {
      "model_module": "@jupyter-widgets/base",
      "model_module_version": "1.0.0",
      "model_name": "LayoutModel",
      "state": {}
     },
     "53d95e59a2584d62a5b3f428560eb761": {
      "model_module": "@jupyter-widgets/controls",
      "model_module_version": "1.2.0",
      "model_name": "VBoxModel",
      "state": {
       "children": [
        "IPY_MODEL_59205b8d81754e5997fc9bbcef0452c8",
        "IPY_MODEL_e83af8bac9c64134adfe54a31d1d3857",
        "IPY_MODEL_b7d8292eda6a4d99961ecb853d817b9d"
       ],
       "layout": "IPY_MODEL_5c5242458b6d4fc3b1bc084f2f2d5927"
      }
     },
     "545890ccb8b84c4d945ff11ee326ba58": {
      "model_module": "@jupyter-widgets/base",
      "model_module_version": "1.0.0",
      "model_name": "LayoutModel",
      "state": {}
     },
     "545bf2dde96a40c39b8c4722f92fd786": {
      "model_module": "@jupyter-widgets/controls",
      "model_module_version": "1.2.0",
      "model_name": "DescriptionStyleModel",
      "state": {
       "description_width": ""
      }
     },
     "546044f2f7344f3bab0bd37949ee0c95": {
      "model_module": "@jupyter-widgets/base",
      "model_module_version": "1.0.0",
      "model_name": "LayoutModel",
      "state": {}
     },
     "5475d62fb00c4040ade7f397eed358ee": {
      "model_module": "@jupyter-widgets/controls",
      "model_module_version": "1.2.0",
      "model_name": "TabModel",
      "state": {
       "_titles": {
        "0": "1. Data Loading",
        "1": "2. Data Processing",
        "2": "3. Model Selection",
        "3": "4. Visualisation"
       },
       "children": [
        "IPY_MODEL_358d697701dd4f33b626657ffd4324ae",
        "IPY_MODEL_431210ed6ebb4fe58af80eb8dbaaad4e",
        "IPY_MODEL_a62001551876403aafc9392f1e94c18c",
        "IPY_MODEL_1c7f075ad9c84422b5d5610806cf9a44"
       ],
       "layout": "IPY_MODEL_95ac8d3131a7459eab44382619012517"
      }
     },
     "5486978a598146e9a86f46b4c1c6d450": {
      "model_module": "@jupyter-widgets/base",
      "model_module_version": "1.0.0",
      "model_name": "LayoutModel",
      "state": {}
     },
     "548eef98971647148e00f7feee3ee294": {
      "model_module": "@jupyter-widgets/controls",
      "model_module_version": "1.2.0",
      "model_name": "DescriptionStyleModel",
      "state": {
       "description_width": ""
      }
     },
     "54923a6b15e5460f82688c3a7bae0e3c": {
      "model_module": "@jupyter-widgets/base",
      "model_module_version": "1.0.0",
      "model_name": "LayoutModel",
      "state": {}
     },
     "54b6f4e747604c7aafb82fa402af910b": {
      "model_module": "@jupyter-widgets/controls",
      "model_module_version": "1.2.0",
      "model_name": "DescriptionStyleModel",
      "state": {
       "description_width": ""
      }
     },
     "54c0be892ccd494ba88a124ae052bf14": {
      "model_module": "@jupyter-widgets/controls",
      "model_module_version": "1.2.0",
      "model_name": "DescriptionStyleModel",
      "state": {
       "description_width": ""
      }
     },
     "553ee20bb26b4e7084ba9677c9ff2aa4": {
      "model_module": "@jupyter-widgets/controls",
      "model_module_version": "1.2.0",
      "model_name": "DropdownModel",
      "state": {
       "_options_labels": [
        "True",
        "False"
       ],
       "description": "True/False:",
       "index": 0,
       "layout": "IPY_MODEL_bf240919b8c24601b3195cd4ca0966a8",
       "style": "IPY_MODEL_473c6d8b5ba643e0bdf52edf678e5237"
      }
     },
     "5553203aab6c4b9aa3dc0de6e60e6d0e": {
      "model_module": "@jupyter-widgets/controls",
      "model_module_version": "1.2.0",
      "model_name": "VBoxModel",
      "state": {
       "children": [
        "IPY_MODEL_bc9a0a3e3e4343359f76cfa9cb4f6468",
        "IPY_MODEL_527e919b5ff74f22abf26a6d7489ae4e"
       ],
       "layout": "IPY_MODEL_f7e23b8833f54109b360ec5fe0a04fd6"
      }
     },
     "558ce92afb1942528726238db5e1c4f5": {
      "model_module": "@jupyter-widgets/base",
      "model_module_version": "1.0.0",
      "model_name": "LayoutModel",
      "state": {}
     },
     "55a133c6b1f048bf91db9474dc2559ec": {
      "model_module": "@jupyter-widgets/base",
      "model_module_version": "1.0.0",
      "model_name": "LayoutModel",
      "state": {}
     },
     "55af0397609e4c0288a98d3a36ebf333": {
      "model_module": "@jupyter-widgets/controls",
      "model_module_version": "1.2.0",
      "model_name": "TextModel",
      "state": {
       "description": "Near SEGY:",
       "layout": "IPY_MODEL_175b0b5478fb48088e13ccdc5352286b",
       "style": "IPY_MODEL_868cc69e15194cbd95ff206852d83903",
       "value": "./data/3d_nearstack.sgy"
      }
     },
     "55b685e952734277bda89fc6e6e19aa1": {
      "model_module": "@jupyter-widgets/base",
      "model_module_version": "1.0.0",
      "model_name": "LayoutModel",
      "state": {}
     },
     "55d34667a0124999818d22098683495c": {
      "model_module": "@jupyter-widgets/base",
      "model_module_version": "1.0.0",
      "model_name": "LayoutModel",
      "state": {}
     },
     "560054c3713d463daa8af493e580a526": {
      "model_module": "@jupyter-widgets/base",
      "model_module_version": "1.0.0",
      "model_name": "LayoutModel",
      "state": {}
     },
     "5638db2aafaf4c54bfd3730dcdb02f18": {
      "model_module": "@jupyter-widgets/base",
      "model_module_version": "1.0.0",
      "model_name": "LayoutModel",
      "state": {}
     },
     "568573dacc8344c5b76d55623727c661": {
      "model_module": "@jupyter-widgets/controls",
      "model_module_version": "1.2.0",
      "model_name": "DescriptionStyleModel",
      "state": {
       "description_width": ""
      }
     },
     "568b240407d742bf9face2fa7357acbd": {
      "model_module": "@jupyter-widgets/controls",
      "model_module_version": "1.2.0",
      "model_name": "ButtonModel",
      "state": {
       "description": "Process Input",
       "layout": "IPY_MODEL_800256d58c0e4edbb56d3bf4d29f6a54",
       "style": "IPY_MODEL_ece19ce2554647fe881ff3fccfb37c90"
      }
     },
     "5693cf2bf0d7439599724b01c22a93cc": {
      "model_module": "@jupyter-widgets/controls",
      "model_module_version": "1.2.0",
      "model_name": "IntTextModel",
      "state": {
       "description": "Neighbours:",
       "layout": "IPY_MODEL_4bb31c9dd2db48689e414c4f5f16061d",
       "step": 1,
       "style": "IPY_MODEL_a1f555caafa040e89805f2cbe1612bd9",
       "value": 50
      }
     },
     "56e200c793e14b1e8ad96d99544fc20c": {
      "model_module": "@jupyter-widgets/base",
      "model_module_version": "1.0.0",
      "model_name": "LayoutModel",
      "state": {}
     },
     "571cdc542f3643dfa7253a1ad86402ac": {
      "model_module": "@jupyter-widgets/base",
      "model_module_version": "1.0.0",
      "model_name": "LayoutModel",
      "state": {}
     },
     "573ddd073cd14f6fac33ef20c135d220": {
      "model_module": "@jupyter-widgets/base",
      "model_module_version": "1.0.0",
      "model_name": "LayoutModel",
      "state": {}
     },
     "5744511860f741aa8bf7ed051643138d": {
      "model_module": "@jupyter-widgets/controls",
      "model_module_version": "1.2.0",
      "model_name": "DescriptionStyleModel",
      "state": {
       "description_width": ""
      }
     },
     "579a219d9c9c4459b775530b247f8393": {
      "model_module": "@jupyter-widgets/controls",
      "model_module_version": "1.2.0",
      "model_name": "IntTextModel",
      "state": {
       "description": "Below Add:",
       "layout": "IPY_MODEL_6a06d0e6ff764d33bf6d0820d70aaaa5",
       "step": 1,
       "style": "IPY_MODEL_752a3674585d40bcaba0ab3b946ac2dd",
       "value": 52
      }
     },
     "57a3d4e36c714c8abce453529a141422": {
      "model_module": "@jupyter-widgets/controls",
      "model_module_version": "1.2.0",
      "model_name": "ButtonStyleModel",
      "state": {}
     },
     "57c9239268c9415995f15530dbcbbf9f": {
      "model_module": "@jupyter-widgets/controls",
      "model_module_version": "1.2.0",
      "model_name": "DescriptionStyleModel",
      "state": {
       "description_width": ""
      }
     },
     "57cea9dc863242b688362dd40df46fb5": {
      "model_module": "@jupyter-widgets/base",
      "model_module_version": "1.0.0",
      "model_name": "LayoutModel",
      "state": {}
     },
     "5841ea717b914d4eaa8d9eb1c49f7589": {
      "model_module": "@jupyter-widgets/base",
      "model_module_version": "1.0.0",
      "model_name": "LayoutModel",
      "state": {}
     },
     "585866ad095342b99b31662bc1b0e51a": {
      "model_module": "@jupyter-widgets/base",
      "model_module_version": "1.0.0",
      "model_name": "LayoutModel",
      "state": {}
     },
     "588639f916e24ec8bb848c8a0e9fdb0c": {
      "model_module": "@jupyter-widgets/base",
      "model_module_version": "1.0.0",
      "model_name": "LayoutModel",
      "state": {}
     },
     "589b7a89013140f3abd6df3103419ade": {
      "model_module": "@jupyter-widgets/controls",
      "model_module_version": "1.2.0",
      "model_name": "DescriptionStyleModel",
      "state": {
       "description_width": ""
      }
     },
     "589c5613c14341ffa7f5e81912ba705a": {
      "model_module": "@jupyter-widgets/base",
      "model_module_version": "1.0.0",
      "model_name": "LayoutModel",
      "state": {}
     },
     "58b7f19cd0474cceb76ecebc7261538f": {
      "model_module": "@jupyter-widgets/controls",
      "model_module_version": "1.2.0",
      "model_name": "VBoxModel",
      "state": {
       "children": [
        "IPY_MODEL_e90ed16d09404d128cbe4612d64d8372",
        "IPY_MODEL_2f6405d99c594d019486e09dd86c59eb",
        "IPY_MODEL_fd8e46fa697e4aaa9868f57480c80c9b",
        "IPY_MODEL_08672fda452443ae9031068dc2a3ceb2",
        "IPY_MODEL_fc178afdeee24a21bc2921102ce7f757"
       ],
       "layout": "IPY_MODEL_417acfecc2334e69a12f7bf854ae1e09"
      }
     },
     "58c61729282542a38ec6ffae0d134306": {
      "model_module": "@jupyter-widgets/controls",
      "model_module_version": "1.2.0",
      "model_name": "TabModel",
      "state": {
       "_titles": {
        "0": "1. Data Loading",
        "1": "2. Data Processing",
        "2": "3. Model Selection",
        "3": "4. Visualisation"
       },
       "children": [
        "IPY_MODEL_dd11db71737e4d6abc8bbc101e59071b",
        "IPY_MODEL_5db8ba3f18284577b1021579ea0619ab",
        "IPY_MODEL_e6993e06e4d740e395a651b01e66885d",
        "IPY_MODEL_f432256d803c4ff19b0a041aeb4a2621"
       ],
       "layout": "IPY_MODEL_bbbe43437db0435ab62495af5d341b8e"
      }
     },
     "58cbb387fe9d4be996fbf7821d84d952": {
      "model_module": "@jupyter-widgets/controls",
      "model_module_version": "1.2.0",
      "model_name": "TextModel",
      "state": {
       "description": "Near SEGY:",
       "layout": "IPY_MODEL_66c4a1a1670e493fb2dee9eda15e02c7",
       "style": "IPY_MODEL_cbcf9a3cdf2246cebb8d4795dd04dfb3",
       "value": "./data/3d_nearstack.sgy"
      }
     },
     "58d50a13bb9c41f587449a48563ce96a": {
      "model_module": "@jupyter-widgets/base",
      "model_module_version": "1.0.0",
      "model_name": "LayoutModel",
      "state": {}
     },
     "58ee7926acd44740b38fda741f74278a": {
      "model_module": "@jupyter-widgets/controls",
      "model_module_version": "1.2.0",
      "model_name": "VBoxModel",
      "state": {
       "children": [
        "IPY_MODEL_72ba19edae124ac8a0ab44b5ecb5538b",
        "IPY_MODEL_488ab4d7e7784b7ebf61f6f8cf6ab8c6",
        "IPY_MODEL_5cc98e0df1f94392b47c678beb5d29d4"
       ],
       "layout": "IPY_MODEL_4db6762c2b9147d094daa9b695c926aa"
      }
     },
     "59205b8d81754e5997fc9bbcef0452c8": {
      "model_module": "@jupyter-widgets/controls",
      "model_module_version": "1.2.0",
      "model_name": "IntTextModel",
      "state": {
       "description": "Neighbours:",
       "layout": "IPY_MODEL_658fd52712dc46d88438488c8747bde7",
       "step": 1,
       "style": "IPY_MODEL_855e847340fe46138c96c7cb6caae2f5",
       "value": 50
      }
     },
     "5924ab73a418441ba618bf1378f5ea18": {
      "model_module": "@jupyter-widgets/controls",
      "model_module_version": "1.2.0",
      "model_name": "DescriptionStyleModel",
      "state": {
       "description_width": ""
      }
     },
     "592874e1b8c942c3935054f4c137fbc1": {
      "model_module": "@jupyter-widgets/controls",
      "model_module_version": "1.2.0",
      "model_name": "VBoxModel",
      "state": {
       "layout": "IPY_MODEL_f86e0395846e4f21ad69e233a7057d70"
      }
     },
     "592e9d7f52424a1491752409e5f0a1de": {
      "model_module": "@jupyter-widgets/base",
      "model_module_version": "1.0.0",
      "model_name": "LayoutModel",
      "state": {}
     },
     "5972b04c25c348898f6f0be286de5cc8": {
      "model_module": "@jupyter-widgets/controls",
      "model_module_version": "1.2.0",
      "model_name": "DescriptionStyleModel",
      "state": {
       "description_width": ""
      }
     },
     "59c0e48657964312b53dbc18bc68b410": {
      "model_module": "@jupyter-widgets/controls",
      "model_module_version": "1.2.0",
      "model_name": "DescriptionStyleModel",
      "state": {
       "description_width": ""
      }
     },
     "59c7b5d4718c46488cca487466667da4": {
      "model_module": "@jupyter-widgets/controls",
      "model_module_version": "1.2.0",
      "model_name": "VBoxModel",
      "state": {
       "children": [
        "IPY_MODEL_e5df81d36bb64bbfb1802a80348edb4c",
        "IPY_MODEL_b26fbee8881d4d42ba254c23acfc7708",
        "IPY_MODEL_2170dfe233444991a2e22b2f4d21c496",
        "IPY_MODEL_eca2a23d8b5e4950b1c70317e7de7add"
       ],
       "layout": "IPY_MODEL_db8ec330d50e4d629345069dfe0d1187"
      }
     },
     "59d12572f10b43119406168ec614f678": {
      "model_module": "@jupyter-widgets/base",
      "model_module_version": "1.0.0",
      "model_name": "LayoutModel",
      "state": {}
     },
     "59e5a8d87dd645f78afce408f2b930bd": {
      "model_module": "@jupyter-widgets/controls",
      "model_module_version": "1.2.0",
      "model_name": "ButtonModel",
      "state": {
       "description": "Run Umap",
       "layout": "IPY_MODEL_ec1c60dfb94a43b9bb0330a0bcc5c9bb",
       "style": "IPY_MODEL_d86fc2fabe8e4512a795ee92b0f7a26c"
      }
     },
     "5a255a1e6b554635ab383c9062d0750c": {
      "model_module": "@jupyter-widgets/base",
      "model_module_version": "1.0.0",
      "model_name": "LayoutModel",
      "state": {}
     },
     "5a2ac774fc8f492ea765b193086553f3": {
      "model_module": "@jupyter-widgets/base",
      "model_module_version": "1.0.0",
      "model_name": "LayoutModel",
      "state": {}
     },
     "5a34e69250f64cd4852346574fdb1eea": {
      "model_module": "@jupyter-widgets/controls",
      "model_module_version": "1.2.0",
      "model_name": "IntTextModel",
      "state": {
       "description": "Below Add:",
       "layout": "IPY_MODEL_b387c3dd73bc4852be445ca36e550cf1",
       "step": 1,
       "style": "IPY_MODEL_1bd9a87d1c3f4df5a44244ce03572e1e",
       "value": 52
      }
     },
     "5a62652d8c45461f942672c03db00eb3": {
      "model_module": "@jupyter-widgets/base",
      "model_module_version": "1.0.0",
      "model_name": "LayoutModel",
      "state": {}
     },
     "5a6af8c284174de6b5aa04eadcdefb66": {
      "model_module": "@jupyter-widgets/base",
      "model_module_version": "1.0.0",
      "model_name": "LayoutModel",
      "state": {}
     },
     "5a6c5c2c67f34cdbac7cb97ac399a4bd": {
      "model_module": "@jupyter-widgets/controls",
      "model_module_version": "1.2.0",
      "model_name": "TextModel",
      "state": {
       "description": "Horizon .txt:",
       "layout": "IPY_MODEL_7373121f25f2468d80f4f7b5712b2eaf",
       "style": "IPY_MODEL_16aa9694b2b8467089410723920adeb2",
       "value": "./data/Top_Heimdal_subset.txt"
      }
     },
     "5aaafb68ec36458586871e3c166e6d40": {
      "model_module": "@jupyter-widgets/controls",
      "model_module_version": "1.2.0",
      "model_name": "DescriptionStyleModel",
      "state": {
       "description_width": ""
      }
     },
     "5abc819ff3a24574b089d9ade62d69e8": {
      "model_module": "@jupyter-widgets/base",
      "model_module_version": "1.0.0",
      "model_name": "LayoutModel",
      "state": {}
     },
     "5aea95c1908642a98870b3c103685d5b": {
      "model_module": "@jupyter-widgets/base",
      "model_module_version": "1.0.0",
      "model_name": "LayoutModel",
      "state": {}
     },
     "5b0fd12b219a4c7dbc749d483d8349e7": {
      "model_module": "@jupyter-widgets/base",
      "model_module_version": "1.0.0",
      "model_name": "LayoutModel",
      "state": {}
     },
     "5b16d3eb387a43639ffff98236cd12ec": {
      "model_module": "@jupyter-widgets/base",
      "model_module_version": "1.0.0",
      "model_name": "LayoutModel",
      "state": {}
     },
     "5b638a580241485987ad9f0650dc5457": {
      "model_module": "@jupyter-widgets/controls",
      "model_module_version": "1.2.0",
      "model_name": "DescriptionStyleModel",
      "state": {
       "description_width": ""
      }
     },
     "5b6935497f224bbbb583995ec572b068": {
      "model_module": "@jupyter-widgets/base",
      "model_module_version": "1.0.0",
      "model_name": "LayoutModel",
      "state": {}
     },
     "5bbccdd40cd241d580f832f5f576ec59": {
      "model_module": "@jupyter-widgets/base",
      "model_module_version": "1.0.0",
      "model_name": "LayoutModel",
      "state": {}
     },
     "5bca009fbbb54ec0b277fd215af6f778": {
      "model_module": "@jupyter-widgets/base",
      "model_module_version": "1.0.0",
      "model_name": "LayoutModel",
      "state": {}
     },
     "5bd44244983348fb8294d09490bb1241": {
      "model_module": "@jupyter-widgets/base",
      "model_module_version": "1.0.0",
      "model_name": "LayoutModel",
      "state": {}
     },
     "5c16e954db3b4d9284034f2ea115dfc3": {
      "model_module": "@jupyter-widgets/controls",
      "model_module_version": "1.2.0",
      "model_name": "ButtonModel",
      "state": {
       "description": "Run Vae",
       "layout": "IPY_MODEL_1b76a02d32984e679f94c639d0f5e1e6",
       "style": "IPY_MODEL_31748d8b6e07411dafce939b7728ee94"
      }
     },
     "5c1aeece86bb4308bb65442ad38b71bd": {
      "model_module": "@jupyter-widgets/controls",
      "model_module_version": "1.2.0",
      "model_name": "VBoxModel",
      "state": {
       "layout": "IPY_MODEL_85e6aca3d3f8450aaf8f097aef320c5c"
      }
     },
     "5c49fbea4a254d83ae0b11f451f26749": {
      "model_module": "@jupyter-widgets/controls",
      "model_module_version": "1.2.0",
      "model_name": "VBoxModel",
      "state": {
       "children": [
        "IPY_MODEL_a33209e33ab149d2bbdfa478d5270bbd",
        "IPY_MODEL_f20ba6b5be4147ac9a599d3f51ae128a"
       ],
       "layout": "IPY_MODEL_00b2dbedba4a408cac4060823bab6c84"
      }
     },
     "5c5242458b6d4fc3b1bc084f2f2d5927": {
      "model_module": "@jupyter-widgets/base",
      "model_module_version": "1.0.0",
      "model_name": "LayoutModel",
      "state": {}
     },
     "5c5c4145596d4ce2a6e0b08b9a0a5ab0": {
      "model_module": "@jupyter-widgets/controls",
      "model_module_version": "1.2.0",
      "model_name": "HTMLModel",
      "state": {
       "layout": "IPY_MODEL_8317cab8ad7e4bc49545644c35f5e0ee",
       "style": "IPY_MODEL_88e6b0ec565e414c8ee61b20fe125781",
       "value": "<b>Plot parameters:<b>"
      }
     },
     "5c5e899258fb48e1b6b2fbb22509b8b8": {
      "model_module": "@jupyter-widgets/controls",
      "model_module_version": "1.2.0",
      "model_name": "DescriptionStyleModel",
      "state": {
       "description_width": ""
      }
     },
     "5c87574b6277429d95719ca4d15d77e0": {
      "model_module": "@jupyter-widgets/base",
      "model_module_version": "1.0.0",
      "model_name": "LayoutModel",
      "state": {}
     },
     "5ca5dc7fc5a949298012827a6d0e11dd": {
      "model_module": "@jupyter-widgets/controls",
      "model_module_version": "1.2.0",
      "model_name": "DescriptionStyleModel",
      "state": {
       "description_width": ""
      }
     },
     "5cb4bd8afcd742af8417ad63c8e36ff3": {
      "model_module": "@jupyter-widgets/controls",
      "model_module_version": "1.2.0",
      "model_name": "DescriptionStyleModel",
      "state": {
       "description_width": ""
      }
     },
     "5cbd3f9617524afea18cd59bb7f6c30e": {
      "model_module": "@jupyter-widgets/base",
      "model_module_version": "1.0.0",
      "model_name": "LayoutModel",
      "state": {}
     },
     "5cbeb1f6df4b40feaa7469c0663eb86a": {
      "model_module": "@jupyter-widgets/base",
      "model_module_version": "1.0.0",
      "model_name": "LayoutModel",
      "state": {}
     },
     "5cc4bf880c2a4079a759c80727644c7c": {
      "model_module": "@jupyter-widgets/base",
      "model_module_version": "1.0.0",
      "model_name": "LayoutModel",
      "state": {}
     },
     "5cc4f944770548adbfd84a4e77854f91": {
      "model_module": "@jupyter-widgets/base",
      "model_module_version": "1.0.0",
      "model_name": "LayoutModel",
      "state": {}
     },
     "5cc98e0df1f94392b47c678beb5d29d4": {
      "model_module": "@jupyter-widgets/controls",
      "model_module_version": "1.2.0",
      "model_name": "ButtonModel",
      "state": {
       "description": "Run Umap",
       "layout": "IPY_MODEL_3b3df8c937dd4141ba5b3a77e109ee14",
       "style": "IPY_MODEL_b4ecbd8f1aa64caea5360da15f04daab"
      }
     },
     "5cca018067554a6bb87cd138b0ce0fcd": {
      "model_module": "@jupyter-widgets/base",
      "model_module_version": "1.0.0",
      "model_name": "LayoutModel",
      "state": {}
     },
     "5ccf481087144a7eae59f8ff5ade0a96": {
      "model_module": "@jupyter-widgets/base",
      "model_module_version": "1.0.0",
      "model_name": "LayoutModel",
      "state": {}
     },
     "5cd9a4581d6e4f3290713021637ca0ce": {
      "model_module": "@jupyter-widgets/controls",
      "model_module_version": "1.2.0",
      "model_name": "ButtonModel",
      "state": {
       "description": "Process Input",
       "layout": "IPY_MODEL_f84c568919bf4c908c3a3e528b50ea7c",
       "style": "IPY_MODEL_25ddbcb3ea644ef6a77e992d6bc31daf"
      }
     },
     "5ce3e85293014d53ba5bb8ac3b25eb7a": {
      "model_module": "@jupyter-widgets/controls",
      "model_module_version": "1.2.0",
      "model_name": "DescriptionStyleModel",
      "state": {
       "description_width": ""
      }
     },
     "5d01ef7a4e54437380199834a9833c15": {
      "model_module": "@jupyter-widgets/base",
      "model_module_version": "1.0.0",
      "model_name": "LayoutModel",
      "state": {}
     },
     "5d1eaa297cdd47978f11647bd0f8ec59": {
      "model_module": "@jupyter-widgets/controls",
      "model_module_version": "1.2.0",
      "model_name": "DescriptionStyleModel",
      "state": {
       "description_width": ""
      }
     },
     "5d9906a113b0453e8c4d38510d4cfb60": {
      "model_module": "@jupyter-widgets/base",
      "model_module_version": "1.0.0",
      "model_name": "LayoutModel",
      "state": {}
     },
     "5db6139f540b4c22b67126c3190ce2d7": {
      "model_module": "@jupyter-widgets/base",
      "model_module_version": "1.0.0",
      "model_name": "LayoutModel",
      "state": {}
     },
     "5db8ba3f18284577b1021579ea0619ab": {
      "model_module": "@jupyter-widgets/controls",
      "model_module_version": "1.2.0",
      "model_name": "VBoxModel",
      "state": {
       "children": [
        "IPY_MODEL_7dd7e7cc9e6540599e6d8c31894fff00",
        "IPY_MODEL_40797098a4ae40908ab7d5ed2e8cfffb"
       ],
       "layout": "IPY_MODEL_d615ad81156647aca75046adaf0cd990"
      }
     },
     "5dbce84932154f65994fd1ec102bd3de": {
      "model_module": "@jupyter-widgets/base",
      "model_module_version": "1.0.0",
      "model_name": "LayoutModel",
      "state": {}
     },
     "5dc26c9f81e747acb8b6c80f257ed24a": {
      "model_module": "@jupyter-widgets/base",
      "model_module_version": "1.0.0",
      "model_name": "LayoutModel",
      "state": {}
     },
     "5dd2c3320f15400aa831377fb8c7422d": {
      "model_module": "@jupyter-widgets/controls",
      "model_module_version": "1.2.0",
      "model_name": "DescriptionStyleModel",
      "state": {
       "description_width": ""
      }
     },
     "5df0158f0d4042ffaa3c590cc4b640df": {
      "model_module": "@jupyter-widgets/base",
      "model_module_version": "1.0.0",
      "model_name": "LayoutModel",
      "state": {}
     },
     "5df4a35eb34c461eb915276d4435f6c9": {
      "model_module": "@jupyter-widgets/controls",
      "model_module_version": "1.2.0",
      "model_name": "IntTextModel",
      "state": {
       "description": "Neighbours:",
       "layout": "IPY_MODEL_de5bcda2a32446188a8bb4db21ebe6b6",
       "step": 1,
       "style": "IPY_MODEL_f6318643bf1041948dfb0347055752d7",
       "value": 50
      }
     },
     "5e057a008fb6441db24081ace53d3590": {
      "model_module": "@jupyter-widgets/base",
      "model_module_version": "1.0.0",
      "model_name": "LayoutModel",
      "state": {}
     },
     "5e67a3f231c14de391e66be9ef049ed3": {
      "model_module": "@jupyter-widgets/controls",
      "model_module_version": "1.2.0",
      "model_name": "IntTextModel",
      "state": {
       "description": "Epochs:",
       "layout": "IPY_MODEL_c976ffb3c64646fa94a6bb1b0840ff75",
       "step": 1,
       "style": "IPY_MODEL_4e397eae826046f38171a4f324176198",
       "value": 3
      }
     },
     "5e74723b367b448d928c037887706afd": {
      "model_module": "@jupyter-widgets/controls",
      "model_module_version": "1.2.0",
      "model_name": "DescriptionStyleModel",
      "state": {
       "description_width": ""
      }
     },
     "5e7e53f4aed2436aa0265d3a48d45f78": {
      "model_module": "@jupyter-widgets/base",
      "model_module_version": "1.0.0",
      "model_name": "LayoutModel",
      "state": {}
     },
     "5e80d9064a64450787d730722472f15d": {
      "model_module": "@jupyter-widgets/output",
      "model_module_version": "1.0.0",
      "model_name": "OutputModel",
      "state": {
       "layout": "IPY_MODEL_c1930deef901440f88ce17eba2ebc86b"
      }
     },
     "5eab688484be48a08190793feadf694d": {
      "model_module": "@jupyter-widgets/base",
      "model_module_version": "1.0.0",
      "model_name": "LayoutModel",
      "state": {}
     },
     "5eb429f42d0d498787ff50b88a2e49c6": {
      "model_module": "@jupyter-widgets/controls",
      "model_module_version": "1.2.0",
      "model_name": "ButtonStyleModel",
      "state": {}
     },
     "5ebda386a56447b3a23995f9082588dc": {
      "model_module": "@jupyter-widgets/controls",
      "model_module_version": "1.2.0",
      "model_name": "ButtonStyleModel",
      "state": {}
     },
     "5ec01b13e3b340dc936f431a88baf0e3": {
      "model_module": "@jupyter-widgets/controls",
      "model_module_version": "1.2.0",
      "model_name": "DropdownModel",
      "state": {
       "_options_labels": [
        "True",
        "False"
       ],
       "description": "True/False:",
       "index": 0,
       "layout": "IPY_MODEL_dd9d5649e31d489aada2a86adaf88146",
       "style": "IPY_MODEL_5cb4bd8afcd742af8417ad63c8e36ff3"
      }
     },
     "5ee1c839186a4b94bfb796f885c74455": {
      "model_module": "@jupyter-widgets/controls",
      "model_module_version": "1.2.0",
      "model_name": "VBoxModel",
      "state": {
       "layout": "IPY_MODEL_d9bd20821fd7412b9a59f6691b363ab3"
      }
     },
     "5f15e047f6144bd78c5af42492940174": {
      "model_module": "@jupyter-widgets/controls",
      "model_module_version": "1.2.0",
      "model_name": "DescriptionStyleModel",
      "state": {
       "description_width": ""
      }
     },
     "5f21a25d601a4f9ea0a107ecb2d031b7": {
      "model_module": "@jupyter-widgets/base",
      "model_module_version": "1.0.0",
      "model_name": "LayoutModel",
      "state": {}
     },
     "5f3466b0e0534464b46dac0581ecd8bd": {
      "model_module": "@jupyter-widgets/controls",
      "model_module_version": "1.2.0",
      "model_name": "DescriptionStyleModel",
      "state": {
       "description_width": ""
      }
     },
     "5f501e6d983f4464b183492b59bbc007": {
      "model_module": "@jupyter-widgets/controls",
      "model_module_version": "1.2.0",
      "model_name": "HTMLModel",
      "state": {
       "layout": "IPY_MODEL_c890554b6a4b4816a5d3232d74635270",
       "style": "IPY_MODEL_04224922baa345d299b6f0e98d028cc5",
       "value": "<b>Plot parameters:<b>"
      }
     },
     "5f79c2d974d143f38638475ad586d69b": {
      "model_module": "@jupyter-widgets/controls",
      "model_module_version": "1.2.0",
      "model_name": "VBoxModel",
      "state": {
       "children": [
        "IPY_MODEL_230c83ee5e564cda9cd915d7205a95c3",
        "IPY_MODEL_12662e24ed134f779fc07543ac41772a"
       ],
       "layout": "IPY_MODEL_28f190ff7dfe43c59860e9c85645cdec"
      }
     },
     "5f82e745971549f292ebe2f6bae4ca85": {
      "model_module": "@jupyter-widgets/controls",
      "model_module_version": "1.2.0",
      "model_name": "IntTextModel",
      "state": {
       "description": "Neighbours:",
       "layout": "IPY_MODEL_588639f916e24ec8bb848c8a0e9fdb0c",
       "step": 1,
       "style": "IPY_MODEL_4685d8d6b6f149a9a3916ca93c749bf0",
       "value": 50
      }
     },
     "5fad540bfcc24b08b12ff7bf00848442": {
      "model_module": "@jupyter-widgets/controls",
      "model_module_version": "1.2.0",
      "model_name": "DropdownModel",
      "state": {
       "_options_labels": [
        "True",
        "False"
       ],
       "description": "True/False:",
       "index": 0,
       "layout": "IPY_MODEL_d19698698c76491b82c62c9dab21ce24",
       "style": "IPY_MODEL_3a4d500fb74e4f4ab21647e9837705f3"
      }
     },
     "5fb06322b8e542a18c55c17247a5d830": {
      "model_module": "@jupyter-widgets/base",
      "model_module_version": "1.0.0",
      "model_name": "LayoutModel",
      "state": {}
     },
     "5ffc37a41bbd4279babc8886c2537199": {
      "model_module": "@jupyter-widgets/controls",
      "model_module_version": "1.2.0",
      "model_name": "IntTextModel",
      "state": {
       "description": "Above Add:",
       "layout": "IPY_MODEL_78b34ada11fa46c587dffcccc21222aa",
       "step": 1,
       "style": "IPY_MODEL_61181e554d0e4a49ab2f34c88ee89de8",
       "value": 12
      }
     },
     "604b44961c3a4bd38f02ae4cbe71eb22": {
      "model_module": "@jupyter-widgets/controls",
      "model_module_version": "1.2.0",
      "model_name": "TextModel",
      "state": {
       "description": "Near SEGY:",
       "layout": "IPY_MODEL_9e7fa08e00794d6e935fccd9758357a5",
       "style": "IPY_MODEL_e31e79e715c54480be1708fb6fa777d9",
       "value": "./data/3d_nearstack.sgy"
      }
     },
     "60683356382e44e796546e1d3697af41": {
      "model_module": "@jupyter-widgets/base",
      "model_module_version": "1.0.0",
      "model_name": "LayoutModel",
      "state": {}
     },
     "6069cf2712994b47a4d98c9ce404dc42": {
      "model_module": "@jupyter-widgets/base",
      "model_module_version": "1.0.0",
      "model_name": "LayoutModel",
      "state": {
       "border": "4px solid black"
      }
     },
     "60d0c4f7a65c44aca2e82f1189498129": {
      "model_module": "@jupyter-widgets/base",
      "model_module_version": "1.0.0",
      "model_name": "LayoutModel",
      "state": {}
     },
     "60eb9ccd5980411db78fc9dc6e4ed75d": {
      "model_module": "@jupyter-widgets/controls",
      "model_module_version": "1.2.0",
      "model_name": "VBoxModel",
      "state": {
       "children": [
        "IPY_MODEL_cd500dd569f54cacb84ca3f845fc359b",
        "IPY_MODEL_173dcf7d35c94ea48aeb4552e5bc09aa"
       ],
       "layout": "IPY_MODEL_fe5bd1cb0836491b9254228fe450aa66"
      }
     },
     "60f7e04b860a4207a0f3b627c1556ca6": {
      "model_module": "@jupyter-widgets/controls",
      "model_module_version": "1.2.0",
      "model_name": "ButtonStyleModel",
      "state": {}
     },
     "60fc348b98b04ae6aab4de752fbbe1f3": {
      "model_module": "@jupyter-widgets/base",
      "model_module_version": "1.0.0",
      "model_name": "LayoutModel",
      "state": {}
     },
     "61181e554d0e4a49ab2f34c88ee89de8": {
      "model_module": "@jupyter-widgets/controls",
      "model_module_version": "1.2.0",
      "model_name": "DescriptionStyleModel",
      "state": {
       "description_width": ""
      }
     },
     "61378193cf5a4c3bbf89eaf53f57b405": {
      "model_module": "@jupyter-widgets/controls",
      "model_module_version": "1.2.0",
      "model_name": "ButtonModel",
      "state": {
       "description": "Run Umap",
       "layout": "IPY_MODEL_801c5ab80e5e4215a2a9f240887ce5c9",
       "style": "IPY_MODEL_7d319c1504334453944f37e7d39e68c8"
      }
     },
     "614bfa8dc61d428795a9e603e928b3f8": {
      "model_module": "@jupyter-widgets/base",
      "model_module_version": "1.0.0",
      "model_name": "LayoutModel",
      "state": {}
     },
     "61543b64357e41058a4a09b6cf297615": {
      "model_module": "@jupyter-widgets/controls",
      "model_module_version": "1.2.0",
      "model_name": "HTMLModel",
      "state": {
       "layout": "IPY_MODEL_eadb504018494694b14d012c08204e10",
       "style": "IPY_MODEL_e06bc93db33e462ab88ab3a86cc90a74",
       "value": "<b>In-line range:<b>"
      }
     },
     "615d8802b6e046ae99f051da88dc85a9": {
      "model_module": "@jupyter-widgets/controls",
      "model_module_version": "1.2.0",
      "model_name": "HTMLModel",
      "state": {
       "layout": "IPY_MODEL_1cee04633f6f4a429c8c4e0c776fadfd",
       "style": "IPY_MODEL_62a0d26f577346549eb66dad271894b9",
       "value": "<b>UMAP:<b>"
      }
     },
     "61643c40a2464860b018107dd7f0ccdb": {
      "model_module": "@jupyter-widgets/controls",
      "model_module_version": "1.2.0",
      "model_name": "DescriptionStyleModel",
      "state": {
       "description_width": ""
      }
     },
     "6177b46ebfa3420eb7132c2efa1b6fae": {
      "model_module": "@jupyter-widgets/controls",
      "model_module_version": "1.2.0",
      "model_name": "HTMLModel",
      "state": {
       "layout": "IPY_MODEL_fa967e926bcd4e6ba00e57da2701b2d4",
       "style": "IPY_MODEL_8de6082eece642a7822e5b4d769d3d42",
       "value": "<b>VAE->UMAP 2-D parameters:<b>"
      }
     },
     "619ecab9afed4bdc83c8cab39e7d363a": {
      "model_module": "@jupyter-widgets/controls",
      "model_module_version": "1.2.0",
      "model_name": "HTMLModel",
      "state": {
       "layout": "IPY_MODEL_197051899ff14d1185a393e6cf075889",
       "style": "IPY_MODEL_1d84f8461fc444499548e29b0d80620a",
       "value": "<b>In-line range:<b>"
      }
     },
     "61fab23c63bb435b84c567073556564a": {
      "model_module": "@jupyter-widgets/base",
      "model_module_version": "1.0.0",
      "model_name": "LayoutModel",
      "state": {}
     },
     "620f17b1c03044e7b07bfbaffe8c12b4": {
      "model_module": "@jupyter-widgets/base",
      "model_module_version": "1.0.0",
      "model_name": "LayoutModel",
      "state": {}
     },
     "621080d601eb4b74b9843cbe4408a75e": {
      "model_module": "@jupyter-widgets/base",
      "model_module_version": "1.0.0",
      "model_name": "LayoutModel",
      "state": {}
     },
     "621cbe41b9924a57ab46bb17d8d5b9f3": {
      "model_module": "@jupyter-widgets/output",
      "model_module_version": "1.0.0",
      "model_name": "OutputModel",
      "state": {
       "layout": "IPY_MODEL_4e61f3f305b449bb862e5e29be943e54"
      }
     },
     "622173b105d7408ebe8edff1ca7007cb": {
      "model_module": "@jupyter-widgets/controls",
      "model_module_version": "1.2.0",
      "model_name": "HTMLModel",
      "state": {
       "layout": "IPY_MODEL_6ed5d032ee6e4000b17431fe526e295f",
       "style": "IPY_MODEL_ca2ec1b5979b400ea56d9a4505aa5095",
       "value": "<b>UMAP:<b>"
      }
     },
     "622613f116eb477ea0ae8fa6abdd70e9": {
      "model_module": "@jupyter-widgets/controls",
      "model_module_version": "1.2.0",
      "model_name": "DescriptionStyleModel",
      "state": {
       "description_width": ""
      }
     },
     "62603eefb1234721b0e152a0620020a1": {
      "model_module": "@jupyter-widgets/controls",
      "model_module_version": "1.2.0",
      "model_name": "ButtonModel",
      "state": {
       "description": "Run Umap",
       "layout": "IPY_MODEL_2358ac5d463f4aaeb23334a077880565",
       "style": "IPY_MODEL_9f71691bc57c4f66bd9c7225c5635b53"
      }
     },
     "626c8c1fba5944a3bd402fcb295b02f1": {
      "model_module": "@jupyter-widgets/controls",
      "model_module_version": "1.2.0",
      "model_name": "ButtonModel",
      "state": {
       "description": "Clear Output",
       "layout": "IPY_MODEL_da01baa8224942c2a664021de18e7e3d",
       "style": "IPY_MODEL_f3a4c1899e2a4b0f8f9947b2c48981c4"
      }
     },
     "6275f9f3b0b74546af3ed61696e454ed": {
      "model_module": "@jupyter-widgets/base",
      "model_module_version": "1.0.0",
      "model_name": "LayoutModel",
      "state": {}
     },
     "629b591d3f8049cea5e54a8d584c267b": {
      "model_module": "@jupyter-widgets/controls",
      "model_module_version": "1.2.0",
      "model_name": "DescriptionStyleModel",
      "state": {
       "description_width": ""
      }
     },
     "62a0d26f577346549eb66dad271894b9": {
      "model_module": "@jupyter-widgets/controls",
      "model_module_version": "1.2.0",
      "model_name": "DescriptionStyleModel",
      "state": {
       "description_width": ""
      }
     },
     "63307237263f42299e60f928ee6cca36": {
      "model_module": "@jupyter-widgets/controls",
      "model_module_version": "1.2.0",
      "model_name": "DescriptionStyleModel",
      "state": {
       "description_width": ""
      }
     },
     "634048c2154b4c27b2cb59ed64dcdb3c": {
      "model_module": "@jupyter-widgets/controls",
      "model_module_version": "1.2.0",
      "model_name": "HBoxModel",
      "state": {
       "children": [
        "IPY_MODEL_b07e62d77e344afd98ae5b1776027e68",
        "IPY_MODEL_7feb45f622ae4bf0aea6ccb1a15cc98f"
       ],
       "layout": "IPY_MODEL_ec17cb218b954846a26242e589ba5096"
      }
     },
     "634796a2e7fa4a2a9b38b724c0dc96d0": {
      "model_module": "@jupyter-widgets/base",
      "model_module_version": "1.0.0",
      "model_name": "LayoutModel",
      "state": {}
     },
     "634e83fa1c494c918843daef9d6819ab": {
      "model_module": "@jupyter-widgets/controls",
      "model_module_version": "1.2.0",
      "model_name": "VBoxModel",
      "state": {
       "layout": "IPY_MODEL_ab62845a0e7f49edbaddabba09fa6417"
      }
     },
     "6379564cda974b349f10172fc0637ca5": {
      "model_module": "@jupyter-widgets/controls",
      "model_module_version": "1.2.0",
      "model_name": "TextModel",
      "state": {
       "description": "Far SEGY:",
       "layout": "IPY_MODEL_a9e6b68e422742098d7cc764dc7f1423",
       "style": "IPY_MODEL_85f9095a370d4fcd803935f07258fc25",
       "value": "./data/3d_farstack.sgy"
      }
     },
     "63b67a8e3c4e471981d0b6e7af9b2ed9": {
      "model_module": "@jupyter-widgets/controls",
      "model_module_version": "1.2.0",
      "model_name": "DescriptionStyleModel",
      "state": {
       "description_width": ""
      }
     },
     "63c6f6eab8604bc6a44fabfdc44fd59e": {
      "model_module": "@jupyter-widgets/controls",
      "model_module_version": "1.2.0",
      "model_name": "DropdownModel",
      "state": {
       "_options_labels": [
        "horizon",
        "FF"
       ],
       "description": "Plot Attribute:",
       "index": 0,
       "layout": "IPY_MODEL_803e5f3e3d5a485caa0cbd7e1878daef",
       "style": "IPY_MODEL_1ee05d067e504749911485c4681c2d03"
      }
     },
     "63f5c8efdb624212bac280b9b257c1cb": {
      "model_module": "@jupyter-widgets/base",
      "model_module_version": "1.0.0",
      "model_name": "LayoutModel",
      "state": {
       "border": "4px solid black"
      }
     },
     "6407be3b848d4fc0b02839385ad0563b": {
      "model_module": "@jupyter-widgets/controls",
      "model_module_version": "1.2.0",
      "model_name": "IntTextModel",
      "state": {
       "description": "Step:",
       "layout": "IPY_MODEL_144394732eed4daab6cd5a83c267594c",
       "step": 1,
       "style": "IPY_MODEL_4fd4df16e2684f068bb7d7772e3e53ae",
       "value": 2
      }
     },
     "6419326e359641049c989fc4c809d8cc": {
      "model_module": "@jupyter-widgets/controls",
      "model_module_version": "1.2.0",
      "model_name": "VBoxModel",
      "state": {
       "children": [
        "IPY_MODEL_2b45658683324584bcc65d113164115d",
        "IPY_MODEL_bdcee56c6d5d4ebd89529c95ce8ce208",
        "IPY_MODEL_be16e094ac71473696c9a0f50e402928",
        "IPY_MODEL_15034dec559b4f629f722eb96ce41ac8",
        "IPY_MODEL_042e8a2899104bd1ac9ac2782a031889"
       ],
       "layout": "IPY_MODEL_bb51e7ba7e4b46a591247a7c961fc82a"
      }
     },
     "6465141b66384ee0bc67a2b9f5407838": {
      "model_module": "@jupyter-widgets/base",
      "model_module_version": "1.0.0",
      "model_name": "LayoutModel",
      "state": {}
     },
     "64887f6b6b0249caa06cc92860a7cc6e": {
      "model_module": "@jupyter-widgets/base",
      "model_module_version": "1.0.0",
      "model_name": "LayoutModel",
      "state": {}
     },
     "64b927e19bae4eeab55b752d2f1f66d7": {
      "model_module": "@jupyter-widgets/controls",
      "model_module_version": "1.2.0",
      "model_name": "ButtonStyleModel",
      "state": {}
     },
     "64d33371da564519a3c47dc1c99d6d22": {
      "model_module": "@jupyter-widgets/controls",
      "model_module_version": "1.2.0",
      "model_name": "DescriptionStyleModel",
      "state": {
       "description_width": ""
      }
     },
     "64d9ada49402419cae99abf063d645f4": {
      "model_module": "@jupyter-widgets/base",
      "model_module_version": "1.0.0",
      "model_name": "LayoutModel",
      "state": {}
     },
     "65176fcaf31241d3a45f7b170255f8a5": {
      "model_module": "@jupyter-widgets/base",
      "model_module_version": "1.0.0",
      "model_name": "LayoutModel",
      "state": {}
     },
     "6522f64bd9bb4a6eae23ae43bb1f89b6": {
      "model_module": "@jupyter-widgets/controls",
      "model_module_version": "1.2.0",
      "model_name": "HTMLModel",
      "state": {
       "layout": "IPY_MODEL_1e7b6c49d64742f38b1536a710e6a2da",
       "style": "IPY_MODEL_0314c5fd11994c5ca72d1b46d6816776",
       "value": "<b>UMAP:<b>"
      }
     },
     "65397ef500bf4293a2df2c56f040339b": {
      "model_module": "@jupyter-widgets/base",
      "model_module_version": "1.0.0",
      "model_name": "LayoutModel",
      "state": {}
     },
     "654ab63748094edba75ab92a03171d00": {
      "model_module": "@jupyter-widgets/controls",
      "model_module_version": "1.2.0",
      "model_name": "DescriptionStyleModel",
      "state": {
       "description_width": ""
      }
     },
     "658fd52712dc46d88438488c8747bde7": {
      "model_module": "@jupyter-widgets/base",
      "model_module_version": "1.0.0",
      "model_name": "LayoutModel",
      "state": {}
     },
     "6618638f378d461aa7c43ce01ffdc553": {
      "model_module": "@jupyter-widgets/controls",
      "model_module_version": "1.2.0",
      "model_name": "IntTextModel",
      "state": {
       "description": "Step:",
       "layout": "IPY_MODEL_53b9ef3f205b4b539fc4ba1d5261a706",
       "step": 1,
       "style": "IPY_MODEL_e295b9f713c1475aabda87ce29074e2a",
       "value": 2
      }
     },
     "662b2399e7244db394a1d44dddeb3f1b": {
      "model_module": "@jupyter-widgets/controls",
      "model_module_version": "1.2.0",
      "model_name": "HTMLModel",
      "state": {
       "layout": "IPY_MODEL_b5054704ea124e41a81c2f63553af1f7",
       "style": "IPY_MODEL_939d2591621a483dbb86902829076684",
       "value": "<b>Plot parameters:<b>"
      }
     },
     "66344b5d5a994cbb8a64d2ae672c23e4": {
      "model_module": "@jupyter-widgets/controls",
      "model_module_version": "1.2.0",
      "model_name": "IntTextModel",
      "state": {
       "description": "Step:",
       "layout": "IPY_MODEL_df1a90073a01491986e661bf322cab4c",
       "step": 1,
       "style": "IPY_MODEL_882e571b534d4d60bd872fd9f25c6da4",
       "value": 2
      }
     },
     "66477a1a758049b19296230ee60a236c": {
      "model_module": "@jupyter-widgets/base",
      "model_module_version": "1.0.0",
      "model_name": "LayoutModel",
      "state": {}
     },
     "664b5caec1184c6487719de4278f37cc": {
      "model_module": "@jupyter-widgets/controls",
      "model_module_version": "1.2.0",
      "model_name": "IntTextModel",
      "state": {
       "description": "Start:",
       "layout": "IPY_MODEL_04f4355524a2479a83866806f6f3a033",
       "step": 1,
       "style": "IPY_MODEL_10e6c7cb47204a7da9d36a84f60570c5",
       "value": 1300
      }
     },
     "669191edabb64092bada441a8bc87ded": {
      "model_module": "@jupyter-widgets/controls",
      "model_module_version": "1.2.0",
      "model_name": "DescriptionStyleModel",
      "state": {
       "description_width": ""
      }
     },
     "66b4405ce1994187a04a2e8299999d7a": {
      "model_module": "@jupyter-widgets/base",
      "model_module_version": "1.0.0",
      "model_name": "LayoutModel",
      "state": {}
     },
     "66c4a1a1670e493fb2dee9eda15e02c7": {
      "model_module": "@jupyter-widgets/base",
      "model_module_version": "1.0.0",
      "model_name": "LayoutModel",
      "state": {}
     },
     "66e53d105ca940eaa13184541f1b6087": {
      "model_module": "@jupyter-widgets/controls",
      "model_module_version": "1.2.0",
      "model_name": "DescriptionStyleModel",
      "state": {
       "description_width": ""
      }
     },
     "67256527526e42d1bb7311860a97dd9c": {
      "model_module": "@jupyter-widgets/base",
      "model_module_version": "1.0.0",
      "model_name": "LayoutModel",
      "state": {}
     },
     "67458a106a1e42f9a5864627a7172e71": {
      "model_module": "@jupyter-widgets/controls",
      "model_module_version": "1.2.0",
      "model_name": "HBoxModel",
      "state": {
       "children": [
        "IPY_MODEL_e6df40213f7a4546ab560edce1a48ed6",
        "IPY_MODEL_4034801a9a954562bf6cf73dc840e251",
        "IPY_MODEL_3fd66462a017405488d595bc3d02b4ee"
       ],
       "layout": "IPY_MODEL_67b42411c42d4dc6aff2e26045b53976"
      }
     },
     "674e981266744e929cfb31dd3be7fea9": {
      "model_module": "@jupyter-widgets/controls",
      "model_module_version": "1.2.0",
      "model_name": "IntTextModel",
      "state": {
       "description": "Stop:",
       "layout": "IPY_MODEL_5eab688484be48a08190793feadf694d",
       "step": 1,
       "style": "IPY_MODEL_0d0e927c8c244258a0debfbe6a296858",
       "value": 1502
      }
     },
     "678c2de5671f4e3d9d0642d5c4118daa": {
      "model_module": "@jupyter-widgets/base",
      "model_module_version": "1.0.0",
      "model_name": "LayoutModel",
      "state": {}
     },
     "679753c832af4ff0a739cb49809dfaf1": {
      "model_module": "@jupyter-widgets/controls",
      "model_module_version": "1.2.0",
      "model_name": "DescriptionStyleModel",
      "state": {
       "description_width": ""
      }
     },
     "67b42411c42d4dc6aff2e26045b53976": {
      "model_module": "@jupyter-widgets/base",
      "model_module_version": "1.0.0",
      "model_name": "LayoutModel",
      "state": {}
     },
     "67c701ae6cfa48b9908e5a0207ebc93f": {
      "model_module": "@jupyter-widgets/controls",
      "model_module_version": "1.2.0",
      "model_name": "IntTextModel",
      "state": {
       "description": "Below Add:",
       "layout": "IPY_MODEL_9b32a27404a14755bbfb13aef71e3f4f",
       "step": 1,
       "style": "IPY_MODEL_32e90ad5ad644c4b936490ffb90dec70",
       "value": 52
      }
     },
     "67dba3ed7dab4a249bdb789da0c35b4e": {
      "model_module": "@jupyter-widgets/controls",
      "model_module_version": "1.2.0",
      "model_name": "VBoxModel",
      "state": {
       "children": [
        "IPY_MODEL_bb199427c98644f1a5dfecb5cc516e3e",
        "IPY_MODEL_b0e038d7506c4e779898a610a5dbdf78"
       ],
       "layout": "IPY_MODEL_634796a2e7fa4a2a9b38b724c0dc96d0"
      }
     },
     "67f4985f338745f59c2e9c6bcff815f1": {
      "model_module": "@jupyter-widgets/output",
      "model_module_version": "1.0.0",
      "model_name": "OutputModel",
      "state": {
       "layout": "IPY_MODEL_44056aa0db5649149612939a0a4974e6"
      }
     },
     "6813c827b47c44eca2d0d26bff82523d": {
      "model_module": "@jupyter-widgets/controls",
      "model_module_version": "1.2.0",
      "model_name": "IntTextModel",
      "state": {
       "description": "Below Add:",
       "layout": "IPY_MODEL_24e294f2178247b9b744d8af9c5f1735",
       "step": 1,
       "style": "IPY_MODEL_bcf6472d14a74be881a53829f163d728",
       "value": 52
      }
     },
     "68a0dba882ee4c0db8c537f3ddb48d32": {
      "model_module": "@jupyter-widgets/base",
      "model_module_version": "1.0.0",
      "model_name": "LayoutModel",
      "state": {}
     },
     "68c93b9402c441a0bbaa412233863399": {
      "model_module": "@jupyter-widgets/controls",
      "model_module_version": "1.2.0",
      "model_name": "DropdownModel",
      "state": {
       "_options_labels": [
        "horizon",
        "FF"
       ],
       "description": "Plot Attribute:",
       "index": 0,
       "layout": "IPY_MODEL_390e1877c3f645fe817d9c694b617971",
       "style": "IPY_MODEL_cc94807969154f05acac9b45b9b2d711"
      }
     },
     "68e116078d984f95ba68690092746b62": {
      "model_module": "@jupyter-widgets/controls",
      "model_module_version": "1.2.0",
      "model_name": "IntTextModel",
      "state": {
       "description": "Latent size:",
       "layout": "IPY_MODEL_fa396dcc615d44ea8a0178d69902b007",
       "step": 1,
       "style": "IPY_MODEL_1d54c96c23384f6a9e5c3eb0cd953dc2",
       "value": 8
      }
     },
     "6925b498e37a47c487bad65adf1d3d54": {
      "model_module": "@jupyter-widgets/controls",
      "model_module_version": "1.2.0",
      "model_name": "DescriptionStyleModel",
      "state": {
       "description_width": ""
      }
     },
     "69420d28653e48bbaca8276819e72320": {
      "model_module": "@jupyter-widgets/controls",
      "model_module_version": "1.2.0",
      "model_name": "TabModel",
      "state": {
       "_titles": {
        "0": "1. Data Loading",
        "1": "2. Data Processing",
        "2": "3. Model Selection",
        "3": "4. Visualisation"
       },
       "children": [
        "IPY_MODEL_cc75c1afb883453bb5aa10036b7e3e2e",
        "IPY_MODEL_c2df8401c64b4638b23a4e6c035f3df6",
        "IPY_MODEL_f4baab9171bd4821b1a0c44601d85669",
        "IPY_MODEL_4de801033eb749d79cd5703b0ab03b34"
       ],
       "layout": "IPY_MODEL_55b685e952734277bda89fc6e6e19aa1",
       "selected_index": 2
      }
     },
     "6964721ce5184bc6bd28780a085063cf": {
      "model_module": "@jupyter-widgets/controls",
      "model_module_version": "1.2.0",
      "model_name": "HBoxModel",
      "state": {
       "children": [
        "IPY_MODEL_ad1f58b45cae4c37958d72aa5b161327",
        "IPY_MODEL_bbad44108c274c7a90425f53044700d7"
       ],
       "layout": "IPY_MODEL_42832b042f2044ea899ddb60a8e18a7c"
      }
     },
     "6969ca7b19dc48549c7121d14469c54c": {
      "model_module": "@jupyter-widgets/base",
      "model_module_version": "1.0.0",
      "model_name": "LayoutModel",
      "state": {}
     },
     "697e1a2c119c47f48fd65eb4bad0805f": {
      "model_module": "@jupyter-widgets/controls",
      "model_module_version": "1.2.0",
      "model_name": "IntTextModel",
      "state": {
       "description": "Stop:",
       "layout": "IPY_MODEL_c594fcb0d18b460cbcff3f7060469e7b",
       "step": 1,
       "style": "IPY_MODEL_f62430d0fef6434698a326758002e7f7",
       "value": 1502
      }
     },
     "698d4bf2e3e54f6aaa5a8ac07e675e4b": {
      "model_module": "@jupyter-widgets/controls",
      "model_module_version": "1.2.0",
      "model_name": "VBoxModel",
      "state": {
       "children": [
        "IPY_MODEL_753654af01a44c4dbbad9502cbc75586",
        "IPY_MODEL_1cb03391dd2e4070a40851c0f93b7ec1",
        "IPY_MODEL_bffb5225d1f04f97ae1cb14f361d7909",
        "IPY_MODEL_f76cb244ba8348389b6762e1527697d4"
       ],
       "layout": "IPY_MODEL_c2e3356a09f04ac0ad50a54ef7085112"
      }
     },
     "698fe7eca15741b2be53e91fbbc7f426": {
      "model_module": "@jupyter-widgets/base",
      "model_module_version": "1.0.0",
      "model_name": "LayoutModel",
      "state": {}
     },
     "69a053a7eef0456cb6010de8a736aa25": {
      "model_module": "@jupyter-widgets/base",
      "model_module_version": "1.0.0",
      "model_name": "LayoutModel",
      "state": {}
     },
     "69aec991ff184fd9ac2ff385f5a5cae2": {
      "model_module": "@jupyter-widgets/base",
      "model_module_version": "1.0.0",
      "model_name": "LayoutModel",
      "state": {}
     },
     "69b7c726202f40988a7e81dcd20fbb13": {
      "model_module": "@jupyter-widgets/base",
      "model_module_version": "1.0.0",
      "model_name": "LayoutModel",
      "state": {}
     },
     "69ba97c030d64b99ae40d593b801da62": {
      "model_module": "@jupyter-widgets/base",
      "model_module_version": "1.0.0",
      "model_name": "LayoutModel",
      "state": {}
     },
     "69cfc051b2fb4beabc6bf2a791c91b3c": {
      "model_module": "@jupyter-widgets/base",
      "model_module_version": "1.0.0",
      "model_name": "LayoutModel",
      "state": {}
     },
     "69dfade6c2224db98ab592cf021e2d6a": {
      "model_module": "@jupyter-widgets/controls",
      "model_module_version": "1.2.0",
      "model_name": "IntTextModel",
      "state": {
       "description": "Epochs:",
       "layout": "IPY_MODEL_d671ad87c01f4b05bd9f4d5b8547e602",
       "step": 1,
       "style": "IPY_MODEL_716295a54d6a487abccd56b5be405c9b",
       "value": 3
      }
     },
     "69f35e0e24864254b6205b8e4eb7a413": {
      "model_module": "@jupyter-widgets/base",
      "model_module_version": "1.0.0",
      "model_name": "LayoutModel",
      "state": {}
     },
     "6a06d0e6ff764d33bf6d0820d70aaaa5": {
      "model_module": "@jupyter-widgets/base",
      "model_module_version": "1.0.0",
      "model_name": "LayoutModel",
      "state": {}
     },
     "6a0e99ac08f243439cbb96989b17a6de": {
      "model_module": "@jupyter-widgets/controls",
      "model_module_version": "1.2.0",
      "model_name": "DescriptionStyleModel",
      "state": {
       "description_width": ""
      }
     },
     "6a26832e3c9045a18c51ce9955e276a8": {
      "model_module": "@jupyter-widgets/base",
      "model_module_version": "1.0.0",
      "model_name": "LayoutModel",
      "state": {}
     },
     "6a65f2cb42814431ba99c2e75b9dbf52": {
      "model_module": "@jupyter-widgets/controls",
      "model_module_version": "1.2.0",
      "model_name": "VBoxModel",
      "state": {
       "children": [
        "IPY_MODEL_c8d7fd6615ec468db4a00d3828a4a4f3",
        "IPY_MODEL_4acc00943c914d74813e4aba9e0844ef",
        "IPY_MODEL_18e8649b858747729333c021177f881e",
        "IPY_MODEL_119b553e07464b21a735edbd9c0d56f3"
       ],
       "layout": "IPY_MODEL_b44f12e2420d4c5aaf16cfc9ab137e4a"
      }
     },
     "6a8bdf10c9f74d29975a294fa28aea6f": {
      "model_module": "@jupyter-widgets/base",
      "model_module_version": "1.0.0",
      "model_name": "LayoutModel",
      "state": {}
     },
     "6a8d168d458b495998b2993467440c7b": {
      "model_module": "@jupyter-widgets/controls",
      "model_module_version": "1.2.0",
      "model_name": "ButtonStyleModel",
      "state": {}
     },
     "6a9f6add795b4b76b63cb18b3710dca6": {
      "model_module": "@jupyter-widgets/controls",
      "model_module_version": "1.2.0",
      "model_name": "DescriptionStyleModel",
      "state": {
       "description_width": ""
      }
     },
     "6ac70e9ad7b64928902e1f68feb1c9b8": {
      "model_module": "@jupyter-widgets/base",
      "model_module_version": "1.0.0",
      "model_name": "LayoutModel",
      "state": {
       "border": "4px solid black"
      }
     },
     "6aed598cf79a490ba04be2ecd971fd7f": {
      "model_module": "@jupyter-widgets/base",
      "model_module_version": "1.0.0",
      "model_name": "LayoutModel",
      "state": {}
     },
     "6b3089c8ae214ff1996244744fe7675c": {
      "model_module": "@jupyter-widgets/controls",
      "model_module_version": "1.2.0",
      "model_name": "DropdownModel",
      "state": {
       "_options_labels": [
        "True",
        "False"
       ],
       "description": "True/False:",
       "index": 0,
       "layout": "IPY_MODEL_5a62652d8c45461f942672c03db00eb3",
       "style": "IPY_MODEL_7c6c20e7d49b4a66a8530b2ee8fbe1f6"
      }
     },
     "6b34f24fff6e4be2b274edf176e42648": {
      "model_module": "@jupyter-widgets/controls",
      "model_module_version": "1.2.0",
      "model_name": "DescriptionStyleModel",
      "state": {
       "description_width": ""
      }
     },
     "6b390de600f3475f82056717718083ad": {
      "model_module": "@jupyter-widgets/controls",
      "model_module_version": "1.2.0",
      "model_name": "BoundedFloatTextModel",
      "state": {
       "description": "Min Dist:",
       "layout": "IPY_MODEL_86b9b6811ab04b788b3f56be99daba72",
       "max": 1,
       "min": 0.001,
       "step": 0.0001,
       "style": "IPY_MODEL_352601bb5a834e9eb0797723ed585446",
       "value": 0.01
      }
     },
     "6b839764672e4908a616f5467df975b5": {
      "model_module": "@jupyter-widgets/controls",
      "model_module_version": "1.2.0",
      "model_name": "DescriptionStyleModel",
      "state": {
       "description_width": ""
      }
     },
     "6b98a8b93a424a6980b6cbea556b7ecc": {
      "model_module": "@jupyter-widgets/controls",
      "model_module_version": "1.2.0",
      "model_name": "VBoxModel",
      "state": {
       "children": [
        "IPY_MODEL_782db9b17e6c48f7a3a83a53ffc9b6ee",
        "IPY_MODEL_4d6d7fabf33f425d86ef9f79bba33c3c",
        "IPY_MODEL_97f7aabbee204ab8baec96b5386eb0bd",
        "IPY_MODEL_b8ce6fc88ad44f23baa76973b04eb8a9"
       ],
       "layout": "IPY_MODEL_f3e2cf60963141a5b911a0772ff2cf8c"
      }
     },
     "6bbac9bdb061469c83e1bf9f07a8bd66": {
      "model_module": "@jupyter-widgets/base",
      "model_module_version": "1.0.0",
      "model_name": "LayoutModel",
      "state": {}
     },
     "6bc526aa2a7440a18863893c5c3c4b6b": {
      "model_module": "@jupyter-widgets/controls",
      "model_module_version": "1.2.0",
      "model_name": "DescriptionStyleModel",
      "state": {
       "description_width": ""
      }
     },
     "6bcf42e55f1d4ce484551e2c9863bed9": {
      "model_module": "@jupyter-widgets/base",
      "model_module_version": "1.0.0",
      "model_name": "LayoutModel",
      "state": {}
     },
     "6bdc5f946a1d4733b079cbe46e10dc03": {
      "model_module": "@jupyter-widgets/base",
      "model_module_version": "1.0.0",
      "model_name": "LayoutModel",
      "state": {}
     },
     "6be1bfd1d7ff497e9ddf913c34d5dc13": {
      "model_module": "@jupyter-widgets/controls",
      "model_module_version": "1.2.0",
      "model_name": "IntTextModel",
      "state": {
       "description": "Epochs:",
       "layout": "IPY_MODEL_589c5613c14341ffa7f5e81912ba705a",
       "step": 1,
       "style": "IPY_MODEL_de50d22954e44fb6a473a92f72d08af1",
       "value": 3
      }
     },
     "6bf2cd1bddce4704823a9c76c7f5cf63": {
      "model_module": "@jupyter-widgets/base",
      "model_module_version": "1.0.0",
      "model_name": "LayoutModel",
      "state": {}
     },
     "6c1763bd9eb6450693bece42b0c12f79": {
      "model_module": "@jupyter-widgets/controls",
      "model_module_version": "1.2.0",
      "model_name": "VBoxModel",
      "state": {
       "children": [
        "IPY_MODEL_87933847300a4d7cb8040a87651f2abc",
        "IPY_MODEL_223c228ae56d40a594497783ce4bb3ae",
        "IPY_MODEL_9930b8ec320a462c80fa94edf0c9254f",
        "IPY_MODEL_4e85ddcb440043ca94fc579ecebed76e",
        "IPY_MODEL_5c16e954db3b4d9284034f2ea115dfc3"
       ],
       "layout": "IPY_MODEL_be09066348b94639a2daa50d3b5d729b"
      }
     },
     "6c29a37efc724b398e8298541c82e3c7": {
      "model_module": "@jupyter-widgets/controls",
      "model_module_version": "1.2.0",
      "model_name": "TextModel",
      "state": {
       "description": "Horizon .txt:",
       "layout": "IPY_MODEL_39a9edc8fcdc429cbaa109199767833a",
       "style": "IPY_MODEL_a53343e869f245a78a9eb422c450c24b",
       "value": "./data/Top_Heimdal_subset.txt"
      }
     },
     "6c399d61d72741cd8636b6f3921bea43": {
      "model_module": "@jupyter-widgets/controls",
      "model_module_version": "1.2.0",
      "model_name": "HTMLModel",
      "state": {
       "layout": "IPY_MODEL_a6f32ccca4b44abfa350b065d9657c73",
       "style": "IPY_MODEL_76da7fb5cdc5473ea46a2e199a3a7ba4",
       "value": "<b>In-line range:<b>"
      }
     },
     "6cea37c7b15d4216ac07967b3de12764": {
      "model_module": "@jupyter-widgets/base",
      "model_module_version": "1.0.0",
      "model_name": "LayoutModel",
      "state": {}
     },
     "6cea9e9e338947f599ecd67733f83fc1": {
      "model_module": "@jupyter-widgets/controls",
      "model_module_version": "1.2.0",
      "model_name": "HTMLModel",
      "state": {
       "layout": "IPY_MODEL_0a5b92ecf97743acb84e56291925e41e",
       "style": "IPY_MODEL_22ba7fe74e284028b3ebd47ddef56f2c",
       "value": "<b>Horizon Flattening:<b>"
      }
     },
     "6cfe829d93464994879c6f088f53d21c": {
      "model_module": "@jupyter-widgets/controls",
      "model_module_version": "1.2.0",
      "model_name": "HTMLModel",
      "state": {
       "layout": "IPY_MODEL_293aa489829145b29f312b96e7520d00",
       "style": "IPY_MODEL_7daf7513713349efbbb56c78c7b0ccaf",
       "value": "<b>VAE parameters:<b>"
      }
     },
     "6d01a31c14204b818334e7624b4d6d11": {
      "model_module": "@jupyter-widgets/base",
      "model_module_version": "1.0.0",
      "model_name": "LayoutModel",
      "state": {}
     },
     "6d251055b10042fab61dd3c00e3d0daa": {
      "model_module": "@jupyter-widgets/base",
      "model_module_version": "1.0.0",
      "model_name": "LayoutModel",
      "state": {}
     },
     "6d384e55c6f24617be954a25379fc50f": {
      "model_module": "@jupyter-widgets/controls",
      "model_module_version": "1.2.0",
      "model_name": "HTMLModel",
      "state": {
       "layout": "IPY_MODEL_69a053a7eef0456cb6010de8a736aa25",
       "style": "IPY_MODEL_5122898a86a94c908ea8f3a66e37ea33",
       "value": "<b>Plot parameters:<b>"
      }
     },
     "6d3b5265d9a44493938a6630d97d3b14": {
      "model_module": "@jupyter-widgets/controls",
      "model_module_version": "1.2.0",
      "model_name": "HTMLModel",
      "state": {
       "layout": "IPY_MODEL_0bc50864bf394363b3ba02af63adfa10",
       "style": "IPY_MODEL_7cac3c9f2e1b4d54b4a805219f319e62",
       "value": "<b>X-line range:<b>"
      }
     },
     "6d4302c612e74d019698304322d2c319": {
      "model_module": "@jupyter-widgets/controls",
      "model_module_version": "1.2.0",
      "model_name": "VBoxModel",
      "state": {
       "children": [
        "IPY_MODEL_d596735b19ed49b092491d1e97d4acd0",
        "IPY_MODEL_dbcbd1056b9d4427a925c092f5c43b9c",
        "IPY_MODEL_6b390de600f3475f82056717718083ad"
       ],
       "layout": "IPY_MODEL_46541ecf441644f989cd62291f4a7b41"
      }
     },
     "6d7056472fb443caa37eafe1c4768c1a": {
      "model_module": "@jupyter-widgets/controls",
      "model_module_version": "1.2.0",
      "model_name": "DescriptionStyleModel",
      "state": {
       "description_width": ""
      }
     },
     "6d7228214ae244b0898d8ab9ae762b76": {
      "model_module": "@jupyter-widgets/controls",
      "model_module_version": "1.2.0",
      "model_name": "DescriptionStyleModel",
      "state": {
       "description_width": ""
      }
     },
     "6da7e9fcd26e4e94b94d0b1cbaeb9829": {
      "model_module": "@jupyter-widgets/base",
      "model_module_version": "1.0.0",
      "model_name": "LayoutModel",
      "state": {}
     },
     "6dbd8d4a120a4b2aa7cad4633259ba72": {
      "model_module": "@jupyter-widgets/controls",
      "model_module_version": "1.2.0",
      "model_name": "IntTextModel",
      "state": {
       "description": "Start:",
       "layout": "IPY_MODEL_35b2cd13db1f4548b6b3e8b32834a47f",
       "step": 1,
       "style": "IPY_MODEL_e648e74fd87e41058e62896e436297fe",
       "value": 1300
      }
     },
     "6dd3c455a7694401bacb718b3639cb7a": {
      "model_module": "@jupyter-widgets/controls",
      "model_module_version": "1.2.0",
      "model_name": "AccordionModel",
      "state": {
       "_titles": {
        "0": "UMAP",
        "1": "VAE",
        "2": "β-VAE"
       },
       "children": [
        "IPY_MODEL_e588c2e8de2c42c0baa3a6b3f579500a",
        "IPY_MODEL_9be73c8a09694279b04a6aa9562787e3",
        "IPY_MODEL_05d192a147074aba8c6c27ed3bbbe9ad"
       ],
       "layout": "IPY_MODEL_7da7b7580dca4983966a9709a576514f"
      }
     },
     "6deef7ba4d4a4713910c3090c3714ba7": {
      "model_module": "@jupyter-widgets/base",
      "model_module_version": "1.0.0",
      "model_name": "LayoutModel",
      "state": {}
     },
     "6df28fa7d2214d08b41959e72355b0ef": {
      "model_module": "@jupyter-widgets/controls",
      "model_module_version": "1.2.0",
      "model_name": "HTMLModel",
      "state": {
       "layout": "IPY_MODEL_97a0706155a34901a257bf7248a55bad",
       "style": "IPY_MODEL_e783a727ceb04f3b8ca8db25ac963898",
       "value": "<b>VAE parameters:<b>"
      }
     },
     "6df99da0f8244a3c831bbd67a31a0469": {
      "model_module": "@jupyter-widgets/controls",
      "model_module_version": "1.2.0",
      "model_name": "HTMLModel",
      "state": {
       "layout": "IPY_MODEL_72f50f05f3c94607a24f0db5cc4a8ec2",
       "style": "IPY_MODEL_349f09d92d9c4e4d8c522bde294fd606",
       "value": "<b>Horizon Flattening:<b>"
      }
     },
     "6dffe923e9ae4a10b137c501481044b6": {
      "model_module": "@jupyter-widgets/controls",
      "model_module_version": "1.2.0",
      "model_name": "DescriptionStyleModel",
      "state": {
       "description_width": ""
      }
     },
     "6e158d24c77f4cd599e5ac069e23e362": {
      "model_module": "@jupyter-widgets/controls",
      "model_module_version": "1.2.0",
      "model_name": "DropdownModel",
      "state": {
       "_options_labels": [
        "True",
        "False"
       ],
       "description": "True/False:",
       "index": 0,
       "layout": "IPY_MODEL_cf7b09d6236140339b164b4aeac19024",
       "style": "IPY_MODEL_7f7995aa3fb144d3b5c18b9b02236670"
      }
     },
     "6e228043727f4a25a78dd26275878c43": {
      "model_module": "@jupyter-widgets/controls",
      "model_module_version": "1.2.0",
      "model_name": "HTMLModel",
      "state": {
       "layout": "IPY_MODEL_ebd4c7eac3d04233b531672f1fdfb980",
       "style": "IPY_MODEL_84aa593f27c24226b24b953bc6261ec1",
       "value": "<b>Normalisation:<b>"
      }
     },
     "6e22cbddeb13418cba8beb5ea4a9efeb": {
      "model_module": "@jupyter-widgets/base",
      "model_module_version": "1.0.0",
      "model_name": "LayoutModel",
      "state": {}
     },
     "6e2c2679749e4710b002ea94de101483": {
      "model_module": "@jupyter-widgets/controls",
      "model_module_version": "1.2.0",
      "model_name": "ButtonModel",
      "state": {
       "description": "Run Vae",
       "layout": "IPY_MODEL_f633a90370e84307941795c7b3fcedf5",
       "style": "IPY_MODEL_08430520a8d445f2b194792b3e2dfba9"
      }
     },
     "6e54328426e14688b583643f62cd4b40": {
      "model_module": "@jupyter-widgets/controls",
      "model_module_version": "1.2.0",
      "model_name": "DescriptionStyleModel",
      "state": {
       "description_width": ""
      }
     },
     "6e5ef195bb8a475ab2aaa0df14aaa1a3": {
      "model_module": "@jupyter-widgets/controls",
      "model_module_version": "1.2.0",
      "model_name": "DescriptionStyleModel",
      "state": {
       "description_width": ""
      }
     },
     "6ea203d56a2c4feeb1634e32cf213b70": {
      "model_module": "@jupyter-widgets/controls",
      "model_module_version": "1.2.0",
      "model_name": "VBoxModel",
      "state": {
       "children": [
        "IPY_MODEL_53394438b49e48ce9aaa96e0e88732ee",
        "IPY_MODEL_9df4cca5f15e4f78ac4440e2cf70a5ed"
       ],
       "layout": "IPY_MODEL_2c484aa60f6b4a38b2dc372424a7fd4e"
      }
     },
     "6eafbac366af4947a41b5834115c2b4e": {
      "model_module": "@jupyter-widgets/base",
      "model_module_version": "1.0.0",
      "model_name": "LayoutModel",
      "state": {}
     },
     "6ec04fbc1c354bb8ac95cadaf05bc5db": {
      "model_module": "@jupyter-widgets/controls",
      "model_module_version": "1.2.0",
      "model_name": "HTMLModel",
      "state": {
       "layout": "IPY_MODEL_a9292472173b4546ac56ec2f8bc264f1",
       "style": "IPY_MODEL_f41b1dae5c264a5f877b802555a49fc1",
       "value": "<b>Normalisation:<b>"
      }
     },
     "6ed5d032ee6e4000b17431fe526e295f": {
      "model_module": "@jupyter-widgets/base",
      "model_module_version": "1.0.0",
      "model_name": "LayoutModel",
      "state": {}
     },
     "6ed6af6f4f9045518d9c6e415236277f": {
      "model_module": "@jupyter-widgets/base",
      "model_module_version": "1.0.0",
      "model_name": "LayoutModel",
      "state": {}
     },
     "6ef13a7b06304cfbaf48454e4516155c": {
      "model_module": "@jupyter-widgets/controls",
      "model_module_version": "1.2.0",
      "model_name": "DescriptionStyleModel",
      "state": {
       "description_width": ""
      }
     },
     "6f0e0f6e474246f78da1ab228ff89b43": {
      "model_module": "@jupyter-widgets/base",
      "model_module_version": "1.0.0",
      "model_name": "LayoutModel",
      "state": {}
     },
     "6f159134bec545baa18b95610e9c2ac4": {
      "model_module": "@jupyter-widgets/controls",
      "model_module_version": "1.2.0",
      "model_name": "DescriptionStyleModel",
      "state": {
       "description_width": ""
      }
     },
     "6f3dd36f6b3b44ccab2a76f6c9655386": {
      "model_module": "@jupyter-widgets/controls",
      "model_module_version": "1.2.0",
      "model_name": "ButtonModel",
      "state": {
       "description": "Run Umap",
       "layout": "IPY_MODEL_a56b9fc1e998467e9274696cc368575a",
       "style": "IPY_MODEL_aca17ff60dcf4c898958b8862c194284"
      }
     },
     "6f45a73e3eb948fd94bbcfdd4c659d2d": {
      "model_module": "@jupyter-widgets/controls",
      "model_module_version": "1.2.0",
      "model_name": "DescriptionStyleModel",
      "state": {
       "description_width": ""
      }
     },
     "6f522c41d4ef409fa85c59861efd96b1": {
      "model_module": "@jupyter-widgets/controls",
      "model_module_version": "1.2.0",
      "model_name": "DescriptionStyleModel",
      "state": {
       "description_width": ""
      }
     },
     "6f61091765e9448e925f904bf8c3ed20": {
      "model_module": "@jupyter-widgets/controls",
      "model_module_version": "1.2.0",
      "model_name": "VBoxModel",
      "state": {
       "children": [
        "IPY_MODEL_a62a58b4037742d38c0bcc518af759ec",
        "IPY_MODEL_e4d1154d0e3d4e2a8d77b34363475ad7",
        "IPY_MODEL_67f4985f338745f59c2e9c6bcff815f1",
        "IPY_MODEL_d879e5dfb74547239ebc982ae9dae08d"
       ],
       "layout": "IPY_MODEL_4903480572e445fd9dd7ce45c862beed"
      }
     },
     "6f69deab042f458fa4d16d1036dbc767": {
      "model_module": "@jupyter-widgets/base",
      "model_module_version": "1.0.0",
      "model_name": "LayoutModel",
      "state": {}
     },
     "6f844a2cf143436b9d8d212ecf3e3c18": {
      "model_module": "@jupyter-widgets/controls",
      "model_module_version": "1.2.0",
      "model_name": "HTMLModel",
      "state": {
       "layout": "IPY_MODEL_d7f9752c24a548058e9b8f47b610ba36",
       "style": "IPY_MODEL_89ed17ff1ba34f8f87a7c615372ca34c",
       "value": "<b>Plot parameters:<b>"
      }
     },
     "6fad41ddfcb84f83ac2296f9b372d6bc": {
      "model_module": "@jupyter-widgets/base",
      "model_module_version": "1.0.0",
      "model_name": "LayoutModel",
      "state": {}
     },
     "7007ee86c7d044b6be0e046684f1d537": {
      "model_module": "@jupyter-widgets/controls",
      "model_module_version": "1.2.0",
      "model_name": "DescriptionStyleModel",
      "state": {
       "description_width": ""
      }
     },
     "701311a73a4941b99403ef01c0a67adf": {
      "model_module": "@jupyter-widgets/controls",
      "model_module_version": "1.2.0",
      "model_name": "DescriptionStyleModel",
      "state": {
       "description_width": ""
      }
     },
     "704e0ff07840499fab8dbe464934ce5b": {
      "model_module": "@jupyter-widgets/controls",
      "model_module_version": "1.2.0",
      "model_name": "IntTextModel",
      "state": {
       "description": "Step:",
       "layout": "IPY_MODEL_4bb596c3ae6f49668f2b5ac38f29cd92",
       "step": 1,
       "style": "IPY_MODEL_3c801e4ee36e4284a22da50d6b0428f2",
       "value": 2
      }
     },
     "7055dd5b65d647d6abc293ec9f3f9316": {
      "model_module": "@jupyter-widgets/base",
      "model_module_version": "1.0.0",
      "model_name": "LayoutModel",
      "state": {}
     },
     "705b9aa9d2054b65a480811bcf80ba79": {
      "model_module": "@jupyter-widgets/base",
      "model_module_version": "1.0.0",
      "model_name": "LayoutModel",
      "state": {}
     },
     "709a9e348c214963a4148ef50264c0d7": {
      "model_module": "@jupyter-widgets/base",
      "model_module_version": "1.0.0",
      "model_name": "LayoutModel",
      "state": {}
     },
     "70b981d30150473eb1d874aaed34ccb5": {
      "model_module": "@jupyter-widgets/base",
      "model_module_version": "1.0.0",
      "model_name": "LayoutModel",
      "state": {}
     },
     "70bafa665b9844959cdf135eca00f464": {
      "model_module": "@jupyter-widgets/base",
      "model_module_version": "1.0.0",
      "model_name": "LayoutModel",
      "state": {}
     },
     "70c5f14066204ec1a88c674ce46ea937": {
      "model_module": "@jupyter-widgets/base",
      "model_module_version": "1.0.0",
      "model_name": "LayoutModel",
      "state": {}
     },
     "70dabe2d0de2471bab9d49f74a7c8665": {
      "model_module": "@jupyter-widgets/controls",
      "model_module_version": "1.2.0",
      "model_name": "HTMLModel",
      "state": {
       "layout": "IPY_MODEL_4e5e7a9c2815415894fb5668fdbb39a4",
       "style": "IPY_MODEL_e2eb2e58e9e14257a453a822deebab7d",
       "value": "<b>UMAP:<b>"
      }
     },
     "71195845016145c694bbbac3f63ff0a0": {
      "model_module": "@jupyter-widgets/controls",
      "model_module_version": "1.2.0",
      "model_name": "HTMLModel",
      "state": {
       "layout": "IPY_MODEL_85773e628f0a45ecaf706079dde1801b",
       "style": "IPY_MODEL_ea55d375d9e242f989e0d47891fb07e7",
       "value": "<b>File Pathnames:<b>"
      }
     },
     "71506534fbb34193b78f20fd1d9f7e98": {
      "model_module": "@jupyter-widgets/controls",
      "model_module_version": "1.2.0",
      "model_name": "VBoxModel",
      "state": {
       "layout": "IPY_MODEL_0e2ed5ece98b4e3ba5ad9397e6860adf"
      }
     },
     "716295a54d6a487abccd56b5be405c9b": {
      "model_module": "@jupyter-widgets/controls",
      "model_module_version": "1.2.0",
      "model_name": "DescriptionStyleModel",
      "state": {
       "description_width": ""
      }
     },
     "717299f586654ef5ac977053957293ad": {
      "model_module": "@jupyter-widgets/controls",
      "model_module_version": "1.2.0",
      "model_name": "DescriptionStyleModel",
      "state": {
       "description_width": ""
      }
     },
     "71820ceb28d244e0a5276a07745a9df3": {
      "model_module": "@jupyter-widgets/base",
      "model_module_version": "1.0.0",
      "model_name": "LayoutModel",
      "state": {}
     },
     "71b985762cd540989d58512e954fa77a": {
      "model_module": "@jupyter-widgets/base",
      "model_module_version": "1.0.0",
      "model_name": "LayoutModel",
      "state": {}
     },
     "71c6a3e4f85d454fb4cc90e74f3bb331": {
      "model_module": "@jupyter-widgets/controls",
      "model_module_version": "1.2.0",
      "model_name": "DescriptionStyleModel",
      "state": {
       "description_width": ""
      }
     },
     "721253d0eae6435197a4948a8ba7f540": {
      "model_module": "@jupyter-widgets/controls",
      "model_module_version": "1.2.0",
      "model_name": "DescriptionStyleModel",
      "state": {
       "description_width": ""
      }
     },
     "7235e39aeddb4c34bd8d6f93d788c8f3": {
      "model_module": "@jupyter-widgets/controls",
      "model_module_version": "1.2.0",
      "model_name": "ButtonModel",
      "state": {
       "description": "Run Vae",
       "layout": "IPY_MODEL_efe6b545009546b6a161e8428e9b7d97",
       "style": "IPY_MODEL_e7be2d2fdea94f7fabf7df8f880414f9"
      }
     },
     "723f6bffdf704b5c8ee2f461ab55f6f3": {
      "model_module": "@jupyter-widgets/controls",
      "model_module_version": "1.2.0",
      "model_name": "VBoxModel",
      "state": {
       "children": [
        "IPY_MODEL_662b2399e7244db394a1d44dddeb3f1b",
        "IPY_MODEL_ba046625951c456a90b4ff4f920d43c9"
       ],
       "layout": "IPY_MODEL_fc9a07a3d36a4b4c9323fc7f4a854af4"
      }
     },
     "7242bc95e92440f898a7368f128aa2df": {
      "model_module": "@jupyter-widgets/controls",
      "model_module_version": "1.2.0",
      "model_name": "BoundedFloatTextModel",
      "state": {
       "description": "Min Dist:",
       "layout": "IPY_MODEL_9c524b00147a4e4bbfb593045f3460a9",
       "max": 1,
       "min": 0.0001,
       "step": 0.0001,
       "style": "IPY_MODEL_3bb53c476fed43bebfbf6a179549d7b5",
       "value": 0.01
      }
     },
     "724fe10ff1ca4a94a2e9dbf1e2e7fc56": {
      "model_module": "@jupyter-widgets/controls",
      "model_module_version": "1.2.0",
      "model_name": "DescriptionStyleModel",
      "state": {
       "description_width": ""
      }
     },
     "7257f45e47964dadb1738dcda6b607c6": {
      "model_module": "@jupyter-widgets/controls",
      "model_module_version": "1.2.0",
      "model_name": "HTMLModel",
      "state": {
       "layout": "IPY_MODEL_76c844af29034a60b5b707e018643477",
       "style": "IPY_MODEL_520b29b853bb4814b2ff076986533906",
       "value": "<b>Horizon Flattening:<b>"
      }
     },
     "725dc03a019f44a6819abd20513b8663": {
      "model_module": "@jupyter-widgets/base",
      "model_module_version": "1.0.0",
      "model_name": "LayoutModel",
      "state": {}
     },
     "72ba19edae124ac8a0ab44b5ecb5538b": {
      "model_module": "@jupyter-widgets/controls",
      "model_module_version": "1.2.0",
      "model_name": "IntTextModel",
      "state": {
       "description": "Neighbours:",
       "layout": "IPY_MODEL_93baac06bd7e4db8b980296440ce949e",
       "step": 1,
       "style": "IPY_MODEL_320505e4ee5f408da595ae3bfd16923a",
       "value": 50
      }
     },
     "72cca3fd2404463c9cb11d83358b734d": {
      "model_module": "@jupyter-widgets/controls",
      "model_module_version": "1.2.0",
      "model_name": "IntTextModel",
      "state": {
       "description": "Epochs:",
       "layout": "IPY_MODEL_474fda0d10c54df2b3bef4cfa30becff",
       "step": 1,
       "style": "IPY_MODEL_a9906c6cc0564f258ea1bb5ee299386c",
       "value": 3
      }
     },
     "72e681626101407e99c419643156acc4": {
      "model_module": "@jupyter-widgets/base",
      "model_module_version": "1.0.0",
      "model_name": "LayoutModel",
      "state": {}
     },
     "72e9a669dccc4c068478feb0c74381a0": {
      "model_module": "@jupyter-widgets/controls",
      "model_module_version": "1.2.0",
      "model_name": "TextModel",
      "state": {
       "description": "Near SEGY:",
       "layout": "IPY_MODEL_9eec2d9d3f584c15a2f505b3c09d29ee",
       "style": "IPY_MODEL_97176d8bdd05411fa83ce781c6263ac2",
       "value": "./data/3d_nearstack.sgy"
      }
     },
     "72f50f05f3c94607a24f0db5cc4a8ec2": {
      "model_module": "@jupyter-widgets/base",
      "model_module_version": "1.0.0",
      "model_name": "LayoutModel",
      "state": {}
     },
     "7310d0c8022947c99d386b43fbe31a59": {
      "model_module": "@jupyter-widgets/base",
      "model_module_version": "1.0.0",
      "model_name": "LayoutModel",
      "state": {}
     },
     "731cdd47778d415999bf8044ac427b01": {
      "model_module": "@jupyter-widgets/base",
      "model_module_version": "1.0.0",
      "model_name": "LayoutModel",
      "state": {}
     },
     "732377602e1e42af8757f228e894acc5": {
      "model_module": "@jupyter-widgets/controls",
      "model_module_version": "1.2.0",
      "model_name": "DescriptionStyleModel",
      "state": {
       "description_width": ""
      }
     },
     "733b4eb04d4346b2977eba276cee0828": {
      "model_module": "@jupyter-widgets/base",
      "model_module_version": "1.0.0",
      "model_name": "LayoutModel",
      "state": {}
     },
     "733e21d93ddd4b5f83574c1db8289a09": {
      "model_module": "@jupyter-widgets/controls",
      "model_module_version": "1.2.0",
      "model_name": "TextModel",
      "state": {
       "description": "Near SEGY:",
       "layout": "IPY_MODEL_469c1c79bbef42af97e8ac3c94048fcb",
       "style": "IPY_MODEL_1142ebfa29734e71a17d062574b7932d",
       "value": "./data/3d_nearstack.sgy"
      }
     },
     "7342baeab4eb46218f2a30bd81f51fe1": {
      "model_module": "@jupyter-widgets/base",
      "model_module_version": "1.0.0",
      "model_name": "LayoutModel",
      "state": {}
     },
     "735aa30065ea4999b61e7778179c1189": {
      "model_module": "@jupyter-widgets/base",
      "model_module_version": "1.0.0",
      "model_name": "LayoutModel",
      "state": {}
     },
     "73615dac281441c0ba1b308162d1de15": {
      "model_module": "@jupyter-widgets/base",
      "model_module_version": "1.0.0",
      "model_name": "LayoutModel",
      "state": {}
     },
     "7373121f25f2468d80f4f7b5712b2eaf": {
      "model_module": "@jupyter-widgets/base",
      "model_module_version": "1.0.0",
      "model_name": "LayoutModel",
      "state": {}
     },
     "7377af6ab1da4004a600d9d861cfddb3": {
      "model_module": "@jupyter-widgets/base",
      "model_module_version": "1.0.0",
      "model_name": "LayoutModel",
      "state": {}
     },
     "73c82621ef10479cbc2bdede82a88fe7": {
      "model_module": "@jupyter-widgets/controls",
      "model_module_version": "1.2.0",
      "model_name": "HTMLModel",
      "state": {
       "layout": "IPY_MODEL_b855425b3f7d4f1c90604178eab2afc8",
       "style": "IPY_MODEL_ad93f00e818d4972b73796c4224d193f",
       "value": "<b>Horizon Flattening:<b>"
      }
     },
     "73ed0e41234d4bc2bb883d8f27846243": {
      "model_module": "@jupyter-widgets/controls",
      "model_module_version": "1.2.0",
      "model_name": "DescriptionStyleModel",
      "state": {
       "description_width": ""
      }
     },
     "73f6415648664632bc9b87b63928a1f6": {
      "model_module": "@jupyter-widgets/controls",
      "model_module_version": "1.2.0",
      "model_name": "DescriptionStyleModel",
      "state": {
       "description_width": ""
      }
     },
     "7403aad46a8349f08e98f2527996fa4f": {
      "model_module": "@jupyter-widgets/controls",
      "model_module_version": "1.2.0",
      "model_name": "DescriptionStyleModel",
      "state": {
       "description_width": ""
      }
     },
     "74568492d2924bc5baccb6c713b9d7c6": {
      "model_module": "@jupyter-widgets/controls",
      "model_module_version": "1.2.0",
      "model_name": "DescriptionStyleModel",
      "state": {
       "description_width": ""
      }
     },
     "745d38213c5048889b214a1541f1a01c": {
      "model_module": "@jupyter-widgets/controls",
      "model_module_version": "1.2.0",
      "model_name": "HTMLModel",
      "state": {
       "layout": "IPY_MODEL_e598bdde17ec40fcaf1f20b91ce0284c",
       "style": "IPY_MODEL_02b714c5396648b98b710d0f3a894ed3",
       "value": "<b>File Pathnames:<b>"
      }
     },
     "7463d96250094d2aa08ff9fadb8c98fd": {
      "model_module": "@jupyter-widgets/controls",
      "model_module_version": "1.2.0",
      "model_name": "HTMLModel",
      "state": {
       "layout": "IPY_MODEL_8021856a28744d13b0e36375a44f168f",
       "style": "IPY_MODEL_cdccb93a339d4ceeb513a83db4afc986",
       "value": "<b>UMAP:<b>"
      }
     },
     "747a586690f54af18e161da2f993fcad": {
      "model_module": "@jupyter-widgets/controls",
      "model_module_version": "1.2.0",
      "model_name": "TextModel",
      "state": {
       "description": "Horizon .txt:",
       "layout": "IPY_MODEL_bb24ee23de4b4cf7863b7a2d6038b818",
       "style": "IPY_MODEL_8c575dc62fc54858b0bf5a78912b632c",
       "value": "./data/Top_Heimdal_subset.txt"
      }
     },
     "747c629bb141411baf573dcf035c5f74": {
      "model_module": "@jupyter-widgets/controls",
      "model_module_version": "1.2.0",
      "model_name": "IntTextModel",
      "state": {
       "description": "Step:",
       "layout": "IPY_MODEL_cab94f0c3feb4fb38962194c676576c7",
       "step": 1,
       "style": "IPY_MODEL_64d33371da564519a3c47dc1c99d6d22",
       "value": 2
      }
     },
     "7487dfdaa57243a5bc43436eda9810e3": {
      "model_module": "@jupyter-widgets/controls",
      "model_module_version": "1.2.0",
      "model_name": "IntTextModel",
      "state": {
       "description": "Start:",
       "layout": "IPY_MODEL_bdbfa9b89279499fb64ef77481ba11a7",
       "step": 1,
       "style": "IPY_MODEL_5079e6e8976f476fa07101542ca8e026",
       "value": 1500
      }
     },
     "748c773226c14758be31eaa5d86b4878": {
      "model_module": "@jupyter-widgets/controls",
      "model_module_version": "1.2.0",
      "model_name": "ButtonModel",
      "state": {
       "description": "Clear Output",
       "layout": "IPY_MODEL_60683356382e44e796546e1d3697af41",
       "style": "IPY_MODEL_d37a4c8ba65e49a49c908af9f3bad424"
      }
     },
     "74a13f8493144bcfa31e57d644528bfe": {
      "model_module": "@jupyter-widgets/controls",
      "model_module_version": "1.2.0",
      "model_name": "ButtonModel",
      "state": {
       "description": "Run Vae",
       "layout": "IPY_MODEL_88cae61899064fddb03ebd64a99f9f64",
       "style": "IPY_MODEL_1f286b86b5684c03a1e215e3e4c1b78a"
      }
     },
     "74b2ac0ba86d4d749d38f443b8d1427e": {
      "model_module": "@jupyter-widgets/controls",
      "model_module_version": "1.2.0",
      "model_name": "ButtonStyleModel",
      "state": {}
     },
     "74d98513cd3f4d31a6e598c5c2c2fe99": {
      "model_module": "@jupyter-widgets/output",
      "model_module_version": "1.0.0",
      "model_name": "OutputModel",
      "state": {
       "layout": "IPY_MODEL_19c02dcae9104cecb37bc6065147eaea"
      }
     },
     "74f3d91a415a436da476ed1a973bb550": {
      "model_module": "@jupyter-widgets/base",
      "model_module_version": "1.0.0",
      "model_name": "LayoutModel",
      "state": {}
     },
     "752a3674585d40bcaba0ab3b946ac2dd": {
      "model_module": "@jupyter-widgets/controls",
      "model_module_version": "1.2.0",
      "model_name": "DescriptionStyleModel",
      "state": {
       "description_width": ""
      }
     },
     "753654af01a44c4dbbad9502cbc75586": {
      "model_module": "@jupyter-widgets/controls",
      "model_module_version": "1.2.0",
      "model_name": "TabModel",
      "state": {
       "_titles": {
        "0": "1. Data Loading",
        "1": "2. Data Processing",
        "2": "3. Model Selection",
        "3": "4. Visualisation"
       },
       "children": [
        "IPY_MODEL_246ff03d7c1a4cfe935514205ccf4efa",
        "IPY_MODEL_89f9d4aa6c9541b0a5e838e0c99844bc",
        "IPY_MODEL_8615f301788940b0a51b3ce4cf49043a",
        "IPY_MODEL_4594e41adead4c109b81ac5472aafcb3"
       ],
       "layout": "IPY_MODEL_032d6de275aa4a80b356e9e268cd34ce"
      }
     },
     "753e0c23bd4d4d35876e1d93a5fb38ab": {
      "model_module": "@jupyter-widgets/base",
      "model_module_version": "1.0.0",
      "model_name": "LayoutModel",
      "state": {}
     },
     "754762734aae46de836dddff2318d858": {
      "model_module": "@jupyter-widgets/controls",
      "model_module_version": "1.2.0",
      "model_name": "IntTextModel",
      "state": {
       "description": "Neighbours:",
       "layout": "IPY_MODEL_f40378d6d47b4884a3ca9eed22f3950f",
       "step": 1,
       "style": "IPY_MODEL_b1fdfcc3aa064b69b0f5c098c551011b",
       "value": 50
      }
     },
     "754d8cf84cee4977963eaf774161b755": {
      "model_module": "@jupyter-widgets/controls",
      "model_module_version": "1.2.0",
      "model_name": "IntTextModel",
      "state": {
       "description": "Stop:",
       "layout": "IPY_MODEL_cd19356b72d94ca4850bcedcc596e05a",
       "step": 1,
       "style": "IPY_MODEL_34d0912120a246d694d325d4d84445b4",
       "value": 2002
      }
     },
     "755993ee076f4b1b8592ab3c3fab84e6": {
      "model_module": "@jupyter-widgets/controls",
      "model_module_version": "1.2.0",
      "model_name": "VBoxModel",
      "state": {
       "layout": "IPY_MODEL_dc684ae9d9a340bab47bd33eabce24f8"
      }
     },
     "75672e24840a47469e165451b182a973": {
      "model_module": "@jupyter-widgets/controls",
      "model_module_version": "1.2.0",
      "model_name": "ButtonStyleModel",
      "state": {}
     },
     "759afa2cc7904150959793598b269eb4": {
      "model_module": "@jupyter-widgets/controls",
      "model_module_version": "1.2.0",
      "model_name": "DescriptionStyleModel",
      "state": {
       "description_width": ""
      }
     },
     "75cbf5551cdc4ee99877f3ab7d22a145": {
      "model_module": "@jupyter-widgets/base",
      "model_module_version": "1.0.0",
      "model_name": "LayoutModel",
      "state": {}
     },
     "75cc6bad75ae48d089f2b55debdd007a": {
      "model_module": "@jupyter-widgets/controls",
      "model_module_version": "1.2.0",
      "model_name": "DescriptionStyleModel",
      "state": {
       "description_width": ""
      }
     },
     "75d4826b9a324426859c6a02bc601950": {
      "model_module": "@jupyter-widgets/controls",
      "model_module_version": "1.2.0",
      "model_name": "VBoxModel",
      "state": {
       "children": [
        "IPY_MODEL_6d384e55c6f24617be954a25379fc50f",
        "IPY_MODEL_7a4eb4bca78b46369ee2940bfcae444f"
       ],
       "layout": "IPY_MODEL_22c3cc0abc23422584e074000c53c387"
      }
     },
     "75d927be5a314781b2f9adfff1dd49d8": {
      "model_module": "@jupyter-widgets/base",
      "model_module_version": "1.0.0",
      "model_name": "LayoutModel",
      "state": {}
     },
     "75feddfd40c74ef5ab44be6cb3e23187": {
      "model_module": "@jupyter-widgets/controls",
      "model_module_version": "1.2.0",
      "model_name": "ButtonStyleModel",
      "state": {}
     },
     "764a07ea40014f36a0d7a1f9b6a1e64f": {
      "model_module": "@jupyter-widgets/controls",
      "model_module_version": "1.2.0",
      "model_name": "VBoxModel",
      "state": {
       "children": [
        "IPY_MODEL_ed76ff81ab3242b2bcd0813b8225afdc",
        "IPY_MODEL_fe4011e10e0a4117a44e28e1f89534f4",
        "IPY_MODEL_59e5a8d87dd645f78afce408f2b930bd"
       ],
       "layout": "IPY_MODEL_232fdfcc50d9464fa6feeac8e20d81bb"
      }
     },
     "764b17e3b21d4642a71108ebe2148457": {
      "model_module": "@jupyter-widgets/base",
      "model_module_version": "1.0.0",
      "model_name": "LayoutModel",
      "state": {}
     },
     "7659ea93a2ec4f8d965c526e6c5348c1": {
      "model_module": "@jupyter-widgets/base",
      "model_module_version": "1.0.0",
      "model_name": "LayoutModel",
      "state": {}
     },
     "7661909629fc4908bcded53c3dffb644": {
      "model_module": "@jupyter-widgets/base",
      "model_module_version": "1.0.0",
      "model_name": "LayoutModel",
      "state": {}
     },
     "7670befb7c9b4c1486c7569c98994255": {
      "model_module": "@jupyter-widgets/controls",
      "model_module_version": "1.2.0",
      "model_name": "DescriptionStyleModel",
      "state": {
       "description_width": ""
      }
     },
     "768d862156624733bf10cbb828c8250c": {
      "model_module": "@jupyter-widgets/controls",
      "model_module_version": "1.2.0",
      "model_name": "VBoxModel",
      "state": {
       "children": [
        "IPY_MODEL_0ca2488f734c499f86f892df92327c01",
        "IPY_MODEL_c528ff0116594c478f1fb031ac832f66"
       ],
       "layout": "IPY_MODEL_bb04a9e63e98454d8409617b66ab92c2"
      }
     },
     "76be8c7d2507400c91c97511cb762be1": {
      "model_module": "@jupyter-widgets/base",
      "model_module_version": "1.0.0",
      "model_name": "LayoutModel",
      "state": {}
     },
     "76c844af29034a60b5b707e018643477": {
      "model_module": "@jupyter-widgets/base",
      "model_module_version": "1.0.0",
      "model_name": "LayoutModel",
      "state": {}
     },
     "76cd9de342094d26a8c6ee0b25b7b859": {
      "model_module": "@jupyter-widgets/base",
      "model_module_version": "1.0.0",
      "model_name": "LayoutModel",
      "state": {}
     },
     "76d5b8df67dc4fdd83acc8ec3fb144c6": {
      "model_module": "@jupyter-widgets/controls",
      "model_module_version": "1.2.0",
      "model_name": "ButtonModel",
      "state": {
       "description": "Run Umap",
       "layout": "IPY_MODEL_d72166bada134ff481c403fd89157ed7",
       "style": "IPY_MODEL_8616dc28103843b0b838c7c4a4415d7d"
      }
     },
     "76d840f09d234612b4654e9cbb7b64b7": {
      "model_module": "@jupyter-widgets/controls",
      "model_module_version": "1.2.0",
      "model_name": "HTMLModel",
      "state": {
       "layout": "IPY_MODEL_ea8e30789e8d4e22a64c9f276bb622bf",
       "style": "IPY_MODEL_6f522c41d4ef409fa85c59861efd96b1",
       "value": "<b>X-line range:<b>"
      }
     },
     "76da7fb5cdc5473ea46a2e199a3a7ba4": {
      "model_module": "@jupyter-widgets/controls",
      "model_module_version": "1.2.0",
      "model_name": "DescriptionStyleModel",
      "state": {
       "description_width": ""
      }
     },
     "76e133d26abb42fc9e4d6cbcce9aebe3": {
      "model_module": "@jupyter-widgets/base",
      "model_module_version": "1.0.0",
      "model_name": "LayoutModel",
      "state": {}
     },
     "76e6a5fa84ec42f8a8b17c3238e2cdcb": {
      "model_module": "@jupyter-widgets/output",
      "model_module_version": "1.0.0",
      "model_name": "OutputModel",
      "state": {
       "layout": "IPY_MODEL_c7cfe63a2a004084ace9ee3102f53796"
      }
     },
     "76eabb41d50c4289b2fa3afadf2b4dab": {
      "model_module": "@jupyter-widgets/base",
      "model_module_version": "1.0.0",
      "model_name": "LayoutModel",
      "state": {}
     },
     "77278bc2528f40e095282cfb19316c2f": {
      "model_module": "@jupyter-widgets/base",
      "model_module_version": "1.0.0",
      "model_name": "LayoutModel",
      "state": {}
     },
     "7786da041d5243fb8bbf542c0c656cd8": {
      "model_module": "@jupyter-widgets/base",
      "model_module_version": "1.0.0",
      "model_name": "LayoutModel",
      "state": {}
     },
     "778df5ecabf64c4a8dd1c932949c26ad": {
      "model_module": "@jupyter-widgets/controls",
      "model_module_version": "1.2.0",
      "model_name": "DescriptionStyleModel",
      "state": {
       "description_width": ""
      }
     },
     "77a7e23a92b74a869562b0c46d638196": {
      "model_module": "@jupyter-widgets/controls",
      "model_module_version": "1.2.0",
      "model_name": "ButtonStyleModel",
      "state": {}
     },
     "77b4c4dec9d04d72a3b9b821f386b6b2": {
      "model_module": "@jupyter-widgets/controls",
      "model_module_version": "1.2.0",
      "model_name": "TextModel",
      "state": {
       "description": "Horizon .txt:",
       "layout": "IPY_MODEL_110c208888ff45cdb847138e070ab2fa",
       "style": "IPY_MODEL_c050d24923234585840b7741e36e584c",
       "value": "./data/Top_Heimdal_subset.txt"
      }
     },
     "77eba014cafc4ecebf249f88820f0511": {
      "model_module": "@jupyter-widgets/base",
      "model_module_version": "1.0.0",
      "model_name": "LayoutModel",
      "state": {}
     },
     "780c935dfc6a4056ae5c394f74af54af": {
      "model_module": "@jupyter-widgets/controls",
      "model_module_version": "1.2.0",
      "model_name": "ButtonModel",
      "state": {
       "description": "Clear Output",
       "layout": "IPY_MODEL_a5b9de4c7b88435389ffa8a76c071189",
       "style": "IPY_MODEL_57a3d4e36c714c8abce453529a141422"
      }
     },
     "7824fcfa350f4bf0955948f336217fb0": {
      "model_module": "@jupyter-widgets/base",
      "model_module_version": "1.0.0",
      "model_name": "LayoutModel",
      "state": {}
     },
     "782db9b17e6c48f7a3a83a53ffc9b6ee": {
      "model_module": "@jupyter-widgets/controls",
      "model_module_version": "1.2.0",
      "model_name": "HTMLModel",
      "state": {
       "layout": "IPY_MODEL_e37c13424e214e20aa3431beabbd7c02",
       "style": "IPY_MODEL_d1b10ec635184635b5d7c9df97871417",
       "value": "<b>Horizon Flattening:<b>"
      }
     },
     "7835f16948f94b7bacf3f113d8f9e451": {
      "model_module": "@jupyter-widgets/controls",
      "model_module_version": "1.2.0",
      "model_name": "TextModel",
      "state": {
       "description": "Near SEGY:",
       "layout": "IPY_MODEL_43bf6f5975754f2e9b1262cc33209d54",
       "style": "IPY_MODEL_aae06b23d98548ee98141012c0835290",
       "value": "./data/3d_nearstack.sgy"
      }
     },
     "783ec23618bc498aa628fe457e64047c": {
      "model_module": "@jupyter-widgets/base",
      "model_module_version": "1.0.0",
      "model_name": "LayoutModel",
      "state": {}
     },
     "785b3ea2eae9487c94ef64b6b67e9146": {
      "model_module": "@jupyter-widgets/base",
      "model_module_version": "1.0.0",
      "model_name": "LayoutModel",
      "state": {}
     },
     "7864a05fd31b400cb5da06358419cd24": {
      "model_module": "@jupyter-widgets/base",
      "model_module_version": "1.0.0",
      "model_name": "LayoutModel",
      "state": {}
     },
     "7882387978aa44eeba4c3405837f4695": {
      "model_module": "@jupyter-widgets/controls",
      "model_module_version": "1.2.0",
      "model_name": "VBoxModel",
      "state": {
       "children": [
        "IPY_MODEL_20585fd652894ea383e453abb063095e",
        "IPY_MODEL_2dd7c7d3d6c242fcbfa2679446b9cd0a",
        "IPY_MODEL_127b8fce9ec1444d8d5e6248a3a75fe5",
        "IPY_MODEL_fae4c4dab03843d89c5561498b838621"
       ],
       "layout": "IPY_MODEL_236a2b978973404a9e8cd3f2a30ec244"
      }
     },
     "788cf309b71a4329b43d8effc1c68bd6": {
      "model_module": "@jupyter-widgets/controls",
      "model_module_version": "1.2.0",
      "model_name": "DescriptionStyleModel",
      "state": {
       "description_width": ""
      }
     },
     "78b34ada11fa46c587dffcccc21222aa": {
      "model_module": "@jupyter-widgets/base",
      "model_module_version": "1.0.0",
      "model_name": "LayoutModel",
      "state": {}
     },
     "78d04f9b5b1244a9be3f34e6fcc24576": {
      "model_module": "@jupyter-widgets/base",
      "model_module_version": "1.0.0",
      "model_name": "LayoutModel",
      "state": {}
     },
     "78ef03d594aa4e7abf43efe9beedd409": {
      "model_module": "@jupyter-widgets/base",
      "model_module_version": "1.0.0",
      "model_name": "LayoutModel",
      "state": {}
     },
     "78f9a16cfda84fda873447670f415f71": {
      "model_module": "@jupyter-widgets/controls",
      "model_module_version": "1.2.0",
      "model_name": "ButtonModel",
      "state": {
       "description": "Run Vae",
       "layout": "IPY_MODEL_b24e5b1b5da94dc09c319d3482aae6a0",
       "style": "IPY_MODEL_01ac5756fde94b72980abaef7c29abdb"
      }
     },
     "7903ac3ba29e4667a42ae42ba94d9ea6": {
      "model_module": "@jupyter-widgets/controls",
      "model_module_version": "1.2.0",
      "model_name": "VBoxModel",
      "state": {
       "children": [
        "IPY_MODEL_171a4be6f00c45b88f3171ad460ae276",
        "IPY_MODEL_9c5e44bcaa034e84b4b3d7489fc78a1f",
        "IPY_MODEL_433998defc4a4af3b226cb2e74ae6d58"
       ],
       "layout": "IPY_MODEL_0da3ba554cbf4c56a652b126ebff6c01"
      }
     },
     "799fd617f4f343d5b83ea4557394acfb": {
      "model_module": "@jupyter-widgets/controls",
      "model_module_version": "1.2.0",
      "model_name": "DescriptionStyleModel",
      "state": {
       "description_width": ""
      }
     },
     "79b2a9ceeb424c2a80e412596d7a0d26": {
      "model_module": "@jupyter-widgets/base",
      "model_module_version": "1.0.0",
      "model_name": "LayoutModel",
      "state": {}
     },
     "79d4e28bf11c4547908781b9afeb9eff": {
      "model_module": "@jupyter-widgets/base",
      "model_module_version": "1.0.0",
      "model_name": "LayoutModel",
      "state": {
       "border": "4px solid black"
      }
     },
     "7a280a79ff0840b083c457b23a933bb5": {
      "model_module": "@jupyter-widgets/controls",
      "model_module_version": "1.2.0",
      "model_name": "HBoxModel",
      "state": {
       "children": [
        "IPY_MODEL_c4cb7f7772ab4d10bfb2f411117a2c97",
        "IPY_MODEL_8e45003765d54633937f8de9aa4b89ee"
       ],
       "layout": "IPY_MODEL_56e200c793e14b1e8ad96d99544fc20c"
      }
     },
     "7a4eb4bca78b46369ee2940bfcae444f": {
      "model_module": "@jupyter-widgets/controls",
      "model_module_version": "1.2.0",
      "model_name": "DropdownModel",
      "state": {
       "_options_labels": [
        "horizon",
        "FF"
       ],
       "description": "Plot Attribute:",
       "index": 0,
       "layout": "IPY_MODEL_1cc42fdefcbb4953bb6a1c535d46ede4",
       "style": "IPY_MODEL_f1b6945de02d45d2b30ed1ef8a11153e"
      }
     },
     "7a52d700232742acbe2c5cb577eca68a": {
      "model_module": "@jupyter-widgets/controls",
      "model_module_version": "1.2.0",
      "model_name": "DescriptionStyleModel",
      "state": {
       "description_width": ""
      }
     },
     "7ab0e6b18f3a4387b4a9b0cb63a874aa": {
      "model_module": "@jupyter-widgets/controls",
      "model_module_version": "1.2.0",
      "model_name": "ButtonModel",
      "state": {
       "description": "Run Umap",
       "layout": "IPY_MODEL_079f35c24b0f47f58f21642752a0cf87",
       "style": "IPY_MODEL_35f1f2dc89e7476f86bce72dff2192b3"
      }
     },
     "7ab2cb9b1a544d0a8c6cc850597c9258": {
      "model_module": "@jupyter-widgets/controls",
      "model_module_version": "1.2.0",
      "model_name": "IntTextModel",
      "state": {
       "description": "Latent size:",
       "layout": "IPY_MODEL_4cb0c3408bbb4cf297e1f78289cfb646",
       "step": 1,
       "style": "IPY_MODEL_c6628b0d4c42436baadb416831904ded",
       "value": 8
      }
     },
     "7b164313e3b84e1198348cb0762e35a4": {
      "model_module": "@jupyter-widgets/controls",
      "model_module_version": "1.2.0",
      "model_name": "IntTextModel",
      "state": {
       "description": "Epochs:",
       "layout": "IPY_MODEL_a7ba0f026d7b4821a76c7ae318b8bc9a",
       "step": 1,
       "style": "IPY_MODEL_4cda0826403946a08d6a52d441fcfdeb",
       "value": 3
      }
     },
     "7b1ad53721eb439a8eaecbf7fe8167cd": {
      "model_module": "@jupyter-widgets/controls",
      "model_module_version": "1.2.0",
      "model_name": "DescriptionStyleModel",
      "state": {
       "description_width": ""
      }
     },
     "7b1aece3e3d44430bf549ea12dfe29a1": {
      "model_module": "@jupyter-widgets/controls",
      "model_module_version": "1.2.0",
      "model_name": "HBoxModel",
      "state": {
       "children": [
        "IPY_MODEL_4aac858612e54435948c6fb632fe8bd0",
        "IPY_MODEL_1d3c1783c42a4462ab297dbfef04ba42"
       ],
       "layout": "IPY_MODEL_f1e0e1bea44d4e0087963e5f2a399e8b"
      }
     },
     "7b23f54659e0485ab25c25ac0cd5e3eb": {
      "model_module": "@jupyter-widgets/base",
      "model_module_version": "1.0.0",
      "model_name": "LayoutModel",
      "state": {}
     },
     "7b24e7bc43f449059ed72dcdf7e21f2b": {
      "model_module": "@jupyter-widgets/base",
      "model_module_version": "1.0.0",
      "model_name": "LayoutModel",
      "state": {}
     },
     "7b3c486553944f58bf11a9d420256861": {
      "model_module": "@jupyter-widgets/controls",
      "model_module_version": "1.2.0",
      "model_name": "IntTextModel",
      "state": {
       "description": "Below Add:",
       "layout": "IPY_MODEL_c42049ef526b43df8d94215eeab7123b",
       "step": 1,
       "style": "IPY_MODEL_478cb974f8a548019b184a28fa47cddb",
       "value": 52
      }
     },
     "7b61a5ae6f094a01854a672ea1d5a698": {
      "model_module": "@jupyter-widgets/controls",
      "model_module_version": "1.2.0",
      "model_name": "IntTextModel",
      "state": {
       "description": "Below Add:",
       "layout": "IPY_MODEL_d78841fa01a44800a80ef4f76ab62cf0",
       "step": 1,
       "style": "IPY_MODEL_d7d37af7f38a4fbda66b22229502c813",
       "value": 52
      }
     },
     "7bb281af106949c4a4c42af0202ed990": {
      "model_module": "@jupyter-widgets/base",
      "model_module_version": "1.0.0",
      "model_name": "LayoutModel",
      "state": {}
     },
     "7bb35923035a479bb8c311e1f76116cc": {
      "model_module": "@jupyter-widgets/controls",
      "model_module_version": "1.2.0",
      "model_name": "VBoxModel",
      "state": {
       "children": [
        "IPY_MODEL_6c399d61d72741cd8636b6f3921bea43",
        "IPY_MODEL_07764885655f4bbb80f01fc0aa09c568",
        "IPY_MODEL_d1120df00f7a40fcb05872c67a796089",
        "IPY_MODEL_bc0ed36e9adc443cb811304594e6b602"
       ],
       "layout": "IPY_MODEL_560054c3713d463daa8af493e580a526"
      }
     },
     "7be1a0b354754626b366bb2edc2907c5": {
      "model_module": "@jupyter-widgets/base",
      "model_module_version": "1.0.0",
      "model_name": "LayoutModel",
      "state": {}
     },
     "7c2a3169eec0427f8d6794c37c108d2c": {
      "model_module": "@jupyter-widgets/controls",
      "model_module_version": "1.2.0",
      "model_name": "ButtonStyleModel",
      "state": {}
     },
     "7c2f3d6da9d44b91aa60b5461b773a28": {
      "model_module": "@jupyter-widgets/controls",
      "model_module_version": "1.2.0",
      "model_name": "IntTextModel",
      "state": {
       "description": "Step:",
       "layout": "IPY_MODEL_29040ded1d754c6bb495e64cf45afee9",
       "step": 1,
       "style": "IPY_MODEL_c2827ee7b336487d819eb4e572308291",
       "value": 2
      }
     },
     "7c314f1ace2b41209ae44adff39251cb": {
      "model_module": "@jupyter-widgets/controls",
      "model_module_version": "1.2.0",
      "model_name": "DescriptionStyleModel",
      "state": {
       "description_width": ""
      }
     },
     "7c62400e2f3a4c98b9205ecc79ddd901": {
      "model_module": "@jupyter-widgets/controls",
      "model_module_version": "1.2.0",
      "model_name": "BoundedFloatTextModel",
      "state": {
       "description": "Min Dist:",
       "layout": "IPY_MODEL_5cbd3f9617524afea18cd59bb7f6c30e",
       "max": 1,
       "min": 0.001,
       "step": 0.0001,
       "style": "IPY_MODEL_34b6aa43dd2d4a1d9282047259fe44c1",
       "value": 0.01
      }
     },
     "7c6c20e7d49b4a66a8530b2ee8fbe1f6": {
      "model_module": "@jupyter-widgets/controls",
      "model_module_version": "1.2.0",
      "model_name": "DescriptionStyleModel",
      "state": {
       "description_width": ""
      }
     },
     "7c6c94b482c24174912b16a475c4395e": {
      "model_module": "@jupyter-widgets/controls",
      "model_module_version": "1.2.0",
      "model_name": "ButtonStyleModel",
      "state": {}
     },
     "7c943cb687774482963191ef085a8018": {
      "model_module": "@jupyter-widgets/base",
      "model_module_version": "1.0.0",
      "model_name": "LayoutModel",
      "state": {}
     },
     "7cac3c9f2e1b4d54b4a805219f319e62": {
      "model_module": "@jupyter-widgets/controls",
      "model_module_version": "1.2.0",
      "model_name": "DescriptionStyleModel",
      "state": {
       "description_width": ""
      }
     },
     "7cbc2a024dec40e7afd3a83329f56171": {
      "model_module": "@jupyter-widgets/controls",
      "model_module_version": "1.2.0",
      "model_name": "DescriptionStyleModel",
      "state": {
       "description_width": ""
      }
     },
     "7cfa1be2d9d44930b946a30577554ec7": {
      "model_module": "@jupyter-widgets/controls",
      "model_module_version": "1.2.0",
      "model_name": "DescriptionStyleModel",
      "state": {
       "description_width": ""
      }
     },
     "7cfc4020d6bc4c318dcc3782e12e751b": {
      "model_module": "@jupyter-widgets/controls",
      "model_module_version": "1.2.0",
      "model_name": "HTMLModel",
      "state": {
       "layout": "IPY_MODEL_7f1aa83073c4441ebfbd1629f61f0fd6",
       "style": "IPY_MODEL_5b638a580241485987ad9f0650dc5457",
       "value": "<b>UMAP:<b>"
      }
     },
     "7d12bc5209f0418b9a233deb1f758ffe": {
      "model_module": "@jupyter-widgets/base",
      "model_module_version": "1.0.0",
      "model_name": "LayoutModel",
      "state": {}
     },
     "7d2a53ecfff447deafb066021d49f512": {
      "model_module": "@jupyter-widgets/base",
      "model_module_version": "1.0.0",
      "model_name": "LayoutModel",
      "state": {}
     },
     "7d319c1504334453944f37e7d39e68c8": {
      "model_module": "@jupyter-widgets/controls",
      "model_module_version": "1.2.0",
      "model_name": "ButtonStyleModel",
      "state": {}
     },
     "7d455d856f7c43a6a2b82bd5cf35fbff": {
      "model_module": "@jupyter-widgets/controls",
      "model_module_version": "1.2.0",
      "model_name": "IntTextModel",
      "state": {
       "description": "Above Add:",
       "layout": "IPY_MODEL_399ebf7dc8724e40ab95189d5173d38a",
       "step": 1,
       "style": "IPY_MODEL_b4367ca26a594f319c7e2357aac91478",
       "value": 12
      }
     },
     "7d465f0fa23644fb8770c74c80a81420": {
      "model_module": "@jupyter-widgets/controls",
      "model_module_version": "1.2.0",
      "model_name": "DescriptionStyleModel",
      "state": {
       "description_width": ""
      }
     },
     "7d469afe43044edda9d4374d99826141": {
      "model_module": "@jupyter-widgets/controls",
      "model_module_version": "1.2.0",
      "model_name": "DescriptionStyleModel",
      "state": {
       "description_width": ""
      }
     },
     "7d64cf9cd9b84e35a8c7495541dbf374": {
      "model_module": "@jupyter-widgets/controls",
      "model_module_version": "1.2.0",
      "model_name": "DescriptionStyleModel",
      "state": {
       "description_width": ""
      }
     },
     "7d905e55ba2647d398113b57d62940ff": {
      "model_module": "@jupyter-widgets/base",
      "model_module_version": "1.0.0",
      "model_name": "LayoutModel",
      "state": {}
     },
     "7da7b7580dca4983966a9709a576514f": {
      "model_module": "@jupyter-widgets/base",
      "model_module_version": "1.0.0",
      "model_name": "LayoutModel",
      "state": {}
     },
     "7daf7513713349efbbb56c78c7b0ccaf": {
      "model_module": "@jupyter-widgets/controls",
      "model_module_version": "1.2.0",
      "model_name": "DescriptionStyleModel",
      "state": {
       "description_width": ""
      }
     },
     "7dd7e7cc9e6540599e6d8c31894fff00": {
      "model_module": "@jupyter-widgets/controls",
      "model_module_version": "1.2.0",
      "model_name": "HBoxModel",
      "state": {
       "children": [
        "IPY_MODEL_c3f03ac8f9404df8a08775f536a2a16d",
        "IPY_MODEL_25f4203ecc6e4dc58a423272a6793e26"
       ],
       "layout": "IPY_MODEL_3c4f04ddbdcf4aa6ac057ffd2c945fd0"
      }
     },
     "7dfa9f42d49b4cf599f7c71adfcfe8ed": {
      "model_module": "@jupyter-widgets/controls",
      "model_module_version": "1.2.0",
      "model_name": "DescriptionStyleModel",
      "state": {
       "description_width": ""
      }
     },
     "7e02c4b6593947579b52380952164b76": {
      "model_module": "@jupyter-widgets/base",
      "model_module_version": "1.0.0",
      "model_name": "LayoutModel",
      "state": {}
     },
     "7e67e578701d44bfb6092e1e18eadf78": {
      "model_module": "@jupyter-widgets/base",
      "model_module_version": "1.0.0",
      "model_name": "LayoutModel",
      "state": {}
     },
     "7e8d6ece58dd47c39c22577930824c60": {
      "model_module": "@jupyter-widgets/base",
      "model_module_version": "1.0.0",
      "model_name": "LayoutModel",
      "state": {}
     },
     "7e8f12709e384f5ca9e71b60d5a45d07": {
      "model_module": "@jupyter-widgets/controls",
      "model_module_version": "1.2.0",
      "model_name": "VBoxModel",
      "state": {
       "children": [
        "IPY_MODEL_caa3bca7981349cabcc110ae36c57fb8",
        "IPY_MODEL_97533f2c7ce74d668164b2d4ff9665c7"
       ],
       "layout": "IPY_MODEL_558ce92afb1942528726238db5e1c4f5"
      }
     },
     "7eb05a9ccd8a4e398c89505d8e4cd59f": {
      "model_module": "@jupyter-widgets/controls",
      "model_module_version": "1.2.0",
      "model_name": "DescriptionStyleModel",
      "state": {
       "description_width": ""
      }
     },
     "7ed6726185d54e878ebb8d4c903287af": {
      "model_module": "@jupyter-widgets/controls",
      "model_module_version": "1.2.0",
      "model_name": "IntTextModel",
      "state": {
       "description": "Stop:",
       "layout": "IPY_MODEL_9a3852f7c9094053b9b6763e9a2de407",
       "step": 1,
       "style": "IPY_MODEL_511262e8491240cd8e76b275ac05094f",
       "value": 2002
      }
     },
     "7eeabf7fbd244572b3e6b7b7393324ea": {
      "model_module": "@jupyter-widgets/base",
      "model_module_version": "1.0.0",
      "model_name": "LayoutModel",
      "state": {}
     },
     "7ef13506d50f422e993b7fe757975b1d": {
      "model_module": "@jupyter-widgets/controls",
      "model_module_version": "1.2.0",
      "model_name": "HTMLModel",
      "state": {
       "layout": "IPY_MODEL_95a4d931bdf946439a8e3164eb91f403",
       "style": "IPY_MODEL_fab53fee2d2f40e3a2562f9ef04e620c",
       "value": "<b>File Pathnames:<b>"
      }
     },
     "7f1aa83073c4441ebfbd1629f61f0fd6": {
      "model_module": "@jupyter-widgets/base",
      "model_module_version": "1.0.0",
      "model_name": "LayoutModel",
      "state": {}
     },
     "7f3550c9749b4d459310891c1bf9f09f": {
      "model_module": "@jupyter-widgets/controls",
      "model_module_version": "1.2.0",
      "model_name": "VBoxModel",
      "state": {
       "children": [
        "IPY_MODEL_daaf3e2fc8014d54a0bdaf88e414f947",
        "IPY_MODEL_3099c55dc6124b2494a57f6e0ba29cea",
        "IPY_MODEL_76d5b8df67dc4fdd83acc8ec3fb144c6"
       ],
       "layout": "IPY_MODEL_147da007ef704ef8a3e2103aa2770b62"
      }
     },
     "7f4107053da646019f9cacd3498161ea": {
      "model_module": "@jupyter-widgets/base",
      "model_module_version": "1.0.0",
      "model_name": "LayoutModel",
      "state": {}
     },
     "7f5e9598d45a4b69a7d27caa9a5860e0": {
      "model_module": "@jupyter-widgets/controls",
      "model_module_version": "1.2.0",
      "model_name": "VBoxModel",
      "state": {
       "children": [
        "IPY_MODEL_183625f6cbd049bc826a99c789c556fb",
        "IPY_MODEL_327666b6fa294facbd286c534660a155",
        "IPY_MODEL_d47d5191b00847eba73fe1631cabb9cb",
        "IPY_MODEL_cdfb5591711d466bb9bf9cea3b556139"
       ],
       "layout": "IPY_MODEL_2857544aa3c540e1ad5228d78bbeeefe"
      }
     },
     "7f5fb0328af746c388ce7ad765440d4a": {
      "model_module": "@jupyter-widgets/base",
      "model_module_version": "1.0.0",
      "model_name": "LayoutModel",
      "state": {}
     },
     "7f7995aa3fb144d3b5c18b9b02236670": {
      "model_module": "@jupyter-widgets/controls",
      "model_module_version": "1.2.0",
      "model_name": "DescriptionStyleModel",
      "state": {
       "description_width": ""
      }
     },
     "7fb50f9e5191457aa03cac2580acd7bd": {
      "model_module": "@jupyter-widgets/controls",
      "model_module_version": "1.2.0",
      "model_name": "DescriptionStyleModel",
      "state": {
       "description_width": ""
      }
     },
     "7fc1428c82674ff68084a3d02c8005db": {
      "model_module": "@jupyter-widgets/base",
      "model_module_version": "1.0.0",
      "model_name": "LayoutModel",
      "state": {}
     },
     "7fc8f12ad99842419d3bca559f948add": {
      "model_module": "@jupyter-widgets/controls",
      "model_module_version": "1.2.0",
      "model_name": "DescriptionStyleModel",
      "state": {
       "description_width": ""
      }
     },
     "7fd3a19c2cbd4d15bd2d364f92900c2b": {
      "model_module": "@jupyter-widgets/controls",
      "model_module_version": "1.2.0",
      "model_name": "DescriptionStyleModel",
      "state": {
       "description_width": ""
      }
     },
     "7fea13bed61c4cc2b050f5cefb7a83e2": {
      "model_module": "@jupyter-widgets/base",
      "model_module_version": "1.0.0",
      "model_name": "LayoutModel",
      "state": {}
     },
     "7feb45f622ae4bf0aea6ccb1a15cc98f": {
      "model_module": "@jupyter-widgets/controls",
      "model_module_version": "1.2.0",
      "model_name": "VBoxModel",
      "state": {
       "layout": "IPY_MODEL_571cdc542f3643dfa7253a1ad86402ac"
      }
     },
     "800256d58c0e4edbb56d3bf4d29f6a54": {
      "model_module": "@jupyter-widgets/base",
      "model_module_version": "1.0.0",
      "model_name": "LayoutModel",
      "state": {}
     },
     "801c5ab80e5e4215a2a9f240887ce5c9": {
      "model_module": "@jupyter-widgets/base",
      "model_module_version": "1.0.0",
      "model_name": "LayoutModel",
      "state": {}
     },
     "8021856a28744d13b0e36375a44f168f": {
      "model_module": "@jupyter-widgets/base",
      "model_module_version": "1.0.0",
      "model_name": "LayoutModel",
      "state": {}
     },
     "803e5f3e3d5a485caa0cbd7e1878daef": {
      "model_module": "@jupyter-widgets/base",
      "model_module_version": "1.0.0",
      "model_name": "LayoutModel",
      "state": {}
     },
     "805d3694b33347ef8c14efbe8193baa7": {
      "model_module": "@jupyter-widgets/base",
      "model_module_version": "1.0.0",
      "model_name": "LayoutModel",
      "state": {}
     },
     "8080f3a3c2d943ae92007532338e6d16": {
      "model_module": "@jupyter-widgets/controls",
      "model_module_version": "1.2.0",
      "model_name": "VBoxModel",
      "state": {
       "children": [
        "IPY_MODEL_903d23cc4d134e57a0b9f1cd9f1a583e",
        "IPY_MODEL_0abd8731b2e04bca88c49046849b5beb"
       ],
       "layout": "IPY_MODEL_8163f25650b349ff87f7c4d22ead52cd"
      }
     },
     "808b08cc59424ef18d0e39ccf074e3a4": {
      "model_module": "@jupyter-widgets/base",
      "model_module_version": "1.0.0",
      "model_name": "LayoutModel",
      "state": {}
     },
     "80a53b4e147a4bc794bf920d9487701c": {
      "model_module": "@jupyter-widgets/base",
      "model_module_version": "1.0.0",
      "model_name": "LayoutModel",
      "state": {}
     },
     "80a82024b9944c139e13b824af26ddbe": {
      "model_module": "@jupyter-widgets/controls",
      "model_module_version": "1.2.0",
      "model_name": "VBoxModel",
      "state": {
       "children": [
        "IPY_MODEL_1781f0b4e9734f5c978c3873d6d1b7e7",
        "IPY_MODEL_bd02e80875074e8d90c4d0ecb6b767ef",
        "IPY_MODEL_9bedfd4817704d03b874285ba22e6599",
        "IPY_MODEL_887b3e5d2f83433daff22e5fb5b0a591"
       ],
       "layout": "IPY_MODEL_698fe7eca15741b2be53e91fbbc7f426"
      }
     },
     "80c1f8e233c543b7a18306ed8977ecb3": {
      "model_module": "@jupyter-widgets/base",
      "model_module_version": "1.0.0",
      "model_name": "LayoutModel",
      "state": {}
     },
     "80d8254f01d2485094f5a553c2864769": {
      "model_module": "@jupyter-widgets/base",
      "model_module_version": "1.0.0",
      "model_name": "LayoutModel",
      "state": {}
     },
     "80fb98671a9f434b8cb4a559181fa150": {
      "model_module": "@jupyter-widgets/controls",
      "model_module_version": "1.2.0",
      "model_name": "BoundedFloatTextModel",
      "state": {
       "description": "Min Dist:",
       "layout": "IPY_MODEL_003bee8eb6d34ab4950a0bef8f9d9659",
       "max": 1,
       "min": 0.001,
       "step": 0.0001,
       "style": "IPY_MODEL_759afa2cc7904150959793598b269eb4",
       "value": 0.01
      }
     },
     "81197d845930438e839152bfb6607fad": {
      "model_module": "@jupyter-widgets/controls",
      "model_module_version": "1.2.0",
      "model_name": "DescriptionStyleModel",
      "state": {
       "description_width": ""
      }
     },
     "8163f25650b349ff87f7c4d22ead52cd": {
      "model_module": "@jupyter-widgets/base",
      "model_module_version": "1.0.0",
      "model_name": "LayoutModel",
      "state": {}
     },
     "8168edc3b1c64b8f90ce3993f9ead1c0": {
      "model_module": "@jupyter-widgets/controls",
      "model_module_version": "1.2.0",
      "model_name": "HBoxModel",
      "state": {
       "children": [
        "IPY_MODEL_fb9f310c092a4d7cb1bf45db4947d3c9",
        "IPY_MODEL_8080f3a3c2d943ae92007532338e6d16"
       ],
       "layout": "IPY_MODEL_dae569cec7c541aaadf107e2678ad422"
      }
     },
     "81a446be621b4512861448d8a723c2ab": {
      "model_module": "@jupyter-widgets/controls",
      "model_module_version": "1.2.0",
      "model_name": "DescriptionStyleModel",
      "state": {
       "description_width": ""
      }
     },
     "81b13135060140e28a1d77fe9ae968fd": {
      "model_module": "@jupyter-widgets/controls",
      "model_module_version": "1.2.0",
      "model_name": "DescriptionStyleModel",
      "state": {
       "description_width": ""
      }
     },
     "81bbaa9621c546a3ac8e286a9d96d885": {
      "model_module": "@jupyter-widgets/base",
      "model_module_version": "1.0.0",
      "model_name": "LayoutModel",
      "state": {}
     },
     "81f9f5f913f64a99b155a1759b967ade": {
      "model_module": "@jupyter-widgets/controls",
      "model_module_version": "1.2.0",
      "model_name": "BoundedFloatTextModel",
      "state": {
       "description": "Min Dist:",
       "layout": "IPY_MODEL_407e9e09edd648ef97742e12bd221a1c",
       "max": 1,
       "min": 0.001,
       "step": 0.0001,
       "style": "IPY_MODEL_048d4b2f73a24246ad770b89a5b9a818",
       "value": 0.01
      }
     },
     "8251606279eb42c9b791b6661229ecf4": {
      "model_module": "@jupyter-widgets/controls",
      "model_module_version": "1.2.0",
      "model_name": "VBoxModel",
      "state": {
       "children": [
        "IPY_MODEL_f3c383995a664217a6bd931caf5f20af",
        "IPY_MODEL_6be1bfd1d7ff497e9ddf913c34d5dc13",
        "IPY_MODEL_ef4479ea56644e32925d492dd9312567",
        "IPY_MODEL_c086c4dc8dc44e139f2c41aefbb7a67e",
        "IPY_MODEL_ad5ccbe1a0464dddbc28d13dd5030e53"
       ],
       "layout": "IPY_MODEL_da009765719d47e6a26ad3f3acc580f1"
      }
     },
     "8265b39b31fb4d8da302dd59b0183911": {
      "model_module": "@jupyter-widgets/controls",
      "model_module_version": "1.2.0",
      "model_name": "HTMLModel",
      "state": {
       "layout": "IPY_MODEL_cb4446948cd042c99c816ff37270b2b1",
       "style": "IPY_MODEL_31d82ed96c124d449db8f426bad1d098",
       "value": "<b>VAE->UMAP 2-D parameters:<b>"
      }
     },
     "826abf7bf38f48efb7613040a7f27c4b": {
      "model_module": "@jupyter-widgets/controls",
      "model_module_version": "1.2.0",
      "model_name": "DescriptionStyleModel",
      "state": {
       "description_width": ""
      }
     },
     "8270cd0b642a4421a748c57cbbcf2fb2": {
      "model_module": "@jupyter-widgets/controls",
      "model_module_version": "1.2.0",
      "model_name": "ButtonStyleModel",
      "state": {}
     },
     "82a5b9445808451abbc01969620e8037": {
      "model_module": "@jupyter-widgets/base",
      "model_module_version": "1.0.0",
      "model_name": "LayoutModel",
      "state": {}
     },
     "8315df1b6fc149f79e4b6486c7cbcb00": {
      "model_module": "@jupyter-widgets/controls",
      "model_module_version": "1.2.0",
      "model_name": "BoundedFloatTextModel",
      "state": {
       "description": "Min Dist:",
       "layout": "IPY_MODEL_e23185b79a7346a2b34be2af93943b38",
       "max": 1,
       "min": 0.001,
       "step": 0.0001,
       "style": "IPY_MODEL_362f936248a54f8287734b98327bcc9c",
       "value": 0.01
      }
     },
     "8317cab8ad7e4bc49545644c35f5e0ee": {
      "model_module": "@jupyter-widgets/base",
      "model_module_version": "1.0.0",
      "model_name": "LayoutModel",
      "state": {}
     },
     "83285b8f61bd441c9ffb5932ca5356e7": {
      "model_module": "@jupyter-widgets/controls",
      "model_module_version": "1.2.0",
      "model_name": "DescriptionStyleModel",
      "state": {
       "description_width": ""
      }
     },
     "832b1b37c68949ca9a135899996446cf": {
      "model_module": "@jupyter-widgets/controls",
      "model_module_version": "1.2.0",
      "model_name": "IntTextModel",
      "state": {
       "description": "Start:",
       "layout": "IPY_MODEL_592e9d7f52424a1491752409e5f0a1de",
       "step": 1,
       "style": "IPY_MODEL_e3d28416439644f49a0cf5f472ddaee3",
       "value": 1300
      }
     },
     "8353819b5b0e44c9b585659baf843335": {
      "model_module": "@jupyter-widgets/controls",
      "model_module_version": "1.2.0",
      "model_name": "VBoxModel",
      "state": {
       "layout": "IPY_MODEL_fd022b51ea924f1f934dd0c8b6a36d3f"
      }
     },
     "83639ee2d594435f92a24f0af54743a8": {
      "model_module": "@jupyter-widgets/base",
      "model_module_version": "1.0.0",
      "model_name": "LayoutModel",
      "state": {}
     },
     "83824d5680f3450bae77121bc1aa8692": {
      "model_module": "@jupyter-widgets/controls",
      "model_module_version": "1.2.0",
      "model_name": "VBoxModel",
      "state": {
       "children": [
        "IPY_MODEL_71195845016145c694bbbac3f63ff0a0",
        "IPY_MODEL_b714d900b0564f478ab9d085d083e460",
        "IPY_MODEL_4737854417e44c7cbebb5813195380bb",
        "IPY_MODEL_6c29a37efc724b398e8298541c82e3c7"
       ],
       "layout": "IPY_MODEL_8c328e0398af4a5292ab2caf4e1529d6"
      }
     },
     "838e9bc8475346b7be6e7b62c52aff40": {
      "model_module": "@jupyter-widgets/controls",
      "model_module_version": "1.2.0",
      "model_name": "DescriptionStyleModel",
      "state": {
       "description_width": ""
      }
     },
     "83dbd6bc018e495ab5ee7119db4a934e": {
      "model_module": "@jupyter-widgets/controls",
      "model_module_version": "1.2.0",
      "model_name": "AccordionModel",
      "state": {
       "_titles": {
        "0": "UMAP",
        "1": "VAE",
        "2": "β-VAE"
       },
       "children": [
        "IPY_MODEL_8f9f49e7093c495bb46b7a0b82cbec41",
        "IPY_MODEL_7a280a79ff0840b083c457b23a933bb5",
        "IPY_MODEL_f21d3f59ff084f4d95362849b5096c95"
       ],
       "layout": "IPY_MODEL_ff0d36cf35364bc783a1a6c479710938"
      }
     },
     "83e3c76dfa424c85b139596e09b0b268": {
      "model_module": "@jupyter-widgets/controls",
      "model_module_version": "1.2.0",
      "model_name": "ButtonStyleModel",
      "state": {}
     },
     "840bf7cd54634eb7acad54cf5c149506": {
      "model_module": "@jupyter-widgets/controls",
      "model_module_version": "1.2.0",
      "model_name": "DescriptionStyleModel",
      "state": {
       "description_width": ""
      }
     },
     "841b2f7a0bfb4a0798457188911263ca": {
      "model_module": "@jupyter-widgets/controls",
      "model_module_version": "1.2.0",
      "model_name": "DescriptionStyleModel",
      "state": {
       "description_width": ""
      }
     },
     "84378c33a75041d8a7fdf90db91c05da": {
      "model_module": "@jupyter-widgets/controls",
      "model_module_version": "1.2.0",
      "model_name": "DescriptionStyleModel",
      "state": {
       "description_width": ""
      }
     },
     "8473d63177e143e6898d079b7570959c": {
      "model_module": "@jupyter-widgets/controls",
      "model_module_version": "1.2.0",
      "model_name": "IntTextModel",
      "state": {
       "description": "Epochs:",
       "layout": "IPY_MODEL_b9b39add6a0a441b8027b086db12dbcc",
       "step": 1,
       "style": "IPY_MODEL_73ed0e41234d4bc2bb883d8f27846243",
       "value": 3
      }
     },
     "84aa593f27c24226b24b953bc6261ec1": {
      "model_module": "@jupyter-widgets/controls",
      "model_module_version": "1.2.0",
      "model_name": "DescriptionStyleModel",
      "state": {
       "description_width": ""
      }
     },
     "84c4f14a9cdd4c819e3985e7bd8bf2f1": {
      "model_module": "@jupyter-widgets/controls",
      "model_module_version": "1.2.0",
      "model_name": "VBoxModel",
      "state": {
       "children": [
        "IPY_MODEL_f52c2fceed4948a5934c5f856f3c9fc9",
        "IPY_MODEL_534d17544fe24a049e7173a5c1e66821"
       ],
       "layout": "IPY_MODEL_2423471762d54f4da81372a7acb1c9a5"
      }
     },
     "8510fca770d244f4bd03b136bd594e67": {
      "model_module": "@jupyter-widgets/base",
      "model_module_version": "1.0.0",
      "model_name": "LayoutModel",
      "state": {}
     },
     "851f8c5a94d2405b8606e70678bbfae1": {
      "model_module": "@jupyter-widgets/base",
      "model_module_version": "1.0.0",
      "model_name": "LayoutModel",
      "state": {}
     },
     "853abbc491934cc1869570d2789cdad1": {
      "model_module": "@jupyter-widgets/base",
      "model_module_version": "1.0.0",
      "model_name": "LayoutModel",
      "state": {}
     },
     "8543fc611c384b73a1d45f0a63dbdeb5": {
      "model_module": "@jupyter-widgets/controls",
      "model_module_version": "1.2.0",
      "model_name": "DescriptionStyleModel",
      "state": {
       "description_width": ""
      }
     },
     "85462f13eeb34de58d9174e4e6d43110": {
      "model_module": "@jupyter-widgets/controls",
      "model_module_version": "1.2.0",
      "model_name": "IntTextModel",
      "state": {
       "description": "Neighbours:",
       "layout": "IPY_MODEL_5486978a598146e9a86f46b4c1c6d450",
       "step": 1,
       "style": "IPY_MODEL_efc8cf2b58aa4a8c964cc8c1a363d0c1",
       "value": 50
      }
     },
     "854d136715a64c30a695d516cfff3a73": {
      "model_module": "@jupyter-widgets/controls",
      "model_module_version": "1.2.0",
      "model_name": "VBoxModel",
      "state": {
       "children": [
        "IPY_MODEL_e901cc9dab844b5a938095f257283b4c",
        "IPY_MODEL_1b961eaba1a440e2a5a7689a681213bf",
        "IPY_MODEL_4695c06cf6c1478484edddb0e1229fa0"
       ],
       "layout": "IPY_MODEL_b73f41b4c0c7422fbc357285cec78085"
      }
     },
     "855e847340fe46138c96c7cb6caae2f5": {
      "model_module": "@jupyter-widgets/controls",
      "model_module_version": "1.2.0",
      "model_name": "DescriptionStyleModel",
      "state": {
       "description_width": ""
      }
     },
     "856cd6a815154a28b044cd93e5df991b": {
      "model_module": "@jupyter-widgets/controls",
      "model_module_version": "1.2.0",
      "model_name": "DescriptionStyleModel",
      "state": {
       "description_width": ""
      }
     },
     "85773e628f0a45ecaf706079dde1801b": {
      "model_module": "@jupyter-widgets/base",
      "model_module_version": "1.0.0",
      "model_name": "LayoutModel",
      "state": {}
     },
     "857d4c8aa9d04a6288dfe432975849d5": {
      "model_module": "@jupyter-widgets/controls",
      "model_module_version": "1.2.0",
      "model_name": "IntTextModel",
      "state": {
       "description": "Below Add:",
       "layout": "IPY_MODEL_2d53897fc2d6455b80c06899199c9dee",
       "step": 1,
       "style": "IPY_MODEL_b00d803d735942598b9f46950b96cab1",
       "value": 52
      }
     },
     "85b0fe31cf264964b9a06ee12084a18a": {
      "model_module": "@jupyter-widgets/base",
      "model_module_version": "1.0.0",
      "model_name": "LayoutModel",
      "state": {}
     },
     "85c37a867d63456f8000cc6e37271e6e": {
      "model_module": "@jupyter-widgets/controls",
      "model_module_version": "1.2.0",
      "model_name": "IntTextModel",
      "state": {
       "description": "Above Add:",
       "layout": "IPY_MODEL_03d9857931b744e38583588827d6ce07",
       "step": 1,
       "style": "IPY_MODEL_351dab7ee6fe4efc8e5df0d4fe12f2a1",
       "value": 12
      }
     },
     "85e6aca3d3f8450aaf8f097aef320c5c": {
      "model_module": "@jupyter-widgets/base",
      "model_module_version": "1.0.0",
      "model_name": "LayoutModel",
      "state": {}
     },
     "85e8cb1d0d04407f933e67ba7b0b1d13": {
      "model_module": "@jupyter-widgets/base",
      "model_module_version": "1.0.0",
      "model_name": "LayoutModel",
      "state": {}
     },
     "85edf85bedbb45f58b6b306acde5e8b5": {
      "model_module": "@jupyter-widgets/base",
      "model_module_version": "1.0.0",
      "model_name": "LayoutModel",
      "state": {}
     },
     "85f9095a370d4fcd803935f07258fc25": {
      "model_module": "@jupyter-widgets/controls",
      "model_module_version": "1.2.0",
      "model_name": "DescriptionStyleModel",
      "state": {
       "description_width": ""
      }
     },
     "8615f301788940b0a51b3ce4cf49043a": {
      "model_module": "@jupyter-widgets/controls",
      "model_module_version": "1.2.0",
      "model_name": "VBoxModel",
      "state": {
       "children": [
        "IPY_MODEL_d3ece0147d4b48ec974efb244c2bf6c0",
        "IPY_MODEL_fb7477b960be46d487ffa5feae115704"
       ],
       "layout": "IPY_MODEL_5a2ac774fc8f492ea765b193086553f3"
      }
     },
     "8616dc28103843b0b838c7c4a4415d7d": {
      "model_module": "@jupyter-widgets/controls",
      "model_module_version": "1.2.0",
      "model_name": "ButtonStyleModel",
      "state": {}
     },
     "861a98256a3549a28dac52df79274e76": {
      "model_module": "@jupyter-widgets/base",
      "model_module_version": "1.0.0",
      "model_name": "LayoutModel",
      "state": {}
     },
     "8643e632921840a5b3664e4f2e8accb7": {
      "model_module": "@jupyter-widgets/base",
      "model_module_version": "1.0.0",
      "model_name": "LayoutModel",
      "state": {}
     },
     "866c3b8b76d04110a47d43d365d8d014": {
      "model_module": "@jupyter-widgets/controls",
      "model_module_version": "1.2.0",
      "model_name": "VBoxModel",
      "state": {
       "children": [
        "IPY_MODEL_bf0323dc6468480c9ac83258f5766687",
        "IPY_MODEL_86ac080d956c4abaa565ddb17685d6fd"
       ],
       "layout": "IPY_MODEL_8ac8846b07cb492ba9c120e395abf9fa"
      }
     },
     "867a81451b5049e18327e522b93b7b5b": {
      "model_module": "@jupyter-widgets/controls",
      "model_module_version": "1.2.0",
      "model_name": "DescriptionStyleModel",
      "state": {
       "description_width": ""
      }
     },
     "868cc69e15194cbd95ff206852d83903": {
      "model_module": "@jupyter-widgets/controls",
      "model_module_version": "1.2.0",
      "model_name": "DescriptionStyleModel",
      "state": {
       "description_width": ""
      }
     },
     "86ac080d956c4abaa565ddb17685d6fd": {
      "model_module": "@jupyter-widgets/controls",
      "model_module_version": "1.2.0",
      "model_name": "DropdownModel",
      "state": {
       "_options_labels": [
        "True",
        "False"
       ],
       "description": "True/False:",
       "index": 0,
       "layout": "IPY_MODEL_c7e5c309b26b434686e6b6624b54ac3c",
       "style": "IPY_MODEL_bb9770dbe1064700a5418418463325c4"
      }
     },
     "86b9b6811ab04b788b3f56be99daba72": {
      "model_module": "@jupyter-widgets/base",
      "model_module_version": "1.0.0",
      "model_name": "LayoutModel",
      "state": {}
     },
     "8711971f44c54a5f8af8fcbed044b646": {
      "model_module": "@jupyter-widgets/controls",
      "model_module_version": "1.2.0",
      "model_name": "VBoxModel",
      "state": {
       "children": [
        "IPY_MODEL_6964721ce5184bc6bd28780a085063cf",
        "IPY_MODEL_93a3ca04951a4b98b93877f7eba93db7"
       ],
       "layout": "IPY_MODEL_c6720094730a408bbb3f2f5de12153eb"
      }
     },
     "872cce75fe444b1e9e1e9735e6d67931": {
      "model_module": "@jupyter-widgets/controls",
      "model_module_version": "1.2.0",
      "model_name": "DescriptionStyleModel",
      "state": {
       "description_width": ""
      }
     },
     "876416ad7a6c48b78242fb72c9012948": {
      "model_module": "@jupyter-widgets/base",
      "model_module_version": "1.0.0",
      "model_name": "LayoutModel",
      "state": {
       "border": "4px solid red"
      }
     },
     "87933847300a4d7cb8040a87651f2abc": {
      "model_module": "@jupyter-widgets/controls",
      "model_module_version": "1.2.0",
      "model_name": "HTMLModel",
      "state": {
       "layout": "IPY_MODEL_34656aba52204d2284c37fa6ef3370cd",
       "style": "IPY_MODEL_388f829dcea146f38eadacbadf8f6f2e",
       "value": "<b>VAE parameters:<b>"
      }
     },
     "879c1dbf2cad4190b58f5b17fa7c5444": {
      "model_module": "@jupyter-widgets/controls",
      "model_module_version": "1.2.0",
      "model_name": "VBoxModel",
      "state": {
       "children": [
        "IPY_MODEL_b8b0356140494df6a0065d47af9f22b0",
        "IPY_MODEL_dced32461a7f4731b9c57d8f875d2f27",
        "IPY_MODEL_cc137ea248b541dea1ad95bdac9de40c"
       ],
       "layout": "IPY_MODEL_31debdf6886f4df09ce1cf992213281e"
      }
     },
     "87a632ab4ebc4ab7b3d08175879f4c1e": {
      "model_module": "@jupyter-widgets/base",
      "model_module_version": "1.0.0",
      "model_name": "LayoutModel",
      "state": {}
     },
     "87c4f0c74a294308bfb870793f818345": {
      "model_module": "@jupyter-widgets/controls",
      "model_module_version": "1.2.0",
      "model_name": "DescriptionStyleModel",
      "state": {
       "description_width": ""
      }
     },
     "87cb7eac4bb84c3a810eb8202422d314": {
      "model_module": "@jupyter-widgets/base",
      "model_module_version": "1.0.0",
      "model_name": "LayoutModel",
      "state": {}
     },
     "87cd98e0866a4186a635dd11ee217f94": {
      "model_module": "@jupyter-widgets/controls",
      "model_module_version": "1.2.0",
      "model_name": "DescriptionStyleModel",
      "state": {
       "description_width": ""
      }
     },
     "87fe71473197463eb5d7378fa7776405": {
      "model_module": "@jupyter-widgets/controls",
      "model_module_version": "1.2.0",
      "model_name": "VBoxModel",
      "state": {
       "children": [
        "IPY_MODEL_6e228043727f4a25a78dd26275878c43",
        "IPY_MODEL_d9c5d2966bc7413fa411736fb2d75319"
       ],
       "layout": "IPY_MODEL_ccf4a791a1ed48738d125c044067cd1e"
      }
     },
     "88014ff51270475892707f4dc4a4da97": {
      "model_module": "@jupyter-widgets/base",
      "model_module_version": "1.0.0",
      "model_name": "LayoutModel",
      "state": {}
     },
     "882e571b534d4d60bd872fd9f25c6da4": {
      "model_module": "@jupyter-widgets/controls",
      "model_module_version": "1.2.0",
      "model_name": "DescriptionStyleModel",
      "state": {
       "description_width": ""
      }
     },
     "885b7ba125614757a0a32c81dad93344": {
      "model_module": "@jupyter-widgets/base",
      "model_module_version": "1.0.0",
      "model_name": "LayoutModel",
      "state": {}
     },
     "887806039d064861971d6255b9f73934": {
      "model_module": "@jupyter-widgets/controls",
      "model_module_version": "1.2.0",
      "model_name": "ButtonStyleModel",
      "state": {}
     },
     "887b3e5d2f83433daff22e5fb5b0a591": {
      "model_module": "@jupyter-widgets/controls",
      "model_module_version": "1.2.0",
      "model_name": "IntTextModel",
      "state": {
       "description": "Step:",
       "layout": "IPY_MODEL_0d86cfd5c0f048798bb8791050eca738",
       "step": 1,
       "style": "IPY_MODEL_81b13135060140e28a1d77fe9ae968fd",
       "value": 2
      }
     },
     "8895036587634c5195738d665e1be940": {
      "model_module": "@jupyter-widgets/controls",
      "model_module_version": "1.2.0",
      "model_name": "IntTextModel",
      "state": {
       "description": "Stop:",
       "layout": "IPY_MODEL_d261941131ea4125939e61fb40fb60cd",
       "step": 1,
       "style": "IPY_MODEL_986b85ee2c85463ca50997de814746ad",
       "value": 1502
      }
     },
     "88b19edba5f74fd8b21f84778037f709": {
      "model_module": "@jupyter-widgets/base",
      "model_module_version": "1.0.0",
      "model_name": "LayoutModel",
      "state": {}
     },
     "88cae61899064fddb03ebd64a99f9f64": {
      "model_module": "@jupyter-widgets/base",
      "model_module_version": "1.0.0",
      "model_name": "LayoutModel",
      "state": {}
     },
     "88cb704b9c104378b298a6687d0008be": {
      "model_module": "@jupyter-widgets/controls",
      "model_module_version": "1.2.0",
      "model_name": "ButtonModel",
      "state": {
       "description": "Process Input",
       "layout": "IPY_MODEL_5b0fd12b219a4c7dbc749d483d8349e7",
       "style": "IPY_MODEL_e74d83dedab5432ab546ef967c8a334c"
      }
     },
     "88ccc2514c67499a830e6e7c2ede5327": {
      "model_module": "@jupyter-widgets/controls",
      "model_module_version": "1.2.0",
      "model_name": "IntTextModel",
      "state": {
       "description": "Latent size:",
       "layout": "IPY_MODEL_80d8254f01d2485094f5a553c2864769",
       "step": 1,
       "style": "IPY_MODEL_3438bbb1a02c471c8b3b5398e0cb2073",
       "value": 8
      }
     },
     "88e6b0ec565e414c8ee61b20fe125781": {
      "model_module": "@jupyter-widgets/controls",
      "model_module_version": "1.2.0",
      "model_name": "DescriptionStyleModel",
      "state": {
       "description_width": ""
      }
     },
     "88ecb47318cf40d4bf4c0bbcc9b26f4f": {
      "model_module": "@jupyter-widgets/controls",
      "model_module_version": "1.2.0",
      "model_name": "IntTextModel",
      "state": {
       "description": "Neighbours:",
       "layout": "IPY_MODEL_cf8c6406d0f14884bad98423c8e0461a",
       "step": 1,
       "style": "IPY_MODEL_430e9f654d4e4d8aac70b19cf9cd41e6",
       "value": 50
      }
     },
     "89087567d5de4bbea0bef423462a7b95": {
      "model_module": "@jupyter-widgets/controls",
      "model_module_version": "1.2.0",
      "model_name": "DescriptionStyleModel",
      "state": {
       "description_width": ""
      }
     },
     "890f579fab344d1ca6bcac112e2867d1": {
      "model_module": "@jupyter-widgets/controls",
      "model_module_version": "1.2.0",
      "model_name": "ButtonStyleModel",
      "state": {}
     },
     "89223601212c401aadb51c99c40661ad": {
      "model_module": "@jupyter-widgets/controls",
      "model_module_version": "1.2.0",
      "model_name": "VBoxModel",
      "state": {
       "layout": "IPY_MODEL_357419a3807d45139fd14716e8201b92"
      }
     },
     "895b04dbb9ba4097815bce9b2e3c97aa": {
      "model_module": "@jupyter-widgets/controls",
      "model_module_version": "1.2.0",
      "model_name": "DropdownModel",
      "state": {
       "_options_labels": [
        "True",
        "False"
       ],
       "description": "True/False:",
       "index": 0,
       "layout": "IPY_MODEL_90dc86c4d93b4040acde085fb976da6d",
       "style": "IPY_MODEL_fbde7f4f137149ae8d5c89da8a026b43"
      }
     },
     "89929f4745ce480ab0044305e516e06a": {
      "model_module": "@jupyter-widgets/controls",
      "model_module_version": "1.2.0",
      "model_name": "TextModel",
      "state": {
       "description": "Far SEGY:",
       "layout": "IPY_MODEL_58d50a13bb9c41f587449a48563ce96a",
       "style": "IPY_MODEL_a9f83324736649e5be74bae04fbc22ab",
       "value": "./data/3d_farstack.sgy"
      }
     },
     "89bb06ca5c3c455cb0debe7b52fa5a81": {
      "model_module": "@jupyter-widgets/controls",
      "model_module_version": "1.2.0",
      "model_name": "VBoxModel",
      "state": {
       "children": [
        "IPY_MODEL_8f8cb6f0263548b1b2eb9e32048139ae",
        "IPY_MODEL_4c91a0f0dd3e457bb5c96c7af47650f6",
        "IPY_MODEL_9fe6eb227baa4489b36e5ec501368cf0",
        "IPY_MODEL_77b4c4dec9d04d72a3b9b821f386b6b2"
       ],
       "layout": "IPY_MODEL_2b3bb1b344f143c2bf6e96c01b3f419a"
      }
     },
     "89c941dac8c94b10af977f9837432c2a": {
      "model_module": "@jupyter-widgets/base",
      "model_module_version": "1.0.0",
      "model_name": "LayoutModel",
      "state": {}
     },
     "89ca56d3a5c74f00aebb227acb0a115a": {
      "model_module": "@jupyter-widgets/controls",
      "model_module_version": "1.2.0",
      "model_name": "HBoxModel",
      "state": {
       "children": [
        "IPY_MODEL_2890cea575b84a088426880bb2c7d6d5",
        "IPY_MODEL_fe3fc0b545164292a7895a49bcf7e2e1"
       ],
       "layout": "IPY_MODEL_46b19b03ff6f4bd89c06d8a4edf9a66f"
      }
     },
     "89ed17ff1ba34f8f87a7c615372ca34c": {
      "model_module": "@jupyter-widgets/controls",
      "model_module_version": "1.2.0",
      "model_name": "DescriptionStyleModel",
      "state": {
       "description_width": ""
      }
     },
     "89f20f4f11e54df7a506649227bfacd6": {
      "model_module": "@jupyter-widgets/controls",
      "model_module_version": "1.2.0",
      "model_name": "TabModel",
      "state": {
       "_titles": {
        "0": "1. Data Loading",
        "1": "2. Data Processing",
        "2": "3. Model Selection",
        "3": "4. Visualisation"
       },
       "children": [
        "IPY_MODEL_5f79c2d974d143f38638475ad586d69b",
        "IPY_MODEL_ae7126bc7c574dfc85db5d23ccf2bff3",
        "IPY_MODEL_2e314c890ded4a5680dc7b6cdcf6cd76",
        "IPY_MODEL_eb67d64512454fa5afadc0ed01043add"
       ],
       "layout": "IPY_MODEL_81bbaa9621c546a3ac8e286a9d96d885"
      }
     },
     "89f9d4aa6c9541b0a5e838e0c99844bc": {
      "model_module": "@jupyter-widgets/controls",
      "model_module_version": "1.2.0",
      "model_name": "VBoxModel",
      "state": {
       "children": [
        "IPY_MODEL_98f99df65ad244ec8fd05d099392a225",
        "IPY_MODEL_88cb704b9c104378b298a6687d0008be"
       ],
       "layout": "IPY_MODEL_e19f9c65270548928844a905fc844eee"
      }
     },
     "89fc48a7acc84ecd9645d8c1436a653b": {
      "model_module": "@jupyter-widgets/controls",
      "model_module_version": "1.2.0",
      "model_name": "DescriptionStyleModel",
      "state": {
       "description_width": ""
      }
     },
     "8a011367bef44be095a71dec68ab048b": {
      "model_module": "@jupyter-widgets/base",
      "model_module_version": "1.0.0",
      "model_name": "LayoutModel",
      "state": {}
     },
     "8a07903eef8b4652a342989bff1401fa": {
      "model_module": "@jupyter-widgets/base",
      "model_module_version": "1.0.0",
      "model_name": "LayoutModel",
      "state": {}
     },
     "8a0f6165e2e346f39800e1b6598167e1": {
      "model_module": "@jupyter-widgets/base",
      "model_module_version": "1.0.0",
      "model_name": "LayoutModel",
      "state": {}
     },
     "8a15b9a35588414da686ce6d7fcc4858": {
      "model_module": "@jupyter-widgets/base",
      "model_module_version": "1.0.0",
      "model_name": "LayoutModel",
      "state": {}
     },
     "8a16ee2fbf814bceb7d0f5334a445931": {
      "model_module": "@jupyter-widgets/base",
      "model_module_version": "1.0.0",
      "model_name": "LayoutModel",
      "state": {}
     },
     "8a38dc416d0d4062b61cd6ae71b2a135": {
      "model_module": "@jupyter-widgets/base",
      "model_module_version": "1.0.0",
      "model_name": "LayoutModel",
      "state": {}
     },
     "8a3c14c09b8b448c867579bbe46b357f": {
      "model_module": "@jupyter-widgets/base",
      "model_module_version": "1.0.0",
      "model_name": "LayoutModel",
      "state": {}
     },
     "8a5f0783cbdd477092ef3c5c80d948c0": {
      "model_module": "@jupyter-widgets/controls",
      "model_module_version": "1.2.0",
      "model_name": "IntTextModel",
      "state": {
       "description": "Neighbours:",
       "layout": "IPY_MODEL_2ccaf04fe7ec43f89c2701e10891b631",
       "step": 1,
       "style": "IPY_MODEL_799fd617f4f343d5b83ea4557394acfb",
       "value": 50
      }
     },
     "8aa57a2c43fb474faef177cdee46db64": {
      "model_module": "@jupyter-widgets/controls",
      "model_module_version": "1.2.0",
      "model_name": "VBoxModel",
      "state": {
       "children": [
        "IPY_MODEL_4b7a396db93c42c5969d1963235259b8",
        "IPY_MODEL_604b44961c3a4bd38f02ae4cbe71eb22",
        "IPY_MODEL_a5497ba479d14e93827d2d94f82f0e61",
        "IPY_MODEL_decd4ada83cf43f891a4da8146345d21"
       ],
       "layout": "IPY_MODEL_f2c0c3b51c2a49f990a4b10a2fd4a124"
      }
     },
     "8ac8846b07cb492ba9c120e395abf9fa": {
      "model_module": "@jupyter-widgets/base",
      "model_module_version": "1.0.0",
      "model_name": "LayoutModel",
      "state": {}
     },
     "8acc3eda65a24ff28e4e7ff25db61c78": {
      "model_module": "@jupyter-widgets/controls",
      "model_module_version": "1.2.0",
      "model_name": "ButtonModel",
      "state": {
       "description": "Run Umap",
       "layout": "IPY_MODEL_43b60fba8ceb423f90553ccfe78c93b5",
       "style": "IPY_MODEL_890f579fab344d1ca6bcac112e2867d1"
      }
     },
     "8ad3400f1fa24f77a5ae9b9f70f01382": {
      "model_module": "@jupyter-widgets/controls",
      "model_module_version": "1.2.0",
      "model_name": "ButtonStyleModel",
      "state": {}
     },
     "8adcb657cd0246c58283626336fb6af4": {
      "model_module": "@jupyter-widgets/controls",
      "model_module_version": "1.2.0",
      "model_name": "DescriptionStyleModel",
      "state": {
       "description_width": ""
      }
     },
     "8b04431d042c4c5cb360a858302716ce": {
      "model_module": "@jupyter-widgets/controls",
      "model_module_version": "1.2.0",
      "model_name": "TextModel",
      "state": {
       "description": "Horizon .txt:",
       "layout": "IPY_MODEL_e647a9b175454ea9924b975ca7055406",
       "style": "IPY_MODEL_b91aba365a944faea67a567f7873878c",
       "value": "./data/Top_Heimdal_subset.txt"
      }
     },
     "8b19377d14da4b51b21c0522b8061d5a": {
      "model_module": "@jupyter-widgets/controls",
      "model_module_version": "1.2.0",
      "model_name": "HTMLModel",
      "state": {
       "layout": "IPY_MODEL_7fea13bed61c4cc2b050f5cefb7a83e2",
       "style": "IPY_MODEL_207de8eaada24d33a6b231145579733a",
       "value": "<b>Horizon Flattening:<b>"
      }
     },
     "8b3d5b122d52485da23e64509979c52f": {
      "model_module": "@jupyter-widgets/controls",
      "model_module_version": "1.2.0",
      "model_name": "IntTextModel",
      "state": {
       "description": "Latent size:",
       "layout": "IPY_MODEL_91448d0ee4e341d5874c9b4c73472a71",
       "step": 1,
       "style": "IPY_MODEL_05e33313d30c4816bbf437be14cccd10",
       "value": 8
      }
     },
     "8b4dbf5666f149da859d9a856a7ff42f": {
      "model_module": "@jupyter-widgets/controls",
      "model_module_version": "1.2.0",
      "model_name": "VBoxModel",
      "state": {
       "layout": "IPY_MODEL_eeaf58900d3e48049594ea0ab5bffb14"
      }
     },
     "8b6930aa030b4a548111a11721e59c76": {
      "model_module": "@jupyter-widgets/controls",
      "model_module_version": "1.2.0",
      "model_name": "DescriptionStyleModel",
      "state": {
       "description_width": ""
      }
     },
     "8b88bb8962a74a338a556435d4ff344e": {
      "model_module": "@jupyter-widgets/controls",
      "model_module_version": "1.2.0",
      "model_name": "HTMLModel",
      "state": {
       "layout": "IPY_MODEL_ee623ffc8e95476496249cb2d84799c1",
       "style": "IPY_MODEL_f651cfafb86e4e9d8f9b762724613e71",
       "value": "<b>VAE parameters:<b>"
      }
     },
     "8bb70f7d82094d438a282e4a8ac93035": {
      "model_module": "@jupyter-widgets/controls",
      "model_module_version": "1.2.0",
      "model_name": "VBoxModel",
      "state": {
       "children": [
        "IPY_MODEL_464827112d7d4a6db65426a924bff355",
        "IPY_MODEL_58cbb387fe9d4be996fbf7821d84d952",
        "IPY_MODEL_0057f059ba804c75ae2567b1782f379f",
        "IPY_MODEL_a4bbd892fdaf40869970e84cb3c89d03"
       ],
       "layout": "IPY_MODEL_c6f9ec2d1cdc43eca15406594a73db5b"
      }
     },
     "8bc9f029075547b5b024244c3c66849c": {
      "model_module": "@jupyter-widgets/controls",
      "model_module_version": "1.2.0",
      "model_name": "DescriptionStyleModel",
      "state": {
       "description_width": ""
      }
     },
     "8bef3503450d4ad399ce9700eba41962": {
      "model_module": "@jupyter-widgets/output",
      "model_module_version": "1.0.0",
      "model_name": "OutputModel",
      "state": {
       "layout": "IPY_MODEL_92601db1685d4544a867374551565b37"
      }
     },
     "8c0c6649621e400d972af264e1f08a03": {
      "model_module": "@jupyter-widgets/controls",
      "model_module_version": "1.2.0",
      "model_name": "DropdownModel",
      "state": {
       "_options_labels": [
        "True",
        "False"
       ],
       "description": "True/False:",
       "index": 0,
       "layout": "IPY_MODEL_ed5903e3e69e4c3f87c207993cafda01",
       "style": "IPY_MODEL_7cfa1be2d9d44930b946a30577554ec7"
      }
     },
     "8c1f502ba1c94b3083876f5ccea2ddaa": {
      "model_module": "@jupyter-widgets/base",
      "model_module_version": "1.0.0",
      "model_name": "LayoutModel",
      "state": {}
     },
     "8c328e0398af4a5292ab2caf4e1529d6": {
      "model_module": "@jupyter-widgets/base",
      "model_module_version": "1.0.0",
      "model_name": "LayoutModel",
      "state": {}
     },
     "8c40f937fd364c719456c82501185f62": {
      "model_module": "@jupyter-widgets/base",
      "model_module_version": "1.0.0",
      "model_name": "LayoutModel",
      "state": {}
     },
     "8c41da41f5974cd09a0b9e16521143cd": {
      "model_module": "@jupyter-widgets/base",
      "model_module_version": "1.0.0",
      "model_name": "LayoutModel",
      "state": {}
     },
     "8c575dc62fc54858b0bf5a78912b632c": {
      "model_module": "@jupyter-widgets/controls",
      "model_module_version": "1.2.0",
      "model_name": "DescriptionStyleModel",
      "state": {
       "description_width": ""
      }
     },
     "8c5a36ef413a45c5a3de67c56face4bf": {
      "model_module": "@jupyter-widgets/base",
      "model_module_version": "1.0.0",
      "model_name": "LayoutModel",
      "state": {}
     },
     "8c5adb8fd9314e41990b9147f11af093": {
      "model_module": "@jupyter-widgets/controls",
      "model_module_version": "1.2.0",
      "model_name": "VBoxModel",
      "state": {
       "children": [
        "IPY_MODEL_c631556f85c346a7b2ef1284d1b0d150",
        "IPY_MODEL_cafacb6e75cb4d76aa74bb0243c61854",
        "IPY_MODEL_b3836edea5a24d1db2e54012e2857f85",
        "IPY_MODEL_357ae9efcb2a4f08b0c02e5f79cab339"
       ],
       "layout": "IPY_MODEL_f889965d53dd4d22a31eef49bcf721f1"
      }
     },
     "8c77a1b718cd448bb1c63dfaee514b27": {
      "model_module": "@jupyter-widgets/controls",
      "model_module_version": "1.2.0",
      "model_name": "VBoxModel",
      "state": {
       "children": [
        "IPY_MODEL_d7c166643ef64af0a35dfb5ba5cf3257",
        "IPY_MODEL_a5a5bf671de14eedafb7f41c1a469f2c",
        "IPY_MODEL_9bd96edc54a640698c3656ece51495f1",
        "IPY_MODEL_b9dfb8e2f396446ba3392149c5afaff9"
       ],
       "layout": "IPY_MODEL_8f81a2d0ad4d46f9ac7b6222a0a2a530"
      }
     },
     "8c94a04dd37940e69f685f6d7c58b550": {
      "model_module": "@jupyter-widgets/base",
      "model_module_version": "1.0.0",
      "model_name": "LayoutModel",
      "state": {
       "border": "4px solid red"
      }
     },
     "8cc2a1cf809b43a39efd0bb4fda4c3a5": {
      "model_module": "@jupyter-widgets/controls",
      "model_module_version": "1.2.0",
      "model_name": "HTMLModel",
      "state": {
       "layout": "IPY_MODEL_85e8cb1d0d04407f933e67ba7b0b1d13",
       "style": "IPY_MODEL_87cd98e0866a4186a635dd11ee217f94",
       "value": "<b>In-line range:<b>"
      }
     },
     "8d1008baeba148cdaf6b7d36a110e614": {
      "model_module": "@jupyter-widgets/controls",
      "model_module_version": "1.2.0",
      "model_name": "IntTextModel",
      "state": {
       "description": "Start:",
       "layout": "IPY_MODEL_aea121c3fb574c469d11dc0689914b80",
       "step": 1,
       "style": "IPY_MODEL_01a725ecf5f84933a831570d2b815b63",
       "value": 1300
      }
     },
     "8d393ed6decc4d328bb9b7406904e1e6": {
      "model_module": "@jupyter-widgets/base",
      "model_module_version": "1.0.0",
      "model_name": "LayoutModel",
      "state": {}
     },
     "8d62fddaa4d04c139f672e08b0ff209c": {
      "model_module": "@jupyter-widgets/controls",
      "model_module_version": "1.2.0",
      "model_name": "ButtonModel",
      "state": {
       "description": "Load Data",
       "layout": "IPY_MODEL_cbd3f6389230492fb354e37de9ad4801",
       "style": "IPY_MODEL_a3e538dd74234d2bb75498ea56f0d798"
      }
     },
     "8d726e8678434fa0a1d68d1a81ad3c0f": {
      "model_module": "@jupyter-widgets/controls",
      "model_module_version": "1.2.0",
      "model_name": "VBoxModel",
      "state": {
       "children": [
        "IPY_MODEL_8cc2a1cf809b43a39efd0bb4fda4c3a5",
        "IPY_MODEL_664b5caec1184c6487719de4278f37cc",
        "IPY_MODEL_e4f8de5bf4064b419f057e7e37302f56",
        "IPY_MODEL_af1aedeacb26430aaab8f18814444945"
       ],
       "layout": "IPY_MODEL_033af7b635b24469b3a221b1ba9dee83"
      }
     },
     "8d838583f1b6460da7f128565d4f1690": {
      "model_module": "@jupyter-widgets/controls",
      "model_module_version": "1.2.0",
      "model_name": "VBoxModel",
      "state": {
       "children": [
        "IPY_MODEL_d57db41146ac44ca8c3f961b51075b2a",
        "IPY_MODEL_4ca8a0b12c344bfdb345b4e5ec2bb768",
        "IPY_MODEL_b0d45a9c0d8343ba9c91fc4f09d57fec",
        "IPY_MODEL_857d4c8aa9d04a6288dfe432975849d5"
       ],
       "layout": "IPY_MODEL_61fab23c63bb435b84c567073556564a"
      }
     },
     "8d9855f362f64418886228cddd3d4228": {
      "model_module": "@jupyter-widgets/controls",
      "model_module_version": "1.2.0",
      "model_name": "VBoxModel",
      "state": {
       "children": [
        "IPY_MODEL_745d38213c5048889b214a1541f1a01c",
        "IPY_MODEL_b839c55c584e46ebadaee4ea328f3eea",
        "IPY_MODEL_2fb03c19ac01400ca08d0eef2aabe5b9",
        "IPY_MODEL_a7e42a7d90764a74ac869d57cd17f36c"
       ],
       "layout": "IPY_MODEL_585866ad095342b99b31662bc1b0e51a"
      }
     },
     "8db259d062064ad482001122d628f6ab": {
      "model_module": "@jupyter-widgets/base",
      "model_module_version": "1.0.0",
      "model_name": "LayoutModel",
      "state": {}
     },
     "8db30d48a7084025885ff618aa01ed7e": {
      "model_module": "@jupyter-widgets/controls",
      "model_module_version": "1.2.0",
      "model_name": "DescriptionStyleModel",
      "state": {
       "description_width": ""
      }
     },
     "8dde23b010fa4006bc21fd6319f718fb": {
      "model_module": "@jupyter-widgets/base",
      "model_module_version": "1.0.0",
      "model_name": "LayoutModel",
      "state": {}
     },
     "8de6082eece642a7822e5b4d769d3d42": {
      "model_module": "@jupyter-widgets/controls",
      "model_module_version": "1.2.0",
      "model_name": "DescriptionStyleModel",
      "state": {
       "description_width": ""
      }
     },
     "8e24d2a881a54b03b4a5bcfff4de2a56": {
      "model_module": "@jupyter-widgets/controls",
      "model_module_version": "1.2.0",
      "model_name": "DescriptionStyleModel",
      "state": {
       "description_width": ""
      }
     },
     "8e3a450718ce47e3b50b8a8babe7f384": {
      "model_module": "@jupyter-widgets/base",
      "model_module_version": "1.0.0",
      "model_name": "LayoutModel",
      "state": {}
     },
     "8e45003765d54633937f8de9aa4b89ee": {
      "model_module": "@jupyter-widgets/controls",
      "model_module_version": "1.2.0",
      "model_name": "VBoxModel",
      "state": {
       "children": [
        "IPY_MODEL_f99e8ee9b25e436c8aa735bfaa84a4ea",
        "IPY_MODEL_5693cf2bf0d7439599724b01c22a93cc",
        "IPY_MODEL_c6fcd872443d4d4b904f492f63d49926"
       ],
       "layout": "IPY_MODEL_97fb88395177433296fd0d17de924fdc"
      }
     },
     "8e4cc24f8ce74b56a3878e6a9691c2d1": {
      "model_module": "@jupyter-widgets/base",
      "model_module_version": "1.0.0",
      "model_name": "LayoutModel",
      "state": {}
     },
     "8e4e3beac3704c48b75efb070607a10b": {
      "model_module": "@jupyter-widgets/controls",
      "model_module_version": "1.2.0",
      "model_name": "BoundedFloatTextModel",
      "state": {
       "description": "Learn Rate:",
       "layout": "IPY_MODEL_55a133c6b1f048bf91db9474dc2559ec",
       "max": 1,
       "min": 0.0001,
       "step": 0.005,
       "style": "IPY_MODEL_ee29c76a89754e0eb6d7accf5766056d",
       "value": 0.01
      }
     },
     "8e7d75358ba444c59375a7d852d30a41": {
      "model_module": "@jupyter-widgets/output",
      "model_module_version": "1.0.0",
      "model_name": "OutputModel",
      "state": {
       "layout": "IPY_MODEL_e90735a68d45442389af63848ad45b48"
      }
     },
     "8e829bdb083145f0a30bf43153cb6f79": {
      "model_module": "@jupyter-widgets/base",
      "model_module_version": "1.0.0",
      "model_name": "LayoutModel",
      "state": {}
     },
     "8e9f044ad6f64a37b39fa2a079925b96": {
      "model_module": "@jupyter-widgets/base",
      "model_module_version": "1.0.0",
      "model_name": "LayoutModel",
      "state": {}
     },
     "8f109b8e62b7442bb141e099df047f7e": {
      "model_module": "@jupyter-widgets/controls",
      "model_module_version": "1.2.0",
      "model_name": "HBoxModel",
      "state": {
       "children": [
        "IPY_MODEL_6c1763bd9eb6450693bece42b0c12f79",
        "IPY_MODEL_f2a3f56af3dd4d529eae24c0ecad083e"
       ],
       "layout": "IPY_MODEL_d9dd8222bf3347e3a865c7a3c1a73369"
      }
     },
     "8f674b9d9b504d5193ac8d1e571eeac5": {
      "model_module": "@jupyter-widgets/base",
      "model_module_version": "1.0.0",
      "model_name": "LayoutModel",
      "state": {}
     },
     "8f7d4797f7c44368b2fd3ca887bbc75b": {
      "model_module": "@jupyter-widgets/base",
      "model_module_version": "1.0.0",
      "model_name": "LayoutModel",
      "state": {}
     },
     "8f81a2d0ad4d46f9ac7b6222a0a2a530": {
      "model_module": "@jupyter-widgets/base",
      "model_module_version": "1.0.0",
      "model_name": "LayoutModel",
      "state": {}
     },
     "8f8cb6f0263548b1b2eb9e32048139ae": {
      "model_module": "@jupyter-widgets/controls",
      "model_module_version": "1.2.0",
      "model_name": "HTMLModel",
      "state": {
       "layout": "IPY_MODEL_dc399fe3c49e4a9d8f0f5276c2e08ac3",
       "style": "IPY_MODEL_192ac67282da473898d0da690687a148",
       "value": "<b>File Pathnames:<b>"
      }
     },
     "8f9f49e7093c495bb46b7a0b82cbec41": {
      "model_module": "@jupyter-widgets/controls",
      "model_module_version": "1.2.0",
      "model_name": "VBoxModel",
      "state": {
       "children": [
        "IPY_MODEL_754762734aae46de836dddff2318d858",
        "IPY_MODEL_c1a92886d8b04b9e9a8af6e673536398",
        "IPY_MODEL_6f3dd36f6b3b44ccab2a76f6c9655386"
       ],
       "layout": "IPY_MODEL_7bb281af106949c4a4c42af0202ed990"
      }
     },
     "8fa591ebc4a54d3e9697d57a6216dd0a": {
      "model_module": "@jupyter-widgets/controls",
      "model_module_version": "1.2.0",
      "model_name": "DescriptionStyleModel",
      "state": {
       "description_width": ""
      }
     },
     "8fc5d132ac624374880f786b56708de0": {
      "model_module": "@jupyter-widgets/base",
      "model_module_version": "1.0.0",
      "model_name": "LayoutModel",
      "state": {}
     },
     "8fd960afdf4e424f9a93fa3f0544aa53": {
      "model_module": "@jupyter-widgets/controls",
      "model_module_version": "1.2.0",
      "model_name": "VBoxModel",
      "state": {
       "children": [
        "IPY_MODEL_d23275afc2d7403091e68f21bf8779a8",
        "IPY_MODEL_417235aa239f4a13be94697707256677",
        "IPY_MODEL_8315df1b6fc149f79e4b6486c7cbcb00"
       ],
       "layout": "IPY_MODEL_d3e9df1c23524b258831414d6afc713b"
      }
     },
     "8ff34b330c9b402a94c0f24279a68411": {
      "model_module": "@jupyter-widgets/controls",
      "model_module_version": "1.2.0",
      "model_name": "DescriptionStyleModel",
      "state": {
       "description_width": ""
      }
     },
     "8ff474cdfaf0459b9b2a5c935b92c8b8": {
      "model_module": "@jupyter-widgets/controls",
      "model_module_version": "1.2.0",
      "model_name": "AccordionModel",
      "state": {
       "_titles": {
        "0": "UMAP",
        "1": "VAE",
        "2": "β-VAE"
       },
       "children": [
        "IPY_MODEL_764a07ea40014f36a0d7a1f9b6a1e64f",
        "IPY_MODEL_434605455e8e42a8a56d451fd6ab27ea",
        "IPY_MODEL_1fa1fd2a749c4b2ab6cb58f69125c160"
       ],
       "layout": "IPY_MODEL_eb2ad5850eae465da2cec75f1bf441b1",
       "selected_index": 1
      }
     },
     "8ff614ed99234758aa6f8f8b9df84296": {
      "model_module": "@jupyter-widgets/base",
      "model_module_version": "1.0.0",
      "model_name": "LayoutModel",
      "state": {}
     },
     "8ffbc6d5cdb040c0bb305999fa7f902c": {
      "model_module": "@jupyter-widgets/base",
      "model_module_version": "1.0.0",
      "model_name": "LayoutModel",
      "state": {}
     },
     "9027a1411e114ac18b4e1aa48b4b795f": {
      "model_module": "@jupyter-widgets/output",
      "model_module_version": "1.0.0",
      "model_name": "OutputModel",
      "state": {
       "layout": "IPY_MODEL_14bbface970645899966d8da7235ea14",
       "outputs": [
        {
         "data": {
          "image/png": "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\n",
          "text/plain": "<Figure size 1152x720 with 1 Axes>"
         },
         "metadata": {},
         "output_type": "display_data"
        },
        {
         "name": "stdout",
         "output_type": "stream",
         "text": "ELBO:\ntraining   (min: 3839.152, max: 4117.686, cur: 3839.152)\nvalidation (min: 3742.100, max: 3973.895, cur: 3742.100)\n\nVAE->UMAP representation initialised\n\nUMAP(a=None, angular_rp_forest=False, b=None, init='spectral',\n   learning_rate=1.0, local_connectivity=1.0, metric='correlation',\n   metric_kwds=None, min_dist=0.01, n_components=2, n_epochs=None,\n   n_neighbors=50, negative_sample_rate=5, random_state=None,\n   repulsion_strength=1.0, set_op_mix_ratio=1.0, spread=1.0,\n   target_metric='categorical', target_metric_kwds=None,\n   target_n_neighbors=-1, target_weight=0.5, transform_queue_size=4.0,\n   transform_seed=42, verbose=True)\nConstruct fuzzy simplicial set\n\t 0  /  15\n\t 1  /  15\nConstruct embedding\n\tcompleted  0  /  200 epochs\n\tcompleted  20  /  200 epochs\n\tcompleted  40  /  200 epochs\n\tcompleted  60  /  200 epochs\n\tcompleted  80  /  200 epochs\n\tcompleted  100  /  200 epochs\n\tcompleted  120  /  200 epochs\n\tcompleted  140  /  200 epochs\n\tcompleted  160  /  200 epochs\n\tcompleted  180  /  200 epochs\n\n\nVAE -> 2-D UMAP representation complete\n\n"
        }
       ]
      }
     },
     "903d23cc4d134e57a0b9f1cd9f1a583e": {
      "model_module": "@jupyter-widgets/controls",
      "model_module_version": "1.2.0",
      "model_name": "HTMLModel",
      "state": {
       "layout": "IPY_MODEL_b019490ef0c74105b85c9ba356d5a13c",
       "style": "IPY_MODEL_c81fdcef416742f7bd96888145b1cf48",
       "value": "<b>Normalisation:<b>"
      }
     },
     "904ee8e5cb2943a8b71862a97810a2cc": {
      "model_module": "@jupyter-widgets/controls",
      "model_module_version": "1.2.0",
      "model_name": "DescriptionStyleModel",
      "state": {
       "description_width": ""
      }
     },
     "906672acbcb94ddba78472933ef63cfa": {
      "model_module": "@jupyter-widgets/base",
      "model_module_version": "1.0.0",
      "model_name": "LayoutModel",
      "state": {}
     },
     "90ade12b6a55467f83ca019e5b0a602c": {
      "model_module": "@jupyter-widgets/controls",
      "model_module_version": "1.2.0",
      "model_name": "IntTextModel",
      "state": {
       "description": "Stop:",
       "layout": "IPY_MODEL_10e95bb181bb45c8a74e47bd4da066a0",
       "step": 1,
       "style": "IPY_MODEL_b6401d4ee0a14c4aa25651ba8a40f482",
       "value": 1502
      }
     },
     "90cd97865b2347db9525b27ff764a20b": {
      "model_module": "@jupyter-widgets/output",
      "model_module_version": "1.0.0",
      "model_name": "OutputModel",
      "state": {
       "layout": "IPY_MODEL_876416ad7a6c48b78242fb72c9012948"
      }
     },
     "90dc86c4d93b4040acde085fb976da6d": {
      "model_module": "@jupyter-widgets/base",
      "model_module_version": "1.0.0",
      "model_name": "LayoutModel",
      "state": {}
     },
     "90e032562f474b11b5179f2d36f80af0": {
      "model_module": "@jupyter-widgets/controls",
      "model_module_version": "1.2.0",
      "model_name": "DescriptionStyleModel",
      "state": {
       "description_width": ""
      }
     },
     "90e2f16319784d6cb182b6c3538bb7ba": {
      "model_module": "@jupyter-widgets/controls",
      "model_module_version": "1.2.0",
      "model_name": "DescriptionStyleModel",
      "state": {
       "description_width": ""
      }
     },
     "91095a90785a4f64b0d03586f2e5eaac": {
      "model_module": "@jupyter-widgets/controls",
      "model_module_version": "1.2.0",
      "model_name": "DropdownModel",
      "state": {
       "_options_labels": [
        "True",
        "False"
       ],
       "description": "True/False:",
       "index": 0,
       "layout": "IPY_MODEL_c0c1c54f774f4e9aaa647abe5bf264a7",
       "style": "IPY_MODEL_de8f2c8e0ac54694b059a2e60533fbc6"
      }
     },
     "9133c0a2d1d84fbaa977d6cc449bb552": {
      "model_module": "@jupyter-widgets/controls",
      "model_module_version": "1.2.0",
      "model_name": "AccordionModel",
      "state": {
       "_titles": {
        "0": "UMAP",
        "1": "VAE",
        "2": "β-VAE"
       },
       "children": [
        "IPY_MODEL_951b09e6d9ec42769d8cdea0014a6263",
        "IPY_MODEL_c9d0649ee73a49749c7736e6a9a0ba1f",
        "IPY_MODEL_51c4c485b7d34f9992ba38a813eb28fd"
       ],
       "layout": "IPY_MODEL_9646e2e0c8b741bbb772c73a3020a9d1"
      }
     },
     "91448d0ee4e341d5874c9b4c73472a71": {
      "model_module": "@jupyter-widgets/base",
      "model_module_version": "1.0.0",
      "model_name": "LayoutModel",
      "state": {}
     },
     "919f3aa8cb1842d6abf8ae1352d3059b": {
      "model_module": "@jupyter-widgets/base",
      "model_module_version": "1.0.0",
      "model_name": "LayoutModel",
      "state": {}
     },
     "91fcfabfaaee43af8df3a59581a50351": {
      "model_module": "@jupyter-widgets/controls",
      "model_module_version": "1.2.0",
      "model_name": "ButtonModel",
      "state": {
       "description": "Process Input",
       "layout": "IPY_MODEL_aff5f2b566ac41868b70473d7b986c9a",
       "style": "IPY_MODEL_b4867fd88c9744e498075daa6bab9a1e"
      }
     },
     "922d96516e06463ab346eee737e62cdf": {
      "model_module": "@jupyter-widgets/controls",
      "model_module_version": "1.2.0",
      "model_name": "DescriptionStyleModel",
      "state": {
       "description_width": ""
      }
     },
     "92601db1685d4544a867374551565b37": {
      "model_module": "@jupyter-widgets/base",
      "model_module_version": "1.0.0",
      "model_name": "LayoutModel",
      "state": {
       "border": "4px solid red"
      }
     },
     "9269ec9014c245e9b1081b25fe65cb7a": {
      "model_module": "@jupyter-widgets/base",
      "model_module_version": "1.0.0",
      "model_name": "LayoutModel",
      "state": {}
     },
     "92ae823a7e95488e986c0a7ceb4cab53": {
      "model_module": "@jupyter-widgets/controls",
      "model_module_version": "1.2.0",
      "model_name": "DescriptionStyleModel",
      "state": {
       "description_width": ""
      }
     },
     "92dc615aebd54a76816b8fd6130b5e9d": {
      "model_module": "@jupyter-widgets/base",
      "model_module_version": "1.0.0",
      "model_name": "LayoutModel",
      "state": {}
     },
     "92ecdc5f70c6485e99da3f276b60f1f7": {
      "model_module": "@jupyter-widgets/base",
      "model_module_version": "1.0.0",
      "model_name": "LayoutModel",
      "state": {}
     },
     "9315e45f0b5a43db949cede7412335c8": {
      "model_module": "@jupyter-widgets/base",
      "model_module_version": "1.0.0",
      "model_name": "LayoutModel",
      "state": {}
     },
     "934fd96be8a24a8aa31bf043d197b890": {
      "model_module": "@jupyter-widgets/controls",
      "model_module_version": "1.2.0",
      "model_name": "VBoxModel",
      "state": {
       "layout": "IPY_MODEL_783ec23618bc498aa628fe457e64047c"
      }
     },
     "93673ea55c6d42a094fa2a1f15494c64": {
      "model_module": "@jupyter-widgets/controls",
      "model_module_version": "1.2.0",
      "model_name": "DescriptionStyleModel",
      "state": {
       "description_width": ""
      }
     },
     "93695ed4a0a84718abf574b9eb14d955": {
      "model_module": "@jupyter-widgets/controls",
      "model_module_version": "1.2.0",
      "model_name": "DescriptionStyleModel",
      "state": {
       "description_width": ""
      }
     },
     "936b7aa89c324c66be3c30ef53544874": {
      "model_module": "@jupyter-widgets/controls",
      "model_module_version": "1.2.0",
      "model_name": "ButtonModel",
      "state": {
       "description": "Clear Output",
       "layout": "IPY_MODEL_fb0c2e0924b643d2b6e94ce0b2791bee",
       "style": "IPY_MODEL_8ad3400f1fa24f77a5ae9b9f70f01382"
      }
     },
     "939d2591621a483dbb86902829076684": {
      "model_module": "@jupyter-widgets/controls",
      "model_module_version": "1.2.0",
      "model_name": "DescriptionStyleModel",
      "state": {
       "description_width": ""
      }
     },
     "93a3ca04951a4b98b93877f7eba93db7": {
      "model_module": "@jupyter-widgets/controls",
      "model_module_version": "1.2.0",
      "model_name": "ButtonModel",
      "state": {
       "description": "Process Input",
       "layout": "IPY_MODEL_49151c7de881425587a7f84c8bf8ef46",
       "style": "IPY_MODEL_8270cd0b642a4421a748c57cbbcf2fb2"
      }
     },
     "93baac06bd7e4db8b980296440ce949e": {
      "model_module": "@jupyter-widgets/base",
      "model_module_version": "1.0.0",
      "model_name": "LayoutModel",
      "state": {}
     },
     "93c056e356d24fb581f4bebeab6c31d7": {
      "model_module": "@jupyter-widgets/controls",
      "model_module_version": "1.2.0",
      "model_name": "IntTextModel",
      "state": {
       "description": "Step:",
       "layout": "IPY_MODEL_80c1f8e233c543b7a18306ed8977ecb3",
       "step": 1,
       "style": "IPY_MODEL_548eef98971647148e00f7feee3ee294",
       "value": 2
      }
     },
     "93c913df3b7445b6b54b158365cd460c": {
      "model_module": "@jupyter-widgets/controls",
      "model_module_version": "1.2.0",
      "model_name": "VBoxModel",
      "state": {
       "layout": "IPY_MODEL_69ba97c030d64b99ae40d593b801da62"
      }
     },
     "9404bafd7f334359880f511b36770e06": {
      "model_module": "@jupyter-widgets/base",
      "model_module_version": "1.0.0",
      "model_name": "LayoutModel",
      "state": {}
     },
     "946d21592a5f4b189b1aa26dd0a9ab63": {
      "model_module": "@jupyter-widgets/base",
      "model_module_version": "1.0.0",
      "model_name": "LayoutModel",
      "state": {}
     },
     "948a467fb8784e679b05996209037758": {
      "model_module": "@jupyter-widgets/controls",
      "model_module_version": "1.2.0",
      "model_name": "HTMLModel",
      "state": {
       "layout": "IPY_MODEL_24160c65184244e6bb66f284b0eab6e2",
       "style": "IPY_MODEL_669191edabb64092bada441a8bc87ded",
       "value": "<b>UMAP:<b>"
      }
     },
     "94cd559f77e74a879ffd91adb10e975b": {
      "model_module": "@jupyter-widgets/base",
      "model_module_version": "1.0.0",
      "model_name": "LayoutModel",
      "state": {}
     },
     "950be4d39a8444e19fa2e2e227712c71": {
      "model_module": "@jupyter-widgets/base",
      "model_module_version": "1.0.0",
      "model_name": "LayoutModel",
      "state": {}
     },
     "951b09e6d9ec42769d8cdea0014a6263": {
      "model_module": "@jupyter-widgets/controls",
      "model_module_version": "1.2.0",
      "model_name": "VBoxModel",
      "state": {
       "children": [
        "IPY_MODEL_ebd7dfeb7f5e4e83b2092d38c2e6d441",
        "IPY_MODEL_7242bc95e92440f898a7368f128aa2df",
        "IPY_MODEL_62603eefb1234721b0e152a0620020a1"
       ],
       "layout": "IPY_MODEL_36865362e3164d80829defd3e81d0760"
      }
     },
     "952b44cab46a4c35b62ca7e60f27d338": {
      "model_module": "@jupyter-widgets/base",
      "model_module_version": "1.0.0",
      "model_name": "LayoutModel",
      "state": {}
     },
     "95441a9d8a38480598527dd156d4fe08": {
      "model_module": "@jupyter-widgets/base",
      "model_module_version": "1.0.0",
      "model_name": "LayoutModel",
      "state": {}
     },
     "955ba1820e0f4008a340fdb9b33b46f3": {
      "model_module": "@jupyter-widgets/controls",
      "model_module_version": "1.2.0",
      "model_name": "DescriptionStyleModel",
      "state": {
       "description_width": ""
      }
     },
     "958e974007d94dfca4f0f7d90b1ab22a": {
      "model_module": "@jupyter-widgets/controls",
      "model_module_version": "1.2.0",
      "model_name": "DropdownModel",
      "state": {
       "_options_labels": [
        "horizon",
        "FF"
       ],
       "description": "Plot Attribute:",
       "index": 0,
       "layout": "IPY_MODEL_87cb7eac4bb84c3a810eb8202422d314",
       "style": "IPY_MODEL_b5955232e0894a2385cd995c1d3b0829"
      }
     },
     "95a4d931bdf946439a8e3164eb91f403": {
      "model_module": "@jupyter-widgets/base",
      "model_module_version": "1.0.0",
      "model_name": "LayoutModel",
      "state": {}
     },
     "95ac8d3131a7459eab44382619012517": {
      "model_module": "@jupyter-widgets/base",
      "model_module_version": "1.0.0",
      "model_name": "LayoutModel",
      "state": {}
     },
     "95e783162d4142d8958a7bee53c5f5c5": {
      "model_module": "@jupyter-widgets/base",
      "model_module_version": "1.0.0",
      "model_name": "LayoutModel",
      "state": {}
     },
     "960834a4cf494b0f906375c09007a895": {
      "model_module": "@jupyter-widgets/controls",
      "model_module_version": "1.2.0",
      "model_name": "DescriptionStyleModel",
      "state": {
       "description_width": ""
      }
     },
     "9646e2e0c8b741bbb772c73a3020a9d1": {
      "model_module": "@jupyter-widgets/base",
      "model_module_version": "1.0.0",
      "model_name": "LayoutModel",
      "state": {}
     },
     "9699af51de9b425f86ec33e2ae86b511": {
      "model_module": "@jupyter-widgets/base",
      "model_module_version": "1.0.0",
      "model_name": "LayoutModel",
      "state": {}
     },
     "96b9fdafe7c54a20831cf652e20086b4": {
      "model_module": "@jupyter-widgets/controls",
      "model_module_version": "1.2.0",
      "model_name": "ButtonModel",
      "state": {
       "description": "Load Data",
       "layout": "IPY_MODEL_6a26832e3c9045a18c51ce9955e276a8",
       "style": "IPY_MODEL_887806039d064861971d6255b9f73934"
      }
     },
     "96d74f490980433a8edd3ae4c4ce49fe": {
      "model_module": "@jupyter-widgets/controls",
      "model_module_version": "1.2.0",
      "model_name": "DescriptionStyleModel",
      "state": {
       "description_width": ""
      }
     },
     "96e3ff8202b6462c966e92856bfdb026": {
      "model_module": "@jupyter-widgets/controls",
      "model_module_version": "1.2.0",
      "model_name": "VBoxModel",
      "state": {
       "children": [
        "IPY_MODEL_e2ebb4599d704772a4cd1cc03ff58fe1",
        "IPY_MODEL_b1eecf1497634fc08ccaf89ed74456b7"
       ],
       "layout": "IPY_MODEL_4db16cadb0f344419e8b70ae554a09f1"
      }
     },
     "97176d8bdd05411fa83ce781c6263ac2": {
      "model_module": "@jupyter-widgets/controls",
      "model_module_version": "1.2.0",
      "model_name": "DescriptionStyleModel",
      "state": {
       "description_width": ""
      }
     },
     "97533f2c7ce74d668164b2d4ff9665c7": {
      "model_module": "@jupyter-widgets/controls",
      "model_module_version": "1.2.0",
      "model_name": "DropdownModel",
      "state": {
       "_options_labels": [
        "horizon",
        "FF"
       ],
       "description": "Plot Attribute:",
       "index": 0,
       "layout": "IPY_MODEL_60fc348b98b04ae6aab4de752fbbe1f3",
       "style": "IPY_MODEL_6dffe923e9ae4a10b137c501481044b6"
      }
     },
     "976a9b9f042349d2b16bb81957f2d6f9": {
      "model_module": "@jupyter-widgets/controls",
      "model_module_version": "1.2.0",
      "model_name": "IntTextModel",
      "state": {
       "description": "Start:",
       "layout": "IPY_MODEL_161257b00f3e4d1abac941c4aed2b41c",
       "step": 1,
       "style": "IPY_MODEL_c07bc05ffb0f4422a538e5d22c189eed",
       "value": 1300
      }
     },
     "97889bffc106450199d4e75bac1c29da": {
      "model_module": "@jupyter-widgets/controls",
      "model_module_version": "1.2.0",
      "model_name": "VBoxModel",
      "state": {
       "children": [
        "IPY_MODEL_ed26852e8aba481eaf28b6db0d4924d4",
        "IPY_MODEL_c49721bf6d0f499d8b9a7a366c5a7a1b",
        "IPY_MODEL_01c742f360d54dfea49f1eb441a26c4f",
        "IPY_MODEL_cea8e62a3bf0433293b05c911b314b78"
       ],
       "layout": "IPY_MODEL_ee3a8c02c34e476a947c47c2c2334c1e"
      }
     },
     "97a0706155a34901a257bf7248a55bad": {
      "model_module": "@jupyter-widgets/base",
      "model_module_version": "1.0.0",
      "model_name": "LayoutModel",
      "state": {}
     },
     "97a1c98f7eb34a38ad7e01cff49dd6e5": {
      "model_module": "@jupyter-widgets/base",
      "model_module_version": "1.0.0",
      "model_name": "LayoutModel",
      "state": {}
     },
     "97e8bc996a3c475fb5a9d58073316bf8": {
      "model_module": "@jupyter-widgets/base",
      "model_module_version": "1.0.0",
      "model_name": "LayoutModel",
      "state": {}
     },
     "97f7aabbee204ab8baec96b5386eb0bd": {
      "model_module": "@jupyter-widgets/controls",
      "model_module_version": "1.2.0",
      "model_name": "IntTextModel",
      "state": {
       "description": "Above Add:",
       "layout": "IPY_MODEL_cd4ff60b6f074444a24d52e5a12e3396",
       "step": 1,
       "style": "IPY_MODEL_6b839764672e4908a616f5467df975b5",
       "value": 12
      }
     },
     "97fb88395177433296fd0d17de924fdc": {
      "model_module": "@jupyter-widgets/base",
      "model_module_version": "1.0.0",
      "model_name": "LayoutModel",
      "state": {}
     },
     "9804391c49744a60b9bef93c4222102e": {
      "model_module": "@jupyter-widgets/base",
      "model_module_version": "1.0.0",
      "model_name": "LayoutModel",
      "state": {}
     },
     "9844897cf7964fe4bdabf85d20d820b0": {
      "model_module": "@jupyter-widgets/base",
      "model_module_version": "1.0.0",
      "model_name": "LayoutModel",
      "state": {}
     },
     "985d075e127a40ad8125afb1acec220e": {
      "model_module": "@jupyter-widgets/controls",
      "model_module_version": "1.2.0",
      "model_name": "DescriptionStyleModel",
      "state": {
       "description_width": ""
      }
     },
     "986b85ee2c85463ca50997de814746ad": {
      "model_module": "@jupyter-widgets/controls",
      "model_module_version": "1.2.0",
      "model_name": "DescriptionStyleModel",
      "state": {
       "description_width": ""
      }
     },
     "986c936c379443b097a600464064a3fa": {
      "model_module": "@jupyter-widgets/base",
      "model_module_version": "1.0.0",
      "model_name": "LayoutModel",
      "state": {}
     },
     "98f99df65ad244ec8fd05d099392a225": {
      "model_module": "@jupyter-widgets/controls",
      "model_module_version": "1.2.0",
      "model_name": "HBoxModel",
      "state": {
       "children": [
        "IPY_MODEL_0c9dbc93ac984418b0abba6efc6220c8",
        "IPY_MODEL_3057a865895b4a58bad8bd30aadc5d51"
       ],
       "layout": "IPY_MODEL_daec9ff908dd4bc980ffe775ad868a26"
      }
     },
     "9907b8d3237f4c3a809fccfe86a6ff74": {
      "model_module": "@jupyter-widgets/controls",
      "model_module_version": "1.2.0",
      "model_name": "IntTextModel",
      "state": {
       "description": "Start:",
       "layout": "IPY_MODEL_e5beec039bd34d968f48a8e5e6922bf1",
       "step": 1,
       "style": "IPY_MODEL_b2546308221344da851e439c26d1e01d",
       "value": 1500
      }
     },
     "9929cc0e07d1457c900ad0513664a160": {
      "model_module": "@jupyter-widgets/base",
      "model_module_version": "1.0.0",
      "model_name": "LayoutModel",
      "state": {}
     },
     "992b75dc22144fb8a30df6639f07bbd7": {
      "model_module": "@jupyter-widgets/controls",
      "model_module_version": "1.2.0",
      "model_name": "VBoxModel",
      "state": {
       "children": [
        "IPY_MODEL_8b88bb8962a74a338a556435d4ff344e",
        "IPY_MODEL_7b164313e3b84e1198348cb0762e35a4",
        "IPY_MODEL_4dcc296691a949b4aebc77aa9dd0aefa",
        "IPY_MODEL_7ab2cb9b1a544d0a8c6cc850597c9258",
        "IPY_MODEL_4ddfda9b7f254ec7bafb4b230bc10e34"
       ],
       "layout": "IPY_MODEL_b0ed01bd986c4ced9ca988b3abb2b043"
      }
     },
     "9930b8ec320a462c80fa94edf0c9254f": {
      "model_module": "@jupyter-widgets/controls",
      "model_module_version": "1.2.0",
      "model_name": "BoundedFloatTextModel",
      "state": {
       "description": "Learn Rate:",
       "layout": "IPY_MODEL_e5072ce0069747efb6465fb219a889e1",
       "max": 1,
       "min": 0.0001,
       "step": 0.005,
       "style": "IPY_MODEL_6925b498e37a47c487bad65adf1d3d54",
       "value": 0.01
      }
     },
     "99382d2c632543beabacfcc96055980b": {
      "model_module": "@jupyter-widgets/controls",
      "model_module_version": "1.2.0",
      "model_name": "VBoxModel",
      "state": {
       "children": [
        "IPY_MODEL_cc704493d92143578f6be22657fc677a",
        "IPY_MODEL_f9e89262a6b849cf916028ef2398056f",
        "IPY_MODEL_1e960c88158c4fb8923c40170855fb7b"
       ],
       "layout": "IPY_MODEL_0c384d3baa8947849c141d0ca5053028"
      }
     },
     "9949c1ff2985495eb392a86c76945ff5": {
      "model_module": "@jupyter-widgets/controls",
      "model_module_version": "1.2.0",
      "model_name": "HTMLModel",
      "state": {
       "layout": "IPY_MODEL_7659ea93a2ec4f8d965c526e6c5348c1",
       "style": "IPY_MODEL_0b342a00322b4ea788daec73b66f7be0",
       "value": "<b>Horizon Flattening:<b>"
      }
     },
     "99741a85cc3f459fafb74cea55d0b84c": {
      "model_module": "@jupyter-widgets/base",
      "model_module_version": "1.0.0",
      "model_name": "LayoutModel",
      "state": {}
     },
     "997eb4b4f12442258b346219e38e8290": {
      "model_module": "@jupyter-widgets/controls",
      "model_module_version": "1.2.0",
      "model_name": "DescriptionStyleModel",
      "state": {
       "description_width": ""
      }
     },
     "99bd555b6d644a68bf12566aefa0b536": {
      "model_module": "@jupyter-widgets/base",
      "model_module_version": "1.0.0",
      "model_name": "LayoutModel",
      "state": {}
     },
     "99fe34e92b61420a87af478dad141ee9": {
      "model_module": "@jupyter-widgets/controls",
      "model_module_version": "1.2.0",
      "model_name": "HTMLModel",
      "state": {
       "layout": "IPY_MODEL_76be8c7d2507400c91c97511cb762be1",
       "style": "IPY_MODEL_45a6faf33a7646959df08399122a6e38",
       "value": "<b>Horizon Flattening:<b>"
      }
     },
     "9a091664af0f431190a3cf79d1d374ab": {
      "model_module": "@jupyter-widgets/controls",
      "model_module_version": "1.2.0",
      "model_name": "VBoxModel",
      "state": {
       "children": [
        "IPY_MODEL_b4a515beae384b2daa4e71e6d1a55e20",
        "IPY_MODEL_42aa305fe2e74d11bced1e05e9679e77"
       ],
       "layout": "IPY_MODEL_07ea3f73f0314fd99dce5a1f6e849a2d"
      }
     },
     "9a196c3d34be4b4a93513ee2dfd9f1fe": {
      "model_module": "@jupyter-widgets/base",
      "model_module_version": "1.0.0",
      "model_name": "LayoutModel",
      "state": {}
     },
     "9a31db6a4c10423d94cb96a1b6df0243": {
      "model_module": "@jupyter-widgets/base",
      "model_module_version": "1.0.0",
      "model_name": "LayoutModel",
      "state": {}
     },
     "9a3852f7c9094053b9b6763e9a2de407": {
      "model_module": "@jupyter-widgets/base",
      "model_module_version": "1.0.0",
      "model_name": "LayoutModel",
      "state": {}
     },
     "9a9ec67caa6749abbe46613f9033c8be": {
      "model_module": "@jupyter-widgets/controls",
      "model_module_version": "1.2.0",
      "model_name": "IntTextModel",
      "state": {
       "description": "Epochs:",
       "layout": "IPY_MODEL_22fc78eef9844a3c9af590c7c78be1b6",
       "step": 1,
       "style": "IPY_MODEL_89fc48a7acc84ecd9645d8c1436a653b",
       "value": 3
      }
     },
     "9ab2fd8021754c0f97c37d189ffaf0fc": {
      "model_module": "@jupyter-widgets/controls",
      "model_module_version": "1.2.0",
      "model_name": "DescriptionStyleModel",
      "state": {
       "description_width": ""
      }
     },
     "9ab7a7c8604443449fe897090ca03b1b": {
      "model_module": "@jupyter-widgets/base",
      "model_module_version": "1.0.0",
      "model_name": "LayoutModel",
      "state": {}
     },
     "9b32a27404a14755bbfb13aef71e3f4f": {
      "model_module": "@jupyter-widgets/base",
      "model_module_version": "1.0.0",
      "model_name": "LayoutModel",
      "state": {}
     },
     "9b80e6ef32b5403db8c5c40a17e7c877": {
      "model_module": "@jupyter-widgets/controls",
      "model_module_version": "1.2.0",
      "model_name": "IntTextModel",
      "state": {
       "description": "Step:",
       "layout": "IPY_MODEL_b71ca4771e6345a7948388d423793c48",
       "step": 1,
       "style": "IPY_MODEL_d081fa6cb2c742e288d2ab9bddcbe1b6",
       "value": 2
      }
     },
     "9b81332e48b44563b6bcc30a87c43cd6": {
      "model_module": "@jupyter-widgets/controls",
      "model_module_version": "1.2.0",
      "model_name": "DescriptionStyleModel",
      "state": {
       "description_width": ""
      }
     },
     "9bd8228d23af4cb2a3bf3ca255b700dc": {
      "model_module": "@jupyter-widgets/controls",
      "model_module_version": "1.2.0",
      "model_name": "ButtonStyleModel",
      "state": {}
     },
     "9bd96edc54a640698c3656ece51495f1": {
      "model_module": "@jupyter-widgets/controls",
      "model_module_version": "1.2.0",
      "model_name": "IntTextModel",
      "state": {
       "description": "Stop:",
       "layout": "IPY_MODEL_2fe17b0910a047f3a2703198ba0de58e",
       "step": 1,
       "style": "IPY_MODEL_4ebfa353bff646b1b1b64cd42ff0112d",
       "value": 1502
      }
     },
     "9be73c8a09694279b04a6aa9562787e3": {
      "model_module": "@jupyter-widgets/controls",
      "model_module_version": "1.2.0",
      "model_name": "HBoxModel",
      "state": {
       "children": [
        "IPY_MODEL_1739e17ed0a94b018fd34f1f5e94c7df",
        "IPY_MODEL_6d4302c612e74d019698304322d2c319"
       ],
       "layout": "IPY_MODEL_74f3d91a415a436da476ed1a973bb550"
      }
     },
     "9bedfd4817704d03b874285ba22e6599": {
      "model_module": "@jupyter-widgets/controls",
      "model_module_version": "1.2.0",
      "model_name": "IntTextModel",
      "state": {
       "description": "Stop:",
       "layout": "IPY_MODEL_d9a6a0bed10347fa91bdd669e52b5e76",
       "step": 1,
       "style": "IPY_MODEL_826abf7bf38f48efb7613040a7f27c4b",
       "value": 1502
      }
     },
     "9c342aabe11f4667ac9ad0eef7277fe5": {
      "model_module": "@jupyter-widgets/controls",
      "model_module_version": "1.2.0",
      "model_name": "ButtonStyleModel",
      "state": {}
     },
     "9c467aa640b84ed18da1d5846cdd26e4": {
      "model_module": "@jupyter-widgets/base",
      "model_module_version": "1.0.0",
      "model_name": "LayoutModel",
      "state": {}
     },
     "9c524b00147a4e4bbfb593045f3460a9": {
      "model_module": "@jupyter-widgets/base",
      "model_module_version": "1.0.0",
      "model_name": "LayoutModel",
      "state": {}
     },
     "9c5e44bcaa034e84b4b3d7489fc78a1f": {
      "model_module": "@jupyter-widgets/controls",
      "model_module_version": "1.2.0",
      "model_name": "BoundedFloatTextModel",
      "state": {
       "description": "Min Dist:",
       "layout": "IPY_MODEL_7864a05fd31b400cb5da06358419cd24",
       "max": 1,
       "min": 0.0001,
       "step": 0.0001,
       "style": "IPY_MODEL_deb1512120de466f855f57b68e085c4e",
       "value": 0.01
      }
     },
     "9c82349384ab4294944d2e7bf0c766dd": {
      "model_module": "@jupyter-widgets/controls",
      "model_module_version": "1.2.0",
      "model_name": "ButtonModel",
      "state": {
       "description": "Clear Output",
       "layout": "IPY_MODEL_2c8b0aa968b14369aac188c450988101",
       "style": "IPY_MODEL_07a35b3ad5904ee8a736960f8b7c970a"
      }
     },
     "9d10a138182e45319bf82b75edcdef8b": {
      "model_module": "@jupyter-widgets/base",
      "model_module_version": "1.0.0",
      "model_name": "LayoutModel",
      "state": {}
     },
     "9d31f13c07ea451182c672f1a0aa2816": {
      "model_module": "@jupyter-widgets/controls",
      "model_module_version": "1.2.0",
      "model_name": "HBoxModel",
      "state": {
       "children": [
        "IPY_MODEL_75d4826b9a324426859c6a02bc601950",
        "IPY_MODEL_0568f4e0fda3471690b7f346b6ef2abd"
       ],
       "layout": "IPY_MODEL_785b3ea2eae9487c94ef64b6b67e9146"
      }
     },
     "9d5dec084e23407e89bd71d3554c6c4f": {
      "model_module": "@jupyter-widgets/base",
      "model_module_version": "1.0.0",
      "model_name": "LayoutModel",
      "state": {}
     },
     "9d623da667c546f4bb91e0039270ef96": {
      "model_module": "@jupyter-widgets/controls",
      "model_module_version": "1.2.0",
      "model_name": "VBoxModel",
      "state": {
       "children": [
        "IPY_MODEL_b44287551601433fa231609e707cdea3",
        "IPY_MODEL_40805de9a36f477ca7930819a62e5237"
       ],
       "layout": "IPY_MODEL_6d01a31c14204b818334e7624b4d6d11"
      }
     },
     "9d78d7f83e584ad9b14358cffb9131b4": {
      "model_module": "@jupyter-widgets/base",
      "model_module_version": "1.0.0",
      "model_name": "LayoutModel",
      "state": {}
     },
     "9d9a1c9d30094d70b6333a0cbcfad196": {
      "model_module": "@jupyter-widgets/controls",
      "model_module_version": "1.2.0",
      "model_name": "DescriptionStyleModel",
      "state": {
       "description_width": ""
      }
     },
     "9df4cca5f15e4f78ac4440e2cf70a5ed": {
      "model_module": "@jupyter-widgets/controls",
      "model_module_version": "1.2.0",
      "model_name": "ButtonModel",
      "state": {
       "description": "Load Data",
       "layout": "IPY_MODEL_851f8c5a94d2405b8606e70678bbfae1",
       "style": "IPY_MODEL_60f7e04b860a4207a0f3b627c1556ca6"
      }
     },
     "9df87394b26d409095f2872f6b191729": {
      "model_module": "@jupyter-widgets/controls",
      "model_module_version": "1.2.0",
      "model_name": "DescriptionStyleModel",
      "state": {
       "description_width": ""
      }
     },
     "9dfc5da19c4b4db58852ed2496aa9401": {
      "model_module": "@jupyter-widgets/controls",
      "model_module_version": "1.2.0",
      "model_name": "DescriptionStyleModel",
      "state": {
       "description_width": ""
      }
     },
     "9e0492418cff481e959931022cb9cfe7": {
      "model_module": "@jupyter-widgets/controls",
      "model_module_version": "1.2.0",
      "model_name": "VBoxModel",
      "state": {
       "children": [
        "IPY_MODEL_89f20f4f11e54df7a506649227bfacd6",
        "IPY_MODEL_748c773226c14758be31eaa5d86b4878",
        "IPY_MODEL_621cbe41b9924a57ab46bb17d8d5b9f3",
        "IPY_MODEL_03741b45eab14c8caf84d75799a901ed"
       ],
       "layout": "IPY_MODEL_620f17b1c03044e7b07bfbaffe8c12b4"
      }
     },
     "9e160fe41dd64adfbde2f72a776f11eb": {
      "model_module": "@jupyter-widgets/base",
      "model_module_version": "1.0.0",
      "model_name": "LayoutModel",
      "state": {}
     },
     "9e24810bbf684d459d893972a61ad689": {
      "model_module": "@jupyter-widgets/base",
      "model_module_version": "1.0.0",
      "model_name": "LayoutModel",
      "state": {
       "border": "4px solid red"
      }
     },
     "9e3337a6a45545ad85823509ca989203": {
      "model_module": "@jupyter-widgets/base",
      "model_module_version": "1.0.0",
      "model_name": "LayoutModel",
      "state": {}
     },
     "9e4cda7618e8442a9c8db622a5dc018c": {
      "model_module": "@jupyter-widgets/controls",
      "model_module_version": "1.2.0",
      "model_name": "HBoxModel",
      "state": {
       "children": [
        "IPY_MODEL_518fccb166e74051bbca5563b3e0493e",
        "IPY_MODEL_027226a49a124c5bb8cf62c1a99ff813"
       ],
       "layout": "IPY_MODEL_71b985762cd540989d58512e954fa77a"
      }
     },
     "9e52ccdadbb1432791ab7f6313f21e0d": {
      "model_module": "@jupyter-widgets/controls",
      "model_module_version": "1.2.0",
      "model_name": "IntTextModel",
      "state": {
       "description": "Neighbours:",
       "layout": "IPY_MODEL_268f9a7fcc384266981d05c5699edab9",
       "step": 1,
       "style": "IPY_MODEL_c5bcdf2b65f24054aac3f99324d98448",
       "value": 50
      }
     },
     "9e7162dab3564de9b6c39891c4e4f403": {
      "model_module": "@jupyter-widgets/controls",
      "model_module_version": "1.2.0",
      "model_name": "VBoxModel",
      "state": {
       "children": [
        "IPY_MODEL_d8c5530fe388454b9b5ddc305a8ed4dd",
        "IPY_MODEL_85462f13eeb34de58d9174e4e6d43110",
        "IPY_MODEL_26ff69d798da4f1fb9f366581abfad08"
       ],
       "layout": "IPY_MODEL_5b16d3eb387a43639ffff98236cd12ec"
      }
     },
     "9e7fa08e00794d6e935fccd9758357a5": {
      "model_module": "@jupyter-widgets/base",
      "model_module_version": "1.0.0",
      "model_name": "LayoutModel",
      "state": {}
     },
     "9e92f0a3d1dd435cb64abf179a6c5dd9": {
      "model_module": "@jupyter-widgets/controls",
      "model_module_version": "1.2.0",
      "model_name": "DescriptionStyleModel",
      "state": {
       "description_width": ""
      }
     },
     "9e9b4c3e0aee42b58329726344985bbb": {
      "model_module": "@jupyter-widgets/controls",
      "model_module_version": "1.2.0",
      "model_name": "IntTextModel",
      "state": {
       "description": "Latent size:",
       "layout": "IPY_MODEL_89c941dac8c94b10af977f9837432c2a",
       "step": 1,
       "style": "IPY_MODEL_629b591d3f8049cea5e54a8d584c267b",
       "value": 8
      }
     },
     "9e9d88395f8b4c53ba77fe3dea7a6134": {
      "model_module": "@jupyter-widgets/base",
      "model_module_version": "1.0.0",
      "model_name": "LayoutModel",
      "state": {}
     },
     "9eec2d9d3f584c15a2f505b3c09d29ee": {
      "model_module": "@jupyter-widgets/base",
      "model_module_version": "1.0.0",
      "model_name": "LayoutModel",
      "state": {}
     },
     "9f09fe63f1b249cc87b02d3883e8f7ba": {
      "model_module": "@jupyter-widgets/controls",
      "model_module_version": "1.2.0",
      "model_name": "IntTextModel",
      "state": {
       "description": "Start:",
       "layout": "IPY_MODEL_6465141b66384ee0bc67a2b9f5407838",
       "step": 1,
       "style": "IPY_MODEL_b3b0de8d07f8475297272ea07946485a",
       "value": 1500
      }
     },
     "9f2eded4aa5e4841b3d03146bf668052": {
      "model_module": "@jupyter-widgets/base",
      "model_module_version": "1.0.0",
      "model_name": "LayoutModel",
      "state": {}
     },
     "9f3d002f618d4aeea0ebbad645072e74": {
      "model_module": "@jupyter-widgets/controls",
      "model_module_version": "1.2.0",
      "model_name": "ButtonModel",
      "state": {
       "description": "Process Input",
       "layout": "IPY_MODEL_952b44cab46a4c35b62ca7e60f27d338",
       "style": "IPY_MODEL_cfb300ebaeef499e9c313cd7452dbeb8"
      }
     },
     "9f4f46fe99b44270acc34d46bafa92d3": {
      "model_module": "@jupyter-widgets/controls",
      "model_module_version": "1.2.0",
      "model_name": "HTMLModel",
      "state": {
       "layout": "IPY_MODEL_6bf2cd1bddce4704823a9c76c7f5cf63",
       "style": "IPY_MODEL_f0d15f522a1e4de9974dabc1fb71cba9",
       "value": "<b>Normalisation:<b>"
      }
     },
     "9f556e25f706406e8d6578a1aa9e0fc6": {
      "model_module": "@jupyter-widgets/base",
      "model_module_version": "1.0.0",
      "model_name": "LayoutModel",
      "state": {}
     },
     "9f71691bc57c4f66bd9c7225c5635b53": {
      "model_module": "@jupyter-widgets/controls",
      "model_module_version": "1.2.0",
      "model_name": "ButtonStyleModel",
      "state": {}
     },
     "9f9d45459cfa48dcaffa77fb6f37bb4e": {
      "model_module": "@jupyter-widgets/controls",
      "model_module_version": "1.2.0",
      "model_name": "VBoxModel",
      "state": {
       "children": [
        "IPY_MODEL_ea2ea49fb8e9443a9e1cf40e6a44765a",
        "IPY_MODEL_e11de5ffc3af4e1297d1cfd0551ef6e2",
        "IPY_MODEL_480cb122c16b4a4783b65cd21e86211b"
       ],
       "layout": "IPY_MODEL_22abdd17bf3b4d3a9a0433b5a5bc10bc"
      }
     },
     "9fa9dce3e12f40558441241431221a8c": {
      "model_module": "@jupyter-widgets/base",
      "model_module_version": "1.0.0",
      "model_name": "LayoutModel",
      "state": {}
     },
     "9fd33151ec404af5a7d31c5ee62e5c7c": {
      "model_module": "@jupyter-widgets/base",
      "model_module_version": "1.0.0",
      "model_name": "LayoutModel",
      "state": {}
     },
     "9fe6eb227baa4489b36e5ec501368cf0": {
      "model_module": "@jupyter-widgets/controls",
      "model_module_version": "1.2.0",
      "model_name": "TextModel",
      "state": {
       "description": "Far SEGY:",
       "layout": "IPY_MODEL_a961ad36fc34437e945ecfb04eef0719",
       "style": "IPY_MODEL_cb20b034bbd04912a6cda3c02b49fdb9",
       "value": "./data/3d_farstack.sgy"
      }
     },
     "a0d747387881467cb3f33f3401f82396": {
      "model_module": "@jupyter-widgets/base",
      "model_module_version": "1.0.0",
      "model_name": "LayoutModel",
      "state": {}
     },
     "a0fdb4abfa344885b0da849b92403c1b": {
      "model_module": "@jupyter-widgets/controls",
      "model_module_version": "1.2.0",
      "model_name": "VBoxModel",
      "state": {
       "children": [
        "IPY_MODEL_e256f7866e0c439cb2a97afffda34a67",
        "IPY_MODEL_32a58eb611454bff846ba2a2829c9893",
        "IPY_MODEL_cef1f98e7eb144dca9e69e236ae57194",
        "IPY_MODEL_ef6485b019c445279e249b9862433df5"
       ],
       "layout": "IPY_MODEL_fcfb253a559244f2bf7fcd2a08af548e"
      }
     },
     "a13938c608bb40ce8cc28a6e112d13c8": {
      "model_module": "@jupyter-widgets/base",
      "model_module_version": "1.0.0",
      "model_name": "LayoutModel",
      "state": {}
     },
     "a1396fc741c24e9c9bab57a9d5fcf262": {
      "model_module": "@jupyter-widgets/controls",
      "model_module_version": "1.2.0",
      "model_name": "DescriptionStyleModel",
      "state": {
       "description_width": ""
      }
     },
     "a17c26f0024b487b96f0d4d42818d202": {
      "model_module": "@jupyter-widgets/base",
      "model_module_version": "1.0.0",
      "model_name": "LayoutModel",
      "state": {}
     },
     "a17cc80ddc8245739aadbaa0ae9419a9": {
      "model_module": "@jupyter-widgets/controls",
      "model_module_version": "1.2.0",
      "model_name": "TabModel",
      "state": {
       "_titles": {
        "0": "1. Data Loading",
        "1": "2. Data Processing",
        "2": "3. Model Selection",
        "3": "4. Visualisation"
       },
       "children": [
        "IPY_MODEL_d4b1e5646f82444e9928ac1205b3ab58",
        "IPY_MODEL_8711971f44c54a5f8af8fcbed044b646",
        "IPY_MODEL_bbf7011a176a40e38399bc029bcb3454",
        "IPY_MODEL_1e7be8493db6491c86fe7e5a2bcff9d3"
       ],
       "layout": "IPY_MODEL_c29ef59595a44b5b8c2a402784bd4e2b"
      }
     },
     "a17e8c0545374c60aa97e93d233e6167": {
      "model_module": "@jupyter-widgets/base",
      "model_module_version": "1.0.0",
      "model_name": "LayoutModel",
      "state": {}
     },
     "a1d15842d4f549f0b2d9f3891956d89a": {
      "model_module": "@jupyter-widgets/controls",
      "model_module_version": "1.2.0",
      "model_name": "AccordionModel",
      "state": {
       "_titles": {
        "0": "UMAP",
        "1": "VAE",
        "2": "β-VAE"
       },
       "children": [
        "IPY_MODEL_53d95e59a2584d62a5b3f428560eb761",
        "IPY_MODEL_0ebe7f9a67374ccd87c332cc2e7d8e79",
        "IPY_MODEL_44148dab2d94482c8fa5eb4a5a92d305"
       ],
       "layout": "IPY_MODEL_40b9eb78c0d64e0099fbc04625de905c"
      }
     },
     "a1f4e085f753480088c386f9e2bc17bd": {
      "model_module": "@jupyter-widgets/base",
      "model_module_version": "1.0.0",
      "model_name": "LayoutModel",
      "state": {}
     },
     "a1f555caafa040e89805f2cbe1612bd9": {
      "model_module": "@jupyter-widgets/controls",
      "model_module_version": "1.2.0",
      "model_name": "DescriptionStyleModel",
      "state": {
       "description_width": ""
      }
     },
     "a23bb6066437415d8207951ea35e6660": {
      "model_module": "@jupyter-widgets/controls",
      "model_module_version": "1.2.0",
      "model_name": "DescriptionStyleModel",
      "state": {
       "description_width": ""
      }
     },
     "a2661b9196d24969941da39e9cb9b2da": {
      "model_module": "@jupyter-widgets/output",
      "model_module_version": "1.0.0",
      "model_name": "OutputModel",
      "state": {
       "layout": "IPY_MODEL_c4998b1f13dc4266b51526f217db3224"
      }
     },
     "a274690d9aed431689862a1ca172f5ee": {
      "model_module": "@jupyter-widgets/controls",
      "model_module_version": "1.2.0",
      "model_name": "DropdownModel",
      "state": {
       "_options_labels": [
        "True",
        "False"
       ],
       "description": "True/False:",
       "index": 0,
       "layout": "IPY_MODEL_9844897cf7964fe4bdabf85d20d820b0",
       "style": "IPY_MODEL_15684ae7239443c3815008e5873456a8"
      }
     },
     "a28e18af02604deaae5225bc1c2576be": {
      "model_module": "@jupyter-widgets/controls",
      "model_module_version": "1.2.0",
      "model_name": "VBoxModel",
      "state": {
       "children": [
        "IPY_MODEL_0e1323791c8b4c4ba7b9d310c1251130",
        "IPY_MODEL_a1d15842d4f549f0b2d9f3891956d89a"
       ],
       "layout": "IPY_MODEL_97a1c98f7eb34a38ad7e01cff49dd6e5"
      }
     },
     "a29733aa0f5743039cc1be38eb5aab6d": {
      "model_module": "@jupyter-widgets/controls",
      "model_module_version": "1.2.0",
      "model_name": "VBoxModel",
      "state": {
       "layout": "IPY_MODEL_edc9acd7652246f5b0d77709dbd3abb5"
      }
     },
     "a2f1c5646bc24e53897fa2583e7467ff": {
      "model_module": "@jupyter-widgets/controls",
      "model_module_version": "1.2.0",
      "model_name": "IntTextModel",
      "state": {
       "description": "Step:",
       "layout": "IPY_MODEL_d5448784684e4563bf52e0f7fced5e2b",
       "step": 1,
       "style": "IPY_MODEL_7fb50f9e5191457aa03cac2580acd7bd",
       "value": 2
      }
     },
     "a2f5dd0527e64001b1b3c071ae6fb461": {
      "model_module": "@jupyter-widgets/base",
      "model_module_version": "1.0.0",
      "model_name": "LayoutModel",
      "state": {}
     },
     "a3103e0b1b5b4ff9b50fbfdf3ce1239f": {
      "model_module": "@jupyter-widgets/controls",
      "model_module_version": "1.2.0",
      "model_name": "HBoxModel",
      "state": {
       "children": [
        "IPY_MODEL_cd6b0a3fc7c54d608c3b874225b8cffd",
        "IPY_MODEL_cb044b4f3a544d91bf6caca435d8f6aa",
        "IPY_MODEL_b559651074a7496493a79f7d5dbb4c95"
       ],
       "layout": "IPY_MODEL_0b09a5aab26d4345b816fe93d3f890e5"
      }
     },
     "a33209e33ab149d2bbdfa478d5270bbd": {
      "model_module": "@jupyter-widgets/controls",
      "model_module_version": "1.2.0",
      "model_name": "HBoxModel",
      "state": {
       "children": [
        "IPY_MODEL_bdef16ba17314f59879a94cc460ef108",
        "IPY_MODEL_e2e09091a40b4a0f835d4add82b2d45d"
       ],
       "layout": "IPY_MODEL_7f5fb0328af746c388ce7ad765440d4a"
      }
     },
     "a384899b375b4b938aadf5b33729b2c5": {
      "model_module": "@jupyter-widgets/controls",
      "model_module_version": "1.2.0",
      "model_name": "DropdownModel",
      "state": {
       "_options_labels": [
        "True",
        "False"
       ],
       "description": "True/False:",
       "index": 0,
       "layout": "IPY_MODEL_bd8c57f8f3454826a15e7cf2070c6221",
       "style": "IPY_MODEL_73f6415648664632bc9b87b63928a1f6"
      }
     },
     "a38d3ac775004337999dce51711a81af": {
      "model_module": "@jupyter-widgets/controls",
      "model_module_version": "1.2.0",
      "model_name": "VBoxModel",
      "state": {
       "children": [
        "IPY_MODEL_5475d62fb00c4040ade7f397eed358ee",
        "IPY_MODEL_3f3229b036cd46028603452f1c4d3b28",
        "IPY_MODEL_c65328882ee749c68974c7f02406fca7",
        "IPY_MODEL_4ac73ae1cba84c00bce1ee79dcde29bd"
       ],
       "layout": "IPY_MODEL_4ca54e76784d4dd882fdd652b7d61a7b"
      }
     },
     "a38e747e78b14aa28f29e5d5a88dcf84": {
      "model_module": "@jupyter-widgets/controls",
      "model_module_version": "1.2.0",
      "model_name": "DescriptionStyleModel",
      "state": {
       "description_width": ""
      }
     },
     "a391017ab1704f8eaab5071d321df466": {
      "model_module": "@jupyter-widgets/controls",
      "model_module_version": "1.2.0",
      "model_name": "VBoxModel",
      "state": {
       "children": [
        "IPY_MODEL_d8a98cdd07084d15b137f048a7d50e57",
        "IPY_MODEL_626c8c1fba5944a3bd402fcb295b02f1",
        "IPY_MODEL_b94765a544f94790ae942690f555de39",
        "IPY_MODEL_8e7d75358ba444c59375a7d852d30a41"
       ],
       "layout": "IPY_MODEL_b218bd3a481d47e4a47e28bd7f7fb4a4"
      }
     },
     "a3dd4f64d70740468a29a02462416831": {
      "model_module": "@jupyter-widgets/controls",
      "model_module_version": "1.2.0",
      "model_name": "HTMLModel",
      "state": {
       "layout": "IPY_MODEL_4da8d20e3c414a2f8e7ac33c0e426a86",
       "style": "IPY_MODEL_e9e1a7aa2ddd42078fec813a1ff434fa",
       "value": "<b>Horizon Flattening:<b>"
      }
     },
     "a3e538dd74234d2bb75498ea56f0d798": {
      "model_module": "@jupyter-widgets/controls",
      "model_module_version": "1.2.0",
      "model_name": "ButtonStyleModel",
      "state": {}
     },
     "a42701bf97214704a0b43d6c11d262bf": {
      "model_module": "@jupyter-widgets/controls",
      "model_module_version": "1.2.0",
      "model_name": "ButtonModel",
      "state": {
       "description": "Clear Output",
       "layout": "IPY_MODEL_3bd43b6dc9134ebdbbbcc641d862888c",
       "style": "IPY_MODEL_bb2485b0b4984f1996331f562f5fdc8e"
      }
     },
     "a431bf5f7f5f44a9aabd42c99326fe5c": {
      "model_module": "@jupyter-widgets/controls",
      "model_module_version": "1.2.0",
      "model_name": "DescriptionStyleModel",
      "state": {
       "description_width": ""
      }
     },
     "a45f7057bcb649fe8d2e70a6cfb268fc": {
      "model_module": "@jupyter-widgets/controls",
      "model_module_version": "1.2.0",
      "model_name": "VBoxModel",
      "state": {
       "layout": "IPY_MODEL_0f4161edfb13457bb249512c7c414fce"
      }
     },
     "a4759f06e4d94c03bb5cd511909ab48e": {
      "model_module": "@jupyter-widgets/base",
      "model_module_version": "1.0.0",
      "model_name": "LayoutModel",
      "state": {}
     },
     "a485ca339d0b4c5bab95123b601a33f7": {
      "model_module": "@jupyter-widgets/base",
      "model_module_version": "1.0.0",
      "model_name": "LayoutModel",
      "state": {}
     },
     "a4bbd892fdaf40869970e84cb3c89d03": {
      "model_module": "@jupyter-widgets/controls",
      "model_module_version": "1.2.0",
      "model_name": "TextModel",
      "state": {
       "description": "Horizon .txt:",
       "layout": "IPY_MODEL_c723b06e1a2f4b40b7e878e7a5d48c77",
       "style": "IPY_MODEL_3741673b2c66489eb137b0e4066ea33f",
       "value": "./data/Top_Heimdal_subset.txt"
      }
     },
     "a4e74b3d551e443fb3fc84736ea4d64f": {
      "model_module": "@jupyter-widgets/controls",
      "model_module_version": "1.2.0",
      "model_name": "HBoxModel",
      "state": {
       "children": [
        "IPY_MODEL_8bb70f7d82094d438a282e4a8ac93035",
        "IPY_MODEL_8c77a1b718cd448bb1c63dfaee514b27",
        "IPY_MODEL_18f20d1363ff4f19a0ae0507b6648ce3"
       ],
       "layout": "IPY_MODEL_f6e28f9efa104786ae6921e10f5a842b"
      }
     },
     "a518be27aabd4e3faa190886d2d5eda5": {
      "model_module": "@jupyter-widgets/base",
      "model_module_version": "1.0.0",
      "model_name": "LayoutModel",
      "state": {}
     },
     "a53343e869f245a78a9eb422c450c24b": {
      "model_module": "@jupyter-widgets/controls",
      "model_module_version": "1.2.0",
      "model_name": "DescriptionStyleModel",
      "state": {
       "description_width": ""
      }
     },
     "a5497ba479d14e93827d2d94f82f0e61": {
      "model_module": "@jupyter-widgets/controls",
      "model_module_version": "1.2.0",
      "model_name": "TextModel",
      "state": {
       "description": "Far SEGY:",
       "layout": "IPY_MODEL_92dc615aebd54a76816b8fd6130b5e9d",
       "style": "IPY_MODEL_81a446be621b4512861448d8a723c2ab",
       "value": "./data/3d_farstack.sgy"
      }
     },
     "a56484baffaf495f9089bebc50baf3c8": {
      "model_module": "@jupyter-widgets/controls",
      "model_module_version": "1.2.0",
      "model_name": "ButtonStyleModel",
      "state": {}
     },
     "a56b9fc1e998467e9274696cc368575a": {
      "model_module": "@jupyter-widgets/base",
      "model_module_version": "1.0.0",
      "model_name": "LayoutModel",
      "state": {}
     },
     "a5744e5614af4ae2a5e5d365b5f0a5a8": {
      "model_module": "@jupyter-widgets/controls",
      "model_module_version": "1.2.0",
      "model_name": "IntTextModel",
      "state": {
       "description": "Latent size:",
       "layout": "IPY_MODEL_ec9b0e6251d24861957d89c0afe4fb5d",
       "step": 1,
       "style": "IPY_MODEL_ce2fa8a6501a40dcacfdf331cb0e5c70",
       "value": 8
      }
     },
     "a596b4fe3697409d95d6445c7dc0f719": {
      "model_module": "@jupyter-widgets/base",
      "model_module_version": "1.0.0",
      "model_name": "LayoutModel",
      "state": {}
     },
     "a5a5bf671de14eedafb7f41c1a469f2c": {
      "model_module": "@jupyter-widgets/controls",
      "model_module_version": "1.2.0",
      "model_name": "IntTextModel",
      "state": {
       "description": "Start:",
       "layout": "IPY_MODEL_f30ffc51c0994298bd81a63729699d7d",
       "step": 1,
       "style": "IPY_MODEL_3b712d80bcd04b9c9929f76bc8ba0e37",
       "value": 1300
      }
     },
     "a5b9de4c7b88435389ffa8a76c071189": {
      "model_module": "@jupyter-widgets/base",
      "model_module_version": "1.0.0",
      "model_name": "LayoutModel",
      "state": {}
     },
     "a5e076b888fa4a4d934d15a5e5d1d2c0": {
      "model_module": "@jupyter-widgets/controls",
      "model_module_version": "1.2.0",
      "model_name": "TabModel",
      "state": {
       "_titles": {
        "0": "1. Data Loading",
        "1": "2. Data Processing",
        "2": "3. Model Selection",
        "3": "4. Visualisation"
       },
       "children": [
        "IPY_MODEL_9d623da667c546f4bb91e0039270ef96",
        "IPY_MODEL_4859616b4f304412bec7db902fde7851",
        "IPY_MODEL_1b9b3d250f354f138f4ec1a7db1fa425",
        "IPY_MODEL_4c8e462082e940a59ebc2e3d73a93992"
       ],
       "layout": "IPY_MODEL_f5d9e90a2e0743f49f50b495001497ff"
      }
     },
     "a606f6e819e2452fb5d9486eafddc9f8": {
      "model_module": "@jupyter-widgets/base",
      "model_module_version": "1.0.0",
      "model_name": "LayoutModel",
      "state": {}
     },
     "a615e63245144879aa1ca40e0cf1cef7": {
      "model_module": "@jupyter-widgets/base",
      "model_module_version": "1.0.0",
      "model_name": "LayoutModel",
      "state": {}
     },
     "a62001551876403aafc9392f1e94c18c": {
      "model_module": "@jupyter-widgets/controls",
      "model_module_version": "1.2.0",
      "model_name": "VBoxModel",
      "state": {
       "children": [
        "IPY_MODEL_37310fd0591c45b08d1504a2b2021787",
        "IPY_MODEL_f50f8a4c7a8540438d366bc6a6b89536"
       ],
       "layout": "IPY_MODEL_b34c03b09dfe4a10b41e994eceff3d4f"
      }
     },
     "a62a58b4037742d38c0bcc518af759ec": {
      "model_module": "@jupyter-widgets/controls",
      "model_module_version": "1.2.0",
      "model_name": "TabModel",
      "state": {
       "_titles": {
        "0": "1. Data Loading",
        "1": "2. Data Processing",
        "2": "3. Model Selection",
        "3": "4. Visualisation"
       },
       "children": [
        "IPY_MODEL_6ea203d56a2c4feeb1634e32cf213b70",
        "IPY_MODEL_dddbb40833f847a292dff2982170574e",
        "IPY_MODEL_c10071d3cb7b4ea28d84720554f93a87",
        "IPY_MODEL_f7689a8d7ca049dc90b13eea47ec26be"
       ],
       "layout": "IPY_MODEL_4c135bdf4647475899cdea7548305845"
      }
     },
     "a62fe0dcb55a4b0cb575bfbef4131fed": {
      "model_module": "@jupyter-widgets/controls",
      "model_module_version": "1.2.0",
      "model_name": "DescriptionStyleModel",
      "state": {
       "description_width": ""
      }
     },
     "a64e3f451c4f43a9b68d86f420c11810": {
      "model_module": "@jupyter-widgets/base",
      "model_module_version": "1.0.0",
      "model_name": "LayoutModel",
      "state": {}
     },
     "a685310469a84f5bae327a8a7204583c": {
      "model_module": "@jupyter-widgets/controls",
      "model_module_version": "1.2.0",
      "model_name": "DescriptionStyleModel",
      "state": {
       "description_width": ""
      }
     },
     "a688344937b546989ceccc279590f26c": {
      "model_module": "@jupyter-widgets/controls",
      "model_module_version": "1.2.0",
      "model_name": "DescriptionStyleModel",
      "state": {
       "description_width": ""
      }
     },
     "a6b3814d62744bb89a131a000f1059fb": {
      "model_module": "@jupyter-widgets/base",
      "model_module_version": "1.0.0",
      "model_name": "LayoutModel",
      "state": {}
     },
     "a6e65d138f694a92a1bd736d782f0e1f": {
      "model_module": "@jupyter-widgets/controls",
      "model_module_version": "1.2.0",
      "model_name": "DescriptionStyleModel",
      "state": {
       "description_width": ""
      }
     },
     "a6f32ccca4b44abfa350b065d9657c73": {
      "model_module": "@jupyter-widgets/base",
      "model_module_version": "1.0.0",
      "model_name": "LayoutModel",
      "state": {}
     },
     "a709d3dbfb844c308f2baa65bcf8769c": {
      "model_module": "@jupyter-widgets/controls",
      "model_module_version": "1.2.0",
      "model_name": "DropdownModel",
      "state": {
       "_options_labels": [
        "True",
        "False"
       ],
       "description": "True/False:",
       "index": 0,
       "layout": "IPY_MODEL_ac7f73df73f5413d926d388bfa3cd3df",
       "style": "IPY_MODEL_7fd3a19c2cbd4d15bd2d364f92900c2b"
      }
     },
     "a710cb4e73064aaaab3da871a808fcd9": {
      "model_module": "@jupyter-widgets/base",
      "model_module_version": "1.0.0",
      "model_name": "LayoutModel",
      "state": {}
     },
     "a715442d0a4b4329afdac3cf37d37a28": {
      "model_module": "@jupyter-widgets/controls",
      "model_module_version": "1.2.0",
      "model_name": "DescriptionStyleModel",
      "state": {
       "description_width": ""
      }
     },
     "a7332b7642504989829103914e755f95": {
      "model_module": "@jupyter-widgets/controls",
      "model_module_version": "1.2.0",
      "model_name": "BoundedFloatTextModel",
      "state": {
       "description": "Learn Rate:",
       "layout": "IPY_MODEL_678c2de5671f4e3d9d0642d5c4118daa",
       "max": 1,
       "min": 0.0001,
       "step": 0.005,
       "style": "IPY_MODEL_589b7a89013140f3abd6df3103419ade",
       "value": 0.01
      }
     },
     "a74ffdf3f60244d288069ea34d417145": {
      "model_module": "@jupyter-widgets/base",
      "model_module_version": "1.0.0",
      "model_name": "LayoutModel",
      "state": {}
     },
     "a750140a2b8b4df29f6d4939e397a270": {
      "model_module": "@jupyter-widgets/base",
      "model_module_version": "1.0.0",
      "model_name": "LayoutModel",
      "state": {}
     },
     "a768f44a2449484497e321919b125d1e": {
      "model_module": "@jupyter-widgets/base",
      "model_module_version": "1.0.0",
      "model_name": "LayoutModel",
      "state": {}
     },
     "a797c8608fe04b05bf7aad27aedd6e24": {
      "model_module": "@jupyter-widgets/controls",
      "model_module_version": "1.2.0",
      "model_name": "HBoxModel",
      "state": {
       "children": [
        "IPY_MODEL_4a6ccac021a9419480c8357b84201151",
        "IPY_MODEL_755993ee076f4b1b8592ab3c3fab84e6"
       ],
       "layout": "IPY_MODEL_5dbce84932154f65994fd1ec102bd3de"
      }
     },
     "a7ba0f026d7b4821a76c7ae318b8bc9a": {
      "model_module": "@jupyter-widgets/base",
      "model_module_version": "1.0.0",
      "model_name": "LayoutModel",
      "state": {}
     },
     "a7e42a7d90764a74ac869d57cd17f36c": {
      "model_module": "@jupyter-widgets/controls",
      "model_module_version": "1.2.0",
      "model_name": "TextModel",
      "state": {
       "description": "Horizon .txt:",
       "layout": "IPY_MODEL_f733898e7ff84019a67c8cd1e5511597",
       "style": "IPY_MODEL_332ab6b2d8454a17affa1de6daeaec8e",
       "value": "./data/Top_Heimdal_subset.txt"
      }
     },
     "a8436e4a17ad4a21ad2977b4cae9a37e": {
      "model_module": "@jupyter-widgets/controls",
      "model_module_version": "1.2.0",
      "model_name": "DescriptionStyleModel",
      "state": {
       "description_width": ""
      }
     },
     "a85b34bde7394d18a35ef826863076f8": {
      "model_module": "@jupyter-widgets/controls",
      "model_module_version": "1.2.0",
      "model_name": "VBoxModel",
      "state": {
       "children": [
        "IPY_MODEL_d54613036e4c4a1894d09249266ddfb3",
        "IPY_MODEL_a42701bf97214704a0b43d6c11d262bf",
        "IPY_MODEL_5e80d9064a64450787d730722472f15d",
        "IPY_MODEL_9027a1411e114ac18b4e1aa48b4b795f"
       ],
       "layout": "IPY_MODEL_ab24c93b4aee425a90c24cfd875050d2"
      }
     },
     "a86b3d9050c946f5b1689e473f077e91": {
      "model_module": "@jupyter-widgets/base",
      "model_module_version": "1.0.0",
      "model_name": "LayoutModel",
      "state": {}
     },
     "a8a780336b7142278116b39509084f5e": {
      "model_module": "@jupyter-widgets/base",
      "model_module_version": "1.0.0",
      "model_name": "LayoutModel",
      "state": {}
     },
     "a8a8084e2ac5434280c3f939d60eacaf": {
      "model_module": "@jupyter-widgets/controls",
      "model_module_version": "1.2.0",
      "model_name": "HBoxModel",
      "state": {
       "children": [
        "IPY_MODEL_58b7f19cd0474cceb76ecebc7261538f",
        "IPY_MODEL_9e7162dab3564de9b6c39891c4e4f403"
       ],
       "layout": "IPY_MODEL_135337a6cb3b4cd98fd8a1495d0b8f9e"
      }
     },
     "a8ad96e8312140e3a69c3908a5a77de8": {
      "model_module": "@jupyter-widgets/controls",
      "model_module_version": "1.2.0",
      "model_name": "HTMLModel",
      "state": {
       "layout": "IPY_MODEL_cbb2d539d75c4f41bdc99e384f200cd5",
       "style": "IPY_MODEL_7a52d700232742acbe2c5cb577eca68a",
       "value": "<b>UMAP:<b>"
      }
     },
     "a8c91eb789204377a87c0c9a5ad89c16": {
      "model_module": "@jupyter-widgets/base",
      "model_module_version": "1.0.0",
      "model_name": "LayoutModel",
      "state": {}
     },
     "a8c9db1dedfc419fa97037b320316aa9": {
      "model_module": "@jupyter-widgets/base",
      "model_module_version": "1.0.0",
      "model_name": "LayoutModel",
      "state": {}
     },
     "a9292472173b4546ac56ec2f8bc264f1": {
      "model_module": "@jupyter-widgets/base",
      "model_module_version": "1.0.0",
      "model_name": "LayoutModel",
      "state": {}
     },
     "a961ad36fc34437e945ecfb04eef0719": {
      "model_module": "@jupyter-widgets/base",
      "model_module_version": "1.0.0",
      "model_name": "LayoutModel",
      "state": {}
     },
     "a98403e5945a422c99d7f2fe84daf5ef": {
      "model_module": "@jupyter-widgets/controls",
      "model_module_version": "1.2.0",
      "model_name": "VBoxModel",
      "state": {
       "children": [
        "IPY_MODEL_d377198a287941c2a588859745065638",
        "IPY_MODEL_1dce645d9edd43a1af8b402b6b495e57",
        "IPY_MODEL_ebbf4ddf8f3a4d7ba91a5b8ae5980587",
        "IPY_MODEL_50ccd3ef96cc4f658dac765c981cf56f"
       ],
       "layout": "IPY_MODEL_6a8bdf10c9f74d29975a294fa28aea6f"
      }
     },
     "a98d11ccb49b473bab62b6fe2a89ff02": {
      "model_module": "@jupyter-widgets/controls",
      "model_module_version": "1.2.0",
      "model_name": "HBoxModel",
      "state": {
       "children": [
        "IPY_MODEL_5553203aab6c4b9aa3dc0de6e60e6d0e",
        "IPY_MODEL_f8db67b157404943a3b4e04a89a54b3a"
       ],
       "layout": "IPY_MODEL_423b86d6970c4a5a9b3a3448236083cd"
      }
     },
     "a9906c6cc0564f258ea1bb5ee299386c": {
      "model_module": "@jupyter-widgets/controls",
      "model_module_version": "1.2.0",
      "model_name": "DescriptionStyleModel",
      "state": {
       "description_width": ""
      }
     },
     "a9d4a333f9cb47d8b665dbd5cdcb4bb9": {
      "model_module": "@jupyter-widgets/controls",
      "model_module_version": "1.2.0",
      "model_name": "DescriptionStyleModel",
      "state": {
       "description_width": ""
      }
     },
     "a9e6b68e422742098d7cc764dc7f1423": {
      "model_module": "@jupyter-widgets/base",
      "model_module_version": "1.0.0",
      "model_name": "LayoutModel",
      "state": {}
     },
     "a9eec4071d0446129d6decd41a238c69": {
      "model_module": "@jupyter-widgets/base",
      "model_module_version": "1.0.0",
      "model_name": "LayoutModel",
      "state": {}
     },
     "a9f0c2d4e64a42bba0380e3c76b8049e": {
      "model_module": "@jupyter-widgets/controls",
      "model_module_version": "1.2.0",
      "model_name": "HTMLModel",
      "state": {
       "layout": "IPY_MODEL_2793cf85f02f4cdf82db327a93299465",
       "style": "IPY_MODEL_c67fd6776fae46f08de633ff18ba1e5a",
       "value": "<b>Horizon Flattening:<b>"
      }
     },
     "a9f83324736649e5be74bae04fbc22ab": {
      "model_module": "@jupyter-widgets/controls",
      "model_module_version": "1.2.0",
      "model_name": "DescriptionStyleModel",
      "state": {
       "description_width": ""
      }
     },
     "aa7ff6f2880c44f0b5f67953866aabb7": {
      "model_module": "@jupyter-widgets/controls",
      "model_module_version": "1.2.0",
      "model_name": "IntTextModel",
      "state": {
       "description": "Stop:",
       "layout": "IPY_MODEL_c4c6b11a2e104b50a3606b968897f592",
       "step": 1,
       "style": "IPY_MODEL_721253d0eae6435197a4948a8ba7f540",
       "value": 2002
      }
     },
     "aacc9445656a4e91990a57b3200b1da2": {
      "model_module": "@jupyter-widgets/base",
      "model_module_version": "1.0.0",
      "model_name": "LayoutModel",
      "state": {}
     },
     "aae06b23d98548ee98141012c0835290": {
      "model_module": "@jupyter-widgets/controls",
      "model_module_version": "1.2.0",
      "model_name": "DescriptionStyleModel",
      "state": {
       "description_width": ""
      }
     },
     "aae74f9258ce4383ba3acdd4772dbeb0": {
      "model_module": "@jupyter-widgets/controls",
      "model_module_version": "1.2.0",
      "model_name": "VBoxModel",
      "state": {
       "children": [
        "IPY_MODEL_4bd179c7fdd049c18585a699fd3b29c0",
        "IPY_MODEL_fc1a6a0cd0dd440a985964b19a29beb7"
       ],
       "layout": "IPY_MODEL_aea10c6f98bb437f907180077f664ed8"
      }
     },
     "ab24c93b4aee425a90c24cfd875050d2": {
      "model_module": "@jupyter-widgets/base",
      "model_module_version": "1.0.0",
      "model_name": "LayoutModel",
      "state": {}
     },
     "ab54f830714c4b8297c1a2d2216f1123": {
      "model_module": "@jupyter-widgets/base",
      "model_module_version": "1.0.0",
      "model_name": "LayoutModel",
      "state": {}
     },
     "ab62845a0e7f49edbaddabba09fa6417": {
      "model_module": "@jupyter-widgets/base",
      "model_module_version": "1.0.0",
      "model_name": "LayoutModel",
      "state": {}
     },
     "abd784712bf943a7874159560840295a": {
      "model_module": "@jupyter-widgets/controls",
      "model_module_version": "1.2.0",
      "model_name": "HBoxModel",
      "state": {
       "children": [
        "IPY_MODEL_c557b7041b6046709762f42df428373b",
        "IPY_MODEL_f59b09426a95486d8b6eb69b5eb7ab2f"
       ],
       "layout": "IPY_MODEL_e184b607629a45ea9af4b4c29cdb1f8b"
      }
     },
     "abfb7b837150454eb8da9d58b3918ffb": {
      "model_module": "@jupyter-widgets/base",
      "model_module_version": "1.0.0",
      "model_name": "LayoutModel",
      "state": {}
     },
     "ac010e646d2d46a4beb91e3304c52dc7": {
      "model_module": "@jupyter-widgets/controls",
      "model_module_version": "1.2.0",
      "model_name": "DescriptionStyleModel",
      "state": {
       "description_width": ""
      }
     },
     "ac3a2a6f07a546d0bab4975a7effcaa3": {
      "model_module": "@jupyter-widgets/controls",
      "model_module_version": "1.2.0",
      "model_name": "DescriptionStyleModel",
      "state": {
       "description_width": ""
      }
     },
     "ac465e6b0c6644cdaf047d2b6e0adcad": {
      "model_module": "@jupyter-widgets/controls",
      "model_module_version": "1.2.0",
      "model_name": "DescriptionStyleModel",
      "state": {
       "description_width": ""
      }
     },
     "ac76d07581d6433291cd7fcd4fae3b29": {
      "model_module": "@jupyter-widgets/base",
      "model_module_version": "1.0.0",
      "model_name": "LayoutModel",
      "state": {}
     },
     "ac7f73df73f5413d926d388bfa3cd3df": {
      "model_module": "@jupyter-widgets/base",
      "model_module_version": "1.0.0",
      "model_name": "LayoutModel",
      "state": {}
     },
     "aca17ff60dcf4c898958b8862c194284": {
      "model_module": "@jupyter-widgets/controls",
      "model_module_version": "1.2.0",
      "model_name": "ButtonStyleModel",
      "state": {}
     },
     "aca5ac4d8e7c42038a4aa44923e9dc51": {
      "model_module": "@jupyter-widgets/base",
      "model_module_version": "1.0.0",
      "model_name": "LayoutModel",
      "state": {}
     },
     "acabbce6096e4aea830cba0f2c9f11e6": {
      "model_module": "@jupyter-widgets/controls",
      "model_module_version": "1.2.0",
      "model_name": "HBoxModel",
      "state": {
       "children": [
        "IPY_MODEL_723f6bffdf704b5c8ee2f461ab55f6f3",
        "IPY_MODEL_37bfbb51bc214873b2cd482424adbef5"
       ],
       "layout": "IPY_MODEL_95441a9d8a38480598527dd156d4fe08"
      }
     },
     "ace34aac5a934c0c9439069b45965bde": {
      "model_module": "@jupyter-widgets/controls",
      "model_module_version": "1.2.0",
      "model_name": "IntTextModel",
      "state": {
       "description": "Neighbours:",
       "layout": "IPY_MODEL_f4be170d198e4277aacf1d9b45a3c7e2",
       "step": 1,
       "style": "IPY_MODEL_bc66301bd70d4eacae40086ef31f8a1d",
       "value": 50
      }
     },
     "ad0e8a255227431da2ede865cb599d7e": {
      "model_module": "@jupyter-widgets/base",
      "model_module_version": "1.0.0",
      "model_name": "LayoutModel",
      "state": {}
     },
     "ad1f58b45cae4c37958d72aa5b161327": {
      "model_module": "@jupyter-widgets/controls",
      "model_module_version": "1.2.0",
      "model_name": "VBoxModel",
      "state": {
       "children": [
        "IPY_MODEL_73c82621ef10479cbc2bdede82a88fe7",
        "IPY_MODEL_bfa854b78c3148b0998f30cf14569592",
        "IPY_MODEL_b80d1d6081f841dfbf74c5741f081f17",
        "IPY_MODEL_7b3c486553944f58bf11a9d420256861"
       ],
       "layout": "IPY_MODEL_906672acbcb94ddba78472933ef63cfa"
      }
     },
     "ad377b6a163e4355af40b2a1a1cc641e": {
      "model_module": "@jupyter-widgets/base",
      "model_module_version": "1.0.0",
      "model_name": "LayoutModel",
      "state": {}
     },
     "ad5ccbe1a0464dddbc28d13dd5030e53": {
      "model_module": "@jupyter-widgets/controls",
      "model_module_version": "1.2.0",
      "model_name": "ButtonModel",
      "state": {
       "description": "Run Vae",
       "layout": "IPY_MODEL_5638db2aafaf4c54bfd3730dcdb02f18",
       "style": "IPY_MODEL_45dae3c6ec0a4a36b532e17b56b68f66"
      }
     },
     "ad80db98b3644670a246e082d7421aac": {
      "model_module": "@jupyter-widgets/controls",
      "model_module_version": "1.2.0",
      "model_name": "HBoxModel",
      "state": {
       "children": [
        "IPY_MODEL_89bb06ca5c3c455cb0debe7b52fa5a81",
        "IPY_MODEL_204fb12a671e4374b289e99b9053dac0",
        "IPY_MODEL_e62f763bf4164acdab023b56b9528aca"
       ],
       "layout": "IPY_MODEL_e9829f4dc72d4f78a7b11d98b99cb1a6"
      }
     },
     "ad8b61c70e924f3cabd3eb32a058bb4e": {
      "model_module": "@jupyter-widgets/controls",
      "model_module_version": "1.2.0",
      "model_name": "BoundedFloatTextModel",
      "state": {
       "description": "Min Dist:",
       "layout": "IPY_MODEL_9d78d7f83e584ad9b14358cffb9131b4",
       "max": 1,
       "min": 0.0001,
       "step": 0.0001,
       "style": "IPY_MODEL_e96710b1fede47b4904d1d81941117ea",
       "value": 0.01
      }
     },
     "ad93f00e818d4972b73796c4224d193f": {
      "model_module": "@jupyter-widgets/controls",
      "model_module_version": "1.2.0",
      "model_name": "DescriptionStyleModel",
      "state": {
       "description_width": ""
      }
     },
     "adce6e92df314f5bbfab63786c5293cd": {
      "model_module": "@jupyter-widgets/base",
      "model_module_version": "1.0.0",
      "model_name": "LayoutModel",
      "state": {}
     },
     "ade9a375fcb44c4790276fded88d4514": {
      "model_module": "@jupyter-widgets/base",
      "model_module_version": "1.0.0",
      "model_name": "LayoutModel",
      "state": {}
     },
     "adf3548c11954c81b1724e8e5a589700": {
      "model_module": "@jupyter-widgets/base",
      "model_module_version": "1.0.0",
      "model_name": "LayoutModel",
      "state": {}
     },
     "adff566fbc1046b9b5eedf8a84b39f1a": {
      "model_module": "@jupyter-widgets/base",
      "model_module_version": "1.0.0",
      "model_name": "LayoutModel",
      "state": {}
     },
     "ae1cd9c7a39547deb89235239bd09dd7": {
      "model_module": "@jupyter-widgets/controls",
      "model_module_version": "1.2.0",
      "model_name": "DescriptionStyleModel",
      "state": {
       "description_width": ""
      }
     },
     "ae27871c78d84706af480fae1d2f0f48": {
      "model_module": "@jupyter-widgets/controls",
      "model_module_version": "1.2.0",
      "model_name": "HBoxModel",
      "state": {
       "children": [
        "IPY_MODEL_934fd96be8a24a8aa31bf043d197b890",
        "IPY_MODEL_bd952fab54eb443c95320b289c22201a"
       ],
       "layout": "IPY_MODEL_0d3c7ede3bb7471eb5b3d196344c2825"
      }
     },
     "ae7126bc7c574dfc85db5d23ccf2bff3": {
      "model_module": "@jupyter-widgets/controls",
      "model_module_version": "1.2.0",
      "model_name": "VBoxModel",
      "state": {
       "children": [
        "IPY_MODEL_4a8caddda4c84e97985b2c9bd020baf2",
        "IPY_MODEL_3920c626dc134223a9a00f2b48872e80"
       ],
       "layout": "IPY_MODEL_69aec991ff184fd9ac2ff385f5a5cae2"
      }
     },
     "ae95822a53d441848ea9c8d82368ef5e": {
      "model_module": "@jupyter-widgets/base",
      "model_module_version": "1.0.0",
      "model_name": "LayoutModel",
      "state": {}
     },
     "aea10c6f98bb437f907180077f664ed8": {
      "model_module": "@jupyter-widgets/base",
      "model_module_version": "1.0.0",
      "model_name": "LayoutModel",
      "state": {}
     },
     "aea121c3fb574c469d11dc0689914b80": {
      "model_module": "@jupyter-widgets/base",
      "model_module_version": "1.0.0",
      "model_name": "LayoutModel",
      "state": {}
     },
     "aec22d9de05148b9afbff6cece4b72a0": {
      "model_module": "@jupyter-widgets/controls",
      "model_module_version": "1.2.0",
      "model_name": "DescriptionStyleModel",
      "state": {
       "description_width": ""
      }
     },
     "aef9920f491e4766a7cbadc0dd59c846": {
      "model_module": "@jupyter-widgets/controls",
      "model_module_version": "1.2.0",
      "model_name": "DescriptionStyleModel",
      "state": {
       "description_width": ""
      }
     },
     "af1aedeacb26430aaab8f18814444945": {
      "model_module": "@jupyter-widgets/controls",
      "model_module_version": "1.2.0",
      "model_name": "IntTextModel",
      "state": {
       "description": "Step:",
       "layout": "IPY_MODEL_a2f5dd0527e64001b1b3c071ae6fb461",
       "step": 1,
       "style": "IPY_MODEL_bea9d04162fd4d3bb09ec95078378880",
       "value": 2
      }
     },
     "af1d89ec38d346d2830d6b6edd177770": {
      "model_module": "@jupyter-widgets/base",
      "model_module_version": "1.0.0",
      "model_name": "LayoutModel",
      "state": {}
     },
     "af2503f149794648bb8071b58f7891d5": {
      "model_module": "@jupyter-widgets/base",
      "model_module_version": "1.0.0",
      "model_name": "LayoutModel",
      "state": {}
     },
     "aff5f2b566ac41868b70473d7b986c9a": {
      "model_module": "@jupyter-widgets/base",
      "model_module_version": "1.0.0",
      "model_name": "LayoutModel",
      "state": {}
     },
     "b00d803d735942598b9f46950b96cab1": {
      "model_module": "@jupyter-widgets/controls",
      "model_module_version": "1.2.0",
      "model_name": "DescriptionStyleModel",
      "state": {
       "description_width": ""
      }
     },
     "b019490ef0c74105b85c9ba356d5a13c": {
      "model_module": "@jupyter-widgets/base",
      "model_module_version": "1.0.0",
      "model_name": "LayoutModel",
      "state": {}
     },
     "b032a3e1b35243aa8765d14552c2a1a5": {
      "model_module": "@jupyter-widgets/controls",
      "model_module_version": "1.2.0",
      "model_name": "BoundedFloatTextModel",
      "state": {
       "description": "Learn Rate:",
       "layout": "IPY_MODEL_44ff686d390d44b0ac37cdc6e25d2d75",
       "max": 1,
       "min": 0.0001,
       "step": 0.005,
       "style": "IPY_MODEL_2579afd246b94ab685a7ccd568754ef5",
       "value": 0.01
      }
     },
     "b038cfc5ceab402b99fda7656dbba063": {
      "model_module": "@jupyter-widgets/controls",
      "model_module_version": "1.2.0",
      "model_name": "HTMLModel",
      "state": {
       "layout": "IPY_MODEL_c5f95bba267e43c6aa35ed01cfe8dcae",
       "style": "IPY_MODEL_cfe2cd35685641b58eaa3af847d98b18",
       "value": "<b>Plot parameters:<b>"
      }
     },
     "b07e62d77e344afd98ae5b1776027e68": {
      "model_module": "@jupyter-widgets/controls",
      "model_module_version": "1.2.0",
      "model_name": "VBoxModel",
      "state": {
       "layout": "IPY_MODEL_ea8c52cb58184d9ead8866927c78fc06"
      }
     },
     "b0d45a9c0d8343ba9c91fc4f09d57fec": {
      "model_module": "@jupyter-widgets/controls",
      "model_module_version": "1.2.0",
      "model_name": "IntTextModel",
      "state": {
       "description": "Above Add:",
       "layout": "IPY_MODEL_45878872e65a46d29232f4029069757c",
       "step": 1,
       "style": "IPY_MODEL_5f3466b0e0534464b46dac0581ecd8bd",
       "value": 12
      }
     },
     "b0e038d7506c4e779898a610a5dbdf78": {
      "model_module": "@jupyter-widgets/controls",
      "model_module_version": "1.2.0",
      "model_name": "ButtonModel",
      "state": {
       "description": "Load Data",
       "layout": "IPY_MODEL_6cea37c7b15d4216ac07967b3de12764",
       "style": "IPY_MODEL_77a7e23a92b74a869562b0c46d638196"
      }
     },
     "b0ed01bd986c4ced9ca988b3abb2b043": {
      "model_module": "@jupyter-widgets/base",
      "model_module_version": "1.0.0",
      "model_name": "LayoutModel",
      "state": {}
     },
     "b12081e509e24731ac07ac44d7ae7922": {
      "model_module": "@jupyter-widgets/base",
      "model_module_version": "1.0.0",
      "model_name": "LayoutModel",
      "state": {}
     },
     "b142488b115449c08e1282adff2927fc": {
      "model_module": "@jupyter-widgets/controls",
      "model_module_version": "1.2.0",
      "model_name": "DescriptionStyleModel",
      "state": {
       "description_width": ""
      }
     },
     "b17b39ef67584ce2b6f4537ded7acc11": {
      "model_module": "@jupyter-widgets/controls",
      "model_module_version": "1.2.0",
      "model_name": "HBoxModel",
      "state": {
       "children": [
        "IPY_MODEL_1c1efe60608244c08a9e0d346e6e6e65",
        "IPY_MODEL_8b4dbf5666f149da859d9a856a7ff42f"
       ],
       "layout": "IPY_MODEL_8a15b9a35588414da686ce6d7fcc4858"
      }
     },
     "b1a5e1e1e5cd4438a0f4cd6e8762ab22": {
      "model_module": "@jupyter-widgets/controls",
      "model_module_version": "1.2.0",
      "model_name": "VBoxModel",
      "state": {
       "children": [
        "IPY_MODEL_acabbce6096e4aea830cba0f2c9f11e6"
       ],
       "layout": "IPY_MODEL_206518f92b714421839186bdc63c4808"
      }
     },
     "b1b97a0375c04b2d97bd84c55a116833": {
      "model_module": "@jupyter-widgets/controls",
      "model_module_version": "1.2.0",
      "model_name": "ButtonStyleModel",
      "state": {}
     },
     "b1d3d148f4aa432ba97a4bd0f17e8331": {
      "model_module": "@jupyter-widgets/base",
      "model_module_version": "1.0.0",
      "model_name": "LayoutModel",
      "state": {}
     },
     "b1eecf1497634fc08ccaf89ed74456b7": {
      "model_module": "@jupyter-widgets/controls",
      "model_module_version": "1.2.0",
      "model_name": "AccordionModel",
      "state": {
       "_titles": {
        "0": "UMAP",
        "1": "VAE",
        "2": "β-VAE"
       },
       "children": [
        "IPY_MODEL_58ee7926acd44740b38fda741f74278a",
        "IPY_MODEL_4dfe7d96aa6d4047adbb154072450b71",
        "IPY_MODEL_1cbf21ff4bd543e084f3d7ae0b61fb9e"
       ],
       "layout": "IPY_MODEL_28fa0e976b4c45968f53f1e392548da4"
      }
     },
     "b1f39bc610c842bbb136517452825ee5": {
      "model_module": "@jupyter-widgets/base",
      "model_module_version": "1.0.0",
      "model_name": "LayoutModel",
      "state": {}
     },
     "b1fdfcc3aa064b69b0f5c098c551011b": {
      "model_module": "@jupyter-widgets/controls",
      "model_module_version": "1.2.0",
      "model_name": "DescriptionStyleModel",
      "state": {
       "description_width": ""
      }
     },
     "b218bd3a481d47e4a47e28bd7f7fb4a4": {
      "model_module": "@jupyter-widgets/base",
      "model_module_version": "1.0.0",
      "model_name": "LayoutModel",
      "state": {}
     },
     "b223cb7f93564f918efcc0624dac6823": {
      "model_module": "@jupyter-widgets/controls",
      "model_module_version": "1.2.0",
      "model_name": "VBoxModel",
      "state": {
       "layout": "IPY_MODEL_488747671bc048efa780165578838653"
      }
     },
     "b229c268306d4a4c97fa24a38b3e3d1d": {
      "model_module": "@jupyter-widgets/controls",
      "model_module_version": "1.2.0",
      "model_name": "BoundedFloatTextModel",
      "state": {
       "description": "Learn Rate:",
       "layout": "IPY_MODEL_ea7a2a37be934bf6b33ee758b66988f3",
       "max": 1,
       "min": 0.0001,
       "step": 0.005,
       "style": "IPY_MODEL_24983c0f2d2d47c39a0ed5c8c3345f29",
       "value": 0.01
      }
     },
     "b24e5b1b5da94dc09c319d3482aae6a0": {
      "model_module": "@jupyter-widgets/base",
      "model_module_version": "1.0.0",
      "model_name": "LayoutModel",
      "state": {}
     },
     "b2546308221344da851e439c26d1e01d": {
      "model_module": "@jupyter-widgets/controls",
      "model_module_version": "1.2.0",
      "model_name": "DescriptionStyleModel",
      "state": {
       "description_width": ""
      }
     },
     "b25a259d08df40deb71314888d963c61": {
      "model_module": "@jupyter-widgets/controls",
      "model_module_version": "1.2.0",
      "model_name": "HTMLModel",
      "state": {
       "layout": "IPY_MODEL_79b2a9ceeb424c2a80e412596d7a0d26",
       "style": "IPY_MODEL_6f45a73e3eb948fd94bbcfdd4c659d2d",
       "value": "<b>UMAP:<b>"
      }
     },
     "b26fbee8881d4d42ba254c23acfc7708": {
      "model_module": "@jupyter-widgets/controls",
      "model_module_version": "1.2.0",
      "model_name": "TextModel",
      "state": {
       "description": "Near SEGY:",
       "layout": "IPY_MODEL_6275f9f3b0b74546af3ed61696e454ed",
       "style": "IPY_MODEL_14141a60afe7426fb6c8454ae2732b53",
       "value": "./data/3d_nearstack.sgy"
      }
     },
     "b271eae820504915b8bec7c1a34f94a7": {
      "model_module": "@jupyter-widgets/base",
      "model_module_version": "1.0.0",
      "model_name": "LayoutModel",
      "state": {}
     },
     "b28f5a7c9d0940bdbb9aea7e775fa452": {
      "model_module": "@jupyter-widgets/controls",
      "model_module_version": "1.2.0",
      "model_name": "DescriptionStyleModel",
      "state": {
       "description_width": ""
      }
     },
     "b2cf9b788eb942af9d841ebebb796e9c": {
      "model_module": "@jupyter-widgets/controls",
      "model_module_version": "1.2.0",
      "model_name": "IntTextModel",
      "state": {
       "description": "Above Add:",
       "layout": "IPY_MODEL_be9f005d7c3c4c5fbd8bb092dab7e387",
       "step": 1,
       "style": "IPY_MODEL_f594f5cefbbc4b90914cb6caba0a2bb5",
       "value": 12
      }
     },
     "b31d6235c80a407289c649f1b6a696bb": {
      "model_module": "@jupyter-widgets/controls",
      "model_module_version": "1.2.0",
      "model_name": "TextModel",
      "state": {
       "description": "Near SEGY:",
       "layout": "IPY_MODEL_e2f44307ffbe4c7bbe56a89806fe219c",
       "style": "IPY_MODEL_0cfb62e7a28846d497e67ecc769b459b",
       "value": "./data/3d_nearstack.sgy"
      }
     },
     "b32dcb7fcf1a419daea4fa781aeb0a67": {
      "model_module": "@jupyter-widgets/controls",
      "model_module_version": "1.2.0",
      "model_name": "IntTextModel",
      "state": {
       "description": "Above Add:",
       "layout": "IPY_MODEL_57cea9dc863242b688362dd40df46fb5",
       "step": 1,
       "style": "IPY_MODEL_6f159134bec545baa18b95610e9c2ac4",
       "value": 12
      }
     },
     "b34c03b09dfe4a10b41e994eceff3d4f": {
      "model_module": "@jupyter-widgets/base",
      "model_module_version": "1.0.0",
      "model_name": "LayoutModel",
      "state": {}
     },
     "b3565b1c20b04699afcd0953dfd7c7b4": {
      "model_module": "@jupyter-widgets/base",
      "model_module_version": "1.0.0",
      "model_name": "LayoutModel",
      "state": {}
     },
     "b374cbc665b847db978b1a32b8342cc4": {
      "model_module": "@jupyter-widgets/controls",
      "model_module_version": "1.2.0",
      "model_name": "ButtonModel",
      "state": {
       "description": "Run Vae",
       "layout": "IPY_MODEL_e692d2492d354ef2aef791b880bf99b8",
       "style": "IPY_MODEL_b1b97a0375c04b2d97bd84c55a116833"
      }
     },
     "b3836edea5a24d1db2e54012e2857f85": {
      "model_module": "@jupyter-widgets/controls",
      "model_module_version": "1.2.0",
      "model_name": "TextModel",
      "state": {
       "description": "Far SEGY:",
       "layout": "IPY_MODEL_e90f004cdb8b4cbda5ed481aecac7eef",
       "style": "IPY_MODEL_d8cfb29f7b1144d1ae575defd92d08cb",
       "value": "./data/3d_farstack.sgy"
      }
     },
     "b387c3dd73bc4852be445ca36e550cf1": {
      "model_module": "@jupyter-widgets/base",
      "model_module_version": "1.0.0",
      "model_name": "LayoutModel",
      "state": {}
     },
     "b3affa8faae8463cb795cd3e16b75ace": {
      "model_module": "@jupyter-widgets/base",
      "model_module_version": "1.0.0",
      "model_name": "LayoutModel",
      "state": {}
     },
     "b3b0de8d07f8475297272ea07946485a": {
      "model_module": "@jupyter-widgets/controls",
      "model_module_version": "1.2.0",
      "model_name": "DescriptionStyleModel",
      "state": {
       "description_width": ""
      }
     },
     "b3bafc55ee2741a999a581f4cf8a5a1a": {
      "model_module": "@jupyter-widgets/controls",
      "model_module_version": "1.2.0",
      "model_name": "DescriptionStyleModel",
      "state": {
       "description_width": ""
      }
     },
     "b415bd4b4e524e6091b6e799ca84ae53": {
      "model_module": "@jupyter-widgets/base",
      "model_module_version": "1.0.0",
      "model_name": "LayoutModel",
      "state": {}
     },
     "b42e10e58d4244fd9df70094663ee699": {
      "model_module": "@jupyter-widgets/controls",
      "model_module_version": "1.2.0",
      "model_name": "HBoxModel",
      "state": {
       "children": [
        "IPY_MODEL_107f99fa4a544e52bae3ab63519969e5",
        "IPY_MODEL_01e43f54973e433e9eb926e65f16e6b8"
       ],
       "layout": "IPY_MODEL_54923a6b15e5460f82688c3a7bae0e3c"
      }
     },
     "b4367ca26a594f319c7e2357aac91478": {
      "model_module": "@jupyter-widgets/controls",
      "model_module_version": "1.2.0",
      "model_name": "DescriptionStyleModel",
      "state": {
       "description_width": ""
      }
     },
     "b44287551601433fa231609e707cdea3": {
      "model_module": "@jupyter-widgets/controls",
      "model_module_version": "1.2.0",
      "model_name": "HBoxModel",
      "state": {
       "children": [
        "IPY_MODEL_8d9855f362f64418886228cddd3d4228",
        "IPY_MODEL_6a65f2cb42814431ba99c2e75b9dbf52",
        "IPY_MODEL_1820bcc468314cdebdbdcc252c7f6df5"
       ],
       "layout": "IPY_MODEL_206ffb3035d44df3959a18cee6be999b"
      }
     },
     "b445e9be866c4665ac4c77f320602ab3": {
      "model_module": "@jupyter-widgets/base",
      "model_module_version": "1.0.0",
      "model_name": "LayoutModel",
      "state": {
       "border": "4px solid red"
      }
     },
     "b44f12e2420d4c5aaf16cfc9ab137e4a": {
      "model_module": "@jupyter-widgets/base",
      "model_module_version": "1.0.0",
      "model_name": "LayoutModel",
      "state": {}
     },
     "b4536ea97ba6448a90a4b2e6ffe123ae": {
      "model_module": "@jupyter-widgets/controls",
      "model_module_version": "1.2.0",
      "model_name": "DescriptionStyleModel",
      "state": {
       "description_width": ""
      }
     },
     "b4867fd88c9744e498075daa6bab9a1e": {
      "model_module": "@jupyter-widgets/controls",
      "model_module_version": "1.2.0",
      "model_name": "ButtonStyleModel",
      "state": {}
     },
     "b4a515beae384b2daa4e71e6d1a55e20": {
      "model_module": "@jupyter-widgets/controls",
      "model_module_version": "1.2.0",
      "model_name": "HBoxModel",
      "state": {
       "children": [
        "IPY_MODEL_4c49f2c5c8c4469f853e327b387cb2af",
        "IPY_MODEL_35bc2906ed9a463f8c96418b4d901e38"
       ],
       "layout": "IPY_MODEL_731cdd47778d415999bf8044ac427b01"
      }
     },
     "b4bf5f07f4ad468a8423495fd1b39386": {
      "model_module": "@jupyter-widgets/base",
      "model_module_version": "1.0.0",
      "model_name": "LayoutModel",
      "state": {}
     },
     "b4ecbd8f1aa64caea5360da15f04daab": {
      "model_module": "@jupyter-widgets/controls",
      "model_module_version": "1.2.0",
      "model_name": "ButtonStyleModel",
      "state": {}
     },
     "b5054704ea124e41a81c2f63553af1f7": {
      "model_module": "@jupyter-widgets/base",
      "model_module_version": "1.0.0",
      "model_name": "LayoutModel",
      "state": {}
     },
     "b50633cad94e48a98e2b38da91769ea1": {
      "model_module": "@jupyter-widgets/base",
      "model_module_version": "1.0.0",
      "model_name": "LayoutModel",
      "state": {}
     },
     "b528232e803a49c986b22bdc382bc567": {
      "model_module": "@jupyter-widgets/controls",
      "model_module_version": "1.2.0",
      "model_name": "IntTextModel",
      "state": {
       "description": "Epochs:",
       "layout": "IPY_MODEL_a8c91eb789204377a87c0c9a5ad89c16",
       "step": 1,
       "style": "IPY_MODEL_2c3ad4a9e65d48b9a8fd5c17685b3db7",
       "value": 3
      }
     },
     "b54a67b947714de7ac897de3b4d22eeb": {
      "model_module": "@jupyter-widgets/controls",
      "model_module_version": "1.2.0",
      "model_name": "DescriptionStyleModel",
      "state": {
       "description_width": ""
      }
     },
     "b559651074a7496493a79f7d5dbb4c95": {
      "model_module": "@jupyter-widgets/controls",
      "model_module_version": "1.2.0",
      "model_name": "VBoxModel",
      "state": {
       "children": [
        "IPY_MODEL_487ec3356eec4f3c93f628aa09307eb7",
        "IPY_MODEL_070f3133405041d093abab4ed9e0ce12",
        "IPY_MODEL_754d8cf84cee4977963eaf774161b755",
        "IPY_MODEL_93c056e356d24fb581f4bebeab6c31d7"
       ],
       "layout": "IPY_MODEL_3db1dbb6a9824bf29e9a620d1b2837ad"
      }
     },
     "b568b13d0cf34eb1a587ee4ba6d6bee2": {
      "model_module": "@jupyter-widgets/base",
      "model_module_version": "1.0.0",
      "model_name": "LayoutModel",
      "state": {}
     },
     "b57687a658c74eafb4c54d54af444ce9": {
      "model_module": "@jupyter-widgets/base",
      "model_module_version": "1.0.0",
      "model_name": "LayoutModel",
      "state": {}
     },
     "b5955232e0894a2385cd995c1d3b0829": {
      "model_module": "@jupyter-widgets/controls",
      "model_module_version": "1.2.0",
      "model_name": "DescriptionStyleModel",
      "state": {
       "description_width": ""
      }
     },
     "b5b18e4be09c4b419d9273906cb3a75a": {
      "model_module": "@jupyter-widgets/controls",
      "model_module_version": "1.2.0",
      "model_name": "HTMLModel",
      "state": {
       "layout": "IPY_MODEL_2c0ee12df9dc4ec7a630dd14816e9f7f",
       "style": "IPY_MODEL_fd6f1312fdbd4a0fbbe320d62f8ea187",
       "value": "<b>File Pathnames:<b>"
      }
     },
     "b5b2acdb12784ace8accb66953dc74b2": {
      "model_module": "@jupyter-widgets/controls",
      "model_module_version": "1.2.0",
      "model_name": "ButtonStyleModel",
      "state": {}
     },
     "b5ba200dcb8d410990459f70503806df": {
      "model_module": "@jupyter-widgets/base",
      "model_module_version": "1.0.0",
      "model_name": "LayoutModel",
      "state": {}
     },
     "b5c10e990ada448f8986ace9bd01bca1": {
      "model_module": "@jupyter-widgets/controls",
      "model_module_version": "1.2.0",
      "model_name": "DescriptionStyleModel",
      "state": {
       "description_width": ""
      }
     },
     "b6401d4ee0a14c4aa25651ba8a40f482": {
      "model_module": "@jupyter-widgets/controls",
      "model_module_version": "1.2.0",
      "model_name": "DescriptionStyleModel",
      "state": {
       "description_width": ""
      }
     },
     "b66188a3f99b4d9083f92fea1cd94b12": {
      "model_module": "@jupyter-widgets/controls",
      "model_module_version": "1.2.0",
      "model_name": "DescriptionStyleModel",
      "state": {
       "description_width": ""
      }
     },
     "b669e7256e3e41aeb3510d1085b0a8a1": {
      "model_module": "@jupyter-widgets/base",
      "model_module_version": "1.0.0",
      "model_name": "LayoutModel",
      "state": {}
     },
     "b6982ed9f66541e09eb532e55ee9140c": {
      "model_module": "@jupyter-widgets/controls",
      "model_module_version": "1.2.0",
      "model_name": "ButtonModel",
      "state": {
       "description": "Run Vae",
       "layout": "IPY_MODEL_753e0c23bd4d4d35876e1d93a5fb38ab",
       "style": "IPY_MODEL_b6e08d0539214fdabc182fa2ca0cd60c"
      }
     },
     "b6dd018d183e4cbe8cfcb62c770c8637": {
      "model_module": "@jupyter-widgets/base",
      "model_module_version": "1.0.0",
      "model_name": "LayoutModel",
      "state": {}
     },
     "b6e08d0539214fdabc182fa2ca0cd60c": {
      "model_module": "@jupyter-widgets/controls",
      "model_module_version": "1.2.0",
      "model_name": "ButtonStyleModel",
      "state": {}
     },
     "b70de4cc12e7496d91d1da064dd29f9a": {
      "model_module": "@jupyter-widgets/controls",
      "model_module_version": "1.2.0",
      "model_name": "DescriptionStyleModel",
      "state": {
       "description_width": ""
      }
     },
     "b714d900b0564f478ab9d085d083e460": {
      "model_module": "@jupyter-widgets/controls",
      "model_module_version": "1.2.0",
      "model_name": "TextModel",
      "state": {
       "description": "Near SEGY:",
       "layout": "IPY_MODEL_30e62cec63864f198976a7c7792643f2",
       "style": "IPY_MODEL_ba8e8d61194046ee836ae02c204d4541",
       "value": "./data/3d_nearstack.sgy"
      }
     },
     "b71ca4771e6345a7948388d423793c48": {
      "model_module": "@jupyter-widgets/base",
      "model_module_version": "1.0.0",
      "model_name": "LayoutModel",
      "state": {}
     },
     "b73f41b4c0c7422fbc357285cec78085": {
      "model_module": "@jupyter-widgets/base",
      "model_module_version": "1.0.0",
      "model_name": "LayoutModel",
      "state": {}
     },
     "b78d51f72f2b4e7d9f511ca956ac2204": {
      "model_module": "@jupyter-widgets/controls",
      "model_module_version": "1.2.0",
      "model_name": "DescriptionStyleModel",
      "state": {
       "description_width": ""
      }
     },
     "b78e6af37ee64800a2dae61eea4b0469": {
      "model_module": "@jupyter-widgets/base",
      "model_module_version": "1.0.0",
      "model_name": "LayoutModel",
      "state": {}
     },
     "b7a700b5d59944dfb9328575e5d5f93f": {
      "model_module": "@jupyter-widgets/controls",
      "model_module_version": "1.2.0",
      "model_name": "VBoxModel",
      "state": {
       "layout": "IPY_MODEL_705b9aa9d2054b65a480811bcf80ba79"
      }
     },
     "b7b7f6835bd64d03ba398f572daaeebc": {
      "model_module": "@jupyter-widgets/controls",
      "model_module_version": "1.2.0",
      "model_name": "DescriptionStyleModel",
      "state": {
       "description_width": ""
      }
     },
     "b7d8292eda6a4d99961ecb853d817b9d": {
      "model_module": "@jupyter-widgets/controls",
      "model_module_version": "1.2.0",
      "model_name": "ButtonModel",
      "state": {
       "description": "Run Umap",
       "layout": "IPY_MODEL_4f86b4263b3e435dbe3912fcc8848c9c",
       "style": "IPY_MODEL_5ebda386a56447b3a23995f9082588dc"
      }
     },
     "b80d1d6081f841dfbf74c5741f081f17": {
      "model_module": "@jupyter-widgets/controls",
      "model_module_version": "1.2.0",
      "model_name": "IntTextModel",
      "state": {
       "description": "Above Add:",
       "layout": "IPY_MODEL_55d34667a0124999818d22098683495c",
       "step": 1,
       "style": "IPY_MODEL_0852caaa326f45289ade1463212e6829",
       "value": 12
      }
     },
     "b8187d4ec1ae49488be03bdff386fe8f": {
      "model_module": "@jupyter-widgets/base",
      "model_module_version": "1.0.0",
      "model_name": "LayoutModel",
      "state": {}
     },
     "b839c55c584e46ebadaee4ea328f3eea": {
      "model_module": "@jupyter-widgets/controls",
      "model_module_version": "1.2.0",
      "model_name": "TextModel",
      "state": {
       "description": "Near SEGY:",
       "layout": "IPY_MODEL_2d20ce06b1b14b67bb49872602496be3",
       "style": "IPY_MODEL_0646d7ff59c144bcbad2d5eb90013fe3",
       "value": "./data/3d_nearstack.sgy"
      }
     },
     "b855425b3f7d4f1c90604178eab2afc8": {
      "model_module": "@jupyter-widgets/base",
      "model_module_version": "1.0.0",
      "model_name": "LayoutModel",
      "state": {}
     },
     "b858159a2f9e4464b05f0248eff77634": {
      "model_module": "@jupyter-widgets/controls",
      "model_module_version": "1.2.0",
      "model_name": "ButtonStyleModel",
      "state": {}
     },
     "b89c73fd2efb41ffa7fabbf6ec85db25": {
      "model_module": "@jupyter-widgets/controls",
      "model_module_version": "1.2.0",
      "model_name": "VBoxModel",
      "state": {
       "children": [
        "IPY_MODEL_fac678b798b24b789bcb14b3cf97937d",
        "IPY_MODEL_395dd62541e744b6ae0bf36037418267",
        "IPY_MODEL_7ed6726185d54e878ebb8d4c903287af",
        "IPY_MODEL_9b80e6ef32b5403db8c5c40a17e7c877"
       ],
       "layout": "IPY_MODEL_f0b3622a86044b89af10446944e3881d"
      }
     },
     "b8a545a7f8ce4ad8bde0250c8095d003": {
      "model_module": "@jupyter-widgets/controls",
      "model_module_version": "1.2.0",
      "model_name": "ButtonStyleModel",
      "state": {}
     },
     "b8b0356140494df6a0065d47af9f22b0": {
      "model_module": "@jupyter-widgets/controls",
      "model_module_version": "1.2.0",
      "model_name": "HTMLModel",
      "state": {
       "layout": "IPY_MODEL_1adce55180434603a944528d08fb8138",
       "style": "IPY_MODEL_6d7228214ae244b0898d8ab9ae762b76",
       "value": "<b>VAE->UMAP 2-D parameters:<b>"
      }
     },
     "b8cb9fdc97df4a8fbf0b72e4a0ff8e61": {
      "model_module": "@jupyter-widgets/controls",
      "model_module_version": "1.2.0",
      "model_name": "DescriptionStyleModel",
      "state": {
       "description_width": ""
      }
     },
     "b8ce6fc88ad44f23baa76973b04eb8a9": {
      "model_module": "@jupyter-widgets/controls",
      "model_module_version": "1.2.0",
      "model_name": "IntTextModel",
      "state": {
       "description": "Below Add:",
       "layout": "IPY_MODEL_44b13c43f8d84ff58819be1fa7c60a2d",
       "step": 1,
       "style": "IPY_MODEL_6e54328426e14688b583643f62cd4b40",
       "value": 52
      }
     },
     "b91aba365a944faea67a567f7873878c": {
      "model_module": "@jupyter-widgets/controls",
      "model_module_version": "1.2.0",
      "model_name": "DescriptionStyleModel",
      "state": {
       "description_width": ""
      }
     },
     "b9470df5266240b7bdaa68a9d5a20db6": {
      "model_module": "@jupyter-widgets/controls",
      "model_module_version": "1.2.0",
      "model_name": "VBoxModel",
      "state": {
       "children": [
        "IPY_MODEL_ad80db98b3644670a246e082d7421aac",
        "IPY_MODEL_c05bf34c89eb4997ac731364881f746d"
       ],
       "layout": "IPY_MODEL_70b981d30150473eb1d874aaed34ccb5"
      }
     },
     "b94765a544f94790ae942690f555de39": {
      "model_module": "@jupyter-widgets/output",
      "model_module_version": "1.0.0",
      "model_name": "OutputModel",
      "state": {
       "layout": "IPY_MODEL_2ab5873ea3584b3abea8d24e929f6b8e"
      }
     },
     "b9b39add6a0a441b8027b086db12dbcc": {
      "model_module": "@jupyter-widgets/base",
      "model_module_version": "1.0.0",
      "model_name": "LayoutModel",
      "state": {}
     },
     "b9bc3252bbd040c6b9101564a79ff87c": {
      "model_module": "@jupyter-widgets/base",
      "model_module_version": "1.0.0",
      "model_name": "LayoutModel",
      "state": {}
     },
     "b9c37407330746e58edee7704f976e06": {
      "model_module": "@jupyter-widgets/base",
      "model_module_version": "1.0.0",
      "model_name": "LayoutModel",
      "state": {}
     },
     "b9dfb8e2f396446ba3392149c5afaff9": {
      "model_module": "@jupyter-widgets/controls",
      "model_module_version": "1.2.0",
      "model_name": "IntTextModel",
      "state": {
       "description": "Step:",
       "layout": "IPY_MODEL_284b54bb808046ae923af9e345fbc304",
       "step": 1,
       "style": "IPY_MODEL_38b28a1ccba040789f178a0016ade713",
       "value": 2
      }
     },
     "b9e2c6d323084720806ccbd9e7b75f29": {
      "model_module": "@jupyter-widgets/controls",
      "model_module_version": "1.2.0",
      "model_name": "TextModel",
      "state": {
       "description": "Horizon .txt:",
       "layout": "IPY_MODEL_5abc819ff3a24574b089d9ade62d69e8",
       "style": "IPY_MODEL_04dcf12e56304391a61cd4dfc2c90a03",
       "value": "./data/Top_Heimdal_subset.txt"
      }
     },
     "ba046625951c456a90b4ff4f920d43c9": {
      "model_module": "@jupyter-widgets/controls",
      "model_module_version": "1.2.0",
      "model_name": "DropdownModel",
      "state": {
       "_options_labels": [
        "horizon",
        "FF"
       ],
       "description": "Plot Attribute:",
       "index": 0,
       "layout": "IPY_MODEL_7e67e578701d44bfb6092e1e18eadf78",
       "style": "IPY_MODEL_2ebee916867b4139b7ad6f543eee0df7"
      }
     },
     "ba8e8d61194046ee836ae02c204d4541": {
      "model_module": "@jupyter-widgets/controls",
      "model_module_version": "1.2.0",
      "model_name": "DescriptionStyleModel",
      "state": {
       "description_width": ""
      }
     },
     "baa14cfe97754fa784f49152b6032483": {
      "model_module": "@jupyter-widgets/base",
      "model_module_version": "1.0.0",
      "model_name": "LayoutModel",
      "state": {}
     },
     "baf712e9bac546d0a0f18f2c8e03bbfb": {
      "model_module": "@jupyter-widgets/base",
      "model_module_version": "1.0.0",
      "model_name": "LayoutModel",
      "state": {}
     },
     "bb04a9e63e98454d8409617b66ab92c2": {
      "model_module": "@jupyter-widgets/base",
      "model_module_version": "1.0.0",
      "model_name": "LayoutModel",
      "state": {}
     },
     "bb06026ce86f49e6a7a65f71ab94b4c0": {
      "model_module": "@jupyter-widgets/controls",
      "model_module_version": "1.2.0",
      "model_name": "VBoxModel",
      "state": {
       "children": [
        "IPY_MODEL_43b206688eac4670ac9df95699df6e12",
        "IPY_MODEL_ee8599f592f24b2fb6020137b3775419",
        "IPY_MODEL_7d455d856f7c43a6a2b82bd5cf35fbff",
        "IPY_MODEL_6813c827b47c44eca2d0d26bff82523d"
       ],
       "layout": "IPY_MODEL_4d4da8c5f28344af95bd9ee9d55d9a25"
      }
     },
     "bb199427c98644f1a5dfecb5cc516e3e": {
      "model_module": "@jupyter-widgets/controls",
      "model_module_version": "1.2.0",
      "model_name": "HBoxModel",
      "state": {
       "children": [
        "IPY_MODEL_8c5adb8fd9314e41990b9147f11af093",
        "IPY_MODEL_1fe4c619552645ea8a95758860d9bb7d",
        "IPY_MODEL_7f5e9598d45a4b69a7d27caa9a5860e0"
       ],
       "layout": "IPY_MODEL_adff566fbc1046b9b5eedf8a84b39f1a"
      }
     },
     "bb2485b0b4984f1996331f562f5fdc8e": {
      "model_module": "@jupyter-widgets/controls",
      "model_module_version": "1.2.0",
      "model_name": "ButtonStyleModel",
      "state": {}
     },
     "bb24ee23de4b4cf7863b7a2d6038b818": {
      "model_module": "@jupyter-widgets/base",
      "model_module_version": "1.0.0",
      "model_name": "LayoutModel",
      "state": {}
     },
     "bb51e7ba7e4b46a591247a7c961fc82a": {
      "model_module": "@jupyter-widgets/base",
      "model_module_version": "1.0.0",
      "model_name": "LayoutModel",
      "state": {}
     },
     "bb54ffc5c2bc43dc9db0f1686ca6e4d2": {
      "model_module": "@jupyter-widgets/controls",
      "model_module_version": "1.2.0",
      "model_name": "VBoxModel",
      "state": {
       "children": [
        "IPY_MODEL_dfe736916c84465c9ef1a833a832edfa",
        "IPY_MODEL_4a75897ed6e44444a3eba7350a71f0d8"
       ],
       "layout": "IPY_MODEL_d2c567f397f14a7ea6a25971f39cb2a0"
      }
     },
     "bb6b429f142c483fb189e4e8af40605c": {
      "model_module": "@jupyter-widgets/base",
      "model_module_version": "1.0.0",
      "model_name": "LayoutModel",
      "state": {}
     },
     "bb74c7ae1431495a9f3c106857a07638": {
      "model_module": "@jupyter-widgets/controls",
      "model_module_version": "1.2.0",
      "model_name": "ButtonModel",
      "state": {
       "description": "Run Umap",
       "layout": "IPY_MODEL_6ed6af6f4f9045518d9c6e415236277f",
       "style": "IPY_MODEL_ff5820be55994aeb9ab648877ccdfd30"
      }
     },
     "bb7c378625654ef0899cd61a53257542": {
      "model_module": "@jupyter-widgets/controls",
      "model_module_version": "1.2.0",
      "model_name": "DescriptionStyleModel",
      "state": {
       "description_width": ""
      }
     },
     "bb9770dbe1064700a5418418463325c4": {
      "model_module": "@jupyter-widgets/controls",
      "model_module_version": "1.2.0",
      "model_name": "DescriptionStyleModel",
      "state": {
       "description_width": ""
      }
     },
     "bba01eb9394f40e896513a4778b482c7": {
      "model_module": "@jupyter-widgets/base",
      "model_module_version": "1.0.0",
      "model_name": "LayoutModel",
      "state": {}
     },
     "bbad44108c274c7a90425f53044700d7": {
      "model_module": "@jupyter-widgets/controls",
      "model_module_version": "1.2.0",
      "model_name": "VBoxModel",
      "state": {
       "children": [
        "IPY_MODEL_049d3fd8bf4c4db99c54221c9586cbb8",
        "IPY_MODEL_a384899b375b4b938aadf5b33729b2c5"
       ],
       "layout": "IPY_MODEL_bf316ef28195459cb5dadb36a5e3e6e8"
      }
     },
     "bbb122aac2744391b6069dc3d47ee437": {
      "model_module": "@jupyter-widgets/base",
      "model_module_version": "1.0.0",
      "model_name": "LayoutModel",
      "state": {}
     },
     "bbb718936b104930b1d9ad6865029607": {
      "model_module": "@jupyter-widgets/controls",
      "model_module_version": "1.2.0",
      "model_name": "BoundedFloatTextModel",
      "state": {
       "description": "Min Dist:",
       "layout": "IPY_MODEL_44482c08c4ec4d23959feadd110b6ba4",
       "max": 1,
       "min": 0.0001,
       "step": 0.0001,
       "style": "IPY_MODEL_b78d51f72f2b4e7d9f511ca956ac2204",
       "value": 0.01
      }
     },
     "bbbe43437db0435ab62495af5d341b8e": {
      "model_module": "@jupyter-widgets/base",
      "model_module_version": "1.0.0",
      "model_name": "LayoutModel",
      "state": {}
     },
     "bbc2d48c809b4eadbc93bd197987400b": {
      "model_module": "@jupyter-widgets/controls",
      "model_module_version": "1.2.0",
      "model_name": "HTMLModel",
      "state": {
       "layout": "IPY_MODEL_28d363ca05ce426b8d7ad6ed8d20181e",
       "style": "IPY_MODEL_63b67a8e3c4e471981d0b6e7af9b2ed9",
       "value": "<b>VAE parameters:<b>"
      }
     },
     "bbce94675a0d4dada3e6a9d58cce890d": {
      "model_module": "@jupyter-widgets/controls",
      "model_module_version": "1.2.0",
      "model_name": "VBoxModel",
      "state": {
       "children": [
        "IPY_MODEL_6cfe829d93464994879c6f088f53d21c",
        "IPY_MODEL_69dfade6c2224db98ab592cf021e2d6a",
        "IPY_MODEL_8e4e3beac3704c48b75efb070607a10b",
        "IPY_MODEL_45d761d4785a4b89941b64715ab33da4",
        "IPY_MODEL_6e2c2679749e4710b002ea94de101483"
       ],
       "layout": "IPY_MODEL_bdf5040142a249e59d2edf1316852d29"
      }
     },
     "bbf7011a176a40e38399bc029bcb3454": {
      "model_module": "@jupyter-widgets/controls",
      "model_module_version": "1.2.0",
      "model_name": "VBoxModel",
      "state": {
       "children": [
        "IPY_MODEL_451dc0165af147ef97220051124c8994",
        "IPY_MODEL_1d9eb817b2d94a92828ade0e5e8d005c"
       ],
       "layout": "IPY_MODEL_e0fc2dc259874739b7750c1dfdeec2f0"
      }
     },
     "bc0d0a9527a34519bf6903378f34d0b9": {
      "model_module": "@jupyter-widgets/controls",
      "model_module_version": "1.2.0",
      "model_name": "ButtonStyleModel",
      "state": {}
     },
     "bc0ed36e9adc443cb811304594e6b602": {
      "model_module": "@jupyter-widgets/controls",
      "model_module_version": "1.2.0",
      "model_name": "IntTextModel",
      "state": {
       "description": "Step:",
       "layout": "IPY_MODEL_215464b1cdb748578fe7c189de235042",
       "step": 1,
       "style": "IPY_MODEL_7d469afe43044edda9d4374d99826141",
       "value": 2
      }
     },
     "bc2d480fda494581970923c04eacecb8": {
      "model_module": "@jupyter-widgets/controls",
      "model_module_version": "1.2.0",
      "model_name": "VBoxModel",
      "state": {
       "children": [
        "IPY_MODEL_44e69a971f8240b8b62aaa66a0c87d66",
        "IPY_MODEL_4cf51f746716433c82ebaf2d639547ba"
       ],
       "layout": "IPY_MODEL_1d3ea970412441f4b7a8a81bff075241"
      }
     },
     "bc66301bd70d4eacae40086ef31f8a1d": {
      "model_module": "@jupyter-widgets/controls",
      "model_module_version": "1.2.0",
      "model_name": "DescriptionStyleModel",
      "state": {
       "description_width": ""
      }
     },
     "bc8932083020477ab7f5457b518c9b17": {
      "model_module": "@jupyter-widgets/base",
      "model_module_version": "1.0.0",
      "model_name": "LayoutModel",
      "state": {}
     },
     "bc945ff9f83f41a092d010b2f78d4905": {
      "model_module": "@jupyter-widgets/base",
      "model_module_version": "1.0.0",
      "model_name": "LayoutModel",
      "state": {}
     },
     "bc9a0a3e3e4343359f76cfa9cb4f6468": {
      "model_module": "@jupyter-widgets/controls",
      "model_module_version": "1.2.0",
      "model_name": "HTMLModel",
      "state": {
       "layout": "IPY_MODEL_6e22cbddeb13418cba8beb5ea4a9efeb",
       "style": "IPY_MODEL_9df87394b26d409095f2872f6b191729",
       "value": "<b>Plot parameters:<b>"
      }
     },
     "bcc024a9d1b641ed9b2d5ab89b3921e8": {
      "model_module": "@jupyter-widgets/controls",
      "model_module_version": "1.2.0",
      "model_name": "VBoxModel",
      "state": {
       "children": [
        "IPY_MODEL_e3c347b5658a4c75b7b21fb80e19d6c1",
        "IPY_MODEL_01ce26989252469a8229a07235821461",
        "IPY_MODEL_f3c58116f69646bb8979176413b7107b",
        "IPY_MODEL_66344b5d5a994cbb8a64d2ae672c23e4"
       ],
       "layout": "IPY_MODEL_42628e2ded8f4e8a812584d6231ae16c"
      }
     },
     "bcf6472d14a74be881a53829f163d728": {
      "model_module": "@jupyter-widgets/controls",
      "model_module_version": "1.2.0",
      "model_name": "DescriptionStyleModel",
      "state": {
       "description_width": ""
      }
     },
     "bd02e80875074e8d90c4d0ecb6b767ef": {
      "model_module": "@jupyter-widgets/controls",
      "model_module_version": "1.2.0",
      "model_name": "IntTextModel",
      "state": {
       "description": "Start:",
       "layout": "IPY_MODEL_6969ca7b19dc48549c7121d14469c54c",
       "step": 1,
       "style": "IPY_MODEL_dc8ad3aed8074456b9d58571be97ccec",
       "value": 1300
      }
     },
     "bd0af01903d741beaa517159a8701ec8": {
      "model_module": "@jupyter-widgets/controls",
      "model_module_version": "1.2.0",
      "model_name": "ButtonModel",
      "state": {
       "description": "Process Input",
       "layout": "IPY_MODEL_de9b829fcbf74d22918ebe7feaf79a82",
       "style": "IPY_MODEL_1e9b6268edb34118bc44696af07093a7"
      }
     },
     "bd2590085eef40e393f0d1ea2d55ca1e": {
      "model_module": "@jupyter-widgets/base",
      "model_module_version": "1.0.0",
      "model_name": "LayoutModel",
      "state": {}
     },
     "bd4ba7b9d6924361bf39362bd68e1147": {
      "model_module": "@jupyter-widgets/output",
      "model_module_version": "1.0.0",
      "model_name": "OutputModel",
      "state": {
       "layout": "IPY_MODEL_3cd976215b9c44f68cced610dc4de1e4",
       "outputs": [
        {
         "name": "stdout",
         "output_type": "stream",
         "text": "ModelAgent initialised\nto enter UMAP: (25351, 128)\nUMAP 2-D representation complete\n"
        }
       ]
      }
     },
     "bd4e2f1bff7b4ae69492afd80b520854": {
      "model_module": "@jupyter-widgets/controls",
      "model_module_version": "1.2.0",
      "model_name": "DescriptionStyleModel",
      "state": {
       "description_width": ""
      }
     },
     "bd8c57f8f3454826a15e7cf2070c6221": {
      "model_module": "@jupyter-widgets/base",
      "model_module_version": "1.0.0",
      "model_name": "LayoutModel",
      "state": {}
     },
     "bd9289062a9f45c3bc9730179f1ac93e": {
      "model_module": "@jupyter-widgets/controls",
      "model_module_version": "1.2.0",
      "model_name": "ButtonModel",
      "state": {
       "description": "Clear Output",
       "layout": "IPY_MODEL_d514b30b880444cda2cd6b3aad9158c6",
       "style": "IPY_MODEL_bc0d0a9527a34519bf6903378f34d0b9"
      }
     },
     "bd952fab54eb443c95320b289c22201a": {
      "model_module": "@jupyter-widgets/controls",
      "model_module_version": "1.2.0",
      "model_name": "VBoxModel",
      "state": {
       "layout": "IPY_MODEL_330e290aeeff4109bdd0d114e919dae8"
      }
     },
     "bd9a1bb5c4be4ae9b5f5cfcd6e584772": {
      "model_module": "@jupyter-widgets/controls",
      "model_module_version": "1.2.0",
      "model_name": "HTMLModel",
      "state": {
       "layout": "IPY_MODEL_725dc03a019f44a6819abd20513b8663",
       "style": "IPY_MODEL_840bf7cd54634eb7acad54cf5c149506",
       "value": "<b>X-line range:<b>"
      }
     },
     "bdbfa9b89279499fb64ef77481ba11a7": {
      "model_module": "@jupyter-widgets/base",
      "model_module_version": "1.0.0",
      "model_name": "LayoutModel",
      "state": {}
     },
     "bdcee56c6d5d4ebd89529c95ce8ce208": {
      "model_module": "@jupyter-widgets/controls",
      "model_module_version": "1.2.0",
      "model_name": "IntTextModel",
      "state": {
       "description": "Epochs:",
       "layout": "IPY_MODEL_885b7ba125614757a0a32c81dad93344",
       "step": 1,
       "style": "IPY_MODEL_778df5ecabf64c4a8dd1c932949c26ad",
       "value": 3
      }
     },
     "bdef16ba17314f59879a94cc460ef108": {
      "model_module": "@jupyter-widgets/controls",
      "model_module_version": "1.2.0",
      "model_name": "VBoxModel",
      "state": {
       "children": [
        "IPY_MODEL_9949c1ff2985495eb392a86c76945ff5",
        "IPY_MODEL_ecff67376d634fff8368b2b5a2531ff1",
        "IPY_MODEL_5ffc37a41bbd4279babc8886c2537199",
        "IPY_MODEL_1320002d58ac4b889120bef8f4adca5b"
       ],
       "layout": "IPY_MODEL_340e7a9eec464346aac9f58923d4f1d7"
      }
     },
     "bdf5040142a249e59d2edf1316852d29": {
      "model_module": "@jupyter-widgets/base",
      "model_module_version": "1.0.0",
      "model_name": "LayoutModel",
      "state": {}
     },
     "be09066348b94639a2daa50d3b5d729b": {
      "model_module": "@jupyter-widgets/base",
      "model_module_version": "1.0.0",
      "model_name": "LayoutModel",
      "state": {}
     },
     "be16e094ac71473696c9a0f50e402928": {
      "model_module": "@jupyter-widgets/controls",
      "model_module_version": "1.2.0",
      "model_name": "BoundedFloatTextModel",
      "state": {
       "description": "Learn Rate:",
       "layout": "IPY_MODEL_a606f6e819e2452fb5d9486eafddc9f8",
       "max": 1,
       "min": 0.0001,
       "step": 0.005,
       "style": "IPY_MODEL_fc4f841258404db78d85cc4e43834b5b",
       "value": 0.01
      }
     },
     "be24b917349d4b36992b3508523d2250": {
      "model_module": "@jupyter-widgets/controls",
      "model_module_version": "1.2.0",
      "model_name": "HTMLModel",
      "state": {
       "layout": "IPY_MODEL_5b6935497f224bbbb583995ec572b068",
       "style": "IPY_MODEL_34bbd8ac37fd4d5984d41794adce6bcc",
       "value": "<b>Plot parameters:<b>"
      }
     },
     "be34bdd3dffe49aeb52dd7b90cd0f016": {
      "model_module": "@jupyter-widgets/base",
      "model_module_version": "1.0.0",
      "model_name": "LayoutModel",
      "state": {}
     },
     "be373de46dee4adeb86caefbbae4df39": {
      "model_module": "@jupyter-widgets/controls",
      "model_module_version": "1.2.0",
      "model_name": "DescriptionStyleModel",
      "state": {
       "description_width": ""
      }
     },
     "be7e84067ec240fe95d4b9a31112734a": {
      "model_module": "@jupyter-widgets/base",
      "model_module_version": "1.0.0",
      "model_name": "LayoutModel",
      "state": {}
     },
     "be998247b9eb40bdb5454251efb0481e": {
      "model_module": "@jupyter-widgets/base",
      "model_module_version": "1.0.0",
      "model_name": "LayoutModel",
      "state": {}
     },
     "be9f005d7c3c4c5fbd8bb092dab7e387": {
      "model_module": "@jupyter-widgets/base",
      "model_module_version": "1.0.0",
      "model_name": "LayoutModel",
      "state": {}
     },
     "bea9d04162fd4d3bb09ec95078378880": {
      "model_module": "@jupyter-widgets/controls",
      "model_module_version": "1.2.0",
      "model_name": "DescriptionStyleModel",
      "state": {
       "description_width": ""
      }
     },
     "bf0323dc6468480c9ac83258f5766687": {
      "model_module": "@jupyter-widgets/controls",
      "model_module_version": "1.2.0",
      "model_name": "HTMLModel",
      "state": {
       "layout": "IPY_MODEL_85b0fe31cf264964b9a06ee12084a18a",
       "style": "IPY_MODEL_30855d3bf181422e8415ee8aaddd6271",
       "value": "<b>Normalisation:<b>"
      }
     },
     "bf240919b8c24601b3195cd4ca0966a8": {
      "model_module": "@jupyter-widgets/base",
      "model_module_version": "1.0.0",
      "model_name": "LayoutModel",
      "state": {}
     },
     "bf26bcef65864a43adbeef7db199fc2f": {
      "model_module": "@jupyter-widgets/controls",
      "model_module_version": "1.2.0",
      "model_name": "DescriptionStyleModel",
      "state": {
       "description_width": ""
      }
     },
     "bf316ef28195459cb5dadb36a5e3e6e8": {
      "model_module": "@jupyter-widgets/base",
      "model_module_version": "1.0.0",
      "model_name": "LayoutModel",
      "state": {}
     },
     "bf853ffd2d65439c8f0ee860650c1ad8": {
      "model_module": "@jupyter-widgets/controls",
      "model_module_version": "1.2.0",
      "model_name": "IntTextModel",
      "state": {
       "description": "Stop:",
       "layout": "IPY_MODEL_69b7c726202f40988a7e81dcd20fbb13",
       "step": 1,
       "style": "IPY_MODEL_02f52c4dacb2418ca18ac59ef868c859",
       "value": 2002
      }
     },
     "bfa854b78c3148b0998f30cf14569592": {
      "model_module": "@jupyter-widgets/controls",
      "model_module_version": "1.2.0",
      "model_name": "DropdownModel",
      "state": {
       "_options_labels": [
        "True",
        "False"
       ],
       "description": "True/False:",
       "index": 0,
       "layout": "IPY_MODEL_0e9bc854f8664122b51335ce91d9b75c",
       "style": "IPY_MODEL_05455b45d7ed47e294d067722682a88f"
      }
     },
     "bfc3ecc3a27740d8a643ba3188ad21f7": {
      "model_module": "@jupyter-widgets/controls",
      "model_module_version": "1.2.0",
      "model_name": "DescriptionStyleModel",
      "state": {
       "description_width": ""
      }
     },
     "bfd0529688e34acaa4d0b89ac05bbd73": {
      "model_module": "@jupyter-widgets/controls",
      "model_module_version": "1.2.0",
      "model_name": "ButtonStyleModel",
      "state": {}
     },
     "bff70abf634147e2b155cdf1d719a369": {
      "model_module": "@jupyter-widgets/base",
      "model_module_version": "1.0.0",
      "model_name": "LayoutModel",
      "state": {}
     },
     "bffb5225d1f04f97ae1cb14f361d7909": {
      "model_module": "@jupyter-widgets/output",
      "model_module_version": "1.0.0",
      "model_name": "OutputModel",
      "state": {
       "layout": "IPY_MODEL_08320b894f68460082007f5e14279394"
      }
     },
     "c028de2e8ce64d78befdba23a4ec8dfc": {
      "model_module": "@jupyter-widgets/controls",
      "model_module_version": "1.2.0",
      "model_name": "VBoxModel",
      "state": {
       "layout": "IPY_MODEL_3de48f01521e49f1b0f663ca19f4aed7"
      }
     },
     "c050d24923234585840b7741e36e584c": {
      "model_module": "@jupyter-widgets/controls",
      "model_module_version": "1.2.0",
      "model_name": "DescriptionStyleModel",
      "state": {
       "description_width": ""
      }
     },
     "c05bf34c89eb4997ac731364881f746d": {
      "model_module": "@jupyter-widgets/controls",
      "model_module_version": "1.2.0",
      "model_name": "ButtonModel",
      "state": {
       "description": "Load Data",
       "layout": "IPY_MODEL_29aff6918b88414c86b72aa5750087bf",
       "style": "IPY_MODEL_a56484baffaf495f9089bebc50baf3c8"
      }
     },
     "c0678dc527ad482d890f899edd59a141": {
      "model_module": "@jupyter-widgets/controls",
      "model_module_version": "1.2.0",
      "model_name": "ButtonStyleModel",
      "state": {}
     },
     "c07bc05ffb0f4422a538e5d22c189eed": {
      "model_module": "@jupyter-widgets/controls",
      "model_module_version": "1.2.0",
      "model_name": "DescriptionStyleModel",
      "state": {
       "description_width": ""
      }
     },
     "c086c4dc8dc44e139f2c41aefbb7a67e": {
      "model_module": "@jupyter-widgets/controls",
      "model_module_version": "1.2.0",
      "model_name": "IntTextModel",
      "state": {
       "description": "Latent size:",
       "layout": "IPY_MODEL_9699af51de9b425f86ec33e2ae86b511",
       "step": 1,
       "style": "IPY_MODEL_93673ea55c6d42a094fa2a1f15494c64",
       "value": 8
      }
     },
     "c099c523987640d8908b3886ad90347b": {
      "model_module": "@jupyter-widgets/controls",
      "model_module_version": "1.2.0",
      "model_name": "DescriptionStyleModel",
      "state": {
       "description_width": ""
      }
     },
     "c0a79775bd0c4902a95cf902a8fc6638": {
      "model_module": "@jupyter-widgets/controls",
      "model_module_version": "1.2.0",
      "model_name": "VBoxModel",
      "state": {
       "children": [
        "IPY_MODEL_059a8de7aecd47a2bec89d2b51904462",
        "IPY_MODEL_bd9289062a9f45c3bc9730179f1ac93e",
        "IPY_MODEL_ece7471e8fac44b699ebe64010d618af",
        "IPY_MODEL_74d98513cd3f4d31a6e598c5c2c2fe99"
       ],
       "layout": "IPY_MODEL_cf382db064524f1f8dd9249fa1b5c30e"
      }
     },
     "c0c1c54f774f4e9aaa647abe5bf264a7": {
      "model_module": "@jupyter-widgets/base",
      "model_module_version": "1.0.0",
      "model_name": "LayoutModel",
      "state": {}
     },
     "c10071d3cb7b4ea28d84720554f93a87": {
      "model_module": "@jupyter-widgets/controls",
      "model_module_version": "1.2.0",
      "model_name": "VBoxModel",
      "state": {
       "children": [
        "IPY_MODEL_ae27871c78d84706af480fae1d2f0f48",
        "IPY_MODEL_3d01e626f32041b1be5c1905edf6325e"
       ],
       "layout": "IPY_MODEL_ae95822a53d441848ea9c8d82368ef5e"
      }
     },
     "c108f91e55c143b0b181199a7abbf569": {
      "model_module": "@jupyter-widgets/base",
      "model_module_version": "1.0.0",
      "model_name": "LayoutModel",
      "state": {}
     },
     "c1930deef901440f88ce17eba2ebc86b": {
      "model_module": "@jupyter-widgets/base",
      "model_module_version": "1.0.0",
      "model_name": "LayoutModel",
      "state": {
       "border": "4px solid black"
      }
     },
     "c1a92886d8b04b9e9a8af6e673536398": {
      "model_module": "@jupyter-widgets/controls",
      "model_module_version": "1.2.0",
      "model_name": "BoundedFloatTextModel",
      "state": {
       "description": "Min Dist:",
       "layout": "IPY_MODEL_4a7946429e204474878b0843a7c55dc7",
       "max": 1,
       "min": 0.0001,
       "step": 0.0001,
       "style": "IPY_MODEL_75cc6bad75ae48d089f2b55debdd007a",
       "value": 0.01
      }
     },
     "c1d7a2dc982b4c67a63fca6ec103bd4b": {
      "model_module": "@jupyter-widgets/controls",
      "model_module_version": "1.2.0",
      "model_name": "TextModel",
      "state": {
       "description": "Far SEGY:",
       "layout": "IPY_MODEL_03dd7e50fe34416fa27c33ad16ce86a7",
       "style": "IPY_MODEL_53ce6aa471e142b79b04423726f53517",
       "value": "./data/3d_farstack.sgy"
      }
     },
     "c1df61757c054a8e8e16524252313cd8": {
      "model_module": "@jupyter-widgets/controls",
      "model_module_version": "1.2.0",
      "model_name": "ButtonModel",
      "state": {
       "description": "Load Data",
       "layout": "IPY_MODEL_312d573e57244487be284771fa06de64",
       "style": "IPY_MODEL_ff923b3859aa4e8ea1dfc07943d4eabc"
      }
     },
     "c2376b2fcbf743ac8fd7cb67702642f4": {
      "model_module": "@jupyter-widgets/controls",
      "model_module_version": "1.2.0",
      "model_name": "VBoxModel",
      "state": {
       "children": [
        "IPY_MODEL_88ecb47318cf40d4bf4c0bbcc9b26f4f",
        "IPY_MODEL_ad8b61c70e924f3cabd3eb32a058bb4e",
        "IPY_MODEL_61378193cf5a4c3bbf89eaf53f57b405"
       ],
       "layout": "IPY_MODEL_76e133d26abb42fc9e4d6cbcce9aebe3"
      }
     },
     "c2440c6d7ef2492b9ea2e905ad142e70": {
      "model_module": "@jupyter-widgets/controls",
      "model_module_version": "1.2.0",
      "model_name": "VBoxModel",
      "state": {
       "children": [
        "IPY_MODEL_371449bf4f344a64a6f28fc7a9e292ef",
        "IPY_MODEL_5f82e745971549f292ebe2f6bae4ca85",
        "IPY_MODEL_80fb98671a9f434b8cb4a559181fa150"
       ],
       "layout": "IPY_MODEL_6bcf42e55f1d4ce484551e2c9863bed9"
      }
     },
     "c2827ee7b336487d819eb4e572308291": {
      "model_module": "@jupyter-widgets/controls",
      "model_module_version": "1.2.0",
      "model_name": "DescriptionStyleModel",
      "state": {
       "description_width": ""
      }
     },
     "c288c6f50dcb4a26a73048b850d52d11": {
      "model_module": "@jupyter-widgets/base",
      "model_module_version": "1.0.0",
      "model_name": "LayoutModel",
      "state": {}
     },
     "c29d9953f8344215a5c03fdbc818e3d6": {
      "model_module": "@jupyter-widgets/controls",
      "model_module_version": "1.2.0",
      "model_name": "IntTextModel",
      "state": {
       "description": "Step:",
       "layout": "IPY_MODEL_01d6e8eea24142bdb43562587380a7a4",
       "step": 1,
       "style": "IPY_MODEL_13e32b7bbb674e79970d49dccd7fa924",
       "value": 2
      }
     },
     "c29e8b98cbd94f93b08855c6138cd1e5": {
      "model_module": "@jupyter-widgets/base",
      "model_module_version": "1.0.0",
      "model_name": "LayoutModel",
      "state": {}
     },
     "c29ef59595a44b5b8c2a402784bd4e2b": {
      "model_module": "@jupyter-widgets/base",
      "model_module_version": "1.0.0",
      "model_name": "LayoutModel",
      "state": {}
     },
     "c29f83973ae04a47a37d3048b773993e": {
      "model_module": "@jupyter-widgets/base",
      "model_module_version": "1.0.0",
      "model_name": "LayoutModel",
      "state": {}
     },
     "c2df8401c64b4638b23a4e6c035f3df6": {
      "model_module": "@jupyter-widgets/controls",
      "model_module_version": "1.2.0",
      "model_name": "VBoxModel",
      "state": {
       "children": [
        "IPY_MODEL_f19359d2532c44aabc89c204d0a75c70",
        "IPY_MODEL_bd0af01903d741beaa517159a8701ec8"
       ],
       "layout": "IPY_MODEL_99bd555b6d644a68bf12566aefa0b536"
      }
     },
     "c2e3356a09f04ac0ad50a54ef7085112": {
      "model_module": "@jupyter-widgets/base",
      "model_module_version": "1.0.0",
      "model_name": "LayoutModel",
      "state": {}
     },
     "c2e4b0d6fa6a4a918a9b74240acd0a98": {
      "model_module": "@jupyter-widgets/base",
      "model_module_version": "1.0.0",
      "model_name": "LayoutModel",
      "state": {}
     },
     "c2ec2d58c86b45ddbc04dad2bf7d57c5": {
      "model_module": "@jupyter-widgets/controls",
      "model_module_version": "1.2.0",
      "model_name": "ButtonStyleModel",
      "state": {}
     },
     "c328985dd5cc47b29a6d89e1c7e5f2f8": {
      "model_module": "@jupyter-widgets/base",
      "model_module_version": "1.0.0",
      "model_name": "LayoutModel",
      "state": {}
     },
     "c32fa7e9a0b44d26bc4a766b3901a406": {
      "model_module": "@jupyter-widgets/controls",
      "model_module_version": "1.2.0",
      "model_name": "VBoxModel",
      "state": {
       "layout": "IPY_MODEL_446f5dc4a43749a4bf0a4ce7b643951c"
      }
     },
     "c33acc3414c64e638a61b2fcce678520": {
      "model_module": "@jupyter-widgets/controls",
      "model_module_version": "1.2.0",
      "model_name": "VBoxModel",
      "state": {
       "children": [
        "IPY_MODEL_7b1aece3e3d44430bf549ea12dfe29a1"
       ],
       "layout": "IPY_MODEL_c44fc41a293041b4a504dafea3f6ae3d"
      }
     },
     "c3933e4321a649bbb544d301524b742f": {
      "model_module": "@jupyter-widgets/base",
      "model_module_version": "1.0.0",
      "model_name": "LayoutModel",
      "state": {}
     },
     "c3a6c33044674de49ecb1c46372fc7d9": {
      "model_module": "@jupyter-widgets/controls",
      "model_module_version": "1.2.0",
      "model_name": "HBoxModel",
      "state": {
       "children": [
        "IPY_MODEL_288c25aedd754d439645809515268947",
        "IPY_MODEL_866c3b8b76d04110a47d43d365d8d014"
       ],
       "layout": "IPY_MODEL_861a98256a3549a28dac52df79274e76"
      }
     },
     "c3b7d453f9164449a37e442b849eb671": {
      "model_module": "@jupyter-widgets/controls",
      "model_module_version": "1.2.0",
      "model_name": "VBoxModel",
      "state": {
       "children": [
        "IPY_MODEL_f9a2da1cfd9342a38e2c639493ec4b6e",
        "IPY_MODEL_15bcd7b83ec947d79ddad919ec96a433"
       ],
       "layout": "IPY_MODEL_6eafbac366af4947a41b5834115c2b4e"
      }
     },
     "c3cc1bffc1e0438690e073c8cd63ab80": {
      "model_module": "@jupyter-widgets/controls",
      "model_module_version": "1.2.0",
      "model_name": "DescriptionStyleModel",
      "state": {
       "description_width": ""
      }
     },
     "c3f03ac8f9404df8a08775f536a2a16d": {
      "model_module": "@jupyter-widgets/controls",
      "model_module_version": "1.2.0",
      "model_name": "VBoxModel",
      "state": {
       "children": [
        "IPY_MODEL_a3dd4f64d70740468a29a02462416831",
        "IPY_MODEL_553ee20bb26b4e7084ba9677c9ff2aa4",
        "IPY_MODEL_85c37a867d63456f8000cc6e37271e6e",
        "IPY_MODEL_4ab9dfa419e4415f8481a37cd36c75ee"
       ],
       "layout": "IPY_MODEL_9804391c49744a60b9bef93c4222102e"
      }
     },
     "c42049ef526b43df8d94215eeab7123b": {
      "model_module": "@jupyter-widgets/base",
      "model_module_version": "1.0.0",
      "model_name": "LayoutModel",
      "state": {}
     },
     "c4205a2487b04070b9168c0c9819f806": {
      "model_module": "@jupyter-widgets/controls",
      "model_module_version": "1.2.0",
      "model_name": "HTMLModel",
      "state": {
       "layout": "IPY_MODEL_057670418cb74b37979cde849b3a1a0c",
       "style": "IPY_MODEL_5ce3e85293014d53ba5bb8ac3b25eb7a",
       "value": "<b>X-line range:<b>"
      }
     },
     "c43ea83f616b4c78a795d16d5b52a0ad": {
      "model_module": "@jupyter-widgets/controls",
      "model_module_version": "1.2.0",
      "model_name": "VBoxModel",
      "state": {
       "layout": "IPY_MODEL_bbb122aac2744391b6069dc3d47ee437"
      }
     },
     "c44e951b16354f9e8fd2cce92fb0dcdd": {
      "model_module": "@jupyter-widgets/base",
      "model_module_version": "1.0.0",
      "model_name": "LayoutModel",
      "state": {}
     },
     "c44fc41a293041b4a504dafea3f6ae3d": {
      "model_module": "@jupyter-widgets/base",
      "model_module_version": "1.0.0",
      "model_name": "LayoutModel",
      "state": {}
     },
     "c4524efdefbe40c8a0f0fbf6bc92c13a": {
      "model_module": "@jupyter-widgets/controls",
      "model_module_version": "1.2.0",
      "model_name": "HTMLModel",
      "state": {
       "layout": "IPY_MODEL_276f66af88d741d7a5b6b5e7c9b76dfa",
       "style": "IPY_MODEL_71c6a3e4f85d454fb4cc90e74f3bb331",
       "value": "<b>File Pathnames:<b>"
      }
     },
     "c45ae3140f6a4f03816ca9bbd7165171": {
      "model_module": "@jupyter-widgets/base",
      "model_module_version": "1.0.0",
      "model_name": "LayoutModel",
      "state": {}
     },
     "c48b45329e22466f8ee9f6d04bd92690": {
      "model_module": "@jupyter-widgets/base",
      "model_module_version": "1.0.0",
      "model_name": "LayoutModel",
      "state": {}
     },
     "c49721bf6d0f499d8b9a7a366c5a7a1b": {
      "model_module": "@jupyter-widgets/controls",
      "model_module_version": "1.2.0",
      "model_name": "DropdownModel",
      "state": {
       "_options_labels": [
        "True",
        "False"
       ],
       "description": "True/False:",
       "index": 0,
       "layout": "IPY_MODEL_2a3efd3cf3924b6fb5976de5acdef68c",
       "style": "IPY_MODEL_92ae823a7e95488e986c0a7ceb4cab53"
      }
     },
     "c4998b1f13dc4266b51526f217db3224": {
      "model_module": "@jupyter-widgets/base",
      "model_module_version": "1.0.0",
      "model_name": "LayoutModel",
      "state": {
       "border": "4px solid red"
      }
     },
     "c4c6b11a2e104b50a3606b968897f592": {
      "model_module": "@jupyter-widgets/base",
      "model_module_version": "1.0.0",
      "model_name": "LayoutModel",
      "state": {}
     },
     "c4cb7f7772ab4d10bfb2f411117a2c97": {
      "model_module": "@jupyter-widgets/controls",
      "model_module_version": "1.2.0",
      "model_name": "VBoxModel",
      "state": {
       "children": [
        "IPY_MODEL_1b066079b4f5475ab5caa0c1b48baba9",
        "IPY_MODEL_33caba93c6ac42ed98bcf87fda56c8ad",
        "IPY_MODEL_d94f02bafd4841b1994477f1580a73b0",
        "IPY_MODEL_a5744e5614af4ae2a5e5d365b5f0a5a8",
        "IPY_MODEL_b6982ed9f66541e09eb532e55ee9140c"
       ],
       "layout": "IPY_MODEL_2488e92215a546f181e09095ff150c3f"
      }
     },
     "c528ff0116594c478f1fb031ac832f66": {
      "model_module": "@jupyter-widgets/controls",
      "model_module_version": "1.2.0",
      "model_name": "DropdownModel",
      "state": {
       "_options_labels": [
        "horizon",
        "FF"
       ],
       "description": "Plot Attribute:",
       "index": 0,
       "layout": "IPY_MODEL_573ddd073cd14f6fac33ef20c135d220",
       "style": "IPY_MODEL_e6f2a889c37145839b33a814dd5f3deb"
      }
     },
     "c5301412713b420e9b2e905ce06fb699": {
      "model_module": "@jupyter-widgets/controls",
      "model_module_version": "1.2.0",
      "model_name": "HTMLModel",
      "state": {
       "layout": "IPY_MODEL_e91140233bed4c799c6836d3835438bc",
       "style": "IPY_MODEL_0d7d61fd4a124641ad4c30cf2f89f921",
       "value": "<b>Normalisation:<b>"
      }
     },
     "c534a0bf684843e594189eb4b01a36c1": {
      "model_module": "@jupyter-widgets/controls",
      "model_module_version": "1.2.0",
      "model_name": "DescriptionStyleModel",
      "state": {
       "description_width": ""
      }
     },
     "c54e61c9150c463ba2c2b397725925b6": {
      "model_module": "@jupyter-widgets/controls",
      "model_module_version": "1.2.0",
      "model_name": "IntTextModel",
      "state": {
       "description": "Start:",
       "layout": "IPY_MODEL_ddc2415861a64b2b8f8cc0e5c62a05e7",
       "step": 1,
       "style": "IPY_MODEL_e68a0f94ea634573b3871b4bb0945aad",
       "value": 1500
      }
     },
     "c557b7041b6046709762f42df428373b": {
      "model_module": "@jupyter-widgets/controls",
      "model_module_version": "1.2.0",
      "model_name": "VBoxModel",
      "state": {
       "layout": "IPY_MODEL_af2503f149794648bb8071b58f7891d5"
      }
     },
     "c559b1cbc6a74d818915f769441e12be": {
      "model_module": "@jupyter-widgets/controls",
      "model_module_version": "1.2.0",
      "model_name": "DescriptionStyleModel",
      "state": {
       "description_width": ""
      }
     },
     "c576721f812d4dfea03d4e9aaf3e8b21": {
      "model_module": "@jupyter-widgets/controls",
      "model_module_version": "1.2.0",
      "model_name": "HBoxModel",
      "state": {
       "children": [
        "IPY_MODEL_768d862156624733bf10cbb828c8250c",
        "IPY_MODEL_634e83fa1c494c918843daef9d6819ab"
       ],
       "layout": "IPY_MODEL_2497b97875c645bbb986dc3bc39acccc"
      }
     },
     "c594fcb0d18b460cbcff3f7060469e7b": {
      "model_module": "@jupyter-widgets/base",
      "model_module_version": "1.0.0",
      "model_name": "LayoutModel",
      "state": {}
     },
     "c5bcdf2b65f24054aac3f99324d98448": {
      "model_module": "@jupyter-widgets/controls",
      "model_module_version": "1.2.0",
      "model_name": "DescriptionStyleModel",
      "state": {
       "description_width": ""
      }
     },
     "c5e343bec708447db45a55eaaf3caea8": {
      "model_module": "@jupyter-widgets/base",
      "model_module_version": "1.0.0",
      "model_name": "LayoutModel",
      "state": {}
     },
     "c5edbbe0b42d48b8ad36044a2a480985": {
      "model_module": "@jupyter-widgets/base",
      "model_module_version": "1.0.0",
      "model_name": "LayoutModel",
      "state": {}
     },
     "c5f284d6fb0c406894713556a32eafb8": {
      "model_module": "@jupyter-widgets/controls",
      "model_module_version": "1.2.0",
      "model_name": "TextModel",
      "state": {
       "description": "Horizon .txt:",
       "layout": "IPY_MODEL_c44e951b16354f9e8fd2cce92fb0dcdd",
       "style": "IPY_MODEL_43c8315d145d424085c4df396b7d5041",
       "value": "./data/Top_Heimdal_subset.txt"
      }
     },
     "c5f95bba267e43c6aa35ed01cfe8dcae": {
      "model_module": "@jupyter-widgets/base",
      "model_module_version": "1.0.0",
      "model_name": "LayoutModel",
      "state": {}
     },
     "c5fcf2f2655c48f6b03cab8a8581916d": {
      "model_module": "@jupyter-widgets/base",
      "model_module_version": "1.0.0",
      "model_name": "LayoutModel",
      "state": {}
     },
     "c6192a3d715e49b4a95645c7c69da728": {
      "model_module": "@jupyter-widgets/base",
      "model_module_version": "1.0.0",
      "model_name": "LayoutModel",
      "state": {}
     },
     "c61f9859cb5945da9144330d7c791d82": {
      "model_module": "@jupyter-widgets/controls",
      "model_module_version": "1.2.0",
      "model_name": "BoundedFloatTextModel",
      "state": {
       "description": "Learn Rate:",
       "layout": "IPY_MODEL_66b4405ce1994187a04a2e8299999d7a",
       "max": 1,
       "min": 0.0001,
       "step": 0.005,
       "style": "IPY_MODEL_455ac8129b5b47ffa7f2841378670c01",
       "value": 0.01
      }
     },
     "c621dfe554314cbba0f101480336f500": {
      "model_module": "@jupyter-widgets/base",
      "model_module_version": "1.0.0",
      "model_name": "LayoutModel",
      "state": {}
     },
     "c6260055275048779e04750beac2ec47": {
      "model_module": "@jupyter-widgets/controls",
      "model_module_version": "1.2.0",
      "model_name": "ButtonModel",
      "state": {
       "description": "Run Umap",
       "layout": "IPY_MODEL_64d9ada49402419cae99abf063d645f4",
       "style": "IPY_MODEL_1e3c3d785eed4c2faf91299ca25972ac"
      }
     },
     "c631556f85c346a7b2ef1284d1b0d150": {
      "model_module": "@jupyter-widgets/controls",
      "model_module_version": "1.2.0",
      "model_name": "HTMLModel",
      "state": {
       "layout": "IPY_MODEL_a4759f06e4d94c03bb5cd511909ab48e",
       "style": "IPY_MODEL_50a826034be74c49b7ba176495697d83",
       "value": "<b>File Pathnames:<b>"
      }
     },
     "c6501a0814014455b652469fd2244c50": {
      "model_module": "@jupyter-widgets/controls",
      "model_module_version": "1.2.0",
      "model_name": "VBoxModel",
      "state": {
       "children": [
        "IPY_MODEL_6f844a2cf143436b9d8d212ecf3e3c18",
        "IPY_MODEL_958e974007d94dfca4f0f7d90b1ab22a"
       ],
       "layout": "IPY_MODEL_432f523854e64befa36374a319e8b0e7"
      }
     },
     "c65328882ee749c68974c7f02406fca7": {
      "model_module": "@jupyter-widgets/output",
      "model_module_version": "1.0.0",
      "model_name": "OutputModel",
      "state": {
       "layout": "IPY_MODEL_d0cf1521e69d4a9e8df5b8a39b930a0f"
      }
     },
     "c6628b0d4c42436baadb416831904ded": {
      "model_module": "@jupyter-widgets/controls",
      "model_module_version": "1.2.0",
      "model_name": "DescriptionStyleModel",
      "state": {
       "description_width": ""
      }
     },
     "c66583f56a1542b4a69a6457d0ff3259": {
      "model_module": "@jupyter-widgets/base",
      "model_module_version": "1.0.0",
      "model_name": "LayoutModel",
      "state": {}
     },
     "c6697bffc7704a4d912d3170bafeefff": {
      "model_module": "@jupyter-widgets/controls",
      "model_module_version": "1.2.0",
      "model_name": "DescriptionStyleModel",
      "state": {
       "description_width": ""
      }
     },
     "c6720094730a408bbb3f2f5de12153eb": {
      "model_module": "@jupyter-widgets/base",
      "model_module_version": "1.0.0",
      "model_name": "LayoutModel",
      "state": {}
     },
     "c67d8bfde63b44da9f313fe860bdc6eb": {
      "model_module": "@jupyter-widgets/controls",
      "model_module_version": "1.2.0",
      "model_name": "HBoxModel",
      "state": {
       "children": [
        "IPY_MODEL_0cafd48724374aeb931843cde08f9582",
        "IPY_MODEL_cdb3c0a79dec46899a828a6f73e7d697",
        "IPY_MODEL_a0fdb4abfa344885b0da849b92403c1b"
       ],
       "layout": "IPY_MODEL_7786da041d5243fb8bbf542c0c656cd8"
      }
     },
     "c67fd6776fae46f08de633ff18ba1e5a": {
      "model_module": "@jupyter-widgets/controls",
      "model_module_version": "1.2.0",
      "model_name": "DescriptionStyleModel",
      "state": {
       "description_width": ""
      }
     },
     "c693ceda1191456c85a5e91fa3f6c226": {
      "model_module": "@jupyter-widgets/controls",
      "model_module_version": "1.2.0",
      "model_name": "VBoxModel",
      "state": {
       "children": [
        "IPY_MODEL_43efc8a348094d09982d2a42aa45760a",
        "IPY_MODEL_e89a9c082db74b4bb674d8329073accd",
        "IPY_MODEL_4bcea0840ece4aad9eb80124e4d0514f"
       ],
       "layout": "IPY_MODEL_299cf59b5cee422bb54b4c7a9d5caa26"
      }
     },
     "c6f9ec2d1cdc43eca15406594a73db5b": {
      "model_module": "@jupyter-widgets/base",
      "model_module_version": "1.0.0",
      "model_name": "LayoutModel",
      "state": {}
     },
     "c6fcd872443d4d4b904f492f63d49926": {
      "model_module": "@jupyter-widgets/controls",
      "model_module_version": "1.2.0",
      "model_name": "BoundedFloatTextModel",
      "state": {
       "description": "Min Dist:",
       "layout": "IPY_MODEL_a615e63245144879aa1ca40e0cf1cef7",
       "max": 1,
       "min": 0.001,
       "step": 0.0001,
       "style": "IPY_MODEL_fdc0ca4f3e33441ca06b9e2becc0b69b",
       "value": 0.01
      }
     },
     "c72188291ce945309fe0172cc1de42c5": {
      "model_module": "@jupyter-widgets/base",
      "model_module_version": "1.0.0",
      "model_name": "LayoutModel",
      "state": {}
     },
     "c723b06e1a2f4b40b7e878e7a5d48c77": {
      "model_module": "@jupyter-widgets/base",
      "model_module_version": "1.0.0",
      "model_name": "LayoutModel",
      "state": {}
     },
     "c74854310550422a8397a699efe5eb1f": {
      "model_module": "@jupyter-widgets/base",
      "model_module_version": "1.0.0",
      "model_name": "LayoutModel",
      "state": {}
     },
     "c74f4aa354a24a2cade0e37a2f770209": {
      "model_module": "@jupyter-widgets/base",
      "model_module_version": "1.0.0",
      "model_name": "LayoutModel",
      "state": {}
     },
     "c77dc2502ea3499cb40b83e93efdcfd4": {
      "model_module": "@jupyter-widgets/base",
      "model_module_version": "1.0.0",
      "model_name": "LayoutModel",
      "state": {}
     },
     "c7cfe63a2a004084ace9ee3102f53796": {
      "model_module": "@jupyter-widgets/base",
      "model_module_version": "1.0.0",
      "model_name": "LayoutModel",
      "state": {
       "border": "4px solid red"
      }
     },
     "c7e5c309b26b434686e6b6624b54ac3c": {
      "model_module": "@jupyter-widgets/base",
      "model_module_version": "1.0.0",
      "model_name": "LayoutModel",
      "state": {}
     },
     "c7ecbc0fd30d42a8b92a1d27028d8e7e": {
      "model_module": "@jupyter-widgets/controls",
      "model_module_version": "1.2.0",
      "model_name": "VBoxModel",
      "state": {
       "children": [
        "IPY_MODEL_bbc2d48c809b4eadbc93bd197987400b",
        "IPY_MODEL_9a9ec67caa6749abbe46613f9033c8be",
        "IPY_MODEL_b229c268306d4a4c97fa24a38b3e3d1d",
        "IPY_MODEL_25eb53f5b94a4481a65eaeb46501d58e",
        "IPY_MODEL_78f9a16cfda84fda873447670f415f71"
       ],
       "layout": "IPY_MODEL_fbe128d19f844050b78af858af734501"
      }
     },
     "c80170b83de24eb2b85508c471a6f524": {
      "model_module": "@jupyter-widgets/controls",
      "model_module_version": "1.2.0",
      "model_name": "DescriptionStyleModel",
      "state": {
       "description_width": ""
      }
     },
     "c81fdcef416742f7bd96888145b1cf48": {
      "model_module": "@jupyter-widgets/controls",
      "model_module_version": "1.2.0",
      "model_name": "DescriptionStyleModel",
      "state": {
       "description_width": ""
      }
     },
     "c890554b6a4b4816a5d3232d74635270": {
      "model_module": "@jupyter-widgets/base",
      "model_module_version": "1.0.0",
      "model_name": "LayoutModel",
      "state": {}
     },
     "c890a5da0a354cbca6dc5157488e6b59": {
      "model_module": "@jupyter-widgets/controls",
      "model_module_version": "1.2.0",
      "model_name": "HTMLModel",
      "state": {
       "layout": "IPY_MODEL_2203bab9a2244290af03d9dbeea599ed",
       "style": "IPY_MODEL_b70de4cc12e7496d91d1da064dd29f9a",
       "value": "<b>In-line range:<b>"
      }
     },
     "c8d7fd6615ec468db4a00d3828a4a4f3": {
      "model_module": "@jupyter-widgets/controls",
      "model_module_version": "1.2.0",
      "model_name": "HTMLModel",
      "state": {
       "layout": "IPY_MODEL_d3e6dce4fef247fd8b43969ae9b2b309",
       "style": "IPY_MODEL_aef9920f491e4766a7cbadc0dd59c846",
       "value": "<b>In-line range:<b>"
      }
     },
     "c8dc0d43da1b47e5a666fea35735c391": {
      "model_module": "@jupyter-widgets/base",
      "model_module_version": "1.0.0",
      "model_name": "LayoutModel",
      "state": {}
     },
     "c91e6a1621924ba597c1d3b219a68611": {
      "model_module": "@jupyter-widgets/base",
      "model_module_version": "1.0.0",
      "model_name": "LayoutModel",
      "state": {}
     },
     "c935f63fee6b4dc894573e4cf8ff999b": {
      "model_module": "@jupyter-widgets/controls",
      "model_module_version": "1.2.0",
      "model_name": "DescriptionStyleModel",
      "state": {
       "description_width": ""
      }
     },
     "c973a2b17b084295a1fc0d14ccce43e2": {
      "model_module": "@jupyter-widgets/controls",
      "model_module_version": "1.2.0",
      "model_name": "DescriptionStyleModel",
      "state": {
       "description_width": ""
      }
     },
     "c976ffb3c64646fa94a6bb1b0840ff75": {
      "model_module": "@jupyter-widgets/base",
      "model_module_version": "1.0.0",
      "model_name": "LayoutModel",
      "state": {}
     },
     "c97cb60f24424f08be2cc5d323ec181e": {
      "model_module": "@jupyter-widgets/controls",
      "model_module_version": "1.2.0",
      "model_name": "IntTextModel",
      "state": {
       "description": "Below Add:",
       "layout": "IPY_MODEL_0a8c9ab2ee6d4cb590c2efea2ad042ab",
       "step": 1,
       "style": "IPY_MODEL_5c5e899258fb48e1b6b2fbb22509b8b8",
       "value": 52
      }
     },
     "c99c9dbc222146a2a2843fb00e63bed8": {
      "model_module": "@jupyter-widgets/controls",
      "model_module_version": "1.2.0",
      "model_name": "ButtonStyleModel",
      "state": {}
     },
     "c9acb4ba7f6b4e42bef84a2367c1ccd1": {
      "model_module": "@jupyter-widgets/controls",
      "model_module_version": "1.2.0",
      "model_name": "DescriptionStyleModel",
      "state": {
       "description_width": ""
      }
     },
     "c9b4ec89a705419193024f774dc2eddc": {
      "model_module": "@jupyter-widgets/controls",
      "model_module_version": "1.2.0",
      "model_name": "HTMLModel",
      "state": {
       "layout": "IPY_MODEL_4209100f0b1441ada4968bc4843dc056",
       "style": "IPY_MODEL_5dd2c3320f15400aa831377fb8c7422d",
       "value": "<b>Plot parameters:<b>"
      }
     },
     "c9d0649ee73a49749c7736e6a9a0ba1f": {
      "model_module": "@jupyter-widgets/controls",
      "model_module_version": "1.2.0",
      "model_name": "HBoxModel",
      "state": {
       "children": [
        "IPY_MODEL_6419326e359641049c989fc4c809d8cc",
        "IPY_MODEL_99382d2c632543beabacfcc96055980b"
       ],
       "layout": "IPY_MODEL_4b289585e6cf4bcaa8ced28f49b4411a"
      }
     },
     "ca01d19da2b84f989dbabdec8e372c43": {
      "model_module": "@jupyter-widgets/controls",
      "model_module_version": "1.2.0",
      "model_name": "VBoxModel",
      "state": {
       "children": [
        "IPY_MODEL_08e9a7fe24834ad388d780d1285714e3",
        "IPY_MODEL_7835f16948f94b7bacf3f113d8f9e451",
        "IPY_MODEL_89929f4745ce480ab0044305e516e06a",
        "IPY_MODEL_8b04431d042c4c5cb360a858302716ce"
       ],
       "layout": "IPY_MODEL_399f7fe8907c41bb91106e1ed6fa4ba0"
      }
     },
     "ca0ae2260a5641c6ba7b1437f34025f9": {
      "model_module": "@jupyter-widgets/controls",
      "model_module_version": "1.2.0",
      "model_name": "TextModel",
      "state": {
       "description": "Horizon .txt:",
       "layout": "IPY_MODEL_29ac45c50403406b81d22826311bee19",
       "style": "IPY_MODEL_db61f2d17cb6454d884991a21f06a101",
       "value": "./data/Top_Heimdal_subset.txt"
      }
     },
     "ca185b8865b24af4acb53da7f94a20e2": {
      "model_module": "@jupyter-widgets/controls",
      "model_module_version": "1.2.0",
      "model_name": "HBoxModel",
      "state": {
       "children": [
        "IPY_MODEL_ca46861a93ca47fa836516165520ddab",
        "IPY_MODEL_eae8b0d93e0149419cc5728c176ed501"
       ],
       "layout": "IPY_MODEL_a710cb4e73064aaaab3da871a808fcd9"
      }
     },
     "ca2ec1b5979b400ea56d9a4505aa5095": {
      "model_module": "@jupyter-widgets/controls",
      "model_module_version": "1.2.0",
      "model_name": "DescriptionStyleModel",
      "state": {
       "description_width": ""
      }
     },
     "ca46861a93ca47fa836516165520ddab": {
      "model_module": "@jupyter-widgets/controls",
      "model_module_version": "1.2.0",
      "model_name": "VBoxModel",
      "state": {
       "children": [
        "IPY_MODEL_be24b917349d4b36992b3508523d2250",
        "IPY_MODEL_68c93b9402c441a0bbaa412233863399"
       ],
       "layout": "IPY_MODEL_919f3aa8cb1842d6abf8ae1352d3059b"
      }
     },
     "ca65998e220e401093571133b5421405": {
      "model_module": "@jupyter-widgets/controls",
      "model_module_version": "1.2.0",
      "model_name": "DescriptionStyleModel",
      "state": {
       "description_width": ""
      }
     },
     "ca6ddf57d7a54e2da5e94f2fe788755c": {
      "model_module": "@jupyter-widgets/base",
      "model_module_version": "1.0.0",
      "model_name": "LayoutModel",
      "state": {}
     },
     "ca95e46b16dc4431b8ab0f00bfbd2fa1": {
      "model_module": "@jupyter-widgets/controls",
      "model_module_version": "1.2.0",
      "model_name": "HTMLModel",
      "state": {
       "layout": "IPY_MODEL_94cd559f77e74a879ffd91adb10e975b",
       "style": "IPY_MODEL_74568492d2924bc5baccb6c713b9d7c6",
       "value": "<b>File Pathnames:<b>"
      }
     },
     "caa3bca7981349cabcc110ae36c57fb8": {
      "model_module": "@jupyter-widgets/controls",
      "model_module_version": "1.2.0",
      "model_name": "HTMLModel",
      "state": {
       "layout": "IPY_MODEL_2e89c6138d6843c582e690e182f65f9a",
       "style": "IPY_MODEL_ff589ef8e8c94cad937ab182cd4920b2",
       "value": "<b>Plot parameters:<b>"
      }
     },
     "cab94f0c3feb4fb38962194c676576c7": {
      "model_module": "@jupyter-widgets/base",
      "model_module_version": "1.0.0",
      "model_name": "LayoutModel",
      "state": {}
     },
     "cad0fa9cc7c84347853ba9abda0364c9": {
      "model_module": "@jupyter-widgets/controls",
      "model_module_version": "1.2.0",
      "model_name": "IntTextModel",
      "state": {
       "description": "Step:",
       "layout": "IPY_MODEL_ef8871313e384cbabe9aaa42a47102f3",
       "step": 1,
       "style": "IPY_MODEL_269158f5353748b3894463aa8b081132",
       "value": 2
      }
     },
     "cad76c7032394066a43d6850daa06b0d": {
      "model_module": "@jupyter-widgets/base",
      "model_module_version": "1.0.0",
      "model_name": "LayoutModel",
      "state": {}
     },
     "cafacb6e75cb4d76aa74bb0243c61854": {
      "model_module": "@jupyter-widgets/controls",
      "model_module_version": "1.2.0",
      "model_name": "TextModel",
      "state": {
       "description": "Near SEGY:",
       "layout": "IPY_MODEL_38eb272fcae145128984438678ecc389",
       "style": "IPY_MODEL_3a2274e7e2454bdbbef75d147933055c",
       "value": "./data/3d_nearstack.sgy"
      }
     },
     "cb044b4f3a544d91bf6caca435d8f6aa": {
      "model_module": "@jupyter-widgets/controls",
      "model_module_version": "1.2.0",
      "model_name": "VBoxModel",
      "state": {
       "children": [
        "IPY_MODEL_faf49c5a3ebb47fd8986793e9e8eb024",
        "IPY_MODEL_1861ab4110a44c9eb6c86e41151e171a",
        "IPY_MODEL_674e981266744e929cfb31dd3be7fea9",
        "IPY_MODEL_3e8c9a4a7f4947619c78045a3508cde2"
       ],
       "layout": "IPY_MODEL_621080d601eb4b74b9843cbe4408a75e"
      }
     },
     "cb20b034bbd04912a6cda3c02b49fdb9": {
      "model_module": "@jupyter-widgets/controls",
      "model_module_version": "1.2.0",
      "model_name": "DescriptionStyleModel",
      "state": {
       "description_width": ""
      }
     },
     "cb2a10b85937432d8412159facca11bc": {
      "model_module": "@jupyter-widgets/controls",
      "model_module_version": "1.2.0",
      "model_name": "IntTextModel",
      "state": {
       "description": "Stop:",
       "layout": "IPY_MODEL_1dbcb7d06aba422097b8d0f152e8aae9",
       "step": 1,
       "style": "IPY_MODEL_01eb620eba324232986cbdaa85ca8af0",
       "value": 2002
      }
     },
     "cb2bc665950044eb9a803aad1045f98d": {
      "model_module": "@jupyter-widgets/base",
      "model_module_version": "1.0.0",
      "model_name": "LayoutModel",
      "state": {}
     },
     "cb3a5f3d013f45e2b1f47a8609f5f82a": {
      "model_module": "@jupyter-widgets/controls",
      "model_module_version": "1.2.0",
      "model_name": "BoundedFloatTextModel",
      "state": {
       "description": "Min Dist:",
       "layout": "IPY_MODEL_1b51b1274a9e4682bcea8b0fcbe437af",
       "max": 1,
       "min": 0.0001,
       "step": 0.0001,
       "style": "IPY_MODEL_367533db136741d78f7fce92f3fa773c",
       "value": 0.01
      }
     },
     "cb4446948cd042c99c816ff37270b2b1": {
      "model_module": "@jupyter-widgets/base",
      "model_module_version": "1.0.0",
      "model_name": "LayoutModel",
      "state": {}
     },
     "cb4687ed6df24cf8a7dc381e3b85a5b8": {
      "model_module": "@jupyter-widgets/output",
      "model_module_version": "1.0.0",
      "model_name": "OutputModel",
      "state": {
       "layout": "IPY_MODEL_fa2f605ad19e4c42acb7961697d61dc5"
      }
     },
     "cb52942ba0e44c3d980ca163c254e5ce": {
      "model_module": "@jupyter-widgets/controls",
      "model_module_version": "1.2.0",
      "model_name": "VBoxModel",
      "state": {
       "children": [
        "IPY_MODEL_046c8da293ae44dfafe08c190707385b",
        "IPY_MODEL_03ab223ce44241489bdd7b9934f43e4c",
        "IPY_MODEL_8acc3eda65a24ff28e4e7ff25db61c78"
       ],
       "layout": "IPY_MODEL_024f737592504bbfbb866e263a981bd8"
      }
     },
     "cb8e7ba273b24245ae9f6b99933c04d3": {
      "model_module": "@jupyter-widgets/controls",
      "model_module_version": "1.2.0",
      "model_name": "DescriptionStyleModel",
      "state": {
       "description_width": ""
      }
     },
     "cbb2d539d75c4f41bdc99e384f200cd5": {
      "model_module": "@jupyter-widgets/base",
      "model_module_version": "1.0.0",
      "model_name": "LayoutModel",
      "state": {}
     },
     "cbce87d85aaf4e2a9c7711077747ddba": {
      "model_module": "@jupyter-widgets/controls",
      "model_module_version": "1.2.0",
      "model_name": "DescriptionStyleModel",
      "state": {
       "description_width": ""
      }
     },
     "cbcf9a3cdf2246cebb8d4795dd04dfb3": {
      "model_module": "@jupyter-widgets/controls",
      "model_module_version": "1.2.0",
      "model_name": "DescriptionStyleModel",
      "state": {
       "description_width": ""
      }
     },
     "cbd3f6389230492fb354e37de9ad4801": {
      "model_module": "@jupyter-widgets/base",
      "model_module_version": "1.0.0",
      "model_name": "LayoutModel",
      "state": {}
     },
     "cc137ea248b541dea1ad95bdac9de40c": {
      "model_module": "@jupyter-widgets/controls",
      "model_module_version": "1.2.0",
      "model_name": "BoundedFloatTextModel",
      "state": {
       "description": "Min Dist:",
       "layout": "IPY_MODEL_245c334f350049fb876eeda78e600d94",
       "max": 1,
       "min": 0.001,
       "step": 0.0001,
       "style": "IPY_MODEL_0afa2c9266534880bce93edf9605de5d",
       "value": 0.01
      }
     },
     "cc2e343e00b34eb2809acd5bf77e54ec": {
      "model_module": "@jupyter-widgets/controls",
      "model_module_version": "1.2.0",
      "model_name": "IntTextModel",
      "state": {
       "description": "Latent size:",
       "layout": "IPY_MODEL_80a53b4e147a4bc794bf920d9487701c",
       "step": 1,
       "style": "IPY_MODEL_2a4989a6eb6c4331a400691928277bb4",
       "value": 8
      }
     },
     "cc346c4b52944c60b888d75d1f67d731": {
      "model_module": "@jupyter-widgets/base",
      "model_module_version": "1.0.0",
      "model_name": "LayoutModel",
      "state": {}
     },
     "cc4ef684648a444cb42d61e4c8417027": {
      "model_module": "@jupyter-widgets/controls",
      "model_module_version": "1.2.0",
      "model_name": "ButtonStyleModel",
      "state": {}
     },
     "cc6a8a5493e2457caa1e1a972b59c6ee": {
      "model_module": "@jupyter-widgets/base",
      "model_module_version": "1.0.0",
      "model_name": "LayoutModel",
      "state": {}
     },
     "cc704493d92143578f6be22657fc677a": {
      "model_module": "@jupyter-widgets/controls",
      "model_module_version": "1.2.0",
      "model_name": "HTMLModel",
      "state": {
       "layout": "IPY_MODEL_d1b54d4413df492caaddba133e443649",
       "style": "IPY_MODEL_296ac9d2fa1b40889ae0f6ccff93b37d",
       "value": "<b>VAE->UMAP 2-D parameters:<b>"
      }
     },
     "cc75c1afb883453bb5aa10036b7e3e2e": {
      "model_module": "@jupyter-widgets/controls",
      "model_module_version": "1.2.0",
      "model_name": "VBoxModel",
      "state": {
       "children": [
        "IPY_MODEL_3429d216549b489292a32bb2ba3a380c",
        "IPY_MODEL_0eb59d3b287943618a99ca6fcd62587e"
       ],
       "layout": "IPY_MODEL_12d57005d0dd4f15a9cbf568692f762b"
      }
     },
     "cc94807969154f05acac9b45b9b2d711": {
      "model_module": "@jupyter-widgets/controls",
      "model_module_version": "1.2.0",
      "model_name": "DescriptionStyleModel",
      "state": {
       "description_width": ""
      }
     },
     "cc9f8cd3a0784ec5bb5010cc04cddb4f": {
      "model_module": "@jupyter-widgets/base",
      "model_module_version": "1.0.0",
      "model_name": "LayoutModel",
      "state": {}
     },
     "ccbcfb5f4eac480a8ab5c78f8c16740a": {
      "model_module": "@jupyter-widgets/controls",
      "model_module_version": "1.2.0",
      "model_name": "DescriptionStyleModel",
      "state": {
       "description_width": ""
      }
     },
     "ccdef6e385ea455184d623df31e2d50f": {
      "model_module": "@jupyter-widgets/controls",
      "model_module_version": "1.2.0",
      "model_name": "DescriptionStyleModel",
      "state": {
       "description_width": ""
      }
     },
     "cce1b08ec6be4b4ba2c14c91b98360f3": {
      "model_module": "@jupyter-widgets/base",
      "model_module_version": "1.0.0",
      "model_name": "LayoutModel",
      "state": {}
     },
     "ccf4a791a1ed48738d125c044067cd1e": {
      "model_module": "@jupyter-widgets/base",
      "model_module_version": "1.0.0",
      "model_name": "LayoutModel",
      "state": {}
     },
     "cd19356b72d94ca4850bcedcc596e05a": {
      "model_module": "@jupyter-widgets/base",
      "model_module_version": "1.0.0",
      "model_name": "LayoutModel",
      "state": {}
     },
     "cd4ff60b6f074444a24d52e5a12e3396": {
      "model_module": "@jupyter-widgets/base",
      "model_module_version": "1.0.0",
      "model_name": "LayoutModel",
      "state": {}
     },
     "cd500dd569f54cacb84ca3f845fc359b": {
      "model_module": "@jupyter-widgets/controls",
      "model_module_version": "1.2.0",
      "model_name": "HBoxModel",
      "state": {
       "children": [
        "IPY_MODEL_ca01d19da2b84f989dbabdec8e372c43",
        "IPY_MODEL_4bf4973b3cab48b299755f93ea25b520",
        "IPY_MODEL_0e382bbcb63c4dea9b132fc3cc0666eb"
       ],
       "layout": "IPY_MODEL_4a16ca2b9ee345b0a1d1f83aa11e6e26"
      }
     },
     "cd6b0a3fc7c54d608c3b874225b8cffd": {
      "model_module": "@jupyter-widgets/controls",
      "model_module_version": "1.2.0",
      "model_name": "VBoxModel",
      "state": {
       "children": [
        "IPY_MODEL_ca95e46b16dc4431b8ab0f00bfbd2fa1",
        "IPY_MODEL_d897ed92d5b947348e2208ee6ebe9394",
        "IPY_MODEL_ddca246953854f69ae762cd6c1e593a3",
        "IPY_MODEL_ca0ae2260a5641c6ba7b1437f34025f9"
       ],
       "layout": "IPY_MODEL_c288c6f50dcb4a26a73048b850d52d11"
      }
     },
     "cd6d051a49be46f3a3c54734ac74a00e": {
      "model_module": "@jupyter-widgets/base",
      "model_module_version": "1.0.0",
      "model_name": "LayoutModel",
      "state": {}
     },
     "cda4290684704b60be92f557329ad498": {
      "model_module": "@jupyter-widgets/base",
      "model_module_version": "1.0.0",
      "model_name": "LayoutModel",
      "state": {}
     },
     "cdb3a878fff64979ac6c2253de3ac248": {
      "model_module": "@jupyter-widgets/base",
      "model_module_version": "1.0.0",
      "model_name": "LayoutModel",
      "state": {}
     },
     "cdb3c0a79dec46899a828a6f73e7d697": {
      "model_module": "@jupyter-widgets/controls",
      "model_module_version": "1.2.0",
      "model_name": "VBoxModel",
      "state": {
       "children": [
        "IPY_MODEL_301e78525159499794ad2f62c8456ea1",
        "IPY_MODEL_52a1238dd52d470d867d48864f6aabb2",
        "IPY_MODEL_90ade12b6a55467f83ca019e5b0a602c",
        "IPY_MODEL_dd49744a10304836a7def35e9291580d"
       ],
       "layout": "IPY_MODEL_20f98e9e84f048e3b18c750f887980f1"
      }
     },
     "cdccb93a339d4ceeb513a83db4afc986": {
      "model_module": "@jupyter-widgets/controls",
      "model_module_version": "1.2.0",
      "model_name": "DescriptionStyleModel",
      "state": {
       "description_width": ""
      }
     },
     "cdfb5591711d466bb9bf9cea3b556139": {
      "model_module": "@jupyter-widgets/controls",
      "model_module_version": "1.2.0",
      "model_name": "IntTextModel",
      "state": {
       "description": "Step:",
       "layout": "IPY_MODEL_3379c7579b7b4d30a359ad4a06af798c",
       "step": 1,
       "style": "IPY_MODEL_cff8b12946434ef0a9f5ff26cc38df26",
       "value": 2
      }
     },
     "ce018f68a67f49bb9fe347f4b47dc323": {
      "model_module": "@jupyter-widgets/base",
      "model_module_version": "1.0.0",
      "model_name": "LayoutModel",
      "state": {}
     },
     "ce095d9e325c4da8bde8a5702ab4a95c": {
      "model_module": "@jupyter-widgets/controls",
      "model_module_version": "1.2.0",
      "model_name": "HTMLModel",
      "state": {
       "layout": "IPY_MODEL_5aea95c1908642a98870b3c103685d5b",
       "style": "IPY_MODEL_8b6930aa030b4a548111a11721e59c76",
       "value": "<b>VAE->UMAP 2-D parameters:<b>"
      }
     },
     "ce2fa8a6501a40dcacfdf331cb0e5c70": {
      "model_module": "@jupyter-widgets/controls",
      "model_module_version": "1.2.0",
      "model_name": "DescriptionStyleModel",
      "state": {
       "description_width": ""
      }
     },
     "ce540eadc703447498d3988b28bce501": {
      "model_module": "@jupyter-widgets/controls",
      "model_module_version": "1.2.0",
      "model_name": "IntTextModel",
      "state": {
       "description": "Stop:",
       "layout": "IPY_MODEL_d3f30aa1ef8b432f85e284ab22fb7e8e",
       "step": 1,
       "style": "IPY_MODEL_27b0750ee8d2488e93f6f3250fb81237",
       "value": 1502
      }
     },
     "cea8e62a3bf0433293b05c911b314b78": {
      "model_module": "@jupyter-widgets/controls",
      "model_module_version": "1.2.0",
      "model_name": "IntTextModel",
      "state": {
       "description": "Below Add:",
       "layout": "IPY_MODEL_8e829bdb083145f0a30bf43153cb6f79",
       "step": 1,
       "style": "IPY_MODEL_b66188a3f99b4d9083f92fea1cd94b12",
       "value": 52
      }
     },
     "cecf944a27114d8680c4bc1db5ce0ed2": {
      "model_module": "@jupyter-widgets/controls",
      "model_module_version": "1.2.0",
      "model_name": "ButtonModel",
      "state": {
       "description": "Clear Output",
       "layout": "IPY_MODEL_dd8da62b2ada40f88ba06f9e3e66d339",
       "style": "IPY_MODEL_2f10b27abfa34cc39556bdf5fbbdd5dd"
      }
     },
     "cef1f98e7eb144dca9e69e236ae57194": {
      "model_module": "@jupyter-widgets/controls",
      "model_module_version": "1.2.0",
      "model_name": "IntTextModel",
      "state": {
       "description": "Stop:",
       "layout": "IPY_MODEL_3d44f03066aa442d8ea1fc474985a113",
       "step": 1,
       "style": "IPY_MODEL_426862d12dac47029612676ffa8ad618",
       "value": 2002
      }
     },
     "cf382db064524f1f8dd9249fa1b5c30e": {
      "model_module": "@jupyter-widgets/base",
      "model_module_version": "1.0.0",
      "model_name": "LayoutModel",
      "state": {}
     },
     "cf547725a6314d6a8546b10da546c948": {
      "model_module": "@jupyter-widgets/base",
      "model_module_version": "1.0.0",
      "model_name": "LayoutModel",
      "state": {}
     },
     "cf7b09d6236140339b164b4aeac19024": {
      "model_module": "@jupyter-widgets/base",
      "model_module_version": "1.0.0",
      "model_name": "LayoutModel",
      "state": {}
     },
     "cf8c6406d0f14884bad98423c8e0461a": {
      "model_module": "@jupyter-widgets/base",
      "model_module_version": "1.0.0",
      "model_name": "LayoutModel",
      "state": {}
     },
     "cfb300ebaeef499e9c313cd7452dbeb8": {
      "model_module": "@jupyter-widgets/controls",
      "model_module_version": "1.2.0",
      "model_name": "ButtonStyleModel",
      "state": {}
     },
     "cfe2cd35685641b58eaa3af847d98b18": {
      "model_module": "@jupyter-widgets/controls",
      "model_module_version": "1.2.0",
      "model_name": "DescriptionStyleModel",
      "state": {
       "description_width": ""
      }
     },
     "cff89a4eefe642e290193fb42d8b056b": {
      "model_module": "@jupyter-widgets/base",
      "model_module_version": "1.0.0",
      "model_name": "LayoutModel",
      "state": {}
     },
     "cff8b12946434ef0a9f5ff26cc38df26": {
      "model_module": "@jupyter-widgets/controls",
      "model_module_version": "1.2.0",
      "model_name": "DescriptionStyleModel",
      "state": {
       "description_width": ""
      }
     },
     "d0019239a5434b46818f5eb7979c09b2": {
      "model_module": "@jupyter-widgets/controls",
      "model_module_version": "1.2.0",
      "model_name": "VBoxModel",
      "state": {
       "layout": "IPY_MODEL_4a423c59bd4643c38f7d96ca844df7ff"
      }
     },
     "d05af7db0ba54ae88ed11efb20240dd4": {
      "model_module": "@jupyter-widgets/controls",
      "model_module_version": "1.2.0",
      "model_name": "BoundedFloatTextModel",
      "state": {
       "description": "Min Dist:",
       "layout": "IPY_MODEL_6f0e0f6e474246f78da1ab228ff89b43",
       "max": 1,
       "min": 0.0001,
       "step": 0.0001,
       "style": "IPY_MODEL_3770ffb8af9e44feafcb976c2578c341",
       "value": 0.01
      }
     },
     "d0638f187e074094b705e796ecc77f90": {
      "model_module": "@jupyter-widgets/base",
      "model_module_version": "1.0.0",
      "model_name": "LayoutModel",
      "state": {}
     },
     "d07fd68835e64693aa8c42d6f077472f": {
      "model_module": "@jupyter-widgets/controls",
      "model_module_version": "1.2.0",
      "model_name": "VBoxModel",
      "state": {
       "children": [
        "IPY_MODEL_c4205a2487b04070b9168c0c9819f806",
        "IPY_MODEL_9f09fe63f1b249cc87b02d3883e8f7ba",
        "IPY_MODEL_1dcece370706438ab5341c7df26cbc1d",
        "IPY_MODEL_747c629bb141411baf573dcf035c5f74"
       ],
       "layout": "IPY_MODEL_83639ee2d594435f92a24f0af54743a8"
      }
     },
     "d081fa6cb2c742e288d2ab9bddcbe1b6": {
      "model_module": "@jupyter-widgets/controls",
      "model_module_version": "1.2.0",
      "model_name": "DescriptionStyleModel",
      "state": {
       "description_width": ""
      }
     },
     "d0cf1521e69d4a9e8df5b8a39b930a0f": {
      "model_module": "@jupyter-widgets/base",
      "model_module_version": "1.0.0",
      "model_name": "LayoutModel",
      "state": {
       "border": "4px solid black"
      }
     },
     "d0ed062af4974bc2832d6364c04d75f7": {
      "model_module": "@jupyter-widgets/controls",
      "model_module_version": "1.2.0",
      "model_name": "IntTextModel",
      "state": {
       "description": "Start:",
       "layout": "IPY_MODEL_266b8261e7124069abc74a5adde878c6",
       "step": 1,
       "style": "IPY_MODEL_e177ffe2ef974a9a83d1bbe1de857d52",
       "value": 1300
      }
     },
     "d1120df00f7a40fcb05872c67a796089": {
      "model_module": "@jupyter-widgets/controls",
      "model_module_version": "1.2.0",
      "model_name": "IntTextModel",
      "state": {
       "description": "Stop:",
       "layout": "IPY_MODEL_37fd0e6b09c5415594f5d8d78b5947ad",
       "step": 1,
       "style": "IPY_MODEL_679753c832af4ff0a739cb49809dfaf1",
       "value": 1502
      }
     },
     "d182d803f4ab4d36b9c549bd7ada5354": {
      "model_module": "@jupyter-widgets/base",
      "model_module_version": "1.0.0",
      "model_name": "LayoutModel",
      "state": {}
     },
     "d1871fa843474c678431cfd85d73df20": {
      "model_module": "@jupyter-widgets/controls",
      "model_module_version": "1.2.0",
      "model_name": "VBoxModel",
      "state": {
       "layout": "IPY_MODEL_9fd33151ec404af5a7d31c5ee62e5c7c"
      }
     },
     "d19698698c76491b82c62c9dab21ce24": {
      "model_module": "@jupyter-widgets/base",
      "model_module_version": "1.0.0",
      "model_name": "LayoutModel",
      "state": {}
     },
     "d19795236b53425fb51081a74100dcd5": {
      "model_module": "@jupyter-widgets/controls",
      "model_module_version": "1.2.0",
      "model_name": "VBoxModel",
      "state": {
       "children": [
        "IPY_MODEL_6df99da0f8244a3c831bbd67a31a0469",
        "IPY_MODEL_3ecce042f3bb4729b23fd3fe6a0fa3d1",
        "IPY_MODEL_f785f2f7c08e438da22defe018f73b4f",
        "IPY_MODEL_5a34e69250f64cd4852346574fdb1eea"
       ],
       "layout": "IPY_MODEL_8ffbc6d5cdb040c0bb305999fa7f902c"
      }
     },
     "d1b10ec635184635b5d7c9df97871417": {
      "model_module": "@jupyter-widgets/controls",
      "model_module_version": "1.2.0",
      "model_name": "DescriptionStyleModel",
      "state": {
       "description_width": ""
      }
     },
     "d1b54d4413df492caaddba133e443649": {
      "model_module": "@jupyter-widgets/base",
      "model_module_version": "1.0.0",
      "model_name": "LayoutModel",
      "state": {}
     },
     "d23275afc2d7403091e68f21bf8779a8": {
      "model_module": "@jupyter-widgets/controls",
      "model_module_version": "1.2.0",
      "model_name": "HTMLModel",
      "state": {
       "layout": "IPY_MODEL_e93571d4b50942269afef3c756cf7aec",
       "style": "IPY_MODEL_c534a0bf684843e594189eb4b01a36c1",
       "value": "<b>VAE->UMAP 2-D parameters:<b>"
      }
     },
     "d247428de251422e849feb8c1dac7574": {
      "model_module": "@jupyter-widgets/base",
      "model_module_version": "1.0.0",
      "model_name": "LayoutModel",
      "state": {}
     },
     "d261941131ea4125939e61fb40fb60cd": {
      "model_module": "@jupyter-widgets/base",
      "model_module_version": "1.0.0",
      "model_name": "LayoutModel",
      "state": {}
     },
     "d27875fd7310401985801a25cf70fa21": {
      "model_module": "@jupyter-widgets/base",
      "model_module_version": "1.0.0",
      "model_name": "LayoutModel",
      "state": {}
     },
     "d2a504cae856431e80aad4ee016efcbd": {
      "model_module": "@jupyter-widgets/base",
      "model_module_version": "1.0.0",
      "model_name": "LayoutModel",
      "state": {}
     },
     "d2c567f397f14a7ea6a25971f39cb2a0": {
      "model_module": "@jupyter-widgets/base",
      "model_module_version": "1.0.0",
      "model_name": "LayoutModel",
      "state": {}
     },
     "d35e516c7f47417d95cb66f4a2c9d046": {
      "model_module": "@jupyter-widgets/controls",
      "model_module_version": "1.2.0",
      "model_name": "BoundedFloatTextModel",
      "state": {
       "description": "Learn Rate:",
       "layout": "IPY_MODEL_0caf7000b629421e97b5df53a9df6bde",
       "max": 1,
       "min": 0.0001,
       "step": 0.005,
       "style": "IPY_MODEL_89087567d5de4bbea0bef423462a7b95",
       "value": 0.01
      }
     },
     "d377198a287941c2a588859745065638": {
      "model_module": "@jupyter-widgets/controls",
      "model_module_version": "1.2.0",
      "model_name": "TabModel",
      "state": {
       "_titles": {
        "0": "1. Data Loading",
        "1": "2. Data Processing",
        "2": "3. Model Selection",
        "3": "4. Visualisation"
       },
       "children": [
        "IPY_MODEL_b9470df5266240b7bdaa68a9d5a20db6",
        "IPY_MODEL_0f74b8720f5c479e8c22b3c1f6742538",
        "IPY_MODEL_a28e18af02604deaae5225bc1c2576be",
        "IPY_MODEL_c33acc3414c64e638a61b2fcce678520"
       ],
       "layout": "IPY_MODEL_e779e13296784193819195cb81270852"
      }
     },
     "d37a4c8ba65e49a49c908af9f3bad424": {
      "model_module": "@jupyter-widgets/controls",
      "model_module_version": "1.2.0",
      "model_name": "ButtonStyleModel",
      "state": {}
     },
     "d39704be21bc4e55bb0ebb1eb096a8f9": {
      "model_module": "@jupyter-widgets/base",
      "model_module_version": "1.0.0",
      "model_name": "LayoutModel",
      "state": {}
     },
     "d3d3fb12aaa54a7d94f3f3c7f3d923ac": {
      "model_module": "@jupyter-widgets/controls",
      "model_module_version": "1.2.0",
      "model_name": "DescriptionStyleModel",
      "state": {
       "description_width": ""
      }
     },
     "d3e6dce4fef247fd8b43969ae9b2b309": {
      "model_module": "@jupyter-widgets/base",
      "model_module_version": "1.0.0",
      "model_name": "LayoutModel",
      "state": {}
     },
     "d3e9df1c23524b258831414d6afc713b": {
      "model_module": "@jupyter-widgets/base",
      "model_module_version": "1.0.0",
      "model_name": "LayoutModel",
      "state": {}
     },
     "d3ece0147d4b48ec974efb244c2bf6c0": {
      "model_module": "@jupyter-widgets/controls",
      "model_module_version": "1.2.0",
      "model_name": "HBoxModel",
      "state": {
       "children": [
        "IPY_MODEL_3de6cfc01a1c4ae8a42813b870b1c765",
        "IPY_MODEL_d8756fff66a047a296488bb5a8b8a6ec"
       ],
       "layout": "IPY_MODEL_b5ba200dcb8d410990459f70503806df"
      }
     },
     "d3f30aa1ef8b432f85e284ab22fb7e8e": {
      "model_module": "@jupyter-widgets/base",
      "model_module_version": "1.0.0",
      "model_name": "LayoutModel",
      "state": {}
     },
     "d44a78d3e34a4da8bd13583c2b4d23ad": {
      "model_module": "@jupyter-widgets/controls",
      "model_module_version": "1.2.0",
      "model_name": "DescriptionStyleModel",
      "state": {
       "description_width": ""
      }
     },
     "d47d5191b00847eba73fe1631cabb9cb": {
      "model_module": "@jupyter-widgets/controls",
      "model_module_version": "1.2.0",
      "model_name": "IntTextModel",
      "state": {
       "description": "Stop:",
       "layout": "IPY_MODEL_cc346c4b52944c60b888d75d1f67d731",
       "step": 1,
       "style": "IPY_MODEL_84378c33a75041d8a7fdf90db91c05da",
       "value": 2002
      }
     },
     "d4b1e5646f82444e9928ac1205b3ab58": {
      "model_module": "@jupyter-widgets/controls",
      "model_module_version": "1.2.0",
      "model_name": "VBoxModel",
      "state": {
       "children": [
        "IPY_MODEL_a4e74b3d551e443fb3fc84736ea4d64f",
        "IPY_MODEL_f6a34217f71746e897052d143a51f0a1"
       ],
       "layout": "IPY_MODEL_d247428de251422e849feb8c1dac7574"
      }
     },
     "d4fa0696b3434aebbd8de8bf00fa10f4": {
      "model_module": "@jupyter-widgets/controls",
      "model_module_version": "1.2.0",
      "model_name": "DescriptionStyleModel",
      "state": {
       "description_width": ""
      }
     },
     "d50a487e387e4ed181af1b65e79fd48a": {
      "model_module": "@jupyter-widgets/controls",
      "model_module_version": "1.2.0",
      "model_name": "TextModel",
      "state": {
       "description": "Near SEGY:",
       "layout": "IPY_MODEL_c328985dd5cc47b29a6d89e1c7e5f2f8",
       "style": "IPY_MODEL_be373de46dee4adeb86caefbbae4df39",
       "value": "./data/3d_nearstack.sgy"
      }
     },
     "d514b30b880444cda2cd6b3aad9158c6": {
      "model_module": "@jupyter-widgets/base",
      "model_module_version": "1.0.0",
      "model_name": "LayoutModel",
      "state": {}
     },
     "d5448784684e4563bf52e0f7fced5e2b": {
      "model_module": "@jupyter-widgets/base",
      "model_module_version": "1.0.0",
      "model_name": "LayoutModel",
      "state": {}
     },
     "d54613036e4c4a1894d09249266ddfb3": {
      "model_module": "@jupyter-widgets/controls",
      "model_module_version": "1.2.0",
      "model_name": "TabModel",
      "state": {
       "_titles": {
        "0": "1. Data Loading",
        "1": "2. Data Processing",
        "2": "3. Model Selection",
        "3": "4. Visualisation"
       },
       "children": [
        "IPY_MODEL_25a4d32189df4af8acaa575142e9ff88",
        "IPY_MODEL_e7e5ab861f42493db0052d0aac358e1d",
        "IPY_MODEL_1316bf5d0c124cb282731beb19b4c1b6",
        "IPY_MODEL_f981476c5b254bdc8c2cacd4983dcf5b"
       ],
       "layout": "IPY_MODEL_ad377b6a163e4355af40b2a1a1cc641e",
       "selected_index": 2
      }
     },
     "d56f555bda994dc39bc78119a698bffa": {
      "model_module": "@jupyter-widgets/controls",
      "model_module_version": "1.2.0",
      "model_name": "VBoxModel",
      "state": {
       "layout": "IPY_MODEL_214b77b7ed7247f0a3d9a93bb146d525"
      }
     },
     "d57db41146ac44ca8c3f961b51075b2a": {
      "model_module": "@jupyter-widgets/controls",
      "model_module_version": "1.2.0",
      "model_name": "HTMLModel",
      "state": {
       "layout": "IPY_MODEL_1a8e647d3c4d4bb39e280e131e12654e",
       "style": "IPY_MODEL_1a2d45c7216749198b71a3a1babd4066",
       "value": "<b>Horizon Flattening:<b>"
      }
     },
     "d596735b19ed49b092491d1e97d4acd0": {
      "model_module": "@jupyter-widgets/controls",
      "model_module_version": "1.2.0",
      "model_name": "HTMLModel",
      "state": {
       "layout": "IPY_MODEL_a17e8c0545374c60aa97e93d233e6167",
       "style": "IPY_MODEL_5d1eaa297cdd47978f11647bd0f8ec59",
       "value": "<b>VAE->UMAP 2-D parameters:<b>"
      }
     },
     "d59faf388944492a9519c4d96a8c0915": {
      "model_module": "@jupyter-widgets/controls",
      "model_module_version": "1.2.0",
      "model_name": "DescriptionStyleModel",
      "state": {
       "description_width": ""
      }
     },
     "d6098b7cc84b4608b581fa92e091e8d5": {
      "model_module": "@jupyter-widgets/controls",
      "model_module_version": "1.2.0",
      "model_name": "VBoxModel",
      "state": {
       "children": [
        "IPY_MODEL_5f501e6d983f4464b183492b59bbc007",
        "IPY_MODEL_e0058e0a4bb043279e5ebed39ab1e11a"
       ],
       "layout": "IPY_MODEL_4ae554d3838e4bc0b960644a85da92f6"
      }
     },
     "d615ad81156647aca75046adaf0cd990": {
      "model_module": "@jupyter-widgets/base",
      "model_module_version": "1.0.0",
      "model_name": "LayoutModel",
      "state": {}
     },
     "d671ad87c01f4b05bd9f4d5b8547e602": {
      "model_module": "@jupyter-widgets/base",
      "model_module_version": "1.0.0",
      "model_name": "LayoutModel",
      "state": {}
     },
     "d699abc4ba034991bfdf28d73d15d108": {
      "model_module": "@jupyter-widgets/controls",
      "model_module_version": "1.2.0",
      "model_name": "DescriptionStyleModel",
      "state": {
       "description_width": ""
      }
     },
     "d6b92f2180df4f7eb7e5fe45c5abc02a": {
      "model_module": "@jupyter-widgets/controls",
      "model_module_version": "1.2.0",
      "model_name": "DropdownModel",
      "state": {
       "_options_labels": [
        "True",
        "False"
       ],
       "description": "True/False:",
       "index": 0,
       "layout": "IPY_MODEL_9fa9dce3e12f40558441241431221a8c",
       "style": "IPY_MODEL_da15700f9fc54057b50e5ae26fca27c3"
      }
     },
     "d6de8343e4974ff99b8e8cd4216adef1": {
      "model_module": "@jupyter-widgets/base",
      "model_module_version": "1.0.0",
      "model_name": "LayoutModel",
      "state": {
       "border": "4px solid black"
      }
     },
     "d72166bada134ff481c403fd89157ed7": {
      "model_module": "@jupyter-widgets/base",
      "model_module_version": "1.0.0",
      "model_name": "LayoutModel",
      "state": {}
     },
     "d78841fa01a44800a80ef4f76ab62cf0": {
      "model_module": "@jupyter-widgets/base",
      "model_module_version": "1.0.0",
      "model_name": "LayoutModel",
      "state": {}
     },
     "d7a891986a8144959f73bf24664d6931": {
      "model_module": "@jupyter-widgets/output",
      "model_module_version": "1.0.0",
      "model_name": "OutputModel",
      "state": {
       "layout": "IPY_MODEL_e3cd169e82af4d41867643f0ad85376c"
      }
     },
     "d7c166643ef64af0a35dfb5ba5cf3257": {
      "model_module": "@jupyter-widgets/controls",
      "model_module_version": "1.2.0",
      "model_name": "HTMLModel",
      "state": {
       "layout": "IPY_MODEL_baa14cfe97754fa784f49152b6032483",
       "style": "IPY_MODEL_d94b4c3ecd564a6492918cfd6af3f16d",
       "value": "<b>In-line range:<b>"
      }
     },
     "d7d37af7f38a4fbda66b22229502c813": {
      "model_module": "@jupyter-widgets/controls",
      "model_module_version": "1.2.0",
      "model_name": "DescriptionStyleModel",
      "state": {
       "description_width": ""
      }
     },
     "d7ea050dd3f944a0862b3e7ba1a88d3a": {
      "model_module": "@jupyter-widgets/base",
      "model_module_version": "1.0.0",
      "model_name": "LayoutModel",
      "state": {}
     },
     "d7f9752c24a548058e9b8f47b610ba36": {
      "model_module": "@jupyter-widgets/base",
      "model_module_version": "1.0.0",
      "model_name": "LayoutModel",
      "state": {}
     },
     "d81af556c37a4130b1c3b2a9022572e9": {
      "model_module": "@jupyter-widgets/controls",
      "model_module_version": "1.2.0",
      "model_name": "TextModel",
      "state": {
       "description": "Horizon .txt:",
       "layout": "IPY_MODEL_0a7a941027834156bf0bfa0ebc4ba97f",
       "style": "IPY_MODEL_cb8e7ba273b24245ae9f6b99933c04d3",
       "value": "./data/Top_Heimdal_subset.txt"
      }
     },
     "d81ba16011ae4b0e8eb0b8ed8ad6b0ec": {
      "model_module": "@jupyter-widgets/controls",
      "model_module_version": "1.2.0",
      "model_name": "VBoxModel",
      "state": {
       "children": [
        "IPY_MODEL_3c6793de4364411c92324cde8fb51619",
        "IPY_MODEL_780c935dfc6a4056ae5c394f74af54af",
        "IPY_MODEL_f950bf19407f42f3b21cd8855ea0455e",
        "IPY_MODEL_dfdf3a3b05064d9c8232b36cbba40d32"
       ],
       "layout": "IPY_MODEL_0def32f970404af5b064bdfc81557e55"
      }
     },
     "d8473b1b39884c9581e8f6b1b21a7781": {
      "model_module": "@jupyter-widgets/base",
      "model_module_version": "1.0.0",
      "model_name": "LayoutModel",
      "state": {}
     },
     "d86fc2fabe8e4512a795ee92b0f7a26c": {
      "model_module": "@jupyter-widgets/controls",
      "model_module_version": "1.2.0",
      "model_name": "ButtonStyleModel",
      "state": {}
     },
     "d8756fff66a047a296488bb5a8b8a6ec": {
      "model_module": "@jupyter-widgets/controls",
      "model_module_version": "1.2.0",
      "model_name": "VBoxModel",
      "state": {
       "layout": "IPY_MODEL_fc49bc9ef28d4329a3d10dc230c223d5"
      }
     },
     "d879e5dfb74547239ebc982ae9dae08d": {
      "model_module": "@jupyter-widgets/output",
      "model_module_version": "1.0.0",
      "model_name": "OutputModel",
      "state": {
       "layout": "IPY_MODEL_f3e4f01bfd344ed795e15b7668ebaed1"
      }
     },
     "d897ed92d5b947348e2208ee6ebe9394": {
      "model_module": "@jupyter-widgets/controls",
      "model_module_version": "1.2.0",
      "model_name": "TextModel",
      "state": {
       "description": "Near SEGY:",
       "layout": "IPY_MODEL_0d5f2f730363487585754f8e0826c1cd",
       "style": "IPY_MODEL_db8be72a6b06475ebd6495bbf7b976c7",
       "value": "./data/3d_nearstack.sgy"
      }
     },
     "d8a98cdd07084d15b137f048a7d50e57": {
      "model_module": "@jupyter-widgets/controls",
      "model_module_version": "1.2.0",
      "model_name": "TabModel",
      "state": {
       "_titles": {
        "0": "1. Data Loading",
        "1": "2. Data Processing",
        "2": "3. Model Selection",
        "3": "4. Visualisation"
       },
       "children": [
        "IPY_MODEL_52d100754d924f43ba354ead32d2b0a8",
        "IPY_MODEL_0760efd25b914258bf087e876f8d3a6b",
        "IPY_MODEL_96e3ff8202b6462c966e92856bfdb026",
        "IPY_MODEL_b1a5e1e1e5cd4438a0f4cd6e8762ab22"
       ],
       "layout": "IPY_MODEL_1542a57d407a4b2b9d1e79d76e415247"
      }
     },
     "d8c5530fe388454b9b5ddc305a8ed4dd": {
      "model_module": "@jupyter-widgets/controls",
      "model_module_version": "1.2.0",
      "model_name": "HTMLModel",
      "state": {
       "layout": "IPY_MODEL_6deef7ba4d4a4713910c3090c3714ba7",
       "style": "IPY_MODEL_90e2f16319784d6cb182b6c3538bb7ba",
       "value": "<b>VAE->UMAP 2-D parameters:<b>"
      }
     },
     "d8cfb29f7b1144d1ae575defd92d08cb": {
      "model_module": "@jupyter-widgets/controls",
      "model_module_version": "1.2.0",
      "model_name": "DescriptionStyleModel",
      "state": {
       "description_width": ""
      }
     },
     "d945ab2fc156438088988b04b51f774b": {
      "model_module": "@jupyter-widgets/base",
      "model_module_version": "1.0.0",
      "model_name": "LayoutModel",
      "state": {}
     },
     "d94b4c3ecd564a6492918cfd6af3f16d": {
      "model_module": "@jupyter-widgets/controls",
      "model_module_version": "1.2.0",
      "model_name": "DescriptionStyleModel",
      "state": {
       "description_width": ""
      }
     },
     "d94f02bafd4841b1994477f1580a73b0": {
      "model_module": "@jupyter-widgets/controls",
      "model_module_version": "1.2.0",
      "model_name": "BoundedFloatTextModel",
      "state": {
       "description": "Learn Rate:",
       "layout": "IPY_MODEL_02b515584cbc44fcb1cc0275082bcba9",
       "max": 1,
       "min": 0.0001,
       "step": 0.005,
       "style": "IPY_MODEL_fc9f7154f0d94740899a906f1c61cb02",
       "value": 0.01
      }
     },
     "d9a6a0bed10347fa91bdd669e52b5e76": {
      "model_module": "@jupyter-widgets/base",
      "model_module_version": "1.0.0",
      "model_name": "LayoutModel",
      "state": {}
     },
     "d9b9b56b53ec4a7297c03867f04c2f7e": {
      "model_module": "@jupyter-widgets/controls",
      "model_module_version": "1.2.0",
      "model_name": "HBoxModel",
      "state": {
       "children": [
        "IPY_MODEL_bc2d480fda494581970923c04eacecb8",
        "IPY_MODEL_c32fa7e9a0b44d26bc4a766b3901a406"
       ],
       "layout": "IPY_MODEL_67256527526e42d1bb7311860a97dd9c"
      }
     },
     "d9bd20821fd7412b9a59f6691b363ab3": {
      "model_module": "@jupyter-widgets/base",
      "model_module_version": "1.0.0",
      "model_name": "LayoutModel",
      "state": {}
     },
     "d9c5d2966bc7413fa411736fb2d75319": {
      "model_module": "@jupyter-widgets/controls",
      "model_module_version": "1.2.0",
      "model_name": "DropdownModel",
      "state": {
       "_options_labels": [
        "True",
        "False"
       ],
       "description": "True/False:",
       "index": 0,
       "layout": "IPY_MODEL_70bafa665b9844959cdf135eca00f464",
       "style": "IPY_MODEL_d699abc4ba034991bfdf28d73d15d108"
      }
     },
     "d9dd8222bf3347e3a865c7a3c1a73369": {
      "model_module": "@jupyter-widgets/base",
      "model_module_version": "1.0.0",
      "model_name": "LayoutModel",
      "state": {}
     },
     "d9e60a58f6ae4694a842818c178ac316": {
      "model_module": "@jupyter-widgets/base",
      "model_module_version": "1.0.0",
      "model_name": "LayoutModel",
      "state": {}
     },
     "da009765719d47e6a26ad3f3acc580f1": {
      "model_module": "@jupyter-widgets/base",
      "model_module_version": "1.0.0",
      "model_name": "LayoutModel",
      "state": {}
     },
     "da01baa8224942c2a664021de18e7e3d": {
      "model_module": "@jupyter-widgets/base",
      "model_module_version": "1.0.0",
      "model_name": "LayoutModel",
      "state": {}
     },
     "da15700f9fc54057b50e5ae26fca27c3": {
      "model_module": "@jupyter-widgets/controls",
      "model_module_version": "1.2.0",
      "model_name": "DescriptionStyleModel",
      "state": {
       "description_width": ""
      }
     },
     "da49975cb82e4721b2fb8fea180490ef": {
      "model_module": "@jupyter-widgets/controls",
      "model_module_version": "1.2.0",
      "model_name": "HBoxModel",
      "state": {
       "children": [
        "IPY_MODEL_c6501a0814014455b652469fd2244c50",
        "IPY_MODEL_ec19f00f2f254a38a7ee91d3882baf95"
       ],
       "layout": "IPY_MODEL_4c61fd12b9ab4d81a8dd98bc4413563e"
      }
     },
     "daaf3e2fc8014d54a0bdaf88e414f947": {
      "model_module": "@jupyter-widgets/controls",
      "model_module_version": "1.2.0",
      "model_name": "IntTextModel",
      "state": {
       "description": "Neighbours:",
       "layout": "IPY_MODEL_2c37d886206c49f5a93b60917a92b7eb",
       "step": 1,
       "style": "IPY_MODEL_f267cf6fe02748f7aacaba78d16e77c0",
       "value": 50
      }
     },
     "dac06a659480422d89f9a8a9654a8542": {
      "model_module": "@jupyter-widgets/controls",
      "model_module_version": "1.2.0",
      "model_name": "VBoxModel",
      "state": {
       "layout": "IPY_MODEL_75cbf5551cdc4ee99877f3ab7d22a145"
      }
     },
     "dae569cec7c541aaadf107e2678ad422": {
      "model_module": "@jupyter-widgets/base",
      "model_module_version": "1.0.0",
      "model_name": "LayoutModel",
      "state": {}
     },
     "daec9ff908dd4bc980ffe775ad868a26": {
      "model_module": "@jupyter-widgets/base",
      "model_module_version": "1.0.0",
      "model_name": "LayoutModel",
      "state": {}
     },
     "daffe953430940bb87a5e77daee12287": {
      "model_module": "@jupyter-widgets/controls",
      "model_module_version": "1.2.0",
      "model_name": "IntTextModel",
      "state": {
       "description": "Step:",
       "layout": "IPY_MODEL_28c9bc49db9147a897b955b1c4ddff43",
       "step": 1,
       "style": "IPY_MODEL_01e258ab272b4aa4bf51ded14722cd64",
       "value": 2
      }
     },
     "db163c2776ba4f74af6f6b5e49153858": {
      "model_module": "@jupyter-widgets/controls",
      "model_module_version": "1.2.0",
      "model_name": "ButtonModel",
      "state": {
       "description": "Clear Output",
       "layout": "IPY_MODEL_eb4c3e3beecd48198fd37523118e73d2",
       "style": "IPY_MODEL_f239ea79b8154bf4b620396fde6a477c"
      }
     },
     "db24f2049e5c4470b3366543ae3417c9": {
      "model_module": "@jupyter-widgets/controls",
      "model_module_version": "1.2.0",
      "model_name": "HTMLModel",
      "state": {
       "layout": "IPY_MODEL_66477a1a758049b19296230ee60a236c",
       "style": "IPY_MODEL_1e0cdbc60d954e449606904e64406321",
       "value": "<b>In-line range:<b>"
      }
     },
     "db4e00bb971d4f179738cb97c5feda7f": {
      "model_module": "@jupyter-widgets/base",
      "model_module_version": "1.0.0",
      "model_name": "LayoutModel",
      "state": {}
     },
     "db61f2d17cb6454d884991a21f06a101": {
      "model_module": "@jupyter-widgets/controls",
      "model_module_version": "1.2.0",
      "model_name": "DescriptionStyleModel",
      "state": {
       "description_width": ""
      }
     },
     "db8be72a6b06475ebd6495bbf7b976c7": {
      "model_module": "@jupyter-widgets/controls",
      "model_module_version": "1.2.0",
      "model_name": "DescriptionStyleModel",
      "state": {
       "description_width": ""
      }
     },
     "db8ec330d50e4d629345069dfe0d1187": {
      "model_module": "@jupyter-widgets/base",
      "model_module_version": "1.0.0",
      "model_name": "LayoutModel",
      "state": {}
     },
     "dbb4c45d79a04ca59ee0a4bc3f56889e": {
      "model_module": "@jupyter-widgets/base",
      "model_module_version": "1.0.0",
      "model_name": "LayoutModel",
      "state": {}
     },
     "dbcbd1056b9d4427a925c092f5c43b9c": {
      "model_module": "@jupyter-widgets/controls",
      "model_module_version": "1.2.0",
      "model_name": "IntTextModel",
      "state": {
       "description": "Neighbours:",
       "layout": "IPY_MODEL_6f69deab042f458fa4d16d1036dbc767",
       "step": 1,
       "style": "IPY_MODEL_17ee31bfec214bb88d89e00d21c2a4c3",
       "value": 50
      }
     },
     "dbfae8ccd81544f7b6be116696721cb8": {
      "model_module": "@jupyter-widgets/base",
      "model_module_version": "1.0.0",
      "model_name": "LayoutModel",
      "state": {}
     },
     "dc14ce9bb6354fbf818785ccc2f8b18b": {
      "model_module": "@jupyter-widgets/controls",
      "model_module_version": "1.2.0",
      "model_name": "DescriptionStyleModel",
      "state": {
       "description_width": ""
      }
     },
     "dc399fe3c49e4a9d8f0f5276c2e08ac3": {
      "model_module": "@jupyter-widgets/base",
      "model_module_version": "1.0.0",
      "model_name": "LayoutModel",
      "state": {}
     },
     "dc43000183db48998b51c7721cb0eed9": {
      "model_module": "@jupyter-widgets/controls",
      "model_module_version": "1.2.0",
      "model_name": "HBoxModel",
      "state": {
       "children": [
        "IPY_MODEL_592874e1b8c942c3935054f4c137fbc1",
        "IPY_MODEL_dac06a659480422d89f9a8a9654a8542"
       ],
       "layout": "IPY_MODEL_7d2a53ecfff447deafb066021d49f512"
      }
     },
     "dc684ae9d9a340bab47bd33eabce24f8": {
      "model_module": "@jupyter-widgets/base",
      "model_module_version": "1.0.0",
      "model_name": "LayoutModel",
      "state": {}
     },
     "dc8ad3aed8074456b9d58571be97ccec": {
      "model_module": "@jupyter-widgets/controls",
      "model_module_version": "1.2.0",
      "model_name": "DescriptionStyleModel",
      "state": {
       "description_width": ""
      }
     },
     "dcd0c9e59fb040ada346e5b698611e69": {
      "model_module": "@jupyter-widgets/base",
      "model_module_version": "1.0.0",
      "model_name": "LayoutModel",
      "state": {}
     },
     "dced32461a7f4731b9c57d8f875d2f27": {
      "model_module": "@jupyter-widgets/controls",
      "model_module_version": "1.2.0",
      "model_name": "IntTextModel",
      "state": {
       "description": "Neighbours:",
       "layout": "IPY_MODEL_764b17e3b21d4642a71108ebe2148457",
       "step": 1,
       "style": "IPY_MODEL_5221968e3e714f6da4e160c33e3bf677",
       "value": 50
      }
     },
     "dcf8e1e3dce34455a04871e495c05718": {
      "model_module": "@jupyter-widgets/base",
      "model_module_version": "1.0.0",
      "model_name": "LayoutModel",
      "state": {}
     },
     "dd11db71737e4d6abc8bbc101e59071b": {
      "model_module": "@jupyter-widgets/controls",
      "model_module_version": "1.2.0",
      "model_name": "VBoxModel",
      "state": {
       "children": [
        "IPY_MODEL_44004260d7404b4baf1a217f5a2f52de",
        "IPY_MODEL_e3ed0a38c7ac43c4b7b8f634827c453c"
       ],
       "layout": "IPY_MODEL_e21ae16592cd45cfb367963dd5755150"
      }
     },
     "dd327d94a65445ef9594151d915437e2": {
      "model_module": "@jupyter-widgets/controls",
      "model_module_version": "1.2.0",
      "model_name": "HTMLModel",
      "state": {
       "layout": "IPY_MODEL_7055dd5b65d647d6abc293ec9f3f9316",
       "style": "IPY_MODEL_5ca5dc7fc5a949298012827a6d0e11dd",
       "value": "<b>Normalisation:<b>"
      }
     },
     "dd49744a10304836a7def35e9291580d": {
      "model_module": "@jupyter-widgets/controls",
      "model_module_version": "1.2.0",
      "model_name": "IntTextModel",
      "state": {
       "description": "Step:",
       "layout": "IPY_MODEL_47a07f3aea404abb8593d72971bf3227",
       "step": 1,
       "style": "IPY_MODEL_5aaafb68ec36458586871e3c166e6d40",
       "value": 2
      }
     },
     "dd7e3381ca264579a39b194e06563b8f": {
      "model_module": "@jupyter-widgets/controls",
      "model_module_version": "1.2.0",
      "model_name": "IntTextModel",
      "state": {
       "description": "Step:",
       "layout": "IPY_MODEL_a8c9db1dedfc419fa97037b320316aa9",
       "step": 1,
       "style": "IPY_MODEL_f5a14e5816a5465294fd3b8110a2c478",
       "value": 2
      }
     },
     "dd85fa054d1e457886be988c97a214ee": {
      "model_module": "@jupyter-widgets/controls",
      "model_module_version": "1.2.0",
      "model_name": "ButtonModel",
      "state": {
       "description": "Load Data",
       "layout": "IPY_MODEL_410e91c6351942239b97500aa62e77fc",
       "style": "IPY_MODEL_e7572b1d69c94565bc130d2f64e125e2"
      }
     },
     "dd8da62b2ada40f88ba06f9e3e66d339": {
      "model_module": "@jupyter-widgets/base",
      "model_module_version": "1.0.0",
      "model_name": "LayoutModel",
      "state": {}
     },
     "dd9d5649e31d489aada2a86adaf88146": {
      "model_module": "@jupyter-widgets/base",
      "model_module_version": "1.0.0",
      "model_name": "LayoutModel",
      "state": {}
     },
     "ddc2415861a64b2b8f8cc0e5c62a05e7": {
      "model_module": "@jupyter-widgets/base",
      "model_module_version": "1.0.0",
      "model_name": "LayoutModel",
      "state": {}
     },
     "ddca246953854f69ae762cd6c1e593a3": {
      "model_module": "@jupyter-widgets/controls",
      "model_module_version": "1.2.0",
      "model_name": "TextModel",
      "state": {
       "description": "Far SEGY:",
       "layout": "IPY_MODEL_e805cad3b60a4023a3b5704e6d5471aa",
       "style": "IPY_MODEL_7d465f0fa23644fb8770c74c80a81420",
       "value": "./data/3d_farstack.sgy"
      }
     },
     "dddbb40833f847a292dff2982170574e": {
      "model_module": "@jupyter-widgets/controls",
      "model_module_version": "1.2.0",
      "model_name": "VBoxModel",
      "state": {
       "children": [
        "IPY_MODEL_c3a6c33044674de49ecb1c46372fc7d9",
        "IPY_MODEL_17b8408cf44f4960b00dced26beaed28"
       ],
       "layout": "IPY_MODEL_3a8e5626f9784238bfdbea658e2e7600"
      }
     },
     "dde86ce418cc42d391453f686255ff70": {
      "model_module": "@jupyter-widgets/base",
      "model_module_version": "1.0.0",
      "model_name": "LayoutModel",
      "state": {}
     },
     "ddeec3804bb247b99f21b7cd2f7df03b": {
      "model_module": "@jupyter-widgets/controls",
      "model_module_version": "1.2.0",
      "model_name": "DescriptionStyleModel",
      "state": {
       "description_width": ""
      }
     },
     "de2d5213d59d42a38e0d7fd0e4db3ef5": {
      "model_module": "@jupyter-widgets/controls",
      "model_module_version": "1.2.0",
      "model_name": "ButtonModel",
      "state": {
       "description": "Process Input",
       "layout": "IPY_MODEL_6bbac9bdb061469c83e1bf9f07a8bd66",
       "style": "IPY_MODEL_6a8d168d458b495998b2993467440c7b"
      }
     },
     "de50d22954e44fb6a473a92f72d08af1": {
      "model_module": "@jupyter-widgets/controls",
      "model_module_version": "1.2.0",
      "model_name": "DescriptionStyleModel",
      "state": {
       "description_width": ""
      }
     },
     "de589c463d884eb18d6b529b92296e6a": {
      "model_module": "@jupyter-widgets/controls",
      "model_module_version": "1.2.0",
      "model_name": "IntTextModel",
      "state": {
       "description": "Stop:",
       "layout": "IPY_MODEL_808b08cc59424ef18d0e39ccf074e3a4",
       "step": 1,
       "style": "IPY_MODEL_c80170b83de24eb2b85508c471a6f524",
       "value": 2002
      }
     },
     "de5bcda2a32446188a8bb4db21ebe6b6": {
      "model_module": "@jupyter-widgets/base",
      "model_module_version": "1.0.0",
      "model_name": "LayoutModel",
      "state": {}
     },
     "de8f2c8e0ac54694b059a2e60533fbc6": {
      "model_module": "@jupyter-widgets/controls",
      "model_module_version": "1.2.0",
      "model_name": "DescriptionStyleModel",
      "state": {
       "description_width": ""
      }
     },
     "de9b829fcbf74d22918ebe7feaf79a82": {
      "model_module": "@jupyter-widgets/base",
      "model_module_version": "1.0.0",
      "model_name": "LayoutModel",
      "state": {}
     },
     "deb1512120de466f855f57b68e085c4e": {
      "model_module": "@jupyter-widgets/controls",
      "model_module_version": "1.2.0",
      "model_name": "DescriptionStyleModel",
      "state": {
       "description_width": ""
      }
     },
     "decd4ada83cf43f891a4da8146345d21": {
      "model_module": "@jupyter-widgets/controls",
      "model_module_version": "1.2.0",
      "model_name": "TextModel",
      "state": {
       "description": "Horizon .txt:",
       "layout": "IPY_MODEL_ad0e8a255227431da2ede865cb599d7e",
       "style": "IPY_MODEL_54c0be892ccd494ba88a124ae052bf14",
       "value": "./data/Top_Heimdal_subset.txt"
      }
     },
     "df1a90073a01491986e661bf322cab4c": {
      "model_module": "@jupyter-widgets/base",
      "model_module_version": "1.0.0",
      "model_name": "LayoutModel",
      "state": {}
     },
     "df81987f9bad4f81992d53481cb4794a": {
      "model_module": "@jupyter-widgets/base",
      "model_module_version": "1.0.0",
      "model_name": "LayoutModel",
      "state": {}
     },
     "dfcfc3d16f5849cfa9ffb9a404490efa": {
      "model_module": "@jupyter-widgets/base",
      "model_module_version": "1.0.0",
      "model_name": "LayoutModel",
      "state": {}
     },
     "dfdf3a3b05064d9c8232b36cbba40d32": {
      "model_module": "@jupyter-widgets/output",
      "model_module_version": "1.0.0",
      "model_name": "OutputModel",
      "state": {
       "layout": "IPY_MODEL_070aa521a1ee453a835edb45e80c2887"
      }
     },
     "dfe736916c84465c9ef1a833a832edfa": {
      "model_module": "@jupyter-widgets/controls",
      "model_module_version": "1.2.0",
      "model_name": "HTMLModel",
      "state": {
       "layout": "IPY_MODEL_0e6d6eb6a77f4a41ad140c09a0cd02c3",
       "style": "IPY_MODEL_3a05db0426184f778f5cfa89bd173962",
       "value": "<b>Normalisation:<b>"
      }
     },
     "dfeee0d42bfa4964a9e8d150180895e2": {
      "model_module": "@jupyter-widgets/base",
      "model_module_version": "1.0.0",
      "model_name": "LayoutModel",
      "state": {}
     },
     "e0058e0a4bb043279e5ebed39ab1e11a": {
      "model_module": "@jupyter-widgets/controls",
      "model_module_version": "1.2.0",
      "model_name": "DropdownModel",
      "state": {
       "_options_labels": [
        "horizon",
        "FF"
       ],
       "description": "Plot Attribute:",
       "index": 0,
       "layout": "IPY_MODEL_1513140378e240b790346938ca043874",
       "style": "IPY_MODEL_a688344937b546989ceccc279590f26c"
      }
     },
     "e0453065eb5e4290b03d74b955428d6f": {
      "model_module": "@jupyter-widgets/base",
      "model_module_version": "1.0.0",
      "model_name": "LayoutModel",
      "state": {}
     },
     "e05a8d2e2d134a53be221577110d2e70": {
      "model_module": "@jupyter-widgets/base",
      "model_module_version": "1.0.0",
      "model_name": "LayoutModel",
      "state": {}
     },
     "e06bc93db33e462ab88ab3a86cc90a74": {
      "model_module": "@jupyter-widgets/controls",
      "model_module_version": "1.2.0",
      "model_name": "DescriptionStyleModel",
      "state": {
       "description_width": ""
      }
     },
     "e0b4625963524e6bbc946a311149dfc6": {
      "model_module": "@jupyter-widgets/base",
      "model_module_version": "1.0.0",
      "model_name": "LayoutModel",
      "state": {}
     },
     "e0fc2dc259874739b7750c1dfdeec2f0": {
      "model_module": "@jupyter-widgets/base",
      "model_module_version": "1.0.0",
      "model_name": "LayoutModel",
      "state": {}
     },
     "e11de5ffc3af4e1297d1cfd0551ef6e2": {
      "model_module": "@jupyter-widgets/controls",
      "model_module_version": "1.2.0",
      "model_name": "IntTextModel",
      "state": {
       "description": "Neighbours:",
       "layout": "IPY_MODEL_5f21a25d601a4f9ea0a107ecb2d031b7",
       "step": 1,
       "style": "IPY_MODEL_6d7056472fb443caa37eafe1c4768c1a",
       "value": 50
      }
     },
     "e177ffe2ef974a9a83d1bbe1de857d52": {
      "model_module": "@jupyter-widgets/controls",
      "model_module_version": "1.2.0",
      "model_name": "DescriptionStyleModel",
      "state": {
       "description_width": ""
      }
     },
     "e184b607629a45ea9af4b4c29cdb1f8b": {
      "model_module": "@jupyter-widgets/base",
      "model_module_version": "1.0.0",
      "model_name": "LayoutModel",
      "state": {}
     },
     "e18e37ae1dfe4fa187c306a781935200": {
      "model_module": "@jupyter-widgets/controls",
      "model_module_version": "1.2.0",
      "model_name": "VBoxModel",
      "state": {
       "children": [
        "IPY_MODEL_13ef94befcf342098b411771aef7f8e1",
        "IPY_MODEL_9133c0a2d1d84fbaa977d6cc449bb552"
       ],
       "layout": "IPY_MODEL_8fc5d132ac624374880f786b56708de0"
      }
     },
     "e19f9c65270548928844a905fc844eee": {
      "model_module": "@jupyter-widgets/base",
      "model_module_version": "1.0.0",
      "model_name": "LayoutModel",
      "state": {}
     },
     "e1a51655bbaa400dab7297498908e299": {
      "model_module": "@jupyter-widgets/controls",
      "model_module_version": "1.2.0",
      "model_name": "DescriptionStyleModel",
      "state": {
       "description_width": ""
      }
     },
     "e21ae16592cd45cfb367963dd5755150": {
      "model_module": "@jupyter-widgets/base",
      "model_module_version": "1.0.0",
      "model_name": "LayoutModel",
      "state": {}
     },
     "e23185b79a7346a2b34be2af93943b38": {
      "model_module": "@jupyter-widgets/base",
      "model_module_version": "1.0.0",
      "model_name": "LayoutModel",
      "state": {}
     },
     "e256f7866e0c439cb2a97afffda34a67": {
      "model_module": "@jupyter-widgets/controls",
      "model_module_version": "1.2.0",
      "model_name": "HTMLModel",
      "state": {
       "layout": "IPY_MODEL_6da7e9fcd26e4e94b94d0b1cbaeb9829",
       "style": "IPY_MODEL_a715442d0a4b4329afdac3cf37d37a28",
       "value": "<b>X-line range:<b>"
      }
     },
     "e267761250664d2fae118b6a7b7030c8": {
      "model_module": "@jupyter-widgets/controls",
      "model_module_version": "1.2.0",
      "model_name": "ButtonModel",
      "state": {
       "description": "Load Data",
       "layout": "IPY_MODEL_b669e7256e3e41aeb3510d1085b0a8a1",
       "style": "IPY_MODEL_75feddfd40c74ef5ab44be6cb3e23187"
      }
     },
     "e295b9f713c1475aabda87ce29074e2a": {
      "model_module": "@jupyter-widgets/controls",
      "model_module_version": "1.2.0",
      "model_name": "DescriptionStyleModel",
      "state": {
       "description_width": ""
      }
     },
     "e2ab393631b0458cac0946979b158632": {
      "model_module": "@jupyter-widgets/controls",
      "model_module_version": "1.2.0",
      "model_name": "HTMLModel",
      "state": {
       "layout": "IPY_MODEL_4ae30d4cac6a4445805237a613728a13",
       "style": "IPY_MODEL_d59faf388944492a9519c4d96a8c0915",
       "value": "<b>File Pathnames:<b>"
      }
     },
     "e2bb44cd59d54072982d5f0e8a0226b9": {
      "model_module": "@jupyter-widgets/controls",
      "model_module_version": "1.2.0",
      "model_name": "DescriptionStyleModel",
      "state": {
       "description_width": ""
      }
     },
     "e2d238e535e74c9992c70ed77e02782c": {
      "model_module": "@jupyter-widgets/controls",
      "model_module_version": "1.2.0",
      "model_name": "HTMLModel",
      "state": {
       "layout": "IPY_MODEL_00fd976537de42c8937e292780381396",
       "style": "IPY_MODEL_e882a13484274aa39fb428aeb5f0b1ef",
       "value": "<b>Plot parameters:<b>"
      }
     },
     "e2e09091a40b4a0f835d4add82b2d45d": {
      "model_module": "@jupyter-widgets/controls",
      "model_module_version": "1.2.0",
      "model_name": "VBoxModel",
      "state": {
       "children": [
        "IPY_MODEL_027dab4415f94bc18997764afd937806",
        "IPY_MODEL_5ec01b13e3b340dc936f431a88baf0e3"
       ],
       "layout": "IPY_MODEL_521b2cfd57c742f8ab68577ac9befd93"
      }
     },
     "e2eb2e58e9e14257a453a822deebab7d": {
      "model_module": "@jupyter-widgets/controls",
      "model_module_version": "1.2.0",
      "model_name": "DescriptionStyleModel",
      "state": {
       "description_width": ""
      }
     },
     "e2ebb4599d704772a4cd1cc03ff58fe1": {
      "model_module": "@jupyter-widgets/controls",
      "model_module_version": "1.2.0",
      "model_name": "HBoxModel",
      "state": {
       "children": [
        "IPY_MODEL_8353819b5b0e44c9b585659baf843335",
        "IPY_MODEL_a29733aa0f5743039cc1be38eb5aab6d"
       ],
       "layout": "IPY_MODEL_97e8bc996a3c475fb5a9d58073316bf8"
      }
     },
     "e2f26236483f471594ad398fa7bae3f5": {
      "model_module": "@jupyter-widgets/controls",
      "model_module_version": "1.2.0",
      "model_name": "DescriptionStyleModel",
      "state": {
       "description_width": ""
      }
     },
     "e2f44307ffbe4c7bbe56a89806fe219c": {
      "model_module": "@jupyter-widgets/base",
      "model_module_version": "1.0.0",
      "model_name": "LayoutModel",
      "state": {}
     },
     "e31e79e715c54480be1708fb6fa777d9": {
      "model_module": "@jupyter-widgets/controls",
      "model_module_version": "1.2.0",
      "model_name": "DescriptionStyleModel",
      "state": {
       "description_width": ""
      }
     },
     "e331ed499e974794a19e62482357e40e": {
      "model_module": "@jupyter-widgets/controls",
      "model_module_version": "1.2.0",
      "model_name": "ButtonModel",
      "state": {
       "description": "Process Input",
       "layout": "IPY_MODEL_2b41d5daea0a4e72bd913c315128a159",
       "style": "IPY_MODEL_74b2ac0ba86d4d749d38f443b8d1427e"
      }
     },
     "e37c13424e214e20aa3431beabbd7c02": {
      "model_module": "@jupyter-widgets/base",
      "model_module_version": "1.0.0",
      "model_name": "LayoutModel",
      "state": {}
     },
     "e3c347b5658a4c75b7b21fb80e19d6c1": {
      "model_module": "@jupyter-widgets/controls",
      "model_module_version": "1.2.0",
      "model_name": "HTMLModel",
      "state": {
       "layout": "IPY_MODEL_b568b13d0cf34eb1a587ee4ba6d6bee2",
       "style": "IPY_MODEL_1d5a0bc48a844d1eb62f47984e2d4deb",
       "value": "<b>X-line range:<b>"
      }
     },
     "e3cd169e82af4d41867643f0ad85376c": {
      "model_module": "@jupyter-widgets/base",
      "model_module_version": "1.0.0",
      "model_name": "LayoutModel",
      "state": {
       "border": "4px solid black"
      }
     },
     "e3d28416439644f49a0cf5f472ddaee3": {
      "model_module": "@jupyter-widgets/controls",
      "model_module_version": "1.2.0",
      "model_name": "DescriptionStyleModel",
      "state": {
       "description_width": ""
      }
     },
     "e3ed0a38c7ac43c4b7b8f634827c453c": {
      "model_module": "@jupyter-widgets/controls",
      "model_module_version": "1.2.0",
      "model_name": "ButtonModel",
      "state": {
       "description": "Load Data",
       "layout": "IPY_MODEL_614bfa8dc61d428795a9e603e928b3f8",
       "style": "IPY_MODEL_40f935283fbd48d1ba0f6987b5e31957"
      }
     },
     "e43eee9e0a5f4fea8eef469040acab2b": {
      "model_module": "@jupyter-widgets/base",
      "model_module_version": "1.0.0",
      "model_name": "LayoutModel",
      "state": {}
     },
     "e445c40979f6463cafe9c06265cd70ea": {
      "model_module": "@jupyter-widgets/base",
      "model_module_version": "1.0.0",
      "model_name": "LayoutModel",
      "state": {}
     },
     "e4d1154d0e3d4e2a8d77b34363475ad7": {
      "model_module": "@jupyter-widgets/controls",
      "model_module_version": "1.2.0",
      "model_name": "ButtonModel",
      "state": {
       "description": "Clear Output",
       "layout": "IPY_MODEL_9a196c3d34be4b4a93513ee2dfd9f1fe",
       "style": "IPY_MODEL_cc4ef684648a444cb42d61e4c8417027"
      }
     },
     "e4d2bac065be420d8928acb295e401d1": {
      "model_module": "@jupyter-widgets/base",
      "model_module_version": "1.0.0",
      "model_name": "LayoutModel",
      "state": {}
     },
     "e4f8cc87bf154929a686c1c10ae04514": {
      "model_module": "@jupyter-widgets/controls",
      "model_module_version": "1.2.0",
      "model_name": "VBoxModel",
      "state": {
       "children": [
        "IPY_MODEL_25863ce6c7d74b46b5f2131bf6b66150",
        "IPY_MODEL_7487dfdaa57243a5bc43436eda9810e3",
        "IPY_MODEL_aa7ff6f2880c44f0b5f67953866aabb7",
        "IPY_MODEL_c29d9953f8344215a5c03fdbc818e3d6"
       ],
       "layout": "IPY_MODEL_71820ceb28d244e0a5276a07745a9df3"
      }
     },
     "e4f8de5bf4064b419f057e7e37302f56": {
      "model_module": "@jupyter-widgets/controls",
      "model_module_version": "1.2.0",
      "model_name": "IntTextModel",
      "state": {
       "description": "Stop:",
       "layout": "IPY_MODEL_88014ff51270475892707f4dc4a4da97",
       "step": 1,
       "style": "IPY_MODEL_ac010e646d2d46a4beb91e3304c52dc7",
       "value": 1502
      }
     },
     "e5072ce0069747efb6465fb219a889e1": {
      "model_module": "@jupyter-widgets/base",
      "model_module_version": "1.0.0",
      "model_name": "LayoutModel",
      "state": {}
     },
     "e586191e43b34d2a992bd2d777b02796": {
      "model_module": "@jupyter-widgets/controls",
      "model_module_version": "1.2.0",
      "model_name": "ButtonStyleModel",
      "state": {}
     },
     "e588c2e8de2c42c0baa3a6b3f579500a": {
      "model_module": "@jupyter-widgets/controls",
      "model_module_version": "1.2.0",
      "model_name": "VBoxModel",
      "state": {
       "children": [
        "IPY_MODEL_092111832f8b4489ba55f905328a81c1",
        "IPY_MODEL_bbb718936b104930b1d9ad6865029607",
        "IPY_MODEL_bb74c7ae1431495a9f3c106857a07638"
       ],
       "layout": "IPY_MODEL_7c943cb687774482963191ef085a8018"
      }
     },
     "e598843706e64dc9b1f9ad61530847ba": {
      "model_module": "@jupyter-widgets/controls",
      "model_module_version": "1.2.0",
      "model_name": "DropdownModel",
      "state": {
       "_options_labels": [
        "True",
        "False"
       ],
       "description": "True/False:",
       "index": 0,
       "layout": "IPY_MODEL_b9c37407330746e58edee7704f976e06",
       "style": "IPY_MODEL_872cce75fe444b1e9e1e9735e6d67931"
      }
     },
     "e598bdde17ec40fcaf1f20b91ce0284c": {
      "model_module": "@jupyter-widgets/base",
      "model_module_version": "1.0.0",
      "model_name": "LayoutModel",
      "state": {}
     },
     "e5beec039bd34d968f48a8e5e6922bf1": {
      "model_module": "@jupyter-widgets/base",
      "model_module_version": "1.0.0",
      "model_name": "LayoutModel",
      "state": {}
     },
     "e5df81d36bb64bbfb1802a80348edb4c": {
      "model_module": "@jupyter-widgets/controls",
      "model_module_version": "1.2.0",
      "model_name": "HTMLModel",
      "state": {
       "layout": "IPY_MODEL_f88c52311acc4850a5bb2087f1858a43",
       "style": "IPY_MODEL_4041b887b732422582ea525ccc299971",
       "value": "<b>File Pathnames:<b>"
      }
     },
     "e60d10028aa648d69ad447e69d26c575": {
      "model_module": "@jupyter-widgets/controls",
      "model_module_version": "1.2.0",
      "model_name": "DescriptionStyleModel",
      "state": {
       "description_width": ""
      }
     },
     "e60f30230e5c4fb8b26b68f4e36798e7": {
      "model_module": "@jupyter-widgets/controls",
      "model_module_version": "1.2.0",
      "model_name": "HTMLModel",
      "state": {
       "layout": "IPY_MODEL_0842c2c14b584badbb1639d1cd5e0832",
       "style": "IPY_MODEL_200f78a1f0584befa684bb249723d69f",
       "value": "<b>VAE->UMAP 2-D parameters:<b>"
      }
     },
     "e62f763bf4164acdab023b56b9528aca": {
      "model_module": "@jupyter-widgets/controls",
      "model_module_version": "1.2.0",
      "model_name": "VBoxModel",
      "state": {
       "children": [
        "IPY_MODEL_f93001bf9e0341ed896907320b0e59fc",
        "IPY_MODEL_30254cb3b3744787b79591c76cd06695",
        "IPY_MODEL_1eb37f33ac44434b99221f1d40af7741",
        "IPY_MODEL_3e91ded4c9594c72b8ed6230409b4d1b"
       ],
       "layout": "IPY_MODEL_d27875fd7310401985801a25cf70fa21"
      }
     },
     "e647a9b175454ea9924b975ca7055406": {
      "model_module": "@jupyter-widgets/base",
      "model_module_version": "1.0.0",
      "model_name": "LayoutModel",
      "state": {}
     },
     "e648e74fd87e41058e62896e436297fe": {
      "model_module": "@jupyter-widgets/controls",
      "model_module_version": "1.2.0",
      "model_name": "DescriptionStyleModel",
      "state": {
       "description_width": ""
      }
     },
     "e66cd76f71994c0cb0a02403b1bf6203": {
      "model_module": "@jupyter-widgets/controls",
      "model_module_version": "1.2.0",
      "model_name": "ButtonStyleModel",
      "state": {}
     },
     "e67a30c761b24e6e9c11c19693c09f90": {
      "model_module": "@jupyter-widgets/controls",
      "model_module_version": "1.2.0",
      "model_name": "BoundedFloatTextModel",
      "state": {
       "description": "Min Dist:",
       "layout": "IPY_MODEL_bc8932083020477ab7f5457b518c9b17",
       "max": 1,
       "min": 0.0001,
       "step": 0.0001,
       "style": "IPY_MODEL_468c7d7e15334262b60d39e410d5ded8",
       "value": 0.01
      }
     },
     "e68a0f94ea634573b3871b4bb0945aad": {
      "model_module": "@jupyter-widgets/controls",
      "model_module_version": "1.2.0",
      "model_name": "DescriptionStyleModel",
      "state": {
       "description_width": ""
      }
     },
     "e692d2492d354ef2aef791b880bf99b8": {
      "model_module": "@jupyter-widgets/base",
      "model_module_version": "1.0.0",
      "model_name": "LayoutModel",
      "state": {}
     },
     "e69541654eec46e39493fad0d79df44a": {
      "model_module": "@jupyter-widgets/base",
      "model_module_version": "1.0.0",
      "model_name": "LayoutModel",
      "state": {}
     },
     "e6993e06e4d740e395a651b01e66885d": {
      "model_module": "@jupyter-widgets/controls",
      "model_module_version": "1.2.0",
      "model_name": "VBoxModel",
      "state": {
       "children": [
        "IPY_MODEL_abd784712bf943a7874159560840295a",
        "IPY_MODEL_83dbd6bc018e495ab5ee7119db4a934e"
       ],
       "layout": "IPY_MODEL_0bb989d2b1b14516811dd96a5727e37d"
      }
     },
     "e6d6cd76b9ff427fb572963905360a88": {
      "model_module": "@jupyter-widgets/controls",
      "model_module_version": "1.2.0",
      "model_name": "DescriptionStyleModel",
      "state": {
       "description_width": ""
      }
     },
     "e6df40213f7a4546ab560edce1a48ed6": {
      "model_module": "@jupyter-widgets/controls",
      "model_module_version": "1.2.0",
      "model_name": "VBoxModel",
      "state": {
       "children": [
        "IPY_MODEL_f3aba06f82eb41409a56622ebc1156d6",
        "IPY_MODEL_f7086429bcf24814917402ecd5885cb9",
        "IPY_MODEL_eb5db0b3b5d84d1daf4819c054ba1c7d",
        "IPY_MODEL_5a6c5c2c67f34cdbac7cb97ac399a4bd"
       ],
       "layout": "IPY_MODEL_118d0197208f4ac6841cfd0dd1cc39eb"
      }
     },
     "e6f2a889c37145839b33a814dd5f3deb": {
      "model_module": "@jupyter-widgets/controls",
      "model_module_version": "1.2.0",
      "model_name": "DescriptionStyleModel",
      "state": {
       "description_width": ""
      }
     },
     "e74d83dedab5432ab546ef967c8a334c": {
      "model_module": "@jupyter-widgets/controls",
      "model_module_version": "1.2.0",
      "model_name": "ButtonStyleModel",
      "state": {}
     },
     "e7572b1d69c94565bc130d2f64e125e2": {
      "model_module": "@jupyter-widgets/controls",
      "model_module_version": "1.2.0",
      "model_name": "ButtonStyleModel",
      "state": {}
     },
     "e75fe473defd4d459a975e800596eb66": {
      "model_module": "@jupyter-widgets/base",
      "model_module_version": "1.0.0",
      "model_name": "LayoutModel",
      "state": {}
     },
     "e779e13296784193819195cb81270852": {
      "model_module": "@jupyter-widgets/base",
      "model_module_version": "1.0.0",
      "model_name": "LayoutModel",
      "state": {}
     },
     "e77e841b341a4568a14928ef6a8cbe0a": {
      "model_module": "@jupyter-widgets/controls",
      "model_module_version": "1.2.0",
      "model_name": "DescriptionStyleModel",
      "state": {
       "description_width": ""
      }
     },
     "e783a727ceb04f3b8ca8db25ac963898": {
      "model_module": "@jupyter-widgets/controls",
      "model_module_version": "1.2.0",
      "model_name": "DescriptionStyleModel",
      "state": {
       "description_width": ""
      }
     },
     "e7be2d2fdea94f7fabf7df8f880414f9": {
      "model_module": "@jupyter-widgets/controls",
      "model_module_version": "1.2.0",
      "model_name": "ButtonStyleModel",
      "state": {}
     },
     "e7ce51e5011149be89267c2113cec1e2": {
      "model_module": "@jupyter-widgets/base",
      "model_module_version": "1.0.0",
      "model_name": "LayoutModel",
      "state": {}
     },
     "e7e5ab861f42493db0052d0aac358e1d": {
      "model_module": "@jupyter-widgets/controls",
      "model_module_version": "1.2.0",
      "model_name": "VBoxModel",
      "state": {
       "children": [
        "IPY_MODEL_f1a5f947285e4d0caecfda265f5541cf",
        "IPY_MODEL_de2d5213d59d42a38e0d7fd0e4db3ef5"
       ],
       "layout": "IPY_MODEL_8c41da41f5974cd09a0b9e16521143cd"
      }
     },
     "e803299fa2e049648afa1518aa7b690b": {
      "model_module": "@jupyter-widgets/controls",
      "model_module_version": "1.2.0",
      "model_name": "VBoxModel",
      "state": {
       "layout": "IPY_MODEL_2e9851dbaeaf40439dd2b8d6024f7bf9"
      }
     },
     "e805cad3b60a4023a3b5704e6d5471aa": {
      "model_module": "@jupyter-widgets/base",
      "model_module_version": "1.0.0",
      "model_name": "LayoutModel",
      "state": {}
     },
     "e831ded4b889436885d3d2f037382c41": {
      "model_module": "@jupyter-widgets/controls",
      "model_module_version": "1.2.0",
      "model_name": "IntTextModel",
      "state": {
       "description": "Start:",
       "layout": "IPY_MODEL_e8abade19f344741a0b7f9fd5a216236",
       "step": 1,
       "style": "IPY_MODEL_01fa86420e3045e0a03a34be6d16baa2",
       "value": 1300
      }
     },
     "e83af8bac9c64134adfe54a31d1d3857": {
      "model_module": "@jupyter-widgets/controls",
      "model_module_version": "1.2.0",
      "model_name": "BoundedFloatTextModel",
      "state": {
       "description": "Min Dist:",
       "layout": "IPY_MODEL_4d91fbe8c41b4b74974529d1ca524cd0",
       "max": 1,
       "min": 0.0001,
       "step": 0.0001,
       "style": "IPY_MODEL_4d560b625ef343e398655b24d9ffcecb",
       "value": 0.01
      }
     },
     "e8512690a2c94b178f5c793fa72ae8ff": {
      "model_module": "@jupyter-widgets/base",
      "model_module_version": "1.0.0",
      "model_name": "LayoutModel",
      "state": {}
     },
     "e8791a3e7b034e488104c27e4a17350f": {
      "model_module": "@jupyter-widgets/controls",
      "model_module_version": "1.2.0",
      "model_name": "VBoxModel",
      "state": {
       "children": [
        "IPY_MODEL_1cf76e12a24d49ec8e58a7f7a9ee5dc1",
        "IPY_MODEL_d05af7db0ba54ae88ed11efb20240dd4",
        "IPY_MODEL_7ab0e6b18f3a4387b4a9b0cb63a874aa"
       ],
       "layout": "IPY_MODEL_c74854310550422a8397a699efe5eb1f"
      }
     },
     "e882a13484274aa39fb428aeb5f0b1ef": {
      "model_module": "@jupyter-widgets/controls",
      "model_module_version": "1.2.0",
      "model_name": "DescriptionStyleModel",
      "state": {
       "description_width": ""
      }
     },
     "e898092d35f74825a35590e9f005500c": {
      "model_module": "@jupyter-widgets/controls",
      "model_module_version": "1.2.0",
      "model_name": "DescriptionStyleModel",
      "state": {
       "description_width": ""
      }
     },
     "e89a9c082db74b4bb674d8329073accd": {
      "model_module": "@jupyter-widgets/controls",
      "model_module_version": "1.2.0",
      "model_name": "BoundedFloatTextModel",
      "state": {
       "description": "Min Dist:",
       "layout": "IPY_MODEL_1558e9d501274a3ca7ac962e01f2b1e3",
       "max": 1,
       "min": 0.0001,
       "step": 0.0001,
       "style": "IPY_MODEL_83285b8f61bd441c9ffb5932ca5356e7",
       "value": 0.01
      }
     },
     "e8a9b401008d46b8835fecb9ef5a9a51": {
      "model_module": "@jupyter-widgets/base",
      "model_module_version": "1.0.0",
      "model_name": "LayoutModel",
      "state": {}
     },
     "e8abade19f344741a0b7f9fd5a216236": {
      "model_module": "@jupyter-widgets/base",
      "model_module_version": "1.0.0",
      "model_name": "LayoutModel",
      "state": {}
     },
     "e8ae4e3e57644bfc93f2c8918683914a": {
      "model_module": "@jupyter-widgets/controls",
      "model_module_version": "1.2.0",
      "model_name": "VBoxModel",
      "state": {
       "layout": "IPY_MODEL_15cf5144423f4875af5a9194a281b7c1"
      }
     },
     "e8b1ba2aafb04fbdbd86798d6a13fb5e": {
      "model_module": "@jupyter-widgets/controls",
      "model_module_version": "1.2.0",
      "model_name": "HBoxModel",
      "state": {
       "children": [
        "IPY_MODEL_7e8f12709e384f5ca9e71b60d5a45d07",
        "IPY_MODEL_e8ae4e3e57644bfc93f2c8918683914a"
       ],
       "layout": "IPY_MODEL_13092ddcc13e42be9d1a0ed38a6c3c2d"
      }
     },
     "e8beeaf3df804f1380282b5d45a1a5eb": {
      "model_module": "@jupyter-widgets/controls",
      "model_module_version": "1.2.0",
      "model_name": "HTMLModel",
      "state": {
       "layout": "IPY_MODEL_0ab56953eaf844ec8efa9c7258afe3e0",
       "style": "IPY_MODEL_ea743e1fdf8e412ebce152b1c2b0e5f6",
       "value": "<b>X-line range:<b>"
      }
     },
     "e8ce548fc259421e85996879520591e6": {
      "model_module": "@jupyter-widgets/controls",
      "model_module_version": "1.2.0",
      "model_name": "DescriptionStyleModel",
      "state": {
       "description_width": ""
      }
     },
     "e8e58fae53774c859eed5ae62b6b126a": {
      "model_module": "@jupyter-widgets/controls",
      "model_module_version": "1.2.0",
      "model_name": "DescriptionStyleModel",
      "state": {
       "description_width": ""
      }
     },
     "e901cc9dab844b5a938095f257283b4c": {
      "model_module": "@jupyter-widgets/controls",
      "model_module_version": "1.2.0",
      "model_name": "HTMLModel",
      "state": {
       "layout": "IPY_MODEL_f7cce78703ba45fa8a6ab7b66024fa90",
       "style": "IPY_MODEL_466fe75d13734e16a5adf439362b1a7e",
       "value": "<b>VAE->UMAP 2-D parameters:<b>"
      }
     },
     "e90735a68d45442389af63848ad45b48": {
      "model_module": "@jupyter-widgets/base",
      "model_module_version": "1.0.0",
      "model_name": "LayoutModel",
      "state": {
       "border": "4px solid red"
      }
     },
     "e90ed16d09404d128cbe4612d64d8372": {
      "model_module": "@jupyter-widgets/controls",
      "model_module_version": "1.2.0",
      "model_name": "HTMLModel",
      "state": {
       "layout": "IPY_MODEL_c3933e4321a649bbb544d301524b742f",
       "style": "IPY_MODEL_29380b54407a4a648f9278e3e727f685",
       "value": "<b>VAE parameters:<b>"
      }
     },
     "e90f004cdb8b4cbda5ed481aecac7eef": {
      "model_module": "@jupyter-widgets/base",
      "model_module_version": "1.0.0",
      "model_name": "LayoutModel",
      "state": {}
     },
     "e91140233bed4c799c6836d3835438bc": {
      "model_module": "@jupyter-widgets/base",
      "model_module_version": "1.0.0",
      "model_name": "LayoutModel",
      "state": {}
     },
     "e93571d4b50942269afef3c756cf7aec": {
      "model_module": "@jupyter-widgets/base",
      "model_module_version": "1.0.0",
      "model_name": "LayoutModel",
      "state": {}
     },
     "e96710b1fede47b4904d1d81941117ea": {
      "model_module": "@jupyter-widgets/controls",
      "model_module_version": "1.2.0",
      "model_name": "DescriptionStyleModel",
      "state": {
       "description_width": ""
      }
     },
     "e9829f4dc72d4f78a7b11d98b99cb1a6": {
      "model_module": "@jupyter-widgets/base",
      "model_module_version": "1.0.0",
      "model_name": "LayoutModel",
      "state": {}
     },
     "e9b05bde36f2497fbc02c3056a99f83b": {
      "model_module": "@jupyter-widgets/base",
      "model_module_version": "1.0.0",
      "model_name": "LayoutModel",
      "state": {}
     },
     "e9ba02d0301f45af8652b5a20a3cbad1": {
      "model_module": "@jupyter-widgets/base",
      "model_module_version": "1.0.0",
      "model_name": "LayoutModel",
      "state": {}
     },
     "e9e1a7aa2ddd42078fec813a1ff434fa": {
      "model_module": "@jupyter-widgets/controls",
      "model_module_version": "1.2.0",
      "model_name": "DescriptionStyleModel",
      "state": {
       "description_width": ""
      }
     },
     "ea2ea49fb8e9443a9e1cf40e6a44765a": {
      "model_module": "@jupyter-widgets/controls",
      "model_module_version": "1.2.0",
      "model_name": "HTMLModel",
      "state": {
       "layout": "IPY_MODEL_8a16ee2fbf814bceb7d0f5334a445931",
       "style": "IPY_MODEL_0439f5fbf34340ee918fd3321a06149b",
       "value": "<b>VAE->UMAP 2-D parameters:<b>"
      }
     },
     "ea55d375d9e242f989e0d47891fb07e7": {
      "model_module": "@jupyter-widgets/controls",
      "model_module_version": "1.2.0",
      "model_name": "DescriptionStyleModel",
      "state": {
       "description_width": ""
      }
     },
     "ea743e1fdf8e412ebce152b1c2b0e5f6": {
      "model_module": "@jupyter-widgets/controls",
      "model_module_version": "1.2.0",
      "model_name": "DescriptionStyleModel",
      "state": {
       "description_width": ""
      }
     },
     "ea7a2a37be934bf6b33ee758b66988f3": {
      "model_module": "@jupyter-widgets/base",
      "model_module_version": "1.0.0",
      "model_name": "LayoutModel",
      "state": {}
     },
     "ea8388f69b7049a99f15a309457d147d": {
      "model_module": "@jupyter-widgets/base",
      "model_module_version": "1.0.0",
      "model_name": "LayoutModel",
      "state": {}
     },
     "ea8c52cb58184d9ead8866927c78fc06": {
      "model_module": "@jupyter-widgets/base",
      "model_module_version": "1.0.0",
      "model_name": "LayoutModel",
      "state": {}
     },
     "ea8e30789e8d4e22a64c9f276bb622bf": {
      "model_module": "@jupyter-widgets/base",
      "model_module_version": "1.0.0",
      "model_name": "LayoutModel",
      "state": {}
     },
     "eadb504018494694b14d012c08204e10": {
      "model_module": "@jupyter-widgets/base",
      "model_module_version": "1.0.0",
      "model_name": "LayoutModel",
      "state": {}
     },
     "eae8b0d93e0149419cc5728c176ed501": {
      "model_module": "@jupyter-widgets/controls",
      "model_module_version": "1.2.0",
      "model_name": "VBoxModel",
      "state": {
       "layout": "IPY_MODEL_b50633cad94e48a98e2b38da91769ea1"
      }
     },
     "eb2ad5850eae465da2cec75f1bf441b1": {
      "model_module": "@jupyter-widgets/base",
      "model_module_version": "1.0.0",
      "model_name": "LayoutModel",
      "state": {}
     },
     "eb4c3e3beecd48198fd37523118e73d2": {
      "model_module": "@jupyter-widgets/base",
      "model_module_version": "1.0.0",
      "model_name": "LayoutModel",
      "state": {}
     },
     "eb5db0b3b5d84d1daf4819c054ba1c7d": {
      "model_module": "@jupyter-widgets/controls",
      "model_module_version": "1.2.0",
      "model_name": "TextModel",
      "state": {
       "description": "Far SEGY:",
       "layout": "IPY_MODEL_8db259d062064ad482001122d628f6ab",
       "style": "IPY_MODEL_e77e841b341a4568a14928ef6a8cbe0a",
       "value": "./data/3d_farstack.sgy"
      }
     },
     "eb67d64512454fa5afadc0ed01043add": {
      "model_module": "@jupyter-widgets/controls",
      "model_module_version": "1.2.0",
      "model_name": "VBoxModel",
      "state": {
       "children": [
        "IPY_MODEL_a797c8608fe04b05bf7aad27aedd6e24"
       ],
       "layout": "IPY_MODEL_102d68cf6d064e2f90a553cc1069f6d5"
      }
     },
     "eb9ea29f6f16426ebaa2ffdad115f0e0": {
      "model_module": "@jupyter-widgets/controls",
      "model_module_version": "1.2.0",
      "model_name": "HBoxModel",
      "state": {
       "children": [
        "IPY_MODEL_4a87c8da9d8d47af9f824cc454745f1a",
        "IPY_MODEL_7bb35923035a479bb8c311e1f76116cc",
        "IPY_MODEL_d07fd68835e64693aa8c42d6f077472f"
       ],
       "layout": "IPY_MODEL_525883bd098241beb91ff5c50133cd26"
      }
     },
     "ebbf4ddf8f3a4d7ba91a5b8ae5980587": {
      "model_module": "@jupyter-widgets/output",
      "model_module_version": "1.0.0",
      "model_name": "OutputModel",
      "state": {
       "layout": "IPY_MODEL_79d4e28bf11c4547908781b9afeb9eff"
      }
     },
     "ebc06f46c10f4fe6a998c06dd13f760b": {
      "model_module": "@jupyter-widgets/controls",
      "model_module_version": "1.2.0",
      "model_name": "HTMLModel",
      "state": {
       "layout": "IPY_MODEL_8e4cc24f8ce74b56a3878e6a9691c2d1",
       "style": "IPY_MODEL_90e032562f474b11b5179f2d36f80af0",
       "value": "<b>UMAP:<b>"
      }
     },
     "ebd4c7eac3d04233b531672f1fdfb980": {
      "model_module": "@jupyter-widgets/base",
      "model_module_version": "1.0.0",
      "model_name": "LayoutModel",
      "state": {}
     },
     "ebd7dfeb7f5e4e83b2092d38c2e6d441": {
      "model_module": "@jupyter-widgets/controls",
      "model_module_version": "1.2.0",
      "model_name": "IntTextModel",
      "state": {
       "description": "Neighbours:",
       "layout": "IPY_MODEL_bff70abf634147e2b155cdf1d719a369",
       "step": 1,
       "style": "IPY_MODEL_904ee8e5cb2943a8b71862a97810a2cc",
       "value": 50
      }
     },
     "ebed1e46140c4d8d9ed975cebb09a982": {
      "model_module": "@jupyter-widgets/controls",
      "model_module_version": "1.2.0",
      "model_name": "HTMLModel",
      "state": {
       "layout": "IPY_MODEL_e9b05bde36f2497fbc02c3056a99f83b",
       "style": "IPY_MODEL_b4536ea97ba6448a90a4b2e6ffe123ae",
       "value": "<b>UMAP:<b>"
      }
     },
     "ec01021531bc48128455e9b87a5229a3": {
      "model_module": "@jupyter-widgets/controls",
      "model_module_version": "1.2.0",
      "model_name": "HBoxModel",
      "state": {
       "children": [
        "IPY_MODEL_498dee4daf3a486c82776c3816f3c9e2",
        "IPY_MODEL_32798481dc8e41c899faf884bd812862"
       ],
       "layout": "IPY_MODEL_8510fca770d244f4bd03b136bd594e67"
      }
     },
     "ec107bf83ab54acebf49af2760c1e532": {
      "model_module": "@jupyter-widgets/base",
      "model_module_version": "1.0.0",
      "model_name": "LayoutModel",
      "state": {}
     },
     "ec17cb218b954846a26242e589ba5096": {
      "model_module": "@jupyter-widgets/base",
      "model_module_version": "1.0.0",
      "model_name": "LayoutModel",
      "state": {}
     },
     "ec19f00f2f254a38a7ee91d3882baf95": {
      "model_module": "@jupyter-widgets/controls",
      "model_module_version": "1.2.0",
      "model_name": "VBoxModel",
      "state": {
       "layout": "IPY_MODEL_2ff63578b5bf4cf680657cb8a014793e"
      }
     },
     "ec1c60dfb94a43b9bb0330a0bcc5c9bb": {
      "model_module": "@jupyter-widgets/base",
      "model_module_version": "1.0.0",
      "model_name": "LayoutModel",
      "state": {}
     },
     "ec292f84a52147eb81afd7e7e39ffa06": {
      "model_module": "@jupyter-widgets/base",
      "model_module_version": "1.0.0",
      "model_name": "LayoutModel",
      "state": {}
     },
     "ec5d8004026047349c17238746aaccb5": {
      "model_module": "@jupyter-widgets/controls",
      "model_module_version": "1.2.0",
      "model_name": "VBoxModel",
      "state": {
       "children": [
        "IPY_MODEL_fa89cb58f31645f8af60dee3108f26ae",
        "IPY_MODEL_976a9b9f042349d2b16bb81957f2d6f9",
        "IPY_MODEL_fd4dfa51da394310b4c8a8cf98a2f83b",
        "IPY_MODEL_daffe953430940bb87a5e77daee12287"
       ],
       "layout": "IPY_MODEL_9929cc0e07d1457c900ad0513664a160"
      }
     },
     "ec6860a47c834d7a91ef3d32f66f0305": {
      "model_module": "@jupyter-widgets/controls",
      "model_module_version": "1.2.0",
      "model_name": "HTMLModel",
      "state": {
       "layout": "IPY_MODEL_85edf85bedbb45f58b6b306acde5e8b5",
       "style": "IPY_MODEL_19d4bdc969e54cf88130973267a3ef89",
       "value": "<b>VAE parameters:<b>"
      }
     },
     "ec9b0e6251d24861957d89c0afe4fb5d": {
      "model_module": "@jupyter-widgets/base",
      "model_module_version": "1.0.0",
      "model_name": "LayoutModel",
      "state": {}
     },
     "eca2a23d8b5e4950b1c70317e7de7add": {
      "model_module": "@jupyter-widgets/controls",
      "model_module_version": "1.2.0",
      "model_name": "TextModel",
      "state": {
       "description": "Horizon .txt:",
       "layout": "IPY_MODEL_2189b1a500ca43e4baa1ae7a22b8bc9e",
       "style": "IPY_MODEL_724fe10ff1ca4a94a2e9dbf1e2e7fc56",
       "value": "./data/Top_Heimdal_subset.txt"
      }
     },
     "ecd1c6d5cc3140fbbb8f17664f66a588": {
      "model_module": "@jupyter-widgets/controls",
      "model_module_version": "1.2.0",
      "model_name": "DescriptionStyleModel",
      "state": {
       "description_width": ""
      }
     },
     "ece19ce2554647fe881ff3fccfb37c90": {
      "model_module": "@jupyter-widgets/controls",
      "model_module_version": "1.2.0",
      "model_name": "ButtonStyleModel",
      "state": {}
     },
     "ece7471e8fac44b699ebe64010d618af": {
      "model_module": "@jupyter-widgets/output",
      "model_module_version": "1.0.0",
      "model_name": "OutputModel",
      "state": {
       "layout": "IPY_MODEL_63f5c8efdb624212bac280b9b257c1cb"
      }
     },
     "ecff67376d634fff8368b2b5a2531ff1": {
      "model_module": "@jupyter-widgets/controls",
      "model_module_version": "1.2.0",
      "model_name": "DropdownModel",
      "state": {
       "_options_labels": [
        "True",
        "False"
       ],
       "description": "True/False:",
       "index": 0,
       "layout": "IPY_MODEL_c108f91e55c143b0b181199a7abbf569",
       "style": "IPY_MODEL_098242439d9849b19a49b07469815137"
      }
     },
     "ed1e8142877c4552b4d7e3fd412c41b5": {
      "model_module": "@jupyter-widgets/base",
      "model_module_version": "1.0.0",
      "model_name": "LayoutModel",
      "state": {}
     },
     "ed26852e8aba481eaf28b6db0d4924d4": {
      "model_module": "@jupyter-widgets/controls",
      "model_module_version": "1.2.0",
      "model_name": "HTMLModel",
      "state": {
       "layout": "IPY_MODEL_c48b45329e22466f8ee9f6d04bd92690",
       "style": "IPY_MODEL_7dfa9f42d49b4cf599f7c71adfcfe8ed",
       "value": "<b>Horizon Flattening:<b>"
      }
     },
     "ed3279d34d6c4cbfa1a66fff9dfbf903": {
      "model_module": "@jupyter-widgets/controls",
      "model_module_version": "1.2.0",
      "model_name": "IntTextModel",
      "state": {
       "description": "Neighbours:",
       "layout": "IPY_MODEL_7e8d6ece58dd47c39c22577930824c60",
       "step": 1,
       "style": "IPY_MODEL_ae1cd9c7a39547deb89235239bd09dd7",
       "value": 50
      }
     },
     "ed5903e3e69e4c3f87c207993cafda01": {
      "model_module": "@jupyter-widgets/base",
      "model_module_version": "1.0.0",
      "model_name": "LayoutModel",
      "state": {}
     },
     "ed76ff81ab3242b2bcd0813b8225afdc": {
      "model_module": "@jupyter-widgets/controls",
      "model_module_version": "1.2.0",
      "model_name": "IntTextModel",
      "state": {
       "description": "Neighbours:",
       "layout": "IPY_MODEL_9315e45f0b5a43db949cede7412335c8",
       "step": 1,
       "style": "IPY_MODEL_6a9f6add795b4b76b63cb18b3710dca6",
       "value": 50
      }
     },
     "edc9acd7652246f5b0d77709dbd3abb5": {
      "model_module": "@jupyter-widgets/base",
      "model_module_version": "1.0.0",
      "model_name": "LayoutModel",
      "state": {}
     },
     "edf0c2dc459d4253aaf17017cd304516": {
      "model_module": "@jupyter-widgets/controls",
      "model_module_version": "1.2.0",
      "model_name": "DescriptionStyleModel",
      "state": {
       "description_width": ""
      }
     },
     "ee29c76a89754e0eb6d7accf5766056d": {
      "model_module": "@jupyter-widgets/controls",
      "model_module_version": "1.2.0",
      "model_name": "DescriptionStyleModel",
      "state": {
       "description_width": ""
      }
     },
     "ee3a8c02c34e476a947c47c2c2334c1e": {
      "model_module": "@jupyter-widgets/base",
      "model_module_version": "1.0.0",
      "model_name": "LayoutModel",
      "state": {}
     },
     "ee623ffc8e95476496249cb2d84799c1": {
      "model_module": "@jupyter-widgets/base",
      "model_module_version": "1.0.0",
      "model_name": "LayoutModel",
      "state": {}
     },
     "ee8599f592f24b2fb6020137b3775419": {
      "model_module": "@jupyter-widgets/controls",
      "model_module_version": "1.2.0",
      "model_name": "DropdownModel",
      "state": {
       "_options_labels": [
        "True",
        "False"
       ],
       "description": "True/False:",
       "index": 0,
       "layout": "IPY_MODEL_10b0486a04a148d2883d86b42f0baae8",
       "style": "IPY_MODEL_8e24d2a881a54b03b4a5bcfff4de2a56"
      }
     },
     "ee9421994b7047f684696fc34aeab1fa": {
      "model_module": "@jupyter-widgets/controls",
      "model_module_version": "1.2.0",
      "model_name": "DescriptionStyleModel",
      "state": {
       "description_width": ""
      }
     },
     "eeaf58900d3e48049594ea0ab5bffb14": {
      "model_module": "@jupyter-widgets/base",
      "model_module_version": "1.0.0",
      "model_name": "LayoutModel",
      "state": {}
     },
     "eec94c3dbd7e4369abc8141b4bd1a259": {
      "model_module": "@jupyter-widgets/base",
      "model_module_version": "1.0.0",
      "model_name": "LayoutModel",
      "state": {}
     },
     "eef635e6299d435e9bbaa3dee619e46d": {
      "model_module": "@jupyter-widgets/controls",
      "model_module_version": "1.2.0",
      "model_name": "DescriptionStyleModel",
      "state": {
       "description_width": ""
      }
     },
     "ef4479ea56644e32925d492dd9312567": {
      "model_module": "@jupyter-widgets/controls",
      "model_module_version": "1.2.0",
      "model_name": "BoundedFloatTextModel",
      "state": {
       "description": "Learn Rate:",
       "layout": "IPY_MODEL_68a0dba882ee4c0db8c537f3ddb48d32",
       "max": 1,
       "min": 0.0001,
       "step": 0.005,
       "style": "IPY_MODEL_654ab63748094edba75ab92a03171d00",
       "value": 0.01
      }
     },
     "ef6485b019c445279e249b9862433df5": {
      "model_module": "@jupyter-widgets/controls",
      "model_module_version": "1.2.0",
      "model_name": "IntTextModel",
      "state": {
       "description": "Step:",
       "layout": "IPY_MODEL_853abbc491934cc1869570d2789cdad1",
       "step": 1,
       "style": "IPY_MODEL_006205bbb8c24ab0ae16b36fe1cac11c",
       "value": 2
      }
     },
     "ef6f246edf314a4fbb1e62a6296b073c": {
      "model_module": "@jupyter-widgets/controls",
      "model_module_version": "1.2.0",
      "model_name": "ButtonStyleModel",
      "state": {}
     },
     "ef8805dd27594994bb67a626a6bec032": {
      "model_module": "@jupyter-widgets/base",
      "model_module_version": "1.0.0",
      "model_name": "LayoutModel",
      "state": {}
     },
     "ef8871313e384cbabe9aaa42a47102f3": {
      "model_module": "@jupyter-widgets/base",
      "model_module_version": "1.0.0",
      "model_name": "LayoutModel",
      "state": {}
     },
     "efc8cf2b58aa4a8c964cc8c1a363d0c1": {
      "model_module": "@jupyter-widgets/controls",
      "model_module_version": "1.2.0",
      "model_name": "DescriptionStyleModel",
      "state": {
       "description_width": ""
      }
     },
     "efe640e2444e45ecb24100a5a8ce5a3e": {
      "model_module": "@jupyter-widgets/controls",
      "model_module_version": "1.2.0",
      "model_name": "VBoxModel",
      "state": {
       "children": [
        "IPY_MODEL_22d8e16f0a0c4281b02ed0e4c12ff953",
        "IPY_MODEL_733e21d93ddd4b5f83574c1db8289a09",
        "IPY_MODEL_424a503505ae45cfb1d71d609e8150a7",
        "IPY_MODEL_b9e2c6d323084720806ccbd9e7b75f29"
       ],
       "layout": "IPY_MODEL_409a797226b449278b6ac67291dbcd57"
      }
     },
     "efe6b545009546b6a161e8428e9b7d97": {
      "model_module": "@jupyter-widgets/base",
      "model_module_version": "1.0.0",
      "model_name": "LayoutModel",
      "state": {}
     },
     "f0316cf9ac774b1fa6351c87c3cead9b": {
      "model_module": "@jupyter-widgets/base",
      "model_module_version": "1.0.0",
      "model_name": "LayoutModel",
      "state": {}
     },
     "f04d0ffee26e4ebfbf97f62090067210": {
      "model_module": "@jupyter-widgets/controls",
      "model_module_version": "1.2.0",
      "model_name": "DescriptionStyleModel",
      "state": {
       "description_width": ""
      }
     },
     "f0b3622a86044b89af10446944e3881d": {
      "model_module": "@jupyter-widgets/base",
      "model_module_version": "1.0.0",
      "model_name": "LayoutModel",
      "state": {}
     },
     "f0bf6bdad3ca4f038e05ce16a0bef445": {
      "model_module": "@jupyter-widgets/base",
      "model_module_version": "1.0.0",
      "model_name": "LayoutModel",
      "state": {}
     },
     "f0d15f522a1e4de9974dabc1fb71cba9": {
      "model_module": "@jupyter-widgets/controls",
      "model_module_version": "1.2.0",
      "model_name": "DescriptionStyleModel",
      "state": {
       "description_width": ""
      }
     },
     "f143e8cf27794ca8be6319c931e05ab6": {
      "model_module": "@jupyter-widgets/controls",
      "model_module_version": "1.2.0",
      "model_name": "IntTextModel",
      "state": {
       "description": "Stop:",
       "layout": "IPY_MODEL_8a011367bef44be095a71dec68ab048b",
       "step": 1,
       "style": "IPY_MODEL_42eb60ebdce843bba9be02f518107481",
       "value": 2002
      }
     },
     "f178e1e3a5ed43e5a69b262a35ff7201": {
      "model_module": "@jupyter-widgets/base",
      "model_module_version": "1.0.0",
      "model_name": "LayoutModel",
      "state": {}
     },
     "f19359d2532c44aabc89c204d0a75c70": {
      "model_module": "@jupyter-widgets/controls",
      "model_module_version": "1.2.0",
      "model_name": "HBoxModel",
      "state": {
       "children": [
        "IPY_MODEL_6b98a8b93a424a6980b6cbea556b7ecc",
        "IPY_MODEL_87fe71473197463eb5d7378fa7776405"
       ],
       "layout": "IPY_MODEL_8c5a36ef413a45c5a3de67c56face4bf"
      }
     },
     "f1a5f947285e4d0caecfda265f5541cf": {
      "model_module": "@jupyter-widgets/controls",
      "model_module_version": "1.2.0",
      "model_name": "HBoxModel",
      "state": {
       "children": [
        "IPY_MODEL_8d838583f1b6460da7f128565d4f1690",
        "IPY_MODEL_118a81033f214f64a639b4d13d9acbe1"
       ],
       "layout": "IPY_MODEL_cff89a4eefe642e290193fb42d8b056b"
      }
     },
     "f1a7854d0366416aae9b972177a333e1": {
      "model_module": "@jupyter-widgets/base",
      "model_module_version": "1.0.0",
      "model_name": "LayoutModel",
      "state": {}
     },
     "f1b6945de02d45d2b30ed1ef8a11153e": {
      "model_module": "@jupyter-widgets/controls",
      "model_module_version": "1.2.0",
      "model_name": "DescriptionStyleModel",
      "state": {
       "description_width": ""
      }
     },
     "f1dcc38279434ab2ac3226d09df11a06": {
      "model_module": "@jupyter-widgets/controls",
      "model_module_version": "1.2.0",
      "model_name": "DescriptionStyleModel",
      "state": {
       "description_width": ""
      }
     },
     "f1e0e1bea44d4e0087963e5f2a399e8b": {
      "model_module": "@jupyter-widgets/base",
      "model_module_version": "1.0.0",
      "model_name": "LayoutModel",
      "state": {}
     },
     "f2032e54afe6447bbef2c363ecef6adf": {
      "model_module": "@jupyter-widgets/controls",
      "model_module_version": "1.2.0",
      "model_name": "HTMLModel",
      "state": {
       "layout": "IPY_MODEL_65397ef500bf4293a2df2c56f040339b",
       "style": "IPY_MODEL_a685310469a84f5bae327a8a7204583c",
       "value": "<b>In-line range:<b>"
      }
     },
     "f20ba6b5be4147ac9a599d3f51ae128a": {
      "model_module": "@jupyter-widgets/controls",
      "model_module_version": "1.2.0",
      "model_name": "ButtonModel",
      "state": {
       "description": "Process Input",
       "layout": "IPY_MODEL_bc945ff9f83f41a092d010b2f78d4905",
       "style": "IPY_MODEL_bfd0529688e34acaa4d0b89ac05bbd73"
      }
     },
     "f21d3f59ff084f4d95362849b5096c95": {
      "model_module": "@jupyter-widgets/controls",
      "model_module_version": "1.2.0",
      "model_name": "VBoxModel",
      "state": {
       "layout": "IPY_MODEL_c45ae3140f6a4f03816ca9bbd7165171"
      }
     },
     "f2211192c0084557a9a28ac884811494": {
      "model_module": "@jupyter-widgets/controls",
      "model_module_version": "1.2.0",
      "model_name": "DescriptionStyleModel",
      "state": {
       "description_width": ""
      }
     },
     "f2290ef1f1a248319c92ba2663b65726": {
      "model_module": "@jupyter-widgets/base",
      "model_module_version": "1.0.0",
      "model_name": "LayoutModel",
      "state": {}
     },
     "f23800f0b7e4482dab82f039102f7a8d": {
      "model_module": "@jupyter-widgets/controls",
      "model_module_version": "1.2.0",
      "model_name": "ButtonModel",
      "state": {
       "description": "Run Umap",
       "layout": "IPY_MODEL_0775aa8a817a49dead96f13c4e2ad24b",
       "style": "IPY_MODEL_3a59d6b8641d4e90a972fea118c7a2fc"
      }
     },
     "f239ea79b8154bf4b620396fde6a477c": {
      "model_module": "@jupyter-widgets/controls",
      "model_module_version": "1.2.0",
      "model_name": "ButtonStyleModel",
      "state": {}
     },
     "f263c70e0fce48c5bbcd7b1b688d126b": {
      "model_module": "@jupyter-widgets/base",
      "model_module_version": "1.0.0",
      "model_name": "LayoutModel",
      "state": {
       "border": "4px solid red"
      }
     },
     "f267cf6fe02748f7aacaba78d16e77c0": {
      "model_module": "@jupyter-widgets/controls",
      "model_module_version": "1.2.0",
      "model_name": "DescriptionStyleModel",
      "state": {
       "description_width": ""
      }
     },
     "f284aa00d7ee40758701ada5d2aa3cc5": {
      "model_module": "@jupyter-widgets/base",
      "model_module_version": "1.0.0",
      "model_name": "LayoutModel",
      "state": {}
     },
     "f28ba8d0b3494daf81079b7e8e3281f8": {
      "model_module": "@jupyter-widgets/controls",
      "model_module_version": "1.2.0",
      "model_name": "VBoxModel",
      "state": {
       "children": [
        "IPY_MODEL_0b3a1650aa3f420f8c2b742ae2e93ec7",
        "IPY_MODEL_8d1008baeba148cdaf6b7d36a110e614",
        "IPY_MODEL_ce540eadc703447498d3988b28bce501",
        "IPY_MODEL_dd7e3381ca264579a39b194e06563b8f"
       ],
       "layout": "IPY_MODEL_95e783162d4142d8958a7bee53c5f5c5"
      }
     },
     "f2a3f56af3dd4d529eae24c0ecad083e": {
      "model_module": "@jupyter-widgets/controls",
      "model_module_version": "1.2.0",
      "model_name": "VBoxModel",
      "state": {
       "children": [
        "IPY_MODEL_2975b9ab4bd54d489694faca6dc26bb7",
        "IPY_MODEL_ace34aac5a934c0c9439069b45965bde",
        "IPY_MODEL_81f9f5f913f64a99b155a1759b967ade"
       ],
       "layout": "IPY_MODEL_d9e60a58f6ae4694a842818c178ac316"
      }
     },
     "f2c0c3b51c2a49f990a4b10a2fd4a124": {
      "model_module": "@jupyter-widgets/base",
      "model_module_version": "1.0.0",
      "model_name": "LayoutModel",
      "state": {}
     },
     "f2cc191f3e204c3e97a7cc7edcb22c09": {
      "model_module": "@jupyter-widgets/controls",
      "model_module_version": "1.2.0",
      "model_name": "VBoxModel",
      "state": {
       "children": [
        "IPY_MODEL_3c606d56df8f404b910c45a20bec5b5f",
        "IPY_MODEL_8d62fddaa4d04c139f672e08b0ff209c"
       ],
       "layout": "IPY_MODEL_12cea918009349d6a03ba401b584282c"
      }
     },
     "f2ce43afe7a541d5a316f0a10f42a9eb": {
      "model_module": "@jupyter-widgets/controls",
      "model_module_version": "1.2.0",
      "model_name": "DescriptionStyleModel",
      "state": {
       "description_width": ""
      }
     },
     "f30ffc51c0994298bd81a63729699d7d": {
      "model_module": "@jupyter-widgets/base",
      "model_module_version": "1.0.0",
      "model_name": "LayoutModel",
      "state": {}
     },
     "f32930de8e1847fd8991ec0a7e2654b5": {
      "model_module": "@jupyter-widgets/controls",
      "model_module_version": "1.2.0",
      "model_name": "VBoxModel",
      "state": {
       "children": [
        "IPY_MODEL_3e03bb87324241bfb16afda1eecd7bd7",
        "IPY_MODEL_f9d5aff3f3fe4f519fadc1c79049ec59",
        "IPY_MODEL_23a62a1457c74f1eb9d5b013bf09a79a",
        "IPY_MODEL_a2f1c5646bc24e53897fa2583e7467ff"
       ],
       "layout": "IPY_MODEL_f2290ef1f1a248319c92ba2663b65726"
      }
     },
     "f32f7947945748c7837424c0943ae7f0": {
      "model_module": "@jupyter-widgets/base",
      "model_module_version": "1.0.0",
      "model_name": "LayoutModel",
      "state": {}
     },
     "f379ece931b7422aa0f6a56e82f2d24b": {
      "model_module": "@jupyter-widgets/base",
      "model_module_version": "1.0.0",
      "model_name": "LayoutModel",
      "state": {}
     },
     "f3a4c1899e2a4b0f8f9947b2c48981c4": {
      "model_module": "@jupyter-widgets/controls",
      "model_module_version": "1.2.0",
      "model_name": "ButtonStyleModel",
      "state": {}
     },
     "f3aba06f82eb41409a56622ebc1156d6": {
      "model_module": "@jupyter-widgets/controls",
      "model_module_version": "1.2.0",
      "model_name": "HTMLModel",
      "state": {
       "layout": "IPY_MODEL_5e057a008fb6441db24081ace53d3590",
       "style": "IPY_MODEL_841b2f7a0bfb4a0798457188911263ca",
       "value": "<b>File Pathnames:<b>"
      }
     },
     "f3c383995a664217a6bd931caf5f20af": {
      "model_module": "@jupyter-widgets/controls",
      "model_module_version": "1.2.0",
      "model_name": "HTMLModel",
      "state": {
       "layout": "IPY_MODEL_c5fcf2f2655c48f6b03cab8a8581916d",
       "style": "IPY_MODEL_7c314f1ace2b41209ae44adff39251cb",
       "value": "<b>VAE parameters:<b>"
      }
     },
     "f3c58116f69646bb8979176413b7107b": {
      "model_module": "@jupyter-widgets/controls",
      "model_module_version": "1.2.0",
      "model_name": "IntTextModel",
      "state": {
       "description": "Stop:",
       "layout": "IPY_MODEL_baf712e9bac546d0a0f18f2c8e03bbfb",
       "step": 1,
       "style": "IPY_MODEL_1793588c65234dea8a44279b6c2fec4a",
       "value": 2002
      }
     },
     "f3e2cf60963141a5b911a0772ff2cf8c": {
      "model_module": "@jupyter-widgets/base",
      "model_module_version": "1.0.0",
      "model_name": "LayoutModel",
      "state": {}
     },
     "f3e4f01bfd344ed795e15b7668ebaed1": {
      "model_module": "@jupyter-widgets/base",
      "model_module_version": "1.0.0",
      "model_name": "LayoutModel",
      "state": {
       "border": "4px solid red"
      }
     },
     "f40378d6d47b4884a3ca9eed22f3950f": {
      "model_module": "@jupyter-widgets/base",
      "model_module_version": "1.0.0",
      "model_name": "LayoutModel",
      "state": {}
     },
     "f406652e435a4ffb959b41d409cd7e17": {
      "model_module": "@jupyter-widgets/controls",
      "model_module_version": "1.2.0",
      "model_name": "DescriptionStyleModel",
      "state": {
       "description_width": ""
      }
     },
     "f41b1dae5c264a5f877b802555a49fc1": {
      "model_module": "@jupyter-widgets/controls",
      "model_module_version": "1.2.0",
      "model_name": "DescriptionStyleModel",
      "state": {
       "description_width": ""
      }
     },
     "f432256d803c4ff19b0a041aeb4a2621": {
      "model_module": "@jupyter-widgets/controls",
      "model_module_version": "1.2.0",
      "model_name": "VBoxModel",
      "state": {
       "children": [
        "IPY_MODEL_9d31f13c07ea451182c672f1a0aa2816"
       ],
       "layout": "IPY_MODEL_36a85786f1884a81b3cd411e0baf0720"
      }
     },
     "f472fe596c054bd3a3850aa003383f69": {
      "model_module": "@jupyter-widgets/controls",
      "model_module_version": "1.2.0",
      "model_name": "DescriptionStyleModel",
      "state": {
       "description_width": ""
      }
     },
     "f494d579af9a4babade7f0aac3c15989": {
      "model_module": "@jupyter-widgets/controls",
      "model_module_version": "1.2.0",
      "model_name": "ButtonModel",
      "state": {
       "description": "Run Umap",
       "layout": "IPY_MODEL_4932e3d07f5a4bd4893b4e2395cf22f9",
       "style": "IPY_MODEL_e586191e43b34d2a992bd2d777b02796"
      }
     },
     "f498899fb9c34ef79a56dd0018ea5e5d": {
      "model_module": "@jupyter-widgets/base",
      "model_module_version": "1.0.0",
      "model_name": "LayoutModel",
      "state": {}
     },
     "f4ac581479f747efa68372a5fa9420e3": {
      "model_module": "@jupyter-widgets/controls",
      "model_module_version": "1.2.0",
      "model_name": "BoundedFloatTextModel",
      "state": {
       "description": "Min Dist:",
       "layout": "IPY_MODEL_350f8408119e466b93af169399f897f3",
       "max": 1,
       "min": 0.001,
       "step": 0.0001,
       "style": "IPY_MODEL_f04d0ffee26e4ebfbf97f62090067210",
       "value": 0.01
      }
     },
     "f4baab9171bd4821b1a0c44601d85669": {
      "model_module": "@jupyter-widgets/controls",
      "model_module_version": "1.2.0",
      "model_name": "VBoxModel",
      "state": {
       "children": [
        "IPY_MODEL_b17b39ef67584ce2b6f4537ded7acc11",
        "IPY_MODEL_6dd3c455a7694401bacb718b3639cb7a"
       ],
       "layout": "IPY_MODEL_c29f83973ae04a47a37d3048b773993e"
      }
     },
     "f4bdbe1945854c3ab1069258253e5482": {
      "model_module": "@jupyter-widgets/controls",
      "model_module_version": "1.2.0",
      "model_name": "DescriptionStyleModel",
      "state": {
       "description_width": ""
      }
     },
     "f4be170d198e4277aacf1d9b45a3c7e2": {
      "model_module": "@jupyter-widgets/base",
      "model_module_version": "1.0.0",
      "model_name": "LayoutModel",
      "state": {}
     },
     "f50f8a4c7a8540438d366bc6a6b89536": {
      "model_module": "@jupyter-widgets/controls",
      "model_module_version": "1.2.0",
      "model_name": "AccordionModel",
      "state": {
       "_titles": {
        "0": "UMAP",
        "1": "VAE",
        "2": "β-VAE"
       },
       "children": [
        "IPY_MODEL_0c17c0c962e649bc961bde9735e059d4",
        "IPY_MODEL_3b20784dd3e5475c9e65b99138ee5352",
        "IPY_MODEL_b7a700b5d59944dfb9328575e5d5f93f"
       ],
       "layout": "IPY_MODEL_5dc26c9f81e747acb8b6c80f257ed24a"
      }
     },
     "f52c2fceed4948a5934c5f856f3c9fc9": {
      "model_module": "@jupyter-widgets/controls",
      "model_module_version": "1.2.0",
      "model_name": "HBoxModel",
      "state": {
       "children": [
        "IPY_MODEL_d19795236b53425fb51081a74100dcd5",
        "IPY_MODEL_3470df9f75c14a5bbb1b804315163027"
       ],
       "layout": "IPY_MODEL_6aed598cf79a490ba04be2ecd971fd7f"
      }
     },
     "f5400f3a7dd144fb92d700638121b973": {
      "model_module": "@jupyter-widgets/controls",
      "model_module_version": "1.2.0",
      "model_name": "ButtonStyleModel",
      "state": {}
     },
     "f558fa66099147d0a6a06ae76187d81d": {
      "model_module": "@jupyter-widgets/controls",
      "model_module_version": "1.2.0",
      "model_name": "IntTextModel",
      "state": {
       "description": "Neighbours:",
       "layout": "IPY_MODEL_df81987f9bad4f81992d53481cb4794a",
       "step": 1,
       "style": "IPY_MODEL_3cc5e38e8a144fb8a2ed6faed2d2af33",
       "value": 50
      }
     },
     "f55ed2bc148349babb04bca895cf9d5a": {
      "model_module": "@jupyter-widgets/controls",
      "model_module_version": "1.2.0",
      "model_name": "VBoxModel",
      "state": {
       "children": [
        "IPY_MODEL_c576721f812d4dfea03d4e9aaf3e8b21"
       ],
       "layout": "IPY_MODEL_abfb7b837150454eb8da9d58b3918ffb"
      }
     },
     "f594f5cefbbc4b90914cb6caba0a2bb5": {
      "model_module": "@jupyter-widgets/controls",
      "model_module_version": "1.2.0",
      "model_name": "DescriptionStyleModel",
      "state": {
       "description_width": ""
      }
     },
     "f5954f7ad2f34a4691839208238b7530": {
      "model_module": "@jupyter-widgets/controls",
      "model_module_version": "1.2.0",
      "model_name": "DropdownModel",
      "state": {
       "_options_labels": [
        "True",
        "False"
       ],
       "description": "True/False:",
       "index": 0,
       "layout": "IPY_MODEL_733b4eb04d4346b2977eba276cee0828",
       "style": "IPY_MODEL_997eb4b4f12442258b346219e38e8290"
      }
     },
     "f59b09426a95486d8b6eb69b5eb7ab2f": {
      "model_module": "@jupyter-widgets/controls",
      "model_module_version": "1.2.0",
      "model_name": "VBoxModel",
      "state": {
       "layout": "IPY_MODEL_2844434302164068a1f65681a18c8bd2"
      }
     },
     "f59fcb7006d4445d9264e3cdbfa9b07e": {
      "model_module": "@jupyter-widgets/base",
      "model_module_version": "1.0.0",
      "model_name": "LayoutModel",
      "state": {}
     },
     "f5a14e5816a5465294fd3b8110a2c478": {
      "model_module": "@jupyter-widgets/controls",
      "model_module_version": "1.2.0",
      "model_name": "DescriptionStyleModel",
      "state": {
       "description_width": ""
      }
     },
     "f5d9e90a2e0743f49f50b495001497ff": {
      "model_module": "@jupyter-widgets/base",
      "model_module_version": "1.0.0",
      "model_name": "LayoutModel",
      "state": {}
     },
     "f603a4556e93488dbcec34ef4ce1aaba": {
      "model_module": "@jupyter-widgets/controls",
      "model_module_version": "1.2.0",
      "model_name": "HBoxModel",
      "state": {
       "children": [
        "IPY_MODEL_2a663899f96043a38a9efc5d7765bcf4",
        "IPY_MODEL_aae74f9258ce4383ba3acdd4772dbeb0"
       ],
       "layout": "IPY_MODEL_5cbeb1f6df4b40feaa7469c0663eb86a"
      }
     },
     "f62430d0fef6434698a326758002e7f7": {
      "model_module": "@jupyter-widgets/controls",
      "model_module_version": "1.2.0",
      "model_name": "DescriptionStyleModel",
      "state": {
       "description_width": ""
      }
     },
     "f6318643bf1041948dfb0347055752d7": {
      "model_module": "@jupyter-widgets/controls",
      "model_module_version": "1.2.0",
      "model_name": "DescriptionStyleModel",
      "state": {
       "description_width": ""
      }
     },
     "f633a90370e84307941795c7b3fcedf5": {
      "model_module": "@jupyter-widgets/base",
      "model_module_version": "1.0.0",
      "model_name": "LayoutModel",
      "state": {}
     },
     "f651cfafb86e4e9d8f9b762724613e71": {
      "model_module": "@jupyter-widgets/controls",
      "model_module_version": "1.2.0",
      "model_name": "DescriptionStyleModel",
      "state": {
       "description_width": ""
      }
     },
     "f6a34217f71746e897052d143a51f0a1": {
      "model_module": "@jupyter-widgets/controls",
      "model_module_version": "1.2.0",
      "model_name": "ButtonModel",
      "state": {
       "description": "Load Data",
       "layout": "IPY_MODEL_4998449aec714fcb8df46d7855c8ae4a",
       "style": "IPY_MODEL_b8a545a7f8ce4ad8bde0250c8095d003"
      }
     },
     "f6ae27f4f6204b0c9717ba6ffc806b8a": {
      "model_module": "@jupyter-widgets/controls",
      "model_module_version": "1.2.0",
      "model_name": "BoundedFloatTextModel",
      "state": {
       "description": "Min Dist:",
       "layout": "IPY_MODEL_cc6a8a5493e2457caa1e1a972b59c6ee",
       "max": 1,
       "min": 0.001,
       "step": 0.0001,
       "style": "IPY_MODEL_0be6693aa9e240c38533a080689d576c",
       "value": 0.01
      }
     },
     "f6e28f9efa104786ae6921e10f5a842b": {
      "model_module": "@jupyter-widgets/base",
      "model_module_version": "1.0.0",
      "model_name": "LayoutModel",
      "state": {}
     },
     "f7086429bcf24814917402ecd5885cb9": {
      "model_module": "@jupyter-widgets/controls",
      "model_module_version": "1.2.0",
      "model_name": "TextModel",
      "state": {
       "description": "Near SEGY:",
       "layout": "IPY_MODEL_cce1b08ec6be4b4ba2c14c91b98360f3",
       "style": "IPY_MODEL_57c9239268c9415995f15530dbcbbf9f",
       "value": "./data/3d_nearstack.sgy"
      }
     },
     "f73183682a894beca745c0475d63da68": {
      "model_module": "@jupyter-widgets/base",
      "model_module_version": "1.0.0",
      "model_name": "LayoutModel",
      "state": {}
     },
     "f733898e7ff84019a67c8cd1e5511597": {
      "model_module": "@jupyter-widgets/base",
      "model_module_version": "1.0.0",
      "model_name": "LayoutModel",
      "state": {}
     },
     "f74db902131444eda82374bdb3704cab": {
      "model_module": "@jupyter-widgets/controls",
      "model_module_version": "1.2.0",
      "model_name": "DescriptionStyleModel",
      "state": {
       "description_width": ""
      }
     },
     "f7689a8d7ca049dc90b13eea47ec26be": {
      "model_module": "@jupyter-widgets/controls",
      "model_module_version": "1.2.0",
      "model_name": "VBoxModel",
      "state": {
       "children": [
        "IPY_MODEL_da49975cb82e4721b2fb8fea180490ef"
       ],
       "layout": "IPY_MODEL_7e02c4b6593947579b52380952164b76"
      }
     },
     "f76cb244ba8348389b6762e1527697d4": {
      "model_module": "@jupyter-widgets/output",
      "model_module_version": "1.0.0",
      "model_name": "OutputModel",
      "state": {
       "layout": "IPY_MODEL_b445e9be866c4665ac4c77f320602ab3"
      }
     },
     "f779abde51734bcf8594abf705511c90": {
      "model_module": "@jupyter-widgets/controls",
      "model_module_version": "1.2.0",
      "model_name": "BoundedFloatTextModel",
      "state": {
       "description": "Min Dist:",
       "layout": "IPY_MODEL_04d6457b026a4180b9c17f0f0fd1afb9",
       "max": 1,
       "min": 0.001,
       "step": 0.0001,
       "style": "IPY_MODEL_a62fe0dcb55a4b0cb575bfbef4131fed",
       "value": 0.01
      }
     },
     "f785f2f7c08e438da22defe018f73b4f": {
      "model_module": "@jupyter-widgets/controls",
      "model_module_version": "1.2.0",
      "model_name": "IntTextModel",
      "state": {
       "description": "Above Add:",
       "layout": "IPY_MODEL_adce6e92df314f5bbfab63786c5293cd",
       "step": 1,
       "style": "IPY_MODEL_02fcdf3aaa624493bf2a8abd2889c490",
       "value": 12
      }
     },
     "f7b7fea893704816a78340b03906f570": {
      "model_module": "@jupyter-widgets/controls",
      "model_module_version": "1.2.0",
      "model_name": "VBoxModel",
      "state": {
       "children": [
        "IPY_MODEL_31f8cacc03d542a3b94ccaf62d77b4d9",
        "IPY_MODEL_e598843706e64dc9b1f9ad61530847ba"
       ],
       "layout": "IPY_MODEL_00052a87a6164a17b6b070cf3c8dc528"
      }
     },
     "f7b97e186f0f423ebbf099c7583bc873": {
      "model_module": "@jupyter-widgets/base",
      "model_module_version": "1.0.0",
      "model_name": "LayoutModel",
      "state": {}
     },
     "f7cce78703ba45fa8a6ab7b66024fa90": {
      "model_module": "@jupyter-widgets/base",
      "model_module_version": "1.0.0",
      "model_name": "LayoutModel",
      "state": {}
     },
     "f7ce2e5d9232429aa7397b10ca9422f1": {
      "model_module": "@jupyter-widgets/controls",
      "model_module_version": "1.2.0",
      "model_name": "DescriptionStyleModel",
      "state": {
       "description_width": ""
      }
     },
     "f7d76211981a4f2c848be5cc16b696e0": {
      "model_module": "@jupyter-widgets/controls",
      "model_module_version": "1.2.0",
      "model_name": "IntTextModel",
      "state": {
       "description": "Step:",
       "layout": "IPY_MODEL_64887f6b6b0249caa06cc92860a7cc6e",
       "step": 1,
       "style": "IPY_MODEL_27bfa23e79b441b7be3a99de5fe263f8",
       "value": 2
      }
     },
     "f7dd58df2e334e869010d5b80797259a": {
      "model_module": "@jupyter-widgets/controls",
      "model_module_version": "1.2.0",
      "model_name": "VBoxModel",
      "state": {
       "children": [
        "IPY_MODEL_db24f2049e5c4470b3366543ae3417c9",
        "IPY_MODEL_832b1b37c68949ca9a135899996446cf",
        "IPY_MODEL_08c7a4e245814779b0f22ba593c95dca",
        "IPY_MODEL_704e0ff07840499fab8dbe464934ce5b"
       ],
       "layout": "IPY_MODEL_0c9efacd9bc7464490ce4fffc37b2b56"
      }
     },
     "f7e23b8833f54109b360ec5fe0a04fd6": {
      "model_module": "@jupyter-widgets/base",
      "model_module_version": "1.0.0",
      "model_name": "LayoutModel",
      "state": {}
     },
     "f80ae7bf88374723abd1bbbd7ad6cab1": {
      "model_module": "@jupyter-widgets/output",
      "model_module_version": "1.0.0",
      "model_name": "OutputModel",
      "state": {
       "layout": "IPY_MODEL_6069cf2712994b47a4d98c9ce404dc42",
       "outputs": [
        {
         "data": {
          "application/javascript": "/* Put everything inside the global mpl namespace */\nwindow.mpl = {};\n\n\nmpl.get_websocket_type = function() {\n    if (typeof(WebSocket) !== 'undefined') {\n        return WebSocket;\n    } else if (typeof(MozWebSocket) !== 'undefined') {\n        return MozWebSocket;\n    } else {\n        alert('Your browser does not have WebSocket support.' +\n              'Please try Chrome, Safari or Firefox ≥ 6. ' +\n              'Firefox 4 and 5 are also supported but you ' +\n              'have to enable WebSockets in about:config.');\n    };\n}\n\nmpl.figure = function(figure_id, websocket, ondownload, parent_element) {\n    this.id = figure_id;\n\n    this.ws = websocket;\n\n    this.supports_binary = (this.ws.binaryType != undefined);\n\n    if (!this.supports_binary) {\n        var warnings = document.getElementById(\"mpl-warnings\");\n        if (warnings) {\n            warnings.style.display = 'block';\n            warnings.textContent = (\n                \"This browser does not support binary websocket messages. \" +\n                    \"Performance may be slow.\");\n        }\n    }\n\n    this.imageObj = new Image();\n\n    this.context = undefined;\n    this.message = undefined;\n    this.canvas = undefined;\n    this.rubberband_canvas = undefined;\n    this.rubberband_context = undefined;\n    this.format_dropdown = undefined;\n\n    this.image_mode = 'full';\n\n    this.root = $('<div/>');\n    this._root_extra_style(this.root)\n    this.root.attr('style', 'display: inline-block');\n\n    $(parent_element).append(this.root);\n\n    this._init_header(this);\n    this._init_canvas(this);\n    this._init_toolbar(this);\n\n    var fig = this;\n\n    this.waiting = false;\n\n    this.ws.onopen =  function () {\n            fig.send_message(\"supports_binary\", {value: fig.supports_binary});\n            fig.send_message(\"send_image_mode\", {});\n            if (mpl.ratio != 1) {\n                fig.send_message(\"set_dpi_ratio\", {'dpi_ratio': mpl.ratio});\n            }\n            fig.send_message(\"refresh\", {});\n        }\n\n    this.imageObj.onload = function() {\n            if (fig.image_mode == 'full') {\n                // Full images could contain transparency (where diff images\n                // almost always do), so we need to clear the canvas so that\n                // there is no ghosting.\n                fig.context.clearRect(0, 0, fig.canvas.width, fig.canvas.height);\n            }\n            fig.context.drawImage(fig.imageObj, 0, 0);\n        };\n\n    this.imageObj.onunload = function() {\n        fig.ws.close();\n    }\n\n    this.ws.onmessage = this._make_on_message_function(this);\n\n    this.ondownload = ondownload;\n}\n\nmpl.figure.prototype._init_header = function() {\n    var titlebar = $(\n        '<div class=\"ui-dialog-titlebar ui-widget-header ui-corner-all ' +\n        'ui-helper-clearfix\"/>');\n    var titletext = $(\n        '<div class=\"ui-dialog-title\" style=\"width: 100%; ' +\n        'text-align: center; padding: 3px;\"/>');\n    titlebar.append(titletext)\n    this.root.append(titlebar);\n    this.header = titletext[0];\n}\n\n\n\nmpl.figure.prototype._canvas_extra_style = function(canvas_div) {\n\n}\n\n\nmpl.figure.prototype._root_extra_style = function(canvas_div) {\n\n}\n\nmpl.figure.prototype._init_canvas = function() {\n    var fig = this;\n\n    var canvas_div = $('<div/>');\n\n    canvas_div.attr('style', 'position: relative; clear: both; outline: 0');\n\n    function canvas_keyboard_event(event) {\n        return fig.key_event(event, event['data']);\n    }\n\n    canvas_div.keydown('key_press', canvas_keyboard_event);\n    canvas_div.keyup('key_release', canvas_keyboard_event);\n    this.canvas_div = canvas_div\n    this._canvas_extra_style(canvas_div)\n    this.root.append(canvas_div);\n\n    var canvas = $('<canvas/>');\n    canvas.addClass('mpl-canvas');\n    canvas.attr('style', \"left: 0; top: 0; z-index: 0; outline: 0\")\n\n    this.canvas = canvas[0];\n    this.context = canvas[0].getContext(\"2d\");\n\n    var backingStore = this.context.backingStorePixelRatio ||\n\tthis.context.webkitBackingStorePixelRatio ||\n\tthis.context.mozBackingStorePixelRatio ||\n\tthis.context.msBackingStorePixelRatio ||\n\tthis.context.oBackingStorePixelRatio ||\n\tthis.context.backingStorePixelRatio || 1;\n\n    mpl.ratio = (window.devicePixelRatio || 1) / backingStore;\n\n    var rubberband = $('<canvas/>');\n    rubberband.attr('style', \"position: absolute; left: 0; top: 0; z-index: 1;\")\n\n    var pass_mouse_events = true;\n\n    canvas_div.resizable({\n        start: function(event, ui) {\n            pass_mouse_events = false;\n        },\n        resize: function(event, ui) {\n            fig.request_resize(ui.size.width, ui.size.height);\n        },\n        stop: function(event, ui) {\n            pass_mouse_events = true;\n            fig.request_resize(ui.size.width, ui.size.height);\n        },\n    });\n\n    function mouse_event_fn(event) {\n        if (pass_mouse_events)\n            return fig.mouse_event(event, event['data']);\n    }\n\n    rubberband.mousedown('button_press', mouse_event_fn);\n    rubberband.mouseup('button_release', mouse_event_fn);\n    // Throttle sequential mouse events to 1 every 20ms.\n    rubberband.mousemove('motion_notify', mouse_event_fn);\n\n    rubberband.mouseenter('figure_enter', mouse_event_fn);\n    rubberband.mouseleave('figure_leave', mouse_event_fn);\n\n    canvas_div.on(\"wheel\", function (event) {\n        event = event.originalEvent;\n        event['data'] = 'scroll'\n        if (event.deltaY < 0) {\n            event.step = 1;\n        } else {\n            event.step = -1;\n        }\n        mouse_event_fn(event);\n    });\n\n    canvas_div.append(canvas);\n    canvas_div.append(rubberband);\n\n    this.rubberband = rubberband;\n    this.rubberband_canvas = rubberband[0];\n    this.rubberband_context = rubberband[0].getContext(\"2d\");\n    this.rubberband_context.strokeStyle = \"#000000\";\n\n    this._resize_canvas = function(width, height) {\n        // Keep the size of the canvas, canvas container, and rubber band\n        // canvas in synch.\n        canvas_div.css('width', width)\n        canvas_div.css('height', height)\n\n        canvas.attr('width', width * mpl.ratio);\n        canvas.attr('height', height * mpl.ratio);\n        canvas.attr('style', 'width: ' + width + 'px; height: ' + height + 'px;');\n\n        rubberband.attr('width', width);\n        rubberband.attr('height', height);\n    }\n\n    // Set the figure to an initial 600x600px, this will subsequently be updated\n    // upon first draw.\n    this._resize_canvas(600, 600);\n\n    // Disable right mouse context menu.\n    $(this.rubberband_canvas).bind(\"contextmenu\",function(e){\n        return false;\n    });\n\n    function set_focus () {\n        canvas.focus();\n        canvas_div.focus();\n    }\n\n    window.setTimeout(set_focus, 100);\n}\n\nmpl.figure.prototype._init_toolbar = function() {\n    var fig = this;\n\n    var nav_element = $('<div/>')\n    nav_element.attr('style', 'width: 100%');\n    this.root.append(nav_element);\n\n    // Define a callback function for later on.\n    function toolbar_event(event) {\n        return fig.toolbar_button_onclick(event['data']);\n    }\n    function toolbar_mouse_event(event) {\n        return fig.toolbar_button_onmouseover(event['data']);\n    }\n\n    for(var toolbar_ind in mpl.toolbar_items) {\n        var name = mpl.toolbar_items[toolbar_ind][0];\n        var tooltip = mpl.toolbar_items[toolbar_ind][1];\n        var image = mpl.toolbar_items[toolbar_ind][2];\n        var method_name = mpl.toolbar_items[toolbar_ind][3];\n\n        if (!name) {\n            // put a spacer in here.\n            continue;\n        }\n        var button = $('<button/>');\n        button.addClass('ui-button ui-widget ui-state-default ui-corner-all ' +\n                        'ui-button-icon-only');\n        button.attr('role', 'button');\n        button.attr('aria-disabled', 'false');\n        button.click(method_name, toolbar_event);\n        button.mouseover(tooltip, toolbar_mouse_event);\n\n        var icon_img = $('<span/>');\n        icon_img.addClass('ui-button-icon-primary ui-icon');\n        icon_img.addClass(image);\n        icon_img.addClass('ui-corner-all');\n\n        var tooltip_span = $('<span/>');\n        tooltip_span.addClass('ui-button-text');\n        tooltip_span.html(tooltip);\n\n        button.append(icon_img);\n        button.append(tooltip_span);\n\n        nav_element.append(button);\n    }\n\n    var fmt_picker_span = $('<span/>');\n\n    var fmt_picker = $('<select/>');\n    fmt_picker.addClass('mpl-toolbar-option ui-widget ui-widget-content');\n    fmt_picker_span.append(fmt_picker);\n    nav_element.append(fmt_picker_span);\n    this.format_dropdown = fmt_picker[0];\n\n    for (var ind in mpl.extensions) {\n        var fmt = mpl.extensions[ind];\n        var option = $(\n            '<option/>', {selected: fmt === mpl.default_extension}).html(fmt);\n        fmt_picker.append(option)\n    }\n\n    // Add hover states to the ui-buttons\n    $( \".ui-button\" ).hover(\n        function() { $(this).addClass(\"ui-state-hover\");},\n        function() { $(this).removeClass(\"ui-state-hover\");}\n    );\n\n    var status_bar = $('<span class=\"mpl-message\"/>');\n    nav_element.append(status_bar);\n    this.message = status_bar[0];\n}\n\nmpl.figure.prototype.request_resize = function(x_pixels, y_pixels) {\n    // Request matplotlib to resize the figure. Matplotlib will then trigger a resize in the client,\n    // which will in turn request a refresh of the image.\n    this.send_message('resize', {'width': x_pixels, 'height': y_pixels});\n}\n\nmpl.figure.prototype.send_message = function(type, properties) {\n    properties['type'] = type;\n    properties['figure_id'] = this.id;\n    this.ws.send(JSON.stringify(properties));\n}\n\nmpl.figure.prototype.send_draw_message = function() {\n    if (!this.waiting) {\n        this.waiting = true;\n        this.ws.send(JSON.stringify({type: \"draw\", figure_id: this.id}));\n    }\n}\n\n\nmpl.figure.prototype.handle_save = function(fig, msg) {\n    var format_dropdown = fig.format_dropdown;\n    var format = format_dropdown.options[format_dropdown.selectedIndex].value;\n    fig.ondownload(fig, format);\n}\n\n\nmpl.figure.prototype.handle_resize = function(fig, msg) {\n    var size = msg['size'];\n    if (size[0] != fig.canvas.width || size[1] != fig.canvas.height) {\n        fig._resize_canvas(size[0], size[1]);\n        fig.send_message(\"refresh\", {});\n    };\n}\n\nmpl.figure.prototype.handle_rubberband = function(fig, msg) {\n    var x0 = msg['x0'] / mpl.ratio;\n    var y0 = (fig.canvas.height - msg['y0']) / mpl.ratio;\n    var x1 = msg['x1'] / mpl.ratio;\n    var y1 = (fig.canvas.height - msg['y1']) / mpl.ratio;\n    x0 = Math.floor(x0) + 0.5;\n    y0 = Math.floor(y0) + 0.5;\n    x1 = Math.floor(x1) + 0.5;\n    y1 = Math.floor(y1) + 0.5;\n    var min_x = Math.min(x0, x1);\n    var min_y = Math.min(y0, y1);\n    var width = Math.abs(x1 - x0);\n    var height = Math.abs(y1 - y0);\n\n    fig.rubberband_context.clearRect(\n        0, 0, fig.canvas.width, fig.canvas.height);\n\n    fig.rubberband_context.strokeRect(min_x, min_y, width, height);\n}\n\nmpl.figure.prototype.handle_figure_label = function(fig, msg) {\n    // Updates the figure title.\n    fig.header.textContent = msg['label'];\n}\n\nmpl.figure.prototype.handle_cursor = function(fig, msg) {\n    var cursor = msg['cursor'];\n    switch(cursor)\n    {\n    case 0:\n        cursor = 'pointer';\n        break;\n    case 1:\n        cursor = 'default';\n        break;\n    case 2:\n        cursor = 'crosshair';\n        break;\n    case 3:\n        cursor = 'move';\n        break;\n    }\n    fig.rubberband_canvas.style.cursor = cursor;\n}\n\nmpl.figure.prototype.handle_message = function(fig, msg) {\n    fig.message.textContent = msg['message'];\n}\n\nmpl.figure.prototype.handle_draw = function(fig, msg) {\n    // Request the server to send over a new figure.\n    fig.send_draw_message();\n}\n\nmpl.figure.prototype.handle_image_mode = function(fig, msg) {\n    fig.image_mode = msg['mode'];\n}\n\nmpl.figure.prototype.updated_canvas_event = function() {\n    // Called whenever the canvas gets updated.\n    this.send_message(\"ack\", {});\n}\n\n// A function to construct a web socket function for onmessage handling.\n// Called in the figure constructor.\nmpl.figure.prototype._make_on_message_function = function(fig) {\n    return function socket_on_message(evt) {\n        if (evt.data instanceof Blob) {\n            /* FIXME: We get \"Resource interpreted as Image but\n             * transferred with MIME type text/plain:\" errors on\n             * Chrome.  But how to set the MIME type?  It doesn't seem\n             * to be part of the websocket stream */\n            evt.data.type = \"image/png\";\n\n            /* Free the memory for the previous frames */\n            if (fig.imageObj.src) {\n                (window.URL || window.webkitURL).revokeObjectURL(\n                    fig.imageObj.src);\n            }\n\n            fig.imageObj.src = (window.URL || window.webkitURL).createObjectURL(\n                evt.data);\n            fig.updated_canvas_event();\n            fig.waiting = false;\n            return;\n        }\n        else if (typeof evt.data === 'string' && evt.data.slice(0, 21) == \"data:image/png;base64\") {\n            fig.imageObj.src = evt.data;\n            fig.updated_canvas_event();\n            fig.waiting = false;\n            return;\n        }\n\n        var msg = JSON.parse(evt.data);\n        var msg_type = msg['type'];\n\n        // Call the  \"handle_{type}\" callback, which takes\n        // the figure and JSON message as its only arguments.\n        try {\n            var callback = fig[\"handle_\" + msg_type];\n        } catch (e) {\n            console.log(\"No handler for the '\" + msg_type + \"' message type: \", msg);\n            return;\n        }\n\n        if (callback) {\n            try {\n                // console.log(\"Handling '\" + msg_type + \"' message: \", msg);\n                callback(fig, msg);\n            } catch (e) {\n                console.log(\"Exception inside the 'handler_\" + msg_type + \"' callback:\", e, e.stack, msg);\n            }\n        }\n    };\n}\n\n// from http://stackoverflow.com/questions/1114465/getting-mouse-location-in-canvas\nmpl.findpos = function(e) {\n    //this section is from http://www.quirksmode.org/js/events_properties.html\n    var targ;\n    if (!e)\n        e = window.event;\n    if (e.target)\n        targ = e.target;\n    else if (e.srcElement)\n        targ = e.srcElement;\n    if (targ.nodeType == 3) // defeat Safari bug\n        targ = targ.parentNode;\n\n    // jQuery normalizes the pageX and pageY\n    // pageX,Y are the mouse positions relative to the document\n    // offset() returns the position of the element relative to the document\n    var x = e.pageX - $(targ).offset().left;\n    var y = e.pageY - $(targ).offset().top;\n\n    return {\"x\": x, \"y\": y};\n};\n\n/*\n * return a copy of an object with only non-object keys\n * we need this to avoid circular references\n * http://stackoverflow.com/a/24161582/3208463\n */\nfunction simpleKeys (original) {\n  return Object.keys(original).reduce(function (obj, key) {\n    if (typeof original[key] !== 'object')\n        obj[key] = original[key]\n    return obj;\n  }, {});\n}\n\nmpl.figure.prototype.mouse_event = function(event, name) {\n    var canvas_pos = mpl.findpos(event)\n\n    if (name === 'button_press')\n    {\n        this.canvas.focus();\n        this.canvas_div.focus();\n    }\n\n    var x = canvas_pos.x * mpl.ratio;\n    var y = canvas_pos.y * mpl.ratio;\n\n    this.send_message(name, {x: x, y: y, button: event.button,\n                             step: event.step,\n                             guiEvent: simpleKeys(event)});\n\n    /* This prevents the web browser from automatically changing to\n     * the text insertion cursor when the button is pressed.  We want\n     * to control all of the cursor setting manually through the\n     * 'cursor' event from matplotlib */\n    event.preventDefault();\n    return false;\n}\n\nmpl.figure.prototype._key_event_extra = function(event, name) {\n    // Handle any extra behaviour associated with a key event\n}\n\nmpl.figure.prototype.key_event = function(event, name) {\n\n    // Prevent repeat events\n    if (name == 'key_press')\n    {\n        if (event.which === this._key)\n            return;\n        else\n            this._key = event.which;\n    }\n    if (name == 'key_release')\n        this._key = null;\n\n    var value = '';\n    if (event.ctrlKey && event.which != 17)\n        value += \"ctrl+\";\n    if (event.altKey && event.which != 18)\n        value += \"alt+\";\n    if (event.shiftKey && event.which != 16)\n        value += \"shift+\";\n\n    value += 'k';\n    value += event.which.toString();\n\n    this._key_event_extra(event, name);\n\n    this.send_message(name, {key: value,\n                             guiEvent: simpleKeys(event)});\n    return false;\n}\n\nmpl.figure.prototype.toolbar_button_onclick = function(name) {\n    if (name == 'download') {\n        this.handle_save(this, null);\n    } else {\n        this.send_message(\"toolbar_button\", {name: name});\n    }\n};\n\nmpl.figure.prototype.toolbar_button_onmouseover = function(tooltip) {\n    this.message.textContent = tooltip;\n};\nmpl.toolbar_items = [[\"Home\", \"Reset original view\", \"fa fa-home icon-home\", \"home\"], [\"Back\", \"Back to previous view\", \"fa fa-arrow-left icon-arrow-left\", \"back\"], [\"Forward\", \"Forward to next view\", \"fa fa-arrow-right icon-arrow-right\", \"forward\"], [\"\", \"\", \"\", \"\"], [\"Pan\", \"Pan axes with left mouse, zoom with right\", \"fa fa-arrows icon-move\", \"pan\"], [\"Zoom\", \"Zoom to rectangle\", \"fa fa-square-o icon-check-empty\", \"zoom\"], [\"\", \"\", \"\", \"\"], [\"Download\", \"Download plot\", \"fa fa-floppy-o icon-save\", \"download\"]];\n\nmpl.extensions = [\"eps\", \"jpeg\", \"pdf\", \"png\", \"ps\", \"raw\", \"svg\", \"tif\"];\n\nmpl.default_extension = \"png\";var comm_websocket_adapter = function(comm) {\n    // Create a \"websocket\"-like object which calls the given IPython comm\n    // object with the appropriate methods. Currently this is a non binary\n    // socket, so there is still some room for performance tuning.\n    var ws = {};\n\n    ws.close = function() {\n        comm.close()\n    };\n    ws.send = function(m) {\n        //console.log('sending', m);\n        comm.send(m);\n    };\n    // Register the callback with on_msg.\n    comm.on_msg(function(msg) {\n        //console.log('receiving', msg['content']['data'], msg);\n        // Pass the mpl event to the overridden (by mpl) onmessage function.\n        ws.onmessage(msg['content']['data'])\n    });\n    return ws;\n}\n\nmpl.mpl_figure_comm = function(comm, msg) {\n    // This is the function which gets called when the mpl process\n    // starts-up an IPython Comm through the \"matplotlib\" channel.\n\n    var id = msg.content.data.id;\n    // Get hold of the div created by the display call when the Comm\n    // socket was opened in Python.\n    var element = $(\"#\" + id);\n    var ws_proxy = comm_websocket_adapter(comm)\n\n    function ondownload(figure, format) {\n        window.open(figure.imageObj.src);\n    }\n\n    var fig = new mpl.figure(id, ws_proxy,\n                           ondownload,\n                           element.get(0));\n\n    // Call onopen now - mpl needs it, as it is assuming we've passed it a real\n    // web socket which is closed, not our websocket->open comm proxy.\n    ws_proxy.onopen();\n\n    fig.parent_element = element.get(0);\n    fig.cell_info = mpl.find_output_cell(\"<div id='\" + id + \"'></div>\");\n    if (!fig.cell_info) {\n        console.error(\"Failed to find cell for figure\", id, fig);\n        return;\n    }\n\n    var output_index = fig.cell_info[2]\n    var cell = fig.cell_info[0];\n\n};\n\nmpl.figure.prototype.handle_close = function(fig, msg) {\n    var width = fig.canvas.width/mpl.ratio\n    fig.root.unbind('remove')\n\n    // Update the output cell to use the data from the current canvas.\n    fig.push_to_output();\n    var dataURL = fig.canvas.toDataURL();\n    // Re-enable the keyboard manager in IPython - without this line, in FF,\n    // the notebook keyboard shortcuts fail.\n    IPython.keyboard_manager.enable()\n    $(fig.parent_element).html('<img src=\"' + dataURL + '\" width=\"' + width + '\">');\n    fig.close_ws(fig, msg);\n}\n\nmpl.figure.prototype.close_ws = function(fig, msg){\n    fig.send_message('closing', msg);\n    // fig.ws.close()\n}\n\nmpl.figure.prototype.push_to_output = function(remove_interactive) {\n    // Turn the data on the canvas into data in the output cell.\n    var width = this.canvas.width/mpl.ratio\n    var dataURL = this.canvas.toDataURL();\n    this.cell_info[1]['text/html'] = '<img src=\"' + dataURL + '\" width=\"' + width + '\">';\n}\n\nmpl.figure.prototype.updated_canvas_event = function() {\n    // Tell IPython that the notebook contents must change.\n    IPython.notebook.set_dirty(true);\n    this.send_message(\"ack\", {});\n    var fig = this;\n    // Wait a second, then push the new image to the DOM so\n    // that it is saved nicely (might be nice to debounce this).\n    setTimeout(function () { fig.push_to_output() }, 1000);\n}\n\nmpl.figure.prototype._init_toolbar = function() {\n    var fig = this;\n\n    var nav_element = $('<div/>')\n    nav_element.attr('style', 'width: 100%');\n    this.root.append(nav_element);\n\n    // Define a callback function for later on.\n    function toolbar_event(event) {\n        return fig.toolbar_button_onclick(event['data']);\n    }\n    function toolbar_mouse_event(event) {\n        return fig.toolbar_button_onmouseover(event['data']);\n    }\n\n    for(var toolbar_ind in mpl.toolbar_items){\n        var name = mpl.toolbar_items[toolbar_ind][0];\n        var tooltip = mpl.toolbar_items[toolbar_ind][1];\n        var image = mpl.toolbar_items[toolbar_ind][2];\n        var method_name = mpl.toolbar_items[toolbar_ind][3];\n\n        if (!name) { continue; };\n\n        var button = $('<button class=\"btn btn-default\" href=\"#\" title=\"' + name + '\"><i class=\"fa ' + image + ' fa-lg\"></i></button>');\n        button.click(method_name, toolbar_event);\n        button.mouseover(tooltip, toolbar_mouse_event);\n        nav_element.append(button);\n    }\n\n    // Add the status bar.\n    var status_bar = $('<span class=\"mpl-message\" style=\"text-align:right; float: right;\"/>');\n    nav_element.append(status_bar);\n    this.message = status_bar[0];\n\n    // Add the close button to the window.\n    var buttongrp = $('<div class=\"btn-group inline pull-right\"></div>');\n    var button = $('<button class=\"btn btn-mini btn-primary\" href=\"#\" title=\"Stop Interaction\"><i class=\"fa fa-power-off icon-remove icon-large\"></i></button>');\n    button.click(function (evt) { fig.handle_close(fig, {}); } );\n    button.mouseover('Stop Interaction', toolbar_mouse_event);\n    buttongrp.append(button);\n    var titlebar = this.root.find($('.ui-dialog-titlebar'));\n    titlebar.prepend(buttongrp);\n}\n\nmpl.figure.prototype._root_extra_style = function(el){\n    var fig = this\n    el.on(\"remove\", function(){\n\tfig.close_ws(fig, {});\n    });\n}\n\nmpl.figure.prototype._canvas_extra_style = function(el){\n    // this is important to make the div 'focusable\n    el.attr('tabindex', 0)\n    // reach out to IPython and tell the keyboard manager to turn it's self\n    // off when our div gets focus\n\n    // location in version 3\n    if (IPython.notebook.keyboard_manager) {\n        IPython.notebook.keyboard_manager.register_events(el);\n    }\n    else {\n        // location in version 2\n        IPython.keyboard_manager.register_events(el);\n    }\n\n}\n\nmpl.figure.prototype._key_event_extra = function(event, name) {\n    var manager = IPython.notebook.keyboard_manager;\n    if (!manager)\n        manager = IPython.keyboard_manager;\n\n    // Check for shift+enter\n    if (event.shiftKey && event.which == 13) {\n        this.canvas_div.blur();\n        event.shiftKey = false;\n        // Send a \"J\" for go to next cell\n        event.which = 74;\n        event.keyCode = 74;\n        manager.command_mode();\n        manager.handle_keydown(event);\n    }\n}\n\nmpl.figure.prototype.handle_save = function(fig, msg) {\n    fig.ondownload(fig, null);\n}\n\n\nmpl.find_output_cell = function(html_output) {\n    // Return the cell and output element which can be found *uniquely* in the notebook.\n    // Note - this is a bit hacky, but it is done because the \"notebook_saving.Notebook\"\n    // IPython event is triggered only after the cells have been serialised, which for\n    // our purposes (turning an active figure into a static one), is too late.\n    var cells = IPython.notebook.get_cells();\n    var ncells = cells.length;\n    for (var i=0; i<ncells; i++) {\n        var cell = cells[i];\n        if (cell.cell_type === 'code'){\n            for (var j=0; j<cell.output_area.outputs.length; j++) {\n                var data = cell.output_area.outputs[j];\n                if (data.data) {\n                    // IPython >= 3 moved mimebundle to data attribute of output\n                    data = data.data;\n                }\n                if (data['text/html'] == html_output) {\n                    return [cell, data, j];\n                }\n            }\n        }\n    }\n}\n\n// Register the function which deals with the matplotlib target/channel.\n// The kernel may be null if the page has been refreshed.\nif (IPython.notebook.kernel != null) {\n    IPython.notebook.kernel.comm_manager.register_target('matplotlib', mpl.mpl_figure_comm);\n}\n",
          "text/plain": "<IPython.core.display.Javascript object>"
         },
         "metadata": {},
         "output_type": "display_data"
        },
        {
         "data": {
          "text/html": "<div id='77754a6b-1ffd-448a-a6c8-e1aca5a779c0'></div>",
          "text/plain": "<IPython.core.display.HTML object>"
         },
         "metadata": {},
         "output_type": "display_data"
        }
       ]
      }
     },
     "f84c568919bf4c908c3a3e528b50ea7c": {
      "model_module": "@jupyter-widgets/base",
      "model_module_version": "1.0.0",
      "model_name": "LayoutModel",
      "state": {}
     },
     "f86e0395846e4f21ad69e233a7057d70": {
      "model_module": "@jupyter-widgets/base",
      "model_module_version": "1.0.0",
      "model_name": "LayoutModel",
      "state": {}
     },
     "f889965d53dd4d22a31eef49bcf721f1": {
      "model_module": "@jupyter-widgets/base",
      "model_module_version": "1.0.0",
      "model_name": "LayoutModel",
      "state": {}
     },
     "f88c52311acc4850a5bb2087f1858a43": {
      "model_module": "@jupyter-widgets/base",
      "model_module_version": "1.0.0",
      "model_name": "LayoutModel",
      "state": {}
     },
     "f8b660f87cb148879546de10f9bd979f": {
      "model_module": "@jupyter-widgets/controls",
      "model_module_version": "1.2.0",
      "model_name": "DescriptionStyleModel",
      "state": {
       "description_width": ""
      }
     },
     "f8db67b157404943a3b4e04a89a54b3a": {
      "model_module": "@jupyter-widgets/controls",
      "model_module_version": "1.2.0",
      "model_name": "VBoxModel",
      "state": {
       "layout": "IPY_MODEL_69cfc051b2fb4beabc6bf2a791c91b3c"
      }
     },
     "f8ddd6e24e2f4c6eb543156b57eb56b6": {
      "model_module": "@jupyter-widgets/controls",
      "model_module_version": "1.2.0",
      "model_name": "DescriptionStyleModel",
      "state": {
       "description_width": ""
      }
     },
     "f93001bf9e0341ed896907320b0e59fc": {
      "model_module": "@jupyter-widgets/controls",
      "model_module_version": "1.2.0",
      "model_name": "HTMLModel",
      "state": {
       "layout": "IPY_MODEL_2c3878c2beb14843aad7cf77b4fe111d",
       "style": "IPY_MODEL_17ea8d57a1114e7fa4943d19b856f1a5",
       "value": "<b>X-line range:<b>"
      }
     },
     "f9384bc18b9b41288a676e169842fa1d": {
      "model_module": "@jupyter-widgets/controls",
      "model_module_version": "1.2.0",
      "model_name": "HBoxModel",
      "state": {
       "children": [
        "IPY_MODEL_42885c7c7b3e4836bd8ab3b67303f997",
        "IPY_MODEL_d56f555bda994dc39bc78119a698bffa"
       ],
       "layout": "IPY_MODEL_19992259b33f440d85e5a948b040f2cc"
      }
     },
     "f950bf19407f42f3b21cd8855ea0455e": {
      "model_module": "@jupyter-widgets/output",
      "model_module_version": "1.0.0",
      "model_name": "OutputModel",
      "state": {
       "layout": "IPY_MODEL_038961b83dff4ac5a7ccd5177aa04a8b"
      }
     },
     "f96b02b17633458daad6568c58c6e9dc": {
      "model_module": "@jupyter-widgets/controls",
      "model_module_version": "1.2.0",
      "model_name": "VBoxModel",
      "state": {
       "layout": "IPY_MODEL_e0b4625963524e6bbc946a311149dfc6"
      }
     },
     "f981476c5b254bdc8c2cacd4983dcf5b": {
      "model_module": "@jupyter-widgets/controls",
      "model_module_version": "1.2.0",
      "model_name": "VBoxModel",
      "state": {
       "children": [
        "IPY_MODEL_ca185b8865b24af4acb53da7f94a20e2"
       ],
       "layout": "IPY_MODEL_9d10a138182e45319bf82b75edcdef8b"
      }
     },
     "f98fdbfb4d0247368b228528667ce195": {
      "model_module": "@jupyter-widgets/controls",
      "model_module_version": "1.2.0",
      "model_name": "VBoxModel",
      "state": {
       "layout": "IPY_MODEL_b3affa8faae8463cb795cd3e16b75ace"
      }
     },
     "f99e8ee9b25e436c8aa735bfaa84a4ea": {
      "model_module": "@jupyter-widgets/controls",
      "model_module_version": "1.2.0",
      "model_name": "HTMLModel",
      "state": {
       "layout": "IPY_MODEL_9e160fe41dd64adfbde2f72a776f11eb",
       "style": "IPY_MODEL_389811be97b5450781cbcb272cc9636a",
       "value": "<b>VAE->UMAP 2-D parameters:<b>"
      }
     },
     "f9a2da1cfd9342a38e2c639493ec4b6e": {
      "model_module": "@jupyter-widgets/controls",
      "model_module_version": "1.2.0",
      "model_name": "HTMLModel",
      "state": {
       "layout": "IPY_MODEL_22771b4a75fa48efb1d7eb8207de6ecc",
       "style": "IPY_MODEL_717299f586654ef5ac977053957293ad",
       "value": "<b>Plot parameters:<b>"
      }
     },
     "f9d5aff3f3fe4f519fadc1c79049ec59": {
      "model_module": "@jupyter-widgets/controls",
      "model_module_version": "1.2.0",
      "model_name": "IntTextModel",
      "state": {
       "description": "Start:",
       "layout": "IPY_MODEL_2edecf2f77cc4794b169119fa0971b89",
       "step": 1,
       "style": "IPY_MODEL_c099c523987640d8908b3886ad90347b",
       "value": 1500
      }
     },
     "f9e89262a6b849cf916028ef2398056f": {
      "model_module": "@jupyter-widgets/controls",
      "model_module_version": "1.2.0",
      "model_name": "IntTextModel",
      "state": {
       "description": "Neighbours:",
       "layout": "IPY_MODEL_31771f49131e4ad993bdc82d2cb7dd94",
       "step": 1,
       "style": "IPY_MODEL_867a81451b5049e18327e522b93b7b5b",
       "value": 50
      }
     },
     "fa2cecebe49f49e49f082fc1c47d7e6d": {
      "model_module": "@jupyter-widgets/controls",
      "model_module_version": "1.2.0",
      "model_name": "VBoxModel",
      "state": {
       "children": [
        "IPY_MODEL_a5e076b888fa4a4d934d15a5e5d1d2c0",
        "IPY_MODEL_9c82349384ab4294944d2e7bf0c766dd",
        "IPY_MODEL_d7a891986a8144959f73bf24664d6931",
        "IPY_MODEL_8bef3503450d4ad399ce9700eba41962"
       ],
       "layout": "IPY_MODEL_464264c0aa9a440a81793f34864f1bae"
      }
     },
     "fa2f605ad19e4c42acb7961697d61dc5": {
      "model_module": "@jupyter-widgets/base",
      "model_module_version": "1.0.0",
      "model_name": "LayoutModel",
      "state": {
       "border": "4px solid black"
      }
     },
     "fa3938b2650f4fde8035cd122dd4e42e": {
      "model_module": "@jupyter-widgets/controls",
      "model_module_version": "1.2.0",
      "model_name": "HBoxModel",
      "state": {
       "children": [
        "IPY_MODEL_bbce94675a0d4dada3e6a9d58cce890d",
        "IPY_MODEL_9f9d45459cfa48dcaffa77fb6f37bb4e"
       ],
       "layout": "IPY_MODEL_4052c857cb0445e593fc044fee5e72d8"
      }
     },
     "fa396dcc615d44ea8a0178d69902b007": {
      "model_module": "@jupyter-widgets/base",
      "model_module_version": "1.0.0",
      "model_name": "LayoutModel",
      "state": {}
     },
     "fa520ac5fb334df8a81a0a9c2640db9e": {
      "model_module": "@jupyter-widgets/base",
      "model_module_version": "1.0.0",
      "model_name": "LayoutModel",
      "state": {}
     },
     "fa6a2b8fe69d439ebec5a6fe962111d7": {
      "model_module": "@jupyter-widgets/base",
      "model_module_version": "1.0.0",
      "model_name": "LayoutModel",
      "state": {}
     },
     "fa7baec70bbf4067b3879db09b0f58f0": {
      "model_module": "@jupyter-widgets/controls",
      "model_module_version": "1.2.0",
      "model_name": "IntTextModel",
      "state": {
       "description": "Step:",
       "layout": "IPY_MODEL_cd6d051a49be46f3a3c54734ac74a00e",
       "step": 1,
       "style": "IPY_MODEL_63307237263f42299e60f928ee6cca36",
       "value": 2
      }
     },
     "fa805b82b33f4e80b1f3a8f1f374a405": {
      "model_module": "@jupyter-widgets/base",
      "model_module_version": "1.0.0",
      "model_name": "LayoutModel",
      "state": {}
     },
     "fa863eb31acf4ec3958aa58b5e9c200f": {
      "model_module": "@jupyter-widgets/controls",
      "model_module_version": "1.2.0",
      "model_name": "IntTextModel",
      "state": {
       "description": "Below Add:",
       "layout": "IPY_MODEL_f73183682a894beca745c0475d63da68",
       "step": 1,
       "style": "IPY_MODEL_955ba1820e0f4008a340fdb9b33b46f3",
       "value": 52
      }
     },
     "fa89cb58f31645f8af60dee3108f26ae": {
      "model_module": "@jupyter-widgets/controls",
      "model_module_version": "1.2.0",
      "model_name": "HTMLModel",
      "state": {
       "layout": "IPY_MODEL_b4bf5f07f4ad468a8423495fd1b39386",
       "style": "IPY_MODEL_3bc5087b9e924ebe939604a9c151f34a",
       "value": "<b>In-line range:<b>"
      }
     },
     "fa967e926bcd4e6ba00e57da2701b2d4": {
      "model_module": "@jupyter-widgets/base",
      "model_module_version": "1.0.0",
      "model_name": "LayoutModel",
      "state": {}
     },
     "fab53fee2d2f40e3a2562f9ef04e620c": {
      "model_module": "@jupyter-widgets/controls",
      "model_module_version": "1.2.0",
      "model_name": "DescriptionStyleModel",
      "state": {
       "description_width": ""
      }
     },
     "fac678b798b24b789bcb14b3cf97937d": {
      "model_module": "@jupyter-widgets/controls",
      "model_module_version": "1.2.0",
      "model_name": "HTMLModel",
      "state": {
       "layout": "IPY_MODEL_454e0be27f014a58b4f809c5edc8a26e",
       "style": "IPY_MODEL_f8ddd6e24e2f4c6eb543156b57eb56b6",
       "value": "<b>X-line range:<b>"
      }
     },
     "fae46ee7ec7c4df3800b0604e71658a3": {
      "model_module": "@jupyter-widgets/controls",
      "model_module_version": "1.2.0",
      "model_name": "VBoxModel",
      "state": {
       "children": [
        "IPY_MODEL_ce095d9e325c4da8bde8a5702ab4a95c",
        "IPY_MODEL_2971619e26b243fb90636ed213f6751b",
        "IPY_MODEL_f4ac581479f747efa68372a5fa9420e3"
       ],
       "layout": "IPY_MODEL_1a44cfad0426415ba62ffa016c3aac2c"
      }
     },
     "fae4c4dab03843d89c5561498b838621": {
      "model_module": "@jupyter-widgets/output",
      "model_module_version": "1.0.0",
      "model_name": "OutputModel",
      "state": {
       "layout": "IPY_MODEL_f263c70e0fce48c5bbcd7b1b688d126b"
      }
     },
     "faf49c5a3ebb47fd8986793e9e8eb024": {
      "model_module": "@jupyter-widgets/controls",
      "model_module_version": "1.2.0",
      "model_name": "HTMLModel",
      "state": {
       "layout": "IPY_MODEL_dcd0c9e59fb040ada346e5b698611e69",
       "style": "IPY_MODEL_dc14ce9bb6354fbf818785ccc2f8b18b",
       "value": "<b>In-line range:<b>"
      }
     },
     "fb04488c9a894a54b7f603642d113fb6": {
      "model_module": "@jupyter-widgets/base",
      "model_module_version": "1.0.0",
      "model_name": "LayoutModel",
      "state": {}
     },
     "fb0c2e0924b643d2b6e94ce0b2791bee": {
      "model_module": "@jupyter-widgets/base",
      "model_module_version": "1.0.0",
      "model_name": "LayoutModel",
      "state": {}
     },
     "fb257cede36c4893a44446aa4a3d761f": {
      "model_module": "@jupyter-widgets/controls",
      "model_module_version": "1.2.0",
      "model_name": "DescriptionStyleModel",
      "state": {
       "description_width": ""
      }
     },
     "fb555ed6b449499ca5c29897062a79d8": {
      "model_module": "@jupyter-widgets/base",
      "model_module_version": "1.0.0",
      "model_name": "LayoutModel",
      "state": {}
     },
     "fb5b5481c212470c977533d27fb3cf72": {
      "model_module": "@jupyter-widgets/controls",
      "model_module_version": "1.2.0",
      "model_name": "TextModel",
      "state": {
       "description": "Far SEGY:",
       "layout": "IPY_MODEL_6fad41ddfcb84f83ac2296f9b372d6bc",
       "style": "IPY_MODEL_a1396fc741c24e9c9bab57a9d5fcf262",
       "value": "./data/3d_farstack.sgy"
      }
     },
     "fb7477b960be46d487ffa5feae115704": {
      "model_module": "@jupyter-widgets/controls",
      "model_module_version": "1.2.0",
      "model_name": "AccordionModel",
      "state": {
       "_titles": {
        "0": "UMAP",
        "1": "VAE",
        "2": "β-VAE"
       },
       "children": [
        "IPY_MODEL_c693ceda1191456c85a5e91fa3f6c226",
        "IPY_MODEL_9e4cda7618e8442a9c8db622a5dc018c",
        "IPY_MODEL_d1871fa843474c678431cfd85d73df20"
       ],
       "layout": "IPY_MODEL_c72188291ce945309fe0172cc1de42c5"
      }
     },
     "fb9f310c092a4d7cb1bf45db4947d3c9": {
      "model_module": "@jupyter-widgets/controls",
      "model_module_version": "1.2.0",
      "model_name": "VBoxModel",
      "state": {
       "children": [
        "IPY_MODEL_6cea9e9e338947f599ecd67733f83fc1",
        "IPY_MODEL_895b04dbb9ba4097815bce9b2e3c97aa",
        "IPY_MODEL_4f10793156164dc08984fac02a8666f8",
        "IPY_MODEL_c97cb60f24424f08be2cc5d323ec181e"
       ],
       "layout": "IPY_MODEL_a86b3d9050c946f5b1689e473f077e91"
      }
     },
     "fbde7f4f137149ae8d5c89da8a026b43": {
      "model_module": "@jupyter-widgets/controls",
      "model_module_version": "1.2.0",
      "model_name": "DescriptionStyleModel",
      "state": {
       "description_width": ""
      }
     },
     "fbe128d19f844050b78af858af734501": {
      "model_module": "@jupyter-widgets/base",
      "model_module_version": "1.0.0",
      "model_name": "LayoutModel",
      "state": {}
     },
     "fc178afdeee24a21bc2921102ce7f757": {
      "model_module": "@jupyter-widgets/controls",
      "model_module_version": "1.2.0",
      "model_name": "ButtonModel",
      "state": {
       "description": "Run Vae",
       "layout": "IPY_MODEL_adf3548c11954c81b1724e8e5a589700",
       "style": "IPY_MODEL_c0678dc527ad482d890f899edd59a141"
      }
     },
     "fc1a6a0cd0dd440a985964b19a29beb7": {
      "model_module": "@jupyter-widgets/controls",
      "model_module_version": "1.2.0",
      "model_name": "DropdownModel",
      "state": {
       "_options_labels": [
        "True",
        "False"
       ],
       "description": "True/False:",
       "index": 0,
       "layout": "IPY_MODEL_a596b4fe3697409d95d6445c7dc0f719",
       "style": "IPY_MODEL_1bdffe3c0dc242aab74553bc2cfd0aa8"
      }
     },
     "fc49bc9ef28d4329a3d10dc230c223d5": {
      "model_module": "@jupyter-widgets/base",
      "model_module_version": "1.0.0",
      "model_name": "LayoutModel",
      "state": {}
     },
     "fc4f841258404db78d85cc4e43834b5b": {
      "model_module": "@jupyter-widgets/controls",
      "model_module_version": "1.2.0",
      "model_name": "DescriptionStyleModel",
      "state": {
       "description_width": ""
      }
     },
     "fc7b38608a364ec68780209695c69e6f": {
      "model_module": "@jupyter-widgets/controls",
      "model_module_version": "1.2.0",
      "model_name": "IntTextModel",
      "state": {
       "description": "Epochs:",
       "layout": "IPY_MODEL_045c324bd1294dfd84a899b51fb16bfb",
       "step": 1,
       "style": "IPY_MODEL_359736eb8d7f402cbac6eab6a35f0df5",
       "value": 3
      }
     },
     "fc7d8cc43c8e4c6d9d7d9ec502fce8c7": {
      "model_module": "@jupyter-widgets/controls",
      "model_module_version": "1.2.0",
      "model_name": "ButtonStyleModel",
      "state": {}
     },
     "fc9a07a3d36a4b4c9323fc7f4a854af4": {
      "model_module": "@jupyter-widgets/base",
      "model_module_version": "1.0.0",
      "model_name": "LayoutModel",
      "state": {}
     },
     "fc9f7154f0d94740899a906f1c61cb02": {
      "model_module": "@jupyter-widgets/controls",
      "model_module_version": "1.2.0",
      "model_name": "DescriptionStyleModel",
      "state": {
       "description_width": ""
      }
     },
     "fcfb253a559244f2bf7fcd2a08af548e": {
      "model_module": "@jupyter-widgets/base",
      "model_module_version": "1.0.0",
      "model_name": "LayoutModel",
      "state": {}
     },
     "fd022b51ea924f1f934dd0c8b6a36d3f": {
      "model_module": "@jupyter-widgets/base",
      "model_module_version": "1.0.0",
      "model_name": "LayoutModel",
      "state": {}
     },
     "fd0315f961744c34af36e4df1596da50": {
      "model_module": "@jupyter-widgets/controls",
      "model_module_version": "1.2.0",
      "model_name": "IntTextModel",
      "state": {
       "description": "Step:",
       "layout": "IPY_MODEL_f178e1e3a5ed43e5a69b262a35ff7201",
       "step": 1,
       "style": "IPY_MODEL_b7b7f6835bd64d03ba398f572daaeebc",
       "value": 2
      }
     },
     "fd4dfa51da394310b4c8a8cf98a2f83b": {
      "model_module": "@jupyter-widgets/controls",
      "model_module_version": "1.2.0",
      "model_name": "IntTextModel",
      "state": {
       "description": "Stop:",
       "layout": "IPY_MODEL_52fa6dc5303e480f98cf63dd25a6bd98",
       "step": 1,
       "style": "IPY_MODEL_4f1ad4dc5e794d39aaa4ee6bb906ff27",
       "value": 1502
      }
     },
     "fd6f1312fdbd4a0fbbe320d62f8ea187": {
      "model_module": "@jupyter-widgets/controls",
      "model_module_version": "1.2.0",
      "model_name": "DescriptionStyleModel",
      "state": {
       "description_width": ""
      }
     },
     "fd8e46fa697e4aaa9868f57480c80c9b": {
      "model_module": "@jupyter-widgets/controls",
      "model_module_version": "1.2.0",
      "model_name": "BoundedFloatTextModel",
      "state": {
       "description": "Learn Rate:",
       "layout": "IPY_MODEL_5bd44244983348fb8294d09490bb1241",
       "max": 1,
       "min": 0.0001,
       "step": 0.005,
       "style": "IPY_MODEL_8adcb657cd0246c58283626336fb6af4",
       "value": 0.01
      }
     },
     "fdaf817526a446ab80b9a8e9179e4a39": {
      "model_module": "@jupyter-widgets/controls",
      "model_module_version": "1.2.0",
      "model_name": "DescriptionStyleModel",
      "state": {
       "description_width": ""
      }
     },
     "fdc0ca4f3e33441ca06b9e2becc0b69b": {
      "model_module": "@jupyter-widgets/controls",
      "model_module_version": "1.2.0",
      "model_name": "DescriptionStyleModel",
      "state": {
       "description_width": ""
      }
     },
     "fdec90dbebc84348817f0f99f68b6706": {
      "model_module": "@jupyter-widgets/controls",
      "model_module_version": "1.2.0",
      "model_name": "VBoxModel",
      "state": {
       "children": [
        "IPY_MODEL_69420d28653e48bbaca8276819e72320",
        "IPY_MODEL_936b7aa89c324c66be3c30ef53544874",
        "IPY_MODEL_f80ae7bf88374723abd1bbbd7ad6cab1",
        "IPY_MODEL_bd4ba7b9d6924361bf39362bd68e1147"
       ],
       "layout": "IPY_MODEL_c66583f56a1542b4a69a6457d0ff3259"
      }
     },
     "fe3fc0b545164292a7895a49bcf7e2e1": {
      "model_module": "@jupyter-widgets/controls",
      "model_module_version": "1.2.0",
      "model_name": "VBoxModel",
      "state": {
       "children": [
        "IPY_MODEL_8265b39b31fb4d8da302dd59b0183911",
        "IPY_MODEL_106773011b514c4d8f916889185a4028",
        "IPY_MODEL_38f7dbdf6fb341e1bf54e6b4f34a3f07"
       ],
       "layout": "IPY_MODEL_a485ca339d0b4c5bab95123b601a33f7"
      }
     },
     "fe4011e10e0a4117a44e28e1f89534f4": {
      "model_module": "@jupyter-widgets/controls",
      "model_module_version": "1.2.0",
      "model_name": "BoundedFloatTextModel",
      "state": {
       "description": "Min Dist:",
       "layout": "IPY_MODEL_e9ba02d0301f45af8652b5a20a3cbad1",
       "max": 1,
       "min": 0.0001,
       "step": 0.0001,
       "style": "IPY_MODEL_b5c10e990ada448f8986ace9bd01bca1",
       "value": 0.01
      }
     },
     "fe4a841edb4746fdacfc242b2ef48281": {
      "model_module": "@jupyter-widgets/controls",
      "model_module_version": "1.2.0",
      "model_name": "VBoxModel",
      "state": {
       "children": [
        "IPY_MODEL_b5b18e4be09c4b419d9273906cb3a75a",
        "IPY_MODEL_55af0397609e4c0288a98d3a36ebf333",
        "IPY_MODEL_1605bc8103c04932a088b79afa90aa48",
        "IPY_MODEL_d81af556c37a4130b1c3b2a9022572e9"
       ],
       "layout": "IPY_MODEL_418f74f790624471b718f188a5a78266"
      }
     },
     "fe5bd1cb0836491b9254228fe450aa66": {
      "model_module": "@jupyter-widgets/base",
      "model_module_version": "1.0.0",
      "model_name": "LayoutModel",
      "state": {}
     },
     "fec74fa149694529a48aabe2b2245d67": {
      "model_module": "@jupyter-widgets/controls",
      "model_module_version": "1.2.0",
      "model_name": "AccordionModel",
      "state": {
       "_titles": {
        "0": "UMAP",
        "1": "VAE",
        "2": "β-VAE"
       },
       "children": [
        "IPY_MODEL_e8791a3e7b034e488104c27e4a17350f",
        "IPY_MODEL_8f109b8e62b7442bb141e099df047f7e",
        "IPY_MODEL_71506534fbb34193b78f20fd1d9f7e98"
       ],
       "layout": "IPY_MODEL_1c0f2e1b20a545d7aa2f27da512ac84e"
      }
     },
     "ff0d36cf35364bc783a1a6c479710938": {
      "model_module": "@jupyter-widgets/base",
      "model_module_version": "1.0.0",
      "model_name": "LayoutModel",
      "state": {}
     },
     "ff5820be55994aeb9ab648877ccdfd30": {
      "model_module": "@jupyter-widgets/controls",
      "model_module_version": "1.2.0",
      "model_name": "ButtonStyleModel",
      "state": {}
     },
     "ff589ef8e8c94cad937ab182cd4920b2": {
      "model_module": "@jupyter-widgets/controls",
      "model_module_version": "1.2.0",
      "model_name": "DescriptionStyleModel",
      "state": {
       "description_width": ""
      }
     },
     "ff5a6254a1b6473b974be1d9aa2bc45f": {
      "model_module": "@jupyter-widgets/controls",
      "model_module_version": "1.2.0",
      "model_name": "VBoxModel",
      "state": {
       "children": [
        "IPY_MODEL_08e9fbd546004c27aefe8d3b96e5828d",
        "IPY_MODEL_8473d63177e143e6898d079b7570959c",
        "IPY_MODEL_31977288829a4baf8abd4d9fb12d4aab",
        "IPY_MODEL_88ccc2514c67499a830e6e7c2ede5327",
        "IPY_MODEL_b374cbc665b847db978b1a32b8342cc4"
       ],
       "layout": "IPY_MODEL_99741a85cc3f459fafb74cea55d0b84c"
      }
     },
     "ff82206aa4f8439db3b6438c5ec8b574": {
      "model_module": "@jupyter-widgets/controls",
      "model_module_version": "1.2.0",
      "model_name": "VBoxModel",
      "state": {
       "layout": "IPY_MODEL_193e56d87b3e438ab5e2ed36f7d7b9fc"
      }
     },
     "ff923b3859aa4e8ea1dfc07943d4eabc": {
      "model_module": "@jupyter-widgets/controls",
      "model_module_version": "1.2.0",
      "model_name": "ButtonStyleModel",
      "state": {}
     },
     "ff9890816f86435ab8a7c867cbc08cc6": {
      "model_module": "@jupyter-widgets/controls",
      "model_module_version": "1.2.0",
      "model_name": "DropdownModel",
      "state": {
       "_options_labels": [
        "horizon",
        "FF"
       ],
       "description": "Plot Attribute:",
       "index": 0,
       "layout": "IPY_MODEL_88b19edba5f74fd8b21f84778037f709",
       "style": "IPY_MODEL_33a91bd6cc984f26afd3a1f6082a8fe9"
      }
     },
     "fffef89306354c77be5f3168a3aa605f": {
      "model_module": "@jupyter-widgets/base",
      "model_module_version": "1.0.0",
      "model_name": "LayoutModel",
      "state": {}
     }
    },
    "version_major": 2,
    "version_minor": 0
   }
  }
 },
 "nbformat": 4,
 "nbformat_minor": 2
}
