{
 "cells": [
  {
   "cell_type": "code",
   "execution_count": 5,
   "metadata": {
    "code_folding": [
     4
    ]
   },
   "outputs": [],
   "source": [
    "from SeismicReduction import *\n",
    "import pickle\n",
    "import torch.nn as nn\n",
    "\n",
    "# load data\n",
    "file_pi2 = open('./pickled/data.pickle', 'rb')\n",
    "dataholder = pickle.load(file_pi2)\n",
    "file_pi2.close()"
   ]
  },
  {
   "cell_type": "code",
   "execution_count": 7,
   "metadata": {},
   "outputs": [
    {
     "name": "stdout",
     "output_type": "stream",
     "text": [
      "Processor has created an output with shape:  (25351, 2, 64)\n"
     ]
    }
   ],
   "source": [
    "### Processor\n",
    "processor = Processor(dataholder)\n",
    "input1 = processor(flatten=[True, 12, 52], normalise=True)"
   ]
  },
  {
   "cell_type": "code",
   "execution_count": 8,
   "metadata": {},
   "outputs": [
    {
     "name": "stdout",
     "output_type": "stream",
     "text": [
      "ModelAgent initialised\n"
     ]
    }
   ],
   "source": [
    "bvae = BVaeModel(input1)"
   ]
  },
  {
   "cell_type": "code",
   "execution_count": null,
   "metadata": {
    "scrolled": false
   },
   "outputs": [
    {
     "name": "stderr",
     "output_type": "stream",
     "text": [
      "/anaconda3/lib/python3.6/site-packages/torch/nn/_reduction.py:49: UserWarning: size_average and reduce args will be deprecated, please use reduction='sum' instead.\n",
      "  warnings.warn(warning.format(ret))\n"
     ]
    },
    {
     "name": "stdout",
     "output_type": "stream",
     "text": [
      "NOTE: embedding already reduced to 2D latent space, UMAP will not be run\n",
      "1 / 18\n",
      "NOTE: embedding already reduced to 2D latent space, UMAP will not be run\n",
      "2 / 18\n",
      "NOTE: embedding already reduced to 2D latent space, UMAP will not be run\n",
      "3 / 18\n",
      "NOTE: embedding already reduced to 2D latent space, UMAP will not be run\n",
      "4 / 18\n",
      "NOTE: embedding already reduced to 2D latent space, UMAP will not be run\n",
      "5 / 18\n",
      "NOTE: embedding already reduced to 2D latent space, UMAP will not be run\n",
      "6 / 18\n",
      "NOTE: embedding already reduced to 2D latent space, UMAP will not be run\n",
      "7 / 18\n"
     ]
    }
   ],
   "source": [
    "import copy \n",
    "\n",
    "betas = [0.5, 1, 1.5, 2, 2.5, 3, 3.5, 3.75, 3.85, 3.95, 4, 4.5, 5, 6, 7, 8, 9, 10]\n",
    "\n",
    "models = [i for i in range(len(betas))]\n",
    "ELBO = [i for i in range(len(betas))]\n",
    "\n",
    "for count, i in enumerate(betas):\n",
    "        bvae.reduce(epochs=3, hidden_size=2, lr=0.005, beta=i, plot_loss=False)\n",
    "        bvae.to_2d()\n",
    "        model = copy.deepcopy(bvae)\n",
    "        models[count] = model\n",
    "        print(count + 1, '/', len(betas))"
   ]
  },
  {
   "cell_type": "code",
   "execution_count": null,
   "metadata": {},
   "outputs": [],
   "source": [
    "def plot_agent(model, attr='FF', ax=False, count=False):\n",
    "    ax.set(#xlabel='Latent Variable 1',\n",
    "#            ylabel='Latent Variable 2',\n",
    "            title='Beta: {}'.format(\n",
    "                  betas[count]),\n",
    "            aspect='equal', xlim=(-5, 5) )\n",
    "\n",
    "    \n",
    "    scatter = ax.scatter(model.two_dimensions[:, 0],\n",
    "                         model.two_dimensions[:, 1],\n",
    "                         s=1.0,\n",
    "                         c=model.attributes[attr])\n",
    "\n",
    "    return scatter\n",
    "\n",
    "\n",
    "# axes are in a two-dimensional array, indexed by [row, col]\n",
    "fig, ax = plt.subplots(len(betas)//2, 2, figsize=(24, 12), sharex=False, sharey=False)\n",
    "fig.suptitle('Beta parameter investigation')\n",
    "fig.frameon = True\n",
    "\n",
    "for count, i in enumerate(betas):\n",
    "    a = plot_agent(models[count], ax=ax[int(count//2),int(count%2)], count=count)\n",
    "\n",
    "cbar = fig.colorbar(a, ax=ax.ravel().tolist(), shrink=0.7, orientation='vertical')\n",
    "cbar.set_label(label='AVO anomaly', rotation=90, labelpad=10)\n",
    "\n",
    "\n",
    "plt.show()"
   ]
  },
  {
   "cell_type": "code",
   "execution_count": 21,
   "metadata": {},
   "outputs": [
    {
     "data": {
      "image/png": "[encoded data removed]",
      "text/plain": [
       "<Figure size 720x720 with 2 Axes>"
      ]
     },
     "metadata": {},
     "output_type": "display_data"
    },
    {
     "data": {
      "text/plain": [
       "<matplotlib.collections.PathCollection at 0x1a1d5096a0>"
      ]
     },
     "execution_count": 21,
     "metadata": {},
     "output_type": "execute_result"
    }
   ],
   "source": [
    "from SeismicReduction import plot_agent as pa\n",
    "pa(models[-1])"
   ]
  },
  {
   "cell_type": "code",
   "execution_count": 31,
   "metadata": {},
   "outputs": [
    {
     "data": {
      "text/plain": [
       "2"
      ]
     },
     "execution_count": 31,
     "metadata": {},
     "output_type": "execute_result"
    }
   ],
   "source": [
    "5//2"
   ]
  },
  {
   "cell_type": "code",
   "execution_count": null,
   "metadata": {},
   "outputs": [],
   "source": []
  }
 ],
 "metadata": {
  "kernelspec": {
   "display_name": "Python 3",
   "language": "python",
   "name": "python3"
  },
  "language_info": {
   "codemirror_mode": {
    "name": "ipython",
    "version": 3
   },
   "file_extension": ".py",
   "mimetype": "text/x-python",
   "name": "python",
   "nbconvert_exporter": "python",
   "pygments_lexer": "ipython3",
   "version": "3.6.5"
  }
 },
 "nbformat": 4,
 "nbformat_minor": 2
}
