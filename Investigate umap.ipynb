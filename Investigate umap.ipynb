{
 "cells": [
  {
   "cell_type": "code",
   "execution_count": 3,
   "metadata": {
    "code_folding": [
     4
    ]
   },
   "outputs": [],
   "source": [
    "from SeismicReduction import *\n",
    "import pickle\n",
    "import torch.nn as nn\n",
    "\n",
    "# load data\n",
    "file_pi2 = open('./pickled/data.pickle', 'rb')\n",
    "dataholder = pickle.load(file_pi2)\n",
    "file_pi2.close()"
   ]
  },
  {
   "cell_type": "code",
   "execution_count": 4,
   "metadata": {
    "code_folding": [
     4,
     8,
     102
    ]
   },
   "outputs": [],
   "source": []
  },
  {
   "cell_type": "code",
   "execution_count": 5,
   "metadata": {},
   "outputs": [
    {
     "name": "stdout",
     "output_type": "stream",
     "text": [
      "Processor has created an output with shape:  (25351, 2, 64)\n"
     ]
    }
   ],
   "source": [
    "### Processor\n",
    "processor = Processor(dataholder)\n",
    "input1 = processor(flatten=[True, 12, 52], normalise=True)"
   ]
  },
  {
   "cell_type": "code",
   "execution_count": 6,
   "metadata": {},
   "outputs": [
    {
     "name": "stdout",
     "output_type": "stream",
     "text": [
      "ModelAgent initialised\n"
     ]
    }
   ],
   "source": [
    "bvae = BVaeModel(input1)\n"
   ]
  },
  {
   "cell_type": "code",
   "execution_count": 7,
   "metadata": {},
   "outputs": [
    {
     "data": {
      "image/png": "[encoded data removed]",
      "text/plain": [
       "<Figure size 1152x720 with 1 Axes>"
      ]
     },
     "metadata": {},
     "output_type": "display_data"
    },
    {
     "name": "stdout",
     "output_type": "stream",
     "text": [
      "ELBO:\n",
      "training   (min:  103.660, max:  121.702, cur:  103.660)\n",
      "validation (min:  100.289, max:  116.467, cur:  100.526)\n"
     ]
    }
   ],
   "source": [
    "bvae.reduce(epochs=20, hidden_size=8, lr=0.01, beta=1, plot_loss=True)"
   ]
  },
  {
   "cell_type": "markdown",
   "metadata": {},
   "source": [
    "# Run UMAP params:"
   ]
  },
  {
   "cell_type": "code",
   "execution_count": null,
   "metadata": {
    "scrolled": false
   },
   "outputs": [
    {
     "name": "stdout",
     "output_type": "stream",
     "text": [
      "\n",
      "2D UMAP representation of beta_VAE embedding initialised:\n",
      "\tInput dimension: (25351, 8)\n",
      "\t2-D UMAP representation complete\n",
      "\n",
      "0 0\n",
      "\n",
      "2D UMAP representation of beta_VAE embedding initialised:\n",
      "\tInput dimension: (25351, 8)\n"
     ]
    },
    {
     "name": "stderr",
     "output_type": "stream",
     "text": [
      "/anaconda3/lib/python3.6/site-packages/umap/spectral.py:229: UserWarning: Embedding a total of 3 separate connected components using meta-embedding (experimental)\n",
      "  n_components\n"
     ]
    },
    {
     "name": "stdout",
     "output_type": "stream",
     "text": [
      "\t2-D UMAP representation complete\n",
      "\n",
      "0 1\n",
      "\n",
      "2D UMAP representation of beta_VAE embedding initialised:\n",
      "\tInput dimension: (25351, 8)\n",
      "\t2-D UMAP representation complete\n",
      "\n",
      "0 2\n",
      "\n",
      "2D UMAP representation of beta_VAE embedding initialised:\n",
      "\tInput dimension: (25351, 8)\n",
      "\t2-D UMAP representation complete\n",
      "\n",
      "0 3\n",
      "\n",
      "2D UMAP representation of beta_VAE embedding initialised:\n",
      "\tInput dimension: (25351, 8)\n",
      "\t2-D UMAP representation complete\n",
      "\n",
      "1 0\n",
      "\n",
      "2D UMAP representation of beta_VAE embedding initialised:\n",
      "\tInput dimension: (25351, 8)\n",
      "\t2-D UMAP representation complete\n",
      "\n",
      "1 1\n",
      "\n",
      "2D UMAP representation of beta_VAE embedding initialised:\n",
      "\tInput dimension: (25351, 8)\n",
      "\t2-D UMAP representation complete\n",
      "\n",
      "1 2\n",
      "\n",
      "2D UMAP representation of beta_VAE embedding initialised:\n",
      "\tInput dimension: (25351, 8)\n",
      "\t2-D UMAP representation complete\n",
      "\n",
      "1 3\n",
      "\n",
      "2D UMAP representation of beta_VAE embedding initialised:\n",
      "\tInput dimension: (25351, 8)\n",
      "\t2-D UMAP representation complete\n",
      "\n",
      "2 0\n",
      "\n",
      "2D UMAP representation of beta_VAE embedding initialised:\n",
      "\tInput dimension: (25351, 8)\n",
      "\t2-D UMAP representation complete\n",
      "\n",
      "2 1\n",
      "\n",
      "2D UMAP representation of beta_VAE embedding initialised:\n",
      "\tInput dimension: (25351, 8)\n",
      "\t2-D UMAP representation complete\n",
      "\n",
      "2 2\n",
      "\n",
      "2D UMAP representation of beta_VAE embedding initialised:\n",
      "\tInput dimension: (25351, 8)\n",
      "\t2-D UMAP representation complete\n",
      "\n",
      "2 3\n",
      "\n",
      "2D UMAP representation of beta_VAE embedding initialised:\n",
      "\tInput dimension: (25351, 8)\n",
      "\t2-D UMAP representation complete\n",
      "\n",
      "3 0\n",
      "\n",
      "2D UMAP representation of beta_VAE embedding initialised:\n",
      "\tInput dimension: (25351, 8)\n",
      "\t2-D UMAP representation complete\n",
      "\n",
      "3 1\n",
      "\n",
      "2D UMAP representation of beta_VAE embedding initialised:\n",
      "\tInput dimension: (25351, 8)\n"
     ]
    }
   ],
   "source": [
    "import copy\n",
    "\n",
    "neighbours = [4, 10, 50, 100]\n",
    "dists = [0.0001, 0.001, 0.01, 0.2]\n",
    "\n",
    "# neighbours = [4, 10] #50, 100]\n",
    "# dists = [0.0001, 0.001] #, 0.01, 0.2]\n",
    "\n",
    "models = [[i for i in range(len(dists))] for i in range(len(neighbours))]\n",
    "\n",
    "for i in range(len(neighbours)):\n",
    "    for j in range(len(dists)):\n",
    "        bvae.to_2d(umap_neighbours=neighbours[i], umap_dist=dists[j])\n",
    "        models[i][j] = copy.deepcopy(bvae)\n",
    "        print(i, j)\n",
    "        \n"
   ]
  },
  {
   "cell_type": "markdown",
   "metadata": {},
   "source": [
    "# Run plots"
   ]
  },
  {
   "cell_type": "code",
   "execution_count": null,
   "metadata": {},
   "outputs": [],
   "source": [
    "def plot_agent(model, attr='FF', ax=False):\n",
    "    ax.set(#xlabel='Latent Variable 1',\n",
    "#            ylabel='Latent Variable 2',\n",
    "#            title='Model used: {}, Trace Attribute: {}'.format(\n",
    "#                model.name, attr),\n",
    "           aspect='equal') #, xlim=(-15,15), ylim=(-15,15))\n",
    "    scatter = ax.scatter(model.two_dimensions[:, 0],\n",
    "                         model.two_dimensions[:, 1],\n",
    "                         s=0.5,\n",
    "                         c=model.attributes[attr])\n",
    "    return\n",
    "\n",
    "\n",
    "# axes are in a two-dimensional array, indexed by [row, col]\n",
    "fig, ax = plt.subplots(len(neighbours), len(dists), sharex='col', sharey='row', figsize=(18, 18), \n",
    "                       gridspec_kw={'hspace': 0, 'wspace': 0})\n",
    "fig.tight_layout()\n",
    "fig.suptitle('UMAP parameter investigation')\n",
    "\n",
    "print(models)\n",
    "\n",
    "for i in range(len(neighbours)):\n",
    "    for j in range(len(dists)):\n",
    "        plot_agent(model=models[i][j], ax=ax[i, j])\n",
    "\n",
    "for ax in fig.get_axes():\n",
    "    ax.label_outer()\n",
    "    \n",
    "plt.show()"
   ]
  },
  {
   "cell_type": "code",
   "execution_count": null,
   "metadata": {},
   "outputs": [],
   "source": []
  },
  {
   "cell_type": "code",
   "execution_count": null,
   "metadata": {},
   "outputs": [],
   "source": []
  }
 ],
 "metadata": {
  "kernelspec": {
   "display_name": "Python 3",
   "language": "python",
   "name": "python3"
  }
 },
 "nbformat": 4,
 "nbformat_minor": 2
}
