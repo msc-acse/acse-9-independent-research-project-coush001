{
 "cells": [
  {
   "cell_type": "code",
   "execution_count": 1,
   "metadata": {},
   "outputs": [],
   "source": [
    "from SeismicReduction import *\n",
    "import pickle"
   ]
  },
  {
   "cell_type": "code",
   "execution_count": 2,
   "metadata": {},
   "outputs": [],
   "source": [
    "### Client loader\n",
    "# set_seed(42)\n",
    "# dataholder = DataHolder(\"Glitne\", [1300, 1502, 2], [1500, 2002, 2])\n",
    "# dataholder.add_near('./data/3d_nearstack.sgy');\n",
    "# dataholder.add_far('./data/3d_farstack.sgy');\n",
    "# dataholder.add_horizon('./data/Top_Heimdal_subset.txt')\n",
    "\n",
    "# load data\n",
    "file_pi2 = open('./pickled/data.pickle', 'rb')\n",
    "dataholder = pickle.load(file_pi2)\n",
    "file_pi2.close()"
   ]
  },
  {
   "cell_type": "code",
   "execution_count": 3,
   "metadata": {},
   "outputs": [
    {
     "name": "stdout",
     "output_type": "stream",
     "text": [
      "Processor has created an output with shape:  (25351, 2, 88)\n"
     ]
    }
   ],
   "source": [
    "### Processor\n",
    "processor = Processor(dataholder)\n",
    "input1 = processor(flatten=[True, 24, 64], normalise=True)"
   ]
  },
  {
   "cell_type": "code",
   "execution_count": null,
   "metadata": {},
   "outputs": [],
   "source": []
  },
  {
   "cell_type": "code",
   "execution_count": 4,
   "metadata": {},
   "outputs": [],
   "source": [
    "## PCA\n",
    "# pca = PcaModel(input1)\n",
    "# pca.reduce(3)\n",
    "# pca.to_2d(umap_neighbours=5, umap_dist=0.1, verbose=False)"
   ]
  },
  {
   "cell_type": "code",
   "execution_count": 5,
   "metadata": {},
   "outputs": [],
   "source": [
    "# umap = UmapModel(input1)\n",
    "# umap.reduce()\n",
    "# umap.to_2d(10, 0.1)"
   ]
  },
  {
   "cell_type": "code",
   "execution_count": 6,
   "metadata": {},
   "outputs": [],
   "source": [
    "# vae = VaeModel(input1)\n",
    "vae.reduce(epochs=10, hidden_size=2, lr=0.01, recon_loss_method='dist', plot_loss=True)\n",
    "# vae.to_2d(20, 0.1)"
   ]
  },
  {
   "cell_type": "code",
   "execution_count": 7,
   "metadata": {},
   "outputs": [],
   "source": [
    "# bvae = BVaeModel(input1)\n",
    "# bvae.reduce(epochs=10, hidden_size=2, lr=0.01, beta=5, plot_loss=True)\n",
    "# bvae.to_2d(20, 0.1)"
   ]
  },
  {
   "cell_type": "code",
   "execution_count": 8,
   "metadata": {},
   "outputs": [],
   "source": [
    "# plot_agent(pca, 'horizon')"
   ]
  },
  {
   "cell_type": "code",
   "execution_count": 9,
   "metadata": {},
   "outputs": [],
   "source": [
    "# plot_agent(umap)"
   ]
  },
  {
   "cell_type": "code",
   "execution_count": 10,
   "metadata": {},
   "outputs": [],
   "source": [
    "# plot_agent(vae)"
   ]
  },
  {
   "cell_type": "code",
   "execution_count": 12,
   "metadata": {},
   "outputs": [],
   "source": [
    "# plot_agent(bvae, 'horizon')"
   ]
  },
  {
   "cell_type": "code",
   "execution_count": 13,
   "metadata": {},
   "outputs": [],
   "source": [
    "# vae.save_nn('./saved_nn/vae1')"
   ]
  },
  {
   "cell_type": "code",
   "execution_count": 14,
   "metadata": {},
   "outputs": [],
   "source": [
    "# loaded = VaeModel(input1)\n",
    "# loaded.load_nn('./saved_nn/vae1')\n",
    "# loaded.reduce()"
   ]
  },
  {
   "cell_type": "code",
   "execution_count": 15,
   "metadata": {},
   "outputs": [],
   "source": [
    "# loaded.to_2d()"
   ]
  },
  {
   "cell_type": "code",
   "execution_count": 16,
   "metadata": {},
   "outputs": [],
   "source": [
    "# plot_agent(loaded)"
   ]
  },
  {
   "cell_type": "code",
   "execution_count": null,
   "metadata": {},
   "outputs": [],
   "source": []
  },
  {
   "cell_type": "markdown",
   "metadata": {},
   "source": [
    "# Recon loss testing:"
   ]
  },
  {
   "cell_type": "code",
   "execution_count": 25,
   "metadata": {},
   "outputs": [
    {
     "name": "stdout",
     "output_type": "stream",
     "text": [
      "MSE: 3260.13916015625 \n",
      " dist 6576.60205078125 \n",
      " man_mse 3260.1392 \n",
      " bce 3260.1392 \n",
      "\n"
     ]
    },
    {
     "name": "stderr",
     "output_type": "stream",
     "text": [
      "/anaconda3/lib/python3.6/site-packages/torch/nn/_reduction.py:49: UserWarning: size_average and reduce args will be deprecated, please use reduction='sum' instead.\n",
      "  warnings.warn(warning.format(ret))\n"
     ]
    }
   ],
   "source": [
    "samples = 1000\n",
    "vec_length = 10\n",
    "recon = torch.rand((samples,2,vec_length), requires_grad=True)\n",
    "in1 = torch.rand((samples,2,vec_length))\n",
    "\n",
    "criterion_mse = nn.MSELoss(size_average=False)\n",
    "\n",
    "MSE = criterion_mse(recon, in1)\n",
    "\n",
    "dist = torch.dist(recon, in1, 1)\n",
    "\n",
    "man_mse = np.sum( np.power(recon.detach().numpy() - in1.detach().numpy(), 2) )\n",
    "\n",
    "bce = nn.functional.binary_cross_entropy(recon, in1, size_average=False)\n",
    "\n",
    "\n",
    "print('MSE:', MSE.item(), '\\n',\n",
    "      'dist', dist.item(), '\\n',\n",
    "      'man_mse', man_mse, '\\n',\n",
    "      'bce', man_mse, '\\n',\n",
    ")"
   ]
  },
  {
   "cell_type": "code",
   "execution_count": null,
   "metadata": {},
   "outputs": [],
   "source": []
  },
  {
   "cell_type": "code",
   "execution_count": null,
   "metadata": {},
   "outputs": [],
   "source": []
  }
 ],
 "metadata": {
  "kernelspec": {
   "display_name": "Python 3",
   "language": "python",
   "name": "python3"
  },
  "language_info": {
   "codemirror_mode": {
    "name": "ipython",
    "version": 3
   },
   "file_extension": ".py",
   "mimetype": "text/x-python",
   "name": "python",
   "nbconvert_exporter": "python",
   "pygments_lexer": "ipython3",
   "version": "3.6.5"
  }
 },
 "nbformat": 4,
 "nbformat_minor": 2
}
